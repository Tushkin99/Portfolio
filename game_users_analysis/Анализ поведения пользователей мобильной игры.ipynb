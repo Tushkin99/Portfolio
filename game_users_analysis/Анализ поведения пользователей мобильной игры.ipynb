{
 "cells": [
  {
   "cell_type": "markdown",
   "metadata": {},
   "source": [
    "<span style=\"font-size: 1.5em\">Анализ поведения пользователей мобильной игры</span>"
   ]
  },
  {
   "cell_type": "markdown",
   "metadata": {},
   "source": [
    "Я аналитик, анализирующий поведение пользователей игры \"Космические братья\". В ней пользователи строят свою космическую программу и пытаются преуспеть в нелёгком деле колонизации галактики. Основная монетизация игры — только планируется. Но предполагается, что в приложении будет происходить показ рекламы на экране с выбором типа объекта для постройки. \\\n",
    "В датасете представлены данные по игре пользователей на первом уровне.\n",
    "Завершение первого уровня требует от игрока выполнения одного из двух\n",
    "условий:\n",
    " - Победа над первым врагом\n",
    " - Реализация проекта - разработка орбитальной сборки спутников\n"
   ]
  },
  {
   "cell_type": "markdown",
   "metadata": {},
   "source": [
    "Задачи: \n",
    "- проведение исследовательского анализа данных;\n",
    "- анализ влияния источника перехода в игру на поведение пользователя;\n",
    "- проверка статистических гипотез о продолжительности прохождения первого уровня и числе построенных зданий для игроков, выбравших разные стратегии игры: \"победа над врагом\" и \"реализация проекта\""
   ]
  },
  {
   "cell_type": "markdown",
   "metadata": {},
   "source": [
    "В основном датасете game_actions.csv содержатся данные первых пользователей приложения — когорты пользователей, которые начали пользоваться приложением в период с 4 по 10 мая включительно."
   ]
  },
  {
   "cell_type": "markdown",
   "metadata": {},
   "source": [
    "Датасет game_actions.csv:\n",
    "- event_datetime — время события;\n",
    "- event — одно из трёх событий:\n",
    "1. building — объект построен,\n",
    "2. finished_stage_1 — первый уровень завершён,\n",
    "3. project — проект завершён;\n",
    "- building_type — один из трёх типов здания:\n",
    "1. assembly_shop — сборочный цех,\n",
    "2. spaceport — космопорт,\n",
    "3. research_center — исследовательский центр;\n",
    "- user_id — идентификатор пользователя;\n",
    "- project_type — тип реализованного проекта;"
   ]
  },
  {
   "cell_type": "markdown",
   "metadata": {},
   "source": [
    "Помимо основного датасета есть два датасета с информацией о рекламных активностях. Они также помогут в решении задачи.\n",
    "Датасет ad_costs.csv:\n",
    "- day - день, в который был совершен клик по объявлению\n",
    "- source - источник трафика\n",
    "- cost - стоимость кликов"
   ]
  },
  {
   "cell_type": "markdown",
   "metadata": {},
   "source": [
    "Датасет user_source.csv содержит колонки:\n",
    "- user_id - идентификатор пользователя\n",
    "- source - источников, с которого пришёл пользователь, установивший приложение"
   ]
  },
  {
   "cell_type": "markdown",
   "metadata": {},
   "source": [
    "<span style=\"font-size: 1.5em\">Часть 1. Загрузка данных и изучение общей информации</span>"
   ]
  },
  {
   "cell_type": "code",
   "execution_count": 1,
   "metadata": {},
   "outputs": [],
   "source": [
    "import pandas as pd\n",
    "import warnings\n",
    "warnings.filterwarnings('ignore')\n",
    "import matplotlib.pyplot as plt\n",
    "import seaborn as sns\n",
    "import scipy.stats as stats\n",
    "import matplotlib.ticker as ticker\n",
    "%matplotlib inline\n",
    "import numpy as np"
   ]
  },
  {
   "cell_type": "code",
   "execution_count": 2,
   "metadata": {
    "scrolled": true
   },
   "outputs": [
    {
     "data": {
      "text/html": [
       "<div>\n",
       "<style scoped>\n",
       "    .dataframe tbody tr th:only-of-type {\n",
       "        vertical-align: middle;\n",
       "    }\n",
       "\n",
       "    .dataframe tbody tr th {\n",
       "        vertical-align: top;\n",
       "    }\n",
       "\n",
       "    .dataframe thead th {\n",
       "        text-align: right;\n",
       "    }\n",
       "</style>\n",
       "<table border=\"1\" class=\"dataframe\">\n",
       "  <thead>\n",
       "    <tr style=\"text-align: right;\">\n",
       "      <th></th>\n",
       "      <th>event_datetime</th>\n",
       "      <th>event</th>\n",
       "      <th>building_type</th>\n",
       "      <th>user_id</th>\n",
       "      <th>project_type</th>\n",
       "    </tr>\n",
       "  </thead>\n",
       "  <tbody>\n",
       "    <tr>\n",
       "      <th>0</th>\n",
       "      <td>2020-05-04 00:00:01</td>\n",
       "      <td>building</td>\n",
       "      <td>assembly_shop</td>\n",
       "      <td>55e92310-cb8e-4754-b622-597e124b03de</td>\n",
       "      <td>NaN</td>\n",
       "    </tr>\n",
       "    <tr>\n",
       "      <th>1</th>\n",
       "      <td>2020-05-04 00:00:03</td>\n",
       "      <td>building</td>\n",
       "      <td>assembly_shop</td>\n",
       "      <td>c07b1c10-f477-44dc-81dc-ec82254b1347</td>\n",
       "      <td>NaN</td>\n",
       "    </tr>\n",
       "    <tr>\n",
       "      <th>2</th>\n",
       "      <td>2020-05-04 00:00:16</td>\n",
       "      <td>building</td>\n",
       "      <td>assembly_shop</td>\n",
       "      <td>6edd42cc-e753-4ff6-a947-2107cd560710</td>\n",
       "      <td>NaN</td>\n",
       "    </tr>\n",
       "    <tr>\n",
       "      <th>3</th>\n",
       "      <td>2020-05-04 00:00:16</td>\n",
       "      <td>building</td>\n",
       "      <td>assembly_shop</td>\n",
       "      <td>92c69003-d60a-444a-827f-8cc51bf6bf4c</td>\n",
       "      <td>NaN</td>\n",
       "    </tr>\n",
       "    <tr>\n",
       "      <th>4</th>\n",
       "      <td>2020-05-04 00:00:35</td>\n",
       "      <td>building</td>\n",
       "      <td>assembly_shop</td>\n",
       "      <td>cdc6bb92-0ccb-4490-9866-ef142f09139d</td>\n",
       "      <td>NaN</td>\n",
       "    </tr>\n",
       "  </tbody>\n",
       "</table>\n",
       "</div>"
      ],
      "text/plain": [
       "        event_datetime     event  building_type  \\\n",
       "0  2020-05-04 00:00:01  building  assembly_shop   \n",
       "1  2020-05-04 00:00:03  building  assembly_shop   \n",
       "2  2020-05-04 00:00:16  building  assembly_shop   \n",
       "3  2020-05-04 00:00:16  building  assembly_shop   \n",
       "4  2020-05-04 00:00:35  building  assembly_shop   \n",
       "\n",
       "                                user_id project_type  \n",
       "0  55e92310-cb8e-4754-b622-597e124b03de          NaN  \n",
       "1  c07b1c10-f477-44dc-81dc-ec82254b1347          NaN  \n",
       "2  6edd42cc-e753-4ff6-a947-2107cd560710          NaN  \n",
       "3  92c69003-d60a-444a-827f-8cc51bf6bf4c          NaN  \n",
       "4  cdc6bb92-0ccb-4490-9866-ef142f09139d          NaN  "
      ]
     },
     "execution_count": 2,
     "metadata": {},
     "output_type": "execute_result"
    }
   ],
   "source": [
    "#загрузим датафрейм с информацией о действиях пользователей в играх\n",
    "games = pd.read_csv('.../.../game_actions.csv')\n",
    "games.head()"
   ]
  },
  {
   "cell_type": "code",
   "execution_count": 3,
   "metadata": {},
   "outputs": [
    {
     "name": "stdout",
     "output_type": "stream",
     "text": [
      "<class 'pandas.core.frame.DataFrame'>\n",
      "RangeIndex: 135640 entries, 0 to 135639\n",
      "Data columns (total 5 columns):\n",
      " #   Column          Non-Null Count   Dtype \n",
      "---  ------          --------------   ----- \n",
      " 0   event_datetime  135640 non-null  object\n",
      " 1   event           135640 non-null  object\n",
      " 2   building_type   127957 non-null  object\n",
      " 3   user_id         135640 non-null  object\n",
      " 4   project_type    1866 non-null    object\n",
      "dtypes: object(5)\n",
      "memory usage: 5.2+ MB\n"
     ]
    }
   ],
   "source": [
    "games.info()"
   ]
  },
  {
   "cell_type": "markdown",
   "metadata": {},
   "source": [
    "Все поля в датафрейме имеют тип object. В поле building_type отсутствует незначительное количество данных. В поле project_type подавляющее большинство значений отстутствует. Всего в датафрейме более 135 тыс. действий, совершенных пользователями."
   ]
  },
  {
   "cell_type": "code",
   "execution_count": 4,
   "metadata": {},
   "outputs": [
    {
     "data": {
      "text/plain": [
       "array(['building', 'finished_stage_1', 'project'], dtype=object)"
      ]
     },
     "execution_count": 4,
     "metadata": {},
     "output_type": "execute_result"
    }
   ],
   "source": [
    "games['event'].unique()"
   ]
  },
  {
   "cell_type": "markdown",
   "metadata": {},
   "source": [
    "В поле event всего три уникальных значения: построенное здание, окончание 1 стадии и реализация проекта."
   ]
  },
  {
   "cell_type": "code",
   "execution_count": 5,
   "metadata": {},
   "outputs": [
    {
     "data": {
      "text/plain": [
       "array(['assembly_shop', 'spaceport', nan, 'research_center'], dtype=object)"
      ]
     },
     "execution_count": 5,
     "metadata": {},
     "output_type": "execute_result"
    }
   ],
   "source": [
    "games['building_type'].unique()"
   ]
  },
  {
   "cell_type": "markdown",
   "metadata": {},
   "source": [
    "Существует 3 различных вида зданий, которые строят игроки. Однако подробной информации о том, что они дают игрокам, у нас в доступе нет."
   ]
  },
  {
   "cell_type": "code",
   "execution_count": 6,
   "metadata": {
    "scrolled": true
   },
   "outputs": [
    {
     "data": {
      "text/plain": [
       "array([nan, 'satellite_orbital_assembly'], dtype=object)"
      ]
     },
     "execution_count": 6,
     "metadata": {},
     "output_type": "execute_result"
    }
   ],
   "source": [
    "games['project_type'].unique()"
   ]
  },
  {
   "cell_type": "markdown",
   "metadata": {},
   "source": [
    "В датасете присутствует только один тип проекта - строительство орбитальной станции."
   ]
  },
  {
   "cell_type": "code",
   "execution_count": 7,
   "metadata": {},
   "outputs": [
    {
     "data": {
      "text/plain": [
       "'2020-05-04 00:00:01'"
      ]
     },
     "execution_count": 7,
     "metadata": {},
     "output_type": "execute_result"
    }
   ],
   "source": [
    "games['event_datetime'].min()"
   ]
  },
  {
   "cell_type": "code",
   "execution_count": 8,
   "metadata": {
    "scrolled": true
   },
   "outputs": [
    {
     "data": {
      "text/plain": [
       "'2020-06-05 12:32:49'"
      ]
     },
     "execution_count": 8,
     "metadata": {},
     "output_type": "execute_result"
    }
   ],
   "source": [
    "games['event_datetime'].max()"
   ]
  },
  {
   "cell_type": "markdown",
   "metadata": {},
   "source": [
    "Временной горизонт датафрейма с 4 мая по 5 июня 2020 года."
   ]
  },
  {
   "cell_type": "code",
   "execution_count": 9,
   "metadata": {
    "scrolled": true
   },
   "outputs": [
    {
     "data": {
      "text/html": [
       "<div>\n",
       "<style scoped>\n",
       "    .dataframe tbody tr th:only-of-type {\n",
       "        vertical-align: middle;\n",
       "    }\n",
       "\n",
       "    .dataframe tbody tr th {\n",
       "        vertical-align: top;\n",
       "    }\n",
       "\n",
       "    .dataframe thead th {\n",
       "        text-align: right;\n",
       "    }\n",
       "</style>\n",
       "<table border=\"1\" class=\"dataframe\">\n",
       "  <thead>\n",
       "    <tr style=\"text-align: right;\">\n",
       "      <th></th>\n",
       "      <th>source</th>\n",
       "      <th>day</th>\n",
       "      <th>cost</th>\n",
       "    </tr>\n",
       "  </thead>\n",
       "  <tbody>\n",
       "    <tr>\n",
       "      <th>0</th>\n",
       "      <td>facebook_ads</td>\n",
       "      <td>2020-05-03</td>\n",
       "      <td>935.882786</td>\n",
       "    </tr>\n",
       "    <tr>\n",
       "      <th>1</th>\n",
       "      <td>facebook_ads</td>\n",
       "      <td>2020-05-04</td>\n",
       "      <td>548.354480</td>\n",
       "    </tr>\n",
       "    <tr>\n",
       "      <th>2</th>\n",
       "      <td>facebook_ads</td>\n",
       "      <td>2020-05-05</td>\n",
       "      <td>260.185754</td>\n",
       "    </tr>\n",
       "    <tr>\n",
       "      <th>3</th>\n",
       "      <td>facebook_ads</td>\n",
       "      <td>2020-05-06</td>\n",
       "      <td>177.982200</td>\n",
       "    </tr>\n",
       "    <tr>\n",
       "      <th>4</th>\n",
       "      <td>facebook_ads</td>\n",
       "      <td>2020-05-07</td>\n",
       "      <td>111.766796</td>\n",
       "    </tr>\n",
       "  </tbody>\n",
       "</table>\n",
       "</div>"
      ],
      "text/plain": [
       "         source         day        cost\n",
       "0  facebook_ads  2020-05-03  935.882786\n",
       "1  facebook_ads  2020-05-04  548.354480\n",
       "2  facebook_ads  2020-05-05  260.185754\n",
       "3  facebook_ads  2020-05-06  177.982200\n",
       "4  facebook_ads  2020-05-07  111.766796"
      ]
     },
     "execution_count": 9,
     "metadata": {},
     "output_type": "execute_result"
    }
   ],
   "source": [
    "#загрузим датафрейм с рекламными расходами по дням\n",
    "costs = pd.read_csv('.../.../ad_costs.csv')\n",
    "costs.head()"
   ]
  },
  {
   "cell_type": "code",
   "execution_count": 10,
   "metadata": {},
   "outputs": [
    {
     "name": "stdout",
     "output_type": "stream",
     "text": [
      "<class 'pandas.core.frame.DataFrame'>\n",
      "RangeIndex: 28 entries, 0 to 27\n",
      "Data columns (total 3 columns):\n",
      " #   Column  Non-Null Count  Dtype  \n",
      "---  ------  --------------  -----  \n",
      " 0   source  28 non-null     object \n",
      " 1   day     28 non-null     object \n",
      " 2   cost    28 non-null     float64\n",
      "dtypes: float64(1), object(2)\n",
      "memory usage: 800.0+ bytes\n"
     ]
    }
   ],
   "source": [
    "costs.info()"
   ]
  },
  {
   "cell_type": "markdown",
   "metadata": {},
   "source": [
    "В датафрейме 28 наблюдений. Поле с информацием о дне осуществления расходов имеент тип object. Во всех полях отстутсвующих значений нет."
   ]
  },
  {
   "cell_type": "code",
   "execution_count": 11,
   "metadata": {
    "scrolled": true
   },
   "outputs": [
    {
     "data": {
      "text/plain": [
       "array(['facebook_ads', 'instagram_new_adverts', 'yandex_direct',\n",
       "       'youtube_channel_reklama'], dtype=object)"
      ]
     },
     "execution_count": 11,
     "metadata": {},
     "output_type": "execute_result"
    }
   ],
   "source": [
    "costs['source'].unique()"
   ]
  },
  {
   "cell_type": "markdown",
   "metadata": {},
   "source": [
    "В датафрейме представлены 4 источника привлечения пользователей."
   ]
  },
  {
   "cell_type": "code",
   "execution_count": 12,
   "metadata": {
    "scrolled": true
   },
   "outputs": [
    {
     "data": {
      "text/plain": [
       "'2020-05-03'"
      ]
     },
     "execution_count": 12,
     "metadata": {},
     "output_type": "execute_result"
    }
   ],
   "source": [
    "costs['day'].min()"
   ]
  },
  {
   "cell_type": "code",
   "execution_count": 13,
   "metadata": {},
   "outputs": [
    {
     "data": {
      "text/plain": [
       "'2020-05-09'"
      ]
     },
     "execution_count": 13,
     "metadata": {},
     "output_type": "execute_result"
    }
   ],
   "source": [
    "costs['day'].max()"
   ]
  },
  {
   "cell_type": "markdown",
   "metadata": {},
   "source": [
    "Временной горизонт датафрейма с 3 по 9 мая."
   ]
  },
  {
   "cell_type": "code",
   "execution_count": 14,
   "metadata": {},
   "outputs": [
    {
     "data": {
      "text/html": [
       "<div>\n",
       "<style scoped>\n",
       "    .dataframe tbody tr th:only-of-type {\n",
       "        vertical-align: middle;\n",
       "    }\n",
       "\n",
       "    .dataframe tbody tr th {\n",
       "        vertical-align: top;\n",
       "    }\n",
       "\n",
       "    .dataframe thead th {\n",
       "        text-align: right;\n",
       "    }\n",
       "</style>\n",
       "<table border=\"1\" class=\"dataframe\">\n",
       "  <thead>\n",
       "    <tr style=\"text-align: right;\">\n",
       "      <th></th>\n",
       "      <th>user_id</th>\n",
       "      <th>source</th>\n",
       "    </tr>\n",
       "  </thead>\n",
       "  <tbody>\n",
       "    <tr>\n",
       "      <th>0</th>\n",
       "      <td>0001f83c-c6ac-4621-b7f0-8a28b283ac30</td>\n",
       "      <td>facebook_ads</td>\n",
       "    </tr>\n",
       "    <tr>\n",
       "      <th>1</th>\n",
       "      <td>00151b4f-ba38-44a8-a650-d7cf130a0105</td>\n",
       "      <td>yandex_direct</td>\n",
       "    </tr>\n",
       "    <tr>\n",
       "      <th>2</th>\n",
       "      <td>001aaea6-3d14-43f1-8ca8-7f48820f17aa</td>\n",
       "      <td>youtube_channel_reklama</td>\n",
       "    </tr>\n",
       "    <tr>\n",
       "      <th>3</th>\n",
       "      <td>001d39dc-366c-4021-9604-6a3b9ff01e25</td>\n",
       "      <td>instagram_new_adverts</td>\n",
       "    </tr>\n",
       "    <tr>\n",
       "      <th>4</th>\n",
       "      <td>002f508f-67b6-479f-814b-b05f00d4e995</td>\n",
       "      <td>facebook_ads</td>\n",
       "    </tr>\n",
       "  </tbody>\n",
       "</table>\n",
       "</div>"
      ],
      "text/plain": [
       "                                user_id                   source\n",
       "0  0001f83c-c6ac-4621-b7f0-8a28b283ac30             facebook_ads\n",
       "1  00151b4f-ba38-44a8-a650-d7cf130a0105            yandex_direct\n",
       "2  001aaea6-3d14-43f1-8ca8-7f48820f17aa  youtube_channel_reklama\n",
       "3  001d39dc-366c-4021-9604-6a3b9ff01e25    instagram_new_adverts\n",
       "4  002f508f-67b6-479f-814b-b05f00d4e995             facebook_ads"
      ]
     },
     "execution_count": 14,
     "metadata": {},
     "output_type": "execute_result"
    }
   ],
   "source": [
    "#загрузим датафрейм с информацией об источниках привлечения пользователей в игру\n",
    "user_source = pd.read_csv('.../.../user_source.csv')\n",
    "user_source.head()"
   ]
  },
  {
   "cell_type": "code",
   "execution_count": 15,
   "metadata": {},
   "outputs": [
    {
     "name": "stdout",
     "output_type": "stream",
     "text": [
      "<class 'pandas.core.frame.DataFrame'>\n",
      "RangeIndex: 13576 entries, 0 to 13575\n",
      "Data columns (total 2 columns):\n",
      " #   Column   Non-Null Count  Dtype \n",
      "---  ------   --------------  ----- \n",
      " 0   user_id  13576 non-null  object\n",
      " 1   source   13576 non-null  object\n",
      "dtypes: object(2)\n",
      "memory usage: 212.2+ KB\n"
     ]
    }
   ],
   "source": [
    "user_source.info()"
   ]
  },
  {
   "cell_type": "markdown",
   "metadata": {},
   "source": [
    "В датафрейме присутствует более 13 тыс. пользователей. Отсутствующих значений нет."
   ]
  },
  {
   "cell_type": "markdown",
   "metadata": {},
   "source": [
    "**Выводы**: все датафреймы загружены."
   ]
  },
  {
   "cell_type": "markdown",
   "metadata": {},
   "source": [
    "<span style=\"font-size: 1.5em\">Часть 2. Предобработка данных</span>"
   ]
  },
  {
   "cell_type": "markdown",
   "metadata": {},
   "source": [
    "Преобразуем типы данных в датафреймах там, где это нужно."
   ]
  },
  {
   "cell_type": "code",
   "execution_count": 16,
   "metadata": {},
   "outputs": [
    {
     "data": {
      "text/plain": [
       "dtype('<M8[ns]')"
      ]
     },
     "execution_count": 16,
     "metadata": {},
     "output_type": "execute_result"
    }
   ],
   "source": [
    "games['event_datetime'] = pd.to_datetime(games['event_datetime'])\n",
    "games['event_datetime'].dtype"
   ]
  },
  {
   "cell_type": "code",
   "execution_count": 17,
   "metadata": {},
   "outputs": [
    {
     "data": {
      "text/plain": [
       "dtype('<M8[ns]')"
      ]
     },
     "execution_count": 17,
     "metadata": {},
     "output_type": "execute_result"
    }
   ],
   "source": [
    "costs['day'] = pd.to_datetime(costs['day'])\n",
    "costs['day'].dtype"
   ]
  },
  {
   "cell_type": "markdown",
   "metadata": {},
   "source": [
    "Изучим наличие пропусков. Еще раз посмотрии пропуски по полям."
   ]
  },
  {
   "cell_type": "code",
   "execution_count": 18,
   "metadata": {},
   "outputs": [
    {
     "name": "stdout",
     "output_type": "stream",
     "text": [
      "<class 'pandas.core.frame.DataFrame'>\n",
      "RangeIndex: 135640 entries, 0 to 135639\n",
      "Data columns (total 5 columns):\n",
      " #   Column          Non-Null Count   Dtype         \n",
      "---  ------          --------------   -----         \n",
      " 0   event_datetime  135640 non-null  datetime64[ns]\n",
      " 1   event           135640 non-null  object        \n",
      " 2   building_type   127957 non-null  object        \n",
      " 3   user_id         135640 non-null  object        \n",
      " 4   project_type    1866 non-null    object        \n",
      "dtypes: datetime64[ns](1), object(4)\n",
      "memory usage: 5.2+ MB\n"
     ]
    }
   ],
   "source": [
    "games.info()"
   ]
  },
  {
   "cell_type": "markdown",
   "metadata": {},
   "source": [
    "В поле building_type пропуски обоснованы тем, что не все действия пользователей связаны со зданиями. Пропуски отражают как раз такие действия. Тоже самое относится и к полю project_type. Большинство действий пользователей не связаны с проектами. Поэтому оставим пропуски как есть, их ничем не заменишь. В остальных датафреймах, как мы видели раньше, пропусков нет."
   ]
  },
  {
   "cell_type": "markdown",
   "metadata": {},
   "source": [
    "Проверим датафреймы на наличие дубликатов."
   ]
  },
  {
   "cell_type": "code",
   "execution_count": 19,
   "metadata": {},
   "outputs": [
    {
     "data": {
      "text/html": [
       "<div>\n",
       "<style scoped>\n",
       "    .dataframe tbody tr th:only-of-type {\n",
       "        vertical-align: middle;\n",
       "    }\n",
       "\n",
       "    .dataframe tbody tr th {\n",
       "        vertical-align: top;\n",
       "    }\n",
       "\n",
       "    .dataframe thead th {\n",
       "        text-align: right;\n",
       "    }\n",
       "</style>\n",
       "<table border=\"1\" class=\"dataframe\">\n",
       "  <thead>\n",
       "    <tr style=\"text-align: right;\">\n",
       "      <th></th>\n",
       "      <th>event_datetime</th>\n",
       "      <th>event</th>\n",
       "      <th>building_type</th>\n",
       "      <th>user_id</th>\n",
       "      <th>project_type</th>\n",
       "    </tr>\n",
       "  </thead>\n",
       "  <tbody>\n",
       "    <tr>\n",
       "      <th>74891</th>\n",
       "      <td>2020-05-10 18:41:56</td>\n",
       "      <td>building</td>\n",
       "      <td>research_center</td>\n",
       "      <td>c9af55d2-b0ae-4bb4-b3d5-f32aa9ac03af</td>\n",
       "      <td>NaN</td>\n",
       "    </tr>\n",
       "  </tbody>\n",
       "</table>\n",
       "</div>"
      ],
      "text/plain": [
       "           event_datetime     event    building_type  \\\n",
       "74891 2020-05-10 18:41:56  building  research_center   \n",
       "\n",
       "                                    user_id project_type  \n",
       "74891  c9af55d2-b0ae-4bb4-b3d5-f32aa9ac03af          NaN  "
      ]
     },
     "execution_count": 19,
     "metadata": {},
     "output_type": "execute_result"
    }
   ],
   "source": [
    "games[games.duplicated()]"
   ]
  },
  {
   "cell_type": "markdown",
   "metadata": {},
   "source": [
    "Обнаружен 1 дубликат. Удалим его."
   ]
  },
  {
   "cell_type": "code",
   "execution_count": 20,
   "metadata": {},
   "outputs": [],
   "source": [
    "games = games.drop_duplicates()"
   ]
  },
  {
   "cell_type": "code",
   "execution_count": 21,
   "metadata": {},
   "outputs": [
    {
     "data": {
      "text/html": [
       "<div>\n",
       "<style scoped>\n",
       "    .dataframe tbody tr th:only-of-type {\n",
       "        vertical-align: middle;\n",
       "    }\n",
       "\n",
       "    .dataframe tbody tr th {\n",
       "        vertical-align: top;\n",
       "    }\n",
       "\n",
       "    .dataframe thead th {\n",
       "        text-align: right;\n",
       "    }\n",
       "</style>\n",
       "<table border=\"1\" class=\"dataframe\">\n",
       "  <thead>\n",
       "    <tr style=\"text-align: right;\">\n",
       "      <th></th>\n",
       "      <th>source</th>\n",
       "      <th>day</th>\n",
       "      <th>cost</th>\n",
       "    </tr>\n",
       "  </thead>\n",
       "  <tbody>\n",
       "  </tbody>\n",
       "</table>\n",
       "</div>"
      ],
      "text/plain": [
       "Empty DataFrame\n",
       "Columns: [source, day, cost]\n",
       "Index: []"
      ]
     },
     "execution_count": 21,
     "metadata": {},
     "output_type": "execute_result"
    }
   ],
   "source": [
    "costs[costs.duplicated()]"
   ]
  },
  {
   "cell_type": "code",
   "execution_count": 22,
   "metadata": {},
   "outputs": [
    {
     "data": {
      "text/html": [
       "<div>\n",
       "<style scoped>\n",
       "    .dataframe tbody tr th:only-of-type {\n",
       "        vertical-align: middle;\n",
       "    }\n",
       "\n",
       "    .dataframe tbody tr th {\n",
       "        vertical-align: top;\n",
       "    }\n",
       "\n",
       "    .dataframe thead th {\n",
       "        text-align: right;\n",
       "    }\n",
       "</style>\n",
       "<table border=\"1\" class=\"dataframe\">\n",
       "  <thead>\n",
       "    <tr style=\"text-align: right;\">\n",
       "      <th></th>\n",
       "      <th>user_id</th>\n",
       "      <th>source</th>\n",
       "    </tr>\n",
       "  </thead>\n",
       "  <tbody>\n",
       "  </tbody>\n",
       "</table>\n",
       "</div>"
      ],
      "text/plain": [
       "Empty DataFrame\n",
       "Columns: [user_id, source]\n",
       "Index: []"
      ]
     },
     "execution_count": 22,
     "metadata": {},
     "output_type": "execute_result"
    }
   ],
   "source": [
    "user_source[user_source.duplicated()]"
   ]
  },
  {
   "cell_type": "markdown",
   "metadata": {},
   "source": [
    "В остальных датафреймах дубликаты не обнаружены. Неявных дубликатов быть не должно с учетом того, как данные в таблицах сформированы."
   ]
  },
  {
   "cell_type": "markdown",
   "metadata": {},
   "source": [
    "Создадим новый датафрейм с профилями пользователей. "
   ]
  },
  {
   "cell_type": "code",
   "execution_count": 23,
   "metadata": {
    "scrolled": true
   },
   "outputs": [],
   "source": [
    "#добавим первые 2 столбца в новый датафрейм, просто скопируем датафрейм с источниками\n",
    "profiles = user_source"
   ]
  },
  {
   "cell_type": "code",
   "execution_count": 24,
   "metadata": {},
   "outputs": [],
   "source": [
    "#найдем день, когда пользователи в первый раз зашли в игру\n",
    "user_first_day = games.groupby(['user_id'], as_index=False)['event_datetime'].min()"
   ]
  },
  {
   "cell_type": "code",
   "execution_count": 25,
   "metadata": {},
   "outputs": [],
   "source": [
    "#соединим датафреймы и изменим название столбца\n",
    "profiles = profiles.merge(user_first_day, on='user_id')\n",
    "profiles = profiles.rename(columns={'event_datetime': 'first_action'})"
   ]
  },
  {
   "cell_type": "code",
   "execution_count": 26,
   "metadata": {},
   "outputs": [],
   "source": [
    "#найдем день, когда пользователи в последний раз зашли в игру\n",
    "user_last_day = games.groupby(['user_id'], as_index=False)['event_datetime'].max()"
   ]
  },
  {
   "cell_type": "code",
   "execution_count": 27,
   "metadata": {},
   "outputs": [],
   "source": [
    "#соединим датафреймы и изменим название столбца\n",
    "profiles = profiles.merge(user_last_day, on='user_id')\n",
    "profiles = profiles.rename(columns={'event_datetime': 'last_action'})"
   ]
  },
  {
   "cell_type": "code",
   "execution_count": 28,
   "metadata": {},
   "outputs": [],
   "source": [
    "#создадим столбец со временем между первым и последним посещением игры\n",
    "profiles['time_difference'] = profiles['last_action'] - profiles['first_action']"
   ]
  },
  {
   "cell_type": "code",
   "execution_count": 29,
   "metadata": {},
   "outputs": [],
   "source": [
    "#создадим список пользователей, завершили первый уровень\n",
    "users_finished = games[games['event'] == 'finished_stage_1']['user_id'].values"
   ]
  },
  {
   "cell_type": "code",
   "execution_count": 30,
   "metadata": {},
   "outputs": [],
   "source": [
    "#создадим цикл, если пользователь в профилях закончил первый уровень, то возвращается True, иначе False\n",
    "#добавим все эти значения в новый список\n",
    "list_finished = []\n",
    "for index, user in enumerate(profiles['user_id']):\n",
    "    if user in users_finished:\n",
    "        list_finished.append(True)\n",
    "    else:\n",
    "        list_finished.append(False)"
   ]
  },
  {
   "cell_type": "code",
   "execution_count": 31,
   "metadata": {},
   "outputs": [],
   "source": [
    "#вставим этот булевый список в качестве нового столбца, в котором будет информация, прошел ли пользователь первый уровень\n",
    "profiles['finished_1_stage'] = list_finished"
   ]
  },
  {
   "cell_type": "markdown",
   "metadata": {},
   "source": [
    "Дальше нам в профилях нужно указать, какую стратегию выбрал пользователь: победить врага или построить станцию. Датафрейм с действиями пользователей сформирован таким образом, что не сразу очевидно, какую стратегию он выбрал. Если в датафрейме указано, что пользователь прошел 1 уровень, но при этом не реализовал проект по строительству станции, значит, он выбрал стратегию победы над врагом. Следующая задача - создать столбец, в котором будет информация о том, каким образом пользователь смог пройти 1 уровень. У столбца будет всего 3 значения: \"не прошел 1 уровень\", \"победил врага\", \"реализовал проект\"."
   ]
  },
  {
   "cell_type": "code",
   "execution_count": 32,
   "metadata": {
    "scrolled": true
   },
   "outputs": [],
   "source": [
    "#определим список пользователей, которые реализовали проект\n",
    "users_project = games[games['event'] == 'project']['user_id'].values"
   ]
  },
  {
   "cell_type": "code",
   "execution_count": 33,
   "metadata": {},
   "outputs": [],
   "source": [
    "#создадим цикл, который будет возврщать информацию о том, каким образом пользователи закончили первый уровень\n",
    "#добавим все эти значения в новый список\n",
    "list_strategy = []\n",
    "for index, user in enumerate(profiles['user_id']):\n",
    "    if user in users_finished and user not in users_project:\n",
    "        list_strategy.append('победил врага')\n",
    "    elif user in users_finished and user in users_project:\n",
    "        list_strategy.append('реализовал проект')\n",
    "    elif user not in users_finished:\n",
    "        list_strategy.append('не прошел 1 уровень')"
   ]
  },
  {
   "cell_type": "code",
   "execution_count": 34,
   "metadata": {},
   "outputs": [],
   "source": [
    "#создадим столбец со стратегией, которую выбрал пользователь для прохождения 1 уровня\n",
    "profiles['strategy'] = list_strategy"
   ]
  },
  {
   "cell_type": "markdown",
   "metadata": {},
   "source": [
    "Далее создадим столбец с информацией о том, сколько зданий построил пользователь. Сначала создадим датафрейм, где бы отражалось, сколько каждый пользователь построил зданий."
   ]
  },
  {
   "cell_type": "code",
   "execution_count": 35,
   "metadata": {},
   "outputs": [],
   "source": [
    "count_building = games[games['event'] == 'building'].groupby('user_id', as_index=False)['event'].count().rename(columns={\n",
    "    'event': 'count_building'})"
   ]
  },
  {
   "cell_type": "code",
   "execution_count": 36,
   "metadata": {},
   "outputs": [],
   "source": [
    "#добавим в профили информацию о количестве построенных зданий\n",
    "profiles = profiles.merge(count_building, on='user_id', how='left')"
   ]
  },
  {
   "cell_type": "markdown",
   "metadata": {},
   "source": [
    "Далее нам нужно посчитать, сколько стоит привлечение каждого нового пользователя. Для начала посчитаем общее количество новых пользователей по дням и по источникам привлечения."
   ]
  },
  {
   "cell_type": "code",
   "execution_count": 37,
   "metadata": {},
   "outputs": [],
   "source": [
    "#создадим новый столбец с первым днем, когда он начал играть\n",
    "profiles['first_day'] = profiles['first_action'].dt.date"
   ]
  },
  {
   "cell_type": "code",
   "execution_count": 38,
   "metadata": {},
   "outputs": [],
   "source": [
    "count_users = profiles.groupby(['first_day', 'source'], as_index=False)['user_id'].count().rename(columns={'user_id':'users'})\n",
    "count_users['first_day'] = pd.to_datetime(count_users['first_day'])"
   ]
  },
  {
   "cell_type": "markdown",
   "metadata": {},
   "source": [
    "Нужно учесть, что данные по расходам на рекламу немного смещены. Реклама, которая была оплачена 4 мая, была показана потенциальным пользователем 5 мая. Поэтому создадим в таблице costs новый столбец, который бы отразил день, когда данная реклама действительно была показана пользователям. Назовем столбец first_day"
   ]
  },
  {
   "cell_type": "code",
   "execution_count": 39,
   "metadata": {
    "scrolled": false
   },
   "outputs": [],
   "source": [
    "costs['first_day'] = costs['day'] + pd.DateOffset(days=1)"
   ]
  },
  {
   "cell_type": "code",
   "execution_count": 40,
   "metadata": {
    "scrolled": false
   },
   "outputs": [],
   "source": [
    "#добавим в таблицу с информацией о числе пользователей данные о совокупной стоимости их привлечения\n",
    "count_users = count_users.merge(costs[['source', 'cost', 'first_day']], on=['source', 'first_day'])"
   ]
  },
  {
   "cell_type": "code",
   "execution_count": 41,
   "metadata": {
    "scrolled": true
   },
   "outputs": [
    {
     "data": {
      "text/html": [
       "<div>\n",
       "<style scoped>\n",
       "    .dataframe tbody tr th:only-of-type {\n",
       "        vertical-align: middle;\n",
       "    }\n",
       "\n",
       "    .dataframe tbody tr th {\n",
       "        vertical-align: top;\n",
       "    }\n",
       "\n",
       "    .dataframe thead th {\n",
       "        text-align: right;\n",
       "    }\n",
       "</style>\n",
       "<table border=\"1\" class=\"dataframe\">\n",
       "  <thead>\n",
       "    <tr style=\"text-align: right;\">\n",
       "      <th></th>\n",
       "      <th>first_day</th>\n",
       "      <th>source</th>\n",
       "      <th>users</th>\n",
       "      <th>cost</th>\n",
       "      <th>cost_per_user</th>\n",
       "    </tr>\n",
       "  </thead>\n",
       "  <tbody>\n",
       "    <tr>\n",
       "      <th>0</th>\n",
       "      <td>2020-05-04</td>\n",
       "      <td>facebook_ads</td>\n",
       "      <td>1184</td>\n",
       "      <td>935.882786</td>\n",
       "      <td>0.790442</td>\n",
       "    </tr>\n",
       "    <tr>\n",
       "      <th>1</th>\n",
       "      <td>2020-05-04</td>\n",
       "      <td>instagram_new_adverts</td>\n",
       "      <td>1452</td>\n",
       "      <td>943.204717</td>\n",
       "      <td>0.649590</td>\n",
       "    </tr>\n",
       "    <tr>\n",
       "      <th>2</th>\n",
       "      <td>2020-05-04</td>\n",
       "      <td>yandex_direct</td>\n",
       "      <td>2078</td>\n",
       "      <td>969.139394</td>\n",
       "      <td>0.466381</td>\n",
       "    </tr>\n",
       "    <tr>\n",
       "      <th>3</th>\n",
       "      <td>2020-05-04</td>\n",
       "      <td>youtube_channel_reklama</td>\n",
       "      <td>1146</td>\n",
       "      <td>454.224943</td>\n",
       "      <td>0.396357</td>\n",
       "    </tr>\n",
       "    <tr>\n",
       "      <th>4</th>\n",
       "      <td>2020-05-05</td>\n",
       "      <td>facebook_ads</td>\n",
       "      <td>694</td>\n",
       "      <td>548.354480</td>\n",
       "      <td>0.790136</td>\n",
       "    </tr>\n",
       "    <tr>\n",
       "      <th>5</th>\n",
       "      <td>2020-05-05</td>\n",
       "      <td>instagram_new_adverts</td>\n",
       "      <td>796</td>\n",
       "      <td>502.925451</td>\n",
       "      <td>0.631816</td>\n",
       "    </tr>\n",
       "    <tr>\n",
       "      <th>6</th>\n",
       "      <td>2020-05-05</td>\n",
       "      <td>yandex_direct</td>\n",
       "      <td>1208</td>\n",
       "      <td>554.651494</td>\n",
       "      <td>0.459149</td>\n",
       "    </tr>\n",
       "    <tr>\n",
       "      <th>7</th>\n",
       "      <td>2020-05-05</td>\n",
       "      <td>youtube_channel_reklama</td>\n",
       "      <td>663</td>\n",
       "      <td>259.073224</td>\n",
       "      <td>0.390759</td>\n",
       "    </tr>\n",
       "    <tr>\n",
       "      <th>8</th>\n",
       "      <td>2020-05-06</td>\n",
       "      <td>facebook_ads</td>\n",
       "      <td>345</td>\n",
       "      <td>260.185754</td>\n",
       "      <td>0.754162</td>\n",
       "    </tr>\n",
       "    <tr>\n",
       "      <th>9</th>\n",
       "      <td>2020-05-06</td>\n",
       "      <td>instagram_new_adverts</td>\n",
       "      <td>472</td>\n",
       "      <td>313.970984</td>\n",
       "      <td>0.665193</td>\n",
       "    </tr>\n",
       "    <tr>\n",
       "      <th>10</th>\n",
       "      <td>2020-05-06</td>\n",
       "      <td>yandex_direct</td>\n",
       "      <td>664</td>\n",
       "      <td>308.232990</td>\n",
       "      <td>0.464206</td>\n",
       "    </tr>\n",
       "    <tr>\n",
       "      <th>11</th>\n",
       "      <td>2020-05-06</td>\n",
       "      <td>youtube_channel_reklama</td>\n",
       "      <td>366</td>\n",
       "      <td>147.041741</td>\n",
       "      <td>0.401753</td>\n",
       "    </tr>\n",
       "    <tr>\n",
       "      <th>12</th>\n",
       "      <td>2020-05-07</td>\n",
       "      <td>facebook_ads</td>\n",
       "      <td>224</td>\n",
       "      <td>177.982200</td>\n",
       "      <td>0.794563</td>\n",
       "    </tr>\n",
       "    <tr>\n",
       "      <th>13</th>\n",
       "      <td>2020-05-07</td>\n",
       "      <td>instagram_new_adverts</td>\n",
       "      <td>270</td>\n",
       "      <td>173.071145</td>\n",
       "      <td>0.641004</td>\n",
       "    </tr>\n",
       "    <tr>\n",
       "      <th>14</th>\n",
       "      <td>2020-05-07</td>\n",
       "      <td>yandex_direct</td>\n",
       "      <td>395</td>\n",
       "      <td>180.917099</td>\n",
       "      <td>0.458018</td>\n",
       "    </tr>\n",
       "    <tr>\n",
       "      <th>15</th>\n",
       "      <td>2020-05-07</td>\n",
       "      <td>youtube_channel_reklama</td>\n",
       "      <td>220</td>\n",
       "      <td>88.506074</td>\n",
       "      <td>0.402300</td>\n",
       "    </tr>\n",
       "    <tr>\n",
       "      <th>16</th>\n",
       "      <td>2020-05-08</td>\n",
       "      <td>facebook_ads</td>\n",
       "      <td>139</td>\n",
       "      <td>111.766796</td>\n",
       "      <td>0.804078</td>\n",
       "    </tr>\n",
       "    <tr>\n",
       "      <th>17</th>\n",
       "      <td>2020-05-08</td>\n",
       "      <td>instagram_new_adverts</td>\n",
       "      <td>175</td>\n",
       "      <td>109.915254</td>\n",
       "      <td>0.628087</td>\n",
       "    </tr>\n",
       "    <tr>\n",
       "      <th>18</th>\n",
       "      <td>2020-05-08</td>\n",
       "      <td>yandex_direct</td>\n",
       "      <td>239</td>\n",
       "      <td>114.429338</td>\n",
       "      <td>0.478784</td>\n",
       "    </tr>\n",
       "    <tr>\n",
       "      <th>19</th>\n",
       "      <td>2020-05-08</td>\n",
       "      <td>youtube_channel_reklama</td>\n",
       "      <td>135</td>\n",
       "      <td>55.740645</td>\n",
       "      <td>0.412894</td>\n",
       "    </tr>\n",
       "    <tr>\n",
       "      <th>20</th>\n",
       "      <td>2020-05-09</td>\n",
       "      <td>facebook_ads</td>\n",
       "      <td>84</td>\n",
       "      <td>68.009276</td>\n",
       "      <td>0.809634</td>\n",
       "    </tr>\n",
       "    <tr>\n",
       "      <th>21</th>\n",
       "      <td>2020-05-09</td>\n",
       "      <td>instagram_new_adverts</td>\n",
       "      <td>112</td>\n",
       "      <td>71.578739</td>\n",
       "      <td>0.639096</td>\n",
       "    </tr>\n",
       "    <tr>\n",
       "      <th>22</th>\n",
       "      <td>2020-05-09</td>\n",
       "      <td>yandex_direct</td>\n",
       "      <td>144</td>\n",
       "      <td>62.961630</td>\n",
       "      <td>0.437234</td>\n",
       "    </tr>\n",
       "    <tr>\n",
       "      <th>23</th>\n",
       "      <td>2020-05-09</td>\n",
       "      <td>youtube_channel_reklama</td>\n",
       "      <td>100</td>\n",
       "      <td>40.217907</td>\n",
       "      <td>0.402179</td>\n",
       "    </tr>\n",
       "    <tr>\n",
       "      <th>24</th>\n",
       "      <td>2020-05-10</td>\n",
       "      <td>facebook_ads</td>\n",
       "      <td>56</td>\n",
       "      <td>38.723350</td>\n",
       "      <td>0.691488</td>\n",
       "    </tr>\n",
       "    <tr>\n",
       "      <th>25</th>\n",
       "      <td>2020-05-10</td>\n",
       "      <td>instagram_new_adverts</td>\n",
       "      <td>70</td>\n",
       "      <td>46.775400</td>\n",
       "      <td>0.668220</td>\n",
       "    </tr>\n",
       "    <tr>\n",
       "      <th>26</th>\n",
       "      <td>2020-05-10</td>\n",
       "      <td>yandex_direct</td>\n",
       "      <td>89</td>\n",
       "      <td>42.779505</td>\n",
       "      <td>0.480669</td>\n",
       "    </tr>\n",
       "    <tr>\n",
       "      <th>27</th>\n",
       "      <td>2020-05-10</td>\n",
       "      <td>youtube_channel_reklama</td>\n",
       "      <td>56</td>\n",
       "      <td>23.314669</td>\n",
       "      <td>0.416333</td>\n",
       "    </tr>\n",
       "  </tbody>\n",
       "</table>\n",
       "</div>"
      ],
      "text/plain": [
       "    first_day                   source  users        cost  cost_per_user\n",
       "0  2020-05-04             facebook_ads   1184  935.882786       0.790442\n",
       "1  2020-05-04    instagram_new_adverts   1452  943.204717       0.649590\n",
       "2  2020-05-04            yandex_direct   2078  969.139394       0.466381\n",
       "3  2020-05-04  youtube_channel_reklama   1146  454.224943       0.396357\n",
       "4  2020-05-05             facebook_ads    694  548.354480       0.790136\n",
       "5  2020-05-05    instagram_new_adverts    796  502.925451       0.631816\n",
       "6  2020-05-05            yandex_direct   1208  554.651494       0.459149\n",
       "7  2020-05-05  youtube_channel_reklama    663  259.073224       0.390759\n",
       "8  2020-05-06             facebook_ads    345  260.185754       0.754162\n",
       "9  2020-05-06    instagram_new_adverts    472  313.970984       0.665193\n",
       "10 2020-05-06            yandex_direct    664  308.232990       0.464206\n",
       "11 2020-05-06  youtube_channel_reklama    366  147.041741       0.401753\n",
       "12 2020-05-07             facebook_ads    224  177.982200       0.794563\n",
       "13 2020-05-07    instagram_new_adverts    270  173.071145       0.641004\n",
       "14 2020-05-07            yandex_direct    395  180.917099       0.458018\n",
       "15 2020-05-07  youtube_channel_reklama    220   88.506074       0.402300\n",
       "16 2020-05-08             facebook_ads    139  111.766796       0.804078\n",
       "17 2020-05-08    instagram_new_adverts    175  109.915254       0.628087\n",
       "18 2020-05-08            yandex_direct    239  114.429338       0.478784\n",
       "19 2020-05-08  youtube_channel_reklama    135   55.740645       0.412894\n",
       "20 2020-05-09             facebook_ads     84   68.009276       0.809634\n",
       "21 2020-05-09    instagram_new_adverts    112   71.578739       0.639096\n",
       "22 2020-05-09            yandex_direct    144   62.961630       0.437234\n",
       "23 2020-05-09  youtube_channel_reklama    100   40.217907       0.402179\n",
       "24 2020-05-10             facebook_ads     56   38.723350       0.691488\n",
       "25 2020-05-10    instagram_new_adverts     70   46.775400       0.668220\n",
       "26 2020-05-10            yandex_direct     89   42.779505       0.480669\n",
       "27 2020-05-10  youtube_channel_reklama     56   23.314669       0.416333"
      ]
     },
     "execution_count": 41,
     "metadata": {},
     "output_type": "execute_result"
    }
   ],
   "source": [
    "#создадим столбец с информацией о средствах, которые были потрачены на 1 пользователя\n",
    "count_users['cost_per_user'] = count_users['cost'] / count_users['users']\n",
    "count_users"
   ]
  },
  {
   "cell_type": "code",
   "execution_count": 42,
   "metadata": {
    "scrolled": true
   },
   "outputs": [],
   "source": [
    "profiles['first_day'] = pd.to_datetime(profiles['first_day'])"
   ]
  },
  {
   "cell_type": "code",
   "execution_count": 43,
   "metadata": {
    "scrolled": false
   },
   "outputs": [],
   "source": [
    "#добавим в профили информацию о стоимости привлечения пользователя\n",
    "profiles = profiles.merge(count_users[['first_day', 'source', 'cost_per_user']], on=['first_day', 'source'], how='left')"
   ]
  },
  {
   "cell_type": "markdown",
   "metadata": {},
   "source": [
    "Создадим метрику того, насколько рентабельно привлечение конкретного пользователя. Игра генерирует прибыль с каждого построенного здания пользователем. В тот момент, когда здание строится, пользователю показывается реклама. Таким образом, померить, насколько окупается привлечение конкретного пользователя можно разделив стоимость его привлечения на число построек. Полученный результат - ориентир, сколько должна приносить реклама с одной постройки, чтобы данный конкретный пользователь окупился. Данную метрику можно сравнивать между различными пользователями. Фактически - чем ниже это значение, тем лучше для владельцев игры. Назовем столбец 'payback' - оккупаемость. "
   ]
  },
  {
   "cell_type": "code",
   "execution_count": 44,
   "metadata": {},
   "outputs": [
    {
     "data": {
      "text/html": [
       "<div>\n",
       "<style scoped>\n",
       "    .dataframe tbody tr th:only-of-type {\n",
       "        vertical-align: middle;\n",
       "    }\n",
       "\n",
       "    .dataframe tbody tr th {\n",
       "        vertical-align: top;\n",
       "    }\n",
       "\n",
       "    .dataframe thead th {\n",
       "        text-align: right;\n",
       "    }\n",
       "</style>\n",
       "<table border=\"1\" class=\"dataframe\">\n",
       "  <thead>\n",
       "    <tr style=\"text-align: right;\">\n",
       "      <th></th>\n",
       "      <th>user_id</th>\n",
       "      <th>source</th>\n",
       "      <th>first_action</th>\n",
       "      <th>last_action</th>\n",
       "      <th>time_difference</th>\n",
       "      <th>finished_1_stage</th>\n",
       "      <th>strategy</th>\n",
       "      <th>count_building</th>\n",
       "      <th>first_day</th>\n",
       "      <th>cost_per_user</th>\n",
       "      <th>payback</th>\n",
       "    </tr>\n",
       "  </thead>\n",
       "  <tbody>\n",
       "    <tr>\n",
       "      <th>0</th>\n",
       "      <td>0001f83c-c6ac-4621-b7f0-8a28b283ac30</td>\n",
       "      <td>facebook_ads</td>\n",
       "      <td>2020-05-06 01:07:37</td>\n",
       "      <td>2020-05-20 11:26:06</td>\n",
       "      <td>14 days 10:18:29</td>\n",
       "      <td>False</td>\n",
       "      <td>не прошел 1 уровень</td>\n",
       "      <td>13</td>\n",
       "      <td>2020-05-06</td>\n",
       "      <td>0.754162</td>\n",
       "      <td>0.058012</td>\n",
       "    </tr>\n",
       "    <tr>\n",
       "      <th>1</th>\n",
       "      <td>00151b4f-ba38-44a8-a650-d7cf130a0105</td>\n",
       "      <td>yandex_direct</td>\n",
       "      <td>2020-05-06 03:09:12</td>\n",
       "      <td>2020-05-18 10:46:52</td>\n",
       "      <td>12 days 07:37:40</td>\n",
       "      <td>False</td>\n",
       "      <td>не прошел 1 уровень</td>\n",
       "      <td>9</td>\n",
       "      <td>2020-05-06</td>\n",
       "      <td>0.464206</td>\n",
       "      <td>0.051578</td>\n",
       "    </tr>\n",
       "    <tr>\n",
       "      <th>2</th>\n",
       "      <td>001aaea6-3d14-43f1-8ca8-7f48820f17aa</td>\n",
       "      <td>youtube_channel_reklama</td>\n",
       "      <td>2020-05-05 18:08:52</td>\n",
       "      <td>2020-05-14 09:21:27</td>\n",
       "      <td>8 days 15:12:35</td>\n",
       "      <td>False</td>\n",
       "      <td>не прошел 1 уровень</td>\n",
       "      <td>4</td>\n",
       "      <td>2020-05-05</td>\n",
       "      <td>0.390759</td>\n",
       "      <td>0.097690</td>\n",
       "    </tr>\n",
       "    <tr>\n",
       "      <th>3</th>\n",
       "      <td>001d39dc-366c-4021-9604-6a3b9ff01e25</td>\n",
       "      <td>instagram_new_adverts</td>\n",
       "      <td>2020-05-05 21:02:05</td>\n",
       "      <td>2020-05-12 07:40:47</td>\n",
       "      <td>6 days 10:38:42</td>\n",
       "      <td>True</td>\n",
       "      <td>победил врага</td>\n",
       "      <td>8</td>\n",
       "      <td>2020-05-05</td>\n",
       "      <td>0.631816</td>\n",
       "      <td>0.078977</td>\n",
       "    </tr>\n",
       "    <tr>\n",
       "      <th>4</th>\n",
       "      <td>002f508f-67b6-479f-814b-b05f00d4e995</td>\n",
       "      <td>facebook_ads</td>\n",
       "      <td>2020-05-05 13:49:58</td>\n",
       "      <td>2020-05-22 02:46:45</td>\n",
       "      <td>16 days 12:56:47</td>\n",
       "      <td>False</td>\n",
       "      <td>не прошел 1 уровень</td>\n",
       "      <td>12</td>\n",
       "      <td>2020-05-05</td>\n",
       "      <td>0.790136</td>\n",
       "      <td>0.065845</td>\n",
       "    </tr>\n",
       "  </tbody>\n",
       "</table>\n",
       "</div>"
      ],
      "text/plain": [
       "                                user_id                   source  \\\n",
       "0  0001f83c-c6ac-4621-b7f0-8a28b283ac30             facebook_ads   \n",
       "1  00151b4f-ba38-44a8-a650-d7cf130a0105            yandex_direct   \n",
       "2  001aaea6-3d14-43f1-8ca8-7f48820f17aa  youtube_channel_reklama   \n",
       "3  001d39dc-366c-4021-9604-6a3b9ff01e25    instagram_new_adverts   \n",
       "4  002f508f-67b6-479f-814b-b05f00d4e995             facebook_ads   \n",
       "\n",
       "         first_action         last_action  time_difference  finished_1_stage  \\\n",
       "0 2020-05-06 01:07:37 2020-05-20 11:26:06 14 days 10:18:29             False   \n",
       "1 2020-05-06 03:09:12 2020-05-18 10:46:52 12 days 07:37:40             False   \n",
       "2 2020-05-05 18:08:52 2020-05-14 09:21:27  8 days 15:12:35             False   \n",
       "3 2020-05-05 21:02:05 2020-05-12 07:40:47  6 days 10:38:42              True   \n",
       "4 2020-05-05 13:49:58 2020-05-22 02:46:45 16 days 12:56:47             False   \n",
       "\n",
       "              strategy  count_building  first_day  cost_per_user   payback  \n",
       "0  не прошел 1 уровень              13 2020-05-06       0.754162  0.058012  \n",
       "1  не прошел 1 уровень               9 2020-05-06       0.464206  0.051578  \n",
       "2  не прошел 1 уровень               4 2020-05-05       0.390759  0.097690  \n",
       "3        победил врага               8 2020-05-05       0.631816  0.078977  \n",
       "4  не прошел 1 уровень              12 2020-05-05       0.790136  0.065845  "
      ]
     },
     "execution_count": 44,
     "metadata": {},
     "output_type": "execute_result"
    }
   ],
   "source": [
    "profiles['payback'] = profiles['cost_per_user'] / profiles['count_building']\n",
    "profiles.head()"
   ]
  },
  {
   "cell_type": "markdown",
   "metadata": {},
   "source": [
    "**Вывод:** данные подготовлены к последующему анализу данных. Был создан новый основной датафрейм с профилями пользователей, где указана важная для анализа информация: источник привлечения, даты первого и последнего посещения игры, игровая стратегия пользователя, количество построенных зданий, стоимость его привлечения и метрика, которая показывает порог окупаемости пользователя."
   ]
  },
  {
   "cell_type": "markdown",
   "metadata": {},
   "source": [
    "<span style=\"font-size: 1.5em\">Часть 3. Исследовательский анализ данных</span>"
   ]
  },
  {
   "cell_type": "markdown",
   "metadata": {},
   "source": [
    "Сначала посмотрим динамику появления новых пользователей по дням."
   ]
  },
  {
   "cell_type": "code",
   "execution_count": 48,
   "metadata": {
    "scrolled": true
   },
   "outputs": [
    {
     "data": {
      "image/png": "[encoded data removed]",
      "text/plain": [
       "<Figure size 720x288 with 1 Axes>"
      ]
     },
     "metadata": {
      "needs_background": "light"
     },
     "output_type": "display_data"
    }
   ],
   "source": [
    "new_users = profiles.groupby('first_day', as_index=False)['user_id'].count()\n",
    "plt.figure(figsize=(10, 4))\n",
    "plt.plot(new_users['first_day'], new_users['user_id'], marker='o')\n",
    "plt.xlabel('День')\n",
    "plt.ylabel('Количество новых пользователей')\n",
    "plt.title('Появление новых пользователей')\n",
    "plt.xticks(rotation=45)\n",
    "plt.grid(True)\n",
    "plt.show()"
   ]
  },
  {
   "cell_type": "markdown",
   "metadata": {},
   "source": [
    "Как видно из графика, с каждым днем в игру привлекалось мне меньше пользователей. Возможно, это связано с тем, что уменьшлся совокупный объем средств, выделяемых на рекламу. Посмотрим, как менялся этот показатель."
   ]
  },
  {
   "cell_type": "code",
   "execution_count": 49,
   "metadata": {},
   "outputs": [
    {
     "data": {
      "image/png": "[encoded data removed]",
      "text/plain": [
       "<Figure size 720x288 with 1 Axes>"
      ]
     },
     "metadata": {
      "needs_background": "light"
     },
     "output_type": "display_data"
    }
   ],
   "source": [
    "costs_per_day = costs.groupby('first_day', as_index=False)['cost'].sum()\n",
    "plt.figure(figsize=(10, 4))\n",
    "plt.plot(costs_per_day['first_day'], costs_per_day['cost'], marker='o')\n",
    "plt.xlabel('День')\n",
    "plt.ylabel('Сумма вложенных средств')\n",
    "plt.title('Динамика вложенных в привлечение пользователей средств')\n",
    "plt.xticks(rotation=45)\n",
    "plt.grid(True)\n",
    "plt.show()"
   ]
  },
  {
   "cell_type": "markdown",
   "metadata": {},
   "source": [
    "Как мы видим, графики практически аналогичные. Падения числа новых пользователей связано не с уменьшением отдачи от рекламы, а с тем, что банально изо дня в день сумма вложенных в рекламу средств уменьшалась в течение недели."
   ]
  },
  {
   "cell_type": "markdown",
   "metadata": {},
   "source": [
    "Рассмотрим другие ключевые параметры: сколько в целом пользователи строят зданий. Это важно понять, что бы определить минимальный порог стоимости показываемой пользователям рекламы, который нужен, чтобы привлечение пользователей в среднем окупалось."
   ]
  },
  {
   "cell_type": "code",
   "execution_count": 50,
   "metadata": {
    "scrolled": false
   },
   "outputs": [
    {
     "data": {
      "image/png": "[encoded data removed]",
      "text/plain": [
       "<Figure size 720x288 with 1 Axes>"
      ]
     },
     "metadata": {
      "needs_background": "light"
     },
     "output_type": "display_data"
    }
   ],
   "source": [
    "plt.figure(figsize=(10, 4))\n",
    "plt.hist(profiles['count_building'], bins=20, edgecolor='black')\n",
    "plt.xlabel('Количество построенных зданий')\n",
    "plt.ylabel('Частота')\n",
    "plt.title('Распределение количества построенных зданий')\n",
    "plt.grid(True)\n",
    "plt.gca().xaxis.set_major_locator(ticker.FixedLocator(profiles['count_building'].astype(int)))\n",
    "plt.gca().xaxis.set_major_formatter(ticker.FixedFormatter(profiles['count_building'].astype(int)))\n",
    "plt.show()"
   ]
  },
  {
   "cell_type": "markdown",
   "metadata": {},
   "source": [
    "Как можно видеть из гистрограммы, распределение имеет две вершины. Часть большое количество пользователей строит 6 зданий, а вот тех, которые бы построили 7 или 8 значительно меньше. Потом опять начинается рост, и значительное число пользователей построило от 9 до 11 зданий. Возможно, первая вершина - это те пользователи, которые не смогли пройти 1 уровень и бросили игру. Более внимательно посмотрим на то, как распределено число пользователей, которые прошли 1 уровень."
   ]
  },
  {
   "cell_type": "code",
   "execution_count": 51,
   "metadata": {},
   "outputs": [
    {
     "data": {
      "image/png": "[encoded data removed]",
      "text/plain": [
       "<Figure size 576x432 with 1 Axes>"
      ]
     },
     "metadata": {},
     "output_type": "display_data"
    }
   ],
   "source": [
    "strategy = profiles['strategy'].value_counts()\n",
    "\n",
    "# Построение круговой диаграммы\n",
    "plt.figure(figsize=(8, 6))\n",
    "colors = ['#ff9999', '#66b3ff', '#99ff99']\n",
    "plt.pie(strategy, labels=strategy.index, autopct='%1.1f%%', startangle=90,\n",
    "        colors=colors, shadow=True)\n",
    "plt.axis('equal')  # Устанавливаем равные пропорции по осям x и y\n",
    "plt.title('Распределение статуса пользователей')\n",
    "\n",
    "plt.show()"
   ]
  },
  {
   "cell_type": "markdown",
   "metadata": {},
   "source": [
    "Большинство пользователей не прошли первый уровень. Около трети - те, кто победил врага, и только 13% - реализовали проект. Посмотрим как распределено число построенных зданий между этими тремя группами с помощью боксплота. Из этого распределения не до конца очевидно, те пользователи, которые не прошли уровень, просто не успели еще это делать или они забросили игру. Попробуем более подробно изучить этот момент. "
   ]
  },
  {
   "cell_type": "code",
   "execution_count": 52,
   "metadata": {},
   "outputs": [],
   "source": [
    "not_finished_users = profiles[profiles['finished_1_stage'] == False]"
   ]
  },
  {
   "cell_type": "markdown",
   "metadata": {},
   "source": [
    "Нарисуем гистограму, которая будет показывать, в какой день чаще всего пользователи играли чаще всего. Те пользователи, которые играли совсем недавно, скорее всего просто не успели пройти 1 уровень и вполне могут пройти его через некоторое время."
   ]
  },
  {
   "cell_type": "code",
   "execution_count": 53,
   "metadata": {
    "scrolled": true
   },
   "outputs": [
    {
     "data": {
      "image/png": "[encoded data removed]",
      "text/plain": [
       "<Figure size 864x288 with 1 Axes>"
      ]
     },
     "metadata": {
      "needs_background": "light"
     },
     "output_type": "display_data"
    }
   ],
   "source": [
    "plt.figure(figsize=(12, 4))\n",
    "plt.hist(not_finished_users['last_action'].dt.date, bins=20, edgecolor='black')\n",
    "plt.xlabel('Дата')\n",
    "plt.ylabel('Частота')\n",
    "plt.title('День последней активности пользователей')\n",
    "plt.grid(True)\n",
    "plt.show()"
   ]
  },
  {
   "cell_type": "markdown",
   "metadata": {},
   "source": [
    "Выводы гистограммы не самые утешительные: подавляющее число пользователей играло в последний раз за 2 недели до самой последней доступной даты в датасете. Это значит, что скорее всего они забросили игру и не будут в нее играть дальше. Пользователей, которые играли в нее недавно, настолько мало, что можно сделать допущение и считать всех пользователей, которые не прошли 1 уровень, бросившими игру, для целей дальнейшего исследования. \t"
   ]
  },
  {
   "cell_type": "markdown",
   "metadata": {},
   "source": [
    "Посмотрим, как распределено среднее количество построенных зданий среди различных групп пользователей."
   ]
  },
  {
   "cell_type": "code",
   "execution_count": 54,
   "metadata": {},
   "outputs": [
    {
     "data": {
      "image/png": "[encoded data removed]",
      "text/plain": [
       "<Figure size 576x432 with 1 Axes>"
      ]
     },
     "metadata": {
      "needs_background": "light"
     },
     "output_type": "display_data"
    }
   ],
   "source": [
    "groups = ['не прошел 1 уровень', 'реализовал проект', 'победил врага']\n",
    "data = [profiles[profiles['strategy'] == group]['count_building'] for group in groups]\n",
    "plt.figure(figsize=(8, 6))\n",
    "plt.boxplot(data, labels=groups)\n",
    "# Добавление подписей осей и заголовка\n",
    "plt.xlabel('Группа пользователей')\n",
    "plt.ylabel('Количество домов')\n",
    "plt.title('Распределение числа построенных зданий по группам пользователей')\n",
    "plt.show()"
   ]
  },
  {
   "cell_type": "markdown",
   "metadata": {},
   "source": [
    "- Как видно в среднем количество построенных зданий тех, кто не прошел 1 уровень значительно меньше, чем тех, кто прошел, что было очевидно. Интересно, что часть пользователей, которые не прошли 1 уровень, все же построили достаточно много зданий, так как верхний ус боксплота достаточно высоко находится. \n",
    "- Также интересна разница между 2 выбранными стратегиями, которая уже начинает вырисовываться: чтобы реализовать проект нужно построить минимум 10 зданий, а чтобы победить врага можно всего и 3 построенными зданиями."
   ]
  },
  {
   "cell_type": "markdown",
   "metadata": {},
   "source": [
    "Далее узнаем, сколько в среднем требуется игрокам, чтобы пройти первый уровень."
   ]
  },
  {
   "cell_type": "code",
   "execution_count": 55,
   "metadata": {},
   "outputs": [],
   "source": [
    "#Выделим сначала тех пользователей, которые прошли 1 уровень\n",
    "finished_users = profiles[profiles['finished_1_stage'] == True]"
   ]
  },
  {
   "cell_type": "code",
   "execution_count": 56,
   "metadata": {},
   "outputs": [
    {
     "data": {
      "image/png": "[encoded data removed]",
      "text/plain": [
       "<Figure size 864x432 with 2 Axes>"
      ]
     },
     "metadata": {
      "needs_background": "light"
     },
     "output_type": "display_data"
    }
   ],
   "source": [
    "fig, axs = plt.subplots(1, 2, figsize=(12, 6))\n",
    "\n",
    "# Построение первой гистограммы\n",
    "axs[0].hist(finished_users[finished_users['strategy'] == 'победил врага']['time_difference'].dt.days, bins=15, edgecolor='black')\n",
    "axs[0].set_xlabel('Количество дней')\n",
    "axs[0].set_ylabel('Частота')\n",
    "axs[0].set_title('Победил врага')\n",
    "axs[0].grid(True)\n",
    "\n",
    "# Построение второй гистограммы\n",
    "axs[1].hist(finished_users[finished_users['strategy'] == 'реализовал проект']['time_difference'].dt.days, bins=12, edgecolor='black')\n",
    "axs[1].set_xlabel('Количество дней')\n",
    "axs[1].set_ylabel('Частота')\n",
    "axs[1].set_title('Реализовал проект')\n",
    "axs[1].grid(True)\n",
    "\n",
    "# Автоматическое размещение графиков и отображение\n",
    "plt.tight_layout()\n",
    "plt.show()"
   ]
  },
  {
   "cell_type": "markdown",
   "metadata": {},
   "source": [
    "Несмотря на то, что в двух стратегиях мода распределения находится где-то на 12 днях игры. В случае со стратегией \"победа врага\" распределение смещено немного влево, и достаточно много игроков прошло первый уровень в период от 5 до 10 дней, в то время как \"реализация проекта\" для подавляющего числа пользователей занимает более 10 дней. Более детально данный пункт рассмотрим в части проекта с проверкой гипотез."
   ]
  },
  {
   "cell_type": "markdown",
   "metadata": {},
   "source": [
    "**Выводы:** в датасете представлены пользователи, которые привлекались в течение недели, при это на первые дни привлечения приходится большая часть пользователей. Из все привлеченных пользователей почти 60% не прошли первый уровень, поиграл в игру всего пару недель. Из тех, кто прошел первый уровень, большинство выбрало стратегию \"победа над врагом\". И эта стратегия, на первый взгляд, в среднем требует от пользователя меньше потраченного времени и построенных зданий."
   ]
  },
  {
   "cell_type": "markdown",
   "metadata": {},
   "source": [
    "<span style=\"font-size: 1.5em\">Часть 4. Анализ влияния источника перехода в игру на привлечение пользователей.</span>"
   ]
  },
  {
   "cell_type": "markdown",
   "metadata": {},
   "source": [
    "Посмотрим динамику привлечения пользователей в зависимости от источников привлечения."
   ]
  },
  {
   "cell_type": "code",
   "execution_count": 58,
   "metadata": {
    "scrolled": false
   },
   "outputs": [
    {
     "data": {
      "image/png": "[encoded data removed]",
      "text/plain": [
       "<Figure size 720x432 with 1 Axes>"
      ]
     },
     "metadata": {
      "needs_background": "light"
     },
     "output_type": "display_data"
    }
   ],
   "source": [
    "profiles['first_day'] = pd.to_datetime(profiles['first_day'])\n",
    "profiles['first_day'] = profiles['first_day'].dt.date\n",
    "# Группировка данных по 'день' и 'источник'\n",
    "grouped_data = profiles.groupby(['first_day', 'source']).size().unstack()\n",
    "\n",
    "# Визуализация\n",
    "fig = plt.figure(figsize=(10, 6))\n",
    "ax = fig.add_subplot(111)\n",
    "grouped_data.plot.area(stacked=True, ax=ax)\n",
    "\n",
    "# Настройка осей и заголовка\n",
    "plt.xlabel('День')\n",
    "plt.ylabel('Количество пользователей')\n",
    "plt.title('Число привлеченных пользователей по дням и источникам')\n",
    "\n",
    "# Отображение графика\n",
    "plt.show()"
   ]
  },
  {
   "cell_type": "markdown",
   "metadata": {},
   "source": [
    "Изначально больше всего пользователей привлекали через Яндекс, меньше всего - через Ютуб. Данная пропорция между каналами примерно сохраняется притом, что доля привлекаемых пользователей изо дня в день падала. Посмотрим, как изменялся объем средств, потраченных на различные источники. "
   ]
  },
  {
   "cell_type": "code",
   "execution_count": 59,
   "metadata": {},
   "outputs": [
    {
     "data": {
      "image/png": "[encoded data removed]",
      "text/plain": [
       "<Figure size 720x432 with 1 Axes>"
      ]
     },
     "metadata": {
      "needs_background": "light"
     },
     "output_type": "display_data"
    }
   ],
   "source": [
    "# Преобразование столбца 'first_day' в формат даты\n",
    "costs['first_day'] = pd.to_datetime(costs['first_day'])\n",
    "costs['first_day'] = costs['first_day'].dt.date\n",
    "fig = plt.figure(figsize=(10, 6))\n",
    "\n",
    "# Построение area chart с параметром stacked=True\n",
    "ax = fig.add_subplot(111)\n",
    "costs.pivot(index='first_day', columns='source', values='cost').plot.area(stacked=True, ax=ax)\n",
    "\n",
    "# Настройка осей и заголовка\n",
    "plt.xlabel('День')\n",
    "plt.ylabel('Расходы')\n",
    "plt.title('Расходы по источникам по дням')\n",
    "plt.legend()\n",
    "\n",
    "# Отображение графика\n",
    "plt.show()"
   ]
  },
  {
   "cell_type": "markdown",
   "metadata": {},
   "source": [
    "Потраченные средства снижались каждый день по всем каналам, однако на данном графике не видно явного доминирования Яндекса, как на прошлом графике. В Яндекс, Инстаграм и Фейсбук было вложено примерно одинаковое количество средств (даже в последний немного больше, чем в другие), однако число привлеченных пользователей от яндекса было больше. Сравним средний объем потраченных средств на одного привлеченного человека по различным источникам через боксплот."
   ]
  },
  {
   "cell_type": "code",
   "execution_count": 60,
   "metadata": {},
   "outputs": [
    {
     "data": {
      "image/png": "[encoded data removed]",
      "text/plain": [
       "<Figure size 720x432 with 1 Axes>"
      ]
     },
     "metadata": {
      "needs_background": "light"
     },
     "output_type": "display_data"
    }
   ],
   "source": [
    "# Настройка размера графика\n",
    "plt.figure(figsize=(10, 6))\n",
    "# Разделение расходов на источники\n",
    "sns.boxplot(x='source', y='cost_per_user', data=profiles)\n",
    "\n",
    "# Настройка осей и заголовка\n",
    "plt.xlabel('Источник')\n",
    "plt.ylabel('Объем средств')\n",
    "plt.title('Объем средств потраченных на привлечение одного человека по источникам')\n",
    "\n",
    "# Отображение графика\n",
    "plt.show()"
   ]
  },
  {
   "cell_type": "markdown",
   "metadata": {},
   "source": [
    "Как и оказалось, стоимость привлечения через фейсбук - самая дорогая. Инстаграм также достаточно дорогой. А вот яндекс и ютуб - достаточно дешевые источники. Возможно, рекламу через Ютуб стоит увеличить, сейчас по объему потраченных средств данная плафторма находится на последнем месте. Таким же образом посмотрим, сколько зданий в среднем строят пользователи различных плафторм, и какова средняя окупаемость пользователя."
   ]
  },
  {
   "cell_type": "code",
   "execution_count": 61,
   "metadata": {
    "scrolled": true
   },
   "outputs": [
    {
     "data": {
      "text/html": [
       "<div>\n",
       "<style scoped>\n",
       "    .dataframe tbody tr th:only-of-type {\n",
       "        vertical-align: middle;\n",
       "    }\n",
       "\n",
       "    .dataframe tbody tr th {\n",
       "        vertical-align: top;\n",
       "    }\n",
       "\n",
       "    .dataframe thead th {\n",
       "        text-align: right;\n",
       "    }\n",
       "</style>\n",
       "<table border=\"1\" class=\"dataframe\">\n",
       "  <thead>\n",
       "    <tr style=\"text-align: right;\">\n",
       "      <th></th>\n",
       "      <th>user_id</th>\n",
       "      <th>source</th>\n",
       "      <th>first_action</th>\n",
       "      <th>last_action</th>\n",
       "      <th>time_difference</th>\n",
       "      <th>finished_1_stage</th>\n",
       "      <th>strategy</th>\n",
       "      <th>count_building</th>\n",
       "      <th>first_day</th>\n",
       "      <th>cost_per_user</th>\n",
       "      <th>payback</th>\n",
       "    </tr>\n",
       "  </thead>\n",
       "  <tbody>\n",
       "    <tr>\n",
       "      <th>0</th>\n",
       "      <td>0001f83c-c6ac-4621-b7f0-8a28b283ac30</td>\n",
       "      <td>facebook_ads</td>\n",
       "      <td>2020-05-06 01:07:37</td>\n",
       "      <td>2020-05-20 11:26:06</td>\n",
       "      <td>14 days 10:18:29</td>\n",
       "      <td>False</td>\n",
       "      <td>не прошел 1 уровень</td>\n",
       "      <td>13</td>\n",
       "      <td>2020-05-06</td>\n",
       "      <td>0.754162</td>\n",
       "      <td>0.058012</td>\n",
       "    </tr>\n",
       "    <tr>\n",
       "      <th>1</th>\n",
       "      <td>00151b4f-ba38-44a8-a650-d7cf130a0105</td>\n",
       "      <td>yandex_direct</td>\n",
       "      <td>2020-05-06 03:09:12</td>\n",
       "      <td>2020-05-18 10:46:52</td>\n",
       "      <td>12 days 07:37:40</td>\n",
       "      <td>False</td>\n",
       "      <td>не прошел 1 уровень</td>\n",
       "      <td>9</td>\n",
       "      <td>2020-05-06</td>\n",
       "      <td>0.464206</td>\n",
       "      <td>0.051578</td>\n",
       "    </tr>\n",
       "    <tr>\n",
       "      <th>2</th>\n",
       "      <td>001aaea6-3d14-43f1-8ca8-7f48820f17aa</td>\n",
       "      <td>youtube_channel_reklama</td>\n",
       "      <td>2020-05-05 18:08:52</td>\n",
       "      <td>2020-05-14 09:21:27</td>\n",
       "      <td>8 days 15:12:35</td>\n",
       "      <td>False</td>\n",
       "      <td>не прошел 1 уровень</td>\n",
       "      <td>4</td>\n",
       "      <td>2020-05-05</td>\n",
       "      <td>0.390759</td>\n",
       "      <td>0.097690</td>\n",
       "    </tr>\n",
       "    <tr>\n",
       "      <th>3</th>\n",
       "      <td>001d39dc-366c-4021-9604-6a3b9ff01e25</td>\n",
       "      <td>instagram_new_adverts</td>\n",
       "      <td>2020-05-05 21:02:05</td>\n",
       "      <td>2020-05-12 07:40:47</td>\n",
       "      <td>6 days 10:38:42</td>\n",
       "      <td>True</td>\n",
       "      <td>победил врага</td>\n",
       "      <td>8</td>\n",
       "      <td>2020-05-05</td>\n",
       "      <td>0.631816</td>\n",
       "      <td>0.078977</td>\n",
       "    </tr>\n",
       "    <tr>\n",
       "      <th>4</th>\n",
       "      <td>002f508f-67b6-479f-814b-b05f00d4e995</td>\n",
       "      <td>facebook_ads</td>\n",
       "      <td>2020-05-05 13:49:58</td>\n",
       "      <td>2020-05-22 02:46:45</td>\n",
       "      <td>16 days 12:56:47</td>\n",
       "      <td>False</td>\n",
       "      <td>не прошел 1 уровень</td>\n",
       "      <td>12</td>\n",
       "      <td>2020-05-05</td>\n",
       "      <td>0.790136</td>\n",
       "      <td>0.065845</td>\n",
       "    </tr>\n",
       "    <tr>\n",
       "      <th>...</th>\n",
       "      <td>...</td>\n",
       "      <td>...</td>\n",
       "      <td>...</td>\n",
       "      <td>...</td>\n",
       "      <td>...</td>\n",
       "      <td>...</td>\n",
       "      <td>...</td>\n",
       "      <td>...</td>\n",
       "      <td>...</td>\n",
       "      <td>...</td>\n",
       "      <td>...</td>\n",
       "    </tr>\n",
       "    <tr>\n",
       "      <th>13571</th>\n",
       "      <td>ffef4fed-164c-40e1-bde1-3980f76d0fb5</td>\n",
       "      <td>instagram_new_adverts</td>\n",
       "      <td>2020-05-04 01:58:59</td>\n",
       "      <td>2020-05-11 22:15:54</td>\n",
       "      <td>7 days 20:16:55</td>\n",
       "      <td>True</td>\n",
       "      <td>победил врага</td>\n",
       "      <td>9</td>\n",
       "      <td>2020-05-04</td>\n",
       "      <td>0.649590</td>\n",
       "      <td>0.072177</td>\n",
       "    </tr>\n",
       "    <tr>\n",
       "      <th>13572</th>\n",
       "      <td>fffab3da-da0e-4e30-ae62-10d0a2e24a4e</td>\n",
       "      <td>facebook_ads</td>\n",
       "      <td>2020-05-04 11:58:14</td>\n",
       "      <td>2020-05-14 10:11:36</td>\n",
       "      <td>9 days 22:13:22</td>\n",
       "      <td>False</td>\n",
       "      <td>не прошел 1 уровень</td>\n",
       "      <td>16</td>\n",
       "      <td>2020-05-04</td>\n",
       "      <td>0.790442</td>\n",
       "      <td>0.049403</td>\n",
       "    </tr>\n",
       "    <tr>\n",
       "      <th>13573</th>\n",
       "      <td>fffb626c-5ab6-47c9-8113-2062a2f18494</td>\n",
       "      <td>yandex_direct</td>\n",
       "      <td>2020-05-04 02:05:09</td>\n",
       "      <td>2020-05-12 13:01:52</td>\n",
       "      <td>8 days 10:56:43</td>\n",
       "      <td>True</td>\n",
       "      <td>победил врага</td>\n",
       "      <td>9</td>\n",
       "      <td>2020-05-04</td>\n",
       "      <td>0.466381</td>\n",
       "      <td>0.051820</td>\n",
       "    </tr>\n",
       "    <tr>\n",
       "      <th>13574</th>\n",
       "      <td>ffff194a-56b7-4c12-860d-3485242ae7f5</td>\n",
       "      <td>instagram_new_adverts</td>\n",
       "      <td>2020-05-04 20:28:28</td>\n",
       "      <td>2020-05-11 22:04:30</td>\n",
       "      <td>7 days 01:36:02</td>\n",
       "      <td>False</td>\n",
       "      <td>не прошел 1 уровень</td>\n",
       "      <td>7</td>\n",
       "      <td>2020-05-04</td>\n",
       "      <td>0.649590</td>\n",
       "      <td>0.092799</td>\n",
       "    </tr>\n",
       "    <tr>\n",
       "      <th>13575</th>\n",
       "      <td>ffff69cc-fec1-4fd3-9f98-93be1112a6b8</td>\n",
       "      <td>facebook_ads</td>\n",
       "      <td>2020-05-08 06:57:30</td>\n",
       "      <td>2020-05-25 14:05:51</td>\n",
       "      <td>17 days 07:08:21</td>\n",
       "      <td>True</td>\n",
       "      <td>реализовал проект</td>\n",
       "      <td>12</td>\n",
       "      <td>2020-05-08</td>\n",
       "      <td>0.804078</td>\n",
       "      <td>0.067006</td>\n",
       "    </tr>\n",
       "  </tbody>\n",
       "</table>\n",
       "<p>13576 rows × 11 columns</p>\n",
       "</div>"
      ],
      "text/plain": [
       "                                    user_id                   source  \\\n",
       "0      0001f83c-c6ac-4621-b7f0-8a28b283ac30             facebook_ads   \n",
       "1      00151b4f-ba38-44a8-a650-d7cf130a0105            yandex_direct   \n",
       "2      001aaea6-3d14-43f1-8ca8-7f48820f17aa  youtube_channel_reklama   \n",
       "3      001d39dc-366c-4021-9604-6a3b9ff01e25    instagram_new_adverts   \n",
       "4      002f508f-67b6-479f-814b-b05f00d4e995             facebook_ads   \n",
       "...                                     ...                      ...   \n",
       "13571  ffef4fed-164c-40e1-bde1-3980f76d0fb5    instagram_new_adverts   \n",
       "13572  fffab3da-da0e-4e30-ae62-10d0a2e24a4e             facebook_ads   \n",
       "13573  fffb626c-5ab6-47c9-8113-2062a2f18494            yandex_direct   \n",
       "13574  ffff194a-56b7-4c12-860d-3485242ae7f5    instagram_new_adverts   \n",
       "13575  ffff69cc-fec1-4fd3-9f98-93be1112a6b8             facebook_ads   \n",
       "\n",
       "             first_action         last_action  time_difference  \\\n",
       "0     2020-05-06 01:07:37 2020-05-20 11:26:06 14 days 10:18:29   \n",
       "1     2020-05-06 03:09:12 2020-05-18 10:46:52 12 days 07:37:40   \n",
       "2     2020-05-05 18:08:52 2020-05-14 09:21:27  8 days 15:12:35   \n",
       "3     2020-05-05 21:02:05 2020-05-12 07:40:47  6 days 10:38:42   \n",
       "4     2020-05-05 13:49:58 2020-05-22 02:46:45 16 days 12:56:47   \n",
       "...                   ...                 ...              ...   \n",
       "13571 2020-05-04 01:58:59 2020-05-11 22:15:54  7 days 20:16:55   \n",
       "13572 2020-05-04 11:58:14 2020-05-14 10:11:36  9 days 22:13:22   \n",
       "13573 2020-05-04 02:05:09 2020-05-12 13:01:52  8 days 10:56:43   \n",
       "13574 2020-05-04 20:28:28 2020-05-11 22:04:30  7 days 01:36:02   \n",
       "13575 2020-05-08 06:57:30 2020-05-25 14:05:51 17 days 07:08:21   \n",
       "\n",
       "       finished_1_stage             strategy  count_building   first_day  \\\n",
       "0                 False  не прошел 1 уровень              13  2020-05-06   \n",
       "1                 False  не прошел 1 уровень               9  2020-05-06   \n",
       "2                 False  не прошел 1 уровень               4  2020-05-05   \n",
       "3                  True        победил врага               8  2020-05-05   \n",
       "4                 False  не прошел 1 уровень              12  2020-05-05   \n",
       "...                 ...                  ...             ...         ...   \n",
       "13571              True        победил врага               9  2020-05-04   \n",
       "13572             False  не прошел 1 уровень              16  2020-05-04   \n",
       "13573              True        победил врага               9  2020-05-04   \n",
       "13574             False  не прошел 1 уровень               7  2020-05-04   \n",
       "13575              True    реализовал проект              12  2020-05-08   \n",
       "\n",
       "       cost_per_user   payback  \n",
       "0           0.754162  0.058012  \n",
       "1           0.464206  0.051578  \n",
       "2           0.390759  0.097690  \n",
       "3           0.631816  0.078977  \n",
       "4           0.790136  0.065845  \n",
       "...              ...       ...  \n",
       "13571       0.649590  0.072177  \n",
       "13572       0.790442  0.049403  \n",
       "13573       0.466381  0.051820  \n",
       "13574       0.649590  0.092799  \n",
       "13575       0.804078  0.067006  \n",
       "\n",
       "[13576 rows x 11 columns]"
      ]
     },
     "execution_count": 61,
     "metadata": {},
     "output_type": "execute_result"
    }
   ],
   "source": [
    "profiles"
   ]
  },
  {
   "cell_type": "code",
   "execution_count": 62,
   "metadata": {},
   "outputs": [
    {
     "data": {
      "image/png": "[encoded data removed]",
      "text/plain": [
       "<Figure size 720x432 with 1 Axes>"
      ]
     },
     "metadata": {
      "needs_background": "light"
     },
     "output_type": "display_data"
    }
   ],
   "source": [
    "# Настройка размера графика\n",
    "plt.figure(figsize=(10, 6))\n",
    "# Разделение количества построенных домов на источники\n",
    "sns.boxplot(x='source', y='count_building', data=profiles)\n",
    "\n",
    "# Настройка осей и заголовка\n",
    "plt.xlabel('Источник')\n",
    "plt.ylabel('Количество построенных домов')\n",
    "plt.title('Количество домов, построенных пользователям из различных источников')\n",
    "\n",
    "# Отображение графика\n",
    "plt.show()"
   ]
  },
  {
   "cell_type": "markdown",
   "metadata": {},
   "source": [
    "Как видно из графика, пользователи из различных каналов строят практически идентичное количество зданий с одинаковым разбросом. Таким образом, разница в окупаемости пользователей происходит только в результате разницы стоимости привлечения пользователей. Посмотрим это на графике."
   ]
  },
  {
   "cell_type": "code",
   "execution_count": 63,
   "metadata": {},
   "outputs": [
    {
     "data": {
      "image/png": "[encoded data removed]",
      "text/plain": [
       "<Figure size 720x432 with 1 Axes>"
      ]
     },
     "metadata": {
      "needs_background": "light"
     },
     "output_type": "display_data"
    }
   ],
   "source": [
    "# Настройка размера графика\n",
    "plt.figure(figsize=(10, 6))\n",
    "# Разделение окупаемости пользователей на источники\n",
    "sns.boxplot(x='source', y='payback', data=profiles)\n",
    "\n",
    "# Настройка осей и заголовка\n",
    "plt.xlabel('Источник')\n",
    "plt.ylabel('Сумма, необходимая для того, чтобы пользователь окупился')\n",
    "plt.title('Окупаемость пользователей из различных источников')\n",
    "\n",
    "# Отображение графика\n",
    "plt.show()"
   ]
  },
  {
   "cell_type": "markdown",
   "metadata": {},
   "source": [
    "Ряд пользователей почти ничего не строили, при этом на их привлечение тратился тот же объем средств, от этого видны выбросы. Ограничим рисунок сверху."
   ]
  },
  {
   "cell_type": "code",
   "execution_count": 64,
   "metadata": {},
   "outputs": [
    {
     "data": {
      "image/png": "[encoded data removed]",
      "text/plain": [
       "<Figure size 720x432 with 1 Axes>"
      ]
     },
     "metadata": {
      "needs_background": "light"
     },
     "output_type": "display_data"
    }
   ],
   "source": [
    "# Настройка размера графика\n",
    "plt.figure(figsize=(10, 6))\n",
    "# Разделение окупаемости пользователей на источники\n",
    "ax = sns.boxplot(x='source', y='payback', data=profiles)\n",
    "ax.set_ylim(top=0.25)\n",
    "# Настройка осей и заголовка\n",
    "plt.xlabel('Источник')\n",
    "plt.ylabel('Сумма, необходимая для того, чтобы пользователь окупился')\n",
    "plt.title('Окупаемость пользователей из различных источников')\n",
    "\n",
    "# Отображение графика\n",
    "plt.show()"
   ]
  },
  {
   "cell_type": "markdown",
   "metadata": {},
   "source": [
    "Чтобы окупились пользователи с Ютуба и Яндекса потребуется значительно меньше средств от показа рекламы, чем в случае с пользователями из инстаграма и фейсбука."
   ]
  },
  {
   "cell_type": "markdown",
   "metadata": {},
   "source": [
    "Рассмотрим еще один момент. Вдруг пользователи, привлеченные через один канал более стабильные игроки, чем через другие. Если такая зависимость реально есть, то вполне вероятно, что такие пользователи будут играть в игру и в следующих уровнях и в дальнейшем приносить доходы владельцам игры. Можно проверить, насколько велика доля пользователей, прошедших первый уровень по различным каналам."
   ]
  },
  {
   "cell_type": "code",
   "execution_count": 65,
   "metadata": {
    "scrolled": true
   },
   "outputs": [
    {
     "data": {
      "text/html": [
       "<div>\n",
       "<style scoped>\n",
       "    .dataframe tbody tr th:only-of-type {\n",
       "        vertical-align: middle;\n",
       "    }\n",
       "\n",
       "    .dataframe tbody tr th {\n",
       "        vertical-align: top;\n",
       "    }\n",
       "\n",
       "    .dataframe thead th {\n",
       "        text-align: right;\n",
       "    }\n",
       "</style>\n",
       "<table border=\"1\" class=\"dataframe\">\n",
       "  <thead>\n",
       "    <tr style=\"text-align: right;\">\n",
       "      <th></th>\n",
       "      <th>source</th>\n",
       "      <th>finished_1_stage</th>\n",
       "    </tr>\n",
       "  </thead>\n",
       "  <tbody>\n",
       "    <tr>\n",
       "      <th>0</th>\n",
       "      <td>facebook_ads</td>\n",
       "      <td>0.421864</td>\n",
       "    </tr>\n",
       "    <tr>\n",
       "      <th>1</th>\n",
       "      <td>instagram_new_adverts</td>\n",
       "      <td>0.438004</td>\n",
       "    </tr>\n",
       "    <tr>\n",
       "      <th>2</th>\n",
       "      <td>yandex_direct</td>\n",
       "      <td>0.423915</td>\n",
       "    </tr>\n",
       "    <tr>\n",
       "      <th>3</th>\n",
       "      <td>youtube_channel_reklama</td>\n",
       "      <td>0.431497</td>\n",
       "    </tr>\n",
       "  </tbody>\n",
       "</table>\n",
       "</div>"
      ],
      "text/plain": [
       "                    source  finished_1_stage\n",
       "0             facebook_ads          0.421864\n",
       "1    instagram_new_adverts          0.438004\n",
       "2            yandex_direct          0.423915\n",
       "3  youtube_channel_reklama          0.431497"
      ]
     },
     "execution_count": 65,
     "metadata": {},
     "output_type": "execute_result"
    }
   ],
   "source": [
    "profiles.groupby('source', as_index=False)['finished_1_stage'].mean()"
   ]
  },
  {
   "cell_type": "markdown",
   "metadata": {},
   "source": [
    "Разница в доле пользователей, которые прошли первый уровень, по различным каналам находится на уровне статистической погрешности и составляет 42-43%."
   ]
  },
  {
   "cell_type": "markdown",
   "metadata": {},
   "source": [
    "Ну и последнее, возможно, отличается выбранная стртатегия прохождения 1 уровня в зависимости от источника привлечения."
   ]
  },
  {
   "cell_type": "code",
   "execution_count": 66,
   "metadata": {},
   "outputs": [
    {
     "data": {
      "text/html": [
       "<div>\n",
       "<style scoped>\n",
       "    .dataframe tbody tr th:only-of-type {\n",
       "        vertical-align: middle;\n",
       "    }\n",
       "\n",
       "    .dataframe tbody tr th {\n",
       "        vertical-align: top;\n",
       "    }\n",
       "\n",
       "    .dataframe thead th {\n",
       "        text-align: right;\n",
       "    }\n",
       "</style>\n",
       "<table border=\"1\" class=\"dataframe\">\n",
       "  <thead>\n",
       "    <tr style=\"text-align: right;\">\n",
       "      <th>strategy</th>\n",
       "      <th>source</th>\n",
       "      <th>победил врага</th>\n",
       "      <th>реализовал проект</th>\n",
       "      <th>доля_выбравших_врага</th>\n",
       "    </tr>\n",
       "  </thead>\n",
       "  <tbody>\n",
       "    <tr>\n",
       "      <th>0</th>\n",
       "      <td>facebook_ads</td>\n",
       "      <td>759</td>\n",
       "      <td>391</td>\n",
       "      <td>0.660000</td>\n",
       "    </tr>\n",
       "    <tr>\n",
       "      <th>1</th>\n",
       "      <td>instagram_new_adverts</td>\n",
       "      <td>990</td>\n",
       "      <td>476</td>\n",
       "      <td>0.675307</td>\n",
       "    </tr>\n",
       "    <tr>\n",
       "      <th>2</th>\n",
       "      <td>yandex_direct</td>\n",
       "      <td>1422</td>\n",
       "      <td>620</td>\n",
       "      <td>0.696376</td>\n",
       "    </tr>\n",
       "    <tr>\n",
       "      <th>3</th>\n",
       "      <td>youtube_channel_reklama</td>\n",
       "      <td>780</td>\n",
       "      <td>379</td>\n",
       "      <td>0.672994</td>\n",
       "    </tr>\n",
       "  </tbody>\n",
       "</table>\n",
       "</div>"
      ],
      "text/plain": [
       "strategy                   source  победил врага  реализовал проект  \\\n",
       "0                    facebook_ads            759                391   \n",
       "1           instagram_new_adverts            990                476   \n",
       "2                   yandex_direct           1422                620   \n",
       "3         youtube_channel_reklama            780                379   \n",
       "\n",
       "strategy  доля_выбравших_врага  \n",
       "0                     0.660000  \n",
       "1                     0.675307  \n",
       "2                     0.696376  \n",
       "3                     0.672994  "
      ]
     },
     "execution_count": 66,
     "metadata": {},
     "output_type": "execute_result"
    }
   ],
   "source": [
    "count_strategy = profiles[profiles['finished_1_stage'] == True].groupby(['source', 'strategy'], as_index=False)['user_id'].count() \\\n",
    "    .pivot(index='source', columns='strategy', values='user_id').reset_index()\n",
    "count_strategy['доля_выбравших_врага'] = count_strategy['победил врага'] / (count_strategy['победил врага'] + count_strategy['реализовал проект'])\n",
    "count_strategy"
   ]
  },
  {
   "cell_type": "markdown",
   "metadata": {},
   "source": [
    "Поведение пользователей в вопросах выбора стратегии тоже не так различается. Доля, выбравших победить врага колеблется в зависимости от источника от 66% до 69,6%, из чего нельзя сделать вывод о каком-то влиянии стратегии. Скорее всего это также результат статистической погрешности."
   ]
  },
  {
   "cell_type": "markdown",
   "metadata": {},
   "source": [
    "**Вывод**: самыми рентабельными каналами привлечения являются Ютуб и Яндекс. Средняя стоимость привлечения 1 пользователя с фейсбука и инстаграма значительнее дороже. При этом существенная разница в поведении пользователей в завимости от канала привлечения не была обнаружена."
   ]
  },
  {
   "cell_type": "markdown",
   "metadata": {},
   "source": [
    "<span style=\"font-size: 1.5em\">Часть 5. Проверка статистических гипотез.</span>"
   ]
  },
  {
   "cell_type": "markdown",
   "metadata": {},
   "source": [
    "Вернемся к стратегиям, которые выбрали пользователи, чтобы пройти первый уровень: победить врага или реализовать проект. В части с исследовательским анализом данных мы увидели, что среднее время прохождение уровня и количество построенных зданий в рамках этих двух гипотез различается. Необходимо проверить, это различие случайное или нет. Таким образом, сформулируем 2 группы гипотез:\n",
    "- Первая группа гипотез о продолжительности времени игры в зависимости от выбранной игроками стратегии (победить врага или реализовать проект):\n",
    "    - Нулевая гипотеза: время продолжительности игры не отличается в зависимости от способа прохождения первого уровня.\n",
    "    - Альтернативная гипотеза: время продолжительности игры отличается в зависимости от способа прохождения первого уровня.\n",
    "- Вторая группа гипотез о количестве построенных зданий в в зависимости от выбранной игроками стратегии (победить врага или реализовать проект):\n",
    "    - Нулевая гипотеза: количество построенных зданийн е отличается в зависимости от способа прохождения первого уровня.\n",
    "    - Альтернативная гипотеза: количество построенных зданий отличается в зависимости от способа прохождения первого уровня."
   ]
  },
  {
   "cell_type": "markdown",
   "metadata": {},
   "source": [
    "В данных, которые относятся как к количеству построенных зданий, так и к количеству потраченных на прохождение уровня дней, нет явных выбросов и распределение в целом близкое к нормальному. Поэтому в качестве медота проверок гипотез можно использовать стандартный t-тест о равенстве двух средних для двух генеральных совокупностей."
   ]
  },
  {
   "cell_type": "markdown",
   "metadata": {},
   "source": [
    "Проверим первую группу гипотез о продолжитенльности времени игры."
   ]
  },
  {
   "cell_type": "code",
   "execution_count": 86,
   "metadata": {},
   "outputs": [
    {
     "name": "stdout",
     "output_type": "stream",
     "text": [
      "Относительная разница двух средних: 22 %\n",
      "p-значение: 1.8882835392369192e-97\n",
      "Отвергаем нулевую гипотезу\n"
     ]
    }
   ],
   "source": [
    "alpha = 0.05 # уровень статистической значимости\n",
    "# если p-value окажется меньше него, отвергнем гипотезу\n",
    "\n",
    "results = stats.ttest_ind(profiles[profiles['strategy'] == 'победил врага']['time_difference'].dt.days,\n",
    "                       profiles[profiles['strategy'] == 'реализовал проект']['time_difference'].dt.days)\n",
    "print('Относительная разница двух средних:', round((profiles[profiles['strategy'] == 'реализовал проект']['time_difference'].dt.days.mean()/\n",
    "     profiles[profiles['strategy'] == 'победил врага']['time_difference'].dt.days.mean() - 1) * 100), '%')\n",
    "print('p-значение:', results.pvalue)\n",
    "\n",
    "if results.pvalue < alpha:\n",
    "    print('Отвергаем нулевую гипотезу')\n",
    "else:\n",
    "    print('Не получилось отвергнуть нулевую гипотезу') "
   ]
  },
  {
   "cell_type": "markdown",
   "metadata": {},
   "source": [
    "p-значение оказалось слишком маленьким. Разница между двумя средними не случайна. Игроки, выбравшие стратегию победы над врагом стабильно быстрее проходят уровень по сравнению с теми, кто решил реализовать проект."
   ]
  },
  {
   "cell_type": "markdown",
   "metadata": {},
   "source": [
    "Проверим вторую группу гипотез о среднем количестве построенных зданий."
   ]
  },
  {
   "cell_type": "code",
   "execution_count": 87,
   "metadata": {},
   "outputs": [
    {
     "name": "stdout",
     "output_type": "stream",
     "text": [
      "Относительная разница двух средних: 34 %\n",
      "p-значение: 0.0\n",
      "Отвергаем нулевую гипотезу\n"
     ]
    }
   ],
   "source": [
    "alpha = 0.05 # уровень статистической значимости\n",
    "# если p-value окажется меньше него, отвергнем гипотезу\n",
    "\n",
    "results = stats.ttest_ind(profiles[profiles['strategy'] == 'победил врага']['count_building'],\n",
    "                       profiles[profiles['strategy'] == 'реализовал проект']['count_building'])\n",
    "print('Относительная разница двух средних:', round((profiles[profiles['strategy'] == 'реализовал проект']['count_building'].mean()/\n",
    "     profiles[profiles['strategy'] == 'победил врага']['count_building'].mean() - 1) * 100), '%')\n",
    "print('p-значение:', results.pvalue)\n",
    "\n",
    "if results.pvalue < alpha:\n",
    "    print('Отвергаем нулевую гипотезу')\n",
    "else:\n",
    "    print('Не получилось отвергнуть нулевую гипотезу') "
   ]
  },
  {
   "cell_type": "markdown",
   "metadata": {},
   "source": [
    "Во второй группе гипотез p-value и вовсе оказалось равно нулю. Можно с уверенностью утверждать, что средние в двух выборках различаются не случайно. Относительное различие средних и вовсе составило 34%. Те, кто выбрали стратегию победы над врагом строят значительно меньшее количество зданий. "
   ]
  },
  {
   "cell_type": "markdown",
   "metadata": {},
   "source": [
    "**Выводы:** в обеих группах гипотез была отвергнута гипотеза о равенстве средних двух выборок. Игроки, которые выбрали стратегию победы над врагом стабильно быстрее проходят 1 уровень (на 22% в среднем) и строят меньшее число зданий (на 34% в среднем)."
   ]
  },
  {
   "cell_type": "markdown",
   "metadata": {},
   "source": [
    "<span style=\"font-size: 1.5em\">Заключение</span>"
   ]
  },
  {
   "cell_type": "markdown",
   "metadata": {},
   "source": [
    "1. В датасете представлены пользователи, которые привлекались в течение недели, при это на первые дни привлечения приходится большая часть пользователей. Представлены данные за месяц игры. Из все привлеченных пользователей почти 60% не прошли первый уровень, поиграв в игру всего пару недель. Из тех, кто прошел первый уровень, большинство выбрало стратегию \"победа над врагом\" - около 30% от общего числа пользователей. Остальные выбрали стратегию реализации проекта.\n",
    "2. Самыми рентабельными каналами привлечения пользователей  являются Ютуб и Яндекс. Средняя стоимость привлечения 1 пользователя с Фейсбука и Инстаграма значительнее дороже. При этом общая сумма маркетинговый расходов в Ютуб значительно меньше других каналов. Хорошим решением будет перераспределить расходы на этот канал с Фейсбука и Инстаграма. Существенная разница в поведении пользователей в завимости от канала привлечения не была обнаружена.\n",
    "3. Стратегия \"победа над врагом\", которую выбрали большинство пользователей, прошедших уровень, значительно легче, чем стратегия \"реализация проекта\". Игроки, выбравшие \"победу над врагом\", значительно быстрее проходят первый уровень и строят меньшее число здания, в результате чего они приносят меньше денег владельцам игры, чем те пользователи, которые выбрали стратегию \"реализация проекта\". Лучше подкрутить баланс игры, чтобы обе стратегии были равнозначны по сложности."
   ]
  }
 ],
 "metadata": {
  "ExecuteTimeLog": [
   {
    "duration": 1197,
    "start_time": "2023-07-05T07:00:43.463Z"
   },
   {
    "duration": 553,
    "start_time": "2023-07-05T07:05:05.881Z"
   },
   {
    "duration": 390,
    "start_time": "2023-07-05T07:10:52.932Z"
   },
   {
    "duration": 29,
    "start_time": "2023-07-05T07:11:16.931Z"
   },
   {
    "duration": 10,
    "start_time": "2023-07-05T07:15:22.167Z"
   },
   {
    "duration": 8,
    "start_time": "2023-07-05T07:16:32.647Z"
   },
   {
    "duration": 13,
    "start_time": "2023-07-05T07:18:00.590Z"
   },
   {
    "duration": 187,
    "start_time": "2023-07-05T07:18:41.870Z"
   },
   {
    "duration": 41,
    "start_time": "2023-07-05T07:19:38.941Z"
   },
   {
    "duration": 9,
    "start_time": "2023-07-05T07:20:00.711Z"
   },
   {
    "duration": 42,
    "start_time": "2023-07-05T07:20:25.171Z"
   },
   {
    "duration": 464,
    "start_time": "2023-07-05T07:21:04.780Z"
   },
   {
    "duration": 5,
    "start_time": "2023-07-05T07:21:18.548Z"
   },
   {
    "duration": 8,
    "start_time": "2023-07-05T07:21:22.166Z"
   },
   {
    "duration": 46,
    "start_time": "2023-07-05T07:22:32.012Z"
   },
   {
    "duration": 10,
    "start_time": "2023-07-05T07:25:37.352Z"
   },
   {
    "duration": 11,
    "start_time": "2023-07-05T07:25:49.915Z"
   },
   {
    "duration": 4,
    "start_time": "2023-07-05T07:28:14.098Z"
   },
   {
    "duration": 4,
    "start_time": "2023-07-05T07:28:20.773Z"
   },
   {
    "duration": 58,
    "start_time": "2023-07-05T07:34:32.497Z"
   },
   {
    "duration": 47,
    "start_time": "2023-07-05T07:36:27.250Z"
   },
   {
    "duration": 4,
    "start_time": "2023-07-05T07:36:55.889Z"
   },
   {
    "duration": 101,
    "start_time": "2023-07-05T07:37:54.670Z"
   },
   {
    "duration": 10,
    "start_time": "2023-07-05T07:38:07.835Z"
   },
   {
    "duration": 13,
    "start_time": "2023-07-05T08:00:49.312Z"
   },
   {
    "duration": 35,
    "start_time": "2023-07-05T08:01:10.793Z"
   },
   {
    "duration": 12,
    "start_time": "2023-07-05T08:01:32.959Z"
   },
   {
    "duration": 26,
    "start_time": "2023-07-05T08:01:43.673Z"
   },
   {
    "duration": 15,
    "start_time": "2023-07-05T08:01:52.898Z"
   },
   {
    "duration": 24,
    "start_time": "2023-07-05T08:01:55.889Z"
   },
   {
    "duration": 4,
    "start_time": "2023-07-05T08:03:13.424Z"
   },
   {
    "duration": 5,
    "start_time": "2023-07-05T08:03:29.558Z"
   },
   {
    "duration": 47,
    "start_time": "2023-07-05T08:04:55.584Z"
   },
   {
    "duration": 308,
    "start_time": "2023-07-05T08:12:02.860Z"
   },
   {
    "duration": 112,
    "start_time": "2023-07-05T08:12:21.919Z"
   },
   {
    "duration": 85,
    "start_time": "2023-07-05T08:13:48.293Z"
   },
   {
    "duration": 16,
    "start_time": "2023-07-05T08:15:41.365Z"
   },
   {
    "duration": 65,
    "start_time": "2023-07-05T08:16:23.215Z"
   },
   {
    "duration": 53,
    "start_time": "2023-07-05T08:16:31.315Z"
   },
   {
    "duration": 9,
    "start_time": "2023-07-05T08:18:57.418Z"
   },
   {
    "duration": 12,
    "start_time": "2023-07-05T08:22:34.924Z"
   },
   {
    "duration": 317,
    "start_time": "2023-07-05T08:23:18.976Z"
   },
   {
    "duration": 8,
    "start_time": "2023-07-05T08:28:00.568Z"
   },
   {
    "duration": 12,
    "start_time": "2023-07-05T08:28:35.113Z"
   },
   {
    "duration": 31,
    "start_time": "2023-07-05T08:36:44.019Z"
   },
   {
    "duration": 31,
    "start_time": "2023-07-05T08:37:06.552Z"
   },
   {
    "duration": 53,
    "start_time": "2023-07-05T08:37:17.506Z"
   },
   {
    "duration": 29,
    "start_time": "2023-07-05T08:37:49.712Z"
   },
   {
    "duration": 11,
    "start_time": "2023-07-05T08:39:04.352Z"
   },
   {
    "duration": 11,
    "start_time": "2023-07-05T08:39:08.327Z"
   },
   {
    "duration": 21,
    "start_time": "2023-07-05T08:39:13.761Z"
   },
   {
    "duration": 8,
    "start_time": "2023-07-05T08:39:29.279Z"
   },
   {
    "duration": 28,
    "start_time": "2023-07-05T08:39:31.314Z"
   },
   {
    "duration": 20,
    "start_time": "2023-07-05T08:39:31.500Z"
   },
   {
    "duration": 10,
    "start_time": "2023-07-05T08:41:00.803Z"
   },
   {
    "duration": 47,
    "start_time": "2023-07-05T08:41:04.376Z"
   },
   {
    "duration": 29,
    "start_time": "2023-07-05T08:41:49.689Z"
   },
   {
    "duration": 25,
    "start_time": "2023-07-05T08:46:45.436Z"
   },
   {
    "duration": 30,
    "start_time": "2023-07-05T08:47:14.833Z"
   },
   {
    "duration": 27,
    "start_time": "2023-07-05T08:47:26.815Z"
   },
   {
    "duration": 20,
    "start_time": "2023-07-05T08:47:39.680Z"
   },
   {
    "duration": 10,
    "start_time": "2023-07-05T08:48:10.343Z"
   },
   {
    "duration": 46,
    "start_time": "2023-07-05T08:48:21.050Z"
   },
   {
    "duration": 16,
    "start_time": "2023-07-05T08:48:21.735Z"
   },
   {
    "duration": 46,
    "start_time": "2023-07-05T08:48:26.235Z"
   },
   {
    "duration": 14,
    "start_time": "2023-07-05T08:48:27.656Z"
   },
   {
    "duration": 13,
    "start_time": "2023-07-05T08:48:34.344Z"
   },
   {
    "duration": 2,
    "start_time": "2023-07-05T08:50:50.182Z"
   },
   {
    "duration": 32,
    "start_time": "2023-07-05T08:50:51.514Z"
   },
   {
    "duration": 11,
    "start_time": "2023-07-05T08:50:51.692Z"
   },
   {
    "duration": 27,
    "start_time": "2023-07-05T08:50:51.897Z"
   },
   {
    "duration": 13,
    "start_time": "2023-07-05T08:50:52.052Z"
   },
   {
    "duration": 4,
    "start_time": "2023-07-05T08:55:42.951Z"
   },
   {
    "duration": 13,
    "start_time": "2023-07-05T08:55:46.940Z"
   },
   {
    "duration": 4,
    "start_time": "2023-07-05T08:56:57.612Z"
   },
   {
    "duration": 4,
    "start_time": "2023-07-05T08:57:20.591Z"
   },
   {
    "duration": 11,
    "start_time": "2023-07-05T09:34:50.883Z"
   },
   {
    "duration": 30,
    "start_time": "2023-07-05T09:36:24.380Z"
   },
   {
    "duration": 12,
    "start_time": "2023-07-05T09:36:41.842Z"
   },
   {
    "duration": 20,
    "start_time": "2023-07-05T09:37:05.399Z"
   },
   {
    "duration": 4,
    "start_time": "2023-07-05T09:42:05.418Z"
   },
   {
    "duration": 13,
    "start_time": "2023-07-05T09:42:11.208Z"
   },
   {
    "duration": 9,
    "start_time": "2023-07-05T09:43:07.866Z"
   },
   {
    "duration": 1450,
    "start_time": "2023-07-05T09:43:17.238Z"
   },
   {
    "duration": 12,
    "start_time": "2023-07-05T09:43:26.849Z"
   },
   {
    "duration": 4,
    "start_time": "2023-07-05T09:59:23.750Z"
   },
   {
    "duration": 19,
    "start_time": "2023-07-05T09:59:28.176Z"
   },
   {
    "duration": 16,
    "start_time": "2023-07-05T09:59:59.636Z"
   },
   {
    "duration": 17,
    "start_time": "2023-07-05T10:00:10.366Z"
   },
   {
    "duration": 25,
    "start_time": "2023-07-05T10:00:23.311Z"
   },
   {
    "duration": 27,
    "start_time": "2023-07-05T10:00:31.224Z"
   },
   {
    "duration": 17,
    "start_time": "2023-07-05T10:07:36.369Z"
   },
   {
    "duration": 21,
    "start_time": "2023-07-05T10:09:11.799Z"
   },
   {
    "duration": 15,
    "start_time": "2023-07-05T10:18:18.283Z"
   },
   {
    "duration": 10,
    "start_time": "2023-07-05T10:18:25.834Z"
   },
   {
    "duration": 9,
    "start_time": "2023-07-05T10:23:16.924Z"
   },
   {
    "duration": 3595,
    "start_time": "2023-07-05T10:23:48.171Z"
   },
   {
    "duration": 17,
    "start_time": "2023-07-05T10:23:58.498Z"
   },
   {
    "duration": 3,
    "start_time": "2023-07-05T10:24:20.291Z"
   },
   {
    "duration": 14,
    "start_time": "2023-07-05T10:24:25.735Z"
   },
   {
    "duration": 21,
    "start_time": "2023-07-05T10:40:02.461Z"
   },
   {
    "duration": 19,
    "start_time": "2023-07-05T10:40:26.343Z"
   },
   {
    "duration": 18,
    "start_time": "2023-07-05T10:40:38.477Z"
   },
   {
    "duration": 15,
    "start_time": "2023-07-05T10:48:32.140Z"
   },
   {
    "duration": 37,
    "start_time": "2023-07-05T10:49:31.990Z"
   },
   {
    "duration": 25,
    "start_time": "2023-07-05T10:53:21.231Z"
   },
   {
    "duration": 19,
    "start_time": "2023-07-05T10:57:19.976Z"
   },
   {
    "duration": 57,
    "start_time": "2023-07-05T10:57:48.158Z"
   },
   {
    "duration": 52,
    "start_time": "2023-07-05T10:58:32.982Z"
   },
   {
    "duration": 45,
    "start_time": "2023-07-05T10:59:33.051Z"
   },
   {
    "duration": 44,
    "start_time": "2023-07-05T11:00:28.139Z"
   },
   {
    "duration": 59,
    "start_time": "2023-07-05T11:00:32.691Z"
   },
   {
    "duration": 71,
    "start_time": "2023-07-05T11:01:32.997Z"
   },
   {
    "duration": 8,
    "start_time": "2023-07-05T11:05:10.315Z"
   },
   {
    "duration": 12,
    "start_time": "2023-07-05T11:05:16.971Z"
   },
   {
    "duration": 16,
    "start_time": "2023-07-05T11:05:20.942Z"
   },
   {
    "duration": 6,
    "start_time": "2023-07-05T11:05:44.998Z"
   },
   {
    "duration": 6,
    "start_time": "2023-07-05T11:05:59.694Z"
   },
   {
    "duration": 15,
    "start_time": "2023-07-05T11:06:09.571Z"
   },
   {
    "duration": 23,
    "start_time": "2023-07-05T11:07:06.694Z"
   },
   {
    "duration": 17,
    "start_time": "2023-07-05T11:07:11.330Z"
   },
   {
    "duration": 7,
    "start_time": "2023-07-05T11:07:15.604Z"
   },
   {
    "duration": 30,
    "start_time": "2023-07-05T11:07:15.764Z"
   },
   {
    "duration": 12,
    "start_time": "2023-07-05T11:07:15.916Z"
   },
   {
    "duration": 31,
    "start_time": "2023-07-05T11:07:16.062Z"
   },
   {
    "duration": 12,
    "start_time": "2023-07-05T11:07:16.173Z"
   },
   {
    "duration": 5,
    "start_time": "2023-07-05T11:07:16.316Z"
   },
   {
    "duration": 10,
    "start_time": "2023-07-05T11:07:16.449Z"
   },
   {
    "duration": 1466,
    "start_time": "2023-07-05T11:07:16.587Z"
   },
   {
    "duration": 4,
    "start_time": "2023-07-05T11:07:18.055Z"
   },
   {
    "duration": 23,
    "start_time": "2023-07-05T11:07:18.061Z"
   },
   {
    "duration": 3830,
    "start_time": "2023-07-05T11:07:18.087Z"
   },
   {
    "duration": 4,
    "start_time": "2023-07-05T11:07:21.918Z"
   },
   {
    "duration": 93,
    "start_time": "2023-07-05T11:07:21.924Z"
   },
   {
    "duration": 12,
    "start_time": "2023-07-05T11:07:22.018Z"
   },
   {
    "duration": 27,
    "start_time": "2023-07-05T11:07:22.032Z"
   },
   {
    "duration": 4,
    "start_time": "2023-07-05T11:09:47.822Z"
   },
   {
    "duration": 19,
    "start_time": "2023-07-05T11:22:07.518Z"
   },
   {
    "duration": 17,
    "start_time": "2023-07-05T11:22:19.424Z"
   },
   {
    "duration": 10,
    "start_time": "2023-07-05T11:22:28.746Z"
   },
   {
    "duration": 98,
    "start_time": "2023-07-05T11:22:40.532Z"
   },
   {
    "duration": 11,
    "start_time": "2023-07-05T11:22:44.719Z"
   },
   {
    "duration": 18,
    "start_time": "2023-07-05T11:22:51.089Z"
   },
   {
    "duration": 25,
    "start_time": "2023-07-05T11:25:27.397Z"
   },
   {
    "duration": 7,
    "start_time": "2023-07-05T11:26:06.479Z"
   },
   {
    "duration": 18,
    "start_time": "2023-07-05T11:26:08.661Z"
   },
   {
    "duration": 7,
    "start_time": "2023-07-05T11:29:46.678Z"
   },
   {
    "duration": 21,
    "start_time": "2023-07-05T11:29:54.929Z"
   },
   {
    "duration": 41,
    "start_time": "2023-07-05T11:30:16.692Z"
   },
   {
    "duration": 16,
    "start_time": "2023-07-05T11:30:30.757Z"
   },
   {
    "duration": 9,
    "start_time": "2023-07-05T11:31:00.962Z"
   },
   {
    "duration": 10,
    "start_time": "2023-07-05T11:31:22.630Z"
   },
   {
    "duration": 5,
    "start_time": "2023-07-05T11:36:38.465Z"
   },
   {
    "duration": 14,
    "start_time": "2023-07-05T11:36:44.228Z"
   },
   {
    "duration": 3,
    "start_time": "2023-07-05T11:36:51.481Z"
   },
   {
    "duration": 9,
    "start_time": "2023-07-05T11:36:56.582Z"
   },
   {
    "duration": 8,
    "start_time": "2023-07-05T11:37:23.764Z"
   },
   {
    "duration": 15,
    "start_time": "2023-07-05T11:40:42.868Z"
   },
   {
    "duration": 12,
    "start_time": "2023-07-05T11:40:51.618Z"
   },
   {
    "duration": 4,
    "start_time": "2023-07-05T11:41:08.824Z"
   },
   {
    "duration": 13,
    "start_time": "2023-07-05T11:41:09.677Z"
   },
   {
    "duration": 3,
    "start_time": "2023-07-05T11:41:18.565Z"
   },
   {
    "duration": 11,
    "start_time": "2023-07-05T11:41:18.811Z"
   },
   {
    "duration": 107,
    "start_time": "2023-07-05T11:41:30.211Z"
   },
   {
    "duration": 25,
    "start_time": "2023-07-05T11:41:39.927Z"
   },
   {
    "duration": 8,
    "start_time": "2023-07-05T11:41:40.127Z"
   },
   {
    "duration": 6,
    "start_time": "2023-07-05T11:42:01.811Z"
   },
   {
    "duration": 14,
    "start_time": "2023-07-05T11:42:06.080Z"
   },
   {
    "duration": 4,
    "start_time": "2023-07-05T11:42:12.014Z"
   },
   {
    "duration": 9,
    "start_time": "2023-07-05T11:42:15.260Z"
   },
   {
    "duration": 11,
    "start_time": "2023-07-05T11:42:18.324Z"
   },
   {
    "duration": 14,
    "start_time": "2023-07-05T11:42:27.744Z"
   },
   {
    "duration": 8,
    "start_time": "2023-07-05T11:43:00.196Z"
   },
   {
    "duration": 11,
    "start_time": "2023-07-05T11:43:03.732Z"
   },
   {
    "duration": 12,
    "start_time": "2023-07-05T11:43:23.023Z"
   },
   {
    "duration": 11,
    "start_time": "2023-07-05T11:44:20.047Z"
   },
   {
    "duration": 12,
    "start_time": "2023-07-05T11:44:28.684Z"
   },
   {
    "duration": 14,
    "start_time": "2023-07-05T11:44:45.533Z"
   },
   {
    "duration": 10,
    "start_time": "2023-07-05T11:44:53.844Z"
   },
   {
    "duration": 14,
    "start_time": "2023-07-05T11:44:57.303Z"
   },
   {
    "duration": 13,
    "start_time": "2023-07-05T11:55:37.913Z"
   },
   {
    "duration": 6,
    "start_time": "2023-07-05T11:55:42.032Z"
   },
   {
    "duration": 5133,
    "start_time": "2023-07-05T11:55:42.779Z"
   },
   {
    "duration": 3,
    "start_time": "2023-07-05T11:56:03.774Z"
   },
   {
    "duration": 11,
    "start_time": "2023-07-05T11:56:11.150Z"
   },
   {
    "duration": 16,
    "start_time": "2023-07-05T12:00:34.116Z"
   },
   {
    "duration": 15,
    "start_time": "2023-07-05T12:05:46.232Z"
   },
   {
    "duration": 17,
    "start_time": "2023-07-05T12:06:38.021Z"
   },
   {
    "duration": 6,
    "start_time": "2023-07-05T12:06:55.436Z"
   },
   {
    "duration": 12,
    "start_time": "2023-07-05T12:06:59.458Z"
   },
   {
    "duration": 6,
    "start_time": "2023-07-05T12:07:55.385Z"
   },
   {
    "duration": 24,
    "start_time": "2023-07-05T12:07:57.849Z"
   },
   {
    "duration": 24,
    "start_time": "2023-07-05T12:08:17.431Z"
   },
   {
    "duration": 18,
    "start_time": "2023-07-05T12:08:40.318Z"
   },
   {
    "duration": 18,
    "start_time": "2023-07-05T12:08:52.434Z"
   },
   {
    "duration": 3,
    "start_time": "2023-07-05T12:09:10.236Z"
   },
   {
    "duration": 495,
    "start_time": "2023-07-05T12:09:10.575Z"
   },
   {
    "duration": 37,
    "start_time": "2023-07-05T12:09:11.072Z"
   },
   {
    "duration": 11,
    "start_time": "2023-07-05T12:09:11.111Z"
   },
   {
    "duration": 8,
    "start_time": "2023-07-05T12:09:11.288Z"
   },
   {
    "duration": 9,
    "start_time": "2023-07-05T12:09:11.586Z"
   },
   {
    "duration": 22,
    "start_time": "2023-07-05T12:09:11.905Z"
   },
   {
    "duration": 12,
    "start_time": "2023-07-05T12:09:12.054Z"
   },
   {
    "duration": 94,
    "start_time": "2023-07-05T12:09:12.363Z"
   },
   {
    "duration": 10,
    "start_time": "2023-07-05T12:09:12.519Z"
   },
   {
    "duration": 4,
    "start_time": "2023-07-05T12:09:12.848Z"
   },
   {
    "duration": 3,
    "start_time": "2023-07-05T12:09:13.168Z"
   },
   {
    "duration": 4,
    "start_time": "2023-07-05T12:09:13.325Z"
   },
   {
    "duration": 138,
    "start_time": "2023-07-05T12:09:13.650Z"
   },
   {
    "duration": 10,
    "start_time": "2023-07-05T12:09:13.807Z"
   },
   {
    "duration": 27,
    "start_time": "2023-07-05T12:09:14.624Z"
   },
   {
    "duration": 5,
    "start_time": "2023-07-05T12:09:14.793Z"
   },
   {
    "duration": 25,
    "start_time": "2023-07-05T12:09:15.132Z"
   },
   {
    "duration": 55,
    "start_time": "2023-07-05T12:09:15.630Z"
   },
   {
    "duration": 72,
    "start_time": "2023-07-05T12:09:15.959Z"
   },
   {
    "duration": 11,
    "start_time": "2023-07-05T12:09:16.142Z"
   },
   {
    "duration": 14,
    "start_time": "2023-07-05T12:09:16.311Z"
   },
   {
    "duration": 2,
    "start_time": "2023-07-05T12:09:16.793Z"
   },
   {
    "duration": 30,
    "start_time": "2023-07-05T12:09:16.961Z"
   },
   {
    "duration": 12,
    "start_time": "2023-07-05T12:09:17.143Z"
   },
   {
    "duration": 36,
    "start_time": "2023-07-05T12:09:17.284Z"
   },
   {
    "duration": 12,
    "start_time": "2023-07-05T12:09:17.465Z"
   },
   {
    "duration": 4,
    "start_time": "2023-07-05T12:09:17.629Z"
   },
   {
    "duration": 20,
    "start_time": "2023-07-05T12:09:17.790Z"
   },
   {
    "duration": 1370,
    "start_time": "2023-07-05T12:09:17.974Z"
   },
   {
    "duration": 4,
    "start_time": "2023-07-05T12:09:19.345Z"
   },
   {
    "duration": 21,
    "start_time": "2023-07-05T12:09:19.350Z"
   },
   {
    "duration": 3307,
    "start_time": "2023-07-05T12:09:19.373Z"
   },
   {
    "duration": 3,
    "start_time": "2023-07-05T12:09:22.681Z"
   },
   {
    "duration": 72,
    "start_time": "2023-07-05T12:09:22.685Z"
   },
   {
    "duration": 11,
    "start_time": "2023-07-05T12:09:22.759Z"
   },
   {
    "duration": 17,
    "start_time": "2023-07-05T12:09:22.773Z"
   },
   {
    "duration": 27,
    "start_time": "2023-07-05T12:09:22.791Z"
   },
   {
    "duration": 4,
    "start_time": "2023-07-05T12:09:22.820Z"
   },
   {
    "duration": 11,
    "start_time": "2023-07-05T12:09:22.826Z"
   },
   {
    "duration": 13,
    "start_time": "2023-07-05T12:09:22.838Z"
   },
   {
    "duration": 24,
    "start_time": "2023-07-05T12:09:22.852Z"
   },
   {
    "duration": 21,
    "start_time": "2023-07-05T12:09:22.878Z"
   },
   {
    "duration": 17,
    "start_time": "2023-07-05T12:09:38.595Z"
   },
   {
    "duration": 18,
    "start_time": "2023-07-05T12:11:33.720Z"
   },
   {
    "duration": 3,
    "start_time": "2023-07-05T12:11:40.235Z"
   },
   {
    "duration": 569,
    "start_time": "2023-07-05T12:11:40.550Z"
   },
   {
    "duration": 24,
    "start_time": "2023-07-05T12:11:41.121Z"
   },
   {
    "duration": 9,
    "start_time": "2023-07-05T12:11:41.147Z"
   },
   {
    "duration": 7,
    "start_time": "2023-07-05T12:11:41.261Z"
   },
   {
    "duration": 9,
    "start_time": "2023-07-05T12:11:41.576Z"
   },
   {
    "duration": 11,
    "start_time": "2023-07-05T12:11:41.915Z"
   },
   {
    "duration": 10,
    "start_time": "2023-07-05T12:11:42.064Z"
   },
   {
    "duration": 40,
    "start_time": "2023-07-05T12:11:42.420Z"
   },
   {
    "duration": 9,
    "start_time": "2023-07-05T12:11:42.835Z"
   },
   {
    "duration": 3,
    "start_time": "2023-07-05T12:11:43.175Z"
   },
   {
    "duration": 4,
    "start_time": "2023-07-05T12:11:43.514Z"
   },
   {
    "duration": 3,
    "start_time": "2023-07-05T12:11:43.678Z"
   },
   {
    "duration": 78,
    "start_time": "2023-07-05T12:11:43.993Z"
   },
   {
    "duration": 9,
    "start_time": "2023-07-05T12:11:44.158Z"
   },
   {
    "duration": 36,
    "start_time": "2023-07-05T12:11:44.989Z"
   },
   {
    "duration": 6,
    "start_time": "2023-07-05T12:11:45.158Z"
   },
   {
    "duration": 33,
    "start_time": "2023-07-05T12:11:45.502Z"
   },
   {
    "duration": 74,
    "start_time": "2023-07-05T12:11:45.995Z"
   },
   {
    "duration": 51,
    "start_time": "2023-07-05T12:11:46.318Z"
   },
   {
    "duration": 12,
    "start_time": "2023-07-05T12:11:46.493Z"
   },
   {
    "duration": 12,
    "start_time": "2023-07-05T12:11:46.670Z"
   },
   {
    "duration": 2,
    "start_time": "2023-07-05T12:11:47.165Z"
   },
   {
    "duration": 27,
    "start_time": "2023-07-05T12:11:47.346Z"
   },
   {
    "duration": 14,
    "start_time": "2023-07-05T12:11:47.518Z"
   },
   {
    "duration": 34,
    "start_time": "2023-07-05T12:11:47.696Z"
   },
   {
    "duration": 11,
    "start_time": "2023-07-05T12:11:47.883Z"
   },
   {
    "duration": 4,
    "start_time": "2023-07-05T12:11:48.054Z"
   },
   {
    "duration": 10,
    "start_time": "2023-07-05T12:11:48.230Z"
   },
   {
    "duration": 1453,
    "start_time": "2023-07-05T12:11:48.435Z"
   },
   {
    "duration": 3,
    "start_time": "2023-07-05T12:11:49.890Z"
   },
   {
    "duration": 29,
    "start_time": "2023-07-05T12:11:49.894Z"
   },
   {
    "duration": 3416,
    "start_time": "2023-07-05T12:11:49.925Z"
   },
   {
    "duration": 3,
    "start_time": "2023-07-05T12:11:53.343Z"
   },
   {
    "duration": 62,
    "start_time": "2023-07-05T12:11:53.348Z"
   },
   {
    "duration": 12,
    "start_time": "2023-07-05T12:11:53.412Z"
   },
   {
    "duration": 21,
    "start_time": "2023-07-05T12:11:53.427Z"
   },
   {
    "duration": 15,
    "start_time": "2023-07-05T12:11:53.449Z"
   },
   {
    "duration": 4,
    "start_time": "2023-07-05T12:11:53.465Z"
   },
   {
    "duration": 13,
    "start_time": "2023-07-05T12:11:53.471Z"
   },
   {
    "duration": 33,
    "start_time": "2023-07-05T12:11:53.485Z"
   },
   {
    "duration": 17,
    "start_time": "2023-07-05T12:11:53.520Z"
   },
   {
    "duration": 23,
    "start_time": "2023-07-05T12:11:53.538Z"
   },
   {
    "duration": 4,
    "start_time": "2023-07-05T12:19:48.577Z"
   },
   {
    "duration": 15,
    "start_time": "2023-07-05T12:20:12.519Z"
   },
   {
    "duration": 1519,
    "start_time": "2023-07-06T07:09:53.283Z"
   },
   {
    "duration": 502,
    "start_time": "2023-07-06T07:09:55.163Z"
   },
   {
    "duration": 32,
    "start_time": "2023-07-06T07:09:55.666Z"
   },
   {
    "duration": 11,
    "start_time": "2023-07-06T07:09:56.056Z"
   },
   {
    "duration": 9,
    "start_time": "2023-07-06T07:09:56.405Z"
   },
   {
    "duration": 10,
    "start_time": "2023-07-06T07:09:56.783Z"
   },
   {
    "duration": 13,
    "start_time": "2023-07-06T07:09:57.181Z"
   },
   {
    "duration": 11,
    "start_time": "2023-07-06T07:09:57.381Z"
   },
   {
    "duration": 85,
    "start_time": "2023-07-06T07:09:57.755Z"
   },
   {
    "duration": 10,
    "start_time": "2023-07-06T07:09:57.907Z"
   },
   {
    "duration": 6,
    "start_time": "2023-07-06T07:09:58.268Z"
   },
   {
    "duration": 4,
    "start_time": "2023-07-06T07:09:58.690Z"
   },
   {
    "duration": 5,
    "start_time": "2023-07-06T07:09:58.890Z"
   },
   {
    "duration": 184,
    "start_time": "2023-07-06T07:09:59.425Z"
   },
   {
    "duration": 15,
    "start_time": "2023-07-06T07:09:59.666Z"
   },
   {
    "duration": 31,
    "start_time": "2023-07-06T07:10:00.588Z"
   },
   {
    "duration": 8,
    "start_time": "2023-07-06T07:10:00.791Z"
   },
   {
    "duration": 30,
    "start_time": "2023-07-06T07:10:01.191Z"
   },
   {
    "duration": 61,
    "start_time": "2023-07-06T07:10:01.787Z"
   },
   {
    "duration": 62,
    "start_time": "2023-07-06T07:10:02.165Z"
   },
   {
    "duration": 9,
    "start_time": "2023-07-06T07:10:02.347Z"
   },
   {
    "duration": 12,
    "start_time": "2023-07-06T07:10:02.562Z"
   },
   {
    "duration": 3,
    "start_time": "2023-07-06T07:10:03.269Z"
   },
   {
    "duration": 32,
    "start_time": "2023-07-06T07:10:03.488Z"
   },
   {
    "duration": 15,
    "start_time": "2023-07-06T07:10:03.662Z"
   },
   {
    "duration": 31,
    "start_time": "2023-07-06T07:10:03.840Z"
   },
   {
    "duration": 14,
    "start_time": "2023-07-06T07:10:04.047Z"
   },
   {
    "duration": 5,
    "start_time": "2023-07-06T07:10:04.225Z"
   },
   {
    "duration": 10,
    "start_time": "2023-07-06T07:10:04.423Z"
   },
   {
    "duration": 1786,
    "start_time": "2023-07-06T07:10:04.598Z"
   },
   {
    "duration": 4,
    "start_time": "2023-07-06T07:10:06.386Z"
   },
   {
    "duration": 16,
    "start_time": "2023-07-06T07:10:06.392Z"
   },
   {
    "duration": 3913,
    "start_time": "2023-07-06T07:10:06.410Z"
   },
   {
    "duration": 5,
    "start_time": "2023-07-06T07:10:10.325Z"
   },
   {
    "duration": 61,
    "start_time": "2023-07-06T07:10:10.332Z"
   },
   {
    "duration": 15,
    "start_time": "2023-07-06T07:10:10.395Z"
   },
   {
    "duration": 23,
    "start_time": "2023-07-06T07:10:10.412Z"
   },
   {
    "duration": 22,
    "start_time": "2023-07-06T07:10:10.437Z"
   },
   {
    "duration": 4,
    "start_time": "2023-07-06T07:10:10.461Z"
   },
   {
    "duration": 26,
    "start_time": "2023-07-06T07:10:10.467Z"
   },
   {
    "duration": 22,
    "start_time": "2023-07-06T07:10:10.495Z"
   },
   {
    "duration": 11,
    "start_time": "2023-07-06T07:10:10.518Z"
   },
   {
    "duration": 80,
    "start_time": "2023-07-06T07:10:10.530Z"
   },
   {
    "duration": 17,
    "start_time": "2023-07-06T07:10:10.612Z"
   },
   {
    "duration": 78,
    "start_time": "2023-07-06T07:11:52.247Z"
   },
   {
    "duration": 9,
    "start_time": "2023-07-06T07:15:50.727Z"
   },
   {
    "duration": 142,
    "start_time": "2023-07-06T07:16:17.058Z"
   },
   {
    "duration": 7,
    "start_time": "2023-07-06T07:16:21.539Z"
   },
   {
    "duration": 12,
    "start_time": "2023-07-06T07:16:36.747Z"
   },
   {
    "duration": 7,
    "start_time": "2023-07-06T07:17:18.628Z"
   },
   {
    "duration": 20,
    "start_time": "2023-07-06T07:17:33.390Z"
   },
   {
    "duration": 11,
    "start_time": "2023-07-06T07:17:40.346Z"
   },
   {
    "duration": 232,
    "start_time": "2023-07-06T07:19:57.365Z"
   },
   {
    "duration": 191,
    "start_time": "2023-07-06T07:20:47.594Z"
   },
   {
    "duration": 197,
    "start_time": "2023-07-06T07:20:53.599Z"
   },
   {
    "duration": 165,
    "start_time": "2023-07-06T07:20:57.724Z"
   },
   {
    "duration": 159,
    "start_time": "2023-07-06T07:21:03.106Z"
   },
   {
    "duration": 164,
    "start_time": "2023-07-06T07:21:09.556Z"
   },
   {
    "duration": 10,
    "start_time": "2023-07-06T07:24:00.996Z"
   },
   {
    "duration": 6,
    "start_time": "2023-07-06T07:25:11.064Z"
   },
   {
    "duration": 10,
    "start_time": "2023-07-06T07:25:16.333Z"
   },
   {
    "duration": 1977,
    "start_time": "2023-07-06T07:27:03.368Z"
   },
   {
    "duration": 296,
    "start_time": "2023-07-06T07:27:11.316Z"
   },
   {
    "duration": 10,
    "start_time": "2023-07-06T07:50:50.067Z"
   },
   {
    "duration": 21,
    "start_time": "2023-07-06T07:50:56.732Z"
   },
   {
    "duration": 145,
    "start_time": "2023-07-06T07:51:49.453Z"
   },
   {
    "duration": 187,
    "start_time": "2023-07-06T07:52:44.590Z"
   },
   {
    "duration": 150,
    "start_time": "2023-07-06T07:52:56.849Z"
   },
   {
    "duration": 200,
    "start_time": "2023-07-06T07:53:08.169Z"
   },
   {
    "duration": 152,
    "start_time": "2023-07-06T07:53:16.062Z"
   },
   {
    "duration": 190,
    "start_time": "2023-07-06T07:53:21.311Z"
   },
   {
    "duration": 8,
    "start_time": "2023-07-06T07:53:55.724Z"
   },
   {
    "duration": 13,
    "start_time": "2023-07-06T07:53:59.007Z"
   },
   {
    "duration": 142,
    "start_time": "2023-07-06T07:55:22.687Z"
   },
   {
    "duration": 145,
    "start_time": "2023-07-06T07:55:28.077Z"
   },
   {
    "duration": 171,
    "start_time": "2023-07-06T07:55:46.576Z"
   },
   {
    "duration": 193,
    "start_time": "2023-07-06T07:56:49.763Z"
   },
   {
    "duration": 3,
    "start_time": "2023-07-06T07:57:18.027Z"
   },
   {
    "duration": 40098,
    "start_time": "2023-07-06T07:57:21.350Z"
   },
   {
    "duration": 94,
    "start_time": "2023-07-06T08:08:24.130Z"
   },
   {
    "duration": 4,
    "start_time": "2023-07-06T08:10:32.151Z"
   },
   {
    "duration": 14,
    "start_time": "2023-07-06T08:10:35.940Z"
   },
   {
    "duration": 12,
    "start_time": "2023-07-06T08:11:12.400Z"
   },
   {
    "duration": 137,
    "start_time": "2023-07-06T08:11:28.711Z"
   },
   {
    "duration": 113,
    "start_time": "2023-07-06T08:11:35.470Z"
   },
   {
    "duration": 9,
    "start_time": "2023-07-06T08:27:13.223Z"
   },
   {
    "duration": 10,
    "start_time": "2023-07-06T08:27:51.257Z"
   },
   {
    "duration": 9,
    "start_time": "2023-07-06T08:27:53.548Z"
   },
   {
    "duration": 135,
    "start_time": "2023-07-06T08:29:57.001Z"
   },
   {
    "duration": 239,
    "start_time": "2023-07-06T08:30:26.033Z"
   },
   {
    "duration": 148,
    "start_time": "2023-07-06T08:30:37.368Z"
   },
   {
    "duration": 143,
    "start_time": "2023-07-06T08:30:40.616Z"
   },
   {
    "duration": 42329,
    "start_time": "2023-07-06T08:34:45.239Z"
   },
   {
    "duration": 45,
    "start_time": "2023-07-06T11:08:45.732Z"
   },
   {
    "duration": 14,
    "start_time": "2023-07-06T11:09:07.641Z"
   },
   {
    "duration": 7,
    "start_time": "2023-07-06T11:09:38.774Z"
   },
   {
    "duration": 28,
    "start_time": "2023-07-06T11:09:44.739Z"
   },
   {
    "duration": 29,
    "start_time": "2023-07-06T11:09:51.240Z"
   },
   {
    "duration": 15,
    "start_time": "2023-07-06T11:09:57.600Z"
   },
   {
    "duration": 18,
    "start_time": "2023-07-06T11:10:08.805Z"
   },
   {
    "duration": 26,
    "start_time": "2023-07-06T11:10:18.834Z"
   },
   {
    "duration": 28,
    "start_time": "2023-07-06T11:10:30.432Z"
   },
   {
    "duration": 47,
    "start_time": "2023-07-06T11:17:37.043Z"
   },
   {
    "duration": 20,
    "start_time": "2023-07-06T11:17:45.946Z"
   },
   {
    "duration": 35,
    "start_time": "2023-07-06T11:17:52.343Z"
   },
   {
    "duration": 108,
    "start_time": "2023-07-06T11:21:11.049Z"
   },
   {
    "duration": 13,
    "start_time": "2023-07-06T11:21:15.158Z"
   },
   {
    "duration": 2799,
    "start_time": "2023-07-06T11:21:29.191Z"
   },
   {
    "duration": 6,
    "start_time": "2023-07-06T11:21:44.065Z"
   },
   {
    "duration": 5,
    "start_time": "2023-07-06T11:21:55.301Z"
   },
   {
    "duration": 27,
    "start_time": "2023-07-06T11:21:59.182Z"
   },
   {
    "duration": 5,
    "start_time": "2023-07-06T11:22:21.629Z"
   },
   {
    "duration": 19,
    "start_time": "2023-07-06T11:22:46.676Z"
   },
   {
    "duration": 183,
    "start_time": "2023-07-06T11:23:00.933Z"
   },
   {
    "duration": 156,
    "start_time": "2023-07-06T11:23:07.680Z"
   },
   {
    "duration": 16,
    "start_time": "2023-07-06T11:27:16.998Z"
   },
   {
    "duration": 15,
    "start_time": "2023-07-06T11:30:09.005Z"
   },
   {
    "duration": 23,
    "start_time": "2023-07-06T11:32:36.780Z"
   },
   {
    "duration": 818,
    "start_time": "2023-07-06T11:32:55.892Z"
   },
   {
    "duration": 6,
    "start_time": "2023-07-06T11:33:03.043Z"
   },
   {
    "duration": 10,
    "start_time": "2023-07-06T11:33:15.698Z"
   },
   {
    "duration": 196,
    "start_time": "2023-07-06T11:33:57.001Z"
   },
   {
    "duration": 188,
    "start_time": "2023-07-06T11:35:12.290Z"
   },
   {
    "duration": 412,
    "start_time": "2023-07-06T11:38:07.731Z"
   },
   {
    "duration": 469,
    "start_time": "2023-07-06T11:39:01.794Z"
   },
   {
    "duration": 453,
    "start_time": "2023-07-06T11:39:26.496Z"
   },
   {
    "duration": 404,
    "start_time": "2023-07-06T11:39:42.322Z"
   },
   {
    "duration": 549,
    "start_time": "2023-07-06T11:39:48.097Z"
   },
   {
    "duration": 501,
    "start_time": "2023-07-06T11:39:55.228Z"
   },
   {
    "duration": 530,
    "start_time": "2023-07-06T11:40:03.972Z"
   },
   {
    "duration": 541,
    "start_time": "2023-07-06T11:40:09.347Z"
   },
   {
    "duration": 229,
    "start_time": "2023-07-06T11:45:51.369Z"
   },
   {
    "duration": 25,
    "start_time": "2023-07-06T11:52:50.306Z"
   },
   {
    "duration": 6,
    "start_time": "2023-07-06T11:53:44.805Z"
   },
   {
    "duration": 27,
    "start_time": "2023-07-06T11:53:50.568Z"
   },
   {
    "duration": 6,
    "start_time": "2023-07-06T11:54:31.531Z"
   },
   {
    "duration": 14,
    "start_time": "2023-07-06T11:55:48.822Z"
   },
   {
    "duration": 277,
    "start_time": "2023-07-06T11:56:38.187Z"
   },
   {
    "duration": 187479,
    "start_time": "2023-07-06T12:00:11.301Z"
   },
   {
    "duration": 13,
    "start_time": "2023-07-06T12:06:02.422Z"
   },
   {
    "duration": 4,
    "start_time": "2023-07-06T12:06:22.811Z"
   },
   {
    "duration": 236,
    "start_time": "2023-07-06T12:06:26.461Z"
   },
   {
    "duration": 276,
    "start_time": "2023-07-06T12:06:54.398Z"
   },
   {
    "duration": 271,
    "start_time": "2023-07-06T12:07:26.009Z"
   },
   {
    "duration": 233,
    "start_time": "2023-07-06T12:09:14.105Z"
   },
   {
    "duration": 218,
    "start_time": "2023-07-06T12:10:08.970Z"
   },
   {
    "duration": 241,
    "start_time": "2023-07-06T12:10:16.539Z"
   },
   {
    "duration": 13,
    "start_time": "2023-07-06T12:10:42.524Z"
   },
   {
    "duration": 6,
    "start_time": "2023-07-06T12:11:50.415Z"
   },
   {
    "duration": 20,
    "start_time": "2023-07-06T12:40:43.615Z"
   },
   {
    "duration": 869,
    "start_time": "2023-07-06T12:41:44.618Z"
   },
   {
    "duration": 140,
    "start_time": "2023-07-06T12:48:03.369Z"
   },
   {
    "duration": 5,
    "start_time": "2023-07-06T12:48:11.347Z"
   },
   {
    "duration": 1273,
    "start_time": "2023-07-10T06:34:14.976Z"
   },
   {
    "duration": 412,
    "start_time": "2023-07-10T06:34:16.251Z"
   },
   {
    "duration": 45,
    "start_time": "2023-07-10T06:34:16.665Z"
   },
   {
    "duration": 23,
    "start_time": "2023-07-10T06:34:16.712Z"
   },
   {
    "duration": 16,
    "start_time": "2023-07-10T06:34:16.737Z"
   },
   {
    "duration": 15,
    "start_time": "2023-07-10T06:34:16.754Z"
   },
   {
    "duration": 14,
    "start_time": "2023-07-10T06:34:16.771Z"
   },
   {
    "duration": 14,
    "start_time": "2023-07-10T06:34:16.787Z"
   },
   {
    "duration": 117,
    "start_time": "2023-07-10T06:34:16.803Z"
   },
   {
    "duration": 9,
    "start_time": "2023-07-10T06:34:16.922Z"
   },
   {
    "duration": 7,
    "start_time": "2023-07-10T06:34:16.932Z"
   },
   {
    "duration": 6,
    "start_time": "2023-07-10T06:34:16.940Z"
   },
   {
    "duration": 6,
    "start_time": "2023-07-10T06:34:16.948Z"
   },
   {
    "duration": 348,
    "start_time": "2023-07-10T06:34:16.956Z"
   },
   {
    "duration": 10,
    "start_time": "2023-07-10T06:34:17.305Z"
   },
   {
    "duration": 46,
    "start_time": "2023-07-10T06:34:17.316Z"
   },
   {
    "duration": 6,
    "start_time": "2023-07-10T06:34:17.364Z"
   },
   {
    "duration": 30,
    "start_time": "2023-07-10T06:34:17.372Z"
   },
   {
    "duration": 53,
    "start_time": "2023-07-10T06:34:17.404Z"
   },
   {
    "duration": 65,
    "start_time": "2023-07-10T06:34:17.459Z"
   },
   {
    "duration": 7,
    "start_time": "2023-07-10T06:34:17.526Z"
   },
   {
    "duration": 23,
    "start_time": "2023-07-10T06:34:17.534Z"
   },
   {
    "duration": 2,
    "start_time": "2023-07-10T06:34:17.559Z"
   },
   {
    "duration": 35,
    "start_time": "2023-07-10T06:34:17.562Z"
   },
   {
    "duration": 12,
    "start_time": "2023-07-10T06:34:17.599Z"
   },
   {
    "duration": 28,
    "start_time": "2023-07-10T06:34:17.612Z"
   },
   {
    "duration": 11,
    "start_time": "2023-07-10T06:34:17.642Z"
   },
   {
    "duration": 15,
    "start_time": "2023-07-10T06:34:17.661Z"
   },
   {
    "duration": 10,
    "start_time": "2023-07-10T06:34:17.702Z"
   },
   {
    "duration": 1608,
    "start_time": "2023-07-10T06:34:17.733Z"
   },
   {
    "duration": 4,
    "start_time": "2023-07-10T06:34:19.343Z"
   },
   {
    "duration": 14,
    "start_time": "2023-07-10T06:34:19.348Z"
   },
   {
    "duration": 3646,
    "start_time": "2023-07-10T06:34:19.363Z"
   },
   {
    "duration": 3,
    "start_time": "2023-07-10T06:34:23.011Z"
   },
   {
    "duration": 66,
    "start_time": "2023-07-10T06:34:23.016Z"
   },
   {
    "duration": 29,
    "start_time": "2023-07-10T06:34:23.084Z"
   },
   {
    "duration": 13,
    "start_time": "2023-07-10T06:34:23.114Z"
   },
   {
    "duration": 14,
    "start_time": "2023-07-10T06:34:23.128Z"
   },
   {
    "duration": 3,
    "start_time": "2023-07-10T06:34:23.144Z"
   },
   {
    "duration": 21,
    "start_time": "2023-07-10T06:34:23.148Z"
   },
   {
    "duration": 15,
    "start_time": "2023-07-10T06:34:23.170Z"
   },
   {
    "duration": 5,
    "start_time": "2023-07-10T06:34:23.186Z"
   },
   {
    "duration": 13,
    "start_time": "2023-07-10T06:34:23.193Z"
   },
   {
    "duration": 18,
    "start_time": "2023-07-10T06:34:23.207Z"
   },
   {
    "duration": 226,
    "start_time": "2023-07-10T06:34:23.226Z"
   },
   {
    "duration": 162,
    "start_time": "2023-07-10T06:34:23.454Z"
   },
   {
    "duration": 36805,
    "start_time": "2023-07-10T06:34:23.617Z"
   },
   {
    "duration": 116,
    "start_time": "2023-07-10T06:35:00.424Z"
   },
   {
    "duration": 4,
    "start_time": "2023-07-10T06:35:00.542Z"
   },
   {
    "duration": 253,
    "start_time": "2023-07-10T06:35:00.548Z"
   },
   {
    "duration": 160,
    "start_time": "2023-07-10T06:35:00.803Z"
   },
   {
    "duration": 14,
    "start_time": "2023-07-10T06:35:00.965Z"
   },
   {
    "duration": 500,
    "start_time": "2023-07-10T06:35:00.980Z"
   },
   {
    "duration": 82,
    "start_time": "2023-07-10T06:36:22.008Z"
   },
   {
    "duration": 146,
    "start_time": "2023-07-10T06:36:26.525Z"
   },
   {
    "duration": 18,
    "start_time": "2023-07-10T06:36:45.235Z"
   },
   {
    "duration": 212,
    "start_time": "2023-07-10T06:41:15.768Z"
   },
   {
    "duration": 201,
    "start_time": "2023-07-10T06:43:42.867Z"
   },
   {
    "duration": 209,
    "start_time": "2023-07-10T06:44:13.814Z"
   },
   {
    "duration": 203,
    "start_time": "2023-07-10T06:44:23.148Z"
   },
   {
    "duration": 317,
    "start_time": "2023-07-10T06:44:39.995Z"
   },
   {
    "duration": 206,
    "start_time": "2023-07-10T06:46:25.152Z"
   },
   {
    "duration": 5,
    "start_time": "2023-07-10T06:51:34.260Z"
   },
   {
    "duration": 298,
    "start_time": "2023-07-10T06:52:18.922Z"
   },
   {
    "duration": 194,
    "start_time": "2023-07-10T06:52:40.951Z"
   },
   {
    "duration": 211,
    "start_time": "2023-07-10T07:00:16.539Z"
   },
   {
    "duration": 221,
    "start_time": "2023-07-10T07:01:21.812Z"
   },
   {
    "duration": 197,
    "start_time": "2023-07-10T07:01:45.524Z"
   },
   {
    "duration": 217,
    "start_time": "2023-07-10T07:02:53.613Z"
   },
   {
    "duration": 10,
    "start_time": "2023-07-10T07:11:11.394Z"
   },
   {
    "duration": 6,
    "start_time": "2023-07-10T07:19:15.170Z"
   },
   {
    "duration": 94,
    "start_time": "2023-07-10T07:22:23.527Z"
   },
   {
    "duration": 14,
    "start_time": "2023-07-10T07:22:30.902Z"
   },
   {
    "duration": 12,
    "start_time": "2023-07-10T07:24:28.050Z"
   },
   {
    "duration": 5,
    "start_time": "2023-07-10T07:24:37.461Z"
   },
   {
    "duration": 14,
    "start_time": "2023-07-10T07:25:05.741Z"
   },
   {
    "duration": 10,
    "start_time": "2023-07-10T07:25:09.398Z"
   },
   {
    "duration": 165,
    "start_time": "2023-07-10T07:25:29.939Z"
   },
   {
    "duration": 114,
    "start_time": "2023-07-10T07:26:44.306Z"
   },
   {
    "duration": 147,
    "start_time": "2023-07-10T07:26:52.240Z"
   },
   {
    "duration": 10,
    "start_time": "2023-07-10T07:27:05.009Z"
   },
   {
    "duration": 143,
    "start_time": "2023-07-10T07:27:25.526Z"
   },
   {
    "duration": 202,
    "start_time": "2023-07-10T07:37:51.970Z"
   },
   {
    "duration": 11,
    "start_time": "2023-07-10T07:40:56.029Z"
   },
   {
    "duration": 202,
    "start_time": "2023-07-10T07:42:05.833Z"
   },
   {
    "duration": 249,
    "start_time": "2023-07-10T07:44:05.765Z"
   },
   {
    "duration": 190,
    "start_time": "2023-07-10T07:45:41.358Z"
   },
   {
    "duration": 12,
    "start_time": "2023-07-10T07:46:53.689Z"
   },
   {
    "duration": 14,
    "start_time": "2023-07-10T07:47:05.116Z"
   },
   {
    "duration": 12,
    "start_time": "2023-07-10T07:47:12.184Z"
   },
   {
    "duration": 12,
    "start_time": "2023-07-10T07:47:55.914Z"
   },
   {
    "duration": 4,
    "start_time": "2023-07-10T07:48:30.700Z"
   },
   {
    "duration": 12,
    "start_time": "2023-07-10T07:48:37.188Z"
   },
   {
    "duration": 213,
    "start_time": "2023-07-10T07:48:55.600Z"
   },
   {
    "duration": 259,
    "start_time": "2023-07-10T07:49:01.636Z"
   },
   {
    "duration": 203,
    "start_time": "2023-07-10T07:49:20.389Z"
   },
   {
    "duration": 217,
    "start_time": "2023-07-10T07:49:27.604Z"
   },
   {
    "duration": 19,
    "start_time": "2023-07-10T08:12:45.651Z"
   },
   {
    "duration": 9,
    "start_time": "2023-07-10T08:18:16.660Z"
   },
   {
    "duration": 13,
    "start_time": "2023-07-10T08:18:38.827Z"
   },
   {
    "duration": 246,
    "start_time": "2023-07-10T08:18:54.613Z"
   },
   {
    "duration": 151,
    "start_time": "2023-07-10T08:19:25.361Z"
   },
   {
    "duration": 160,
    "start_time": "2023-07-10T08:19:39.287Z"
   },
   {
    "duration": 15,
    "start_time": "2023-07-10T08:21:48.572Z"
   },
   {
    "duration": 10,
    "start_time": "2023-07-10T08:22:46.559Z"
   },
   {
    "duration": 22,
    "start_time": "2023-07-10T08:23:02.015Z"
   },
   {
    "duration": 7,
    "start_time": "2023-07-10T08:23:34.936Z"
   },
   {
    "duration": 11,
    "start_time": "2023-07-10T08:23:45.858Z"
   },
   {
    "duration": 89,
    "start_time": "2023-07-10T08:25:20.290Z"
   },
   {
    "duration": 17,
    "start_time": "2023-07-10T08:25:27.277Z"
   },
   {
    "duration": 11,
    "start_time": "2023-07-10T08:25:59.041Z"
   },
   {
    "duration": 15,
    "start_time": "2023-07-10T08:26:14.651Z"
   },
   {
    "duration": 4,
    "start_time": "2023-07-10T08:27:35.082Z"
   },
   {
    "duration": 8,
    "start_time": "2023-07-10T08:27:41.006Z"
   },
   {
    "duration": 11,
    "start_time": "2023-07-10T08:27:44.946Z"
   },
   {
    "duration": 12,
    "start_time": "2023-07-10T08:29:02.333Z"
   },
   {
    "duration": 5,
    "start_time": "2023-07-10T08:29:07.155Z"
   },
   {
    "duration": 491,
    "start_time": "2023-07-10T08:29:07.590Z"
   },
   {
    "duration": 31,
    "start_time": "2023-07-10T08:29:08.083Z"
   },
   {
    "duration": 15,
    "start_time": "2023-07-10T08:29:08.115Z"
   },
   {
    "duration": 14,
    "start_time": "2023-07-10T08:29:08.499Z"
   },
   {
    "duration": 10,
    "start_time": "2023-07-10T08:29:09.285Z"
   },
   {
    "duration": 18,
    "start_time": "2023-07-10T08:29:09.349Z"
   },
   {
    "duration": 18,
    "start_time": "2023-07-10T08:29:09.386Z"
   },
   {
    "duration": 125,
    "start_time": "2023-07-10T08:29:09.447Z"
   },
   {
    "duration": 13,
    "start_time": "2023-07-10T08:29:09.673Z"
   },
   {
    "duration": 4,
    "start_time": "2023-07-10T08:29:10.216Z"
   },
   {
    "duration": 5,
    "start_time": "2023-07-10T08:29:10.280Z"
   },
   {
    "duration": 4,
    "start_time": "2023-07-10T08:29:10.317Z"
   },
   {
    "duration": 164,
    "start_time": "2023-07-10T08:29:10.993Z"
   },
   {
    "duration": 13,
    "start_time": "2023-07-10T08:29:11.159Z"
   },
   {
    "duration": 32,
    "start_time": "2023-07-10T08:29:11.188Z"
   },
   {
    "duration": 18,
    "start_time": "2023-07-10T08:29:11.222Z"
   },
   {
    "duration": 28,
    "start_time": "2023-07-10T08:29:11.289Z"
   },
   {
    "duration": 50,
    "start_time": "2023-07-10T08:29:11.387Z"
   },
   {
    "duration": 51,
    "start_time": "2023-07-10T08:29:11.458Z"
   },
   {
    "duration": 6,
    "start_time": "2023-07-10T08:29:11.511Z"
   },
   {
    "duration": 12,
    "start_time": "2023-07-10T08:29:11.520Z"
   },
   {
    "duration": 3,
    "start_time": "2023-07-10T08:29:11.615Z"
   },
   {
    "duration": 35,
    "start_time": "2023-07-10T08:29:11.651Z"
   },
   {
    "duration": 12,
    "start_time": "2023-07-10T08:29:11.688Z"
   },
   {
    "duration": 28,
    "start_time": "2023-07-10T08:29:11.717Z"
   },
   {
    "duration": 11,
    "start_time": "2023-07-10T08:29:11.748Z"
   },
   {
    "duration": 4,
    "start_time": "2023-07-10T08:29:11.783Z"
   },
   {
    "duration": 10,
    "start_time": "2023-07-10T08:29:11.819Z"
   },
   {
    "duration": 1728,
    "start_time": "2023-07-10T08:29:11.856Z"
   },
   {
    "duration": 4,
    "start_time": "2023-07-10T08:29:13.586Z"
   },
   {
    "duration": 29,
    "start_time": "2023-07-10T08:29:13.591Z"
   },
   {
    "duration": 3955,
    "start_time": "2023-07-10T08:29:13.622Z"
   },
   {
    "duration": 4,
    "start_time": "2023-07-10T08:29:17.579Z"
   },
   {
    "duration": 57,
    "start_time": "2023-07-10T08:29:17.584Z"
   },
   {
    "duration": 11,
    "start_time": "2023-07-10T08:29:17.643Z"
   },
   {
    "duration": 7,
    "start_time": "2023-07-10T08:29:17.655Z"
   },
   {
    "duration": 16,
    "start_time": "2023-07-10T08:29:17.663Z"
   },
   {
    "duration": 4,
    "start_time": "2023-07-10T08:29:17.681Z"
   },
   {
    "duration": 17,
    "start_time": "2023-07-10T08:29:17.687Z"
   },
   {
    "duration": 16,
    "start_time": "2023-07-10T08:29:17.705Z"
   },
   {
    "duration": 22,
    "start_time": "2023-07-10T08:29:17.722Z"
   },
   {
    "duration": 24,
    "start_time": "2023-07-10T08:29:17.746Z"
   },
   {
    "duration": 15,
    "start_time": "2023-07-10T08:29:17.771Z"
   },
   {
    "duration": 170,
    "start_time": "2023-07-10T08:29:17.787Z"
   },
   {
    "duration": 162,
    "start_time": "2023-07-10T08:29:17.960Z"
   },
   {
    "duration": 38079,
    "start_time": "2023-07-10T08:29:18.124Z"
   },
   {
    "duration": 141,
    "start_time": "2023-07-10T08:29:56.205Z"
   },
   {
    "duration": 5,
    "start_time": "2023-07-10T08:29:56.348Z"
   },
   {
    "duration": 266,
    "start_time": "2023-07-10T08:29:56.355Z"
   },
   {
    "duration": 146,
    "start_time": "2023-07-10T08:29:56.622Z"
   },
   {
    "duration": 8,
    "start_time": "2023-07-10T08:29:56.770Z"
   },
   {
    "duration": 450,
    "start_time": "2023-07-10T08:29:56.780Z"
   },
   {
    "duration": 23,
    "start_time": "2023-07-10T08:29:57.232Z"
   },
   {
    "duration": 261,
    "start_time": "2023-07-10T08:29:57.257Z"
   },
   {
    "duration": 217,
    "start_time": "2023-07-10T08:29:57.520Z"
   },
   {
    "duration": 160,
    "start_time": "2023-07-10T08:29:57.740Z"
   },
   {
    "duration": 13,
    "start_time": "2023-07-10T08:29:57.902Z"
   },
   {
    "duration": 8,
    "start_time": "2023-07-10T08:29:57.916Z"
   },
   {
    "duration": 24,
    "start_time": "2023-07-10T08:37:02.325Z"
   },
   {
    "duration": 165,
    "start_time": "2023-07-10T08:41:51.900Z"
   },
   {
    "duration": 176,
    "start_time": "2023-07-10T08:42:47.533Z"
   },
   {
    "duration": 6,
    "start_time": "2023-07-10T08:44:10.450Z"
   },
   {
    "duration": 7,
    "start_time": "2023-07-10T08:44:36.085Z"
   },
   {
    "duration": 7,
    "start_time": "2023-07-10T08:44:43.242Z"
   },
   {
    "duration": 8,
    "start_time": "2023-07-10T08:46:38.131Z"
   },
   {
    "duration": 10,
    "start_time": "2023-07-10T08:46:47.485Z"
   },
   {
    "duration": 8,
    "start_time": "2023-07-10T08:46:52.279Z"
   },
   {
    "duration": 10,
    "start_time": "2023-07-10T08:46:56.443Z"
   },
   {
    "duration": 7,
    "start_time": "2023-07-10T08:46:59.491Z"
   },
   {
    "duration": 207,
    "start_time": "2023-07-10T08:51:00.168Z"
   },
   {
    "duration": 162,
    "start_time": "2023-07-10T08:57:20.944Z"
   },
   {
    "duration": 167,
    "start_time": "2023-07-10T08:57:31.704Z"
   },
   {
    "duration": 18,
    "start_time": "2023-07-10T09:03:18.956Z"
   },
   {
    "duration": 227,
    "start_time": "2023-07-10T09:05:06.560Z"
   },
   {
    "duration": 7,
    "start_time": "2023-07-10T09:06:12.765Z"
   },
   {
    "duration": 11,
    "start_time": "2023-07-10T09:07:14.740Z"
   },
   {
    "duration": 110,
    "start_time": "2023-07-10T09:10:26.477Z"
   },
   {
    "duration": 18,
    "start_time": "2023-07-10T09:11:59.930Z"
   },
   {
    "duration": 19,
    "start_time": "2023-07-10T09:12:49.658Z"
   },
   {
    "duration": 13,
    "start_time": "2023-07-10T09:16:03.519Z"
   },
   {
    "duration": 15,
    "start_time": "2023-07-10T09:16:13.559Z"
   },
   {
    "duration": 2526,
    "start_time": "2023-07-10T09:20:11.730Z"
   },
   {
    "duration": 14,
    "start_time": "2023-07-10T09:20:20.886Z"
   },
   {
    "duration": 18,
    "start_time": "2023-07-10T09:20:48.689Z"
   },
   {
    "duration": 15,
    "start_time": "2023-07-10T09:20:56.172Z"
   },
   {
    "duration": 16,
    "start_time": "2023-07-10T09:22:29.788Z"
   },
   {
    "duration": 11,
    "start_time": "2023-07-10T09:22:44.722Z"
   },
   {
    "duration": 11,
    "start_time": "2023-07-10T09:29:46.967Z"
   },
   {
    "duration": 17,
    "start_time": "2023-07-10T09:29:54.792Z"
   },
   {
    "duration": 4,
    "start_time": "2023-07-10T09:31:09.696Z"
   },
   {
    "duration": 13,
    "start_time": "2023-07-10T09:31:15.668Z"
   },
   {
    "duration": 18,
    "start_time": "2023-07-10T09:31:24.104Z"
   },
   {
    "duration": 94,
    "start_time": "2023-07-11T07:06:55.623Z"
   },
   {
    "duration": 45,
    "start_time": "2023-07-11T07:07:11.819Z"
   },
   {
    "duration": 7,
    "start_time": "2023-07-11T07:07:21.323Z"
   },
   {
    "duration": 1375,
    "start_time": "2023-07-11T07:07:28.708Z"
   },
   {
    "duration": 609,
    "start_time": "2023-07-11T07:07:30.086Z"
   },
   {
    "duration": 42,
    "start_time": "2023-07-11T07:07:30.698Z"
   },
   {
    "duration": 23,
    "start_time": "2023-07-11T07:07:30.753Z"
   },
   {
    "duration": 38,
    "start_time": "2023-07-11T07:07:30.779Z"
   },
   {
    "duration": 49,
    "start_time": "2023-07-11T07:07:30.819Z"
   },
   {
    "duration": 50,
    "start_time": "2023-07-11T07:07:30.870Z"
   },
   {
    "duration": 46,
    "start_time": "2023-07-11T07:07:30.922Z"
   },
   {
    "duration": 112,
    "start_time": "2023-07-11T07:07:30.971Z"
   },
   {
    "duration": 13,
    "start_time": "2023-07-11T07:07:31.087Z"
   },
   {
    "duration": 54,
    "start_time": "2023-07-11T07:07:31.102Z"
   },
   {
    "duration": 51,
    "start_time": "2023-07-11T07:07:31.159Z"
   },
   {
    "duration": 57,
    "start_time": "2023-07-11T07:07:31.212Z"
   },
   {
    "duration": 372,
    "start_time": "2023-07-11T07:07:31.271Z"
   },
   {
    "duration": 18,
    "start_time": "2023-07-11T07:07:31.645Z"
   },
   {
    "duration": 64,
    "start_time": "2023-07-11T07:07:31.665Z"
   },
   {
    "duration": 20,
    "start_time": "2023-07-11T07:07:31.730Z"
   },
   {
    "duration": 43,
    "start_time": "2023-07-11T07:07:31.753Z"
   },
   {
    "duration": 72,
    "start_time": "2023-07-11T07:07:31.799Z"
   },
   {
    "duration": 80,
    "start_time": "2023-07-11T07:07:31.873Z"
   },
   {
    "duration": 12,
    "start_time": "2023-07-11T07:07:31.956Z"
   },
   {
    "duration": 30,
    "start_time": "2023-07-11T07:07:31.969Z"
   },
   {
    "duration": 3,
    "start_time": "2023-07-11T07:07:32.003Z"
   },
   {
    "duration": 63,
    "start_time": "2023-07-11T07:07:32.007Z"
   },
   {
    "duration": 20,
    "start_time": "2023-07-11T07:07:32.072Z"
   },
   {
    "duration": 41,
    "start_time": "2023-07-11T07:07:32.094Z"
   },
   {
    "duration": 19,
    "start_time": "2023-07-11T07:07:32.153Z"
   },
   {
    "duration": 22,
    "start_time": "2023-07-11T07:07:32.174Z"
   },
   {
    "duration": 19,
    "start_time": "2023-07-11T07:07:32.198Z"
   },
   {
    "duration": 2057,
    "start_time": "2023-07-11T07:07:32.219Z"
   },
   {
    "duration": 7,
    "start_time": "2023-07-11T07:07:34.278Z"
   },
   {
    "duration": 20,
    "start_time": "2023-07-11T07:07:34.287Z"
   },
   {
    "duration": 5114,
    "start_time": "2023-07-11T07:07:34.310Z"
   },
   {
    "duration": 4,
    "start_time": "2023-07-11T07:07:39.426Z"
   },
   {
    "duration": 81,
    "start_time": "2023-07-11T07:07:39.432Z"
   },
   {
    "duration": 16,
    "start_time": "2023-07-11T07:07:39.515Z"
   },
   {
    "duration": 20,
    "start_time": "2023-07-11T07:07:39.532Z"
   },
   {
    "duration": 15,
    "start_time": "2023-07-11T07:07:39.554Z"
   },
   {
    "duration": 5,
    "start_time": "2023-07-11T07:07:39.571Z"
   },
   {
    "duration": 16,
    "start_time": "2023-07-11T07:07:39.578Z"
   },
   {
    "duration": 23,
    "start_time": "2023-07-11T07:07:39.596Z"
   },
   {
    "duration": 33,
    "start_time": "2023-07-11T07:07:39.621Z"
   },
   {
    "duration": 13,
    "start_time": "2023-07-11T07:07:39.656Z"
   },
   {
    "duration": 20,
    "start_time": "2023-07-11T07:07:39.672Z"
   },
   {
    "duration": 322,
    "start_time": "2023-07-11T07:07:39.697Z"
   },
   {
    "duration": 218,
    "start_time": "2023-07-11T07:07:40.022Z"
   },
   {
    "duration": 45746,
    "start_time": "2023-07-11T07:07:40.242Z"
   },
   {
    "duration": 138,
    "start_time": "2023-07-11T07:08:25.991Z"
   },
   {
    "duration": 5,
    "start_time": "2023-07-11T07:08:26.130Z"
   },
   {
    "duration": 236,
    "start_time": "2023-07-11T07:08:26.137Z"
   },
   {
    "duration": 194,
    "start_time": "2023-07-11T07:08:26.375Z"
   },
   {
    "duration": 6,
    "start_time": "2023-07-11T07:08:26.571Z"
   },
   {
    "duration": 496,
    "start_time": "2023-07-11T07:08:26.580Z"
   },
   {
    "duration": 24,
    "start_time": "2023-07-11T07:08:27.079Z"
   },
   {
    "duration": 299,
    "start_time": "2023-07-11T07:08:27.106Z"
   },
   {
    "duration": 276,
    "start_time": "2023-07-11T07:08:27.408Z"
   },
   {
    "duration": 213,
    "start_time": "2023-07-11T07:08:27.686Z"
   },
   {
    "duration": 33,
    "start_time": "2023-07-11T07:08:27.901Z"
   },
   {
    "duration": 233,
    "start_time": "2023-07-11T07:08:27.936Z"
   },
   {
    "duration": 265,
    "start_time": "2023-07-11T07:08:28.171Z"
   },
   {
    "duration": 236,
    "start_time": "2023-07-11T07:08:28.438Z"
   },
   {
    "duration": 15,
    "start_time": "2023-07-11T07:08:28.676Z"
   },
   {
    "duration": 25,
    "start_time": "2023-07-11T07:08:28.693Z"
   },
   {
    "duration": 47,
    "start_time": "2023-07-11T07:08:28.720Z"
   },
   {
    "duration": 83,
    "start_time": "2023-07-11T07:08:28.770Z"
   },
   {
    "duration": 6,
    "start_time": "2023-07-11T07:11:09.183Z"
   },
   {
    "duration": 5,
    "start_time": "2023-07-11T07:11:34.043Z"
   },
   {
    "duration": 131,
    "start_time": "2023-07-11T07:11:47.620Z"
   },
   {
    "duration": 19,
    "start_time": "2023-07-11T07:11:51.739Z"
   },
   {
    "duration": 12,
    "start_time": "2023-07-11T07:12:27.820Z"
   },
   {
    "duration": 14,
    "start_time": "2023-07-11T07:13:15.560Z"
   },
   {
    "duration": 13,
    "start_time": "2023-07-11T07:13:21.618Z"
   },
   {
    "duration": 16,
    "start_time": "2023-07-11T07:13:26.250Z"
   },
   {
    "duration": 16,
    "start_time": "2023-07-11T07:13:31.050Z"
   },
   {
    "duration": 13,
    "start_time": "2023-07-11T07:13:48.469Z"
   },
   {
    "duration": 17,
    "start_time": "2023-07-11T07:15:51.109Z"
   },
   {
    "duration": 246,
    "start_time": "2023-07-11T07:16:25.524Z"
   },
   {
    "duration": 18,
    "start_time": "2023-07-11T07:16:33.188Z"
   },
   {
    "duration": 18,
    "start_time": "2023-07-11T07:16:53.219Z"
   },
   {
    "duration": 21,
    "start_time": "2023-07-11T07:17:14.664Z"
   },
   {
    "duration": 23,
    "start_time": "2023-07-11T07:17:28.219Z"
   },
   {
    "duration": 6,
    "start_time": "2023-07-11T07:17:36.181Z"
   },
   {
    "duration": 18,
    "start_time": "2023-07-11T07:17:47.199Z"
   },
   {
    "duration": 15,
    "start_time": "2023-07-11T07:22:54.430Z"
   },
   {
    "duration": 142,
    "start_time": "2023-07-11T07:59:48.029Z"
   },
   {
    "duration": 1868,
    "start_time": "2023-07-13T06:53:37.799Z"
   },
   {
    "duration": 581,
    "start_time": "2023-07-13T06:53:39.670Z"
   },
   {
    "duration": 56,
    "start_time": "2023-07-13T06:53:40.254Z"
   },
   {
    "duration": 73,
    "start_time": "2023-07-13T06:53:40.314Z"
   },
   {
    "duration": 24,
    "start_time": "2023-07-13T06:53:40.390Z"
   },
   {
    "duration": 42,
    "start_time": "2023-07-13T06:53:40.418Z"
   },
   {
    "duration": 41,
    "start_time": "2023-07-13T06:53:40.462Z"
   },
   {
    "duration": 76,
    "start_time": "2023-07-13T06:53:40.505Z"
   },
   {
    "duration": 139,
    "start_time": "2023-07-13T06:53:40.584Z"
   },
   {
    "duration": 15,
    "start_time": "2023-07-13T06:53:40.726Z"
   },
   {
    "duration": 26,
    "start_time": "2023-07-13T06:53:40.744Z"
   },
   {
    "duration": 22,
    "start_time": "2023-07-13T06:53:40.772Z"
   },
   {
    "duration": 29,
    "start_time": "2023-07-13T06:53:40.796Z"
   },
   {
    "duration": 197,
    "start_time": "2023-07-13T06:53:40.826Z"
   },
   {
    "duration": 16,
    "start_time": "2023-07-13T06:53:41.026Z"
   },
   {
    "duration": 49,
    "start_time": "2023-07-13T06:53:41.067Z"
   },
   {
    "duration": 6,
    "start_time": "2023-07-13T06:53:41.264Z"
   },
   {
    "duration": 48,
    "start_time": "2023-07-13T06:53:43.256Z"
   },
   {
    "duration": 76,
    "start_time": "2023-07-13T06:53:44.331Z"
   },
   {
    "duration": 82,
    "start_time": "2023-07-13T06:53:45.156Z"
   },
   {
    "duration": 14,
    "start_time": "2023-07-13T06:53:47.216Z"
   },
   {
    "duration": 21,
    "start_time": "2023-07-13T06:53:47.460Z"
   },
   {
    "duration": 4,
    "start_time": "2023-07-13T06:53:47.953Z"
   },
   {
    "duration": 40,
    "start_time": "2023-07-13T06:53:48.118Z"
   },
   {
    "duration": 21,
    "start_time": "2023-07-13T06:53:48.289Z"
   },
   {
    "duration": 39,
    "start_time": "2023-07-13T06:53:48.794Z"
   },
   {
    "duration": 27,
    "start_time": "2023-07-13T06:53:48.837Z"
   },
   {
    "duration": 5,
    "start_time": "2023-07-13T06:53:48.890Z"
   },
   {
    "duration": 13,
    "start_time": "2023-07-13T06:53:48.924Z"
   },
   {
    "duration": 1856,
    "start_time": "2023-07-13T06:53:48.964Z"
   },
   {
    "duration": 7,
    "start_time": "2023-07-13T06:53:50.823Z"
   },
   {
    "duration": 34,
    "start_time": "2023-07-13T06:53:50.832Z"
   },
   {
    "duration": 4353,
    "start_time": "2023-07-13T06:53:50.870Z"
   },
   {
    "duration": 5,
    "start_time": "2023-07-13T06:53:55.225Z"
   },
   {
    "duration": 64,
    "start_time": "2023-07-13T06:53:55.233Z"
   },
   {
    "duration": 28,
    "start_time": "2023-07-13T06:53:55.311Z"
   },
   {
    "duration": 14,
    "start_time": "2023-07-13T06:54:49.361Z"
   },
   {
    "duration": 17,
    "start_time": "2023-07-13T06:54:49.524Z"
   },
   {
    "duration": 6,
    "start_time": "2023-07-13T06:54:49.950Z"
   },
   {
    "duration": 12,
    "start_time": "2023-07-13T06:54:50.121Z"
   },
   {
    "duration": 24,
    "start_time": "2023-07-13T06:54:50.291Z"
   },
   {
    "duration": 12,
    "start_time": "2023-07-13T06:54:50.459Z"
   },
   {
    "duration": 14,
    "start_time": "2023-07-13T06:54:50.607Z"
   },
   {
    "duration": 18,
    "start_time": "2023-07-13T06:54:50.920Z"
   },
   {
    "duration": 83,
    "start_time": "2023-07-13T06:56:50.066Z"
   },
   {
    "duration": 5071,
    "start_time": "2023-07-13T06:56:59.201Z"
   },
   {
    "duration": 4891,
    "start_time": "2023-07-13T06:57:42.920Z"
   },
   {
    "duration": 13,
    "start_time": "2023-07-13T08:46:30.156Z"
   },
   {
    "duration": 26,
    "start_time": "2023-07-13T08:46:54.661Z"
   }
  ],
  "kernelspec": {
   "display_name": "Python 3 (ipykernel)",
   "language": "python",
   "name": "python3"
  },
  "language_info": {
   "codemirror_mode": {
    "name": "ipython",
    "version": 3
   },
   "file_extension": ".py",
   "mimetype": "text/x-python",
   "name": "python",
   "nbconvert_exporter": "python",
   "pygments_lexer": "ipython3",
   "version": "3.9.7"
  },
  "toc": {
   "base_numbering": 1,
   "nav_menu": {},
   "number_sections": true,
   "sideBar": true,
   "skip_h1_title": true,
   "title_cell": "Table of Contents",
   "title_sidebar": "Contents",
   "toc_cell": false,
   "toc_position": {},
   "toc_section_display": true,
   "toc_window_display": false
  }
 },
 "nbformat": 4,
 "nbformat_minor": 2
}
