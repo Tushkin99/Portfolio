{
 "cells": [
  {
   "cell_type": "markdown",
   "metadata": {},
   "source": [
    "## A/B-тестирование в интернет-магазине"
   ]
  },
  {
   "cell_type": "markdown",
   "metadata": {},
   "source": [
    "**Описание проекта** \\\n",
    "Я — аналитик крупного интернет-магазина. Вместе с отделом маркетинга я подготовил список гипотез для увеличения выручки.\n",
    "В первой части исследования мне необходимо приоритезировать гипотезы, во второй - запустить A/B-тест и проанализовать результаты. "
   ]
  },
  {
   "cell_type": "markdown",
   "metadata": {},
   "source": [
    "**Данные для первой части**: \\\n",
    "Hypothesis — краткое описание гипотезы; \\\n",
    "Reach — охват пользователей по 10-балльной шкале; \\\n",
    "Impact — влияние на пользователей по 10-балльной шкале; \\\n",
    "Confidence — уверенность в гипотезе по 10-балльной шкале; \\\n",
    "Efforts — затраты ресурсов на проверку гипотезы по 10-балльной шкале. Чем больше значение Efforts, тем дороже проверка гипотезы. \\\n",
    "**Данные для второй части**: \\\n",
    "transactionId — идентификатор заказа; \\\n",
    "visitorId — идентификатор пользователя, совершившего заказ; \\\n",
    "date — дата, когда был совершён заказ; \\\n",
    "revenue — выручка заказа; \\\n",
    "group — группа A/B-теста, в которую попал заказ. \\\n",
    "Файл /datasets/visitors.csv. Скачать датасет \\\n",
    "date — дата; \\\n",
    "group — группа A/B-теста; \\\n",
    "visitors — количество пользователей в указанную дату в указанной группе A/B-теста"
   ]
  },
  {
   "cell_type": "markdown",
   "metadata": {},
   "source": [
    "## Приоритизация гипотез"
   ]
  },
  {
   "cell_type": "code",
   "execution_count": 6,
   "metadata": {},
   "outputs": [],
   "source": [
    "#загружаем все необходимые для проекта библиотеки\n",
    "import pandas as pd\n",
    "import numpy as np\n",
    "import matplotlib.pyplot as plt\n",
    "from pandas.plotting import register_matplotlib_converters\n",
    "import warnings\n",
    "register_matplotlib_converters()\n",
    "import scipy.stats as stats"
   ]
  },
  {
   "cell_type": "code",
   "execution_count": 7,
   "metadata": {},
   "outputs": [
    {
     "data": {
      "text/html": [
       "<div>\n",
       "<style scoped>\n",
       "    .dataframe tbody tr th:only-of-type {\n",
       "        vertical-align: middle;\n",
       "    }\n",
       "\n",
       "    .dataframe tbody tr th {\n",
       "        vertical-align: top;\n",
       "    }\n",
       "\n",
       "    .dataframe thead th {\n",
       "        text-align: right;\n",
       "    }\n",
       "</style>\n",
       "<table border=\"1\" class=\"dataframe\">\n",
       "  <thead>\n",
       "    <tr style=\"text-align: right;\">\n",
       "      <th></th>\n",
       "      <th>Hypothesis</th>\n",
       "      <th>Reach</th>\n",
       "      <th>Impact</th>\n",
       "      <th>Confidence</th>\n",
       "      <th>Efforts</th>\n",
       "    </tr>\n",
       "  </thead>\n",
       "  <tbody>\n",
       "    <tr>\n",
       "      <th>0</th>\n",
       "      <td>Добавить два новых канала привлечения трафика,...</td>\n",
       "      <td>3</td>\n",
       "      <td>10</td>\n",
       "      <td>8</td>\n",
       "      <td>6</td>\n",
       "    </tr>\n",
       "    <tr>\n",
       "      <th>1</th>\n",
       "      <td>Запустить собственную службу доставки, что сок...</td>\n",
       "      <td>2</td>\n",
       "      <td>5</td>\n",
       "      <td>4</td>\n",
       "      <td>10</td>\n",
       "    </tr>\n",
       "    <tr>\n",
       "      <th>2</th>\n",
       "      <td>Добавить блоки рекомендаций товаров на сайт ин...</td>\n",
       "      <td>8</td>\n",
       "      <td>3</td>\n",
       "      <td>7</td>\n",
       "      <td>3</td>\n",
       "    </tr>\n",
       "    <tr>\n",
       "      <th>3</th>\n",
       "      <td>Изменить структура категорий, что увеличит кон...</td>\n",
       "      <td>8</td>\n",
       "      <td>3</td>\n",
       "      <td>3</td>\n",
       "      <td>8</td>\n",
       "    </tr>\n",
       "    <tr>\n",
       "      <th>4</th>\n",
       "      <td>Изменить цвет фона главной страницы, чтобы уве...</td>\n",
       "      <td>3</td>\n",
       "      <td>1</td>\n",
       "      <td>1</td>\n",
       "      <td>1</td>\n",
       "    </tr>\n",
       "    <tr>\n",
       "      <th>5</th>\n",
       "      <td>Добавить страницу отзывов клиентов о магазине,...</td>\n",
       "      <td>3</td>\n",
       "      <td>2</td>\n",
       "      <td>2</td>\n",
       "      <td>3</td>\n",
       "    </tr>\n",
       "    <tr>\n",
       "      <th>6</th>\n",
       "      <td>Показать на главной странице баннеры с актуаль...</td>\n",
       "      <td>5</td>\n",
       "      <td>3</td>\n",
       "      <td>8</td>\n",
       "      <td>3</td>\n",
       "    </tr>\n",
       "    <tr>\n",
       "      <th>7</th>\n",
       "      <td>Добавить форму подписки на все основные страни...</td>\n",
       "      <td>10</td>\n",
       "      <td>7</td>\n",
       "      <td>8</td>\n",
       "      <td>5</td>\n",
       "    </tr>\n",
       "    <tr>\n",
       "      <th>8</th>\n",
       "      <td>Запустить акцию, дающую скидку на товар в день...</td>\n",
       "      <td>1</td>\n",
       "      <td>9</td>\n",
       "      <td>9</td>\n",
       "      <td>5</td>\n",
       "    </tr>\n",
       "  </tbody>\n",
       "</table>\n",
       "</div>"
      ],
      "text/plain": [
       "                                          Hypothesis  Reach  Impact  \\\n",
       "0  Добавить два новых канала привлечения трафика,...      3      10   \n",
       "1  Запустить собственную службу доставки, что сок...      2       5   \n",
       "2  Добавить блоки рекомендаций товаров на сайт ин...      8       3   \n",
       "3  Изменить структура категорий, что увеличит кон...      8       3   \n",
       "4  Изменить цвет фона главной страницы, чтобы уве...      3       1   \n",
       "5  Добавить страницу отзывов клиентов о магазине,...      3       2   \n",
       "6  Показать на главной странице баннеры с актуаль...      5       3   \n",
       "7  Добавить форму подписки на все основные страни...     10       7   \n",
       "8  Запустить акцию, дающую скидку на товар в день...      1       9   \n",
       "\n",
       "   Confidence  Efforts  \n",
       "0           8        6  \n",
       "1           4       10  \n",
       "2           7        3  \n",
       "3           3        8  \n",
       "4           1        1  \n",
       "5           2        3  \n",
       "6           8        3  \n",
       "7           8        5  \n",
       "8           9        5  "
      ]
     },
     "execution_count": 7,
     "metadata": {},
     "output_type": "execute_result"
    }
   ],
   "source": [
    "# загружаем и смотрим файл с гипотезами\n",
    "hypo = pd.read_csv('/.../hypothesis.csv')\n",
    "hypo"
   ]
  },
  {
   "cell_type": "code",
   "execution_count": 8,
   "metadata": {},
   "outputs": [
    {
     "data": {
      "text/plain": [
       "['Добавить два новых канала привлечения трафика, что позволит привлекать на 30% больше пользователей',\n",
       " 'Запустить собственную службу доставки, что сократит срок доставки заказов',\n",
       " 'Добавить блоки рекомендаций товаров на сайт интернет магазина, чтобы повысить конверсию и средний чек заказа',\n",
       " 'Изменить структура категорий, что увеличит конверсию, т.к. пользователи быстрее найдут нужный товар',\n",
       " 'Изменить цвет фона главной страницы, чтобы увеличить вовлеченность пользователей',\n",
       " 'Добавить страницу отзывов клиентов о магазине, что позволит увеличить количество заказов',\n",
       " 'Показать на главной странице баннеры с актуальными акциями и распродажами, чтобы увеличить конверсию',\n",
       " 'Добавить форму подписки на все основные страницы, чтобы собрать базу клиентов для email-рассылок',\n",
       " 'Запустить акцию, дающую скидку на товар в день рождения']"
      ]
     },
     "execution_count": 8,
     "metadata": {},
     "output_type": "execute_result"
    }
   ],
   "source": [
    "#приводим гипотезы в читаемый вид для изучения\n",
    "hypo['Hypothesis'].to_list()"
   ]
  },
  {
   "cell_type": "markdown",
   "metadata": {},
   "source": [
    "### Применяем фреймворк ICE для приоритизации гипотез"
   ]
  },
  {
   "cell_type": "markdown",
   "metadata": {},
   "source": [
    "Два основных фреймворка для приоритезациии гипотез имеют следующие формулы:"
   ]
  },
  {
   "cell_type": "markdown",
   "metadata": {},
   "source": [
    "</ul></div> <br>\n",
    "\n",
    "$$ICE = \\frac{Impact * Confidence}{Efforts}$$\n",
    "\n",
    "$$RICE = \\frac{Rearch * Impact * Confidence}{Efforts}$$\n"
   ]
  },
  {
   "cell_type": "code",
   "execution_count": 9,
   "metadata": {},
   "outputs": [
    {
     "data": {
      "text/html": [
       "<div>\n",
       "<style scoped>\n",
       "    .dataframe tbody tr th:only-of-type {\n",
       "        vertical-align: middle;\n",
       "    }\n",
       "\n",
       "    .dataframe tbody tr th {\n",
       "        vertical-align: top;\n",
       "    }\n",
       "\n",
       "    .dataframe thead th {\n",
       "        text-align: right;\n",
       "    }\n",
       "</style>\n",
       "<table border=\"1\" class=\"dataframe\">\n",
       "  <thead>\n",
       "    <tr style=\"text-align: right;\">\n",
       "      <th></th>\n",
       "      <th>Hypothesis</th>\n",
       "      <th>ICE</th>\n",
       "    </tr>\n",
       "  </thead>\n",
       "  <tbody>\n",
       "    <tr>\n",
       "      <th>8</th>\n",
       "      <td>Запустить акцию, дающую скидку на товар в день...</td>\n",
       "      <td>16.200000</td>\n",
       "    </tr>\n",
       "    <tr>\n",
       "      <th>0</th>\n",
       "      <td>Добавить два новых канала привлечения трафика,...</td>\n",
       "      <td>13.333333</td>\n",
       "    </tr>\n",
       "    <tr>\n",
       "      <th>7</th>\n",
       "      <td>Добавить форму подписки на все основные страни...</td>\n",
       "      <td>11.200000</td>\n",
       "    </tr>\n",
       "    <tr>\n",
       "      <th>6</th>\n",
       "      <td>Показать на главной странице баннеры с актуаль...</td>\n",
       "      <td>8.000000</td>\n",
       "    </tr>\n",
       "    <tr>\n",
       "      <th>2</th>\n",
       "      <td>Добавить блоки рекомендаций товаров на сайт ин...</td>\n",
       "      <td>7.000000</td>\n",
       "    </tr>\n",
       "    <tr>\n",
       "      <th>1</th>\n",
       "      <td>Запустить собственную службу доставки, что сок...</td>\n",
       "      <td>2.000000</td>\n",
       "    </tr>\n",
       "    <tr>\n",
       "      <th>5</th>\n",
       "      <td>Добавить страницу отзывов клиентов о магазине,...</td>\n",
       "      <td>1.333333</td>\n",
       "    </tr>\n",
       "    <tr>\n",
       "      <th>3</th>\n",
       "      <td>Изменить структура категорий, что увеличит кон...</td>\n",
       "      <td>1.125000</td>\n",
       "    </tr>\n",
       "    <tr>\n",
       "      <th>4</th>\n",
       "      <td>Изменить цвет фона главной страницы, чтобы уве...</td>\n",
       "      <td>1.000000</td>\n",
       "    </tr>\n",
       "  </tbody>\n",
       "</table>\n",
       "</div>"
      ],
      "text/plain": [
       "                                          Hypothesis        ICE\n",
       "8  Запустить акцию, дающую скидку на товар в день...  16.200000\n",
       "0  Добавить два новых канала привлечения трафика,...  13.333333\n",
       "7  Добавить форму подписки на все основные страни...  11.200000\n",
       "6  Показать на главной странице баннеры с актуаль...   8.000000\n",
       "2  Добавить блоки рекомендаций товаров на сайт ин...   7.000000\n",
       "1  Запустить собственную службу доставки, что сок...   2.000000\n",
       "5  Добавить страницу отзывов клиентов о магазине,...   1.333333\n",
       "3  Изменить структура категорий, что увеличит кон...   1.125000\n",
       "4  Изменить цвет фона главной страницы, чтобы уве...   1.000000"
      ]
     },
     "execution_count": 9,
     "metadata": {},
     "output_type": "execute_result"
    }
   ],
   "source": [
    "hypo['ICE'] = (hypo['Impact'] * hypo['Confidence'])/hypo['Efforts']\n",
    "hypo[['Hypothesis', 'ICE']].sort_values(by='ICE', ascending=False)"
   ]
  },
  {
   "cell_type": "markdown",
   "metadata": {},
   "source": [
    "ICE показал, что наиболее приоритетными гипотезами являются запуск акций в день рождения, добавление новых каналов привлечения пользователей и добавление подписки."
   ]
  },
  {
   "cell_type": "markdown",
   "metadata": {},
   "source": [
    "### Применяем фреймворк RICE для приоритизации гипотез"
   ]
  },
  {
   "cell_type": "code",
   "execution_count": 10,
   "metadata": {
    "scrolled": true
   },
   "outputs": [
    {
     "data": {
      "text/html": [
       "<div>\n",
       "<style scoped>\n",
       "    .dataframe tbody tr th:only-of-type {\n",
       "        vertical-align: middle;\n",
       "    }\n",
       "\n",
       "    .dataframe tbody tr th {\n",
       "        vertical-align: top;\n",
       "    }\n",
       "\n",
       "    .dataframe thead th {\n",
       "        text-align: right;\n",
       "    }\n",
       "</style>\n",
       "<table border=\"1\" class=\"dataframe\">\n",
       "  <thead>\n",
       "    <tr style=\"text-align: right;\">\n",
       "      <th></th>\n",
       "      <th>Hypothesis</th>\n",
       "      <th>RICE</th>\n",
       "    </tr>\n",
       "  </thead>\n",
       "  <tbody>\n",
       "    <tr>\n",
       "      <th>7</th>\n",
       "      <td>Добавить форму подписки на все основные страни...</td>\n",
       "      <td>112.0</td>\n",
       "    </tr>\n",
       "    <tr>\n",
       "      <th>2</th>\n",
       "      <td>Добавить блоки рекомендаций товаров на сайт ин...</td>\n",
       "      <td>56.0</td>\n",
       "    </tr>\n",
       "    <tr>\n",
       "      <th>0</th>\n",
       "      <td>Добавить два новых канала привлечения трафика,...</td>\n",
       "      <td>40.0</td>\n",
       "    </tr>\n",
       "    <tr>\n",
       "      <th>6</th>\n",
       "      <td>Показать на главной странице баннеры с актуаль...</td>\n",
       "      <td>40.0</td>\n",
       "    </tr>\n",
       "    <tr>\n",
       "      <th>8</th>\n",
       "      <td>Запустить акцию, дающую скидку на товар в день...</td>\n",
       "      <td>16.2</td>\n",
       "    </tr>\n",
       "    <tr>\n",
       "      <th>3</th>\n",
       "      <td>Изменить структура категорий, что увеличит кон...</td>\n",
       "      <td>9.0</td>\n",
       "    </tr>\n",
       "    <tr>\n",
       "      <th>1</th>\n",
       "      <td>Запустить собственную службу доставки, что сок...</td>\n",
       "      <td>4.0</td>\n",
       "    </tr>\n",
       "    <tr>\n",
       "      <th>5</th>\n",
       "      <td>Добавить страницу отзывов клиентов о магазине,...</td>\n",
       "      <td>4.0</td>\n",
       "    </tr>\n",
       "    <tr>\n",
       "      <th>4</th>\n",
       "      <td>Изменить цвет фона главной страницы, чтобы уве...</td>\n",
       "      <td>3.0</td>\n",
       "    </tr>\n",
       "  </tbody>\n",
       "</table>\n",
       "</div>"
      ],
      "text/plain": [
       "                                          Hypothesis   RICE\n",
       "7  Добавить форму подписки на все основные страни...  112.0\n",
       "2  Добавить блоки рекомендаций товаров на сайт ин...   56.0\n",
       "0  Добавить два новых канала привлечения трафика,...   40.0\n",
       "6  Показать на главной странице баннеры с актуаль...   40.0\n",
       "8  Запустить акцию, дающую скидку на товар в день...   16.2\n",
       "3  Изменить структура категорий, что увеличит кон...    9.0\n",
       "1  Запустить собственную службу доставки, что сок...    4.0\n",
       "5  Добавить страницу отзывов клиентов о магазине,...    4.0\n",
       "4  Изменить цвет фона главной страницы, чтобы уве...    3.0"
      ]
     },
     "execution_count": 10,
     "metadata": {},
     "output_type": "execute_result"
    }
   ],
   "source": [
    "hypo['RICE'] = (hypo['Reach'] * hypo['Impact'] * hypo['Confidence'])/hypo['Efforts']\n",
    "hypo[['Hypothesis', 'RICE']].sort_values(by='RICE', ascending=False)"
   ]
  },
  {
   "cell_type": "markdown",
   "metadata": {},
   "source": [
    "**Вывод:** RICE сместил вниз гипотезу об акциях на день рождения, так как она захватывает совсем небольшое число клиентов. Теперь наиболее приоритетной гипотезой является введение подписки. На втором месте - добавление рекомендации. И третье место делят 2 гипотезы - добавление новых канало привлечнения трафика и отображение на главной странице баннеров с актуальными акциями и распродажами. Появление в топе гипотез введение рекомендаций связано с тем, что она охватывает большое количество пользователей. **Таким образом, самой приоритетной гипотезой, которую необходимо проверить, с большим отрывом становится введение подписки. Этим мы займемся в следующей части проекта.**"
   ]
  },
  {
   "cell_type": "markdown",
   "metadata": {},
   "source": [
    "## Анализ A/B-теста"
   ]
  },
  {
   "cell_type": "code",
   "execution_count": 11,
   "metadata": {},
   "outputs": [
    {
     "data": {
      "text/html": [
       "<div>\n",
       "<style scoped>\n",
       "    .dataframe tbody tr th:only-of-type {\n",
       "        vertical-align: middle;\n",
       "    }\n",
       "\n",
       "    .dataframe tbody tr th {\n",
       "        vertical-align: top;\n",
       "    }\n",
       "\n",
       "    .dataframe thead th {\n",
       "        text-align: right;\n",
       "    }\n",
       "</style>\n",
       "<table border=\"1\" class=\"dataframe\">\n",
       "  <thead>\n",
       "    <tr style=\"text-align: right;\">\n",
       "      <th></th>\n",
       "      <th>transactionId</th>\n",
       "      <th>visitorId</th>\n",
       "      <th>date</th>\n",
       "      <th>revenue</th>\n",
       "      <th>group</th>\n",
       "    </tr>\n",
       "  </thead>\n",
       "  <tbody>\n",
       "    <tr>\n",
       "      <th>0</th>\n",
       "      <td>3667963787</td>\n",
       "      <td>3312258926</td>\n",
       "      <td>2019-08-15</td>\n",
       "      <td>1650</td>\n",
       "      <td>B</td>\n",
       "    </tr>\n",
       "    <tr>\n",
       "      <th>1</th>\n",
       "      <td>2804400009</td>\n",
       "      <td>3642806036</td>\n",
       "      <td>2019-08-15</td>\n",
       "      <td>730</td>\n",
       "      <td>B</td>\n",
       "    </tr>\n",
       "    <tr>\n",
       "      <th>2</th>\n",
       "      <td>2961555356</td>\n",
       "      <td>4069496402</td>\n",
       "      <td>2019-08-15</td>\n",
       "      <td>400</td>\n",
       "      <td>A</td>\n",
       "    </tr>\n",
       "    <tr>\n",
       "      <th>3</th>\n",
       "      <td>3797467345</td>\n",
       "      <td>1196621759</td>\n",
       "      <td>2019-08-15</td>\n",
       "      <td>9759</td>\n",
       "      <td>B</td>\n",
       "    </tr>\n",
       "    <tr>\n",
       "      <th>4</th>\n",
       "      <td>2282983706</td>\n",
       "      <td>2322279887</td>\n",
       "      <td>2019-08-15</td>\n",
       "      <td>2308</td>\n",
       "      <td>B</td>\n",
       "    </tr>\n",
       "  </tbody>\n",
       "</table>\n",
       "</div>"
      ],
      "text/plain": [
       "   transactionId   visitorId        date  revenue group\n",
       "0     3667963787  3312258926  2019-08-15     1650     B\n",
       "1     2804400009  3642806036  2019-08-15      730     B\n",
       "2     2961555356  4069496402  2019-08-15      400     A\n",
       "3     3797467345  1196621759  2019-08-15     9759     B\n",
       "4     2282983706  2322279887  2019-08-15     2308     B"
      ]
     },
     "execution_count": 11,
     "metadata": {},
     "output_type": "execute_result"
    }
   ],
   "source": [
    "#загружаем и смотрим данные по заказам\n",
    "orders = pd.read_csv('/.../orders.csv')\n",
    "orders.head()"
   ]
  },
  {
   "cell_type": "code",
   "execution_count": 12,
   "metadata": {},
   "outputs": [
    {
     "data": {
      "text/html": [
       "<div>\n",
       "<style scoped>\n",
       "    .dataframe tbody tr th:only-of-type {\n",
       "        vertical-align: middle;\n",
       "    }\n",
       "\n",
       "    .dataframe tbody tr th {\n",
       "        vertical-align: top;\n",
       "    }\n",
       "\n",
       "    .dataframe thead th {\n",
       "        text-align: right;\n",
       "    }\n",
       "</style>\n",
       "<table border=\"1\" class=\"dataframe\">\n",
       "  <thead>\n",
       "    <tr style=\"text-align: right;\">\n",
       "      <th></th>\n",
       "      <th>date</th>\n",
       "      <th>group</th>\n",
       "      <th>visitors</th>\n",
       "    </tr>\n",
       "  </thead>\n",
       "  <tbody>\n",
       "    <tr>\n",
       "      <th>0</th>\n",
       "      <td>2019-08-01</td>\n",
       "      <td>A</td>\n",
       "      <td>719</td>\n",
       "    </tr>\n",
       "    <tr>\n",
       "      <th>1</th>\n",
       "      <td>2019-08-02</td>\n",
       "      <td>A</td>\n",
       "      <td>619</td>\n",
       "    </tr>\n",
       "    <tr>\n",
       "      <th>2</th>\n",
       "      <td>2019-08-03</td>\n",
       "      <td>A</td>\n",
       "      <td>507</td>\n",
       "    </tr>\n",
       "    <tr>\n",
       "      <th>3</th>\n",
       "      <td>2019-08-04</td>\n",
       "      <td>A</td>\n",
       "      <td>717</td>\n",
       "    </tr>\n",
       "    <tr>\n",
       "      <th>4</th>\n",
       "      <td>2019-08-05</td>\n",
       "      <td>A</td>\n",
       "      <td>756</td>\n",
       "    </tr>\n",
       "  </tbody>\n",
       "</table>\n",
       "</div>"
      ],
      "text/plain": [
       "         date group  visitors\n",
       "0  2019-08-01     A       719\n",
       "1  2019-08-02     A       619\n",
       "2  2019-08-03     A       507\n",
       "3  2019-08-04     A       717\n",
       "4  2019-08-05     A       756"
      ]
     },
     "execution_count": 12,
     "metadata": {},
     "output_type": "execute_result"
    }
   ],
   "source": [
    "#загружаем и смотрим данные по пользователям\n",
    "visitors = pd.read_csv('/.../visitors.csv')\n",
    "visitors.head()"
   ]
  },
  {
   "cell_type": "code",
   "execution_count": 13,
   "metadata": {},
   "outputs": [
    {
     "data": {
      "text/plain": [
       "array(['B', 'A'], dtype=object)"
      ]
     },
     "execution_count": 13,
     "metadata": {},
     "output_type": "execute_result"
    }
   ],
   "source": [
    "orders['group'].unique()"
   ]
  },
  {
   "cell_type": "code",
   "execution_count": 14,
   "metadata": {
    "scrolled": true
   },
   "outputs": [
    {
     "data": {
      "text/plain": [
       "array(['A', 'B'], dtype=object)"
      ]
     },
     "execution_count": 14,
     "metadata": {},
     "output_type": "execute_result"
    }
   ],
   "source": [
    "visitors['group'].unique()"
   ]
  },
  {
   "cell_type": "markdown",
   "metadata": {},
   "source": [
    "Всего в АВ-тесте две группы - А и В."
   ]
  },
  {
   "cell_type": "code",
   "execution_count": 15,
   "metadata": {
    "scrolled": true
   },
   "outputs": [
    {
     "data": {
      "text/plain": [
       "group\n",
       "A    503\n",
       "B    586\n",
       "Name: visitorId, dtype: int64"
      ]
     },
     "execution_count": 15,
     "metadata": {},
     "output_type": "execute_result"
    }
   ],
   "source": [
    "orders.groupby('group')['visitorId'].nunique()"
   ]
  },
  {
   "cell_type": "markdown",
   "metadata": {},
   "source": [
    "В группе А 503 уникальных пользователя, совершивших заказ, в группе В - 586."
   ]
  },
  {
   "cell_type": "code",
   "execution_count": 16,
   "metadata": {
    "scrolled": true
   },
   "outputs": [
    {
     "data": {
      "text/plain": [
       "'2019-08-01'"
      ]
     },
     "execution_count": 16,
     "metadata": {},
     "output_type": "execute_result"
    }
   ],
   "source": [
    "orders['date'].min()"
   ]
  },
  {
   "cell_type": "code",
   "execution_count": 17,
   "metadata": {
    "scrolled": true
   },
   "outputs": [
    {
     "data": {
      "text/plain": [
       "'2019-08-31'"
      ]
     },
     "execution_count": 17,
     "metadata": {},
     "output_type": "execute_result"
    }
   ],
   "source": [
    "orders['date'].max()"
   ]
  },
  {
   "cell_type": "markdown",
   "metadata": {},
   "source": [
    "Минимальная дата исследования - 1 августа 2019 года, максимальная - 31 августа 2019 года."
   ]
  },
  {
   "cell_type": "code",
   "execution_count": 18,
   "metadata": {
    "scrolled": true
   },
   "outputs": [
    {
     "data": {
      "text/plain": [
       "183"
      ]
     },
     "execution_count": 18,
     "metadata": {},
     "output_type": "execute_result"
    }
   ],
   "source": [
    "#cоздадим датафрейм, где бы отражались id пользователей, которые есть в двух выборках\n",
    "orders_A = orders[orders['group'] == 'A']\n",
    "orders_B = orders[orders['group'] == 'B']\n",
    "orders_double = orders_A.merge(orders_B, on='visitorId')['visitorId']\n",
    "orders_double.count()"
   ]
  },
  {
   "cell_type": "markdown",
   "metadata": {},
   "source": [
    "Всего 183 пользователя, которые оказались сразу в двух выборках"
   ]
  },
  {
   "cell_type": "code",
   "execution_count": 19,
   "metadata": {},
   "outputs": [],
   "source": [
    "#удалим пользователей, которые оказались в обеих выборках\n",
    "orders = orders[~orders['visitorId'].isin(orders_double)]"
   ]
  },
  {
   "cell_type": "code",
   "execution_count": 20,
   "metadata": {
    "scrolled": true
   },
   "outputs": [
    {
     "data": {
      "text/plain": [
       "0"
      ]
     },
     "execution_count": 20,
     "metadata": {},
     "output_type": "execute_result"
    }
   ],
   "source": [
    "orders.duplicated().sum()"
   ]
  },
  {
   "cell_type": "code",
   "execution_count": 21,
   "metadata": {},
   "outputs": [
    {
     "data": {
      "text/plain": [
       "0"
      ]
     },
     "execution_count": 21,
     "metadata": {},
     "output_type": "execute_result"
    }
   ],
   "source": [
    "visitors.duplicated().sum()"
   ]
  },
  {
   "cell_type": "markdown",
   "metadata": {},
   "source": [
    "Дубликатов в данных нет."
   ]
  },
  {
   "cell_type": "code",
   "execution_count": 22,
   "metadata": {
    "scrolled": true
   },
   "outputs": [
    {
     "name": "stdout",
     "output_type": "stream",
     "text": [
      "<class 'pandas.core.frame.DataFrame'>\n",
      "Int64Index: 1016 entries, 0 to 1196\n",
      "Data columns (total 5 columns):\n",
      " #   Column         Non-Null Count  Dtype \n",
      "---  ------         --------------  ----- \n",
      " 0   transactionId  1016 non-null   int64 \n",
      " 1   visitorId      1016 non-null   int64 \n",
      " 2   date           1016 non-null   object\n",
      " 3   revenue        1016 non-null   int64 \n",
      " 4   group          1016 non-null   object\n",
      "dtypes: int64(3), object(2)\n",
      "memory usage: 47.6+ KB\n"
     ]
    }
   ],
   "source": [
    "orders.info()"
   ]
  },
  {
   "cell_type": "code",
   "execution_count": 23,
   "metadata": {
    "scrolled": true
   },
   "outputs": [
    {
     "name": "stdout",
     "output_type": "stream",
     "text": [
      "<class 'pandas.core.frame.DataFrame'>\n",
      "RangeIndex: 62 entries, 0 to 61\n",
      "Data columns (total 3 columns):\n",
      " #   Column    Non-Null Count  Dtype \n",
      "---  ------    --------------  ----- \n",
      " 0   date      62 non-null     object\n",
      " 1   group     62 non-null     object\n",
      " 2   visitors  62 non-null     int64 \n",
      "dtypes: int64(1), object(2)\n",
      "memory usage: 1.6+ KB\n"
     ]
    }
   ],
   "source": [
    "visitors.info()"
   ]
  },
  {
   "cell_type": "markdown",
   "metadata": {},
   "source": [
    "Пропусков в данных нет."
   ]
  },
  {
   "cell_type": "markdown",
   "metadata": {},
   "source": [
    "### График кумулятивной выручки по группам"
   ]
  },
  {
   "cell_type": "code",
   "execution_count": 24,
   "metadata": {},
   "outputs": [
    {
     "data": {
      "text/html": [
       "<div>\n",
       "<style scoped>\n",
       "    .dataframe tbody tr th:only-of-type {\n",
       "        vertical-align: middle;\n",
       "    }\n",
       "\n",
       "    .dataframe tbody tr th {\n",
       "        vertical-align: top;\n",
       "    }\n",
       "\n",
       "    .dataframe thead th {\n",
       "        text-align: right;\n",
       "    }\n",
       "</style>\n",
       "<table border=\"1\" class=\"dataframe\">\n",
       "  <thead>\n",
       "    <tr style=\"text-align: right;\">\n",
       "      <th></th>\n",
       "      <th>date</th>\n",
       "      <th>group</th>\n",
       "    </tr>\n",
       "  </thead>\n",
       "  <tbody>\n",
       "    <tr>\n",
       "      <th>0</th>\n",
       "      <td>2019-08-15</td>\n",
       "      <td>B</td>\n",
       "    </tr>\n",
       "    <tr>\n",
       "      <th>7</th>\n",
       "      <td>2019-08-15</td>\n",
       "      <td>A</td>\n",
       "    </tr>\n",
       "    <tr>\n",
       "      <th>45</th>\n",
       "      <td>2019-08-16</td>\n",
       "      <td>A</td>\n",
       "    </tr>\n",
       "    <tr>\n",
       "      <th>47</th>\n",
       "      <td>2019-08-16</td>\n",
       "      <td>B</td>\n",
       "    </tr>\n",
       "    <tr>\n",
       "      <th>55</th>\n",
       "      <td>2019-08-01</td>\n",
       "      <td>A</td>\n",
       "    </tr>\n",
       "  </tbody>\n",
       "</table>\n",
       "</div>"
      ],
      "text/plain": [
       "          date group\n",
       "0   2019-08-15     B\n",
       "7   2019-08-15     A\n",
       "45  2019-08-16     A\n",
       "47  2019-08-16     B\n",
       "55  2019-08-01     A"
      ]
     },
     "execution_count": 24,
     "metadata": {},
     "output_type": "execute_result"
    }
   ],
   "source": [
    "#создаем датафрейм datesGroups с уникальными парами значений 'date' и 'group', таблицы orders\n",
    "datesGroups = orders[['date', 'group']].drop_duplicates()\n",
    "datesGroups.head()"
   ]
  },
  {
   "cell_type": "code",
   "execution_count": 25,
   "metadata": {
    "scrolled": true
   },
   "outputs": [
    {
     "data": {
      "text/html": [
       "<div>\n",
       "<style scoped>\n",
       "    .dataframe tbody tr th:only-of-type {\n",
       "        vertical-align: middle;\n",
       "    }\n",
       "\n",
       "    .dataframe tbody tr th {\n",
       "        vertical-align: top;\n",
       "    }\n",
       "\n",
       "    .dataframe thead th {\n",
       "        text-align: right;\n",
       "    }\n",
       "</style>\n",
       "<table border=\"1\" class=\"dataframe\">\n",
       "  <thead>\n",
       "    <tr style=\"text-align: right;\">\n",
       "      <th></th>\n",
       "      <th>date</th>\n",
       "      <th>group</th>\n",
       "      <th>transactionId</th>\n",
       "      <th>visitorId</th>\n",
       "      <th>revenue</th>\n",
       "    </tr>\n",
       "  </thead>\n",
       "  <tbody>\n",
       "    <tr>\n",
       "      <th>55</th>\n",
       "      <td>2019-08-01</td>\n",
       "      <td>A</td>\n",
       "      <td>23</td>\n",
       "      <td>19</td>\n",
       "      <td>142779</td>\n",
       "    </tr>\n",
       "    <tr>\n",
       "      <th>66</th>\n",
       "      <td>2019-08-01</td>\n",
       "      <td>B</td>\n",
       "      <td>17</td>\n",
       "      <td>17</td>\n",
       "      <td>59758</td>\n",
       "    </tr>\n",
       "    <tr>\n",
       "      <th>175</th>\n",
       "      <td>2019-08-02</td>\n",
       "      <td>A</td>\n",
       "      <td>42</td>\n",
       "      <td>36</td>\n",
       "      <td>234381</td>\n",
       "    </tr>\n",
       "    <tr>\n",
       "      <th>173</th>\n",
       "      <td>2019-08-02</td>\n",
       "      <td>B</td>\n",
       "      <td>40</td>\n",
       "      <td>39</td>\n",
       "      <td>221801</td>\n",
       "    </tr>\n",
       "    <tr>\n",
       "      <th>291</th>\n",
       "      <td>2019-08-03</td>\n",
       "      <td>A</td>\n",
       "      <td>66</td>\n",
       "      <td>60</td>\n",
       "      <td>346854</td>\n",
       "    </tr>\n",
       "  </tbody>\n",
       "</table>\n",
       "</div>"
      ],
      "text/plain": [
       "           date group  transactionId  visitorId  revenue\n",
       "55   2019-08-01     A             23         19   142779\n",
       "66   2019-08-01     B             17         17    59758\n",
       "175  2019-08-02     A             42         36   234381\n",
       "173  2019-08-02     B             40         39   221801\n",
       "291  2019-08-03     A             66         60   346854"
      ]
     },
     "execution_count": 25,
     "metadata": {},
     "output_type": "execute_result"
    }
   ],
   "source": [
    "#создадим переменную с аггрегированными данными по заказам\n",
    "ordersAggregated = datesGroups.apply(\n",
    "    lambda x: orders[np.logical_and(orders['date'] <= x['date'], orders['group'] == x['group'])].agg({\n",
    "'date' : 'max',\n",
    "'group' : 'max',\n",
    "'transactionId' : pd.Series.nunique,\n",
    "'visitorId' : pd.Series.nunique,\n",
    "'revenue' : 'sum'}), axis=1).sort_values(by=['date','group'])\n",
    "ordersAggregated.head()"
   ]
  },
  {
   "cell_type": "code",
   "execution_count": 26,
   "metadata": {},
   "outputs": [
    {
     "data": {
      "text/html": [
       "<div>\n",
       "<style scoped>\n",
       "    .dataframe tbody tr th:only-of-type {\n",
       "        vertical-align: middle;\n",
       "    }\n",
       "\n",
       "    .dataframe tbody tr th {\n",
       "        vertical-align: top;\n",
       "    }\n",
       "\n",
       "    .dataframe thead th {\n",
       "        text-align: right;\n",
       "    }\n",
       "</style>\n",
       "<table border=\"1\" class=\"dataframe\">\n",
       "  <thead>\n",
       "    <tr style=\"text-align: right;\">\n",
       "      <th></th>\n",
       "      <th>date</th>\n",
       "      <th>group</th>\n",
       "      <th>visitors</th>\n",
       "    </tr>\n",
       "  </thead>\n",
       "  <tbody>\n",
       "    <tr>\n",
       "      <th>55</th>\n",
       "      <td>2019-08-01</td>\n",
       "      <td>A</td>\n",
       "      <td>719</td>\n",
       "    </tr>\n",
       "    <tr>\n",
       "      <th>66</th>\n",
       "      <td>2019-08-01</td>\n",
       "      <td>B</td>\n",
       "      <td>713</td>\n",
       "    </tr>\n",
       "    <tr>\n",
       "      <th>175</th>\n",
       "      <td>2019-08-02</td>\n",
       "      <td>A</td>\n",
       "      <td>1338</td>\n",
       "    </tr>\n",
       "    <tr>\n",
       "      <th>173</th>\n",
       "      <td>2019-08-02</td>\n",
       "      <td>B</td>\n",
       "      <td>1294</td>\n",
       "    </tr>\n",
       "    <tr>\n",
       "      <th>291</th>\n",
       "      <td>2019-08-03</td>\n",
       "      <td>A</td>\n",
       "      <td>1845</td>\n",
       "    </tr>\n",
       "  </tbody>\n",
       "</table>\n",
       "</div>"
      ],
      "text/plain": [
       "           date group  visitors\n",
       "55   2019-08-01     A       719\n",
       "66   2019-08-01     B       713\n",
       "175  2019-08-02     A      1338\n",
       "173  2019-08-02     B      1294\n",
       "291  2019-08-03     A      1845"
      ]
     },
     "execution_count": 26,
     "metadata": {},
     "output_type": "execute_result"
    }
   ],
   "source": [
    "#создадим переменную с аггрегированными данными по клиентам\n",
    "visitorsAggregated = datesGroups.apply(lambda x: visitors[np.logical_and(visitors['date'] <= x['date'], \n",
    "                     visitors['group'] == x['group'])].agg({\n",
    "    'date' : 'max', \n",
    "    'group' : 'max', \n",
    "    'visitors' : 'sum'}), axis=1).sort_values(by=['date','group'])\n",
    "visitorsAggregated.head()"
   ]
  },
  {
   "cell_type": "code",
   "execution_count": 27,
   "metadata": {
    "scrolled": false
   },
   "outputs": [
    {
     "data": {
      "text/html": [
       "<div>\n",
       "<style scoped>\n",
       "    .dataframe tbody tr th:only-of-type {\n",
       "        vertical-align: middle;\n",
       "    }\n",
       "\n",
       "    .dataframe tbody tr th {\n",
       "        vertical-align: top;\n",
       "    }\n",
       "\n",
       "    .dataframe thead th {\n",
       "        text-align: right;\n",
       "    }\n",
       "</style>\n",
       "<table border=\"1\" class=\"dataframe\">\n",
       "  <thead>\n",
       "    <tr style=\"text-align: right;\">\n",
       "      <th></th>\n",
       "      <th>date</th>\n",
       "      <th>group</th>\n",
       "      <th>transactionId</th>\n",
       "      <th>visitorId</th>\n",
       "      <th>revenue</th>\n",
       "      <th>visitors</th>\n",
       "    </tr>\n",
       "  </thead>\n",
       "  <tbody>\n",
       "    <tr>\n",
       "      <th>0</th>\n",
       "      <td>2019-08-01</td>\n",
       "      <td>A</td>\n",
       "      <td>23</td>\n",
       "      <td>19</td>\n",
       "      <td>142779</td>\n",
       "      <td>719</td>\n",
       "    </tr>\n",
       "    <tr>\n",
       "      <th>1</th>\n",
       "      <td>2019-08-01</td>\n",
       "      <td>B</td>\n",
       "      <td>17</td>\n",
       "      <td>17</td>\n",
       "      <td>59758</td>\n",
       "      <td>713</td>\n",
       "    </tr>\n",
       "    <tr>\n",
       "      <th>2</th>\n",
       "      <td>2019-08-02</td>\n",
       "      <td>A</td>\n",
       "      <td>42</td>\n",
       "      <td>36</td>\n",
       "      <td>234381</td>\n",
       "      <td>1338</td>\n",
       "    </tr>\n",
       "    <tr>\n",
       "      <th>3</th>\n",
       "      <td>2019-08-02</td>\n",
       "      <td>B</td>\n",
       "      <td>40</td>\n",
       "      <td>39</td>\n",
       "      <td>221801</td>\n",
       "      <td>1294</td>\n",
       "    </tr>\n",
       "    <tr>\n",
       "      <th>4</th>\n",
       "      <td>2019-08-03</td>\n",
       "      <td>A</td>\n",
       "      <td>66</td>\n",
       "      <td>60</td>\n",
       "      <td>346854</td>\n",
       "      <td>1845</td>\n",
       "    </tr>\n",
       "  </tbody>\n",
       "</table>\n",
       "</div>"
      ],
      "text/plain": [
       "         date group  transactionId  visitorId  revenue  visitors\n",
       "0  2019-08-01     A             23         19   142779       719\n",
       "1  2019-08-01     B             17         17    59758       713\n",
       "2  2019-08-02     A             42         36   234381      1338\n",
       "3  2019-08-02     B             40         39   221801      1294\n",
       "4  2019-08-03     A             66         60   346854      1845"
      ]
     },
     "execution_count": 27,
     "metadata": {},
     "output_type": "execute_result"
    }
   ],
   "source": [
    "#создадим общую переменную\n",
    "cumulativeData = ordersAggregated.merge(\n",
    "    visitorsAggregated, on=['date', 'group'])\n",
    "cumulativeData.head() "
   ]
  },
  {
   "cell_type": "code",
   "execution_count": 28,
   "metadata": {},
   "outputs": [
    {
     "data": {
      "text/html": [
       "<div>\n",
       "<style scoped>\n",
       "    .dataframe tbody tr th:only-of-type {\n",
       "        vertical-align: middle;\n",
       "    }\n",
       "\n",
       "    .dataframe tbody tr th {\n",
       "        vertical-align: top;\n",
       "    }\n",
       "\n",
       "    .dataframe thead th {\n",
       "        text-align: right;\n",
       "    }\n",
       "</style>\n",
       "<table border=\"1\" class=\"dataframe\">\n",
       "  <thead>\n",
       "    <tr style=\"text-align: right;\">\n",
       "      <th></th>\n",
       "      <th>date</th>\n",
       "      <th>group</th>\n",
       "      <th>orders</th>\n",
       "      <th>buyers</th>\n",
       "      <th>revenue</th>\n",
       "      <th>visitors</th>\n",
       "    </tr>\n",
       "  </thead>\n",
       "  <tbody>\n",
       "    <tr>\n",
       "      <th>0</th>\n",
       "      <td>2019-08-01</td>\n",
       "      <td>A</td>\n",
       "      <td>23</td>\n",
       "      <td>19</td>\n",
       "      <td>142779</td>\n",
       "      <td>719</td>\n",
       "    </tr>\n",
       "    <tr>\n",
       "      <th>1</th>\n",
       "      <td>2019-08-01</td>\n",
       "      <td>B</td>\n",
       "      <td>17</td>\n",
       "      <td>17</td>\n",
       "      <td>59758</td>\n",
       "      <td>713</td>\n",
       "    </tr>\n",
       "    <tr>\n",
       "      <th>2</th>\n",
       "      <td>2019-08-02</td>\n",
       "      <td>A</td>\n",
       "      <td>42</td>\n",
       "      <td>36</td>\n",
       "      <td>234381</td>\n",
       "      <td>1338</td>\n",
       "    </tr>\n",
       "    <tr>\n",
       "      <th>3</th>\n",
       "      <td>2019-08-02</td>\n",
       "      <td>B</td>\n",
       "      <td>40</td>\n",
       "      <td>39</td>\n",
       "      <td>221801</td>\n",
       "      <td>1294</td>\n",
       "    </tr>\n",
       "    <tr>\n",
       "      <th>4</th>\n",
       "      <td>2019-08-03</td>\n",
       "      <td>A</td>\n",
       "      <td>66</td>\n",
       "      <td>60</td>\n",
       "      <td>346854</td>\n",
       "      <td>1845</td>\n",
       "    </tr>\n",
       "  </tbody>\n",
       "</table>\n",
       "</div>"
      ],
      "text/plain": [
       "         date group  orders  buyers  revenue  visitors\n",
       "0  2019-08-01     A      23      19   142779       719\n",
       "1  2019-08-01     B      17      17    59758       713\n",
       "2  2019-08-02     A      42      36   234381      1338\n",
       "3  2019-08-02     B      40      39   221801      1294\n",
       "4  2019-08-03     A      66      60   346854      1845"
      ]
     },
     "execution_count": 28,
     "metadata": {},
     "output_type": "execute_result"
    }
   ],
   "source": [
    "#переименуем названия столбцов\n",
    "cumulativeData.columns = [\n",
    "    'date',\n",
    "    'group',\n",
    "    'orders',\n",
    "    'buyers',\n",
    "    'revenue',\n",
    "    'visitors',\n",
    "]\n",
    "cumulativeData.head()"
   ]
  },
  {
   "cell_type": "code",
   "execution_count": 29,
   "metadata": {},
   "outputs": [],
   "source": [
    "#разделим данные по группам теста\n",
    "cumulativeRevenueA = cumulativeData[cumulativeData['group']=='A'][['date','revenue', 'orders']]\n",
    "cumulativeRevenueB = cumulativeData[cumulativeData['group']=='B'][['date','revenue', 'orders']]"
   ]
  },
  {
   "cell_type": "code",
   "execution_count": 30,
   "metadata": {},
   "outputs": [
    {
     "data": {
      "image/png": "[encoded data removed]",
      "text/plain": [
       "<Figure size 1152x576 with 1 Axes>"
      ]
     },
     "metadata": {
      "needs_background": "light"
     },
     "output_type": "display_data"
    }
   ],
   "source": [
    "#строим график\n",
    "plt.figure(figsize=(16,8))\n",
    "plt.plot(cumulativeRevenueA['date'], cumulativeRevenueA['revenue'], label='A')\n",
    "plt.plot(cumulativeRevenueB['date'], cumulativeRevenueB['revenue'], label='B')\n",
    "plt.xticks(rotation = 45)\n",
    "plt.legend()\n",
    "plt.title('График кумулятивной выручки по группам', fontsize=20)\n",
    "plt.show()"
   ]
  },
  {
   "cell_type": "markdown",
   "metadata": {},
   "source": [
    "**Вывод:** в первые 2 недели эксперимента выручка группы B в среднем превышала группу A, но не значительно. Все изменилось 19 августа, когда предположительно была совершена аномальная покупка в группе B, из-за чего кумулятивная вырочка в рамках данной группы значительно выросла по сравнению с группой A."
   ]
  },
  {
   "cell_type": "markdown",
   "metadata": {},
   "source": [
    "### График кумулятивного среднего чека по группам"
   ]
  },
  {
   "cell_type": "code",
   "execution_count": 31,
   "metadata": {},
   "outputs": [
    {
     "data": {
      "image/png": "[encoded data removed]",
      "text/plain": [
       "<Figure size 1152x576 with 1 Axes>"
      ]
     },
     "metadata": {
      "needs_background": "light"
     },
     "output_type": "display_data"
    }
   ],
   "source": [
    "#строим график\n",
    "plt.figure(figsize=(16,8))\n",
    "plt.plot(cumulativeRevenueA['date'], cumulativeRevenueA['revenue']/cumulativeRevenueA['orders'], label='A')\n",
    "plt.plot(cumulativeRevenueB['date'], cumulativeRevenueB['revenue']/cumulativeRevenueB['orders'], label='B')\n",
    "plt.xticks(rotation = 45)\n",
    "plt.legend()\n",
    "plt.title('График кумулятивного среднего чека по группам', fontsize=20)\n",
    "plt.show()"
   ]
  },
  {
   "cell_type": "markdown",
   "metadata": {},
   "source": [
    "**Вывод:** кумулятивный график среднего чека также подверждает, что 19 августа произошла какая-то очень значительная покупка в группе B. Поэтому средний чек в данной группе резко вырос по сравнению с группой A. До 19 августа ситуация была не столь очевидной. На несколько дней средний чек группы A даже превышал группу B. Также интересная тенденция после 19 августа. Средний чек в группе B постепенно снижался, в то время как средний чек в группе A даже немного вырос. Таким образом, без аномального роста 19 августа вполне вероятно, что средний кумулятивный чек в группе A был бы выше, чем в группе B."
   ]
  },
  {
   "cell_type": "markdown",
   "metadata": {},
   "source": [
    "### График относительного изменения кумулятивного среднего чека группы B к группе A."
   ]
  },
  {
   "cell_type": "code",
   "execution_count": 32,
   "metadata": {},
   "outputs": [
    {
     "data": {
      "text/html": [
       "<div>\n",
       "<style scoped>\n",
       "    .dataframe tbody tr th:only-of-type {\n",
       "        vertical-align: middle;\n",
       "    }\n",
       "\n",
       "    .dataframe tbody tr th {\n",
       "        vertical-align: top;\n",
       "    }\n",
       "\n",
       "    .dataframe thead th {\n",
       "        text-align: right;\n",
       "    }\n",
       "</style>\n",
       "<table border=\"1\" class=\"dataframe\">\n",
       "  <thead>\n",
       "    <tr style=\"text-align: right;\">\n",
       "      <th></th>\n",
       "      <th>date</th>\n",
       "      <th>revenueA</th>\n",
       "      <th>ordersA</th>\n",
       "      <th>revenueB</th>\n",
       "      <th>ordersB</th>\n",
       "    </tr>\n",
       "  </thead>\n",
       "  <tbody>\n",
       "    <tr>\n",
       "      <th>0</th>\n",
       "      <td>2019-08-01</td>\n",
       "      <td>142779</td>\n",
       "      <td>23</td>\n",
       "      <td>59758</td>\n",
       "      <td>17</td>\n",
       "    </tr>\n",
       "    <tr>\n",
       "      <th>1</th>\n",
       "      <td>2019-08-02</td>\n",
       "      <td>234381</td>\n",
       "      <td>42</td>\n",
       "      <td>221801</td>\n",
       "      <td>40</td>\n",
       "    </tr>\n",
       "    <tr>\n",
       "      <th>2</th>\n",
       "      <td>2019-08-03</td>\n",
       "      <td>346854</td>\n",
       "      <td>66</td>\n",
       "      <td>288850</td>\n",
       "      <td>54</td>\n",
       "    </tr>\n",
       "    <tr>\n",
       "      <th>3</th>\n",
       "      <td>2019-08-04</td>\n",
       "      <td>388030</td>\n",
       "      <td>77</td>\n",
       "      <td>385740</td>\n",
       "      <td>68</td>\n",
       "    </tr>\n",
       "    <tr>\n",
       "      <th>4</th>\n",
       "      <td>2019-08-05</td>\n",
       "      <td>474413</td>\n",
       "      <td>99</td>\n",
       "      <td>475648</td>\n",
       "      <td>89</td>\n",
       "    </tr>\n",
       "  </tbody>\n",
       "</table>\n",
       "</div>"
      ],
      "text/plain": [
       "         date  revenueA  ordersA  revenueB  ordersB\n",
       "0  2019-08-01    142779       23     59758       17\n",
       "1  2019-08-02    234381       42    221801       40\n",
       "2  2019-08-03    346854       66    288850       54\n",
       "3  2019-08-04    388030       77    385740       68\n",
       "4  2019-08-05    474413       99    475648       89"
      ]
     },
     "execution_count": 32,
     "metadata": {},
     "output_type": "execute_result"
    }
   ],
   "source": [
    "#объединим таблицы по кумулятивным доходам и заказам разных групп\n",
    "mergedCumulativeRevenue = cumulativeRevenueA.merge(cumulativeRevenueB, \n",
    "                                                   on='date', how='left', suffixes=['A', 'B'])\n",
    "mergedCumulativeRevenue.head()"
   ]
  },
  {
   "cell_type": "code",
   "execution_count": 33,
   "metadata": {},
   "outputs": [
    {
     "data": {
      "image/png": "[encoded data removed]",
      "text/plain": [
       "<Figure size 1152x576 with 1 Axes>"
      ]
     },
     "metadata": {
      "needs_background": "light"
     },
     "output_type": "display_data"
    }
   ],
   "source": [
    "#строим график\n",
    "plt.figure(figsize=(16,8))\n",
    "plt.plot(mergedCumulativeRevenue['date'], (\n",
    "    mergedCumulativeRevenue['revenueB']/mergedCumulativeRevenue['ordersB'])/(\n",
    "    mergedCumulativeRevenue['revenueA']/mergedCumulativeRevenue['ordersA'])-1)\n",
    "plt.axhline(y=0, color='black', linestyle='--')\n",
    "plt.xticks(rotation = 45)\n",
    "plt.title('График относительного изменения кумулятивного среднего чека группы B к группе A', fontsize=20)\n",
    "plt.show()"
   ]
  },
  {
   "cell_type": "markdown",
   "metadata": {},
   "source": [
    "**Вывод:** подтверждаются предыдущие тезисы. В начале исследования средний чек группы B был выше, чем в группе A. Потом средний чек в группе А начал увеличиваться и стал незначительно превышать средний чек в группе B. Потом 19 августа средний чек в группе B резко вырос и относительный отрыв от группы А достиг 50%. Однако в дальнейшем отрыв начал снижаться и достиг 30%."
   ]
  },
  {
   "cell_type": "markdown",
   "metadata": {},
   "source": [
    "### График кумулятивного среднего количества заказов на посетителя по группам"
   ]
  },
  {
   "cell_type": "code",
   "execution_count": 34,
   "metadata": {},
   "outputs": [],
   "source": [
    "#создаем 2 таблицы с данными о пользователях и заказах по группам\n",
    "cumulativeVisitorsA = cumulativeData[cumulativeData['group']=='A'][['date','visitors', 'orders']]\n",
    "cumulativeVisitorsB = cumulativeData[cumulativeData['group']=='B'][['date','visitors', 'orders']]"
   ]
  },
  {
   "cell_type": "code",
   "execution_count": 35,
   "metadata": {},
   "outputs": [
    {
     "data": {
      "image/png": "[encoded data removed]",
      "text/plain": [
       "<Figure size 1152x576 with 1 Axes>"
      ]
     },
     "metadata": {
      "needs_background": "light"
     },
     "output_type": "display_data"
    }
   ],
   "source": [
    "#строим график\n",
    "plt.figure(figsize=(16,8))\n",
    "plt.plot(cumulativeVisitorsA['date'], cumulativeVisitorsA['orders']/cumulativeVisitorsA['visitors'], label='A')\n",
    "plt.plot(cumulativeVisitorsB['date'], cumulativeVisitorsB['orders']/cumulativeVisitorsB['visitors'], label='B')\n",
    "plt.xticks(rotation = 45)\n",
    "plt.legend()\n",
    "plt.title('График кумулятивного среднего количества заказов на посетителя по группам', fontsize=20)\n",
    "plt.show()"
   ]
  },
  {
   "cell_type": "markdown",
   "metadata": {},
   "source": [
    "**Вывод:** после флуктуации в начале экперимента среднее число заказов на одного посетителя в группе B стабильно было выше, чем в группе А: ~0,035 заказа против ~0,03 заказа на посетителя.  "
   ]
  },
  {
   "cell_type": "markdown",
   "metadata": {},
   "source": [
    "###  График относительного изменения кумулятивного среднего количества заказов на посетителя группы B к группе A"
   ]
  },
  {
   "cell_type": "code",
   "execution_count": 36,
   "metadata": {},
   "outputs": [
    {
     "data": {
      "text/html": [
       "<div>\n",
       "<style scoped>\n",
       "    .dataframe tbody tr th:only-of-type {\n",
       "        vertical-align: middle;\n",
       "    }\n",
       "\n",
       "    .dataframe tbody tr th {\n",
       "        vertical-align: top;\n",
       "    }\n",
       "\n",
       "    .dataframe thead th {\n",
       "        text-align: right;\n",
       "    }\n",
       "</style>\n",
       "<table border=\"1\" class=\"dataframe\">\n",
       "  <thead>\n",
       "    <tr style=\"text-align: right;\">\n",
       "      <th></th>\n",
       "      <th>date</th>\n",
       "      <th>visitorsA</th>\n",
       "      <th>ordersA</th>\n",
       "      <th>visitorsB</th>\n",
       "      <th>ordersB</th>\n",
       "    </tr>\n",
       "  </thead>\n",
       "  <tbody>\n",
       "    <tr>\n",
       "      <th>0</th>\n",
       "      <td>2019-08-01</td>\n",
       "      <td>719</td>\n",
       "      <td>23</td>\n",
       "      <td>713</td>\n",
       "      <td>17</td>\n",
       "    </tr>\n",
       "    <tr>\n",
       "      <th>1</th>\n",
       "      <td>2019-08-02</td>\n",
       "      <td>1338</td>\n",
       "      <td>42</td>\n",
       "      <td>1294</td>\n",
       "      <td>40</td>\n",
       "    </tr>\n",
       "    <tr>\n",
       "      <th>2</th>\n",
       "      <td>2019-08-03</td>\n",
       "      <td>1845</td>\n",
       "      <td>66</td>\n",
       "      <td>1803</td>\n",
       "      <td>54</td>\n",
       "    </tr>\n",
       "    <tr>\n",
       "      <th>3</th>\n",
       "      <td>2019-08-04</td>\n",
       "      <td>2562</td>\n",
       "      <td>77</td>\n",
       "      <td>2573</td>\n",
       "      <td>68</td>\n",
       "    </tr>\n",
       "    <tr>\n",
       "      <th>4</th>\n",
       "      <td>2019-08-05</td>\n",
       "      <td>3318</td>\n",
       "      <td>99</td>\n",
       "      <td>3280</td>\n",
       "      <td>89</td>\n",
       "    </tr>\n",
       "  </tbody>\n",
       "</table>\n",
       "</div>"
      ],
      "text/plain": [
       "         date  visitorsA  ordersA  visitorsB  ordersB\n",
       "0  2019-08-01        719       23        713       17\n",
       "1  2019-08-02       1338       42       1294       40\n",
       "2  2019-08-03       1845       66       1803       54\n",
       "3  2019-08-04       2562       77       2573       68\n",
       "4  2019-08-05       3318       99       3280       89"
      ]
     },
     "execution_count": 36,
     "metadata": {},
     "output_type": "execute_result"
    }
   ],
   "source": [
    "#объединяем таблицы с информацией о клиентах и заказах по группам\n",
    "mergedCumulativeVisitors = cumulativeVisitorsA.merge(cumulativeVisitorsB, \n",
    "                                                   on='date', how='left', suffixes=['A', 'B'])\n",
    "mergedCumulativeVisitors.head()"
   ]
  },
  {
   "cell_type": "code",
   "execution_count": 37,
   "metadata": {},
   "outputs": [
    {
     "data": {
      "image/png": "[encoded data removed]",
      "text/plain": [
       "<Figure size 1152x576 with 1 Axes>"
      ]
     },
     "metadata": {
      "needs_background": "light"
     },
     "output_type": "display_data"
    }
   ],
   "source": [
    "#строим график\n",
    "plt.figure(figsize=(16,8))\n",
    "plt.plot(mergedCumulativeVisitors['date'], (\n",
    "    mergedCumulativeVisitors['ordersB']/mergedCumulativeVisitors['visitorsB'])/(\n",
    "    mergedCumulativeVisitors['ordersA']/mergedCumulativeVisitors['visitorsA'])-1)\n",
    "plt.axhline(y=0, color='black', linestyle='--')\n",
    "plt.xticks(rotation = 45)\n",
    "plt.title('График относительного изменения кумулятивного среднего количества заказов на посетителя группы B к группе A', fontsize=14)\n",
    "plt.show()"
   ]
  },
  {
   "cell_type": "markdown",
   "metadata": {},
   "source": [
    "**Вывод:** после флуктуации в начале экперимента среднее число заказов на одного посетителя в группе B стабильно было выше, чем в группе А примерно на 15%"
   ]
  },
  {
   "cell_type": "markdown",
   "metadata": {},
   "source": [
    "### Точечный график количества заказов по пользователям"
   ]
  },
  {
   "cell_type": "code",
   "execution_count": 38,
   "metadata": {},
   "outputs": [
    {
     "data": {
      "text/html": [
       "<div>\n",
       "<style scoped>\n",
       "    .dataframe tbody tr th:only-of-type {\n",
       "        vertical-align: middle;\n",
       "    }\n",
       "\n",
       "    .dataframe tbody tr th {\n",
       "        vertical-align: top;\n",
       "    }\n",
       "\n",
       "    .dataframe thead th {\n",
       "        text-align: right;\n",
       "    }\n",
       "</style>\n",
       "<table border=\"1\" class=\"dataframe\">\n",
       "  <thead>\n",
       "    <tr style=\"text-align: right;\">\n",
       "      <th></th>\n",
       "      <th>userId</th>\n",
       "      <th>orders</th>\n",
       "    </tr>\n",
       "  </thead>\n",
       "  <tbody>\n",
       "    <tr>\n",
       "      <th>0</th>\n",
       "      <td>5114589</td>\n",
       "      <td>1</td>\n",
       "    </tr>\n",
       "    <tr>\n",
       "      <th>1</th>\n",
       "      <td>6958315</td>\n",
       "      <td>1</td>\n",
       "    </tr>\n",
       "    <tr>\n",
       "      <th>2</th>\n",
       "      <td>11685486</td>\n",
       "      <td>1</td>\n",
       "    </tr>\n",
       "    <tr>\n",
       "      <th>3</th>\n",
       "      <td>39475350</td>\n",
       "      <td>1</td>\n",
       "    </tr>\n",
       "    <tr>\n",
       "      <th>4</th>\n",
       "      <td>47206413</td>\n",
       "      <td>1</td>\n",
       "    </tr>\n",
       "  </tbody>\n",
       "</table>\n",
       "</div>"
      ],
      "text/plain": [
       "     userId  orders\n",
       "0   5114589       1\n",
       "1   6958315       1\n",
       "2  11685486       1\n",
       "3  39475350       1\n",
       "4  47206413       1"
      ]
     },
     "execution_count": 38,
     "metadata": {},
     "output_type": "execute_result"
    }
   ],
   "source": [
    "#создаем таблицы с количеством заказов на каждого пользователя\n",
    "ordersByUsers = (\n",
    "    orders.groupby('visitorId', as_index=False)\n",
    "    .agg({'transactionId': 'nunique'})\n",
    ")\n",
    "ordersByUsers.columns = ['userId', 'orders']\n",
    "ordersByUsers.head()"
   ]
  },
  {
   "cell_type": "code",
   "execution_count": 39,
   "metadata": {
    "scrolled": true
   },
   "outputs": [
    {
     "data": {
      "image/png": "[encoded data removed]",
      "text/plain": [
       "<Figure size 1152x576 with 1 Axes>"
      ]
     },
     "metadata": {
      "needs_background": "light"
     },
     "output_type": "display_data"
    }
   ],
   "source": [
    "#строим график\n",
    "x_values = pd.Series(range(0, len(ordersByUsers)))\n",
    "plt.figure(figsize=(16,8))\n",
    "plt.scatter(x_values, ordersByUsers['orders']) \n",
    "plt.title('Точечный график количества заказов по пользователям', fontsize=20)\n",
    "plt.show()"
   ]
  },
  {
   "cell_type": "markdown",
   "metadata": {},
   "source": [
    "**Вывод:** большинство пользователей совершило только 1 заказ. Небольшая часть - 2 заказа. И лишь совсем незначительное количество - больше двух."
   ]
  },
  {
   "cell_type": "markdown",
   "metadata": {},
   "source": [
    "###  95-й и 99-й перцентили количества заказов на пользователя"
   ]
  },
  {
   "cell_type": "code",
   "execution_count": 40,
   "metadata": {},
   "outputs": [
    {
     "data": {
      "text/plain": [
       "1.0"
      ]
     },
     "execution_count": 40,
     "metadata": {},
     "output_type": "execute_result"
    }
   ],
   "source": [
    "#95-й перцентиль\n",
    "np.percentile(ordersByUsers['orders'], 95)"
   ]
  },
  {
   "cell_type": "code",
   "execution_count": 41,
   "metadata": {},
   "outputs": [
    {
     "data": {
      "text/plain": [
       "2.0"
      ]
     },
     "execution_count": 41,
     "metadata": {},
     "output_type": "execute_result"
    }
   ],
   "source": [
    "#99-й перцентиль\n",
    "np.percentile(ordersByUsers['orders'], 99)"
   ]
  },
  {
   "cell_type": "markdown",
   "metadata": {},
   "source": [
    "**Вывод:** 95-ый перцентиль - 2 заказа на человека, 99-ый перцентиль - 4 заказа на человека. Определим границу аномальных пользователей на уровне 3 заказов на пользователя."
   ]
  },
  {
   "cell_type": "markdown",
   "metadata": {},
   "source": [
    "### Точечный график стоимостей заказов"
   ]
  },
  {
   "cell_type": "code",
   "execution_count": 42,
   "metadata": {},
   "outputs": [
    {
     "data": {
      "image/png": "[encoded data removed]",
      "text/plain": [
       "<Figure size 1152x576 with 1 Axes>"
      ]
     },
     "metadata": {
      "needs_background": "light"
     },
     "output_type": "display_data"
    }
   ],
   "source": [
    "#строим график\n",
    "x_values = pd.Series(range(0, len(orders['revenue'])))\n",
    "plt.figure(figsize=(16,8))\n",
    "plt.scatter(x_values, orders['revenue'])\n",
    "plt.title('Точечный график стоимостей заказов', fontsize=20)\n",
    "plt.show()"
   ]
  },
  {
   "cell_type": "markdown",
   "metadata": {},
   "source": []
  },
  {
   "cell_type": "markdown",
   "metadata": {},
   "source": [
    "**Вывод:** на графике виден один аномально большой заказ, из-за которого отображение графика сильно исказилось."
   ]
  },
  {
   "cell_type": "markdown",
   "metadata": {},
   "source": [
    "###  95-й и 99-й перцентили стоимости заказов"
   ]
  },
  {
   "cell_type": "code",
   "execution_count": 43,
   "metadata": {},
   "outputs": [
    {
     "data": {
      "text/plain": [
       "26785.0"
      ]
     },
     "execution_count": 43,
     "metadata": {},
     "output_type": "execute_result"
    }
   ],
   "source": [
    "#95-й перцентиль\n",
    "np.percentile(orders['revenue'], 95)"
   ]
  },
  {
   "cell_type": "code",
   "execution_count": 44,
   "metadata": {},
   "outputs": [
    {
     "data": {
      "text/plain": [
       "53904.0"
      ]
     },
     "execution_count": 44,
     "metadata": {},
     "output_type": "execute_result"
    }
   ],
   "source": [
    "#99-й перцентиль\n",
    "np.percentile(orders['revenue'], 99)"
   ]
  },
  {
   "cell_type": "markdown",
   "metadata": {},
   "source": [
    "**Вывод:** 95-ый перцентиль стоимости заказа - 28 тысяч, 99-ый перцентиль - 58 тысяч. Определим границу аномально дорогих заказов на уровне 40 тысяч."
   ]
  },
  {
   "cell_type": "markdown",
   "metadata": {},
   "source": [
    " ### Cтатистическая значимость различий в среднем количестве заказов на посетителя между группами по «сырым» данным"
   ]
  },
  {
   "cell_type": "markdown",
   "metadata": {},
   "source": [
    "Нулевая гипотеза: различий в среднем количестве заказов на посетителя между группами по \"сырым\" данным нет. \\\n",
    "Альтернативная гипотеза: различия в среднем количестве заказов на посетителя между группами по \"сырым\" данным есть."
   ]
  },
  {
   "cell_type": "code",
   "execution_count": 45,
   "metadata": {},
   "outputs": [
    {
     "data": {
      "text/html": [
       "<div>\n",
       "<style scoped>\n",
       "    .dataframe tbody tr th:only-of-type {\n",
       "        vertical-align: middle;\n",
       "    }\n",
       "\n",
       "    .dataframe tbody tr th {\n",
       "        vertical-align: top;\n",
       "    }\n",
       "\n",
       "    .dataframe thead th {\n",
       "        text-align: right;\n",
       "    }\n",
       "</style>\n",
       "<table border=\"1\" class=\"dataframe\">\n",
       "  <thead>\n",
       "    <tr style=\"text-align: right;\">\n",
       "      <th></th>\n",
       "      <th>date</th>\n",
       "      <th>ordersPerDateA</th>\n",
       "      <th>revenuePerDateA</th>\n",
       "      <th>ordersPerDateB</th>\n",
       "      <th>revenuePerDateB</th>\n",
       "      <th>visitorsPerDateA</th>\n",
       "      <th>visitorsPerDateB</th>\n",
       "    </tr>\n",
       "  </thead>\n",
       "  <tbody>\n",
       "    <tr>\n",
       "      <th>0</th>\n",
       "      <td>2019-08-01</td>\n",
       "      <td>23</td>\n",
       "      <td>142779</td>\n",
       "      <td>17</td>\n",
       "      <td>59758</td>\n",
       "      <td>719</td>\n",
       "      <td>713</td>\n",
       "    </tr>\n",
       "    <tr>\n",
       "      <th>1</th>\n",
       "      <td>2019-08-02</td>\n",
       "      <td>19</td>\n",
       "      <td>91602</td>\n",
       "      <td>22</td>\n",
       "      <td>162043</td>\n",
       "      <td>619</td>\n",
       "      <td>581</td>\n",
       "    </tr>\n",
       "    <tr>\n",
       "      <th>2</th>\n",
       "      <td>2019-08-03</td>\n",
       "      <td>24</td>\n",
       "      <td>112473</td>\n",
       "      <td>14</td>\n",
       "      <td>67049</td>\n",
       "      <td>507</td>\n",
       "      <td>509</td>\n",
       "    </tr>\n",
       "    <tr>\n",
       "      <th>3</th>\n",
       "      <td>2019-08-04</td>\n",
       "      <td>11</td>\n",
       "      <td>41176</td>\n",
       "      <td>13</td>\n",
       "      <td>96890</td>\n",
       "      <td>717</td>\n",
       "      <td>770</td>\n",
       "    </tr>\n",
       "    <tr>\n",
       "      <th>4</th>\n",
       "      <td>2019-08-05</td>\n",
       "      <td>22</td>\n",
       "      <td>86383</td>\n",
       "      <td>21</td>\n",
       "      <td>89908</td>\n",
       "      <td>756</td>\n",
       "      <td>707</td>\n",
       "    </tr>\n",
       "  </tbody>\n",
       "</table>\n",
       "</div>"
      ],
      "text/plain": [
       "         date  ordersPerDateA  revenuePerDateA  ordersPerDateB  \\\n",
       "0  2019-08-01              23           142779              17   \n",
       "1  2019-08-02              19            91602              22   \n",
       "2  2019-08-03              24           112473              14   \n",
       "3  2019-08-04              11            41176              13   \n",
       "4  2019-08-05              22            86383              21   \n",
       "\n",
       "   revenuePerDateB  visitorsPerDateA  visitorsPerDateB  \n",
       "0            59758               719               713  \n",
       "1           162043               619               581  \n",
       "2            67049               507               509  \n",
       "3            96890               717               770  \n",
       "4            89908               756               707  "
      ]
     },
     "execution_count": 45,
     "metadata": {},
     "output_type": "execute_result"
    }
   ],
   "source": [
    "#создадим общую таблицу, где бы отражалась информация о заказах, доходах и пользователях по дням и группам для a/b теста\n",
    "visitorsADaily = visitors[visitors['group'] == 'A'][['date', 'visitors']]\n",
    "visitorsADaily.columns = ['date', 'visitorsPerDateA']\n",
    "\n",
    "visitorsBDaily = visitors[visitors['group'] == 'B'][['date', 'visitors']]\n",
    "visitorsBDaily.columns = ['date', 'visitorsPerDateB']\n",
    "\n",
    "ordersADaily = (\n",
    "    orders[orders['group'] == 'A'][['date', 'transactionId', 'visitorId', 'revenue']]\n",
    "    .groupby('date', as_index=False)\n",
    "    .agg({'transactionId': pd.Series.nunique, 'revenue': 'sum'})\n",
    ")\n",
    "ordersADaily.columns = ['date', 'ordersPerDateA', 'revenuePerDateA']\n",
    "\n",
    "ordersBDaily = (\n",
    "    orders[orders['group'] == 'B'][['date', 'transactionId', 'visitorId', 'revenue']]\n",
    "    .groupby('date', as_index=False)\n",
    "    .agg({'visitorId': pd.Series.nunique, 'revenue': 'sum'})\n",
    ")\n",
    "ordersBDaily.columns = ['date', 'ordersPerDateB', 'revenuePerDateB']\n",
    "\n",
    "data = (\n",
    "    ordersADaily.merge(\n",
    "        ordersBDaily, left_on='date', right_on='date', how='left'\n",
    "    )\n",
    "    .merge(visitorsADaily, left_on='date', right_on='date', how='left')\n",
    "    .merge(visitorsBDaily, left_on='date', right_on='date', how='left')\n",
    ")\n",
    "\n",
    "data.head(5)"
   ]
  },
  {
   "cell_type": "code",
   "execution_count": 46,
   "metadata": {},
   "outputs": [],
   "source": [
    "#создаем 2 таблицы с количеством заказов на каждого пользователя по группам\n",
    "ordersByUsersA = (\n",
    "    orders[orders['group'] == 'A']\n",
    "    .groupby('visitorId', as_index=False)\n",
    "    .agg({'transactionId': pd.Series.nunique})\n",
    ")\n",
    "ordersByUsersA.columns = ['userId', 'orders']\n",
    "\n",
    "ordersByUsersB = (\n",
    "    orders[orders['group'] == 'B']\n",
    "    .groupby('visitorId', as_index=False)\n",
    "    .agg({'transactionId': pd.Series.nunique})\n",
    ")\n",
    "ordersByUsersB.columns = ['userId', 'orders'] "
   ]
  },
  {
   "cell_type": "code",
   "execution_count": 47,
   "metadata": {
    "scrolled": true
   },
   "outputs": [
    {
     "data": {
      "text/html": [
       "<div>\n",
       "<style scoped>\n",
       "    .dataframe tbody tr th:only-of-type {\n",
       "        vertical-align: middle;\n",
       "    }\n",
       "\n",
       "    .dataframe tbody tr th {\n",
       "        vertical-align: top;\n",
       "    }\n",
       "\n",
       "    .dataframe thead th {\n",
       "        text-align: right;\n",
       "    }\n",
       "</style>\n",
       "<table border=\"1\" class=\"dataframe\">\n",
       "  <thead>\n",
       "    <tr style=\"text-align: right;\">\n",
       "      <th></th>\n",
       "      <th>userId</th>\n",
       "      <th>orders</th>\n",
       "    </tr>\n",
       "  </thead>\n",
       "  <tbody>\n",
       "    <tr>\n",
       "      <th>0</th>\n",
       "      <td>11685486</td>\n",
       "      <td>1</td>\n",
       "    </tr>\n",
       "    <tr>\n",
       "      <th>1</th>\n",
       "      <td>54447517</td>\n",
       "      <td>1</td>\n",
       "    </tr>\n",
       "    <tr>\n",
       "      <th>2</th>\n",
       "      <td>66685450</td>\n",
       "      <td>1</td>\n",
       "    </tr>\n",
       "    <tr>\n",
       "      <th>3</th>\n",
       "      <td>78758296</td>\n",
       "      <td>1</td>\n",
       "    </tr>\n",
       "    <tr>\n",
       "      <th>4</th>\n",
       "      <td>85103373</td>\n",
       "      <td>1</td>\n",
       "    </tr>\n",
       "  </tbody>\n",
       "</table>\n",
       "</div>"
      ],
      "text/plain": [
       "     userId  orders\n",
       "0  11685486       1\n",
       "1  54447517       1\n",
       "2  66685450       1\n",
       "3  78758296       1\n",
       "4  85103373       1"
      ]
     },
     "execution_count": 47,
     "metadata": {},
     "output_type": "execute_result"
    }
   ],
   "source": [
    "ordersByUsersA.head()"
   ]
  },
  {
   "cell_type": "code",
   "execution_count": 48,
   "metadata": {},
   "outputs": [
    {
     "data": {
      "text/html": [
       "<div>\n",
       "<style scoped>\n",
       "    .dataframe tbody tr th:only-of-type {\n",
       "        vertical-align: middle;\n",
       "    }\n",
       "\n",
       "    .dataframe tbody tr th {\n",
       "        vertical-align: top;\n",
       "    }\n",
       "\n",
       "    .dataframe thead th {\n",
       "        text-align: right;\n",
       "    }\n",
       "</style>\n",
       "<table border=\"1\" class=\"dataframe\">\n",
       "  <thead>\n",
       "    <tr style=\"text-align: right;\">\n",
       "      <th></th>\n",
       "      <th>userId</th>\n",
       "      <th>orders</th>\n",
       "    </tr>\n",
       "  </thead>\n",
       "  <tbody>\n",
       "    <tr>\n",
       "      <th>0</th>\n",
       "      <td>5114589</td>\n",
       "      <td>1</td>\n",
       "    </tr>\n",
       "    <tr>\n",
       "      <th>1</th>\n",
       "      <td>6958315</td>\n",
       "      <td>1</td>\n",
       "    </tr>\n",
       "    <tr>\n",
       "      <th>2</th>\n",
       "      <td>39475350</td>\n",
       "      <td>1</td>\n",
       "    </tr>\n",
       "    <tr>\n",
       "      <th>3</th>\n",
       "      <td>47206413</td>\n",
       "      <td>1</td>\n",
       "    </tr>\n",
       "    <tr>\n",
       "      <th>4</th>\n",
       "      <td>48147722</td>\n",
       "      <td>1</td>\n",
       "    </tr>\n",
       "  </tbody>\n",
       "</table>\n",
       "</div>"
      ],
      "text/plain": [
       "     userId  orders\n",
       "0   5114589       1\n",
       "1   6958315       1\n",
       "2  39475350       1\n",
       "3  47206413       1\n",
       "4  48147722       1"
      ]
     },
     "execution_count": 48,
     "metadata": {},
     "output_type": "execute_result"
    }
   ],
   "source": [
    "ordersByUsersB.head()"
   ]
  },
  {
   "cell_type": "code",
   "execution_count": 49,
   "metadata": {},
   "outputs": [],
   "source": [
    "# добавляем к предыдущим таблицам пользователей, которые не совершали ни одного заказа\n",
    "sampleA = pd.concat([ordersByUsersA['orders'],pd.Series(0, index=np.arange(data['visitorsPerDateA'].sum() \n",
    "                                    - len(ordersByUsersA['orders'])), name='orders')],axis=0)\n",
    "\n",
    "sampleB = pd.concat([ordersByUsersB['orders'],pd.Series(0, index=np.arange(data['visitorsPerDateB'].sum() \n",
    "                                    - len(ordersByUsersB['orders'])), name='orders')],axis=0)"
   ]
  },
  {
   "cell_type": "code",
   "execution_count": 50,
   "metadata": {
    "scrolled": true
   },
   "outputs": [
    {
     "name": "stdout",
     "output_type": "stream",
     "text": [
      "0.011\n",
      "0.160\n"
     ]
    }
   ],
   "source": [
    "# узнаем p_value\n",
    "print(\"{0:.3f}\".format(stats.mannwhitneyu(sampleA, sampleB)[1]))\n",
    "# узнаем относительное различие средних двух выборок \n",
    "print(\"{0:.3f}\".format(sampleB.mean() / sampleA.mean() - 1))\n",
    " "
   ]
  },
  {
   "cell_type": "markdown",
   "metadata": {},
   "source": [
    "**Вывод:** первое число - p_value. Оно составляет 1,7%, что ниже уровня статистической значимости. Таким образом, мы можем отвергнуть нулевую гипотезу. При этом относительная разница между средним количеством заказов составляет 14%."
   ]
  },
  {
   "cell_type": "markdown",
   "metadata": {},
   "source": [
    "###  Cтатистическая значимость различий в среднем чеке заказа между группами по «сырым» данным"
   ]
  },
  {
   "cell_type": "markdown",
   "metadata": {},
   "source": [
    "Нулевая гипотеза: различий в среднем чеке заказов между группами по \"сырым\" данным нет. \\\n",
    "Альтернативная гипотеза: различия в среднем чеке заказов между группами по \"сырым\" данным есть."
   ]
  },
  {
   "cell_type": "code",
   "execution_count": 51,
   "metadata": {},
   "outputs": [
    {
     "name": "stdout",
     "output_type": "stream",
     "text": [
      "0.829\n",
      "0.287\n"
     ]
    }
   ],
   "source": [
    "# узнаем p_value\n",
    "print('{0:.3f}'.format(stats.mannwhitneyu(orders[orders['group']=='A']['revenue'], orders[orders['group']=='B']['revenue'])[1]))\n",
    "# узнаем относительное различие средних двух выборок \n",
    "print('{0:.3f}'.format(orders[orders['group']=='B']['revenue'].mean()/orders[orders['group']=='A']['revenue'].mean()-1)) "
   ]
  },
  {
   "cell_type": "markdown",
   "metadata": {},
   "source": [
    "**Вывод:** первое число - p_value. Оно очень высокое, таким образом, мы не можем отвергнуть нулевую гипотезу. При этом относительное различие средних составляет 25,9%. Предположительно, большое p-value связано с высокой дисперсией средних значений."
   ]
  },
  {
   "cell_type": "markdown",
   "metadata": {},
   "source": [
    "### Cтатистическая значимость различий в среднем количестве заказов на посетителя между группами по «очищенным» данным"
   ]
  },
  {
   "cell_type": "markdown",
   "metadata": {},
   "source": [
    "Нулевая гипотеза: различий в среднем количестве заказов на посетителя между группами по \"очищенным\" данным нет. \\\n",
    "Альтернативная гипотеза: различия в среднем количестве заказов на посетителя между группами по \"очищенным\" данным есть."
   ]
  },
  {
   "cell_type": "markdown",
   "metadata": {},
   "source": [
    "Сначала очистим данные от аномальных значений. Ранее мы решили, что аномальные пользователи это те, кто совершал от 3 заказов или те, у кого сумма заказа была более 40 тыс.\n"
   ]
  },
  {
   "cell_type": "code",
   "execution_count": 52,
   "metadata": {},
   "outputs": [
    {
     "data": {
      "text/plain": [
       "1099    148427295\n",
       "33      249864742\n",
       "684     358944393\n",
       "648     382846391\n",
       "58      611059232\n",
       "dtype: int64"
      ]
     },
     "execution_count": 52,
     "metadata": {},
     "output_type": "execute_result"
    }
   ],
   "source": [
    "usersWithManyOrders = pd.concat(\n",
    "    [\n",
    "        ordersByUsersA[ordersByUsersA['orders'] >= 3]['userId'],\n",
    "        ordersByUsersB[ordersByUsersB['orders'] >= 3]['userId'],\n",
    "    ],\n",
    "    axis=0,\n",
    ")\n",
    "usersWithExpensiveOrders = orders[orders['revenue'] > 40000]['visitorId']\n",
    "abnormalUsers = (\n",
    "    pd.concat([usersWithManyOrders, usersWithExpensiveOrders], axis=0)\n",
    "    .drop_duplicates()\n",
    "    .sort_values()\n",
    ")\n",
    "abnormalUsers.head()"
   ]
  },
  {
   "cell_type": "code",
   "execution_count": 53,
   "metadata": {},
   "outputs": [],
   "source": [
    "#добавим к очишенным данным пользователей, который не совершали заказов\n",
    "sampleAFiltered = pd.concat(\n",
    "    [\n",
    "        ordersByUsersA[\n",
    "            np.logical_not(ordersByUsersA['userId'].isin(abnormalUsers))\n",
    "        ]['orders'],\n",
    "        pd.Series(\n",
    "            0,\n",
    "            index=np.arange(\n",
    "                data['visitorsPerDateA'].sum() - len(ordersByUsersA['orders'])\n",
    "            ),\n",
    "            name='orders',\n",
    "        ),\n",
    "    ],\n",
    "    axis=0,\n",
    ")\n",
    "\n",
    "sampleBFiltered = pd.concat(\n",
    "    [\n",
    "        ordersByUsersB[\n",
    "            np.logical_not(ordersByUsersB['userId'].isin(abnormalUsers))\n",
    "        ]['orders'],\n",
    "        pd.Series(\n",
    "            0,\n",
    "            index=np.arange(\n",
    "                data['visitorsPerDateB'].sum() - len(ordersByUsersB['orders'])\n",
    "            ),\n",
    "            name='orders',\n",
    "        ),\n",
    "    ],\n",
    "    axis=0,\n",
    ") "
   ]
  },
  {
   "cell_type": "code",
   "execution_count": 58,
   "metadata": {},
   "outputs": [
    {
     "name": "stdout",
     "output_type": "stream",
     "text": [
      "0.004\n",
      "0.205\n"
     ]
    }
   ],
   "source": [
    "# узнаем p_value\n",
    "print('{0:.3f}'.format(stats.mannwhitneyu(sampleAFiltered, sampleBFiltered)[1]))\n",
    "# узнаем относительное различие средних двух выборок \n",
    "print('{0:.3f}'.format(sampleBFiltered.mean()/sampleAFiltered.mean()-1)) "
   ]
  },
  {
   "cell_type": "markdown",
   "metadata": {},
   "source": [
    "**Вывод:** p_value значительно снизилось до 0,7% по сравнению с не очищенными данными. Таким образом, мы с очень большой долей вероятности говорить о наличии значимых различий между выборками и можем отвергнуть нулевую гипотезу."
   ]
  },
  {
   "cell_type": "markdown",
   "metadata": {},
   "source": [
    "### Статистическая значимость различий в среднем чеке заказа между группами по «очищенным» данным."
   ]
  },
  {
   "cell_type": "markdown",
   "metadata": {},
   "source": [
    "Нулевая гипотеза: различий в среднем чеке заказов между группами по \"очищенным\" данным нет.\n",
    "Альтернативная гипотеза: различия в среднем чеке заказов между группами по \"очищенным\" данным есть."
   ]
  },
  {
   "cell_type": "code",
   "execution_count": 59,
   "metadata": {},
   "outputs": [
    {
     "name": "stdout",
     "output_type": "stream",
     "text": [
      "0.937\n",
      "0.055\n"
     ]
    }
   ],
   "source": [
    "#очистим данные от аномалий и сразу узнаем p_value\n",
    "print(\n",
    "    '{0:.3f}'.format(\n",
    "        stats.mannwhitneyu(\n",
    "            orders[\n",
    "                np.logical_and(\n",
    "                    orders['group'] == 'A',\n",
    "                    np.logical_not(orders['visitorId'].isin(abnormalUsers)),\n",
    "                )\n",
    "            ]['revenue'],\n",
    "            orders[\n",
    "                np.logical_and(\n",
    "                    orders['group'] == 'B',\n",
    "                    np.logical_not(orders['visitorId'].isin(abnormalUsers)),\n",
    "                )\n",
    "            ]['revenue'], \n",
    "        )[1]\n",
    "    )\n",
    ")\n",
    "#очистим данные от аномалий и сразу узнаем относительное различие средних двух выборок \n",
    "print(\n",
    "    \"{0:.3f}\".format(\n",
    "        orders[\n",
    "            np.logical_and(\n",
    "                orders['group'] == 'B',\n",
    "                np.logical_not(orders['visitorId'].isin(abnormalUsers)),\n",
    "            )\n",
    "        ]['revenue'].mean()\n",
    "        / orders[\n",
    "            np.logical_and(\n",
    "                orders['group'] == 'A',\n",
    "                np.logical_not(orders['visitorId'].isin(abnormalUsers)),\n",
    "            )\n",
    "        ]['revenue'].mean()\n",
    "        - 1\n",
    "    )\n",
    ") "
   ]
  },
  {
   "cell_type": "markdown",
   "metadata": {},
   "source": [
    "**Вывод:** p_value после удаления аномальных пользователей увеличилось до 93,7%. Мы с очень большой долей вероятности можем сказать, что нулевую гипотезу отвергнуть нельзя на очищенных данных. Относительная разница между чеками в группе составляет около 6%."
   ]
  },
  {
   "cell_type": "markdown",
   "metadata": {},
   "source": [
    "### Решение по результатам a/b тестировния"
   ]
  },
  {
   "cell_type": "markdown",
   "metadata": {},
   "source": [
    "1. Первая часть теста, которая относится к сравнению количества заказов на одного пользователя, как на неочищенных, так и на очищенных данных показала достаточно однозначные результаты. P-value в первом случае равно 1,7%, во втором 0,7%, что ниже уровня статистической значимости. Мы можем отвергнуть нулевую гипотезу и прекратить тест.\n",
    "2. Вторую часть теста, связанную со сравнением среднего чека между группами, также следует прекратить. После очистки данных p-value составило 94%, а относительная разница среднего всего 5,8%. Статистической значимой разницы между группами на основании среднего чека нет."
   ]
  },
  {
   "cell_type": "markdown",
   "metadata": {},
   "source": [
    "# Заключение"
   ]
  },
  {
   "cell_type": "markdown",
   "metadata": {},
   "source": [
    "1. Первая часть проекта с приоритезацией гипотез показала, что наиболее приоритетной гипотезой по наиболее полному методу RICE оказалась гипотеза о добавление формы подписки на все основные страницы, чтобы собрать базу клиентов для email-рассылок. У нее самый большой показатель охвата аудитории и при этом умеренно высокий импакт и уверенность в её результатах.\n",
    "2. Вторую часть проекта можно в свою очередь также поделить на 2 содержательные части: \\\n",
    "а) Анализ А/B теста, сравнивающего изменение количества покупок на каждого пользователя в разных группах. Тест на неочищенных и на очищенных данных показал, что статистическое различие между выборками является значимым и мы можем отвергнуть нулевую гипотезу. При этом на графиках было видно, что группа B показывает более хорошие результаты по сравнению с группой А на протяжении практически всего теста, а разница средних значений выборок на очищенных данных составила почти 19%. Поэтому было принято решение остановить тестирование и признать значимым статистическое различие между группами. \\\n",
    "б) Анализ А/B теста, сравниваюшего изменение среднего чека в разных группах. На графиках, в которых сравнивались куммулятивные средние чеки, было видно, что средний чек в группе B сильно вырос после 19 августа. Это связано с аномально крупными покупками в этот день. Тест после очистки данных показал, что p_value равно 94,4%. Это значит, что с огромной долей вероятности нулевую гипотезу нельзя отклонить и не имеют статистически значимой разницы. Поэтому было принято решение остановить эту часть теста."
   ]
  }
 ],
 "metadata": {
  "ExecuteTimeLog": [
   {
    "duration": 471,
    "start_time": "2023-05-24T06:22:48.159Z"
   },
   {
    "duration": 81,
    "start_time": "2023-05-24T06:37:43.885Z"
   },
   {
    "duration": 26,
    "start_time": "2023-05-24T06:44:14.475Z"
   },
   {
    "duration": 8,
    "start_time": "2023-05-24T06:44:21.158Z"
   },
   {
    "duration": 6,
    "start_time": "2023-05-24T06:44:35.792Z"
   },
   {
    "duration": 5,
    "start_time": "2023-05-24T06:45:10.466Z"
   },
   {
    "duration": 43,
    "start_time": "2023-05-24T06:52:39.178Z"
   },
   {
    "duration": 4,
    "start_time": "2023-05-24T06:54:03.199Z"
   },
   {
    "duration": 791,
    "start_time": "2023-05-24T06:54:08.315Z"
   },
   {
    "duration": 10,
    "start_time": "2023-05-24T06:56:09.468Z"
   },
   {
    "duration": 13,
    "start_time": "2023-05-24T06:56:18.903Z"
   },
   {
    "duration": 12,
    "start_time": "2023-05-24T06:56:31.001Z"
   },
   {
    "duration": 54,
    "start_time": "2023-05-24T06:58:32.011Z"
   },
   {
    "duration": 11,
    "start_time": "2023-05-24T07:05:21.209Z"
   },
   {
    "duration": 2,
    "start_time": "2023-05-24T07:13:36.170Z"
   },
   {
    "duration": 77,
    "start_time": "2023-05-24T07:15:55.078Z"
   },
   {
    "duration": 12,
    "start_time": "2023-05-24T07:16:00.992Z"
   },
   {
    "duration": 7,
    "start_time": "2023-05-24T07:16:06.717Z"
   },
   {
    "duration": 64,
    "start_time": "2023-05-24T07:16:34.882Z"
   },
   {
    "duration": 8,
    "start_time": "2023-05-24T07:16:45.278Z"
   },
   {
    "duration": 5,
    "start_time": "2023-05-24T07:24:17.999Z"
   },
   {
    "duration": 10,
    "start_time": "2023-05-24T07:24:25.420Z"
   },
   {
    "duration": 5,
    "start_time": "2023-05-24T07:24:54.200Z"
   },
   {
    "duration": 11,
    "start_time": "2023-05-24T07:24:58.362Z"
   },
   {
    "duration": 10,
    "start_time": "2023-05-24T07:25:19.678Z"
   },
   {
    "duration": 17,
    "start_time": "2023-05-24T07:26:56.676Z"
   },
   {
    "duration": 3,
    "start_time": "2023-05-24T07:27:15.911Z"
   },
   {
    "duration": 19,
    "start_time": "2023-05-24T07:27:19.656Z"
   },
   {
    "duration": 178,
    "start_time": "2023-05-24T07:28:17.259Z"
   },
   {
    "duration": 10,
    "start_time": "2023-05-24T07:28:25.427Z"
   },
   {
    "duration": 177,
    "start_time": "2023-05-24T07:35:19.301Z"
   },
   {
    "duration": 124,
    "start_time": "2023-05-24T07:38:38.782Z"
   },
   {
    "duration": 110,
    "start_time": "2023-05-24T07:38:43.286Z"
   },
   {
    "duration": 111,
    "start_time": "2023-05-24T07:38:51.419Z"
   },
   {
    "duration": 6,
    "start_time": "2023-05-24T07:40:20.130Z"
   },
   {
    "duration": 11,
    "start_time": "2023-05-24T07:40:29.277Z"
   },
   {
    "duration": 6,
    "start_time": "2023-05-24T07:42:13.870Z"
   },
   {
    "duration": 11,
    "start_time": "2023-05-24T07:42:19.946Z"
   },
   {
    "duration": 14,
    "start_time": "2023-05-24T07:42:29.210Z"
   },
   {
    "duration": 15,
    "start_time": "2023-05-24T07:43:10.489Z"
   },
   {
    "duration": 3,
    "start_time": "2023-05-24T07:43:48.058Z"
   },
   {
    "duration": 9,
    "start_time": "2023-05-24T07:43:54.884Z"
   },
   {
    "duration": 8,
    "start_time": "2023-05-24T07:44:21.197Z"
   },
   {
    "duration": 7,
    "start_time": "2023-05-24T07:47:00.874Z"
   },
   {
    "duration": 8,
    "start_time": "2023-05-24T07:47:22.317Z"
   },
   {
    "duration": 381,
    "start_time": "2023-05-24T07:48:41.791Z"
   },
   {
    "duration": 251,
    "start_time": "2023-05-24T07:48:46.324Z"
   },
   {
    "duration": 246,
    "start_time": "2023-05-24T07:50:33.300Z"
   },
   {
    "duration": 279,
    "start_time": "2023-05-24T07:50:43.559Z"
   },
   {
    "duration": 228,
    "start_time": "2023-05-24T07:51:00.122Z"
   },
   {
    "duration": 384,
    "start_time": "2023-05-24T07:55:15.070Z"
   },
   {
    "duration": 409,
    "start_time": "2023-05-24T07:55:27.778Z"
   },
   {
    "duration": 379,
    "start_time": "2023-05-24T07:55:44.150Z"
   },
   {
    "duration": 309,
    "start_time": "2023-05-24T07:57:25.767Z"
   },
   {
    "duration": 293,
    "start_time": "2023-05-24T07:57:47.060Z"
   },
   {
    "duration": 250,
    "start_time": "2023-05-24T08:35:17.921Z"
   },
   {
    "duration": 305,
    "start_time": "2023-05-24T08:35:30.947Z"
   },
   {
    "duration": 375,
    "start_time": "2023-05-24T08:36:00.962Z"
   },
   {
    "duration": 3,
    "start_time": "2023-05-24T08:43:24.266Z"
   },
   {
    "duration": 6,
    "start_time": "2023-05-24T08:48:16.662Z"
   },
   {
    "duration": 5,
    "start_time": "2023-05-24T08:48:23.419Z"
   },
   {
    "duration": 9,
    "start_time": "2023-05-24T08:48:27.424Z"
   },
   {
    "duration": 6,
    "start_time": "2023-05-24T08:48:55.915Z"
   },
   {
    "duration": 13,
    "start_time": "2023-05-24T08:49:03.070Z"
   },
   {
    "duration": 12,
    "start_time": "2023-05-24T08:49:27.200Z"
   },
   {
    "duration": 14,
    "start_time": "2023-05-24T08:50:43.144Z"
   },
   {
    "duration": 240,
    "start_time": "2023-05-24T08:51:16.219Z"
   },
   {
    "duration": 394,
    "start_time": "2023-05-24T08:51:37.717Z"
   },
   {
    "duration": 414,
    "start_time": "2023-05-24T08:52:05.363Z"
   },
   {
    "duration": 3,
    "start_time": "2023-05-24T08:58:25.114Z"
   },
   {
    "duration": 8,
    "start_time": "2023-05-24T09:04:21.220Z"
   },
   {
    "duration": 11,
    "start_time": "2023-05-24T09:19:07.412Z"
   },
   {
    "duration": 7,
    "start_time": "2023-05-24T09:20:27.162Z"
   },
   {
    "duration": 6,
    "start_time": "2023-05-24T09:28:52.750Z"
   },
   {
    "duration": 40,
    "start_time": "2023-05-24T09:28:53.275Z"
   },
   {
    "duration": 11,
    "start_time": "2023-05-24T09:28:57.062Z"
   },
   {
    "duration": 10,
    "start_time": "2023-05-24T09:29:13.879Z"
   },
   {
    "duration": 290,
    "start_time": "2023-05-24T09:29:19.980Z"
   },
   {
    "duration": 220,
    "start_time": "2023-05-24T09:30:09.295Z"
   },
   {
    "duration": 318,
    "start_time": "2023-05-24T09:30:19.012Z"
   },
   {
    "duration": 12,
    "start_time": "2023-05-24T10:07:50.896Z"
   },
   {
    "duration": 11,
    "start_time": "2023-05-24T10:08:07.910Z"
   },
   {
    "duration": 386,
    "start_time": "2023-05-24T10:09:28.487Z"
   },
   {
    "duration": 235,
    "start_time": "2023-05-24T10:10:01.990Z"
   },
   {
    "duration": 5,
    "start_time": "2023-05-24T10:11:39.362Z"
   },
   {
    "duration": 526,
    "start_time": "2023-05-24T10:12:30.070Z"
   },
   {
    "duration": 13,
    "start_time": "2023-05-24T10:21:05.520Z"
   },
   {
    "duration": 11,
    "start_time": "2023-05-24T10:24:17.700Z"
   },
   {
    "duration": 13,
    "start_time": "2023-05-24T10:24:25.870Z"
   },
   {
    "duration": 4,
    "start_time": "2023-05-24T10:24:44.607Z"
   },
   {
    "duration": 10,
    "start_time": "2023-05-24T10:25:11.587Z"
   },
   {
    "duration": 111,
    "start_time": "2023-05-24T10:25:55.809Z"
   },
   {
    "duration": 142,
    "start_time": "2023-05-24T10:26:10.391Z"
   },
   {
    "duration": 139,
    "start_time": "2023-05-24T10:26:35.087Z"
   },
   {
    "duration": 5,
    "start_time": "2023-05-24T11:27:48.505Z"
   },
   {
    "duration": 5,
    "start_time": "2023-05-24T11:27:53.917Z"
   },
   {
    "duration": 7,
    "start_time": "2023-05-24T11:28:09.473Z"
   },
   {
    "duration": 7,
    "start_time": "2023-05-24T11:29:34.874Z"
   },
   {
    "duration": 11,
    "start_time": "2023-05-24T11:39:08.788Z"
   },
   {
    "duration": 6,
    "start_time": "2023-05-24T11:39:13.417Z"
   },
   {
    "duration": 137,
    "start_time": "2023-05-24T11:44:20.852Z"
   },
   {
    "duration": 161,
    "start_time": "2023-05-24T11:44:34.897Z"
   },
   {
    "duration": 163,
    "start_time": "2023-05-24T11:44:49.852Z"
   },
   {
    "duration": 5,
    "start_time": "2023-05-24T11:53:32.022Z"
   },
   {
    "duration": 4,
    "start_time": "2023-05-24T11:53:47.559Z"
   },
   {
    "duration": 3,
    "start_time": "2023-05-24T12:00:15.191Z"
   },
   {
    "duration": 11,
    "start_time": "2023-05-24T12:08:53.604Z"
   },
   {
    "duration": 23,
    "start_time": "2023-05-24T12:12:14.270Z"
   },
   {
    "duration": 13,
    "start_time": "2023-05-24T12:12:28.095Z"
   },
   {
    "duration": 141,
    "start_time": "2023-05-24T12:13:16.162Z"
   },
   {
    "duration": 11,
    "start_time": "2023-05-24T12:13:20.674Z"
   },
   {
    "duration": 7,
    "start_time": "2023-05-24T12:13:27.896Z"
   },
   {
    "duration": 9,
    "start_time": "2023-05-24T12:13:35.882Z"
   },
   {
    "duration": 14,
    "start_time": "2023-05-24T12:19:11.258Z"
   },
   {
    "duration": 11,
    "start_time": "2023-05-24T12:19:18.213Z"
   },
   {
    "duration": 113,
    "start_time": "2023-05-24T12:20:00.599Z"
   },
   {
    "duration": 5,
    "start_time": "2023-05-24T12:20:26.514Z"
   },
   {
    "duration": 43,
    "start_time": "2023-05-24T12:25:27.400Z"
   },
   {
    "duration": 44,
    "start_time": "2023-05-24T12:25:44.510Z"
   },
   {
    "duration": 6,
    "start_time": "2023-05-24T12:33:14.965Z"
   },
   {
    "duration": 12,
    "start_time": "2023-05-24T12:33:30.302Z"
   },
   {
    "duration": 5,
    "start_time": "2023-05-24T12:33:37.704Z"
   },
   {
    "duration": 16,
    "start_time": "2023-05-24T12:41:16.993Z"
   },
   {
    "duration": 526,
    "start_time": "2023-05-24T12:41:35.359Z"
   },
   {
    "duration": 36,
    "start_time": "2023-05-24T12:41:39.465Z"
   },
   {
    "duration": 1171,
    "start_time": "2023-05-25T06:55:46.815Z"
   },
   {
    "duration": 72,
    "start_time": "2023-05-25T06:55:47.988Z"
   },
   {
    "duration": 11,
    "start_time": "2023-05-25T06:55:48.061Z"
   },
   {
    "duration": 26,
    "start_time": "2023-05-25T06:55:48.074Z"
   },
   {
    "duration": 18,
    "start_time": "2023-05-25T06:55:48.101Z"
   },
   {
    "duration": 11,
    "start_time": "2023-05-25T06:55:49.952Z"
   },
   {
    "duration": 83,
    "start_time": "2023-05-25T06:55:50.048Z"
   },
   {
    "duration": 7,
    "start_time": "2023-05-25T06:55:50.133Z"
   },
   {
    "duration": 69,
    "start_time": "2023-05-25T06:55:50.142Z"
   },
   {
    "duration": 7,
    "start_time": "2023-05-25T06:55:50.213Z"
   },
   {
    "duration": 18,
    "start_time": "2023-05-25T06:55:50.222Z"
   },
   {
    "duration": 204,
    "start_time": "2023-05-25T06:55:50.244Z"
   },
   {
    "duration": 139,
    "start_time": "2023-05-25T06:55:50.449Z"
   },
   {
    "duration": 11,
    "start_time": "2023-05-25T06:55:50.590Z"
   },
   {
    "duration": 15,
    "start_time": "2023-05-25T06:55:50.603Z"
   },
   {
    "duration": 34,
    "start_time": "2023-05-25T06:55:50.620Z"
   },
   {
    "duration": 337,
    "start_time": "2023-05-25T06:55:50.656Z"
   },
   {
    "duration": 292,
    "start_time": "2023-05-25T06:55:50.994Z"
   },
   {
    "duration": 11,
    "start_time": "2023-05-25T06:55:51.288Z"
   },
   {
    "duration": 424,
    "start_time": "2023-05-25T06:55:51.302Z"
   },
   {
    "duration": 6,
    "start_time": "2023-05-25T06:55:51.727Z"
   },
   {
    "duration": 323,
    "start_time": "2023-05-25T06:55:51.735Z"
   },
   {
    "duration": 10,
    "start_time": "2023-05-25T06:55:52.060Z"
   },
   {
    "duration": 364,
    "start_time": "2023-05-25T06:55:52.071Z"
   },
   {
    "duration": 11,
    "start_time": "2023-05-25T06:55:52.437Z"
   },
   {
    "duration": 26,
    "start_time": "2023-05-25T06:55:52.449Z"
   },
   {
    "duration": 129,
    "start_time": "2023-05-25T06:55:52.477Z"
   },
   {
    "duration": 5,
    "start_time": "2023-05-25T06:55:52.607Z"
   },
   {
    "duration": 21,
    "start_time": "2023-05-25T06:55:52.614Z"
   },
   {
    "duration": 152,
    "start_time": "2023-05-25T06:55:52.636Z"
   },
   {
    "duration": 5,
    "start_time": "2023-05-25T06:55:52.792Z"
   },
   {
    "duration": 29,
    "start_time": "2023-05-25T06:55:52.798Z"
   },
   {
    "duration": 27,
    "start_time": "2023-05-25T06:55:52.828Z"
   },
   {
    "duration": 25,
    "start_time": "2023-05-25T06:55:52.861Z"
   },
   {
    "duration": 35,
    "start_time": "2023-05-25T06:55:52.997Z"
   },
   {
    "duration": 107,
    "start_time": "2023-05-25T06:55:53.138Z"
   },
   {
    "duration": 6,
    "start_time": "2023-05-25T06:55:53.289Z"
   },
   {
    "duration": 6,
    "start_time": "2023-05-25T06:55:53.469Z"
   },
   {
    "duration": 6,
    "start_time": "2023-05-25T06:55:54.382Z"
   },
   {
    "duration": 19,
    "start_time": "2023-05-25T06:55:54.870Z"
   },
   {
    "duration": 6,
    "start_time": "2023-05-25T06:59:50.407Z"
   },
   {
    "duration": 11,
    "start_time": "2023-05-25T07:00:36.596Z"
   },
   {
    "duration": 881,
    "start_time": "2023-05-25T07:19:42.791Z"
   },
   {
    "duration": 8,
    "start_time": "2023-05-25T07:19:58.939Z"
   },
   {
    "duration": 8,
    "start_time": "2023-05-25T07:20:19.816Z"
   },
   {
    "duration": 13,
    "start_time": "2023-05-25T07:20:23.903Z"
   },
   {
    "duration": 7,
    "start_time": "2023-05-25T07:20:37.967Z"
   },
   {
    "duration": 5,
    "start_time": "2023-05-25T07:20:43.318Z"
   },
   {
    "duration": 9,
    "start_time": "2023-05-25T07:20:58.441Z"
   },
   {
    "duration": 7,
    "start_time": "2023-05-25T07:24:29.397Z"
   },
   {
    "duration": 3,
    "start_time": "2023-05-25T07:24:53.439Z"
   },
   {
    "duration": 28,
    "start_time": "2023-05-25T07:25:07.591Z"
   },
   {
    "duration": 29,
    "start_time": "2023-05-25T07:25:24.667Z"
   },
   {
    "duration": 21,
    "start_time": "2023-05-25T07:25:39.317Z"
   },
   {
    "duration": 1501,
    "start_time": "2023-05-25T07:34:42.206Z"
   },
   {
    "duration": 14,
    "start_time": "2023-05-25T07:35:52.440Z"
   },
   {
    "duration": 45,
    "start_time": "2023-05-25T08:29:48.189Z"
   },
   {
    "duration": 32,
    "start_time": "2023-05-25T08:33:20.227Z"
   },
   {
    "duration": 32,
    "start_time": "2023-05-25T08:33:40.334Z"
   },
   {
    "duration": 5,
    "start_time": "2023-05-25T08:34:25.145Z"
   },
   {
    "duration": 54,
    "start_time": "2023-05-25T08:52:52.243Z"
   },
   {
    "duration": 31,
    "start_time": "2023-05-25T08:57:46.816Z"
   },
   {
    "duration": 59,
    "start_time": "2023-05-25T08:58:08.066Z"
   },
   {
    "duration": 36,
    "start_time": "2023-05-25T08:58:26.889Z"
   },
   {
    "duration": 328,
    "start_time": "2023-05-25T08:59:04.579Z"
   },
   {
    "duration": 419,
    "start_time": "2023-05-25T08:59:33.868Z"
   },
   {
    "duration": 361,
    "start_time": "2023-05-25T08:59:45.436Z"
   },
   {
    "duration": 322,
    "start_time": "2023-05-25T08:59:51.207Z"
   },
   {
    "duration": 305,
    "start_time": "2023-05-25T09:00:45.936Z"
   },
   {
    "duration": 11,
    "start_time": "2023-05-25T09:01:22.912Z"
   },
   {
    "duration": 347,
    "start_time": "2023-05-25T09:01:42.235Z"
   },
   {
    "duration": 7,
    "start_time": "2023-05-25T09:03:25.806Z"
   },
   {
    "duration": 64,
    "start_time": "2023-05-25T09:04:07.242Z"
   },
   {
    "duration": 300,
    "start_time": "2023-05-25T09:04:13.149Z"
   },
   {
    "duration": 423,
    "start_time": "2023-05-25T09:05:48.492Z"
   },
   {
    "duration": 380,
    "start_time": "2023-05-25T09:06:06.309Z"
   },
   {
    "duration": 416,
    "start_time": "2023-05-25T09:06:11.701Z"
   },
   {
    "duration": 406,
    "start_time": "2023-05-25T09:06:17.951Z"
   },
   {
    "duration": 11,
    "start_time": "2023-05-25T09:09:48.221Z"
   },
   {
    "duration": 141,
    "start_time": "2023-05-25T09:10:27.542Z"
   },
   {
    "duration": 259,
    "start_time": "2023-05-25T09:12:06.005Z"
   },
   {
    "duration": 156,
    "start_time": "2023-05-25T09:12:19.335Z"
   },
   {
    "duration": 170,
    "start_time": "2023-05-25T09:13:06.656Z"
   },
   {
    "duration": 44,
    "start_time": "2023-05-25T09:15:08.328Z"
   },
   {
    "duration": 136,
    "start_time": "2023-05-25T09:16:13.567Z"
   },
   {
    "duration": 7,
    "start_time": "2023-05-25T09:16:49.909Z"
   },
   {
    "duration": 21,
    "start_time": "2023-05-25T09:17:34.570Z"
   },
   {
    "duration": 10,
    "start_time": "2023-05-25T09:17:53.347Z"
   },
   {
    "duration": 9,
    "start_time": "2023-05-25T09:18:42.349Z"
   },
   {
    "duration": 18,
    "start_time": "2023-05-25T09:19:02.650Z"
   },
   {
    "duration": 13,
    "start_time": "2023-05-25T09:19:55.187Z"
   },
   {
    "duration": 1309,
    "start_time": "2023-05-25T10:45:06.380Z"
   },
   {
    "duration": 78,
    "start_time": "2023-05-25T10:45:07.691Z"
   },
   {
    "duration": 4,
    "start_time": "2023-05-25T10:45:07.771Z"
   },
   {
    "duration": 13,
    "start_time": "2023-05-25T10:45:07.778Z"
   },
   {
    "duration": 16,
    "start_time": "2023-05-25T10:45:07.793Z"
   },
   {
    "duration": 116,
    "start_time": "2023-05-25T10:45:07.811Z"
   },
   {
    "duration": 60,
    "start_time": "2023-05-25T10:45:07.929Z"
   },
   {
    "duration": 11,
    "start_time": "2023-05-25T10:45:07.991Z"
   },
   {
    "duration": 206,
    "start_time": "2023-05-25T10:45:08.004Z"
   },
   {
    "duration": 135,
    "start_time": "2023-05-25T10:45:08.213Z"
   },
   {
    "duration": 23,
    "start_time": "2023-05-25T10:45:08.357Z"
   },
   {
    "duration": 26,
    "start_time": "2023-05-25T10:45:08.382Z"
   },
   {
    "duration": 8,
    "start_time": "2023-05-25T10:45:08.409Z"
   },
   {
    "duration": 341,
    "start_time": "2023-05-25T10:45:08.418Z"
   },
   {
    "duration": 403,
    "start_time": "2023-05-25T10:45:08.761Z"
   },
   {
    "duration": 12,
    "start_time": "2023-05-25T10:45:09.165Z"
   },
   {
    "duration": 448,
    "start_time": "2023-05-25T10:45:09.179Z"
   },
   {
    "duration": 7,
    "start_time": "2023-05-25T10:45:09.629Z"
   },
   {
    "duration": 420,
    "start_time": "2023-05-25T10:45:09.637Z"
   },
   {
    "duration": 11,
    "start_time": "2023-05-25T10:45:10.059Z"
   },
   {
    "duration": 414,
    "start_time": "2023-05-25T10:45:10.072Z"
   },
   {
    "duration": 12,
    "start_time": "2023-05-25T10:45:10.489Z"
   },
   {
    "duration": 175,
    "start_time": "2023-05-25T10:45:10.503Z"
   },
   {
    "duration": 4,
    "start_time": "2023-05-25T10:45:10.680Z"
   },
   {
    "duration": 23,
    "start_time": "2023-05-25T10:45:10.686Z"
   },
   {
    "duration": 184,
    "start_time": "2023-05-25T10:45:10.711Z"
   },
   {
    "duration": 8,
    "start_time": "2023-05-25T10:45:10.896Z"
   },
   {
    "duration": 38,
    "start_time": "2023-05-25T10:45:10.907Z"
   },
   {
    "duration": 70,
    "start_time": "2023-05-25T10:45:10.947Z"
   },
   {
    "duration": 158,
    "start_time": "2023-05-25T10:45:11.020Z"
   },
   {
    "duration": 8,
    "start_time": "2023-05-25T10:45:11.180Z"
   },
   {
    "duration": 27,
    "start_time": "2023-05-25T10:45:11.189Z"
   },
   {
    "duration": 34,
    "start_time": "2023-05-25T10:45:11.219Z"
   },
   {
    "duration": 34,
    "start_time": "2023-05-25T10:45:11.262Z"
   },
   {
    "duration": 20,
    "start_time": "2023-05-25T10:45:11.298Z"
   },
   {
    "duration": 12,
    "start_time": "2023-05-25T10:45:11.320Z"
   },
   {
    "duration": 9,
    "start_time": "2023-05-25T10:45:11.334Z"
   },
   {
    "duration": 30,
    "start_time": "2023-05-25T10:45:11.345Z"
   },
   {
    "duration": 14,
    "start_time": "2023-05-25T10:45:11.377Z"
   },
   {
    "duration": 1394,
    "start_time": "2023-05-29T08:14:57.910Z"
   },
   {
    "duration": 105,
    "start_time": "2023-05-29T08:14:59.308Z"
   },
   {
    "duration": 4,
    "start_time": "2023-05-29T08:14:59.415Z"
   },
   {
    "duration": 12,
    "start_time": "2023-05-29T08:14:59.421Z"
   },
   {
    "duration": 15,
    "start_time": "2023-05-29T08:15:00.500Z"
   },
   {
    "duration": 117,
    "start_time": "2023-05-29T08:15:01.793Z"
   },
   {
    "duration": 71,
    "start_time": "2023-05-29T08:15:02.086Z"
   },
   {
    "duration": 10,
    "start_time": "2023-05-29T08:17:20.401Z"
   },
   {
    "duration": 5,
    "start_time": "2023-05-29T08:17:50.458Z"
   },
   {
    "duration": 7,
    "start_time": "2023-05-29T08:19:59.192Z"
   },
   {
    "duration": 5,
    "start_time": "2023-05-29T08:21:38.606Z"
   },
   {
    "duration": 4,
    "start_time": "2023-05-29T08:21:46.068Z"
   },
   {
    "duration": 12,
    "start_time": "2023-05-29T08:25:10.120Z"
   },
   {
    "duration": 5,
    "start_time": "2023-05-29T08:26:47.083Z"
   },
   {
    "duration": 13,
    "start_time": "2023-05-29T08:27:07.155Z"
   },
   {
    "duration": 111,
    "start_time": "2023-05-29T08:27:45.804Z"
   },
   {
    "duration": 24,
    "start_time": "2023-05-29T08:28:01.402Z"
   },
   {
    "duration": 10,
    "start_time": "2023-05-29T08:28:16.906Z"
   },
   {
    "duration": 13,
    "start_time": "2023-05-29T08:28:51.399Z"
   },
   {
    "duration": 12,
    "start_time": "2023-05-29T08:29:25.404Z"
   },
   {
    "duration": 14,
    "start_time": "2023-05-29T08:29:38.267Z"
   },
   {
    "duration": 16,
    "start_time": "2023-05-29T08:30:42.801Z"
   },
   {
    "duration": 7,
    "start_time": "2023-05-29T08:31:00.009Z"
   },
   {
    "duration": 4,
    "start_time": "2023-05-29T08:31:36.007Z"
   },
   {
    "duration": 11,
    "start_time": "2023-05-29T08:32:35.928Z"
   },
   {
    "duration": 8,
    "start_time": "2023-05-29T08:34:09.957Z"
   },
   {
    "duration": 9,
    "start_time": "2023-05-29T08:34:21.804Z"
   },
   {
    "duration": 1138,
    "start_time": "2023-05-29T08:36:41.920Z"
   },
   {
    "duration": 19,
    "start_time": "2023-05-29T08:36:51.588Z"
   },
   {
    "duration": 38,
    "start_time": "2023-05-29T08:38:58.106Z"
   },
   {
    "duration": 11,
    "start_time": "2023-05-29T08:39:26.602Z"
   },
   {
    "duration": 6,
    "start_time": "2023-05-29T08:39:33.124Z"
   },
   {
    "duration": 13,
    "start_time": "2023-05-29T08:41:08.752Z"
   },
   {
    "duration": 12,
    "start_time": "2023-05-29T08:41:41.618Z"
   },
   {
    "duration": 23,
    "start_time": "2023-05-29T08:41:53.105Z"
   },
   {
    "duration": 12,
    "start_time": "2023-05-29T08:43:02.703Z"
   },
   {
    "duration": 10,
    "start_time": "2023-05-29T08:43:25.847Z"
   },
   {
    "duration": 8,
    "start_time": "2023-05-29T08:43:30.906Z"
   },
   {
    "duration": 9,
    "start_time": "2023-05-29T08:44:17.605Z"
   },
   {
    "duration": 7,
    "start_time": "2023-05-29T08:44:54.015Z"
   },
   {
    "duration": 5,
    "start_time": "2023-05-29T08:44:59.219Z"
   },
   {
    "duration": 8,
    "start_time": "2023-05-29T08:46:41.901Z"
   },
   {
    "duration": 22,
    "start_time": "2023-05-29T08:47:14.062Z"
   },
   {
    "duration": 12,
    "start_time": "2023-05-29T08:47:59.700Z"
   },
   {
    "duration": 33,
    "start_time": "2023-05-29T08:48:08.501Z"
   },
   {
    "duration": 17,
    "start_time": "2023-05-29T08:48:24.118Z"
   },
   {
    "duration": 9,
    "start_time": "2023-05-29T08:48:44.919Z"
   },
   {
    "duration": 8,
    "start_time": "2023-05-29T08:49:04.713Z"
   },
   {
    "duration": 9,
    "start_time": "2023-05-29T08:49:23.356Z"
   },
   {
    "duration": 47,
    "start_time": "2023-05-29T08:49:48.814Z"
   },
   {
    "duration": 47,
    "start_time": "2023-05-29T08:49:53.504Z"
   },
   {
    "duration": 9,
    "start_time": "2023-05-29T08:50:00.704Z"
   },
   {
    "duration": 20,
    "start_time": "2023-05-29T08:50:31.306Z"
   },
   {
    "duration": 10,
    "start_time": "2023-05-29T08:51:43.994Z"
   },
   {
    "duration": 9,
    "start_time": "2023-05-29T08:52:27.899Z"
   },
   {
    "duration": 14,
    "start_time": "2023-05-29T08:53:01.503Z"
   },
   {
    "duration": 12,
    "start_time": "2023-05-29T08:53:46.115Z"
   },
   {
    "duration": 14,
    "start_time": "2023-05-29T08:53:59.310Z"
   },
   {
    "duration": 24,
    "start_time": "2023-05-29T08:55:08.389Z"
   },
   {
    "duration": 15,
    "start_time": "2023-05-29T09:00:11.599Z"
   },
   {
    "duration": 17,
    "start_time": "2023-05-29T09:00:27.500Z"
   },
   {
    "duration": 5,
    "start_time": "2023-05-29T09:00:37.951Z"
   },
   {
    "duration": 24,
    "start_time": "2023-05-29T09:01:34.180Z"
   },
   {
    "duration": 12,
    "start_time": "2023-05-29T09:01:42.752Z"
   },
   {
    "duration": 71,
    "start_time": "2023-05-29T09:01:51.410Z"
   },
   {
    "duration": 25,
    "start_time": "2023-05-29T09:01:51.601Z"
   },
   {
    "duration": 5,
    "start_time": "2023-05-29T09:01:51.721Z"
   },
   {
    "duration": 5,
    "start_time": "2023-05-29T09:01:51.847Z"
   },
   {
    "duration": 11,
    "start_time": "2023-05-29T09:01:52.110Z"
   },
   {
    "duration": 11,
    "start_time": "2023-05-29T09:01:52.389Z"
   },
   {
    "duration": 5,
    "start_time": "2023-05-29T09:01:52.522Z"
   },
   {
    "duration": 13,
    "start_time": "2023-05-29T09:01:53.208Z"
   },
   {
    "duration": 6,
    "start_time": "2023-05-29T09:01:53.517Z"
   },
   {
    "duration": 81,
    "start_time": "2023-05-29T09:02:04.224Z"
   },
   {
    "duration": 38,
    "start_time": "2023-05-29T09:02:04.402Z"
   },
   {
    "duration": 6,
    "start_time": "2023-05-29T09:02:04.547Z"
   },
   {
    "duration": 8,
    "start_time": "2023-05-29T09:02:04.702Z"
   },
   {
    "duration": 11,
    "start_time": "2023-05-29T09:02:04.982Z"
   },
   {
    "duration": 8,
    "start_time": "2023-05-29T09:02:05.209Z"
   },
   {
    "duration": 8,
    "start_time": "2023-05-29T09:02:05.402Z"
   },
   {
    "duration": 13,
    "start_time": "2023-05-29T09:02:08.602Z"
   },
   {
    "duration": 14,
    "start_time": "2023-05-29T09:02:13.519Z"
   },
   {
    "duration": 12,
    "start_time": "2023-05-29T09:04:01.495Z"
   },
   {
    "duration": 15,
    "start_time": "2023-05-29T09:04:06.403Z"
   },
   {
    "duration": 7,
    "start_time": "2023-05-29T09:04:11.916Z"
   },
   {
    "duration": 16,
    "start_time": "2023-05-29T09:05:01.730Z"
   },
   {
    "duration": 10,
    "start_time": "2023-05-29T09:05:25.017Z"
   },
   {
    "duration": 30,
    "start_time": "2023-05-29T09:06:08.099Z"
   },
   {
    "duration": 21,
    "start_time": "2023-05-29T09:06:39.499Z"
   },
   {
    "duration": 11,
    "start_time": "2023-05-29T09:07:00.453Z"
   },
   {
    "duration": 1420,
    "start_time": "2023-05-29T10:28:50.928Z"
   },
   {
    "duration": 45,
    "start_time": "2023-05-29T10:28:52.351Z"
   },
   {
    "duration": 11,
    "start_time": "2023-05-29T10:28:52.398Z"
   },
   {
    "duration": 19,
    "start_time": "2023-05-29T10:28:52.413Z"
   },
   {
    "duration": 16,
    "start_time": "2023-05-29T10:28:52.435Z"
   },
   {
    "duration": 83,
    "start_time": "2023-05-29T10:28:52.455Z"
   },
   {
    "duration": 22,
    "start_time": "2023-05-29T10:28:52.540Z"
   },
   {
    "duration": 6,
    "start_time": "2023-05-29T10:28:52.564Z"
   },
   {
    "duration": 21,
    "start_time": "2023-05-29T10:28:52.572Z"
   },
   {
    "duration": 14,
    "start_time": "2023-05-29T10:28:52.596Z"
   },
   {
    "duration": 17,
    "start_time": "2023-05-29T10:28:52.612Z"
   },
   {
    "duration": 6,
    "start_time": "2023-05-29T10:28:52.632Z"
   },
   {
    "duration": 17,
    "start_time": "2023-05-29T10:28:52.640Z"
   },
   {
    "duration": 17,
    "start_time": "2023-05-29T10:28:52.659Z"
   },
   {
    "duration": 20,
    "start_time": "2023-05-29T10:28:52.678Z"
   },
   {
    "duration": 7,
    "start_time": "2023-05-29T10:28:52.702Z"
   },
   {
    "duration": 20,
    "start_time": "2023-05-29T10:28:52.711Z"
   },
   {
    "duration": 24,
    "start_time": "2023-05-29T10:28:52.733Z"
   },
   {
    "duration": 30,
    "start_time": "2023-05-29T10:28:52.759Z"
   },
   {
    "duration": 267,
    "start_time": "2023-05-29T10:28:52.791Z"
   },
   {
    "duration": 153,
    "start_time": "2023-05-29T10:28:53.061Z"
   },
   {
    "duration": 15,
    "start_time": "2023-05-29T10:28:53.217Z"
   },
   {
    "duration": 13,
    "start_time": "2023-05-29T10:28:53.235Z"
   },
   {
    "duration": 26,
    "start_time": "2023-05-29T10:28:53.276Z"
   },
   {
    "duration": 464,
    "start_time": "2023-05-29T10:28:53.306Z"
   },
   {
    "duration": 528,
    "start_time": "2023-05-29T10:28:53.782Z"
   },
   {
    "duration": 17,
    "start_time": "2023-05-29T10:28:54.319Z"
   },
   {
    "duration": 569,
    "start_time": "2023-05-29T10:28:54.342Z"
   },
   {
    "duration": 7,
    "start_time": "2023-05-29T10:28:54.914Z"
   },
   {
    "duration": 486,
    "start_time": "2023-05-29T10:28:54.923Z"
   },
   {
    "duration": 18,
    "start_time": "2023-05-29T10:28:55.411Z"
   },
   {
    "duration": 594,
    "start_time": "2023-05-29T10:28:55.431Z"
   },
   {
    "duration": 14,
    "start_time": "2023-05-29T10:28:56.028Z"
   },
   {
    "duration": 288,
    "start_time": "2023-05-29T10:28:56.044Z"
   },
   {
    "duration": 9,
    "start_time": "2023-05-29T10:28:56.337Z"
   },
   {
    "duration": 8,
    "start_time": "2023-05-29T10:28:56.348Z"
   },
   {
    "duration": 212,
    "start_time": "2023-05-29T10:28:56.358Z"
   },
   {
    "duration": 15,
    "start_time": "2023-05-29T10:28:56.572Z"
   },
   {
    "duration": 8,
    "start_time": "2023-05-29T10:28:56.589Z"
   },
   {
    "duration": 59,
    "start_time": "2023-05-29T10:28:56.599Z"
   },
   {
    "duration": 244,
    "start_time": "2023-05-29T10:28:56.660Z"
   },
   {
    "duration": 7,
    "start_time": "2023-05-29T10:28:56.909Z"
   },
   {
    "duration": 8,
    "start_time": "2023-05-29T10:28:56.919Z"
   },
   {
    "duration": 8,
    "start_time": "2023-05-29T10:28:56.929Z"
   },
   {
    "duration": 66,
    "start_time": "2023-05-29T10:28:56.939Z"
   },
   {
    "duration": 12,
    "start_time": "2023-05-29T10:28:57.008Z"
   },
   {
    "duration": 14,
    "start_time": "2023-05-29T10:28:57.022Z"
   },
   {
    "duration": 16,
    "start_time": "2023-05-29T10:28:57.041Z"
   },
   {
    "duration": 54,
    "start_time": "2023-05-29T10:28:57.060Z"
   },
   {
    "duration": 27,
    "start_time": "2023-05-29T10:28:57.117Z"
   },
   {
    "duration": 169,
    "start_time": "2023-05-31T06:00:34.385Z"
   },
   {
    "duration": 67,
    "start_time": "2023-05-31T06:01:46.789Z"
   },
   {
    "duration": 107,
    "start_time": "2023-05-31T06:02:25.133Z"
   },
   {
    "duration": 1229,
    "start_time": "2023-05-31T07:05:09.439Z"
   },
   {
    "duration": 92,
    "start_time": "2023-05-31T07:05:10.670Z"
   },
   {
    "duration": 4,
    "start_time": "2023-05-31T07:05:10.763Z"
   },
   {
    "duration": 12,
    "start_time": "2023-05-31T07:05:10.768Z"
   },
   {
    "duration": 10,
    "start_time": "2023-05-31T07:05:10.781Z"
   },
   {
    "duration": 83,
    "start_time": "2023-05-31T07:05:10.792Z"
   },
   {
    "duration": 61,
    "start_time": "2023-05-31T07:05:10.877Z"
   },
   {
    "duration": 4,
    "start_time": "2023-05-31T07:05:10.940Z"
   },
   {
    "duration": 6,
    "start_time": "2023-05-31T07:05:10.946Z"
   },
   {
    "duration": 7,
    "start_time": "2023-05-31T07:05:10.954Z"
   },
   {
    "duration": 5,
    "start_time": "2023-05-31T07:05:10.962Z"
   },
   {
    "duration": 8,
    "start_time": "2023-05-31T07:05:10.968Z"
   },
   {
    "duration": 13,
    "start_time": "2023-05-31T07:05:10.977Z"
   },
   {
    "duration": 5,
    "start_time": "2023-05-31T07:05:10.991Z"
   },
   {
    "duration": 15,
    "start_time": "2023-05-31T07:05:10.997Z"
   },
   {
    "duration": 12,
    "start_time": "2023-05-31T07:05:11.014Z"
   },
   {
    "duration": 15,
    "start_time": "2023-05-31T07:05:11.027Z"
   },
   {
    "duration": 18,
    "start_time": "2023-05-31T07:05:11.043Z"
   },
   {
    "duration": 13,
    "start_time": "2023-05-31T07:05:11.063Z"
   },
   {
    "duration": 168,
    "start_time": "2023-05-31T07:05:11.078Z"
   },
   {
    "duration": 116,
    "start_time": "2023-05-31T07:05:11.248Z"
   },
   {
    "duration": 29,
    "start_time": "2023-05-31T07:05:11.366Z"
   },
   {
    "duration": 26,
    "start_time": "2023-05-31T07:05:11.397Z"
   },
   {
    "duration": 7,
    "start_time": "2023-05-31T07:05:11.425Z"
   },
   {
    "duration": 299,
    "start_time": "2023-05-31T07:05:11.433Z"
   },
   {
    "duration": 279,
    "start_time": "2023-05-31T07:05:11.734Z"
   },
   {
    "duration": 14,
    "start_time": "2023-05-31T07:05:12.015Z"
   },
   {
    "duration": 409,
    "start_time": "2023-05-31T07:05:12.032Z"
   },
   {
    "duration": 6,
    "start_time": "2023-05-31T07:05:12.442Z"
   },
   {
    "duration": 337,
    "start_time": "2023-05-31T07:05:12.449Z"
   },
   {
    "duration": 10,
    "start_time": "2023-05-31T07:05:12.788Z"
   },
   {
    "duration": 413,
    "start_time": "2023-05-31T07:05:12.800Z"
   },
   {
    "duration": 12,
    "start_time": "2023-05-31T07:05:13.215Z"
   },
   {
    "duration": 159,
    "start_time": "2023-05-31T07:05:13.228Z"
   },
   {
    "duration": 4,
    "start_time": "2023-05-31T07:05:13.388Z"
   },
   {
    "duration": 10,
    "start_time": "2023-05-31T07:05:13.393Z"
   },
   {
    "duration": 157,
    "start_time": "2023-05-31T07:05:13.404Z"
   },
   {
    "duration": 4,
    "start_time": "2023-05-31T07:05:13.563Z"
   },
   {
    "duration": 8,
    "start_time": "2023-05-31T07:05:13.568Z"
   },
   {
    "duration": 108,
    "start_time": "2023-05-31T07:05:13.578Z"
   },
   {
    "duration": 112,
    "start_time": "2023-05-31T07:05:13.687Z"
   },
   {
    "duration": 5,
    "start_time": "2023-05-31T07:05:13.801Z"
   },
   {
    "duration": 18,
    "start_time": "2023-05-31T07:05:13.808Z"
   },
   {
    "duration": 6,
    "start_time": "2023-05-31T07:05:13.827Z"
   },
   {
    "duration": 29,
    "start_time": "2023-05-31T07:05:13.834Z"
   },
   {
    "duration": 8,
    "start_time": "2023-05-31T07:05:13.864Z"
   },
   {
    "duration": 9,
    "start_time": "2023-05-31T07:05:13.874Z"
   },
   {
    "duration": 10,
    "start_time": "2023-05-31T07:05:13.884Z"
   },
   {
    "duration": 40,
    "start_time": "2023-05-31T07:05:13.896Z"
   },
   {
    "duration": 11,
    "start_time": "2023-05-31T07:05:13.937Z"
   },
   {
    "duration": 1502,
    "start_time": "2023-09-05T07:27:53.351Z"
   },
   {
    "duration": 82,
    "start_time": "2023-09-05T07:27:54.856Z"
   },
   {
    "duration": 8,
    "start_time": "2023-09-05T07:28:00.104Z"
   },
   {
    "duration": 16,
    "start_time": "2023-09-05T07:28:05.600Z"
   },
   {
    "duration": 16,
    "start_time": "2023-09-05T07:28:07.653Z"
   },
   {
    "duration": 4,
    "start_time": "2023-09-05T07:30:06.317Z"
   },
   {
    "duration": 72,
    "start_time": "2023-09-05T07:30:06.350Z"
   },
   {
    "duration": 58,
    "start_time": "2023-09-05T07:30:06.424Z"
   },
   {
    "duration": 55,
    "start_time": "2023-09-05T07:30:06.497Z"
   },
   {
    "duration": 12,
    "start_time": "2023-09-05T07:30:06.603Z"
   },
   {
    "duration": 112,
    "start_time": "2023-09-05T07:30:06.773Z"
   },
   {
    "duration": 64,
    "start_time": "2023-09-05T07:30:06.888Z"
   },
   {
    "duration": 5,
    "start_time": "2023-09-05T07:30:06.954Z"
   },
   {
    "duration": 30,
    "start_time": "2023-09-05T07:30:06.961Z"
   },
   {
    "duration": 53,
    "start_time": "2023-09-05T07:30:06.993Z"
   },
   {
    "duration": 53,
    "start_time": "2023-09-05T07:30:07.048Z"
   },
   {
    "duration": 52,
    "start_time": "2023-09-05T07:30:07.103Z"
   },
   {
    "duration": 54,
    "start_time": "2023-09-05T07:30:07.156Z"
   },
   {
    "duration": 30,
    "start_time": "2023-09-05T07:30:07.213Z"
   },
   {
    "duration": 59,
    "start_time": "2023-09-05T07:30:07.245Z"
   },
   {
    "duration": 46,
    "start_time": "2023-09-05T07:30:07.307Z"
   },
   {
    "duration": 63,
    "start_time": "2023-09-05T07:30:07.356Z"
   },
   {
    "duration": 47,
    "start_time": "2023-09-05T07:30:07.422Z"
   },
   {
    "duration": 14,
    "start_time": "2023-09-05T07:30:07.519Z"
   },
   {
    "duration": 247,
    "start_time": "2023-09-05T07:30:07.554Z"
   },
   {
    "duration": 155,
    "start_time": "2023-09-05T07:30:07.805Z"
   },
   {
    "duration": 37,
    "start_time": "2023-09-05T07:30:07.962Z"
   },
   {
    "duration": 40,
    "start_time": "2023-09-05T07:30:08.002Z"
   },
   {
    "duration": 36,
    "start_time": "2023-09-05T07:30:08.044Z"
   },
   {
    "duration": 415,
    "start_time": "2023-09-05T07:30:08.082Z"
   },
   {
    "duration": 397,
    "start_time": "2023-09-05T07:30:08.499Z"
   },
   {
    "duration": 14,
    "start_time": "2023-09-05T07:30:08.898Z"
   },
   {
    "duration": 532,
    "start_time": "2023-09-05T07:30:08.915Z"
   },
   {
    "duration": 6,
    "start_time": "2023-09-05T07:30:09.451Z"
   },
   {
    "duration": 518,
    "start_time": "2023-09-05T07:30:09.459Z"
   },
   {
    "duration": 17,
    "start_time": "2023-09-05T07:30:09.979Z"
   },
   {
    "duration": 447,
    "start_time": "2023-09-05T07:30:10.000Z"
   },
   {
    "duration": 11,
    "start_time": "2023-09-05T07:30:10.449Z"
   },
   {
    "duration": 217,
    "start_time": "2023-09-05T07:30:10.462Z"
   },
   {
    "duration": 15,
    "start_time": "2023-09-05T07:30:10.683Z"
   },
   {
    "duration": 16,
    "start_time": "2023-09-05T07:30:10.700Z"
   },
   {
    "duration": 200,
    "start_time": "2023-09-05T07:30:10.717Z"
   },
   {
    "duration": 5,
    "start_time": "2023-09-05T07:30:10.918Z"
   },
   {
    "duration": 10,
    "start_time": "2023-09-05T07:30:10.925Z"
   },
   {
    "duration": 62,
    "start_time": "2023-09-05T07:30:10.936Z"
   },
   {
    "duration": 149,
    "start_time": "2023-09-05T07:30:10.999Z"
   },
   {
    "duration": 7,
    "start_time": "2023-09-05T07:30:11.150Z"
   },
   {
    "duration": 43,
    "start_time": "2023-09-05T07:30:11.158Z"
   },
   {
    "duration": 15,
    "start_time": "2023-09-05T07:30:11.203Z"
   },
   {
    "duration": 45,
    "start_time": "2023-09-05T07:30:11.220Z"
   },
   {
    "duration": 26,
    "start_time": "2023-09-05T07:30:11.269Z"
   },
   {
    "duration": 36,
    "start_time": "2023-09-05T07:30:11.298Z"
   },
   {
    "duration": 34,
    "start_time": "2023-09-05T07:30:11.335Z"
   },
   {
    "duration": 27,
    "start_time": "2023-09-05T07:30:11.841Z"
   },
   {
    "duration": 14,
    "start_time": "2023-09-05T07:30:18.364Z"
   },
   {
    "duration": 17,
    "start_time": "2023-09-05T07:30:54.867Z"
   },
   {
    "duration": 40,
    "start_time": "2023-09-05T07:31:35.571Z"
   },
   {
    "duration": 33,
    "start_time": "2023-09-05T07:32:12.158Z"
   },
   {
    "duration": 15,
    "start_time": "2023-09-05T07:32:29.092Z"
   }
  ],
  "kernelspec": {
   "display_name": "Python 3 (ipykernel)",
   "language": "python",
   "name": "python3"
  },
  "language_info": {
   "codemirror_mode": {
    "name": "ipython",
    "version": 3
   },
   "file_extension": ".py",
   "mimetype": "text/x-python",
   "name": "python",
   "nbconvert_exporter": "python",
   "pygments_lexer": "ipython3",
   "version": "3.9.7"
  },
  "toc": {
   "base_numbering": 1,
   "nav_menu": {},
   "number_sections": true,
   "sideBar": true,
   "skip_h1_title": true,
   "title_cell": "Table of Contents",
   "title_sidebar": "Contents",
   "toc_cell": false,
   "toc_position": {},
   "toc_section_display": true,
   "toc_window_display": false
  }
 },
 "nbformat": 4,
 "nbformat_minor": 2
}
