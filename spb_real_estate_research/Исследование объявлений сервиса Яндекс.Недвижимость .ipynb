{
 "cells": [
  {
   "cell_type": "markdown",
   "metadata": {},
   "source": [
    "# Исследование объявлений о продаже квартир\n"
   ]
  },
  {
   "cell_type": "markdown",
   "metadata": {},
   "source": [
    "**Описание проекта:**\n",
    "в моем распоряжении данные сервиса Яндекс Недвижимость — архив объявлений о продаже квартир в Санкт-Петербурге и соседних населённых пунктах за несколько лет. Нужно научиться определять рыночную стоимость объектов недвижимости. Это позволит построить автоматизированную систему: она отследит аномалии и мошенническую деятельность. \n",
    "\n",
    "**Цель проекта:** провести исследовательский анализ данных, который поможет установить параметры, влияющие на цену объектов. \n",
    "\n",
    "**Описание данных:** по каждой квартире на продажу доступны два вида данных. Первые вписаны пользователем, вторые — получены автоматически на основе картографических данных. Например, расстояние до центра, аэропорта и других объектов — эти данные автоматически получены из геосервисов. Количество парков и водоёмов также заполняется без участия пользователя. \n"
   ]
  },
  {
   "cell_type": "markdown",
   "metadata": {},
   "source": [
    "### Загрузка датасета и изучение общей информации"
   ]
  },
  {
   "cell_type": "code",
   "execution_count": 1,
   "metadata": {
    "scrolled": false
   },
   "outputs": [
    {
     "data": {
      "text/html": [
       "<div>\n",
       "<style scoped>\n",
       "    .dataframe tbody tr th:only-of-type {\n",
       "        vertical-align: middle;\n",
       "    }\n",
       "\n",
       "    .dataframe tbody tr th {\n",
       "        vertical-align: top;\n",
       "    }\n",
       "\n",
       "    .dataframe thead th {\n",
       "        text-align: right;\n",
       "    }\n",
       "</style>\n",
       "<table border=\"1\" class=\"dataframe\">\n",
       "  <thead>\n",
       "    <tr style=\"text-align: right;\">\n",
       "      <th></th>\n",
       "      <th>total_images</th>\n",
       "      <th>last_price</th>\n",
       "      <th>total_area</th>\n",
       "      <th>first_day_exposition</th>\n",
       "      <th>rooms</th>\n",
       "      <th>ceiling_height</th>\n",
       "      <th>floors_total</th>\n",
       "      <th>living_area</th>\n",
       "      <th>floor</th>\n",
       "      <th>is_apartment</th>\n",
       "      <th>...</th>\n",
       "      <th>kitchen_area</th>\n",
       "      <th>balcony</th>\n",
       "      <th>locality_name</th>\n",
       "      <th>airports_nearest</th>\n",
       "      <th>cityCenters_nearest</th>\n",
       "      <th>parks_around3000</th>\n",
       "      <th>parks_nearest</th>\n",
       "      <th>ponds_around3000</th>\n",
       "      <th>ponds_nearest</th>\n",
       "      <th>days_exposition</th>\n",
       "    </tr>\n",
       "  </thead>\n",
       "  <tbody>\n",
       "    <tr>\n",
       "      <th>0</th>\n",
       "      <td>20</td>\n",
       "      <td>13000000.0</td>\n",
       "      <td>108.0</td>\n",
       "      <td>2019-03-07T00:00:00</td>\n",
       "      <td>3</td>\n",
       "      <td>2.70</td>\n",
       "      <td>16.0</td>\n",
       "      <td>51.0</td>\n",
       "      <td>8</td>\n",
       "      <td>NaN</td>\n",
       "      <td>...</td>\n",
       "      <td>25.0</td>\n",
       "      <td>NaN</td>\n",
       "      <td>Санкт-Петербург</td>\n",
       "      <td>18863.0</td>\n",
       "      <td>16028.0</td>\n",
       "      <td>1.0</td>\n",
       "      <td>482.0</td>\n",
       "      <td>2.0</td>\n",
       "      <td>755.0</td>\n",
       "      <td>NaN</td>\n",
       "    </tr>\n",
       "    <tr>\n",
       "      <th>1</th>\n",
       "      <td>7</td>\n",
       "      <td>3350000.0</td>\n",
       "      <td>40.4</td>\n",
       "      <td>2018-12-04T00:00:00</td>\n",
       "      <td>1</td>\n",
       "      <td>NaN</td>\n",
       "      <td>11.0</td>\n",
       "      <td>18.6</td>\n",
       "      <td>1</td>\n",
       "      <td>NaN</td>\n",
       "      <td>...</td>\n",
       "      <td>11.0</td>\n",
       "      <td>2.0</td>\n",
       "      <td>посёлок Шушары</td>\n",
       "      <td>12817.0</td>\n",
       "      <td>18603.0</td>\n",
       "      <td>0.0</td>\n",
       "      <td>NaN</td>\n",
       "      <td>0.0</td>\n",
       "      <td>NaN</td>\n",
       "      <td>81.0</td>\n",
       "    </tr>\n",
       "    <tr>\n",
       "      <th>2</th>\n",
       "      <td>10</td>\n",
       "      <td>5196000.0</td>\n",
       "      <td>56.0</td>\n",
       "      <td>2015-08-20T00:00:00</td>\n",
       "      <td>2</td>\n",
       "      <td>NaN</td>\n",
       "      <td>5.0</td>\n",
       "      <td>34.3</td>\n",
       "      <td>4</td>\n",
       "      <td>NaN</td>\n",
       "      <td>...</td>\n",
       "      <td>8.3</td>\n",
       "      <td>0.0</td>\n",
       "      <td>Санкт-Петербург</td>\n",
       "      <td>21741.0</td>\n",
       "      <td>13933.0</td>\n",
       "      <td>1.0</td>\n",
       "      <td>90.0</td>\n",
       "      <td>2.0</td>\n",
       "      <td>574.0</td>\n",
       "      <td>558.0</td>\n",
       "    </tr>\n",
       "    <tr>\n",
       "      <th>3</th>\n",
       "      <td>0</td>\n",
       "      <td>64900000.0</td>\n",
       "      <td>159.0</td>\n",
       "      <td>2015-07-24T00:00:00</td>\n",
       "      <td>3</td>\n",
       "      <td>NaN</td>\n",
       "      <td>14.0</td>\n",
       "      <td>NaN</td>\n",
       "      <td>9</td>\n",
       "      <td>NaN</td>\n",
       "      <td>...</td>\n",
       "      <td>NaN</td>\n",
       "      <td>0.0</td>\n",
       "      <td>Санкт-Петербург</td>\n",
       "      <td>28098.0</td>\n",
       "      <td>6800.0</td>\n",
       "      <td>2.0</td>\n",
       "      <td>84.0</td>\n",
       "      <td>3.0</td>\n",
       "      <td>234.0</td>\n",
       "      <td>424.0</td>\n",
       "    </tr>\n",
       "    <tr>\n",
       "      <th>4</th>\n",
       "      <td>2</td>\n",
       "      <td>10000000.0</td>\n",
       "      <td>100.0</td>\n",
       "      <td>2018-06-19T00:00:00</td>\n",
       "      <td>2</td>\n",
       "      <td>3.03</td>\n",
       "      <td>14.0</td>\n",
       "      <td>32.0</td>\n",
       "      <td>13</td>\n",
       "      <td>NaN</td>\n",
       "      <td>...</td>\n",
       "      <td>41.0</td>\n",
       "      <td>NaN</td>\n",
       "      <td>Санкт-Петербург</td>\n",
       "      <td>31856.0</td>\n",
       "      <td>8098.0</td>\n",
       "      <td>2.0</td>\n",
       "      <td>112.0</td>\n",
       "      <td>1.0</td>\n",
       "      <td>48.0</td>\n",
       "      <td>121.0</td>\n",
       "    </tr>\n",
       "  </tbody>\n",
       "</table>\n",
       "<p>5 rows × 22 columns</p>\n",
       "</div>"
      ],
      "text/plain": [
       "   total_images  last_price  total_area first_day_exposition  rooms  \\\n",
       "0            20  13000000.0       108.0  2019-03-07T00:00:00      3   \n",
       "1             7   3350000.0        40.4  2018-12-04T00:00:00      1   \n",
       "2            10   5196000.0        56.0  2015-08-20T00:00:00      2   \n",
       "3             0  64900000.0       159.0  2015-07-24T00:00:00      3   \n",
       "4             2  10000000.0       100.0  2018-06-19T00:00:00      2   \n",
       "\n",
       "   ceiling_height  floors_total  living_area  floor is_apartment  ...  \\\n",
       "0            2.70          16.0         51.0      8          NaN  ...   \n",
       "1             NaN          11.0         18.6      1          NaN  ...   \n",
       "2             NaN           5.0         34.3      4          NaN  ...   \n",
       "3             NaN          14.0          NaN      9          NaN  ...   \n",
       "4            3.03          14.0         32.0     13          NaN  ...   \n",
       "\n",
       "   kitchen_area  balcony    locality_name  airports_nearest  \\\n",
       "0          25.0      NaN  Санкт-Петербург           18863.0   \n",
       "1          11.0      2.0   посёлок Шушары           12817.0   \n",
       "2           8.3      0.0  Санкт-Петербург           21741.0   \n",
       "3           NaN      0.0  Санкт-Петербург           28098.0   \n",
       "4          41.0      NaN  Санкт-Петербург           31856.0   \n",
       "\n",
       "  cityCenters_nearest  parks_around3000  parks_nearest  ponds_around3000  \\\n",
       "0             16028.0               1.0          482.0               2.0   \n",
       "1             18603.0               0.0            NaN               0.0   \n",
       "2             13933.0               1.0           90.0               2.0   \n",
       "3              6800.0               2.0           84.0               3.0   \n",
       "4              8098.0               2.0          112.0               1.0   \n",
       "\n",
       "   ponds_nearest  days_exposition  \n",
       "0          755.0              NaN  \n",
       "1            NaN             81.0  \n",
       "2          574.0            558.0  \n",
       "3          234.0            424.0  \n",
       "4           48.0            121.0  \n",
       "\n",
       "[5 rows x 22 columns]"
      ]
     },
     "execution_count": 1,
     "metadata": {},
     "output_type": "execute_result"
    }
   ],
   "source": [
    "import pandas as pd\n",
    "data = pd.read_csv('/.../real_estate_data.csv', sep='\\t')\n",
    "data.head()"
   ]
  },
  {
   "cell_type": "code",
   "execution_count": 2,
   "metadata": {
    "scrolled": true
   },
   "outputs": [
    {
     "name": "stdout",
     "output_type": "stream",
     "text": [
      "<class 'pandas.core.frame.DataFrame'>\n",
      "RangeIndex: 23699 entries, 0 to 23698\n",
      "Data columns (total 22 columns):\n",
      " #   Column                Non-Null Count  Dtype  \n",
      "---  ------                --------------  -----  \n",
      " 0   total_images          23699 non-null  int64  \n",
      " 1   last_price            23699 non-null  float64\n",
      " 2   total_area            23699 non-null  float64\n",
      " 3   first_day_exposition  23699 non-null  object \n",
      " 4   rooms                 23699 non-null  int64  \n",
      " 5   ceiling_height        14504 non-null  float64\n",
      " 6   floors_total          23613 non-null  float64\n",
      " 7   living_area           21796 non-null  float64\n",
      " 8   floor                 23699 non-null  int64  \n",
      " 9   is_apartment          2775 non-null   object \n",
      " 10  studio                23699 non-null  bool   \n",
      " 11  open_plan             23699 non-null  bool   \n",
      " 12  kitchen_area          21421 non-null  float64\n",
      " 13  balcony               12180 non-null  float64\n",
      " 14  locality_name         23650 non-null  object \n",
      " 15  airports_nearest      18157 non-null  float64\n",
      " 16  cityCenters_nearest   18180 non-null  float64\n",
      " 17  parks_around3000      18181 non-null  float64\n",
      " 18  parks_nearest         8079 non-null   float64\n",
      " 19  ponds_around3000      18181 non-null  float64\n",
      " 20  ponds_nearest         9110 non-null   float64\n",
      " 21  days_exposition       20518 non-null  float64\n",
      "dtypes: bool(2), float64(14), int64(3), object(3)\n",
      "memory usage: 3.7+ MB\n"
     ]
    }
   ],
   "source": [
    "data.info()"
   ]
  },
  {
   "cell_type": "code",
   "execution_count": 3,
   "metadata": {
    "scrolled": false
   },
   "outputs": [
    {
     "data": {
      "text/plain": [
       "array([[<AxesSubplot:title={'center':'total_images'}>,\n",
       "        <AxesSubplot:title={'center':'last_price'}>,\n",
       "        <AxesSubplot:title={'center':'total_area'}>,\n",
       "        <AxesSubplot:title={'center':'rooms'}>],\n",
       "       [<AxesSubplot:title={'center':'ceiling_height'}>,\n",
       "        <AxesSubplot:title={'center':'floors_total'}>,\n",
       "        <AxesSubplot:title={'center':'living_area'}>,\n",
       "        <AxesSubplot:title={'center':'floor'}>],\n",
       "       [<AxesSubplot:title={'center':'kitchen_area'}>,\n",
       "        <AxesSubplot:title={'center':'balcony'}>,\n",
       "        <AxesSubplot:title={'center':'airports_nearest'}>,\n",
       "        <AxesSubplot:title={'center':'cityCenters_nearest'}>],\n",
       "       [<AxesSubplot:title={'center':'parks_around3000'}>,\n",
       "        <AxesSubplot:title={'center':'parks_nearest'}>,\n",
       "        <AxesSubplot:title={'center':'ponds_around3000'}>,\n",
       "        <AxesSubplot:title={'center':'ponds_nearest'}>],\n",
       "       [<AxesSubplot:title={'center':'days_exposition'}>, <AxesSubplot:>,\n",
       "        <AxesSubplot:>, <AxesSubplot:>]], dtype=object)"
      ]
     },
     "execution_count": 3,
     "metadata": {},
     "output_type": "execute_result"
    },
    {
     "data": {
      "image/png": "[encoded data removed]",
      "text/plain": [
       "<Figure size 1080x1440 with 20 Axes>"
      ]
     },
     "metadata": {
      "needs_background": "light"
     },
     "output_type": "display_data"
    }
   ],
   "source": [
    "data.hist(figsize=(15, 20))"
   ]
  },
  {
   "cell_type": "markdown",
   "metadata": {},
   "source": [
    "**Вывод:** датайфрейм состоит из 21 столбцов и 23599 строк. Есть столбцы с пропущенными значениями. В основном тип данных в столбцах числовой: int64 и float64. Но есть столбцы и с булевым типом данных, а также текстовым."
   ]
  },
  {
   "cell_type": "markdown",
   "metadata": {},
   "source": [
    "### Предобработка данных"
   ]
  },
  {
   "cell_type": "markdown",
   "metadata": {},
   "source": [
    "#### Анализ пропущенных значений \n",
    "Метод info показал, что пропущенные значения были в следующих столбцах:\n",
    "1. ceiling_height\n",
    "2. living_area\n",
    "3. is_apartment\n",
    "4. kitchen_area\n",
    "5. balcony\n",
    "6. locality_name      \n",
    "7. airports_nearest      \n",
    "8. cityCenters_nearest   \n",
    "9. parks_around3000      \n",
    "10. parks_nearest         \n",
    "11. ponds_around3000      \n",
    "12. ponds_nearest         \n",
    "13. days_exposition\n"
   ]
  },
  {
   "cell_type": "markdown",
   "metadata": {},
   "source": [
    "Высоту потолка (столбец 'ceiling_height') владельцы квартир могли не указать, так как не знали точное значение и, возможно, не посчитали этот параметр важным."
   ]
  },
  {
   "cell_type": "code",
   "execution_count": 4,
   "metadata": {
    "scrolled": true
   },
   "outputs": [
    {
     "data": {
      "text/plain": [
       "9195"
      ]
     },
     "execution_count": 4,
     "metadata": {},
     "output_type": "execute_result"
    }
   ],
   "source": [
    "#узнаем общее число отсутствующих значений в столбце 'ceiling_height'\n",
    "data['ceiling_height'].isnull().sum()"
   ]
  },
  {
   "cell_type": "markdown",
   "metadata": {},
   "source": [
    "Пропущенных значений достаточно много. Их можно заменить на медиану от всех непропущенных значений. Предположительно разброс между размером потолка не должен быть таким большим. Однако есть опасения, что если заменить все 9195 значений на медианное, то это сильно повлияет на статистику, но все же попробуем это сделать."
   ]
  },
  {
   "cell_type": "code",
   "execution_count": 5,
   "metadata": {},
   "outputs": [
    {
     "data": {
      "text/plain": [
       "2.65"
      ]
     },
     "execution_count": 5,
     "metadata": {},
     "output_type": "execute_result"
    }
   ],
   "source": [
    "#найдем медиану столбца 'ceiling_height\n",
    "median_ceil = data['ceiling_height'].median()\n",
    "median_ceil"
   ]
  },
  {
   "cell_type": "markdown",
   "metadata": {},
   "source": [
    "Значение 2.65 кажется близким к правде. Возможно, если им заменить отстутствующие значения, то это не так сильно исказит выборку."
   ]
  },
  {
   "cell_type": "code",
   "execution_count": 6,
   "metadata": {
    "scrolled": false
   },
   "outputs": [
    {
     "data": {
      "text/plain": [
       "0"
      ]
     },
     "execution_count": 6,
     "metadata": {},
     "output_type": "execute_result"
    }
   ],
   "source": [
    "#заменяем все отсутствующие значения на медиану и убеждаемся, что больше их не осталось\n",
    "data['ceiling_height'] = data['ceiling_height'].fillna(median_ceil)\n",
    "data['ceiling_height'].isnull().sum()"
   ]
  },
  {
   "cell_type": "markdown",
   "metadata": {},
   "source": [
    "Жилая площадь квартиры (столбец 'living_area') также могли не указать, так как не знали точных данных."
   ]
  },
  {
   "cell_type": "code",
   "execution_count": 7,
   "metadata": {},
   "outputs": [
    {
     "data": {
      "text/plain": [
       "1903"
      ]
     },
     "execution_count": 7,
     "metadata": {},
     "output_type": "execute_result"
    }
   ],
   "source": [
    "#узнаем общее число отсутствующих значений в столбце 'living_area'\n",
    "data['living_area'].isnull().sum()"
   ]
  },
  {
   "cell_type": "markdown",
   "metadata": {},
   "source": [
    "Количество пустых значений в столбце 'living_area' значительно меньше, чем в столбце 'ceiling_height', что логично, люди в большинстве своем считают жилую площадь квартиры одним из важнейших параметров. Возможно, эти пустые значения также можно медианой заменить."
   ]
  },
  {
   "cell_type": "code",
   "execution_count": 8,
   "metadata": {},
   "outputs": [
    {
     "data": {
      "text/plain": [
       "30.0"
      ]
     },
     "execution_count": 8,
     "metadata": {},
     "output_type": "execute_result"
    }
   ],
   "source": [
    "#найдем медиану столбца 'living_area'\n",
    "median_area = data['living_area'].median()\n",
    "median_area"
   ]
  },
  {
   "cell_type": "markdown",
   "metadata": {},
   "source": [
    "Медиана оказалась 30 метров. Заменим на нее отсутствующие значения."
   ]
  },
  {
   "cell_type": "code",
   "execution_count": 9,
   "metadata": {},
   "outputs": [
    {
     "data": {
      "text/plain": [
       "0"
      ]
     },
     "execution_count": 9,
     "metadata": {},
     "output_type": "execute_result"
    }
   ],
   "source": [
    "#заменяем все отсутствующие значения на медиану и убеждаемся, что больше их не осталось\n",
    "data['living_area'] = data['living_area'].fillna(median_area)\n",
    "data['living_area'].isnull().sum()"
   ]
  },
  {
   "cell_type": "code",
   "execution_count": 10,
   "metadata": {
    "scrolled": true
   },
   "outputs": [
    {
     "data": {
      "text/plain": [
       "Index(['total_images', 'last_price', 'total_area', 'first_day_exposition',\n",
       "       'rooms', 'ceiling_height', 'floors_total', 'living_area', 'floor',\n",
       "       'is_apartment', 'studio', 'open_plan', 'kitchen_area', 'balcony',\n",
       "       'locality_name', 'airports_nearest', 'cityCenters_nearest',\n",
       "       'parks_around3000', 'parks_nearest', 'ponds_around3000',\n",
       "       'ponds_nearest', 'days_exposition'],\n",
       "      dtype='object')"
      ]
     },
     "execution_count": 10,
     "metadata": {},
     "output_type": "execute_result"
    }
   ],
   "source": [
    "data.columns"
   ]
  },
  {
   "cell_type": "markdown",
   "metadata": {},
   "source": [
    "Следующий столбец с отсутствующими данными - 'is_apartment', который предположительно означает, является ли квартира апартаментами. Как и в примере с балконами из инструкции, я думаю, что владельцы квартир пропускали этот пункт, если их квартира не являлась апартаментами. Предположу, что в данном столбце булевые значения, если это так, то я заменю все отсутствующие значения на False."
   ]
  },
  {
   "cell_type": "code",
   "execution_count": 11,
   "metadata": {},
   "outputs": [
    {
     "data": {
      "text/plain": [
       "array([nan, False, True], dtype=object)"
      ]
     },
     "execution_count": 11,
     "metadata": {},
     "output_type": "execute_result"
    }
   ],
   "source": [
    "#проверяем уникальные значения в столбце 'is_apartment'\n",
    "data['is_apartment'].unique()"
   ]
  },
  {
   "cell_type": "code",
   "execution_count": 12,
   "metadata": {},
   "outputs": [
    {
     "data": {
      "text/plain": [
       "0"
      ]
     },
     "execution_count": 12,
     "metadata": {},
     "output_type": "execute_result"
    }
   ],
   "source": [
    "#заменяем отсутствующие значения в столбце 'is_apartment' на False и убеждаемся, что больше их не осталось\n",
    "data['is_apartment'] = data['is_apartment'].fillna(False)\n",
    "data['is_apartment'].isnull().sum()"
   ]
  },
  {
   "cell_type": "markdown",
   "metadata": {},
   "source": [
    "Следующий столбец - 'kitchen_area'. Если число отсутствующих значений не окажется преобладающим, то их также можно заменить на медиану."
   ]
  },
  {
   "cell_type": "code",
   "execution_count": 13,
   "metadata": {},
   "outputs": [
    {
     "data": {
      "text/plain": [
       "2278"
      ]
     },
     "execution_count": 13,
     "metadata": {},
     "output_type": "execute_result"
    }
   ],
   "source": [
    "#узнаем общее число отсутствующих значений в столбце 'kitchen_area'\n",
    "data['kitchen_area'].isnull().sum()"
   ]
  },
  {
   "cell_type": "code",
   "execution_count": 14,
   "metadata": {
    "scrolled": true
   },
   "outputs": [
    {
     "data": {
      "text/plain": [
       "9.1"
      ]
     },
     "execution_count": 14,
     "metadata": {},
     "output_type": "execute_result"
    }
   ],
   "source": [
    "#найдем медиану столбца 'kitchen_area'\n",
    "median_kitchen = data['kitchen_area'].median()\n",
    "median_kitchen"
   ]
  },
  {
   "cell_type": "markdown",
   "metadata": {},
   "source": [
    "Медианой для площади кухни стало значение чуть 9,1 метров, что вполне соответствуют стандартной кухне в российской квартире."
   ]
  },
  {
   "cell_type": "code",
   "execution_count": 15,
   "metadata": {},
   "outputs": [
    {
     "data": {
      "text/plain": [
       "0"
      ]
     },
     "execution_count": 15,
     "metadata": {},
     "output_type": "execute_result"
    }
   ],
   "source": [
    "#заменяем все отсутствующие значения на медиану и убеждаемся, что больше их не осталось\n",
    "data['kitchen_area'] = data['kitchen_area'].fillna(median_kitchen)\n",
    "data['kitchen_area'].isnull().sum()"
   ]
  },
  {
   "cell_type": "markdown",
   "metadata": {},
   "source": [
    "Столбец 'balcony' можно изменить так, как предложено в инструкции: заменить пропуски на 0, так как скорее всего пользователи просто пропускали этот параметр, если у них нет балконов."
   ]
  },
  {
   "cell_type": "code",
   "execution_count": 16,
   "metadata": {},
   "outputs": [
    {
     "data": {
      "text/plain": [
       "0"
      ]
     },
     "execution_count": 16,
     "metadata": {},
     "output_type": "execute_result"
    }
   ],
   "source": [
    "#заменяем отсутствующие значения в столбце 'balcony' на 0 и убеждаемся, что больше их не осталось\n",
    "data['balcony'] = data['balcony'].fillna(0)\n",
    "data['balcony'].isnull().sum()"
   ]
  },
  {
   "cell_type": "markdown",
   "metadata": {},
   "source": [
    "Следующий столбец - 'locality_name'. Необходимо узнать, какие значения входят в этот столбец и сколько всего отсутсвующих значений."
   ]
  },
  {
   "cell_type": "code",
   "execution_count": 17,
   "metadata": {
    "scrolled": true
   },
   "outputs": [
    {
     "data": {
      "text/plain": [
       "array(['Санкт-Петербург', 'посёлок Шушары', 'городской посёлок Янино-1',\n",
       "       'посёлок Парголово', 'посёлок Мурино', 'Ломоносов', 'Сертолово',\n",
       "       'Петергоф', 'Пушкин', 'деревня Кудрово', 'Коммунар', 'Колпино',\n",
       "       'поселок городского типа Красный Бор', 'Гатчина', 'поселок Мурино',\n",
       "       'деревня Фёдоровское', 'Выборг', 'Кронштадт', 'Кировск',\n",
       "       'деревня Новое Девяткино', 'посёлок Металлострой',\n",
       "       'посёлок городского типа Лебяжье',\n",
       "       'посёлок городского типа Сиверский', 'поселок Молодцово',\n",
       "       'поселок городского типа Кузьмоловский',\n",
       "       'садовое товарищество Новая Ропша', 'Павловск',\n",
       "       'деревня Пикколово', 'Всеволожск', 'Волхов', 'Кингисепп',\n",
       "       'Приозерск', 'Сестрорецк', 'деревня Куттузи', 'посёлок Аннино',\n",
       "       'поселок городского типа Ефимовский', 'посёлок Плодовое',\n",
       "       'деревня Заклинье', 'поселок Торковичи', 'поселок Первомайское',\n",
       "       'Красное Село', 'посёлок Понтонный', 'Сясьстрой', 'деревня Старая',\n",
       "       'деревня Лесколово', 'посёлок Новый Свет', 'Сланцы',\n",
       "       'село Путилово', 'Ивангород', 'Мурино', 'Шлиссельбург',\n",
       "       'Никольское', 'Зеленогорск', 'Сосновый Бор', 'поселок Новый Свет',\n",
       "       'деревня Оржицы', 'деревня Кальтино', 'Кудрово',\n",
       "       'поселок Романовка', 'посёлок Бугры', 'поселок Бугры',\n",
       "       'поселок городского типа Рощино', 'Кириши', 'Луга', 'Волосово',\n",
       "       'Отрадное', 'село Павлово', 'поселок Оредеж', 'село Копорье',\n",
       "       'посёлок городского типа Красный Бор', 'посёлок Молодёжное',\n",
       "       'Тихвин', 'посёлок Победа', 'деревня Нурма',\n",
       "       'поселок городского типа Синявино', 'Тосно',\n",
       "       'посёлок городского типа Кузьмоловский', 'посёлок Стрельна',\n",
       "       'Бокситогорск', 'посёлок Александровская', 'деревня Лопухинка',\n",
       "       'Пикалёво', 'поселок Терволово',\n",
       "       'поселок городского типа Советский', 'Подпорожье',\n",
       "       'посёлок Петровское', 'посёлок городского типа Токсово',\n",
       "       'поселок Сельцо', 'посёлок городского типа Вырица',\n",
       "       'деревня Кипень', 'деревня Келози', 'деревня Вартемяги',\n",
       "       'посёлок Тельмана', 'поселок Севастьяново',\n",
       "       'городской поселок Большая Ижора', nan,\n",
       "       'городской посёлок Павлово', 'деревня Агалатово',\n",
       "       'посёлок Новогорелово', 'городской посёлок Лесогорский',\n",
       "       'деревня Лаголово', 'поселок Цвелодубово',\n",
       "       'поселок городского типа Рахья', 'поселок городского типа Вырица',\n",
       "       'деревня Белогорка', 'поселок Заводской',\n",
       "       'городской посёлок Новоселье', 'деревня Большие Колпаны',\n",
       "       'деревня Горбунки', 'деревня Батово', 'деревня Заневка',\n",
       "       'деревня Иссад', 'Приморск', 'городской посёлок Фёдоровское',\n",
       "       'деревня Мистолово', 'Новая Ладога', 'поселок Зимитицы',\n",
       "       'поселок Барышево', 'деревня Разметелево',\n",
       "       'поселок городского типа имени Свердлова', 'деревня Пеники',\n",
       "       'поселок Рябово', 'деревня Пудомяги', 'поселок станции Корнево',\n",
       "       'деревня Низино', 'деревня Бегуницы', 'посёлок Поляны',\n",
       "       'городской посёлок Мга', 'поселок Елизаветино',\n",
       "       'посёлок городского типа Кузнечное', 'деревня Колтуши',\n",
       "       'поселок Запорожское', 'посёлок городского типа Рощино',\n",
       "       'деревня Гостилицы', 'деревня Малое Карлино',\n",
       "       'посёлок Мичуринское', 'посёлок городского типа имени Морозова',\n",
       "       'посёлок Песочный', 'посёлок Сосново', 'деревня Аро',\n",
       "       'поселок Ильичёво', 'посёлок городского типа Тайцы',\n",
       "       'деревня Малое Верево', 'деревня Извара', 'поселок станции Вещево',\n",
       "       'село Паша', 'деревня Калитино',\n",
       "       'посёлок городского типа Ульяновка', 'деревня Чудской Бор',\n",
       "       'поселок городского типа Дубровка', 'деревня Мины',\n",
       "       'поселок Войсковицы', 'посёлок городского типа имени Свердлова',\n",
       "       'деревня Коркино', 'посёлок Ропша',\n",
       "       'поселок городского типа Приладожский', 'посёлок Щеглово',\n",
       "       'посёлок Гаврилово', 'Лодейное Поле', 'деревня Рабитицы',\n",
       "       'поселок городского типа Никольский', 'деревня Кузьмолово',\n",
       "       'деревня Малые Колпаны', 'поселок Тельмана',\n",
       "       'посёлок Петро-Славянка', 'городской посёлок Назия',\n",
       "       'посёлок Репино', 'посёлок Ильичёво', 'поселок Углово',\n",
       "       'поселок Старая Малукса', 'садовое товарищество Рахья',\n",
       "       'поселок Аннино', 'поселок Победа', 'деревня Меньково',\n",
       "       'деревня Старые Бегуницы', 'посёлок Сапёрный', 'поселок Семрино',\n",
       "       'поселок Гаврилово', 'поселок Глажево', 'поселок Кобринское',\n",
       "       'деревня Гарболово', 'деревня Юкки',\n",
       "       'поселок станции Приветнинское', 'деревня Мануйлово',\n",
       "       'деревня Пчева', 'поселок Поляны', 'поселок Цвылёво',\n",
       "       'поселок Мельниково', 'посёлок Пудость', 'посёлок Усть-Луга',\n",
       "       'Светогорск', 'Любань', 'поселок Селезнёво',\n",
       "       'поселок городского типа Рябово', 'Каменногорск', 'деревня Кривко',\n",
       "       'поселок Глебычево', 'деревня Парицы', 'поселок Жилпосёлок',\n",
       "       'посёлок городского типа Мга', 'городской поселок Янино-1',\n",
       "       'посёлок Войскорово', 'село Никольское', 'посёлок Терволово',\n",
       "       'поселок Стеклянный', 'посёлок городского типа Важины',\n",
       "       'посёлок Мыза-Ивановка', 'село Русско-Высоцкое',\n",
       "       'поселок городского типа Лебяжье',\n",
       "       'поселок городского типа Форносово', 'село Старая Ладога',\n",
       "       'поселок Житково', 'городской посёлок Виллози', 'деревня Лампово',\n",
       "       'деревня Шпаньково', 'деревня Лаврики', 'посёлок Сумино',\n",
       "       'посёлок Возрождение', 'деревня Старосиверская',\n",
       "       'посёлок Кикерино', 'поселок Возрождение',\n",
       "       'деревня Старое Хинколово', 'посёлок Пригородный',\n",
       "       'посёлок Торфяное', 'городской посёлок Будогощь',\n",
       "       'поселок Суходолье', 'поселок Красная Долина', 'деревня Хапо-Ое',\n",
       "       'поселок городского типа Дружная Горка', 'поселок Лисий Нос',\n",
       "       'деревня Яльгелево', 'посёлок Стеклянный', 'село Рождествено',\n",
       "       'деревня Старополье', 'посёлок Левашово', 'деревня Сяськелево',\n",
       "       'деревня Камышовка',\n",
       "       'садоводческое некоммерческое товарищество Лесная Поляна',\n",
       "       'деревня Хязельки', 'поселок Жилгородок',\n",
       "       'посёлок городского типа Павлово', 'деревня Ялгино',\n",
       "       'поселок Новый Учхоз', 'городской посёлок Рощино',\n",
       "       'поселок Гончарово', 'поселок Почап', 'посёлок Сапёрное',\n",
       "       'посёлок Платформа 69-й километр', 'поселок Каложицы',\n",
       "       'деревня Фалилеево', 'деревня Пельгора',\n",
       "       'поселок городского типа Лесогорский', 'деревня Торошковичи',\n",
       "       'посёлок Белоостров', 'посёлок Алексеевка', 'поселок Серебрянский',\n",
       "       'поселок Лукаши', 'поселок Петровское', 'деревня Щеглово',\n",
       "       'поселок Мичуринское', 'деревня Тарасово', 'поселок Кингисеппский',\n",
       "       'посёлок при железнодорожной станции Вещево', 'поселок Ушаки',\n",
       "       'деревня Котлы', 'деревня Сижно', 'деревня Торосово',\n",
       "       'посёлок Форт Красная Горка', 'поселок городского типа Токсово',\n",
       "       'деревня Новолисино', 'посёлок станции Громово', 'деревня Глинка',\n",
       "       'посёлок Мельниково', 'поселок городского типа Назия',\n",
       "       'деревня Старая Пустошь', 'поселок Коммунары', 'поселок Починок',\n",
       "       'посёлок городского типа Вознесенье', 'деревня Разбегаево',\n",
       "       'посёлок городского типа Рябово', 'поселок Гладкое',\n",
       "       'посёлок при железнодорожной станции Приветнинское',\n",
       "       'поселок Тёсово-4', 'посёлок Жилгородок', 'деревня Бор',\n",
       "       'посёлок Коробицыно', 'деревня Большая Вруда', 'деревня Курковицы',\n",
       "       'посёлок Лисий Нос', 'городской посёлок Советский',\n",
       "       'посёлок Кобралово', 'деревня Суоранда', 'поселок Кобралово',\n",
       "       'поселок городского типа Кондратьево',\n",
       "       'коттеджный поселок Счастье', 'поселок Любань', 'деревня Реброво',\n",
       "       'деревня Зимитицы', 'деревня Тойворово', 'поселок Семиозерье',\n",
       "       'поселок Лесное', 'поселок Совхозный', 'поселок Усть-Луга',\n",
       "       'посёлок Ленинское', 'посёлок Суйда',\n",
       "       'посёлок городского типа Форносово', 'деревня Нижние Осельки',\n",
       "       'посёлок станции Свирь', 'поселок Перово', 'Высоцк',\n",
       "       'поселок Гарболово', 'село Шум', 'поселок Котельский',\n",
       "       'поселок станции Лужайка', 'деревня Большая Пустомержа',\n",
       "       'поселок Красносельское', 'деревня Вахнова Кара', 'деревня Пижма',\n",
       "       'коттеджный поселок Кивеннапа Север', 'поселок Коробицыно',\n",
       "       'поселок Ромашки', 'посёлок Перово', 'деревня Каськово',\n",
       "       'деревня Куровицы', 'посёлок Плоское', 'поселок Сумино',\n",
       "       'поселок городского типа Большая Ижора', 'поселок Кирпичное',\n",
       "       'деревня Ям-Тесово', 'деревня Раздолье', 'деревня Терпилицы',\n",
       "       'посёлок Шугозеро', 'деревня Ваганово', 'поселок Пушное',\n",
       "       'садовое товарищество Садко', 'посёлок Усть-Ижора',\n",
       "       'деревня Выскатка', 'городской посёлок Свирьстрой',\n",
       "       'поселок Громово', 'деревня Кисельня', 'посёлок Старая Малукса',\n",
       "       'деревня Трубников Бор', 'поселок Калитино',\n",
       "       'посёлок Высокоключевой', 'садовое товарищество Приладожский',\n",
       "       'посёлок Пансионат Зелёный Бор', 'деревня Ненимяки',\n",
       "       'поселок Пансионат Зелёный Бор', 'деревня Снегирёвка',\n",
       "       'деревня Рапполово', 'деревня Пустынка', 'поселок Рабитицы',\n",
       "       'деревня Большой Сабск', 'деревня Русско', 'деревня Лупполово',\n",
       "       'деревня Большое Рейзино', 'деревня Малая Романовка',\n",
       "       'поселок Дружноселье', 'поселок Пчевжа', 'поселок Володарское',\n",
       "       'деревня Нижняя', 'коттеджный посёлок Лесное', 'деревня Тихковицы',\n",
       "       'деревня Борисова Грива', 'посёлок Дзержинского'], dtype=object)"
      ]
     },
     "execution_count": 17,
     "metadata": {},
     "output_type": "execute_result"
    }
   ],
   "source": [
    "#узнаем какие уникальные значения есть в столбце 'locality_name'\n",
    "data['locality_name'].unique()"
   ]
  },
  {
   "cell_type": "code",
   "execution_count": 18,
   "metadata": {},
   "outputs": [
    {
     "data": {
      "text/plain": [
       "49"
      ]
     },
     "execution_count": 18,
     "metadata": {},
     "output_type": "execute_result"
    }
   ],
   "source": [
    "data['locality_name'].isnull().sum()"
   ]
  },
  {
   "cell_type": "markdown",
   "metadata": {},
   "source": [
    "Количество уникальных значений огромно, что не удивительно, при этом пропусков всего 49. Не думаю, что было бы корректно вместо отсутствующих значений указывать Санкт-Петербург. Я думаю, что не будет критично, если оставить пропуски."
   ]
  },
  {
   "cell_type": "markdown",
   "metadata": {},
   "source": [
    "Следующая группа столбцов относится к картографическим данным airports_nearest, cityCenters_nearest, parks_around3000, parks_nearest, ponds_around3000, ponds_nearest. Предположительно пропуски в данных в этих столбцац вызваны ошибками в выгрузке или ошибками иного рода, так как пользователи сами не указывали эти данные. Для начала узнаем количество пропусков в каждом из таких столбцов."
   ]
  },
  {
   "cell_type": "code",
   "execution_count": 19,
   "metadata": {},
   "outputs": [
    {
     "data": {
      "text/plain": [
       "5542"
      ]
     },
     "execution_count": 19,
     "metadata": {},
     "output_type": "execute_result"
    }
   ],
   "source": [
    "data['airports_nearest'].isnull().sum()"
   ]
  },
  {
   "cell_type": "code",
   "execution_count": 20,
   "metadata": {
    "scrolled": true
   },
   "outputs": [
    {
     "data": {
      "text/plain": [
       "5519"
      ]
     },
     "execution_count": 20,
     "metadata": {},
     "output_type": "execute_result"
    }
   ],
   "source": [
    "data['cityCenters_nearest'].isnull().sum()"
   ]
  },
  {
   "cell_type": "code",
   "execution_count": 21,
   "metadata": {},
   "outputs": [
    {
     "data": {
      "text/plain": [
       "15620"
      ]
     },
     "execution_count": 21,
     "metadata": {},
     "output_type": "execute_result"
    }
   ],
   "source": [
    "data['parks_nearest'].isnull().sum()"
   ]
  },
  {
   "cell_type": "code",
   "execution_count": 22,
   "metadata": {},
   "outputs": [
    {
     "data": {
      "text/plain": [
       "5518"
      ]
     },
     "execution_count": 22,
     "metadata": {},
     "output_type": "execute_result"
    }
   ],
   "source": [
    "data['parks_around3000'].isnull().sum()"
   ]
  },
  {
   "cell_type": "code",
   "execution_count": 23,
   "metadata": {},
   "outputs": [
    {
     "data": {
      "text/plain": [
       "14589"
      ]
     },
     "execution_count": 23,
     "metadata": {},
     "output_type": "execute_result"
    }
   ],
   "source": [
    "data['ponds_nearest'].isnull().sum()"
   ]
  },
  {
   "cell_type": "code",
   "execution_count": 24,
   "metadata": {
    "scrolled": false
   },
   "outputs": [
    {
     "data": {
      "text/plain": [
       "5518"
      ]
     },
     "execution_count": 24,
     "metadata": {},
     "output_type": "execute_result"
    }
   ],
   "source": [
    "data['ponds_around3000'].isnull().sum()"
   ]
  },
  {
   "cell_type": "markdown",
   "metadata": {},
   "source": [
    "Как видно в 4 из 6 столбцов количество пропущенных значений сопоставимо и колеблется от 5518 до 5542. В солбцах 'parks_nearest' и 'ponds_nearest' проблема совершенно другого рода. В данных столбцах количество пропусков составляет более половины от выборки. Есть предположение, что в первом случае пропуски могут быть связаны с определенной, возможно, при выгрузке данных из каких-то районов произошла ошибка. Во втором случае пропуски настолько значительны, что за этим может скрываться какая-то крупная техническая ошибка. В любом случае нужно проверить, в каких локациях обнаружены пропуски."
   ]
  },
  {
   "cell_type": "code",
   "execution_count": 25,
   "metadata": {
    "scrolled": true
   },
   "outputs": [
    {
     "data": {
      "text/plain": [
       "locality_name\n",
       "Санкт-Петербург      15721\n",
       "посёлок Мурино         522\n",
       "посёлок Шушары         440\n",
       "Всеволожск             398\n",
       "Пушкин                 369\n",
       "Колпино                338\n",
       "посёлок Парголово      327\n",
       "Гатчина                307\n",
       "деревня Кудрово        299\n",
       "Выборг                 237\n",
       "Name: locality_name, dtype: int64"
      ]
     },
     "execution_count": 25,
     "metadata": {},
     "output_type": "execute_result"
    }
   ],
   "source": [
    "#для начала узнаем, как распределены локации квартир по всей выборке\n",
    "data.groupby('locality_name')['locality_name'].count().sort_values(ascending=False).head(10)"
   ]
  },
  {
   "cell_type": "markdown",
   "metadata": {},
   "source": [
    "Как и ожидалось, в выборке большинство квартир находятся в Санкт-Петербурге. Далее посмотрим, где находятся в большинстве своем квартиры с пропусками. Сначала посмотрим те столбцы, где количество пропусков составляет около 5,5 тысяч."
   ]
  },
  {
   "cell_type": "code",
   "execution_count": 26,
   "metadata": {},
   "outputs": [
    {
     "data": {
      "text/plain": [
       "locality_name\n",
       "посёлок Мурино             522\n",
       "Всеволожск                 398\n",
       "Гатчина                    307\n",
       "деревня Кудрово            299\n",
       "Выборг                     237\n",
       "Кудрово                    173\n",
       "деревня Новое Девяткино    144\n",
       "Сертолово                  142\n",
       "Кириши                     125\n",
       "Сланцы                     112\n",
       "Name: locality_name, dtype: int64"
      ]
     },
     "execution_count": 26,
     "metadata": {},
     "output_type": "execute_result"
    }
   ],
   "source": [
    "data[data['airports_nearest'].isnull()].groupby('locality_name')['locality_name'].count().sort_values(ascending=False).head(10)"
   ]
  },
  {
   "cell_type": "code",
   "execution_count": 27,
   "metadata": {
    "scrolled": true
   },
   "outputs": [
    {
     "data": {
      "text/plain": [
       "locality_name\n",
       "посёлок Мурино             522\n",
       "Всеволожск                 398\n",
       "Гатчина                    307\n",
       "деревня Кудрово            299\n",
       "Выборг                     237\n",
       "Кудрово                    173\n",
       "деревня Новое Девяткино    144\n",
       "Сертолово                  142\n",
       "Кириши                     125\n",
       "Сланцы                     112\n",
       "Name: locality_name, dtype: int64"
      ]
     },
     "execution_count": 27,
     "metadata": {},
     "output_type": "execute_result"
    }
   ],
   "source": [
    "data[data['cityCenters_nearest'].isnull()].groupby('locality_name')['locality_name'].count().sort_values(ascending=False).head(10)"
   ]
  },
  {
   "cell_type": "code",
   "execution_count": 28,
   "metadata": {
    "scrolled": true
   },
   "outputs": [
    {
     "data": {
      "text/plain": [
       "locality_name\n",
       "посёлок Мурино             522\n",
       "Всеволожск                 398\n",
       "Гатчина                    307\n",
       "деревня Кудрово            299\n",
       "Выборг                     237\n",
       "Кудрово                    173\n",
       "деревня Новое Девяткино    144\n",
       "Сертолово                  142\n",
       "Кириши                     125\n",
       "Сланцы                     112\n",
       "Name: locality_name, dtype: int64"
      ]
     },
     "execution_count": 28,
     "metadata": {},
     "output_type": "execute_result"
    }
   ],
   "source": [
    "data[data['parks_around3000'].isnull()].groupby('locality_name')['locality_name'].count().sort_values(ascending=False).head(10)"
   ]
  },
  {
   "cell_type": "code",
   "execution_count": 29,
   "metadata": {
    "scrolled": false
   },
   "outputs": [
    {
     "data": {
      "text/plain": [
       "locality_name\n",
       "посёлок Мурино             522\n",
       "Всеволожск                 398\n",
       "Гатчина                    307\n",
       "деревня Кудрово            299\n",
       "Выборг                     237\n",
       "Кудрово                    173\n",
       "деревня Новое Девяткино    144\n",
       "Сертолово                  142\n",
       "Кириши                     125\n",
       "Сланцы                     112\n",
       "Name: locality_name, dtype: int64"
      ]
     },
     "execution_count": 29,
     "metadata": {},
     "output_type": "execute_result"
    }
   ],
   "source": [
    "data[data['ponds_around3000'].isnull()].groupby('locality_name')['locality_name'].count().sort_values(ascending=False).head(10)"
   ]
  },
  {
   "cell_type": "markdown",
   "metadata": {},
   "source": [
    "Гипотеза подтвердилась. Отстутствуют значения из определенных локаций причем полностью. Наиболее значительные примеры: совсем нет данных из Мурино, Кудрово, Всеволожск, Гатчина, Выборг и множества других. Явно ошибка связана с выгрузкой данных. В нормальных условиях данные лучше бы выгрузить еще раз без ошибок. Неправильным решением было бы изменять отсутствующие значения на медианы, так как это бы сильно исказило статистику: большинство квартир из выборки находятся в Санкт-Петербурге, при этом отсутствуют значения в пригороде, причем некоторые, такие как Выборг - это очень дальний пригород. Цены на жилье в пригородах будут сильно отличаться от цен в Санкт-Петербурге. Поэтому единственный правильный вариант ввиду отсутствия иного - оставить все как есть и проводить исследовательский анализ без данных из этих локаций. Проверим оставшиеся 2 столбца."
   ]
  },
  {
   "cell_type": "code",
   "execution_count": 30,
   "metadata": {
    "scrolled": true
   },
   "outputs": [
    {
     "data": {
      "text/plain": [
       "locality_name\n",
       "Санкт-Петербург      8437\n",
       "посёлок Мурино        522\n",
       "посёлок Шушары        440\n",
       "Всеволожск            398\n",
       "посёлок Парголово     317\n",
       "Гатчина               307\n",
       "деревня Кудрово       299\n",
       "Выборг                237\n",
       "Колпино               205\n",
       "Кудрово               173\n",
       "Name: locality_name, dtype: int64"
      ]
     },
     "execution_count": 30,
     "metadata": {},
     "output_type": "execute_result"
    }
   ],
   "source": [
    "data[data['parks_nearest'].isnull()].groupby('locality_name')['locality_name'].count().sort_values(ascending=False).head(10)"
   ]
  },
  {
   "cell_type": "code",
   "execution_count": 31,
   "metadata": {
    "scrolled": true
   },
   "outputs": [
    {
     "data": {
      "text/plain": [
       "locality_name\n",
       "Санкт-Петербург      7738\n",
       "посёлок Мурино        522\n",
       "Всеволожск            398\n",
       "Гатчина               307\n",
       "деревня Кудрово       299\n",
       "посёлок Шушары        288\n",
       "посёлок Парголово     271\n",
       "Выборг                237\n",
       "Пушкин                192\n",
       "Кудрово               173\n",
       "Name: locality_name, dtype: int64"
      ]
     },
     "execution_count": 31,
     "metadata": {},
     "output_type": "execute_result"
    }
   ],
   "source": [
    "data[data['ponds_nearest'].isnull()].groupby('locality_name')['locality_name'].count().sort_values(ascending=False).head(10)"
   ]
  },
  {
   "cell_type": "markdown",
   "metadata": {},
   "source": [
    "Как и ожидалось в выборку с отсутствующими значениями в столбцах 'parks_nearest' и 'ponds_nearest' попали не только локации, по которым нет данных и в других столбцах с картографической информацией, но и квартиры из Санкт_Петербурга. В данном случае заменять значения на медианные также не имеет смысла, так как тогда мы сильно испортим всю статистику, из-за того, что больше половины значений будут составлять медианы. Лучше оставить все, как есть, однако держать в голове на этапе исследовательского анализа, что данные есть в менее чем половине случаев из первоначальной выборки. "
   ]
  },
  {
   "cell_type": "markdown",
   "metadata": {},
   "source": [
    "Последний столбец, в котором оказались пропуски - 'days_exposition'. До конца непонятно, из-за чего возникла ошибка. В данном столбце указано количество дней, сколько квартира была выставлена на продажу. Не очень понятно, учитывает ли этот показатель те квартиры, которые продаются в данный момент, а не только фиксирует количество дней на момент снятия объявления о продаже. Если этот показатель не заполняется по продающимся в данный момент квартирам, то пропуски в этом столбце логичны. Если нет, то возможно имеет место техническая ошибка. В любом случае я думаю, что не будет критичным заменить пропуски на медианы в этом столбце. Если даже квартиры все еще продаются, то это значение будет ожидаемым количеством дней размещения объявления."
   ]
  },
  {
   "cell_type": "code",
   "execution_count": 32,
   "metadata": {},
   "outputs": [
    {
     "data": {
      "text/plain": [
       "3181"
      ]
     },
     "execution_count": 32,
     "metadata": {},
     "output_type": "execute_result"
    }
   ],
   "source": [
    "#узнаем количество отсутствующих значений в столбце 'days_exposition'\n",
    "data['days_exposition'].isnull().sum()"
   ]
  },
  {
   "cell_type": "code",
   "execution_count": 33,
   "metadata": {
    "scrolled": true
   },
   "outputs": [
    {
     "data": {
      "text/plain": [
       "95.0"
      ]
     },
     "execution_count": 33,
     "metadata": {},
     "output_type": "execute_result"
    }
   ],
   "source": [
    "#находим медиану столбца 'days_exposition'\n",
    "median_days = data['days_exposition'].median()\n",
    "median_days"
   ]
  },
  {
   "cell_type": "markdown",
   "metadata": {},
   "source": [
    "Медиана составила 95 дней, что вполне соответсвуют ожидаемому сроку продажи квартиры."
   ]
  },
  {
   "cell_type": "code",
   "execution_count": 34,
   "metadata": {},
   "outputs": [
    {
     "data": {
      "text/plain": [
       "0"
      ]
     },
     "execution_count": 34,
     "metadata": {},
     "output_type": "execute_result"
    }
   ],
   "source": [
    "#заменяем все отсутствующие значения на медиану и убеждаемся, что больше их не осталось\n",
    "data['days_exposition'] = data['days_exposition'].fillna(median_days)\n",
    "data['days_exposition'].isnull().sum()"
   ]
  },
  {
   "cell_type": "markdown",
   "metadata": {},
   "source": [
    "**Вывод:** часть пропусков удалось заменить на медианные значения. Некоторые пропуски, такие как наименование населенных пунктов, пришлось оставить. Отдельно выделим пропуски в картографических столбцах. В некоторых из них нет данных из нескольких населенных пунктов, а в других нет данных более чем для половины выборки."
   ]
  },
  {
   "cell_type": "markdown",
   "metadata": {},
   "source": [
    "#### Изменение типов данных"
   ]
  },
  {
   "cell_type": "code",
   "execution_count": 35,
   "metadata": {
    "scrolled": false
   },
   "outputs": [
    {
     "name": "stdout",
     "output_type": "stream",
     "text": [
      "<class 'pandas.core.frame.DataFrame'>\n",
      "RangeIndex: 23699 entries, 0 to 23698\n",
      "Data columns (total 22 columns):\n",
      " #   Column                Non-Null Count  Dtype  \n",
      "---  ------                --------------  -----  \n",
      " 0   total_images          23699 non-null  int64  \n",
      " 1   last_price            23699 non-null  float64\n",
      " 2   total_area            23699 non-null  float64\n",
      " 3   first_day_exposition  23699 non-null  object \n",
      " 4   rooms                 23699 non-null  int64  \n",
      " 5   ceiling_height        23699 non-null  float64\n",
      " 6   floors_total          23613 non-null  float64\n",
      " 7   living_area           23699 non-null  float64\n",
      " 8   floor                 23699 non-null  int64  \n",
      " 9   is_apartment          23699 non-null  bool   \n",
      " 10  studio                23699 non-null  bool   \n",
      " 11  open_plan             23699 non-null  bool   \n",
      " 12  kitchen_area          23699 non-null  float64\n",
      " 13  balcony               23699 non-null  float64\n",
      " 14  locality_name         23650 non-null  object \n",
      " 15  airports_nearest      18157 non-null  float64\n",
      " 16  cityCenters_nearest   18180 non-null  float64\n",
      " 17  parks_around3000      18181 non-null  float64\n",
      " 18  parks_nearest         8079 non-null   float64\n",
      " 19  ponds_around3000      18181 non-null  float64\n",
      " 20  ponds_nearest         9110 non-null   float64\n",
      " 21  days_exposition       23699 non-null  float64\n",
      "dtypes: bool(3), float64(14), int64(3), object(2)\n",
      "memory usage: 3.5+ MB\n"
     ]
    }
   ],
   "source": [
    "#Еще раз вызываем метод info и смотрим, в каких столбцах нас не устраивает тип данных. \n",
    "data.info()"
   ]
  },
  {
   "cell_type": "markdown",
   "metadata": {},
   "source": [
    "Их всех столбцов только у 'first_day_exposition' неподходящий тип данных, так как с датами неудобно работать, когда их тип object. Почти всех остальных случаех, если значиение целочисленные, такие как в столбце 'rooms' указан тип данных int64, а в столбцах с вещественными числами, 'таких как parks_nearest' указан тип float64. Единственное исключение - столбец days_exposition, в котором количество дней целочислено и его можно заменить на int64, хотя это и не так критично (как плюс будет меньше памяти занимать и быстрее работать). Также верно указаны столбцы с булевым типом. "
   ]
  },
  {
   "cell_type": "code",
   "execution_count": 36,
   "metadata": {
    "scrolled": true
   },
   "outputs": [
    {
     "data": {
      "text/plain": [
       "0       2019-03-07\n",
       "1       2018-12-04\n",
       "2       2015-08-20\n",
       "3       2015-07-24\n",
       "4       2018-06-19\n",
       "           ...    \n",
       "23694   2017-03-21\n",
       "23695   2018-01-15\n",
       "23696   2018-02-11\n",
       "23697   2017-03-28\n",
       "23698   2017-07-21\n",
       "Name: first_day_exposition, Length: 23699, dtype: datetime64[ns]"
      ]
     },
     "execution_count": 36,
     "metadata": {},
     "output_type": "execute_result"
    }
   ],
   "source": [
    "#меняем тип данных в столбце 'first_day_exposition'\n",
    "data['first_day_exposition'] = (\n",
    "    pd.to_datetime(data['first_day_exposition'], format='%Y-%m-%d %H:%M:%S'))\n",
    "data['first_day_exposition']"
   ]
  },
  {
   "cell_type": "code",
   "execution_count": 37,
   "metadata": {
    "scrolled": true
   },
   "outputs": [
    {
     "data": {
      "text/plain": [
       "0         95\n",
       "1         81\n",
       "2        558\n",
       "3        424\n",
       "4        121\n",
       "        ... \n",
       "23694     95\n",
       "23695     45\n",
       "23696     95\n",
       "23697    602\n",
       "23698     95\n",
       "Name: days_exposition, Length: 23699, dtype: int64"
      ]
     },
     "execution_count": 37,
     "metadata": {},
     "output_type": "execute_result"
    }
   ],
   "source": [
    "#меняем тип данных в столбце 'days_exposition'\n",
    "data['days_exposition'].astype('int64')"
   ]
  },
  {
   "cell_type": "code",
   "execution_count": 38,
   "metadata": {},
   "outputs": [
    {
     "data": {
      "text/plain": [
       "0        13000000\n",
       "1         3350000\n",
       "2         5196000\n",
       "3        64900000\n",
       "4        10000000\n",
       "           ...   \n",
       "23694     9700000\n",
       "23695     3100000\n",
       "23696     2500000\n",
       "23697    11475000\n",
       "23698     1350000\n",
       "Name: last_price, Length: 23699, dtype: int64"
      ]
     },
     "execution_count": 38,
     "metadata": {},
     "output_type": "execute_result"
    }
   ],
   "source": [
    "#меняем тип данных в столбце 'last_price'\n",
    "data['last_price'].astype('int64')"
   ]
  },
  {
   "cell_type": "markdown",
   "metadata": {},
   "source": [
    "**Вывод:** изменили тип данных в столбце с датой начала выставления объявления с object на datetime64, в столбце с количеством дней и с ценой квартир с float64 на int64."
   ]
  },
  {
   "cell_type": "markdown",
   "metadata": {},
   "source": [
    "#### Удаление неявных дубликатов в столбце с названиями"
   ]
  },
  {
   "cell_type": "code",
   "execution_count": 39,
   "metadata": {
    "scrolled": true
   },
   "outputs": [
    {
     "data": {
      "text/plain": [
       "array(['Санкт-Петербург', 'посёлок Шушары', 'городской посёлок Янино-1',\n",
       "       'посёлок Парголово', 'посёлок Мурино', 'Ломоносов', 'Сертолово',\n",
       "       'Петергоф', 'Пушкин', 'деревня Кудрово', 'Коммунар', 'Колпино',\n",
       "       'поселок городского типа Красный Бор', 'Гатчина', 'поселок Мурино',\n",
       "       'деревня Фёдоровское', 'Выборг', 'Кронштадт', 'Кировск',\n",
       "       'деревня Новое Девяткино', 'посёлок Металлострой',\n",
       "       'посёлок городского типа Лебяжье',\n",
       "       'посёлок городского типа Сиверский', 'поселок Молодцово',\n",
       "       'поселок городского типа Кузьмоловский',\n",
       "       'садовое товарищество Новая Ропша', 'Павловск',\n",
       "       'деревня Пикколово', 'Всеволожск', 'Волхов', 'Кингисепп',\n",
       "       'Приозерск', 'Сестрорецк', 'деревня Куттузи', 'посёлок Аннино',\n",
       "       'поселок городского типа Ефимовский', 'посёлок Плодовое',\n",
       "       'деревня Заклинье', 'поселок Торковичи', 'поселок Первомайское',\n",
       "       'Красное Село', 'посёлок Понтонный', 'Сясьстрой', 'деревня Старая',\n",
       "       'деревня Лесколово', 'посёлок Новый Свет', 'Сланцы',\n",
       "       'село Путилово', 'Ивангород', 'Мурино', 'Шлиссельбург',\n",
       "       'Никольское', 'Зеленогорск', 'Сосновый Бор', 'поселок Новый Свет',\n",
       "       'деревня Оржицы', 'деревня Кальтино', 'Кудрово',\n",
       "       'поселок Романовка', 'посёлок Бугры', 'поселок Бугры',\n",
       "       'поселок городского типа Рощино', 'Кириши', 'Луга', 'Волосово',\n",
       "       'Отрадное', 'село Павлово', 'поселок Оредеж', 'село Копорье',\n",
       "       'посёлок городского типа Красный Бор', 'посёлок Молодёжное',\n",
       "       'Тихвин', 'посёлок Победа', 'деревня Нурма',\n",
       "       'поселок городского типа Синявино', 'Тосно',\n",
       "       'посёлок городского типа Кузьмоловский', 'посёлок Стрельна',\n",
       "       'Бокситогорск', 'посёлок Александровская', 'деревня Лопухинка',\n",
       "       'Пикалёво', 'поселок Терволово',\n",
       "       'поселок городского типа Советский', 'Подпорожье',\n",
       "       'посёлок Петровское', 'посёлок городского типа Токсово',\n",
       "       'поселок Сельцо', 'посёлок городского типа Вырица',\n",
       "       'деревня Кипень', 'деревня Келози', 'деревня Вартемяги',\n",
       "       'посёлок Тельмана', 'поселок Севастьяново',\n",
       "       'городской поселок Большая Ижора', nan,\n",
       "       'городской посёлок Павлово', 'деревня Агалатово',\n",
       "       'посёлок Новогорелово', 'городской посёлок Лесогорский',\n",
       "       'деревня Лаголово', 'поселок Цвелодубово',\n",
       "       'поселок городского типа Рахья', 'поселок городского типа Вырица',\n",
       "       'деревня Белогорка', 'поселок Заводской',\n",
       "       'городской посёлок Новоселье', 'деревня Большие Колпаны',\n",
       "       'деревня Горбунки', 'деревня Батово', 'деревня Заневка',\n",
       "       'деревня Иссад', 'Приморск', 'городской посёлок Фёдоровское',\n",
       "       'деревня Мистолово', 'Новая Ладога', 'поселок Зимитицы',\n",
       "       'поселок Барышево', 'деревня Разметелево',\n",
       "       'поселок городского типа имени Свердлова', 'деревня Пеники',\n",
       "       'поселок Рябово', 'деревня Пудомяги', 'поселок станции Корнево',\n",
       "       'деревня Низино', 'деревня Бегуницы', 'посёлок Поляны',\n",
       "       'городской посёлок Мга', 'поселок Елизаветино',\n",
       "       'посёлок городского типа Кузнечное', 'деревня Колтуши',\n",
       "       'поселок Запорожское', 'посёлок городского типа Рощино',\n",
       "       'деревня Гостилицы', 'деревня Малое Карлино',\n",
       "       'посёлок Мичуринское', 'посёлок городского типа имени Морозова',\n",
       "       'посёлок Песочный', 'посёлок Сосново', 'деревня Аро',\n",
       "       'поселок Ильичёво', 'посёлок городского типа Тайцы',\n",
       "       'деревня Малое Верево', 'деревня Извара', 'поселок станции Вещево',\n",
       "       'село Паша', 'деревня Калитино',\n",
       "       'посёлок городского типа Ульяновка', 'деревня Чудской Бор',\n",
       "       'поселок городского типа Дубровка', 'деревня Мины',\n",
       "       'поселок Войсковицы', 'посёлок городского типа имени Свердлова',\n",
       "       'деревня Коркино', 'посёлок Ропша',\n",
       "       'поселок городского типа Приладожский', 'посёлок Щеглово',\n",
       "       'посёлок Гаврилово', 'Лодейное Поле', 'деревня Рабитицы',\n",
       "       'поселок городского типа Никольский', 'деревня Кузьмолово',\n",
       "       'деревня Малые Колпаны', 'поселок Тельмана',\n",
       "       'посёлок Петро-Славянка', 'городской посёлок Назия',\n",
       "       'посёлок Репино', 'посёлок Ильичёво', 'поселок Углово',\n",
       "       'поселок Старая Малукса', 'садовое товарищество Рахья',\n",
       "       'поселок Аннино', 'поселок Победа', 'деревня Меньково',\n",
       "       'деревня Старые Бегуницы', 'посёлок Сапёрный', 'поселок Семрино',\n",
       "       'поселок Гаврилово', 'поселок Глажево', 'поселок Кобринское',\n",
       "       'деревня Гарболово', 'деревня Юкки',\n",
       "       'поселок станции Приветнинское', 'деревня Мануйлово',\n",
       "       'деревня Пчева', 'поселок Поляны', 'поселок Цвылёво',\n",
       "       'поселок Мельниково', 'посёлок Пудость', 'посёлок Усть-Луга',\n",
       "       'Светогорск', 'Любань', 'поселок Селезнёво',\n",
       "       'поселок городского типа Рябово', 'Каменногорск', 'деревня Кривко',\n",
       "       'поселок Глебычево', 'деревня Парицы', 'поселок Жилпосёлок',\n",
       "       'посёлок городского типа Мга', 'городской поселок Янино-1',\n",
       "       'посёлок Войскорово', 'село Никольское', 'посёлок Терволово',\n",
       "       'поселок Стеклянный', 'посёлок городского типа Важины',\n",
       "       'посёлок Мыза-Ивановка', 'село Русско-Высоцкое',\n",
       "       'поселок городского типа Лебяжье',\n",
       "       'поселок городского типа Форносово', 'село Старая Ладога',\n",
       "       'поселок Житково', 'городской посёлок Виллози', 'деревня Лампово',\n",
       "       'деревня Шпаньково', 'деревня Лаврики', 'посёлок Сумино',\n",
       "       'посёлок Возрождение', 'деревня Старосиверская',\n",
       "       'посёлок Кикерино', 'поселок Возрождение',\n",
       "       'деревня Старое Хинколово', 'посёлок Пригородный',\n",
       "       'посёлок Торфяное', 'городской посёлок Будогощь',\n",
       "       'поселок Суходолье', 'поселок Красная Долина', 'деревня Хапо-Ое',\n",
       "       'поселок городского типа Дружная Горка', 'поселок Лисий Нос',\n",
       "       'деревня Яльгелево', 'посёлок Стеклянный', 'село Рождествено',\n",
       "       'деревня Старополье', 'посёлок Левашово', 'деревня Сяськелево',\n",
       "       'деревня Камышовка',\n",
       "       'садоводческое некоммерческое товарищество Лесная Поляна',\n",
       "       'деревня Хязельки', 'поселок Жилгородок',\n",
       "       'посёлок городского типа Павлово', 'деревня Ялгино',\n",
       "       'поселок Новый Учхоз', 'городской посёлок Рощино',\n",
       "       'поселок Гончарово', 'поселок Почап', 'посёлок Сапёрное',\n",
       "       'посёлок Платформа 69-й километр', 'поселок Каложицы',\n",
       "       'деревня Фалилеево', 'деревня Пельгора',\n",
       "       'поселок городского типа Лесогорский', 'деревня Торошковичи',\n",
       "       'посёлок Белоостров', 'посёлок Алексеевка', 'поселок Серебрянский',\n",
       "       'поселок Лукаши', 'поселок Петровское', 'деревня Щеглово',\n",
       "       'поселок Мичуринское', 'деревня Тарасово', 'поселок Кингисеппский',\n",
       "       'посёлок при железнодорожной станции Вещево', 'поселок Ушаки',\n",
       "       'деревня Котлы', 'деревня Сижно', 'деревня Торосово',\n",
       "       'посёлок Форт Красная Горка', 'поселок городского типа Токсово',\n",
       "       'деревня Новолисино', 'посёлок станции Громово', 'деревня Глинка',\n",
       "       'посёлок Мельниково', 'поселок городского типа Назия',\n",
       "       'деревня Старая Пустошь', 'поселок Коммунары', 'поселок Починок',\n",
       "       'посёлок городского типа Вознесенье', 'деревня Разбегаево',\n",
       "       'посёлок городского типа Рябово', 'поселок Гладкое',\n",
       "       'посёлок при железнодорожной станции Приветнинское',\n",
       "       'поселок Тёсово-4', 'посёлок Жилгородок', 'деревня Бор',\n",
       "       'посёлок Коробицыно', 'деревня Большая Вруда', 'деревня Курковицы',\n",
       "       'посёлок Лисий Нос', 'городской посёлок Советский',\n",
       "       'посёлок Кобралово', 'деревня Суоранда', 'поселок Кобралово',\n",
       "       'поселок городского типа Кондратьево',\n",
       "       'коттеджный поселок Счастье', 'поселок Любань', 'деревня Реброво',\n",
       "       'деревня Зимитицы', 'деревня Тойворово', 'поселок Семиозерье',\n",
       "       'поселок Лесное', 'поселок Совхозный', 'поселок Усть-Луга',\n",
       "       'посёлок Ленинское', 'посёлок Суйда',\n",
       "       'посёлок городского типа Форносово', 'деревня Нижние Осельки',\n",
       "       'посёлок станции Свирь', 'поселок Перово', 'Высоцк',\n",
       "       'поселок Гарболово', 'село Шум', 'поселок Котельский',\n",
       "       'поселок станции Лужайка', 'деревня Большая Пустомержа',\n",
       "       'поселок Красносельское', 'деревня Вахнова Кара', 'деревня Пижма',\n",
       "       'коттеджный поселок Кивеннапа Север', 'поселок Коробицыно',\n",
       "       'поселок Ромашки', 'посёлок Перово', 'деревня Каськово',\n",
       "       'деревня Куровицы', 'посёлок Плоское', 'поселок Сумино',\n",
       "       'поселок городского типа Большая Ижора', 'поселок Кирпичное',\n",
       "       'деревня Ям-Тесово', 'деревня Раздолье', 'деревня Терпилицы',\n",
       "       'посёлок Шугозеро', 'деревня Ваганово', 'поселок Пушное',\n",
       "       'садовое товарищество Садко', 'посёлок Усть-Ижора',\n",
       "       'деревня Выскатка', 'городской посёлок Свирьстрой',\n",
       "       'поселок Громово', 'деревня Кисельня', 'посёлок Старая Малукса',\n",
       "       'деревня Трубников Бор', 'поселок Калитино',\n",
       "       'посёлок Высокоключевой', 'садовое товарищество Приладожский',\n",
       "       'посёлок Пансионат Зелёный Бор', 'деревня Ненимяки',\n",
       "       'поселок Пансионат Зелёный Бор', 'деревня Снегирёвка',\n",
       "       'деревня Рапполово', 'деревня Пустынка', 'поселок Рабитицы',\n",
       "       'деревня Большой Сабск', 'деревня Русско', 'деревня Лупполово',\n",
       "       'деревня Большое Рейзино', 'деревня Малая Романовка',\n",
       "       'поселок Дружноселье', 'поселок Пчевжа', 'поселок Володарское',\n",
       "       'деревня Нижняя', 'коттеджный посёлок Лесное', 'деревня Тихковицы',\n",
       "       'деревня Борисова Грива', 'посёлок Дзержинского'], dtype=object)"
      ]
     },
     "execution_count": 39,
     "metadata": {},
     "output_type": "execute_result"
    }
   ],
   "source": [
    "#еще раз глянем, какие уникальные значения есть в столбце 'locality_name'\n",
    "data['locality_name'].unique()"
   ]
  },
  {
   "cell_type": "code",
   "execution_count": 40,
   "metadata": {
    "scrolled": true
   },
   "outputs": [
    {
     "data": {
      "text/plain": [
       "364"
      ]
     },
     "execution_count": 40,
     "metadata": {},
     "output_type": "execute_result"
    }
   ],
   "source": [
    "data['locality_name'].nunique()"
   ]
  },
  {
   "cell_type": "markdown",
   "metadata": {},
   "source": [
    "Всего уникальных значений 364. Наиболее очевидные дубликаты, связаны с буквой 'ё' заменим её на 'е' и посмотрим, стало ли меньше уникальных значений."
   ]
  },
  {
   "cell_type": "code",
   "execution_count": 41,
   "metadata": {
    "scrolled": true
   },
   "outputs": [
    {
     "data": {
      "text/plain": [
       "330"
      ]
     },
     "execution_count": 41,
     "metadata": {},
     "output_type": "execute_result"
    }
   ],
   "source": [
    "data['locality_name'] = data['locality_name'].replace('ё', 'е', regex=True)\n",
    "data['locality_name'].nunique()"
   ]
  },
  {
   "cell_type": "markdown",
   "metadata": {},
   "source": []
  },
  {
   "cell_type": "markdown",
   "metadata": {},
   "source": [
    "Количество уникальных значений сократилось на 34. Также дубли возникают из-за того, что топоним локации по-разному отражается. Иногда наименования встречаются с топонимом, а иногда нет, например \"Кудрово\" и \"деревня Кудрово\". Поэтому чтобы не возникало путаницы топонимы лучше в целом удалить."
   ]
  },
  {
   "cell_type": "code",
   "execution_count": 42,
   "metadata": {
    "scrolled": true
   },
   "outputs": [
    {
     "data": {
      "text/plain": [
       "309"
      ]
     },
     "execution_count": 42,
     "metadata": {},
     "output_type": "execute_result"
    }
   ],
   "source": [
    "data['locality_name'] = data['locality_name'].replace(['поселок городского типа ', 'поселок ', 'деревня ', 'городской поселок ', \n",
    "                                                       'село ', 'садовое товарищество ', 'городской ', \n",
    "                                                       'садоводческое некоммерческое товарищество '], '', regex=True)\n",
    "data['locality_name'].nunique()"
   ]
  },
  {
   "cell_type": "markdown",
   "metadata": {},
   "source": [
    "<div class=\"alert alert-block alert-success\">✔️\n",
    "    \n",
    "\n",
    "__Комментарий от ревьюера №1__\n",
    "\n",
    "Отличный код\n",
    "</div>"
   ]
  },
  {
   "cell_type": "code",
   "execution_count": 43,
   "metadata": {
    "scrolled": true
   },
   "outputs": [
    {
     "data": {
      "text/plain": [
       "array(['Санкт-Петербург', 'Шушары', 'Янино-1', 'Парголово', 'Мурино',\n",
       "       'Ломоносов', 'Сертолово', 'Петергоф', 'Пушкин', 'Кудрово',\n",
       "       'Коммунар', 'Колпино', 'Красный Бор', 'Гатчина', 'Федоровское',\n",
       "       'Выборг', 'Кронштадт', 'Кировск', 'Новое Девяткино',\n",
       "       'Металлострой', 'Лебяжье', 'Сиверский', 'Молодцово',\n",
       "       'Кузьмоловский', 'Новая Ропша', 'Павловск', 'Пикколово',\n",
       "       'Всеволожск', 'Волхов', 'Кингисепп', 'Приозерск', 'Сестрорецк',\n",
       "       'Куттузи', 'Аннино', 'Ефимовский', 'Плодовое', 'Заклинье',\n",
       "       'Торковичи', 'Первомайское', 'Красное Село', 'Понтонный',\n",
       "       'Сясьстрой', 'Старая', 'Лесколово', 'Новый Свет', 'Сланцы',\n",
       "       'Путилово', 'Ивангород', 'Шлиссельбург', 'Никольское',\n",
       "       'Зеленогорск', 'Сосновый Бор', 'Оржицы', 'Кальтино', 'Романовка',\n",
       "       'Бугры', 'Рощино', 'Кириши', 'Луга', 'Волосово', 'Отрадное',\n",
       "       'Павлово', 'Оредеж', 'Копорье', 'Молодежное', 'Тихвин', 'Победа',\n",
       "       'Нурма', 'Синявино', 'Тосно', 'Стрельна', 'Бокситогорск',\n",
       "       'Александровская', 'Лопухинка', 'Пикалево', 'Терволово',\n",
       "       'Советский', 'Подпорожье', 'Петровское', 'Токсово', 'Сельцо',\n",
       "       'Вырица', 'Кипень', 'Келози', 'Вартемяги', 'Тельмана',\n",
       "       'Севастьяново', 'Большая Ижора', nan, 'Агалатово', 'Новогорелово',\n",
       "       'Лесогорский', 'Лаголово', 'Цвелодубово', 'Рахья', 'Белогорка',\n",
       "       'Заводской', 'Новоселье', 'Большие Колпаны', 'Горбунки', 'Батово',\n",
       "       'Заневка', 'Иссад', 'Приморск', 'Мистолово', 'Новая Ладога',\n",
       "       'Зимитицы', 'Барышево', 'Разметелево', 'имени Свердлова', 'Пеники',\n",
       "       'Рябово', 'Пудомяги', 'станции Корнево', 'Низино', 'Бегуницы',\n",
       "       'Поляны', 'Мга', 'Елизаветино', 'Кузнечное', 'Колтуши',\n",
       "       'Запорожское', 'Гостилицы', 'Малое Карлино', 'Мичуринское',\n",
       "       'имени Морозова', 'Песочный', 'Сосново', 'Аро', 'Ильичево',\n",
       "       'Тайцы', 'Малое Верево', 'Извара', 'станции Вещево', 'Паша',\n",
       "       'Калитино', 'Ульяновка', 'Чудской Бор', 'Дубровка', 'Мины',\n",
       "       'Войсковицы', 'Коркино', 'Ропша', 'Приладожский', 'Щеглово',\n",
       "       'Гаврилово', 'Лодейное Поле', 'Рабитицы', 'Никольский',\n",
       "       'Кузьмолово', 'Малые Колпаны', 'Петро-Славянка', 'Назия', 'Репино',\n",
       "       'Углово', 'Старая Малукса', 'Меньково', 'Старые Бегуницы',\n",
       "       'Саперный', 'Семрино', 'Глажево', 'Кобринское', 'Гарболово',\n",
       "       'Юкки', 'станции Приветнинское', 'Мануйлово', 'Пчева', 'Цвылево',\n",
       "       'Мельниково', 'Пудость', 'Усть-Луга', 'Светогорск', 'Любань',\n",
       "       'Селезнево', 'Каменногорск', 'Кривко', 'Глебычево', 'Парицы',\n",
       "       'Жилпоселок', 'Войскорово', 'Стеклянный', 'Важины',\n",
       "       'Мыза-Ивановка', 'Русско-Высоцкое', 'Форносово', 'Старая Ладога',\n",
       "       'Житково', 'Виллози', 'Лампово', 'Шпаньково', 'Лаврики', 'Сумино',\n",
       "       'Возрождение', 'Старосиверская', 'Кикерино', 'Старое Хинколово',\n",
       "       'Пригородный', 'Торфяное', 'Будогощь', 'Суходолье',\n",
       "       'Красная Долина', 'Хапо-Ое', 'Дружная Горка', 'Лисий Нос',\n",
       "       'Яльгелево', 'Рождествено', 'Старополье', 'Левашово', 'Сяськелево',\n",
       "       'Камышовка', 'Лесная Поляна', 'Хязельки', 'Жилгородок', 'Ялгино',\n",
       "       'Новый Учхоз', 'Гончарово', 'Почап', 'Саперное',\n",
       "       'Платформа 69-й километр', 'Каложицы', 'Фалилеево', 'Пельгора',\n",
       "       'Торошковичи', 'Белоостров', 'Алексеевка', 'Серебрянский',\n",
       "       'Лукаши', 'Тарасово', 'Кингисеппский',\n",
       "       'при железнодорожной станции Вещево', 'Ушаки', 'Котлы', 'Сижно',\n",
       "       'Торосово', 'Форт Красная Горка', 'Новолисино', 'станции Громово',\n",
       "       'Глинка', 'Старая Пустошь', 'Коммунары', 'Починок', 'Вознесенье',\n",
       "       'Разбегаево', 'Гладкое',\n",
       "       'при железнодорожной станции Приветнинское', 'Тесово-4', 'Бор',\n",
       "       'Коробицыно', 'Большая Вруда', 'Курковицы', 'Кобралово',\n",
       "       'Суоранда', 'Кондратьево', 'коттеджный Счастье', 'Реброво',\n",
       "       'Тойворово', 'Семиозерье', 'Лесное', 'Совхозный', 'Ленинское',\n",
       "       'Суйда', 'Нижние Осельки', 'станции Свирь', 'Перово', 'Высоцк',\n",
       "       'Шум', 'Котельский', 'станции Лужайка', 'Большая Пустомержа',\n",
       "       'Красносельское', 'Вахнова Кара', 'Пижма',\n",
       "       'коттеджный Кивеннапа Север', 'Ромашки', 'Каськово', 'Куровицы',\n",
       "       'Плоское', 'Кирпичное', 'Ям-Тесово', 'Раздолье', 'Терпилицы',\n",
       "       'Шугозеро', 'Ваганово', 'Пушное', 'Садко', 'Усть-Ижора',\n",
       "       'Выскатка', 'Свирьстрой', 'Громово', 'Кисельня', 'Трубников Бор',\n",
       "       'Высокоключевой', 'Пансионат Зеленый Бор', 'Ненимяки',\n",
       "       'Снегиревка', 'Рапполово', 'Пустынка', 'Большой Сабск', 'Русско',\n",
       "       'Лупполово', 'Большое Рейзино', 'Малая Романовка', 'Дружноселье',\n",
       "       'Пчевжа', 'Володарское', 'Нижняя', 'коттеджный Лесное',\n",
       "       'Тихковицы', 'Борисова Грива', 'Дзержинского'], dtype=object)"
      ]
     },
     "execution_count": 43,
     "metadata": {},
     "output_type": "execute_result"
    }
   ],
   "source": [
    "data['locality_name'].unique()"
   ]
  },
  {
   "cell_type": "markdown",
   "metadata": {},
   "source": [
    "**Вывод**: количество уникальных значений в названиях локаций сократилось с 360 до 304."
   ]
  },
  {
   "cell_type": "code",
   "execution_count": 44,
   "metadata": {
    "scrolled": false
   },
   "outputs": [
    {
     "name": "stdout",
     "output_type": "stream",
     "text": [
      "<class 'pandas.core.frame.DataFrame'>\n",
      "RangeIndex: 23699 entries, 0 to 23698\n",
      "Data columns (total 22 columns):\n",
      " #   Column                Non-Null Count  Dtype         \n",
      "---  ------                --------------  -----         \n",
      " 0   total_images          23699 non-null  int64         \n",
      " 1   last_price            23699 non-null  float64       \n",
      " 2   total_area            23699 non-null  float64       \n",
      " 3   first_day_exposition  23699 non-null  datetime64[ns]\n",
      " 4   rooms                 23699 non-null  int64         \n",
      " 5   ceiling_height        23699 non-null  float64       \n",
      " 6   floors_total          23613 non-null  float64       \n",
      " 7   living_area           23699 non-null  float64       \n",
      " 8   floor                 23699 non-null  int64         \n",
      " 9   is_apartment          23699 non-null  bool          \n",
      " 10  studio                23699 non-null  bool          \n",
      " 11  open_plan             23699 non-null  bool          \n",
      " 12  kitchen_area          23699 non-null  float64       \n",
      " 13  balcony               23699 non-null  float64       \n",
      " 14  locality_name         23650 non-null  object        \n",
      " 15  airports_nearest      18157 non-null  float64       \n",
      " 16  cityCenters_nearest   18180 non-null  float64       \n",
      " 17  parks_around3000      18181 non-null  float64       \n",
      " 18  parks_nearest         8079 non-null   float64       \n",
      " 19  ponds_around3000      18181 non-null  float64       \n",
      " 20  ponds_nearest         9110 non-null   float64       \n",
      " 21  days_exposition       23699 non-null  float64       \n",
      "dtypes: bool(3), datetime64[ns](1), float64(14), int64(3), object(1)\n",
      "memory usage: 3.5+ MB\n"
     ]
    }
   ],
   "source": [
    "data.info()"
   ]
  },
  {
   "cell_type": "markdown",
   "metadata": {},
   "source": [
    "#### Обработка аномалий"
   ]
  },
  {
   "cell_type": "code",
   "execution_count": 45,
   "metadata": {},
   "outputs": [
    {
     "data": {
      "text/plain": [
       "array([[<AxesSubplot:title={'center':'total_images'}>,\n",
       "        <AxesSubplot:title={'center':'last_price'}>,\n",
       "        <AxesSubplot:title={'center':'total_area'}>,\n",
       "        <AxesSubplot:title={'center':'first_day_exposition'}>],\n",
       "       [<AxesSubplot:title={'center':'rooms'}>,\n",
       "        <AxesSubplot:title={'center':'ceiling_height'}>,\n",
       "        <AxesSubplot:title={'center':'floors_total'}>,\n",
       "        <AxesSubplot:title={'center':'living_area'}>],\n",
       "       [<AxesSubplot:title={'center':'floor'}>,\n",
       "        <AxesSubplot:title={'center':'kitchen_area'}>,\n",
       "        <AxesSubplot:title={'center':'balcony'}>,\n",
       "        <AxesSubplot:title={'center':'airports_nearest'}>],\n",
       "       [<AxesSubplot:title={'center':'cityCenters_nearest'}>,\n",
       "        <AxesSubplot:title={'center':'parks_around3000'}>,\n",
       "        <AxesSubplot:title={'center':'parks_nearest'}>,\n",
       "        <AxesSubplot:title={'center':'ponds_around3000'}>],\n",
       "       [<AxesSubplot:title={'center':'ponds_nearest'}>,\n",
       "        <AxesSubplot:title={'center':'days_exposition'}>, <AxesSubplot:>,\n",
       "        <AxesSubplot:>]], dtype=object)"
      ]
     },
     "execution_count": 45,
     "metadata": {},
     "output_type": "execute_result"
    },
    {
     "data": {
      "image/png": "[encoded data removed]",
      "text/plain": [
       "<Figure size 1080x1440 with 20 Axes>"
      ]
     },
     "metadata": {
      "needs_background": "light"
     },
     "output_type": "display_data"
    }
   ],
   "source": [
    "#вызовем еще раз все гистромы, чтобы понять, в каких столбцах могут быть аномалии\n",
    "data.hist(figsize=(15, 20))"
   ]
  },
  {
   "cell_type": "markdown",
   "metadata": {},
   "source": [
    "Первый столец, где могут быть аномалии - 'total images'. На гистограме видно, что большинтсво квартир выставляют с не более чем 25-30 фотографиями, но есть и исключения."
   ]
  },
  {
   "cell_type": "code",
   "execution_count": 46,
   "metadata": {
    "scrolled": true
   },
   "outputs": [
    {
     "data": {
      "text/plain": [
       "12667    50\n",
       "9778     50\n",
       "17396    50\n",
       "15157    42\n",
       "1058     39\n",
       "21199    37\n",
       "10523    35\n",
       "308      35\n",
       "99       32\n",
       "21076    32\n",
       "7393     32\n",
       "7938     32\n",
       "5349     31\n",
       "22517    31\n",
       "20280    30\n",
       "3455     30\n",
       "11359    29\n",
       "7899     29\n",
       "20465    29\n",
       "4692     28\n",
       "Name: total_images, dtype: int64"
      ]
     },
     "execution_count": 46,
     "metadata": {},
     "output_type": "execute_result"
    }
   ],
   "source": [
    "#посмотрим, есть ли квартиры с аномальным количеством фотографий\n",
    "data['total_images'].sort_values(ascending=False).head(20)"
   ]
  },
  {
   "cell_type": "markdown",
   "metadata": {},
   "source": [
    "Есть часть квартир, у которых число фотографий более 30. Не думаю, что здесь есть значительные аномалии, просто очень старательные владельцы :)"
   ]
  },
  {
   "cell_type": "markdown",
   "metadata": {},
   "source": [
    "Следующий столбец - 'last price'. По гистограме видно, что в этом столбце явно есть значительные выбросы. Его лучше исследовать более подробно."
   ]
  },
  {
   "cell_type": "code",
   "execution_count": 47,
   "metadata": {
    "scrolled": true
   },
   "outputs": [
    {
     "data": {
      "text/plain": [
       "count    2.369900e+04\n",
       "mean     6.541549e+06\n",
       "std      1.088701e+07\n",
       "min      1.219000e+04\n",
       "25%      3.400000e+06\n",
       "50%      4.650000e+06\n",
       "75%      6.800000e+06\n",
       "max      7.630000e+08\n",
       "Name: last_price, dtype: float64"
      ]
     },
     "execution_count": 47,
     "metadata": {},
     "output_type": "execute_result"
    }
   ],
   "source": [
    "data['last_price'].describe()"
   ]
  },
  {
   "cell_type": "markdown",
   "metadata": {},
   "source": [
    "Из описания видно, что средняя стоимость квартир составляет 6.5 млн, а медиана - 4.6 млн руб. При этом есть значительные аномалии. Максимальное значение составляет 763 млн. Такие квартиры действительно существуют, но это исключительные случаи и они сильно выбиваются из основной статистики."
   ]
  },
  {
   "cell_type": "code",
   "execution_count": 48,
   "metadata": {},
   "outputs": [],
   "source": [
    "#импортируем matplotlib для дальнейших манипуляций с графиками\n",
    "import matplotlib.pyplot as plt"
   ]
  },
  {
   "cell_type": "code",
   "execution_count": 49,
   "metadata": {
    "scrolled": false
   },
   "outputs": [
    {
     "data": {
      "text/plain": [
       "<AxesSubplot:>"
      ]
     },
     "execution_count": 49,
     "metadata": {},
     "output_type": "execute_result"
    },
    {
     "data": {
      "image/png": "[encoded data removed]",
      "text/plain": [
       "<Figure size 432x288 with 1 Axes>"
      ]
     },
     "metadata": {
      "needs_background": "light"
     },
     "output_type": "display_data"
    }
   ],
   "source": [
    "# построим боксплот для того, чтобы понимать, как много аномальных значений существует.\n",
    "data.boxplot(column='last_price')"
   ]
  },
  {
   "cell_type": "code",
   "execution_count": 50,
   "metadata": {
    "scrolled": true
   },
   "outputs": [
    {
     "data": {
      "text/plain": [
       "(0.0, 200000000.0)"
      ]
     },
     "execution_count": 50,
     "metadata": {},
     "output_type": "execute_result"
    },
    {
     "data": {
      "image/png": "[encoded data removed]",
      "text/plain": [
       "<Figure size 432x288 with 1 Axes>"
      ]
     },
     "metadata": {
      "needs_background": "light"
     },
     "output_type": "display_data"
    }
   ],
   "source": [
    "#немного приблизим ось y\n",
    "data.boxplot(column='last_price')\n",
    "plt.ylim(0, 200000000)"
   ]
  },
  {
   "cell_type": "markdown",
   "metadata": {},
   "source": [
    "Стоимость подавляющего числа квартир находится в очень узком диапазоне до 10 млн руб. Существенная часть элитного жилья находится в диапазоне от 10 до 100 млн руб. (на графике боксплот отражается как сплошная черная линия). При этом лишь небольшое количество квартир стоят более 100 млн руб. Попробуем глянуть, что из себя представляют самые дорогие квартиры."
   ]
  },
  {
   "cell_type": "code",
   "execution_count": 51,
   "metadata": {
    "scrolled": true
   },
   "outputs": [
    {
     "data": {
      "text/html": [
       "<div>\n",
       "<style scoped>\n",
       "    .dataframe tbody tr th:only-of-type {\n",
       "        vertical-align: middle;\n",
       "    }\n",
       "\n",
       "    .dataframe tbody tr th {\n",
       "        vertical-align: top;\n",
       "    }\n",
       "\n",
       "    .dataframe thead th {\n",
       "        text-align: right;\n",
       "    }\n",
       "</style>\n",
       "<table border=\"1\" class=\"dataframe\">\n",
       "  <thead>\n",
       "    <tr style=\"text-align: right;\">\n",
       "      <th></th>\n",
       "      <th>total_images</th>\n",
       "      <th>last_price</th>\n",
       "      <th>total_area</th>\n",
       "      <th>first_day_exposition</th>\n",
       "      <th>rooms</th>\n",
       "      <th>ceiling_height</th>\n",
       "      <th>floors_total</th>\n",
       "      <th>living_area</th>\n",
       "      <th>floor</th>\n",
       "      <th>is_apartment</th>\n",
       "      <th>...</th>\n",
       "      <th>kitchen_area</th>\n",
       "      <th>balcony</th>\n",
       "      <th>locality_name</th>\n",
       "      <th>airports_nearest</th>\n",
       "      <th>cityCenters_nearest</th>\n",
       "      <th>parks_around3000</th>\n",
       "      <th>parks_nearest</th>\n",
       "      <th>ponds_around3000</th>\n",
       "      <th>ponds_nearest</th>\n",
       "      <th>days_exposition</th>\n",
       "    </tr>\n",
       "  </thead>\n",
       "  <tbody>\n",
       "    <tr>\n",
       "      <th>12971</th>\n",
       "      <td>19</td>\n",
       "      <td>763000000.0</td>\n",
       "      <td>400.0</td>\n",
       "      <td>2017-09-30</td>\n",
       "      <td>7</td>\n",
       "      <td>2.65</td>\n",
       "      <td>10.0</td>\n",
       "      <td>250.0</td>\n",
       "      <td>10</td>\n",
       "      <td>False</td>\n",
       "      <td>...</td>\n",
       "      <td>9.1</td>\n",
       "      <td>2.0</td>\n",
       "      <td>Санкт-Петербург</td>\n",
       "      <td>25108.0</td>\n",
       "      <td>3956.0</td>\n",
       "      <td>1.0</td>\n",
       "      <td>530.0</td>\n",
       "      <td>3.0</td>\n",
       "      <td>756.0</td>\n",
       "      <td>33.0</td>\n",
       "    </tr>\n",
       "    <tr>\n",
       "      <th>19540</th>\n",
       "      <td>8</td>\n",
       "      <td>420000000.0</td>\n",
       "      <td>900.0</td>\n",
       "      <td>2017-12-06</td>\n",
       "      <td>12</td>\n",
       "      <td>2.80</td>\n",
       "      <td>25.0</td>\n",
       "      <td>409.7</td>\n",
       "      <td>25</td>\n",
       "      <td>False</td>\n",
       "      <td>...</td>\n",
       "      <td>112.0</td>\n",
       "      <td>0.0</td>\n",
       "      <td>Санкт-Петербург</td>\n",
       "      <td>30706.0</td>\n",
       "      <td>7877.0</td>\n",
       "      <td>0.0</td>\n",
       "      <td>NaN</td>\n",
       "      <td>2.0</td>\n",
       "      <td>318.0</td>\n",
       "      <td>106.0</td>\n",
       "    </tr>\n",
       "    <tr>\n",
       "      <th>14706</th>\n",
       "      <td>15</td>\n",
       "      <td>401300000.0</td>\n",
       "      <td>401.0</td>\n",
       "      <td>2016-02-20</td>\n",
       "      <td>5</td>\n",
       "      <td>2.65</td>\n",
       "      <td>9.0</td>\n",
       "      <td>204.0</td>\n",
       "      <td>9</td>\n",
       "      <td>False</td>\n",
       "      <td>...</td>\n",
       "      <td>24.0</td>\n",
       "      <td>3.0</td>\n",
       "      <td>Санкт-Петербург</td>\n",
       "      <td>21912.0</td>\n",
       "      <td>2389.0</td>\n",
       "      <td>1.0</td>\n",
       "      <td>545.0</td>\n",
       "      <td>1.0</td>\n",
       "      <td>478.0</td>\n",
       "      <td>393.0</td>\n",
       "    </tr>\n",
       "    <tr>\n",
       "      <th>1436</th>\n",
       "      <td>19</td>\n",
       "      <td>330000000.0</td>\n",
       "      <td>190.0</td>\n",
       "      <td>2018-04-04</td>\n",
       "      <td>3</td>\n",
       "      <td>3.50</td>\n",
       "      <td>7.0</td>\n",
       "      <td>95.0</td>\n",
       "      <td>5</td>\n",
       "      <td>False</td>\n",
       "      <td>...</td>\n",
       "      <td>40.0</td>\n",
       "      <td>0.0</td>\n",
       "      <td>Санкт-Петербург</td>\n",
       "      <td>23011.0</td>\n",
       "      <td>1197.0</td>\n",
       "      <td>3.0</td>\n",
       "      <td>519.0</td>\n",
       "      <td>3.0</td>\n",
       "      <td>285.0</td>\n",
       "      <td>233.0</td>\n",
       "    </tr>\n",
       "    <tr>\n",
       "      <th>15651</th>\n",
       "      <td>20</td>\n",
       "      <td>300000000.0</td>\n",
       "      <td>618.0</td>\n",
       "      <td>2017-12-18</td>\n",
       "      <td>7</td>\n",
       "      <td>3.40</td>\n",
       "      <td>7.0</td>\n",
       "      <td>258.0</td>\n",
       "      <td>5</td>\n",
       "      <td>False</td>\n",
       "      <td>...</td>\n",
       "      <td>70.0</td>\n",
       "      <td>0.0</td>\n",
       "      <td>Санкт-Петербург</td>\n",
       "      <td>32440.0</td>\n",
       "      <td>5297.0</td>\n",
       "      <td>0.0</td>\n",
       "      <td>NaN</td>\n",
       "      <td>2.0</td>\n",
       "      <td>198.0</td>\n",
       "      <td>111.0</td>\n",
       "    </tr>\n",
       "    <tr>\n",
       "      <th>22831</th>\n",
       "      <td>18</td>\n",
       "      <td>289238400.0</td>\n",
       "      <td>187.5</td>\n",
       "      <td>2019-03-19</td>\n",
       "      <td>2</td>\n",
       "      <td>3.37</td>\n",
       "      <td>6.0</td>\n",
       "      <td>63.7</td>\n",
       "      <td>6</td>\n",
       "      <td>False</td>\n",
       "      <td>...</td>\n",
       "      <td>30.2</td>\n",
       "      <td>0.0</td>\n",
       "      <td>Санкт-Петербург</td>\n",
       "      <td>22494.0</td>\n",
       "      <td>1073.0</td>\n",
       "      <td>3.0</td>\n",
       "      <td>386.0</td>\n",
       "      <td>3.0</td>\n",
       "      <td>188.0</td>\n",
       "      <td>95.0</td>\n",
       "    </tr>\n",
       "    <tr>\n",
       "      <th>16461</th>\n",
       "      <td>17</td>\n",
       "      <td>245000000.0</td>\n",
       "      <td>285.7</td>\n",
       "      <td>2017-04-10</td>\n",
       "      <td>6</td>\n",
       "      <td>3.35</td>\n",
       "      <td>7.0</td>\n",
       "      <td>182.8</td>\n",
       "      <td>4</td>\n",
       "      <td>False</td>\n",
       "      <td>...</td>\n",
       "      <td>29.8</td>\n",
       "      <td>0.0</td>\n",
       "      <td>Санкт-Петербург</td>\n",
       "      <td>33143.0</td>\n",
       "      <td>6235.0</td>\n",
       "      <td>3.0</td>\n",
       "      <td>400.0</td>\n",
       "      <td>3.0</td>\n",
       "      <td>140.0</td>\n",
       "      <td>249.0</td>\n",
       "    </tr>\n",
       "    <tr>\n",
       "      <th>13749</th>\n",
       "      <td>7</td>\n",
       "      <td>240000000.0</td>\n",
       "      <td>410.0</td>\n",
       "      <td>2017-04-01</td>\n",
       "      <td>6</td>\n",
       "      <td>3.40</td>\n",
       "      <td>7.0</td>\n",
       "      <td>218.0</td>\n",
       "      <td>7</td>\n",
       "      <td>False</td>\n",
       "      <td>...</td>\n",
       "      <td>40.0</td>\n",
       "      <td>0.0</td>\n",
       "      <td>Санкт-Петербург</td>\n",
       "      <td>32440.0</td>\n",
       "      <td>5297.0</td>\n",
       "      <td>0.0</td>\n",
       "      <td>NaN</td>\n",
       "      <td>2.0</td>\n",
       "      <td>198.0</td>\n",
       "      <td>199.0</td>\n",
       "    </tr>\n",
       "    <tr>\n",
       "      <th>5893</th>\n",
       "      <td>3</td>\n",
       "      <td>230000000.0</td>\n",
       "      <td>500.0</td>\n",
       "      <td>2017-05-31</td>\n",
       "      <td>6</td>\n",
       "      <td>2.65</td>\n",
       "      <td>7.0</td>\n",
       "      <td>30.0</td>\n",
       "      <td>7</td>\n",
       "      <td>False</td>\n",
       "      <td>...</td>\n",
       "      <td>40.0</td>\n",
       "      <td>0.0</td>\n",
       "      <td>Санкт-Петербург</td>\n",
       "      <td>32440.0</td>\n",
       "      <td>5297.0</td>\n",
       "      <td>0.0</td>\n",
       "      <td>NaN</td>\n",
       "      <td>2.0</td>\n",
       "      <td>198.0</td>\n",
       "      <td>50.0</td>\n",
       "    </tr>\n",
       "    <tr>\n",
       "      <th>8900</th>\n",
       "      <td>13</td>\n",
       "      <td>190870000.0</td>\n",
       "      <td>268.0</td>\n",
       "      <td>2016-03-25</td>\n",
       "      <td>3</td>\n",
       "      <td>2.65</td>\n",
       "      <td>8.0</td>\n",
       "      <td>132.0</td>\n",
       "      <td>7</td>\n",
       "      <td>False</td>\n",
       "      <td>...</td>\n",
       "      <td>40.0</td>\n",
       "      <td>0.0</td>\n",
       "      <td>Санкт-Петербург</td>\n",
       "      <td>32440.0</td>\n",
       "      <td>5297.0</td>\n",
       "      <td>0.0</td>\n",
       "      <td>NaN</td>\n",
       "      <td>2.0</td>\n",
       "      <td>198.0</td>\n",
       "      <td>901.0</td>\n",
       "    </tr>\n",
       "  </tbody>\n",
       "</table>\n",
       "<p>10 rows × 22 columns</p>\n",
       "</div>"
      ],
      "text/plain": [
       "       total_images   last_price  total_area first_day_exposition  rooms  \\\n",
       "12971            19  763000000.0       400.0           2017-09-30      7   \n",
       "19540             8  420000000.0       900.0           2017-12-06     12   \n",
       "14706            15  401300000.0       401.0           2016-02-20      5   \n",
       "1436             19  330000000.0       190.0           2018-04-04      3   \n",
       "15651            20  300000000.0       618.0           2017-12-18      7   \n",
       "22831            18  289238400.0       187.5           2019-03-19      2   \n",
       "16461            17  245000000.0       285.7           2017-04-10      6   \n",
       "13749             7  240000000.0       410.0           2017-04-01      6   \n",
       "5893              3  230000000.0       500.0           2017-05-31      6   \n",
       "8900             13  190870000.0       268.0           2016-03-25      3   \n",
       "\n",
       "       ceiling_height  floors_total  living_area  floor  is_apartment  ...  \\\n",
       "12971            2.65          10.0        250.0     10         False  ...   \n",
       "19540            2.80          25.0        409.7     25         False  ...   \n",
       "14706            2.65           9.0        204.0      9         False  ...   \n",
       "1436             3.50           7.0         95.0      5         False  ...   \n",
       "15651            3.40           7.0        258.0      5         False  ...   \n",
       "22831            3.37           6.0         63.7      6         False  ...   \n",
       "16461            3.35           7.0        182.8      4         False  ...   \n",
       "13749            3.40           7.0        218.0      7         False  ...   \n",
       "5893             2.65           7.0         30.0      7         False  ...   \n",
       "8900             2.65           8.0        132.0      7         False  ...   \n",
       "\n",
       "       kitchen_area  balcony    locality_name  airports_nearest  \\\n",
       "12971           9.1      2.0  Санкт-Петербург           25108.0   \n",
       "19540         112.0      0.0  Санкт-Петербург           30706.0   \n",
       "14706          24.0      3.0  Санкт-Петербург           21912.0   \n",
       "1436           40.0      0.0  Санкт-Петербург           23011.0   \n",
       "15651          70.0      0.0  Санкт-Петербург           32440.0   \n",
       "22831          30.2      0.0  Санкт-Петербург           22494.0   \n",
       "16461          29.8      0.0  Санкт-Петербург           33143.0   \n",
       "13749          40.0      0.0  Санкт-Петербург           32440.0   \n",
       "5893           40.0      0.0  Санкт-Петербург           32440.0   \n",
       "8900           40.0      0.0  Санкт-Петербург           32440.0   \n",
       "\n",
       "      cityCenters_nearest  parks_around3000  parks_nearest  ponds_around3000  \\\n",
       "12971              3956.0               1.0          530.0               3.0   \n",
       "19540              7877.0               0.0            NaN               2.0   \n",
       "14706              2389.0               1.0          545.0               1.0   \n",
       "1436               1197.0               3.0          519.0               3.0   \n",
       "15651              5297.0               0.0            NaN               2.0   \n",
       "22831              1073.0               3.0          386.0               3.0   \n",
       "16461              6235.0               3.0          400.0               3.0   \n",
       "13749              5297.0               0.0            NaN               2.0   \n",
       "5893               5297.0               0.0            NaN               2.0   \n",
       "8900               5297.0               0.0            NaN               2.0   \n",
       "\n",
       "       ponds_nearest  days_exposition  \n",
       "12971          756.0             33.0  \n",
       "19540          318.0            106.0  \n",
       "14706          478.0            393.0  \n",
       "1436           285.0            233.0  \n",
       "15651          198.0            111.0  \n",
       "22831          188.0             95.0  \n",
       "16461          140.0            249.0  \n",
       "13749          198.0            199.0  \n",
       "5893           198.0             50.0  \n",
       "8900           198.0            901.0  \n",
       "\n",
       "[10 rows x 22 columns]"
      ]
     },
     "execution_count": 51,
     "metadata": {},
     "output_type": "execute_result"
    }
   ],
   "source": [
    "data.sort_values(by='last_price', ascending=False).head(10)"
   ]
  },
  {
   "cell_type": "markdown",
   "metadata": {},
   "source": [
    "Некоторые квартиры из этого списка выглядят правдоподобно. Но у некоторых очень подозрительные параметры. Некоторые квартиры всего 30 и 60 метров, при этом их стоимость около 200 млн руб. А площадь кухни самой дорогой квартиры Санкт-Петербурга всего 9 метров. Возможно, эти квартиры находятся в исторических домах и большая стоимость связана с этим. Но все же они сильно выбиваются из всей статистики и, возможно, функционируют по особым правилам. Я думаю, что лучше убрать из выборки аномальные квартиры, стоимостью более 100 млн руб., так как невозможно до конца понять природу их высокой стоимости. При этом выборка от этого вряд ли сильно пострадает и законы рынка недвижимости не исказятся."
   ]
  },
  {
   "cell_type": "code",
   "execution_count": 52,
   "metadata": {},
   "outputs": [],
   "source": [
    "#удалим квартиры с аномально высокой стоимостью\n",
    "data = data.query('last_price < 100000000')"
   ]
  },
  {
   "cell_type": "code",
   "execution_count": 53,
   "metadata": {},
   "outputs": [
    {
     "data": {
      "text/plain": [
       "23662"
      ]
     },
     "execution_count": 53,
     "metadata": {},
     "output_type": "execute_result"
    }
   ],
   "source": [
    "#посчитаем, сколько квартир осталось\n",
    "data['last_price'].count()"
   ]
  },
  {
   "cell_type": "markdown",
   "metadata": {},
   "source": [
    "Было 23699 квартир, стало 23662. Выборка существенно не пострадала. "
   ]
  },
  {
   "cell_type": "markdown",
   "metadata": {},
   "source": [
    "Идем дальше, следующий столбец с аномалиями - 'total_area'."
   ]
  },
  {
   "cell_type": "code",
   "execution_count": 54,
   "metadata": {
    "scrolled": true
   },
   "outputs": [
    {
     "data": {
      "text/plain": [
       "count    23662.000000\n",
       "mean        59.928048\n",
       "std         33.471517\n",
       "min         12.000000\n",
       "25%         40.000000\n",
       "50%         52.000000\n",
       "75%         69.600000\n",
       "max        590.000000\n",
       "Name: total_area, dtype: float64"
      ]
     },
     "execution_count": 54,
     "metadata": {},
     "output_type": "execute_result"
    }
   ],
   "source": [
    "data['total_area'].describe()"
   ]
  },
  {
   "cell_type": "markdown",
   "metadata": {},
   "source": [
    "Средний размер квартир - 50 метров, медианный - 52. Максимальный - 590. Посмотрим, как много таким больших квартир."
   ]
  },
  {
   "cell_type": "code",
   "execution_count": 55,
   "metadata": {
    "scrolled": true
   },
   "outputs": [
    {
     "data": {
      "text/plain": [
       "<AxesSubplot:>"
      ]
     },
     "execution_count": 55,
     "metadata": {},
     "output_type": "execute_result"
    },
    {
     "data": {
      "image/png": "[encoded data removed]",
      "text/plain": [
       "<Figure size 432x288 with 1 Axes>"
      ]
     },
     "metadata": {
      "needs_background": "light"
     },
     "output_type": "display_data"
    }
   ],
   "source": [
    "data.boxplot(column='total_area')"
   ]
  },
  {
   "cell_type": "markdown",
   "metadata": {},
   "source": [
    "Боксплот определил аномальные квартиры те, размер которых примерно больше 110 метров. Действительно, в среднем так и есть. Квартиры большего размера уже считаются элитными и вряд ли доступны среднего человеку. Однако таких квартир очень много, и трудно выделить какое-то очень редкое значение, возможно, только самую крупную квартиру размером 590 метров. Но не вижу смысла удалить одну только эту квартиру. Думаю, что можно оставить все, как есть."
   ]
  },
  {
   "cell_type": "markdown",
   "metadata": {},
   "source": [
    "В столбце 'first_day_exposition' все в порядке, поэтому сразу перейдем к столбцу 'rooms'."
   ]
  },
  {
   "cell_type": "code",
   "execution_count": 56,
   "metadata": {
    "scrolled": true
   },
   "outputs": [
    {
     "data": {
      "text/plain": [
       "count    23662.000000\n",
       "mean         2.065717\n",
       "std          1.069592\n",
       "min          0.000000\n",
       "25%          1.000000\n",
       "50%          2.000000\n",
       "75%          3.000000\n",
       "max         19.000000\n",
       "Name: rooms, dtype: float64"
      ]
     },
     "execution_count": 56,
     "metadata": {},
     "output_type": "execute_result"
    }
   ],
   "source": [
    "data['rooms'].describe()"
   ]
  },
  {
   "cell_type": "markdown",
   "metadata": {},
   "source": [
    "В среднем в квартирах 2 комнаты. Есть квартира с 19 комнатами, однако также настораживают квартиры с 0 комнат. "
   ]
  },
  {
   "cell_type": "code",
   "execution_count": 57,
   "metadata": {},
   "outputs": [
    {
     "data": {
      "text/plain": [
       "<AxesSubplot:>"
      ]
     },
     "execution_count": 57,
     "metadata": {},
     "output_type": "execute_result"
    },
    {
     "data": {
      "image/png": "[encoded data removed]",
      "text/plain": [
       "<Figure size 432x288 with 1 Axes>"
      ]
     },
     "metadata": {
      "needs_background": "light"
     },
     "output_type": "display_data"
    }
   ],
   "source": [
    "data.boxplot(column='rooms')"
   ]
  },
  {
   "cell_type": "code",
   "execution_count": 58,
   "metadata": {
    "scrolled": false
   },
   "outputs": [
    {
     "data": {
      "text/html": [
       "<div>\n",
       "<style scoped>\n",
       "    .dataframe tbody tr th:only-of-type {\n",
       "        vertical-align: middle;\n",
       "    }\n",
       "\n",
       "    .dataframe tbody tr th {\n",
       "        vertical-align: top;\n",
       "    }\n",
       "\n",
       "    .dataframe thead th {\n",
       "        text-align: right;\n",
       "    }\n",
       "</style>\n",
       "<table border=\"1\" class=\"dataframe\">\n",
       "  <thead>\n",
       "    <tr style=\"text-align: right;\">\n",
       "      <th></th>\n",
       "      <th>total_images</th>\n",
       "      <th>last_price</th>\n",
       "      <th>total_area</th>\n",
       "      <th>first_day_exposition</th>\n",
       "      <th>rooms</th>\n",
       "      <th>ceiling_height</th>\n",
       "      <th>floors_total</th>\n",
       "      <th>living_area</th>\n",
       "      <th>floor</th>\n",
       "      <th>is_apartment</th>\n",
       "      <th>...</th>\n",
       "      <th>kitchen_area</th>\n",
       "      <th>balcony</th>\n",
       "      <th>locality_name</th>\n",
       "      <th>airports_nearest</th>\n",
       "      <th>cityCenters_nearest</th>\n",
       "      <th>parks_around3000</th>\n",
       "      <th>parks_nearest</th>\n",
       "      <th>ponds_around3000</th>\n",
       "      <th>ponds_nearest</th>\n",
       "      <th>days_exposition</th>\n",
       "    </tr>\n",
       "  </thead>\n",
       "  <tbody>\n",
       "    <tr>\n",
       "      <th>14498</th>\n",
       "      <td>6</td>\n",
       "      <td>32250000.0</td>\n",
       "      <td>374.6</td>\n",
       "      <td>2018-06-09</td>\n",
       "      <td>19</td>\n",
       "      <td>2.65</td>\n",
       "      <td>5.0</td>\n",
       "      <td>264.5</td>\n",
       "      <td>2</td>\n",
       "      <td>False</td>\n",
       "      <td>...</td>\n",
       "      <td>27.6</td>\n",
       "      <td>0.0</td>\n",
       "      <td>Санкт-Петербург</td>\n",
       "      <td>19497.0</td>\n",
       "      <td>3574.0</td>\n",
       "      <td>0.0</td>\n",
       "      <td>NaN</td>\n",
       "      <td>2.0</td>\n",
       "      <td>548.0</td>\n",
       "      <td>114.0</td>\n",
       "    </tr>\n",
       "    <tr>\n",
       "      <th>18848</th>\n",
       "      <td>6</td>\n",
       "      <td>28500000.0</td>\n",
       "      <td>270.0</td>\n",
       "      <td>2015-03-02</td>\n",
       "      <td>16</td>\n",
       "      <td>3.00</td>\n",
       "      <td>4.0</td>\n",
       "      <td>180.0</td>\n",
       "      <td>4</td>\n",
       "      <td>False</td>\n",
       "      <td>...</td>\n",
       "      <td>13.0</td>\n",
       "      <td>1.0</td>\n",
       "      <td>Санкт-Петербург</td>\n",
       "      <td>23575.0</td>\n",
       "      <td>4142.0</td>\n",
       "      <td>1.0</td>\n",
       "      <td>516.0</td>\n",
       "      <td>0.0</td>\n",
       "      <td>NaN</td>\n",
       "      <td>1365.0</td>\n",
       "    </tr>\n",
       "    <tr>\n",
       "      <th>5358</th>\n",
       "      <td>20</td>\n",
       "      <td>65000000.0</td>\n",
       "      <td>590.0</td>\n",
       "      <td>2019-02-14</td>\n",
       "      <td>15</td>\n",
       "      <td>3.50</td>\n",
       "      <td>6.0</td>\n",
       "      <td>409.0</td>\n",
       "      <td>3</td>\n",
       "      <td>False</td>\n",
       "      <td>...</td>\n",
       "      <td>100.0</td>\n",
       "      <td>0.0</td>\n",
       "      <td>Санкт-Петербург</td>\n",
       "      <td>24447.0</td>\n",
       "      <td>4666.0</td>\n",
       "      <td>1.0</td>\n",
       "      <td>767.0</td>\n",
       "      <td>0.0</td>\n",
       "      <td>NaN</td>\n",
       "      <td>14.0</td>\n",
       "    </tr>\n",
       "    <tr>\n",
       "      <th>20829</th>\n",
       "      <td>6</td>\n",
       "      <td>28659000.0</td>\n",
       "      <td>245.4</td>\n",
       "      <td>2016-03-31</td>\n",
       "      <td>14</td>\n",
       "      <td>2.65</td>\n",
       "      <td>4.0</td>\n",
       "      <td>168.3</td>\n",
       "      <td>2</td>\n",
       "      <td>False</td>\n",
       "      <td>...</td>\n",
       "      <td>25.9</td>\n",
       "      <td>0.0</td>\n",
       "      <td>Санкт-Петербург</td>\n",
       "      <td>21104.0</td>\n",
       "      <td>2054.0</td>\n",
       "      <td>3.0</td>\n",
       "      <td>541.0</td>\n",
       "      <td>2.0</td>\n",
       "      <td>118.0</td>\n",
       "      <td>95.0</td>\n",
       "    </tr>\n",
       "    <tr>\n",
       "      <th>866</th>\n",
       "      <td>5</td>\n",
       "      <td>25000000.0</td>\n",
       "      <td>363.0</td>\n",
       "      <td>2017-12-23</td>\n",
       "      <td>14</td>\n",
       "      <td>3.16</td>\n",
       "      <td>5.0</td>\n",
       "      <td>222.0</td>\n",
       "      <td>4</td>\n",
       "      <td>False</td>\n",
       "      <td>...</td>\n",
       "      <td>16.6</td>\n",
       "      <td>0.0</td>\n",
       "      <td>Санкт-Петербург</td>\n",
       "      <td>38076.0</td>\n",
       "      <td>7950.0</td>\n",
       "      <td>0.0</td>\n",
       "      <td>NaN</td>\n",
       "      <td>2.0</td>\n",
       "      <td>435.0</td>\n",
       "      <td>418.0</td>\n",
       "    </tr>\n",
       "    <tr>\n",
       "      <th>9688</th>\n",
       "      <td>8</td>\n",
       "      <td>33000000.0</td>\n",
       "      <td>194.1</td>\n",
       "      <td>2017-02-07</td>\n",
       "      <td>11</td>\n",
       "      <td>3.43</td>\n",
       "      <td>5.0</td>\n",
       "      <td>129.0</td>\n",
       "      <td>2</td>\n",
       "      <td>False</td>\n",
       "      <td>...</td>\n",
       "      <td>11.9</td>\n",
       "      <td>0.0</td>\n",
       "      <td>Санкт-Петербург</td>\n",
       "      <td>21469.0</td>\n",
       "      <td>1015.0</td>\n",
       "      <td>1.0</td>\n",
       "      <td>686.0</td>\n",
       "      <td>2.0</td>\n",
       "      <td>66.0</td>\n",
       "      <td>813.0</td>\n",
       "    </tr>\n",
       "    <tr>\n",
       "      <th>648</th>\n",
       "      <td>3</td>\n",
       "      <td>17500000.0</td>\n",
       "      <td>183.7</td>\n",
       "      <td>2018-07-01</td>\n",
       "      <td>11</td>\n",
       "      <td>3.40</td>\n",
       "      <td>7.0</td>\n",
       "      <td>138.8</td>\n",
       "      <td>7</td>\n",
       "      <td>False</td>\n",
       "      <td>...</td>\n",
       "      <td>13.3</td>\n",
       "      <td>0.0</td>\n",
       "      <td>Санкт-Петербург</td>\n",
       "      <td>23606.0</td>\n",
       "      <td>3148.0</td>\n",
       "      <td>0.0</td>\n",
       "      <td>NaN</td>\n",
       "      <td>0.0</td>\n",
       "      <td>NaN</td>\n",
       "      <td>95.0</td>\n",
       "    </tr>\n",
       "    <tr>\n",
       "      <th>4149</th>\n",
       "      <td>6</td>\n",
       "      <td>23000000.0</td>\n",
       "      <td>272.6</td>\n",
       "      <td>2018-01-11</td>\n",
       "      <td>10</td>\n",
       "      <td>3.14</td>\n",
       "      <td>7.0</td>\n",
       "      <td>145.9</td>\n",
       "      <td>7</td>\n",
       "      <td>False</td>\n",
       "      <td>...</td>\n",
       "      <td>18.8</td>\n",
       "      <td>1.0</td>\n",
       "      <td>Санкт-Петербург</td>\n",
       "      <td>10726.0</td>\n",
       "      <td>12169.0</td>\n",
       "      <td>1.0</td>\n",
       "      <td>191.0</td>\n",
       "      <td>1.0</td>\n",
       "      <td>531.0</td>\n",
       "      <td>95.0</td>\n",
       "    </tr>\n",
       "    <tr>\n",
       "      <th>18891</th>\n",
       "      <td>11</td>\n",
       "      <td>40000000.0</td>\n",
       "      <td>290.0</td>\n",
       "      <td>2016-06-21</td>\n",
       "      <td>10</td>\n",
       "      <td>3.50</td>\n",
       "      <td>6.0</td>\n",
       "      <td>189.4</td>\n",
       "      <td>6</td>\n",
       "      <td>False</td>\n",
       "      <td>...</td>\n",
       "      <td>30.0</td>\n",
       "      <td>1.0</td>\n",
       "      <td>Санкт-Петербург</td>\n",
       "      <td>26229.0</td>\n",
       "      <td>4932.0</td>\n",
       "      <td>3.0</td>\n",
       "      <td>316.0</td>\n",
       "      <td>1.0</td>\n",
       "      <td>227.0</td>\n",
       "      <td>77.0</td>\n",
       "    </tr>\n",
       "    <tr>\n",
       "      <th>18119</th>\n",
       "      <td>4</td>\n",
       "      <td>15500000.0</td>\n",
       "      <td>216.1</td>\n",
       "      <td>2016-07-04</td>\n",
       "      <td>10</td>\n",
       "      <td>3.15</td>\n",
       "      <td>5.0</td>\n",
       "      <td>161.4</td>\n",
       "      <td>2</td>\n",
       "      <td>False</td>\n",
       "      <td>...</td>\n",
       "      <td>19.8</td>\n",
       "      <td>0.0</td>\n",
       "      <td>Санкт-Петербург</td>\n",
       "      <td>24353.0</td>\n",
       "      <td>4921.0</td>\n",
       "      <td>1.0</td>\n",
       "      <td>368.0</td>\n",
       "      <td>0.0</td>\n",
       "      <td>NaN</td>\n",
       "      <td>11.0</td>\n",
       "    </tr>\n",
       "  </tbody>\n",
       "</table>\n",
       "<p>10 rows × 22 columns</p>\n",
       "</div>"
      ],
      "text/plain": [
       "       total_images  last_price  total_area first_day_exposition  rooms  \\\n",
       "14498             6  32250000.0       374.6           2018-06-09     19   \n",
       "18848             6  28500000.0       270.0           2015-03-02     16   \n",
       "5358             20  65000000.0       590.0           2019-02-14     15   \n",
       "20829             6  28659000.0       245.4           2016-03-31     14   \n",
       "866               5  25000000.0       363.0           2017-12-23     14   \n",
       "9688              8  33000000.0       194.1           2017-02-07     11   \n",
       "648               3  17500000.0       183.7           2018-07-01     11   \n",
       "4149              6  23000000.0       272.6           2018-01-11     10   \n",
       "18891            11  40000000.0       290.0           2016-06-21     10   \n",
       "18119             4  15500000.0       216.1           2016-07-04     10   \n",
       "\n",
       "       ceiling_height  floors_total  living_area  floor  is_apartment  ...  \\\n",
       "14498            2.65           5.0        264.5      2         False  ...   \n",
       "18848            3.00           4.0        180.0      4         False  ...   \n",
       "5358             3.50           6.0        409.0      3         False  ...   \n",
       "20829            2.65           4.0        168.3      2         False  ...   \n",
       "866              3.16           5.0        222.0      4         False  ...   \n",
       "9688             3.43           5.0        129.0      2         False  ...   \n",
       "648              3.40           7.0        138.8      7         False  ...   \n",
       "4149             3.14           7.0        145.9      7         False  ...   \n",
       "18891            3.50           6.0        189.4      6         False  ...   \n",
       "18119            3.15           5.0        161.4      2         False  ...   \n",
       "\n",
       "       kitchen_area  balcony    locality_name  airports_nearest  \\\n",
       "14498          27.6      0.0  Санкт-Петербург           19497.0   \n",
       "18848          13.0      1.0  Санкт-Петербург           23575.0   \n",
       "5358          100.0      0.0  Санкт-Петербург           24447.0   \n",
       "20829          25.9      0.0  Санкт-Петербург           21104.0   \n",
       "866            16.6      0.0  Санкт-Петербург           38076.0   \n",
       "9688           11.9      0.0  Санкт-Петербург           21469.0   \n",
       "648            13.3      0.0  Санкт-Петербург           23606.0   \n",
       "4149           18.8      1.0  Санкт-Петербург           10726.0   \n",
       "18891          30.0      1.0  Санкт-Петербург           26229.0   \n",
       "18119          19.8      0.0  Санкт-Петербург           24353.0   \n",
       "\n",
       "      cityCenters_nearest  parks_around3000  parks_nearest  ponds_around3000  \\\n",
       "14498              3574.0               0.0            NaN               2.0   \n",
       "18848              4142.0               1.0          516.0               0.0   \n",
       "5358               4666.0               1.0          767.0               0.0   \n",
       "20829              2054.0               3.0          541.0               2.0   \n",
       "866                7950.0               0.0            NaN               2.0   \n",
       "9688               1015.0               1.0          686.0               2.0   \n",
       "648                3148.0               0.0            NaN               0.0   \n",
       "4149              12169.0               1.0          191.0               1.0   \n",
       "18891              4932.0               3.0          316.0               1.0   \n",
       "18119              4921.0               1.0          368.0               0.0   \n",
       "\n",
       "       ponds_nearest  days_exposition  \n",
       "14498          548.0            114.0  \n",
       "18848            NaN           1365.0  \n",
       "5358             NaN             14.0  \n",
       "20829          118.0             95.0  \n",
       "866            435.0            418.0  \n",
       "9688            66.0            813.0  \n",
       "648              NaN             95.0  \n",
       "4149           531.0             95.0  \n",
       "18891          227.0             77.0  \n",
       "18119            NaN             11.0  \n",
       "\n",
       "[10 rows x 22 columns]"
      ]
     },
     "execution_count": 58,
     "metadata": {},
     "output_type": "execute_result"
    }
   ],
   "source": [
    "data.sort_values(by='rooms', ascending=False).head(10)"
   ]
  },
  {
   "cell_type": "markdown",
   "metadata": {},
   "source": [
    "Лишь небольшое количество квартир имеют 6 и более комнат, и как видно из таблицы выше, у них очень большая площадь, что логично. Не думаю, что нужно их удалять. Природа аномалий ясна, в Санкт-Петербурге действительно есть такие огромные квартиры в доходных домах. Другой вопрос, что за квартиры с 0 комнат."
   ]
  },
  {
   "cell_type": "code",
   "execution_count": 59,
   "metadata": {
    "scrolled": false
   },
   "outputs": [
    {
     "data": {
      "text/html": [
       "<div>\n",
       "<style scoped>\n",
       "    .dataframe tbody tr th:only-of-type {\n",
       "        vertical-align: middle;\n",
       "    }\n",
       "\n",
       "    .dataframe tbody tr th {\n",
       "        vertical-align: top;\n",
       "    }\n",
       "\n",
       "    .dataframe thead th {\n",
       "        text-align: right;\n",
       "    }\n",
       "</style>\n",
       "<table border=\"1\" class=\"dataframe\">\n",
       "  <thead>\n",
       "    <tr style=\"text-align: right;\">\n",
       "      <th></th>\n",
       "      <th>total_images</th>\n",
       "      <th>last_price</th>\n",
       "      <th>total_area</th>\n",
       "      <th>first_day_exposition</th>\n",
       "      <th>rooms</th>\n",
       "      <th>ceiling_height</th>\n",
       "      <th>floors_total</th>\n",
       "      <th>living_area</th>\n",
       "      <th>floor</th>\n",
       "      <th>is_apartment</th>\n",
       "      <th>...</th>\n",
       "      <th>kitchen_area</th>\n",
       "      <th>balcony</th>\n",
       "      <th>locality_name</th>\n",
       "      <th>airports_nearest</th>\n",
       "      <th>cityCenters_nearest</th>\n",
       "      <th>parks_around3000</th>\n",
       "      <th>parks_nearest</th>\n",
       "      <th>ponds_around3000</th>\n",
       "      <th>ponds_nearest</th>\n",
       "      <th>days_exposition</th>\n",
       "    </tr>\n",
       "  </thead>\n",
       "  <tbody>\n",
       "    <tr>\n",
       "      <th>144</th>\n",
       "      <td>1</td>\n",
       "      <td>2450000.0</td>\n",
       "      <td>27.00</td>\n",
       "      <td>2017-03-30</td>\n",
       "      <td>0</td>\n",
       "      <td>2.65</td>\n",
       "      <td>24.0</td>\n",
       "      <td>15.50</td>\n",
       "      <td>2</td>\n",
       "      <td>False</td>\n",
       "      <td>...</td>\n",
       "      <td>9.1</td>\n",
       "      <td>2.0</td>\n",
       "      <td>Мурино</td>\n",
       "      <td>NaN</td>\n",
       "      <td>NaN</td>\n",
       "      <td>NaN</td>\n",
       "      <td>NaN</td>\n",
       "      <td>NaN</td>\n",
       "      <td>NaN</td>\n",
       "      <td>181.0</td>\n",
       "    </tr>\n",
       "    <tr>\n",
       "      <th>349</th>\n",
       "      <td>4</td>\n",
       "      <td>2320000.0</td>\n",
       "      <td>25.00</td>\n",
       "      <td>2017-09-27</td>\n",
       "      <td>0</td>\n",
       "      <td>2.65</td>\n",
       "      <td>14.0</td>\n",
       "      <td>17.00</td>\n",
       "      <td>1</td>\n",
       "      <td>False</td>\n",
       "      <td>...</td>\n",
       "      <td>9.1</td>\n",
       "      <td>0.0</td>\n",
       "      <td>Кудрово</td>\n",
       "      <td>NaN</td>\n",
       "      <td>NaN</td>\n",
       "      <td>NaN</td>\n",
       "      <td>NaN</td>\n",
       "      <td>NaN</td>\n",
       "      <td>NaN</td>\n",
       "      <td>45.0</td>\n",
       "    </tr>\n",
       "    <tr>\n",
       "      <th>440</th>\n",
       "      <td>8</td>\n",
       "      <td>2480000.0</td>\n",
       "      <td>27.11</td>\n",
       "      <td>2018-03-12</td>\n",
       "      <td>0</td>\n",
       "      <td>2.65</td>\n",
       "      <td>17.0</td>\n",
       "      <td>24.75</td>\n",
       "      <td>4</td>\n",
       "      <td>False</td>\n",
       "      <td>...</td>\n",
       "      <td>9.1</td>\n",
       "      <td>2.0</td>\n",
       "      <td>Санкт-Петербург</td>\n",
       "      <td>38171.0</td>\n",
       "      <td>15015.0</td>\n",
       "      <td>0.0</td>\n",
       "      <td>NaN</td>\n",
       "      <td>2.0</td>\n",
       "      <td>982.0</td>\n",
       "      <td>64.0</td>\n",
       "    </tr>\n",
       "    <tr>\n",
       "      <th>508</th>\n",
       "      <td>0</td>\n",
       "      <td>3375000.0</td>\n",
       "      <td>34.40</td>\n",
       "      <td>2017-03-28</td>\n",
       "      <td>0</td>\n",
       "      <td>2.65</td>\n",
       "      <td>26.0</td>\n",
       "      <td>24.30</td>\n",
       "      <td>19</td>\n",
       "      <td>False</td>\n",
       "      <td>...</td>\n",
       "      <td>9.1</td>\n",
       "      <td>1.0</td>\n",
       "      <td>Парголово</td>\n",
       "      <td>53115.0</td>\n",
       "      <td>19292.0</td>\n",
       "      <td>0.0</td>\n",
       "      <td>NaN</td>\n",
       "      <td>1.0</td>\n",
       "      <td>593.0</td>\n",
       "      <td>430.0</td>\n",
       "    </tr>\n",
       "    <tr>\n",
       "      <th>608</th>\n",
       "      <td>2</td>\n",
       "      <td>1850000.0</td>\n",
       "      <td>25.00</td>\n",
       "      <td>2019-02-20</td>\n",
       "      <td>0</td>\n",
       "      <td>2.65</td>\n",
       "      <td>10.0</td>\n",
       "      <td>30.00</td>\n",
       "      <td>7</td>\n",
       "      <td>False</td>\n",
       "      <td>...</td>\n",
       "      <td>9.1</td>\n",
       "      <td>0.0</td>\n",
       "      <td>Шушары</td>\n",
       "      <td>NaN</td>\n",
       "      <td>NaN</td>\n",
       "      <td>NaN</td>\n",
       "      <td>NaN</td>\n",
       "      <td>NaN</td>\n",
       "      <td>NaN</td>\n",
       "      <td>29.0</td>\n",
       "    </tr>\n",
       "    <tr>\n",
       "      <th>...</th>\n",
       "      <td>...</td>\n",
       "      <td>...</td>\n",
       "      <td>...</td>\n",
       "      <td>...</td>\n",
       "      <td>...</td>\n",
       "      <td>...</td>\n",
       "      <td>...</td>\n",
       "      <td>...</td>\n",
       "      <td>...</td>\n",
       "      <td>...</td>\n",
       "      <td>...</td>\n",
       "      <td>...</td>\n",
       "      <td>...</td>\n",
       "      <td>...</td>\n",
       "      <td>...</td>\n",
       "      <td>...</td>\n",
       "      <td>...</td>\n",
       "      <td>...</td>\n",
       "      <td>...</td>\n",
       "      <td>...</td>\n",
       "      <td>...</td>\n",
       "    </tr>\n",
       "    <tr>\n",
       "      <th>23210</th>\n",
       "      <td>7</td>\n",
       "      <td>3200000.0</td>\n",
       "      <td>26.00</td>\n",
       "      <td>2017-09-01</td>\n",
       "      <td>0</td>\n",
       "      <td>2.65</td>\n",
       "      <td>25.0</td>\n",
       "      <td>18.00</td>\n",
       "      <td>16</td>\n",
       "      <td>False</td>\n",
       "      <td>...</td>\n",
       "      <td>9.1</td>\n",
       "      <td>0.0</td>\n",
       "      <td>Санкт-Петербург</td>\n",
       "      <td>11405.0</td>\n",
       "      <td>13222.0</td>\n",
       "      <td>0.0</td>\n",
       "      <td>NaN</td>\n",
       "      <td>1.0</td>\n",
       "      <td>623.0</td>\n",
       "      <td>14.0</td>\n",
       "    </tr>\n",
       "    <tr>\n",
       "      <th>23442</th>\n",
       "      <td>0</td>\n",
       "      <td>2500000.0</td>\n",
       "      <td>27.70</td>\n",
       "      <td>2017-09-28</td>\n",
       "      <td>0</td>\n",
       "      <td>2.65</td>\n",
       "      <td>24.0</td>\n",
       "      <td>18.00</td>\n",
       "      <td>4</td>\n",
       "      <td>False</td>\n",
       "      <td>...</td>\n",
       "      <td>9.1</td>\n",
       "      <td>2.0</td>\n",
       "      <td>Мурино</td>\n",
       "      <td>NaN</td>\n",
       "      <td>NaN</td>\n",
       "      <td>NaN</td>\n",
       "      <td>NaN</td>\n",
       "      <td>NaN</td>\n",
       "      <td>NaN</td>\n",
       "      <td>4.0</td>\n",
       "    </tr>\n",
       "    <tr>\n",
       "      <th>23554</th>\n",
       "      <td>15</td>\n",
       "      <td>3350000.0</td>\n",
       "      <td>26.00</td>\n",
       "      <td>2018-09-07</td>\n",
       "      <td>0</td>\n",
       "      <td>2.65</td>\n",
       "      <td>19.0</td>\n",
       "      <td>30.00</td>\n",
       "      <td>8</td>\n",
       "      <td>False</td>\n",
       "      <td>...</td>\n",
       "      <td>9.1</td>\n",
       "      <td>0.0</td>\n",
       "      <td>Санкт-Петербург</td>\n",
       "      <td>18090.0</td>\n",
       "      <td>17092.0</td>\n",
       "      <td>0.0</td>\n",
       "      <td>NaN</td>\n",
       "      <td>2.0</td>\n",
       "      <td>112.0</td>\n",
       "      <td>31.0</td>\n",
       "    </tr>\n",
       "    <tr>\n",
       "      <th>23592</th>\n",
       "      <td>10</td>\n",
       "      <td>1450000.0</td>\n",
       "      <td>29.00</td>\n",
       "      <td>2017-11-11</td>\n",
       "      <td>0</td>\n",
       "      <td>2.65</td>\n",
       "      <td>9.0</td>\n",
       "      <td>18.00</td>\n",
       "      <td>8</td>\n",
       "      <td>False</td>\n",
       "      <td>...</td>\n",
       "      <td>9.1</td>\n",
       "      <td>2.0</td>\n",
       "      <td>Никольское</td>\n",
       "      <td>NaN</td>\n",
       "      <td>NaN</td>\n",
       "      <td>NaN</td>\n",
       "      <td>NaN</td>\n",
       "      <td>NaN</td>\n",
       "      <td>NaN</td>\n",
       "      <td>82.0</td>\n",
       "    </tr>\n",
       "    <tr>\n",
       "      <th>23637</th>\n",
       "      <td>8</td>\n",
       "      <td>2350000.0</td>\n",
       "      <td>26.00</td>\n",
       "      <td>2018-06-26</td>\n",
       "      <td>0</td>\n",
       "      <td>2.65</td>\n",
       "      <td>25.0</td>\n",
       "      <td>17.00</td>\n",
       "      <td>4</td>\n",
       "      <td>False</td>\n",
       "      <td>...</td>\n",
       "      <td>9.1</td>\n",
       "      <td>2.0</td>\n",
       "      <td>Бугры</td>\n",
       "      <td>NaN</td>\n",
       "      <td>NaN</td>\n",
       "      <td>NaN</td>\n",
       "      <td>NaN</td>\n",
       "      <td>NaN</td>\n",
       "      <td>NaN</td>\n",
       "      <td>207.0</td>\n",
       "    </tr>\n",
       "  </tbody>\n",
       "</table>\n",
       "<p>197 rows × 22 columns</p>\n",
       "</div>"
      ],
      "text/plain": [
       "       total_images  last_price  total_area first_day_exposition  rooms  \\\n",
       "144               1   2450000.0       27.00           2017-03-30      0   \n",
       "349               4   2320000.0       25.00           2017-09-27      0   \n",
       "440               8   2480000.0       27.11           2018-03-12      0   \n",
       "508               0   3375000.0       34.40           2017-03-28      0   \n",
       "608               2   1850000.0       25.00           2019-02-20      0   \n",
       "...             ...         ...         ...                  ...    ...   \n",
       "23210             7   3200000.0       26.00           2017-09-01      0   \n",
       "23442             0   2500000.0       27.70           2017-09-28      0   \n",
       "23554            15   3350000.0       26.00           2018-09-07      0   \n",
       "23592            10   1450000.0       29.00           2017-11-11      0   \n",
       "23637             8   2350000.0       26.00           2018-06-26      0   \n",
       "\n",
       "       ceiling_height  floors_total  living_area  floor  is_apartment  ...  \\\n",
       "144              2.65          24.0        15.50      2         False  ...   \n",
       "349              2.65          14.0        17.00      1         False  ...   \n",
       "440              2.65          17.0        24.75      4         False  ...   \n",
       "508              2.65          26.0        24.30     19         False  ...   \n",
       "608              2.65          10.0        30.00      7         False  ...   \n",
       "...               ...           ...          ...    ...           ...  ...   \n",
       "23210            2.65          25.0        18.00     16         False  ...   \n",
       "23442            2.65          24.0        18.00      4         False  ...   \n",
       "23554            2.65          19.0        30.00      8         False  ...   \n",
       "23592            2.65           9.0        18.00      8         False  ...   \n",
       "23637            2.65          25.0        17.00      4         False  ...   \n",
       "\n",
       "       kitchen_area  balcony    locality_name  airports_nearest  \\\n",
       "144             9.1      2.0           Мурино               NaN   \n",
       "349             9.1      0.0          Кудрово               NaN   \n",
       "440             9.1      2.0  Санкт-Петербург           38171.0   \n",
       "508             9.1      1.0        Парголово           53115.0   \n",
       "608             9.1      0.0           Шушары               NaN   \n",
       "...             ...      ...              ...               ...   \n",
       "23210           9.1      0.0  Санкт-Петербург           11405.0   \n",
       "23442           9.1      2.0           Мурино               NaN   \n",
       "23554           9.1      0.0  Санкт-Петербург           18090.0   \n",
       "23592           9.1      2.0       Никольское               NaN   \n",
       "23637           9.1      2.0            Бугры               NaN   \n",
       "\n",
       "      cityCenters_nearest  parks_around3000  parks_nearest  ponds_around3000  \\\n",
       "144                   NaN               NaN            NaN               NaN   \n",
       "349                   NaN               NaN            NaN               NaN   \n",
       "440               15015.0               0.0            NaN               2.0   \n",
       "508               19292.0               0.0            NaN               1.0   \n",
       "608                   NaN               NaN            NaN               NaN   \n",
       "...                   ...               ...            ...               ...   \n",
       "23210             13222.0               0.0            NaN               1.0   \n",
       "23442                 NaN               NaN            NaN               NaN   \n",
       "23554             17092.0               0.0            NaN               2.0   \n",
       "23592                 NaN               NaN            NaN               NaN   \n",
       "23637                 NaN               NaN            NaN               NaN   \n",
       "\n",
       "       ponds_nearest  days_exposition  \n",
       "144              NaN            181.0  \n",
       "349              NaN             45.0  \n",
       "440            982.0             64.0  \n",
       "508            593.0            430.0  \n",
       "608              NaN             29.0  \n",
       "...              ...              ...  \n",
       "23210          623.0             14.0  \n",
       "23442            NaN              4.0  \n",
       "23554          112.0             31.0  \n",
       "23592            NaN             82.0  \n",
       "23637            NaN            207.0  \n",
       "\n",
       "[197 rows x 22 columns]"
      ]
     },
     "execution_count": 59,
     "metadata": {},
     "output_type": "execute_result"
    }
   ],
   "source": [
    "data.query('rooms == 0')"
   ]
  },
  {
   "cell_type": "code",
   "execution_count": 60,
   "metadata": {
    "scrolled": true
   },
   "outputs": [
    {
     "data": {
      "text/plain": [
       "144      True\n",
       "349     False\n",
       "440      True\n",
       "508     False\n",
       "608      True\n",
       "697      True\n",
       "716      True\n",
       "780     False\n",
       "839     False\n",
       "946     False\n",
       "1173     True\n",
       "1174     True\n",
       "1220     True\n",
       "1260     True\n",
       "1277     True\n",
       "1528     True\n",
       "1574    False\n",
       "1600     True\n",
       "1625    False\n",
       "2055     True\n",
       "Name: studio, dtype: bool"
      ]
     },
     "execution_count": 60,
     "metadata": {},
     "output_type": "execute_result"
    }
   ],
   "source": [
    "data.query('rooms == 0').head(20)['studio']"
   ]
  },
  {
   "cell_type": "markdown",
   "metadata": {},
   "source": [
    "В выборке 197 квартир с 0 комнат. На первый взгляд видно, что они очень маленькие. Также, если изучить столбец 'studio' видно, что большинство из них являются студиями. Возможно, те, кто размещают квартиры, не считают основное помещение таких квартир полноценной жилой комнатой и поэтому указывают, что жилых комнат 0. Также не стоит ничего удалять.\n"
   ]
  },
  {
   "cell_type": "markdown",
   "metadata": {},
   "source": [
    "Следующий столбец - высота потолка 'ceiling_height'."
   ]
  },
  {
   "cell_type": "code",
   "execution_count": 61,
   "metadata": {
    "scrolled": true
   },
   "outputs": [
    {
     "data": {
      "text/plain": [
       "count    23662.000000\n",
       "mean         2.723344\n",
       "std          0.988243\n",
       "min          1.000000\n",
       "25%          2.600000\n",
       "50%          2.650000\n",
       "75%          2.700000\n",
       "max        100.000000\n",
       "Name: ceiling_height, dtype: float64"
      ]
     },
     "execution_count": 61,
     "metadata": {},
     "output_type": "execute_result"
    }
   ],
   "source": [
    "data['ceiling_height'].describe()"
   ]
  },
  {
   "cell_type": "markdown",
   "metadata": {},
   "source": [
    "Смущает максимальное значение в 100 метров и минимальной в 1 метр"
   ]
  },
  {
   "cell_type": "code",
   "execution_count": 62,
   "metadata": {
    "scrolled": true
   },
   "outputs": [
    {
     "data": {
      "text/plain": [
       "<AxesSubplot:>"
      ]
     },
     "execution_count": 62,
     "metadata": {},
     "output_type": "execute_result"
    },
    {
     "data": {
      "image/png": "[encoded data removed]",
      "text/plain": [
       "<Figure size 432x288 with 1 Axes>"
      ]
     },
     "metadata": {
      "needs_background": "light"
     },
     "output_type": "display_data"
    }
   ],
   "source": [
    "data.boxplot(column='ceiling_height')"
   ]
  },
  {
   "cell_type": "markdown",
   "metadata": {},
   "source": [
    "Сразу выделяется потолок в 100 метров, сократим размер оси y"
   ]
  },
  {
   "cell_type": "code",
   "execution_count": 63,
   "metadata": {
    "scrolled": true
   },
   "outputs": [
    {
     "data": {
      "text/plain": [
       "(0.0, 35.0)"
      ]
     },
     "execution_count": 63,
     "metadata": {},
     "output_type": "execute_result"
    },
    {
     "data": {
      "image/png": "[encoded data removed]",
      "text/plain": [
       "<Figure size 432x288 with 1 Axes>"
      ]
     },
     "metadata": {
      "needs_background": "light"
     },
     "output_type": "display_data"
    }
   ],
   "source": [
    "data.boxplot(column='ceiling_height')\n",
    "plt.ylim(0, 35)"
   ]
  },
  {
   "cell_type": "markdown",
   "metadata": {},
   "source": [
    "Есть ряд выбросов выше 6 метров. Трудно себе представить такие большие потолки. При этом не всегда очевидно, с чем связана ошибка. В случае с 25 метрами можно предположить, что имеется в виду 2,5 метро, однако с 15 метрами вряд ли это может быть. Я думаю, что такие выбросы лучшее удалить."
   ]
  },
  {
   "cell_type": "code",
   "execution_count": 64,
   "metadata": {},
   "outputs": [],
   "source": [
    "data = data.query('ceiling_height < 6')"
   ]
  },
  {
   "cell_type": "markdown",
   "metadata": {},
   "source": [
    "Также посмотрим, есть ли выбросы с другой стороны."
   ]
  },
  {
   "cell_type": "code",
   "execution_count": 65,
   "metadata": {
    "scrolled": true
   },
   "outputs": [
    {
     "data": {
      "text/plain": [
       "(0.0, 6.0)"
      ]
     },
     "execution_count": 65,
     "metadata": {},
     "output_type": "execute_result"
    },
    {
     "data": {
      "image/png": "[encoded data removed]",
      "text/plain": [
       "<Figure size 432x288 with 1 Axes>"
      ]
     },
     "metadata": {
      "needs_background": "light"
     },
     "output_type": "display_data"
    }
   ],
   "source": [
    "data.boxplot(column='ceiling_height')\n",
    "plt.ylim(0, 6)"
   ]
  },
  {
   "cell_type": "markdown",
   "metadata": {},
   "source": [
    "Есть несколько выбросов, где потолки меньше 2 метров, что крайне сложно себе представить, удалим эти квартиры."
   ]
  },
  {
   "cell_type": "code",
   "execution_count": 66,
   "metadata": {},
   "outputs": [],
   "source": [
    "data = data.query('ceiling_height > 2')"
   ]
  },
  {
   "cell_type": "markdown",
   "metadata": {},
   "source": [
    "Следующий столбец - 'floors_total'."
   ]
  },
  {
   "cell_type": "code",
   "execution_count": 67,
   "metadata": {},
   "outputs": [
    {
     "data": {
      "text/plain": [
       "count    23533.000000\n",
       "mean        10.680959\n",
       "std          6.595681\n",
       "min          1.000000\n",
       "25%          5.000000\n",
       "50%          9.000000\n",
       "75%         16.000000\n",
       "max         60.000000\n",
       "Name: floors_total, dtype: float64"
      ]
     },
     "execution_count": 67,
     "metadata": {},
     "output_type": "execute_result"
    }
   ],
   "source": [
    "data['floors_total'].describe()"
   ]
  },
  {
   "cell_type": "markdown",
   "metadata": {},
   "source": [
    "Максимумальный этаж - 60. Не удивительно. Санкт-Петербург крупный город с несколькими небоскребами. Не думаю, что есть смысл подробно этот столбец изучать, так как сходу аномалий нет. Тоже относится и к столбцу 'floor'."
   ]
  },
  {
   "cell_type": "markdown",
   "metadata": {},
   "source": [
    "Столбцы 'living_area' и 'kitchen_area' производные из столбцы 'total_area', и раз мы решили в нем ничего не удалять, так как предполагаем, что квартиры более 500 метров существуют, то и в данных столбцах ничего менять не будем. Согласно гистрограмме из начала подраздела, есть кухни более 100 метров. Вполне может быть, если у тебя квартира 500 метров :)"
   ]
  },
  {
   "cell_type": "markdown",
   "metadata": {},
   "source": [
    "В остальных столбцах каких-то больших аномалий исходя из гистрограмм не видно."
   ]
  },
  {
   "cell_type": "code",
   "execution_count": 68,
   "metadata": {},
   "outputs": [
    {
     "data": {
      "text/plain": [
       "0"
      ]
     },
     "execution_count": 68,
     "metadata": {},
     "output_type": "execute_result"
    }
   ],
   "source": [
    "#проверим датафрейм на явные дубликаты\n",
    "data.duplicated().sum()"
   ]
  },
  {
   "cell_type": "markdown",
   "metadata": {},
   "source": [
    "**Вывод**: часть квартир, у которых аномально высокая цена или неправдоподобно высокие или низкие потолки была удалена. По другим параметрам было принято решение не удалять редкие значения, так как они выглядят правдоподобно."
   ]
  },
  {
   "cell_type": "markdown",
   "metadata": {},
   "source": [
    "### Посчитайте и добавьте в таблицу новые столбцы"
   ]
  },
  {
   "cell_type": "code",
   "execution_count": 69,
   "metadata": {
    "scrolled": true
   },
   "outputs": [
    {
     "data": {
      "text/plain": [
       "Index(['total_images', 'last_price', 'total_area', 'first_day_exposition',\n",
       "       'rooms', 'ceiling_height', 'floors_total', 'living_area', 'floor',\n",
       "       'is_apartment', 'studio', 'open_plan', 'kitchen_area', 'balcony',\n",
       "       'locality_name', 'airports_nearest', 'cityCenters_nearest',\n",
       "       'parks_around3000', 'parks_nearest', 'ponds_around3000',\n",
       "       'ponds_nearest', 'days_exposition'],\n",
       "      dtype='object')"
      ]
     },
     "execution_count": 69,
     "metadata": {},
     "output_type": "execute_result"
    }
   ],
   "source": [
    "data.columns"
   ]
  },
  {
   "cell_type": "code",
   "execution_count": 70,
   "metadata": {
    "scrolled": true
   },
   "outputs": [
    {
     "data": {
      "text/plain": [
       "0        120370.370370\n",
       "1         82920.792079\n",
       "2         92785.714286\n",
       "3        408176.100629\n",
       "4        100000.000000\n",
       "             ...      \n",
       "23694     72490.845228\n",
       "23695     52542.372881\n",
       "23696     44091.710758\n",
       "23697    149511.400651\n",
       "23698     41795.665635\n",
       "Name: price_per_metr, Length: 23619, dtype: float64"
      ]
     },
     "execution_count": 70,
     "metadata": {},
     "output_type": "execute_result"
    }
   ],
   "source": [
    "#создаем столбец с ценой одного квадратного метра\n",
    "data['price_per_metr'] = data['last_price'] / data['total_area']\n",
    "data['price_per_metr']"
   ]
  },
  {
   "cell_type": "code",
   "execution_count": 71,
   "metadata": {
    "scrolled": true
   },
   "outputs": [
    {
     "data": {
      "text/plain": [
       "0        3\n",
       "1        1\n",
       "2        3\n",
       "3        4\n",
       "4        1\n",
       "        ..\n",
       "23694    1\n",
       "23695    0\n",
       "23696    6\n",
       "23697    1\n",
       "23698    4\n",
       "Name: day_of_week_exposition, Length: 23619, dtype: int64"
      ]
     },
     "execution_count": 71,
     "metadata": {},
     "output_type": "execute_result"
    }
   ],
   "source": [
    "#создаем столбец с днем недели публикации объявления\n",
    "data['day_of_week_exposition'] = data['first_day_exposition'].dt.dayofweek\n",
    "data['day_of_week_exposition']"
   ]
  },
  {
   "cell_type": "code",
   "execution_count": 72,
   "metadata": {},
   "outputs": [
    {
     "data": {
      "text/plain": [
       "0         3\n",
       "1        12\n",
       "2         8\n",
       "3         7\n",
       "4         6\n",
       "         ..\n",
       "23694     3\n",
       "23695     1\n",
       "23696     2\n",
       "23697     3\n",
       "23698     7\n",
       "Name: month_exposition, Length: 23619, dtype: int64"
      ]
     },
     "execution_count": 72,
     "metadata": {},
     "output_type": "execute_result"
    }
   ],
   "source": [
    "#создаем столбец с месяцем публикации объявления\n",
    "data['month_exposition'] = data['first_day_exposition'].dt.month\n",
    "data['month_exposition']"
   ]
  },
  {
   "cell_type": "code",
   "execution_count": 73,
   "metadata": {
    "scrolled": true
   },
   "outputs": [
    {
     "data": {
      "text/plain": [
       "0        2019\n",
       "1        2018\n",
       "2        2015\n",
       "3        2015\n",
       "4        2018\n",
       "         ... \n",
       "23694    2017\n",
       "23695    2018\n",
       "23696    2018\n",
       "23697    2017\n",
       "23698    2017\n",
       "Name: year_exposition, Length: 23619, dtype: int64"
      ]
     },
     "execution_count": 73,
     "metadata": {},
     "output_type": "execute_result"
    }
   ],
   "source": [
    "# создаем столбец с годом публикации объявления \n",
    "data['year_exposition'] = data['first_day_exposition'].dt.year\n",
    "data['year_exposition']"
   ]
  },
  {
   "cell_type": "code",
   "execution_count": 74,
   "metadata": {},
   "outputs": [],
   "source": [
    "# создаем столбец с типом этажа квартиры\n",
    "# для начала создаем функцию, которая будет переводить значения этажей\n",
    "def type_floor(raw):\n",
    "    if raw['floor'] == 1:\n",
    "        return 'первый'\n",
    "    elif raw['floor'] == raw['floors_total']:\n",
    "        return 'последний'\n",
    "    else:\n",
    "        return 'другой'"
   ]
  },
  {
   "cell_type": "code",
   "execution_count": 75,
   "metadata": {
    "scrolled": true
   },
   "outputs": [
    {
     "data": {
      "text/plain": [
       "0        другой\n",
       "1        первый\n",
       "2        другой\n",
       "3        другой\n",
       "4        другой\n",
       "          ...  \n",
       "23694    другой\n",
       "23695    другой\n",
       "23696    первый\n",
       "23697    другой\n",
       "23698    первый\n",
       "Name: type_floor, Length: 23619, dtype: object"
      ]
     },
     "execution_count": 75,
     "metadata": {},
     "output_type": "execute_result"
    }
   ],
   "source": [
    "#применяем функцию и создаем столбец\n",
    "data['type_floor'] = data.apply(type_floor, axis=1)\n",
    "data['type_floor']"
   ]
  },
  {
   "cell_type": "code",
   "execution_count": 77,
   "metadata": {},
   "outputs": [
    {
     "data": {
      "text/plain": [
       "0        16.0\n",
       "1        19.0\n",
       "2        14.0\n",
       "3         7.0\n",
       "4         8.0\n",
       "         ... \n",
       "23694     4.0\n",
       "23695     NaN\n",
       "23696     NaN\n",
       "23697    10.0\n",
       "23698     NaN\n",
       "Name: cityCenters_nearest_km, Length: 23619, dtype: float64"
      ]
     },
     "execution_count": 77,
     "metadata": {},
     "output_type": "execute_result"
    }
   ],
   "source": [
    "#создаем столбец с расстоянием до центра в километрах\n",
    "data['cityCenters_nearest_km'] = (data['cityCenters_nearest'] / 1000).round()\n",
    "data['cityCenters_nearest_km'] "
   ]
  },
  {
   "cell_type": "markdown",
   "metadata": {},
   "source": [
    "**Вывод:** все необходимые для анализа столбцы созданы."
   ]
  },
  {
   "cell_type": "markdown",
   "metadata": {},
   "source": [
    "### Исследовательский анализ данных"
   ]
  },
  {
   "cell_type": "markdown",
   "metadata": {},
   "source": [
    "#### Изучение отдельных столбцов"
   ]
  },
  {
   "cell_type": "code",
   "execution_count": 78,
   "metadata": {},
   "outputs": [
    {
     "data": {
      "text/plain": [
       "Index(['total_images', 'last_price', 'total_area', 'first_day_exposition',\n",
       "       'rooms', 'ceiling_height', 'floors_total', 'living_area', 'floor',\n",
       "       'is_apartment', 'studio', 'open_plan', 'kitchen_area', 'balcony',\n",
       "       'locality_name', 'airports_nearest', 'cityCenters_nearest',\n",
       "       'parks_around3000', 'parks_nearest', 'ponds_around3000',\n",
       "       'ponds_nearest', 'days_exposition', 'price_per_metr',\n",
       "       'day_of_week_exposition', 'month_exposition', 'year_exposition',\n",
       "       'type_floor', 'cityCenters_nearest_km'],\n",
       "      dtype='object')"
      ]
     },
     "execution_count": 78,
     "metadata": {},
     "output_type": "execute_result"
    }
   ],
   "source": [
    "data.columns"
   ]
  },
  {
   "cell_type": "code",
   "execution_count": 79,
   "metadata": {
    "scrolled": true
   },
   "outputs": [
    {
     "data": {
      "text/plain": [
       "(0.0, 200.0)"
      ]
     },
     "execution_count": 79,
     "metadata": {},
     "output_type": "execute_result"
    },
    {
     "data": {
      "image/png": "[encoded data removed]",
      "text/plain": [
       "<Figure size 432x288 with 1 Axes>"
      ]
     },
     "metadata": {
      "needs_background": "light"
     },
     "output_type": "display_data"
    }
   ],
   "source": [
    "#рассмотрим гистограмму столбца 'total area'\n",
    "#ограничим ее отображение по оси x, так как есть несколько особо крупных квартир, что мешает её детальному изучению\n",
    "data['total_area'].hist(bins=100)\n",
    "plt.xlim(0, 200)"
   ]
  },
  {
   "cell_type": "markdown",
   "metadata": {},
   "source": [
    "Гистограмма общей площади имеет явное распределение Пуассона с вершиной в диапазоне 40-45 метров и очень длинным правым хвостом, что вполне логично: большинство квартир - однушки и небольшие двушки. А дальше, чем больше квартира, тем меньшее количество людей ее могут позволить."
   ]
  },
  {
   "cell_type": "code",
   "execution_count": 80,
   "metadata": {
    "scrolled": true
   },
   "outputs": [
    {
     "data": {
      "text/plain": [
       "(0.0, 120.0)"
      ]
     },
     "execution_count": 80,
     "metadata": {},
     "output_type": "execute_result"
    },
    {
     "data": {
      "image/png": "[encoded data removed]",
      "text/plain": [
       "<Figure size 432x288 with 1 Axes>"
      ]
     },
     "metadata": {
      "needs_background": "light"
     },
     "output_type": "display_data"
    }
   ],
   "source": [
    "#рассмотрим гистограмму столбца 'living area'\n",
    "#ограничим ее отображение по оси x, так как есть несколько особо крупных квартир, что мешает её детальному изучению\n",
    "data['living_area'].hist(bins=100)\n",
    "plt.xlim(0, 120)"
   ]
  },
  {
   "cell_type": "markdown",
   "metadata": {},
   "source": [
    "С жилой площадью наблюдается интересная особенность. На гистрограмме явно выделяются 2 вершины. Я думаю, что это связано с разделением между однокомнатными и двухкомнатными квартирами. Это не так заметно в случае с общей площадью, так как кухня и нежилые участки квартиры сокращают разницу. В случае же с жилой площадью первый пик наблюдается в диапазоне 16-18 метров, что соответствует примерно однокомнатной квартире. Дальше есть большой провал особенно в диапазоне 22-26 метров. Однокомнатные с такими большими комнатами редко встречаются, как и двухкомнатными с такими маленькими комнатами тоже. Следующий пик наблюдается в районе 30 метров, что соответствует типичной двухкомнатной квартире."
   ]
  },
  {
   "cell_type": "code",
   "execution_count": 81,
   "metadata": {
    "scrolled": true
   },
   "outputs": [
    {
     "data": {
      "text/plain": [
       "(0.0, 30.0)"
      ]
     },
     "execution_count": 81,
     "metadata": {},
     "output_type": "execute_result"
    },
    {
     "data": {
      "image/png": "[encoded data removed]",
      "text/plain": [
       "<Figure size 432x288 with 1 Axes>"
      ]
     },
     "metadata": {
      "needs_background": "light"
     },
     "output_type": "display_data"
    }
   ],
   "source": [
    "#рассмотрим гистограмму столбца 'kitchen_area'\n",
    "#ограничим ее отображение по оси x, так как есть несколько особо крупных квартир, что мешает её детальному изучению\n",
    "data['kitchen_area'].hist(bins=100)\n",
    "plt.xlim(0, 30)"
   ]
  },
  {
   "cell_type": "markdown",
   "metadata": {},
   "source": [
    "Никаких неожиданностей при анализе площади кухонь не обнаружилось. Пресловутые 9-метровые квадратные кухни, которые ставили в советских квартирах и сейчас продолжают ставить во многие современные квартиры, явно доминируют. Нет в российских семьях любви к большим кухням западного типа."
   ]
  },
  {
   "cell_type": "code",
   "execution_count": 82,
   "metadata": {
    "scrolled": true
   },
   "outputs": [
    {
     "data": {
      "text/plain": [
       "(0.0, 25000000.0)"
      ]
     },
     "execution_count": 82,
     "metadata": {},
     "output_type": "execute_result"
    },
    {
     "data": {
      "image/png": "[encoded data removed]",
      "text/plain": [
       "<Figure size 432x288 with 1 Axes>"
      ]
     },
     "metadata": {
      "needs_background": "light"
     },
     "output_type": "display_data"
    }
   ],
   "source": [
    "#рассмотрим гистограмму столбца 'last_price'\n",
    "#ограничим ее отображение по оси x, так как есть несколько особо дорогих квартир, что мешает её детальному изучению\n",
    "data['last_price'].hist(bins=100)\n",
    "plt.xlim(0, 25000000)"
   ]
  },
  {
   "cell_type": "markdown",
   "metadata": {},
   "source": [
    "Гистограмма стоимости квартир также имеет распределения, однако правый хвост еще более длинный, чем в других диаграммах. И это с учетом того, что на прошлых этапах аномально дорогие квартиры были убраны из выборки и на графике отображение правого хвоста сильно ограничено. Однако таких дорогих квартир крайне мало. Более 90% квартир стоят до 10 млн руб. А пик квартир находится в диапазоне 3-5 млн руб."
   ]
  },
  {
   "cell_type": "code",
   "execution_count": 83,
   "metadata": {
    "scrolled": true
   },
   "outputs": [
    {
     "data": {
      "text/plain": [
       "(0.0, 8.0)"
      ]
     },
     "execution_count": 83,
     "metadata": {},
     "output_type": "execute_result"
    },
    {
     "data": {
      "image/png": "[encoded data removed]",
      "text/plain": [
       "<Figure size 432x288 with 1 Axes>"
      ]
     },
     "metadata": {
      "needs_background": "light"
     },
     "output_type": "display_data"
    }
   ],
   "source": [
    "#рассмотрим гистограмму столбца 'rooms'\n",
    "#ограничим ее отображение по оси x, так как есть несколько квартир с очень большим количеством комнат \n",
    "#что мешает её детальному изучению\n",
    "data['rooms'].hist(bins=18)\n",
    "plt.xlim(0, 8)"
   ]
  },
  {
   "cell_type": "markdown",
   "metadata": {},
   "source": [
    "Однокомнатных и двухкомнатных квартир примерно одинаковое количество. Немного меньше трехкомнатных. А квартиры с большим количеством комнат уже редкость, что ожидаемо."
   ]
  },
  {
   "cell_type": "code",
   "execution_count": 84,
   "metadata": {
    "scrolled": true
   },
   "outputs": [
    {
     "data": {
      "text/plain": [
       "(2.0, 4.5)"
      ]
     },
     "execution_count": 84,
     "metadata": {},
     "output_type": "execute_result"
    },
    {
     "data": {
      "image/png": "[encoded data removed]",
      "text/plain": [
       "<Figure size 432x288 with 1 Axes>"
      ]
     },
     "metadata": {
      "needs_background": "light"
     },
     "output_type": "display_data"
    }
   ],
   "source": [
    "#рассмотрим гистограмму столбца 'ceiling_height'\n",
    "#ограничим ее отображение по оси x, так как есть несколько квартир с очень высокими потолками \n",
    "#что мешает ее детальному изучению\n",
    "data['ceiling_height'].hist(bins=18)\n",
    "plt.xlim(2, 4.5)"
   ]
  },
  {
   "cell_type": "markdown",
   "metadata": {},
   "source": [
    "Высота потолков квартир в большинстве случаев колеблется между 2.6 и 2.8 метрами. Есть также второй небольшой пик квартир в диапазоне более 3 метров. Я предполагаю, что это старые квартиры дореволюционной и сталинской эпохи, которых в Санкт-Петербурге не так мало."
   ]
  },
  {
   "cell_type": "code",
   "execution_count": 85,
   "metadata": {},
   "outputs": [
    {
     "data": {
      "text/plain": [
       "<AxesSubplot:>"
      ]
     },
     "execution_count": 85,
     "metadata": {},
     "output_type": "execute_result"
    },
    {
     "data": {
      "image/png": "[encoded data removed]",
      "text/plain": [
       "<Figure size 432x288 with 1 Axes>"
      ]
     },
     "metadata": {
      "needs_background": "light"
     },
     "output_type": "display_data"
    }
   ],
   "source": [
    "#рассмотрим гистограмму столбца 'floor'\n",
    "data['floor'].hist(bins=18)"
   ]
  },
  {
   "cell_type": "markdown",
   "metadata": {},
   "source": [
    "Несмотря на обилие многоэтажек В Санкт-Петербурге большинство людей размещает квартиры на этажах до 5. Это также может быть связано с тем, что в выборке также представлено большой количество квартир из Ленинградской области, где до недавнего времени не было большого количества высоток. "
   ]
  },
  {
   "cell_type": "code",
   "execution_count": 86,
   "metadata": {
    "scrolled": false
   },
   "outputs": [
    {
     "data": {
      "text/plain": [
       "<AxesSubplot:>"
      ]
     },
     "execution_count": 86,
     "metadata": {},
     "output_type": "execute_result"
    },
    {
     "data": {
      "image/png": "[encoded data removed]",
      "text/plain": [
       "<Figure size 432x288 with 1 Axes>"
      ]
     },
     "metadata": {
      "needs_background": "light"
     },
     "output_type": "display_data"
    }
   ],
   "source": [
    "#рассмотрим гистограмму столбца 'type_floor'\n",
    "data['type_floor'].hist(bins=3)"
   ]
  },
  {
   "cell_type": "markdown",
   "metadata": {},
   "source": [
    "Большинство сдают квартиру не на первом и не на последнем этажах."
   ]
  },
  {
   "cell_type": "code",
   "execution_count": 87,
   "metadata": {},
   "outputs": [
    {
     "data": {
      "text/plain": [
       "<AxesSubplot:>"
      ]
     },
     "execution_count": 87,
     "metadata": {},
     "output_type": "execute_result"
    },
    {
     "data": {
      "image/png": "[encoded data removed]",
      "text/plain": [
       "<Figure size 432x288 with 1 Axes>"
      ]
     },
     "metadata": {
      "needs_background": "light"
     },
     "output_type": "display_data"
    }
   ],
   "source": [
    "#рассмотрим гистограмму столбца 'floors_total'\n",
    "data['floors_total'].hist(bins=18)"
   ]
  },
  {
   "cell_type": "markdown",
   "metadata": {},
   "source": [
    "Здания больше 30 этажей это большая редкость в выборке. Пик наблюдается в промежутке 5-8 этажей, в основном по своему опыту я могу сказать, что это хрущевки и брежневки, которых полно в Санкт-Петербурге и области. Еще небольшой пик можно увидеть в райноне 25 этажа. Я предполагаю, что это новые питерские \"муравейники\"."
   ]
  },
  {
   "cell_type": "code",
   "execution_count": 88,
   "metadata": {},
   "outputs": [
    {
     "data": {
      "text/plain": [
       "<AxesSubplot:>"
      ]
     },
     "execution_count": 88,
     "metadata": {},
     "output_type": "execute_result"
    },
    {
     "data": {
      "image/png": "[encoded data removed]",
      "text/plain": [
       "<Figure size 432x288 with 1 Axes>"
      ]
     },
     "metadata": {
      "needs_background": "light"
     },
     "output_type": "display_data"
    }
   ],
   "source": [
    "#рассмотрим гистограмму столбца 'cityCenters_nearest'\n",
    "data['cityCenters_nearest'].hist(bins=18)"
   ]
  },
  {
   "cell_type": "markdown",
   "metadata": {},
   "source": [
    "Распределение квартир от центра Санкт-Петербурга также имеет пуассоновский вид. В центре продают не так много квартир. Пик наблюдается в диапазоне 11-15 км от центра города. Второй пик наблюдается в районе 30 км от центра, предполагаю, что это ближний пригород. В районе 50 км также увеличивается количество квартир, возможно, города дальнего пригорода."
   ]
  },
  {
   "cell_type": "code",
   "execution_count": 89,
   "metadata": {},
   "outputs": [
    {
     "data": {
      "text/plain": [
       "<AxesSubplot:>"
      ]
     },
     "execution_count": 89,
     "metadata": {},
     "output_type": "execute_result"
    },
    {
     "data": {
      "image/png": "[encoded data removed]",
      "text/plain": [
       "<Figure size 432x288 with 1 Axes>"
      ]
     },
     "metadata": {
      "needs_background": "light"
     },
     "output_type": "display_data"
    }
   ],
   "source": [
    "#рассмотрим гистограмму столбца 'airports_nearest'\n",
    "data['airports_nearest'].hist(bins=18)"
   ]
  },
  {
   "cell_type": "markdown",
   "metadata": {},
   "source": [
    "Большинство квартир находится достаточно удаленно от аэропорта, пик находится в диапазоне 15-25 км. \n"
   ]
  },
  {
   "cell_type": "code",
   "execution_count": 90,
   "metadata": {
    "scrolled": true
   },
   "outputs": [
    {
     "data": {
      "text/plain": [
       "<AxesSubplot:>"
      ]
     },
     "execution_count": 90,
     "metadata": {},
     "output_type": "execute_result"
    },
    {
     "data": {
      "image/png": "[encoded data removed]",
      "text/plain": [
       "<Figure size 432x288 with 1 Axes>"
      ]
     },
     "metadata": {
      "needs_background": "light"
     },
     "output_type": "display_data"
    }
   ],
   "source": [
    "#рассмотрим гистограмму столбца 'parks_nearest'\n",
    "data['parks_nearest'].hist(bins=18)"
   ]
  },
  {
   "cell_type": "markdown",
   "metadata": {},
   "source": [
    "Большинство квартир находятся в пешей доступности от парков, пик находится в диапозоне 400-500 метров."
   ]
  },
  {
   "cell_type": "code",
   "execution_count": 91,
   "metadata": {},
   "outputs": [
    {
     "data": {
      "text/plain": [
       "<AxesSubplot:>"
      ]
     },
     "execution_count": 91,
     "metadata": {},
     "output_type": "execute_result"
    },
    {
     "data": {
      "image/png": "[encoded data removed]",
      "text/plain": [
       "<Figure size 432x288 with 1 Axes>"
      ]
     },
     "metadata": {
      "needs_background": "light"
     },
     "output_type": "display_data"
    }
   ],
   "source": [
    "#рассмотрим гистограмму столбца 'day_of_week_exposition'\n",
    "data['day_of_week_exposition'].hist(bins=7)"
   ]
  },
  {
   "cell_type": "markdown",
   "metadata": {},
   "source": [
    "В выходные дни люди не склонны размещать объявления о продаже квартир и предпочитают это делать в рабочие дни."
   ]
  },
  {
   "cell_type": "code",
   "execution_count": 92,
   "metadata": {},
   "outputs": [
    {
     "data": {
      "text/plain": [
       "<AxesSubplot:>"
      ]
     },
     "execution_count": 92,
     "metadata": {},
     "output_type": "execute_result"
    },
    {
     "data": {
      "image/png": "[encoded data removed]",
      "text/plain": [
       "<Figure size 432x288 with 1 Axes>"
      ]
     },
     "metadata": {
      "needs_background": "light"
     },
     "output_type": "display_data"
    }
   ],
   "source": [
    "#рассмотрим гистограмму столбца 'month_exposition'\n",
    "data['month_exposition'].hist(bins=12)\n"
   ]
  },
  {
   "cell_type": "markdown",
   "metadata": {},
   "source": [
    "Люди менее всего склонны выкладывать на продажу свои квартиры в декабре, январе и мае (праздники?)."
   ]
  },
  {
   "cell_type": "markdown",
   "metadata": {},
   "source": [
    "#### Как быстро продавались квартиры"
   ]
  },
  {
   "cell_type": "code",
   "execution_count": 93,
   "metadata": {
    "scrolled": true
   },
   "outputs": [
    {
     "data": {
      "text/plain": [
       "<AxesSubplot:>"
      ]
     },
     "execution_count": 93,
     "metadata": {},
     "output_type": "execute_result"
    },
    {
     "data": {
      "image/png": "[encoded data removed]",
      "text/plain": [
       "<Figure size 432x288 with 1 Axes>"
      ]
     },
     "metadata": {
      "needs_background": "light"
     },
     "output_type": "display_data"
    }
   ],
   "source": [
    "#рассмотрим гистограмму столбца 'days_exposition'\n",
    "data['days_exposition'].hist(bins=50)"
   ]
  },
  {
   "cell_type": "code",
   "execution_count": 95,
   "metadata": {},
   "outputs": [
    {
     "data": {
      "text/plain": [
       "169.20665565857996"
      ]
     },
     "execution_count": 95,
     "metadata": {},
     "output_type": "execute_result"
    }
   ],
   "source": [
    "#определим средний срок продажи квартир\n",
    "data['days_exposition'].mean()"
   ]
  },
  {
   "cell_type": "code",
   "execution_count": 96,
   "metadata": {},
   "outputs": [
    {
     "data": {
      "text/plain": [
       "95.0"
      ]
     },
     "execution_count": 96,
     "metadata": {},
     "output_type": "execute_result"
    }
   ],
   "source": [
    "#определим медиану срока продажи квартир\n",
    "data['days_exposition'].median()"
   ]
  },
  {
   "cell_type": "markdown",
   "metadata": {},
   "source": [
    "Медиана значительно меньше средней. Дело в том, что у распределения очень большие хвосты. Некоторые квартиры продаются годами. Из-за этого среднее значение смещается в верхнюю сторону. Поэтому медиана больше соответствует \"типичному\" сроку, за который удается продать квартиру. При этом существенная часть квартир продается и за месяц. "
   ]
  },
  {
   "cell_type": "markdown",
   "metadata": {},
   "source": [
    "**Вывод:** все столбцы изучены. Большинство из них имеет распределение Пуассона с очень длинным правым хвостом, что говорит а наличие ряда квартир с очень большими определенными параметрами."
   ]
  },
  {
   "cell_type": "markdown",
   "metadata": {},
   "source": [
    "#### Факторы, которые больше всего влияли на общую стоимость объекта"
   ]
  },
  {
   "cell_type": "code",
   "execution_count": 97,
   "metadata": {
    "scrolled": false
   },
   "outputs": [
    {
     "data": {
      "text/plain": [
       "Index(['total_images', 'last_price', 'total_area', 'first_day_exposition',\n",
       "       'rooms', 'ceiling_height', 'floors_total', 'living_area', 'floor',\n",
       "       'is_apartment', 'studio', 'open_plan', 'kitchen_area', 'balcony',\n",
       "       'locality_name', 'airports_nearest', 'cityCenters_nearest',\n",
       "       'parks_around3000', 'parks_nearest', 'ponds_around3000',\n",
       "       'ponds_nearest', 'days_exposition', 'price_per_metr',\n",
       "       'day_of_week_exposition', 'month_exposition', 'year_exposition',\n",
       "       'type_floor', 'cityCenters_nearest_km'],\n",
       "      dtype='object')"
      ]
     },
     "execution_count": 97,
     "metadata": {},
     "output_type": "execute_result"
    }
   ],
   "source": [
    "data.columns"
   ]
  },
  {
   "cell_type": "code",
   "execution_count": 98,
   "metadata": {
    "scrolled": false
   },
   "outputs": [
    {
     "data": {
      "text/plain": [
       "<AxesSubplot:xlabel='last_price', ylabel='total_area'>"
      ]
     },
     "execution_count": 98,
     "metadata": {},
     "output_type": "execute_result"
    },
    {
     "data": {
      "image/png": "[encoded data removed]",
      "text/plain": [
       "<Figure size 432x288 with 1 Axes>"
      ]
     },
     "metadata": {
      "needs_background": "light"
     },
     "output_type": "display_data"
    }
   ],
   "source": [
    "#Построим диаграмму рассеивания между стоимостью квартир и их площадью\n",
    "data.plot(x='last_price', y='total_area', kind='scatter', alpha=0.2)"
   ]
  },
  {
   "cell_type": "code",
   "execution_count": 99,
   "metadata": {},
   "outputs": [
    {
     "data": {
      "text/plain": [
       "0.7692467812695775"
      ]
     },
     "execution_count": 99,
     "metadata": {},
     "output_type": "execute_result"
    }
   ],
   "source": [
    "#Найдем корреляцию рассеивания между стоимостью квартир и их площадью\n",
    "data['last_price'].corr(data['total_area'])"
   ]
  },
  {
   "cell_type": "markdown",
   "metadata": {},
   "source": [
    "Между размером квартиры и ее стоимостью есть явная зависимость, о чем говорит диаграмма рассеивания и высокая положительная корреляция."
   ]
  },
  {
   "cell_type": "code",
   "execution_count": 100,
   "metadata": {},
   "outputs": [
    {
     "data": {
      "text/plain": [
       "<AxesSubplot:xlabel='last_price', ylabel='living_area'>"
      ]
     },
     "execution_count": 100,
     "metadata": {},
     "output_type": "execute_result"
    },
    {
     "data": {
      "image/png": "[encoded data removed]",
      "text/plain": [
       "<Figure size 432x288 with 1 Axes>"
      ]
     },
     "metadata": {
      "needs_background": "light"
     },
     "output_type": "display_data"
    }
   ],
   "source": [
    "#Построим диаграмму рассеивания между стоимостью квартир и их жилой площадью\n",
    "data.plot(x='last_price', y='living_area', kind='scatter', alpha=0.2)"
   ]
  },
  {
   "cell_type": "code",
   "execution_count": 101,
   "metadata": {},
   "outputs": [
    {
     "data": {
      "text/plain": [
       "0.6405202759014433"
      ]
     },
     "execution_count": 101,
     "metadata": {},
     "output_type": "execute_result"
    }
   ],
   "source": [
    "#Найдем корреляцию рассеивания между стоимостью квартир и их жилой площадью\n",
    "data['last_price'].corr(data['living_area'])"
   ]
  },
  {
   "cell_type": "code",
   "execution_count": 102,
   "metadata": {},
   "outputs": [
    {
     "data": {
      "text/plain": [
       "<AxesSubplot:xlabel='last_price', ylabel='kitchen_area'>"
      ]
     },
     "execution_count": 102,
     "metadata": {},
     "output_type": "execute_result"
    },
    {
     "data": {
      "image/png": "[encoded data removed]",
      "text/plain": [
       "<Figure size 432x288 with 1 Axes>"
      ]
     },
     "metadata": {
      "needs_background": "light"
     },
     "output_type": "display_data"
    }
   ],
   "source": [
    "#Построим диаграмму рассеивания между стоимостью квартир и площадью их кухонь\n",
    "data.plot(x='last_price', y='kitchen_area', kind='scatter', alpha=0.2)"
   ]
  },
  {
   "cell_type": "code",
   "execution_count": 103,
   "metadata": {
    "scrolled": true
   },
   "outputs": [
    {
     "data": {
      "text/plain": [
       "0.5544758072099075"
      ]
     },
     "execution_count": 103,
     "metadata": {},
     "output_type": "execute_result"
    }
   ],
   "source": [
    "#Найдем корреляцию рассеивания между стоимостью квартир и площадью их кухонь\n",
    "data['last_price'].corr(data['kitchen_area'])"
   ]
  },
  {
   "cell_type": "markdown",
   "metadata": {},
   "source": [
    "Как и в случае с общей площадью, наблюдается значительная положительная связь между стоимостью квартиры и ее жилой площадью, а также площадью кухни, хоть и в меньшей степени. Я думаю, причина этого заключается в аномалии, которая наблюдается в диаграмме рассеивания между стоимостью квартир и их жилой площадью в диапазоне 35-40 метров, а также в диаграмме рассеивания между стоимостью квартир и площадью их кухонь в области 10 метров. На диаграммах в этих областях заметна четкая горизонтальная линия, которая не совсем естественно выглядит по сравнению с остальными значениями. При этом в первой деаграмме, где наблюдается зависимость между стоимостью квартиры и общей площадью, этой горизонтальной линии нет. Горизонтальная линия фактически означает отсутствия связи между параметрами. Сходу я не могу сказать, с чем связана данная аномалия, поэтому просто ее констатирую."
   ]
  },
  {
   "cell_type": "code",
   "execution_count": 104,
   "metadata": {
    "scrolled": true
   },
   "outputs": [
    {
     "data": {
      "text/plain": [
       "<AxesSubplot:xlabel='last_price', ylabel='rooms'>"
      ]
     },
     "execution_count": 104,
     "metadata": {},
     "output_type": "execute_result"
    },
    {
     "data": {
      "image/png": "[encoded data removed]",
      "text/plain": [
       "<Figure size 432x288 with 1 Axes>"
      ]
     },
     "metadata": {
      "needs_background": "light"
     },
     "output_type": "display_data"
    }
   ],
   "source": [
    "#Построим диаграмму рассеивания между стоимостью квартир и количеством комнат\n",
    "data.plot(x='last_price', y='rooms', kind='scatter', alpha=0.2)"
   ]
  },
  {
   "cell_type": "code",
   "execution_count": 105,
   "metadata": {
    "scrolled": true
   },
   "outputs": [
    {
     "data": {
      "text/plain": [
       "0.472660135991563"
      ]
     },
     "execution_count": 105,
     "metadata": {},
     "output_type": "execute_result"
    }
   ],
   "source": [
    "#Найдем корреляцию рассеивания между стоимостью квартир и площадью их кухонь\n",
    "data['last_price'].corr(data['rooms'])"
   ]
  },
  {
   "cell_type": "markdown",
   "metadata": {},
   "source": [
    "Положительная зависимость между количеством комнат и стоимостью квартир также обнаружена, однако она меньше, чем в предыдущих сравнениях. Примечателен вид диаграммы рассеивания, которая так отрывисто выглядит в виду небольшого количества вариантов количества комнат."
   ]
  },
  {
   "cell_type": "code",
   "execution_count": 106,
   "metadata": {
    "scrolled": false
   },
   "outputs": [
    {
     "data": {
      "text/plain": [
       "<AxesSubplot:xlabel='last_price', ylabel='type_floor'>"
      ]
     },
     "execution_count": 106,
     "metadata": {},
     "output_type": "execute_result"
    },
    {
     "data": {
      "image/png": "[encoded data removed]",
      "text/plain": [
       "<Figure size 432x288 with 1 Axes>"
      ]
     },
     "metadata": {
      "needs_background": "light"
     },
     "output_type": "display_data"
    }
   ],
   "source": [
    "#Построим диаграмму рассеивания между стоимостью квартир и типом этажа\n",
    "data.plot(x='last_price', y='type_floor', kind='scatter', alpha=0.2)"
   ]
  },
  {
   "cell_type": "markdown",
   "metadata": {},
   "source": [
    "Диграмма рассеивания не очень подходит для номинативных переменных. Но уже можно увидеть, что не так много дорогих квартир продается на первом этаже. Чтобы лучше понять зависимость можно построить сводную таблицу по данным параметрам, в качестве аггрегирующей функции используем медиану, так как она менее восприимчива к выбросам и построим столбчатую диаграмму для визуализации."
   ]
  },
  {
   "cell_type": "code",
   "execution_count": 107,
   "metadata": {},
   "outputs": [
    {
     "data": {
      "text/plain": [
       "<AxesSubplot:xlabel='type_floor'>"
      ]
     },
     "execution_count": 107,
     "metadata": {},
     "output_type": "execute_result"
    },
    {
     "data": {
      "image/png": "[encoded data removed]",
      "text/plain": [
       "<Figure size 432x288 with 1 Axes>"
      ]
     },
     "metadata": {
      "needs_background": "light"
     },
     "output_type": "display_data"
    }
   ],
   "source": [
    "data.pivot_table(index='type_floor', values='last_price', aggfunc='median').plot(y='last_price', kind='bar')"
   ]
  },
  {
   "cell_type": "markdown",
   "metadata": {},
   "source": [
    "Из столбчатой диаграммы видно, что в среднем квартиры на первых этажах самые дешевые, на последнем этаже чуть дороже, ну а самые дорогие - на прочих этажах. Для других номинативных переменных также будем использовать столбчатую диаграмму, аггрегированную по медианной стоимости. "
   ]
  },
  {
   "cell_type": "code",
   "execution_count": 108,
   "metadata": {
    "scrolled": true
   },
   "outputs": [
    {
     "data": {
      "text/plain": [
       "<AxesSubplot:xlabel='day_of_week_exposition'>"
      ]
     },
     "execution_count": 108,
     "metadata": {},
     "output_type": "execute_result"
    },
    {
     "data": {
      "image/png": "[encoded data removed]",
      "text/plain": [
       "<Figure size 432x288 with 1 Axes>"
      ]
     },
     "metadata": {
      "needs_background": "light"
     },
     "output_type": "display_data"
    }
   ],
   "source": [
    "#составим диаграмму, которая показывает медианную стоимость квартир в заисимости от дня недели\n",
    "data.pivot_table(index='day_of_week_exposition', values='last_price', aggfunc='median').plot(y='last_price', kind='bar')"
   ]
  },
  {
   "cell_type": "markdown",
   "metadata": {},
   "source": [
    "Зависимость стоимости квартира от дня недели, в который она была размещена, не обнаружена."
   ]
  },
  {
   "cell_type": "code",
   "execution_count": 109,
   "metadata": {
    "scrolled": true
   },
   "outputs": [
    {
     "data": {
      "text/plain": [
       "<AxesSubplot:xlabel='month_exposition'>"
      ]
     },
     "execution_count": 109,
     "metadata": {},
     "output_type": "execute_result"
    },
    {
     "data": {
      "image/png": "[encoded data removed]",
      "text/plain": [
       "<Figure size 432x288 with 1 Axes>"
      ]
     },
     "metadata": {
      "needs_background": "light"
     },
     "output_type": "display_data"
    }
   ],
   "source": [
    "#составим диаграмму, которая показывает медианную стоимость квартир в заисимости от месяца\n",
    "data.pivot_table(index='month_exposition', values='last_price', aggfunc='median').plot(y='last_price', kind='bar')"
   ]
  },
  {
   "cell_type": "markdown",
   "metadata": {},
   "source": [
    "Есть определенные колебания в стоимости квартир, в зависимости от месяца, когда они были размещены на продажу, однако они незначительны."
   ]
  },
  {
   "cell_type": "code",
   "execution_count": 110,
   "metadata": {
    "scrolled": false
   },
   "outputs": [
    {
     "data": {
      "text/plain": [
       "<AxesSubplot:xlabel='year_exposition'>"
      ]
     },
     "execution_count": 110,
     "metadata": {},
     "output_type": "execute_result"
    },
    {
     "data": {
      "image/png": "[encoded data removed]",
      "text/plain": [
       "<Figure size 432x288 with 1 Axes>"
      ]
     },
     "metadata": {
      "needs_background": "light"
     },
     "output_type": "display_data"
    }
   ],
   "source": [
    "#составим диаграмму, которая показывает медианную стоимость квартир в заисимости от года\n",
    "data.pivot_table(index='year_exposition', values='last_price', aggfunc='median').plot(y='last_price', kind='bar')"
   ]
  },
  {
   "cell_type": "markdown",
   "metadata": {},
   "source": [
    "Возможно, квартиры стали за эти годы меньше, а цена квадратного метра не изменилась. Это нужно проверить."
   ]
  },
  {
   "cell_type": "code",
   "execution_count": 111,
   "metadata": {},
   "outputs": [
    {
     "data": {
      "text/plain": [
       "<AxesSubplot:xlabel='year_exposition'>"
      ]
     },
     "execution_count": 111,
     "metadata": {},
     "output_type": "execute_result"
    },
    {
     "data": {
      "image/png": "[encoded data removed]",
      "text/plain": [
       "<Figure size 432x288 with 1 Axes>"
      ]
     },
     "metadata": {
      "needs_background": "light"
     },
     "output_type": "display_data"
    }
   ],
   "source": [
    "#составим диаграмму, которая показывает медианную площадь квартир в зависимости от года\n",
    "data.pivot_table(index='year_exposition', values='total_area', aggfunc='median').plot(y='total_area', kind='bar')"
   ]
  },
  {
   "cell_type": "code",
   "execution_count": 112,
   "metadata": {
    "scrolled": true
   },
   "outputs": [
    {
     "data": {
      "text/plain": [
       "<AxesSubplot:xlabel='year_exposition'>"
      ]
     },
     "execution_count": 112,
     "metadata": {},
     "output_type": "execute_result"
    },
    {
     "data": {
      "image/png": "[encoded data removed]",
      "text/plain": [
       "<Figure size 432x288 with 1 Axes>"
      ]
     },
     "metadata": {
      "needs_background": "light"
     },
     "output_type": "display_data"
    }
   ],
   "source": [
    "#составим диаграмму, которая показывает медианную стоимость квадратного метра квартир в зависимости от года\n",
    "data.pivot_table(index='year_exposition', values='price_per_metr', aggfunc='median').plot(y='price_per_metr', kind='bar')"
   ]
  },
  {
   "cell_type": "markdown",
   "metadata": {},
   "source": [
    "После 2014 года медианная стоимость квартир резко упала и начала постепенно восстанавливаться с 2017 года. В основном это связано с уменьшением медианной площади квартир. Цена квадратного метра также сократилась после 2014 года, однако в 2019 году практически восстановилась до прежнего уровня."
   ]
  },
  {
   "cell_type": "markdown",
   "metadata": {},
   "source": [
    "**Вывод**: в наибольшей степени на стоимость квартиры оказывает влияние ее общая площадь. Большинство остальных параметров также влияют на стоимость кватиры, но в меньшей степени. Совсем не влияет на стоимость квартиры день и месяц публикации объявления о ее продаже."
   ]
  },
  {
   "cell_type": "markdown",
   "metadata": {},
   "source": [
    "#### Средняя стоимость квадратного метра в различных городах"
   ]
  },
  {
   "cell_type": "code",
   "execution_count": 113,
   "metadata": {},
   "outputs": [
    {
     "data": {
      "text/html": [
       "<div>\n",
       "<style scoped>\n",
       "    .dataframe tbody tr th:only-of-type {\n",
       "        vertical-align: middle;\n",
       "    }\n",
       "\n",
       "    .dataframe tbody tr th {\n",
       "        vertical-align: top;\n",
       "    }\n",
       "\n",
       "    .dataframe thead th {\n",
       "        text-align: right;\n",
       "    }\n",
       "</style>\n",
       "<table border=\"1\" class=\"dataframe\">\n",
       "  <thead>\n",
       "    <tr style=\"text-align: right;\">\n",
       "      <th></th>\n",
       "      <th>locality_name</th>\n",
       "      <th>amount</th>\n",
       "      <th>price_per_metr</th>\n",
       "    </tr>\n",
       "  </thead>\n",
       "  <tbody>\n",
       "    <tr>\n",
       "      <th>216</th>\n",
       "      <td>Санкт-Петербург</td>\n",
       "      <td>15663</td>\n",
       "      <td>113576.666169</td>\n",
       "    </tr>\n",
       "    <tr>\n",
       "      <th>195</th>\n",
       "      <td>Пушкин</td>\n",
       "      <td>369</td>\n",
       "      <td>103125.819291</td>\n",
       "    </tr>\n",
       "    <tr>\n",
       "      <th>102</th>\n",
       "      <td>Кудрово</td>\n",
       "      <td>471</td>\n",
       "      <td>95326.179139</td>\n",
       "    </tr>\n",
       "    <tr>\n",
       "      <th>164</th>\n",
       "      <td>Парголово</td>\n",
       "      <td>327</td>\n",
       "      <td>90175.913458</td>\n",
       "    </tr>\n",
       "    <tr>\n",
       "      <th>141</th>\n",
       "      <td>Мурино</td>\n",
       "      <td>588</td>\n",
       "      <td>86064.821204</td>\n",
       "    </tr>\n",
       "    <tr>\n",
       "      <th>288</th>\n",
       "      <td>Шушары</td>\n",
       "      <td>440</td>\n",
       "      <td>78677.364217</td>\n",
       "    </tr>\n",
       "    <tr>\n",
       "      <th>86</th>\n",
       "      <td>Колпино</td>\n",
       "      <td>338</td>\n",
       "      <td>75424.579098</td>\n",
       "    </tr>\n",
       "    <tr>\n",
       "      <th>41</th>\n",
       "      <td>Гатчина</td>\n",
       "      <td>306</td>\n",
       "      <td>68757.678644</td>\n",
       "    </tr>\n",
       "    <tr>\n",
       "      <th>33</th>\n",
       "      <td>Всеволожск</td>\n",
       "      <td>397</td>\n",
       "      <td>68719.320400</td>\n",
       "    </tr>\n",
       "    <tr>\n",
       "      <th>34</th>\n",
       "      <td>Выборг</td>\n",
       "      <td>235</td>\n",
       "      <td>58238.143141</td>\n",
       "    </tr>\n",
       "  </tbody>\n",
       "</table>\n",
       "</div>"
      ],
      "text/plain": [
       "       locality_name  amount  price_per_metr\n",
       "216  Санкт-Петербург   15663   113576.666169\n",
       "195           Пушкин     369   103125.819291\n",
       "102          Кудрово     471    95326.179139\n",
       "164        Парголово     327    90175.913458\n",
       "141           Мурино     588    86064.821204\n",
       "288           Шушары     440    78677.364217\n",
       "86           Колпино     338    75424.579098\n",
       "41           Гатчина     306    68757.678644\n",
       "33        Всеволожск     397    68719.320400\n",
       "34            Выборг     235    58238.143141"
      ]
     },
     "execution_count": 113,
     "metadata": {},
     "output_type": "execute_result"
    }
   ],
   "source": [
    "#Узнаем, в каких городах наибольшее количество объявлений, и какова в них средняя стоимость квадратного метра квартир\n",
    "top10_amount = data.groupby('locality_name', as_index=False) \\\n",
    "    .agg({'last_price': 'count', 'price_per_metr': 'mean'}) \\\n",
    "    .rename(columns={'last_price': 'amount'}) \\\n",
    "    .sort_values(by='amount', ascending=False) \\\n",
    "    .head(10) \\\n",
    "    .sort_values(by='price_per_metr', ascending=False)\n",
    "top10_amount"
   ]
  },
  {
   "cell_type": "code",
   "execution_count": 114,
   "metadata": {
    "scrolled": false
   },
   "outputs": [
    {
     "data": {
      "text/plain": [
       "<AxesSubplot:xlabel='locality_name'>"
      ]
     },
     "execution_count": 114,
     "metadata": {},
     "output_type": "execute_result"
    },
    {
     "data": {
      "image/png": "[encoded data removed]",
      "text/plain": [
       "<Figure size 432x288 with 1 Axes>"
      ]
     },
     "metadata": {
      "needs_background": "light"
     },
     "output_type": "display_data"
    }
   ],
   "source": [
    "top10_amount.plot(x='locality_name', y='price_per_metr', kind='bar')"
   ]
  },
  {
   "cell_type": "markdown",
   "metadata": {},
   "source": [
    "**Вывод:** Квартиры с самым дорогим квадратным метром ожидаемо в Санкт-Петербурге - более 110 тыс. руб. за квадратный метр. Также достаточно дорогое жилье (более 100 тыс. руб. за квадратный метр) в Пушкине, который находится относительно близко к Санкт-Петербургу и считается достаточно дорогим городом. Также дорогое жилье в \"апендиксах\" Санкт-Петербурга Кудрово, Парголово, и Мурино. А вот самое дешевое жилье в Выборге - менее 60 тыс. руб. за квадратный метр. Город очень удален от Санкт-Петербурга и близость к Финляндии ему не помогает. "
   ]
  },
  {
   "cell_type": "markdown",
   "metadata": {},
   "source": [
    "#### Средняя цена километра"
   ]
  },
  {
   "cell_type": "code",
   "execution_count": 115,
   "metadata": {
    "scrolled": false
   },
   "outputs": [
    {
     "data": {
      "text/html": [
       "<div>\n",
       "<style scoped>\n",
       "    .dataframe tbody tr th:only-of-type {\n",
       "        vertical-align: middle;\n",
       "    }\n",
       "\n",
       "    .dataframe tbody tr th {\n",
       "        vertical-align: top;\n",
       "    }\n",
       "\n",
       "    .dataframe thead th {\n",
       "        text-align: right;\n",
       "    }\n",
       "</style>\n",
       "<table border=\"1\" class=\"dataframe\">\n",
       "  <thead>\n",
       "    <tr style=\"text-align: right;\">\n",
       "      <th></th>\n",
       "      <th>total_images</th>\n",
       "      <th>last_price</th>\n",
       "      <th>total_area</th>\n",
       "      <th>first_day_exposition</th>\n",
       "      <th>rooms</th>\n",
       "      <th>ceiling_height</th>\n",
       "      <th>floors_total</th>\n",
       "      <th>living_area</th>\n",
       "      <th>floor</th>\n",
       "      <th>is_apartment</th>\n",
       "      <th>...</th>\n",
       "      <th>parks_nearest</th>\n",
       "      <th>ponds_around3000</th>\n",
       "      <th>ponds_nearest</th>\n",
       "      <th>days_exposition</th>\n",
       "      <th>price_per_metr</th>\n",
       "      <th>day_of_week_exposition</th>\n",
       "      <th>month_exposition</th>\n",
       "      <th>year_exposition</th>\n",
       "      <th>type_floor</th>\n",
       "      <th>cityCenters_nearest_km</th>\n",
       "    </tr>\n",
       "  </thead>\n",
       "  <tbody>\n",
       "    <tr>\n",
       "      <th>0</th>\n",
       "      <td>20</td>\n",
       "      <td>13000000.0</td>\n",
       "      <td>108.00</td>\n",
       "      <td>2019-03-07</td>\n",
       "      <td>3</td>\n",
       "      <td>2.70</td>\n",
       "      <td>16.0</td>\n",
       "      <td>51.0</td>\n",
       "      <td>8</td>\n",
       "      <td>False</td>\n",
       "      <td>...</td>\n",
       "      <td>482.0</td>\n",
       "      <td>2.0</td>\n",
       "      <td>755.0</td>\n",
       "      <td>95.0</td>\n",
       "      <td>120370.370370</td>\n",
       "      <td>3</td>\n",
       "      <td>3</td>\n",
       "      <td>2019</td>\n",
       "      <td>другой</td>\n",
       "      <td>16.0</td>\n",
       "    </tr>\n",
       "    <tr>\n",
       "      <th>2</th>\n",
       "      <td>10</td>\n",
       "      <td>5196000.0</td>\n",
       "      <td>56.00</td>\n",
       "      <td>2015-08-20</td>\n",
       "      <td>2</td>\n",
       "      <td>2.65</td>\n",
       "      <td>5.0</td>\n",
       "      <td>34.3</td>\n",
       "      <td>4</td>\n",
       "      <td>False</td>\n",
       "      <td>...</td>\n",
       "      <td>90.0</td>\n",
       "      <td>2.0</td>\n",
       "      <td>574.0</td>\n",
       "      <td>558.0</td>\n",
       "      <td>92785.714286</td>\n",
       "      <td>3</td>\n",
       "      <td>8</td>\n",
       "      <td>2015</td>\n",
       "      <td>другой</td>\n",
       "      <td>14.0</td>\n",
       "    </tr>\n",
       "    <tr>\n",
       "      <th>3</th>\n",
       "      <td>0</td>\n",
       "      <td>64900000.0</td>\n",
       "      <td>159.00</td>\n",
       "      <td>2015-07-24</td>\n",
       "      <td>3</td>\n",
       "      <td>2.65</td>\n",
       "      <td>14.0</td>\n",
       "      <td>30.0</td>\n",
       "      <td>9</td>\n",
       "      <td>False</td>\n",
       "      <td>...</td>\n",
       "      <td>84.0</td>\n",
       "      <td>3.0</td>\n",
       "      <td>234.0</td>\n",
       "      <td>424.0</td>\n",
       "      <td>408176.100629</td>\n",
       "      <td>4</td>\n",
       "      <td>7</td>\n",
       "      <td>2015</td>\n",
       "      <td>другой</td>\n",
       "      <td>7.0</td>\n",
       "    </tr>\n",
       "    <tr>\n",
       "      <th>4</th>\n",
       "      <td>2</td>\n",
       "      <td>10000000.0</td>\n",
       "      <td>100.00</td>\n",
       "      <td>2018-06-19</td>\n",
       "      <td>2</td>\n",
       "      <td>3.03</td>\n",
       "      <td>14.0</td>\n",
       "      <td>32.0</td>\n",
       "      <td>13</td>\n",
       "      <td>False</td>\n",
       "      <td>...</td>\n",
       "      <td>112.0</td>\n",
       "      <td>1.0</td>\n",
       "      <td>48.0</td>\n",
       "      <td>121.0</td>\n",
       "      <td>100000.000000</td>\n",
       "      <td>1</td>\n",
       "      <td>6</td>\n",
       "      <td>2018</td>\n",
       "      <td>другой</td>\n",
       "      <td>8.0</td>\n",
       "    </tr>\n",
       "    <tr>\n",
       "      <th>7</th>\n",
       "      <td>5</td>\n",
       "      <td>7915000.0</td>\n",
       "      <td>71.60</td>\n",
       "      <td>2019-04-18</td>\n",
       "      <td>2</td>\n",
       "      <td>2.65</td>\n",
       "      <td>24.0</td>\n",
       "      <td>30.0</td>\n",
       "      <td>22</td>\n",
       "      <td>False</td>\n",
       "      <td>...</td>\n",
       "      <td>NaN</td>\n",
       "      <td>0.0</td>\n",
       "      <td>NaN</td>\n",
       "      <td>95.0</td>\n",
       "      <td>110544.692737</td>\n",
       "      <td>3</td>\n",
       "      <td>4</td>\n",
       "      <td>2019</td>\n",
       "      <td>другой</td>\n",
       "      <td>12.0</td>\n",
       "    </tr>\n",
       "    <tr>\n",
       "      <th>...</th>\n",
       "      <td>...</td>\n",
       "      <td>...</td>\n",
       "      <td>...</td>\n",
       "      <td>...</td>\n",
       "      <td>...</td>\n",
       "      <td>...</td>\n",
       "      <td>...</td>\n",
       "      <td>...</td>\n",
       "      <td>...</td>\n",
       "      <td>...</td>\n",
       "      <td>...</td>\n",
       "      <td>...</td>\n",
       "      <td>...</td>\n",
       "      <td>...</td>\n",
       "      <td>...</td>\n",
       "      <td>...</td>\n",
       "      <td>...</td>\n",
       "      <td>...</td>\n",
       "      <td>...</td>\n",
       "      <td>...</td>\n",
       "      <td>...</td>\n",
       "    </tr>\n",
       "    <tr>\n",
       "      <th>23689</th>\n",
       "      <td>13</td>\n",
       "      <td>3550000.0</td>\n",
       "      <td>35.30</td>\n",
       "      <td>2018-02-28</td>\n",
       "      <td>1</td>\n",
       "      <td>2.86</td>\n",
       "      <td>15.0</td>\n",
       "      <td>16.3</td>\n",
       "      <td>4</td>\n",
       "      <td>False</td>\n",
       "      <td>...</td>\n",
       "      <td>353.0</td>\n",
       "      <td>2.0</td>\n",
       "      <td>652.0</td>\n",
       "      <td>29.0</td>\n",
       "      <td>100566.572238</td>\n",
       "      <td>2</td>\n",
       "      <td>2</td>\n",
       "      <td>2018</td>\n",
       "      <td>другой</td>\n",
       "      <td>16.0</td>\n",
       "    </tr>\n",
       "    <tr>\n",
       "      <th>23690</th>\n",
       "      <td>3</td>\n",
       "      <td>5500000.0</td>\n",
       "      <td>52.00</td>\n",
       "      <td>2018-07-19</td>\n",
       "      <td>2</td>\n",
       "      <td>2.65</td>\n",
       "      <td>5.0</td>\n",
       "      <td>31.0</td>\n",
       "      <td>2</td>\n",
       "      <td>False</td>\n",
       "      <td>...</td>\n",
       "      <td>300.0</td>\n",
       "      <td>0.0</td>\n",
       "      <td>NaN</td>\n",
       "      <td>15.0</td>\n",
       "      <td>105769.230769</td>\n",
       "      <td>3</td>\n",
       "      <td>7</td>\n",
       "      <td>2018</td>\n",
       "      <td>другой</td>\n",
       "      <td>6.0</td>\n",
       "    </tr>\n",
       "    <tr>\n",
       "      <th>23691</th>\n",
       "      <td>11</td>\n",
       "      <td>9470000.0</td>\n",
       "      <td>72.90</td>\n",
       "      <td>2016-10-13</td>\n",
       "      <td>2</td>\n",
       "      <td>2.75</td>\n",
       "      <td>25.0</td>\n",
       "      <td>40.3</td>\n",
       "      <td>7</td>\n",
       "      <td>False</td>\n",
       "      <td>...</td>\n",
       "      <td>NaN</td>\n",
       "      <td>1.0</td>\n",
       "      <td>806.0</td>\n",
       "      <td>519.0</td>\n",
       "      <td>129903.978052</td>\n",
       "      <td>3</td>\n",
       "      <td>10</td>\n",
       "      <td>2016</td>\n",
       "      <td>другой</td>\n",
       "      <td>4.0</td>\n",
       "    </tr>\n",
       "    <tr>\n",
       "      <th>23694</th>\n",
       "      <td>9</td>\n",
       "      <td>9700000.0</td>\n",
       "      <td>133.81</td>\n",
       "      <td>2017-03-21</td>\n",
       "      <td>3</td>\n",
       "      <td>3.70</td>\n",
       "      <td>5.0</td>\n",
       "      <td>73.3</td>\n",
       "      <td>3</td>\n",
       "      <td>False</td>\n",
       "      <td>...</td>\n",
       "      <td>796.0</td>\n",
       "      <td>3.0</td>\n",
       "      <td>381.0</td>\n",
       "      <td>95.0</td>\n",
       "      <td>72490.845228</td>\n",
       "      <td>1</td>\n",
       "      <td>3</td>\n",
       "      <td>2017</td>\n",
       "      <td>другой</td>\n",
       "      <td>4.0</td>\n",
       "    </tr>\n",
       "    <tr>\n",
       "      <th>23697</th>\n",
       "      <td>13</td>\n",
       "      <td>11475000.0</td>\n",
       "      <td>76.75</td>\n",
       "      <td>2017-03-28</td>\n",
       "      <td>2</td>\n",
       "      <td>3.00</td>\n",
       "      <td>17.0</td>\n",
       "      <td>30.0</td>\n",
       "      <td>12</td>\n",
       "      <td>False</td>\n",
       "      <td>...</td>\n",
       "      <td>173.0</td>\n",
       "      <td>3.0</td>\n",
       "      <td>196.0</td>\n",
       "      <td>602.0</td>\n",
       "      <td>149511.400651</td>\n",
       "      <td>1</td>\n",
       "      <td>3</td>\n",
       "      <td>2017</td>\n",
       "      <td>другой</td>\n",
       "      <td>10.0</td>\n",
       "    </tr>\n",
       "  </tbody>\n",
       "</table>\n",
       "<p>15663 rows × 28 columns</p>\n",
       "</div>"
      ],
      "text/plain": [
       "       total_images  last_price  total_area first_day_exposition  rooms  \\\n",
       "0                20  13000000.0      108.00           2019-03-07      3   \n",
       "2                10   5196000.0       56.00           2015-08-20      2   \n",
       "3                 0  64900000.0      159.00           2015-07-24      3   \n",
       "4                 2  10000000.0      100.00           2018-06-19      2   \n",
       "7                 5   7915000.0       71.60           2019-04-18      2   \n",
       "...             ...         ...         ...                  ...    ...   \n",
       "23689            13   3550000.0       35.30           2018-02-28      1   \n",
       "23690             3   5500000.0       52.00           2018-07-19      2   \n",
       "23691            11   9470000.0       72.90           2016-10-13      2   \n",
       "23694             9   9700000.0      133.81           2017-03-21      3   \n",
       "23697            13  11475000.0       76.75           2017-03-28      2   \n",
       "\n",
       "       ceiling_height  floors_total  living_area  floor  is_apartment  ...  \\\n",
       "0                2.70          16.0         51.0      8         False  ...   \n",
       "2                2.65           5.0         34.3      4         False  ...   \n",
       "3                2.65          14.0         30.0      9         False  ...   \n",
       "4                3.03          14.0         32.0     13         False  ...   \n",
       "7                2.65          24.0         30.0     22         False  ...   \n",
       "...               ...           ...          ...    ...           ...  ...   \n",
       "23689            2.86          15.0         16.3      4         False  ...   \n",
       "23690            2.65           5.0         31.0      2         False  ...   \n",
       "23691            2.75          25.0         40.3      7         False  ...   \n",
       "23694            3.70           5.0         73.3      3         False  ...   \n",
       "23697            3.00          17.0         30.0     12         False  ...   \n",
       "\n",
       "       parks_nearest  ponds_around3000  ponds_nearest  days_exposition  \\\n",
       "0              482.0               2.0          755.0             95.0   \n",
       "2               90.0               2.0          574.0            558.0   \n",
       "3               84.0               3.0          234.0            424.0   \n",
       "4              112.0               1.0           48.0            121.0   \n",
       "7                NaN               0.0            NaN             95.0   \n",
       "...              ...               ...            ...              ...   \n",
       "23689          353.0               2.0          652.0             29.0   \n",
       "23690          300.0               0.0            NaN             15.0   \n",
       "23691            NaN               1.0          806.0            519.0   \n",
       "23694          796.0               3.0          381.0             95.0   \n",
       "23697          173.0               3.0          196.0            602.0   \n",
       "\n",
       "      price_per_metr  day_of_week_exposition  month_exposition  \\\n",
       "0      120370.370370                       3                 3   \n",
       "2       92785.714286                       3                 8   \n",
       "3      408176.100629                       4                 7   \n",
       "4      100000.000000                       1                 6   \n",
       "7      110544.692737                       3                 4   \n",
       "...              ...                     ...               ...   \n",
       "23689  100566.572238                       2                 2   \n",
       "23690  105769.230769                       3                 7   \n",
       "23691  129903.978052                       3                10   \n",
       "23694   72490.845228                       1                 3   \n",
       "23697  149511.400651                       1                 3   \n",
       "\n",
       "       year_exposition  type_floor  cityCenters_nearest_km  \n",
       "0                 2019      другой                    16.0  \n",
       "2                 2015      другой                    14.0  \n",
       "3                 2015      другой                     7.0  \n",
       "4                 2018      другой                     8.0  \n",
       "7                 2019      другой                    12.0  \n",
       "...                ...         ...                     ...  \n",
       "23689             2018      другой                    16.0  \n",
       "23690             2018      другой                     6.0  \n",
       "23691             2016      другой                     4.0  \n",
       "23694             2017      другой                     4.0  \n",
       "23697             2017      другой                    10.0  \n",
       "\n",
       "[15663 rows x 28 columns]"
      ]
     },
     "execution_count": 115,
     "metadata": {},
     "output_type": "execute_result"
    }
   ],
   "source": [
    "#Выделим только квартиры, которые находятся в Санкт-Петербурге\n",
    "data_spb = data.query('locality_name == \"Санкт-Петербург\"')\n",
    "data_spb "
   ]
  },
  {
   "cell_type": "code",
   "execution_count": 116,
   "metadata": {
    "scrolled": true
   },
   "outputs": [
    {
     "data": {
      "text/html": [
       "<div>\n",
       "<style scoped>\n",
       "    .dataframe tbody tr th:only-of-type {\n",
       "        vertical-align: middle;\n",
       "    }\n",
       "\n",
       "    .dataframe tbody tr th {\n",
       "        vertical-align: top;\n",
       "    }\n",
       "\n",
       "    .dataframe thead th {\n",
       "        text-align: right;\n",
       "    }\n",
       "</style>\n",
       "<table border=\"1\" class=\"dataframe\">\n",
       "  <thead>\n",
       "    <tr style=\"text-align: right;\">\n",
       "      <th></th>\n",
       "      <th>cityCenters_nearest_km</th>\n",
       "      <th>price_per_metr</th>\n",
       "    </tr>\n",
       "  </thead>\n",
       "  <tbody>\n",
       "    <tr>\n",
       "      <th>0</th>\n",
       "      <td>0.0</td>\n",
       "      <td>231767.956010</td>\n",
       "    </tr>\n",
       "    <tr>\n",
       "      <th>1</th>\n",
       "      <td>1.0</td>\n",
       "      <td>155042.448039</td>\n",
       "    </tr>\n",
       "    <tr>\n",
       "      <th>2</th>\n",
       "      <td>2.0</td>\n",
       "      <td>148261.204372</td>\n",
       "    </tr>\n",
       "    <tr>\n",
       "      <th>3</th>\n",
       "      <td>3.0</td>\n",
       "      <td>121225.876844</td>\n",
       "    </tr>\n",
       "    <tr>\n",
       "      <th>4</th>\n",
       "      <td>4.0</td>\n",
       "      <td>128411.381628</td>\n",
       "    </tr>\n",
       "    <tr>\n",
       "      <th>5</th>\n",
       "      <td>5.0</td>\n",
       "      <td>137557.895576</td>\n",
       "    </tr>\n",
       "    <tr>\n",
       "      <th>6</th>\n",
       "      <td>6.0</td>\n",
       "      <td>146045.227642</td>\n",
       "    </tr>\n",
       "    <tr>\n",
       "      <th>7</th>\n",
       "      <td>7.0</td>\n",
       "      <td>153123.328886</td>\n",
       "    </tr>\n",
       "    <tr>\n",
       "      <th>8</th>\n",
       "      <td>8.0</td>\n",
       "      <td>124335.216202</td>\n",
       "    </tr>\n",
       "    <tr>\n",
       "      <th>9</th>\n",
       "      <td>9.0</td>\n",
       "      <td>113131.041911</td>\n",
       "    </tr>\n",
       "    <tr>\n",
       "      <th>10</th>\n",
       "      <td>10.0</td>\n",
       "      <td>112722.030644</td>\n",
       "    </tr>\n",
       "    <tr>\n",
       "      <th>11</th>\n",
       "      <td>11.0</td>\n",
       "      <td>108655.307546</td>\n",
       "    </tr>\n",
       "    <tr>\n",
       "      <th>12</th>\n",
       "      <td>12.0</td>\n",
       "      <td>107493.523357</td>\n",
       "    </tr>\n",
       "    <tr>\n",
       "      <th>13</th>\n",
       "      <td>13.0</td>\n",
       "      <td>108162.955368</td>\n",
       "    </tr>\n",
       "    <tr>\n",
       "      <th>14</th>\n",
       "      <td>14.0</td>\n",
       "      <td>104260.478970</td>\n",
       "    </tr>\n",
       "    <tr>\n",
       "      <th>15</th>\n",
       "      <td>15.0</td>\n",
       "      <td>104252.468473</td>\n",
       "    </tr>\n",
       "    <tr>\n",
       "      <th>16</th>\n",
       "      <td>16.0</td>\n",
       "      <td>100567.059959</td>\n",
       "    </tr>\n",
       "    <tr>\n",
       "      <th>17</th>\n",
       "      <td>17.0</td>\n",
       "      <td>96597.652408</td>\n",
       "    </tr>\n",
       "    <tr>\n",
       "      <th>18</th>\n",
       "      <td>18.0</td>\n",
       "      <td>96362.263941</td>\n",
       "    </tr>\n",
       "    <tr>\n",
       "      <th>19</th>\n",
       "      <td>19.0</td>\n",
       "      <td>98652.736027</td>\n",
       "    </tr>\n",
       "    <tr>\n",
       "      <th>20</th>\n",
       "      <td>20.0</td>\n",
       "      <td>103081.679025</td>\n",
       "    </tr>\n",
       "    <tr>\n",
       "      <th>21</th>\n",
       "      <td>21.0</td>\n",
       "      <td>94469.584582</td>\n",
       "    </tr>\n",
       "    <tr>\n",
       "      <th>22</th>\n",
       "      <td>22.0</td>\n",
       "      <td>91330.425050</td>\n",
       "    </tr>\n",
       "    <tr>\n",
       "      <th>23</th>\n",
       "      <td>23.0</td>\n",
       "      <td>91828.517765</td>\n",
       "    </tr>\n",
       "    <tr>\n",
       "      <th>24</th>\n",
       "      <td>24.0</td>\n",
       "      <td>85736.904595</td>\n",
       "    </tr>\n",
       "    <tr>\n",
       "      <th>25</th>\n",
       "      <td>25.0</td>\n",
       "      <td>91531.371618</td>\n",
       "    </tr>\n",
       "    <tr>\n",
       "      <th>26</th>\n",
       "      <td>26.0</td>\n",
       "      <td>89285.876593</td>\n",
       "    </tr>\n",
       "    <tr>\n",
       "      <th>27</th>\n",
       "      <td>27.0</td>\n",
       "      <td>132115.709459</td>\n",
       "    </tr>\n",
       "    <tr>\n",
       "      <th>28</th>\n",
       "      <td>28.0</td>\n",
       "      <td>81161.915320</td>\n",
       "    </tr>\n",
       "    <tr>\n",
       "      <th>29</th>\n",
       "      <td>29.0</td>\n",
       "      <td>72953.365445</td>\n",
       "    </tr>\n",
       "  </tbody>\n",
       "</table>\n",
       "</div>"
      ],
      "text/plain": [
       "    cityCenters_nearest_km  price_per_metr\n",
       "0                      0.0   231767.956010\n",
       "1                      1.0   155042.448039\n",
       "2                      2.0   148261.204372\n",
       "3                      3.0   121225.876844\n",
       "4                      4.0   128411.381628\n",
       "5                      5.0   137557.895576\n",
       "6                      6.0   146045.227642\n",
       "7                      7.0   153123.328886\n",
       "8                      8.0   124335.216202\n",
       "9                      9.0   113131.041911\n",
       "10                    10.0   112722.030644\n",
       "11                    11.0   108655.307546\n",
       "12                    12.0   107493.523357\n",
       "13                    13.0   108162.955368\n",
       "14                    14.0   104260.478970\n",
       "15                    15.0   104252.468473\n",
       "16                    16.0   100567.059959\n",
       "17                    17.0    96597.652408\n",
       "18                    18.0    96362.263941\n",
       "19                    19.0    98652.736027\n",
       "20                    20.0   103081.679025\n",
       "21                    21.0    94469.584582\n",
       "22                    22.0    91330.425050\n",
       "23                    23.0    91828.517765\n",
       "24                    24.0    85736.904595\n",
       "25                    25.0    91531.371618\n",
       "26                    26.0    89285.876593\n",
       "27                    27.0   132115.709459\n",
       "28                    28.0    81161.915320\n",
       "29                    29.0    72953.365445"
      ]
     },
     "execution_count": 116,
     "metadata": {},
     "output_type": "execute_result"
    }
   ],
   "source": [
    "#составим сводную таблицу, в которой бы отражалась средняя цена за один квадратный метр на каждый километр от центра\n",
    "spb_pivot = data_spb.pivot_table(index='cityCenters_nearest_km', values='price_per_metr').reset_index()\n",
    "spb_pivot"
   ]
  },
  {
   "cell_type": "code",
   "execution_count": 117,
   "metadata": {
    "scrolled": true
   },
   "outputs": [
    {
     "data": {
      "image/png": "[encoded data removed]",
      "text/plain": [
       "<Figure size 432x288 with 1 Axes>"
      ]
     },
     "metadata": {
      "needs_background": "light"
     },
     "output_type": "display_data"
    }
   ],
   "source": [
    "#составим график по сводной таблице\n",
    "spb_pivot['price_per_metr'].plot(grid = True, title = 'Заголовок')\n",
    "plt.show()"
   ]
  },
  {
   "cell_type": "markdown",
   "metadata": {},
   "source": [
    "Из графика видно, что в среднем стоимость квадратного метра квартир падает по мере удаления от центра. При этом наиболее значительное падение наблюдается до 4 км от центра. Выглядят аномальным рост стоимости квартир с 4 по 7 км от центра, а также диапазоне от 26 до 27 км от центра. Возможно, это связано с особенностью географии города. Например, в диапазоне 4-7 км находятся новые элитные ЖК, которые находятся за пределами исторической застройки, но все-таки близкие к центру. А в диапазоне 26-27 могут находится элитные поселки на окраине города (как московская \"Рублевка\").  "
   ]
  },
  {
   "cell_type": "code",
   "execution_count": 118,
   "metadata": {},
   "outputs": [
    {
     "name": "stdout",
     "output_type": "stream",
     "text": [
      "-5293.819685530393\n"
     ]
    }
   ],
   "source": [
    "#сделаем цикл, чтобы понять, насколько в среднем снижается стоимость одного квадратного метра при удалении от центра\n",
    "i = 0 #создаем счетчик\n",
    "sum_difference = 0 #создаем переменну, в которую будем накапливать разницу в стоим. кв. м в завиимости от расстояния от центра\n",
    "for raw in range(len(spb_pivot['price_per_metr'])):\n",
    "    if i > 0: #пропускаем первую итерацию цикла, иначе из первого километра будет вычитаться нулевой\n",
    "        sum_difference += (spb_pivot['price_per_metr'][raw] - spb_pivot['price_per_metr'][raw-1])\n",
    "    i+=1\n",
    "print(sum_difference / (len(spb_pivot['price_per_metr'] - 1))) #находим среднее снижение стоимости одного метра"
   ]
  },
  {
   "cell_type": "markdown",
   "metadata": {},
   "source": [
    "Вывод: среднее снижение стоимости одного квадратного метра на километр от центра составляет около 5.3 тыс. рублей. Можно сказать наоборот, что с каждым километром ближе к центру Санкт-Петербурга стоимость одного квадратного метра квартир повышается на 5.3 тыс. рублей."
   ]
  },
  {
   "cell_type": "markdown",
   "metadata": {},
   "source": [
    "### Общий вывод"
   ]
  },
  {
   "cell_type": "markdown",
   "metadata": {},
   "source": [
    "Большинство квартир, которые представлены на рынке Санкт-Петербурга и области, - небольшие одно- и двухкомнатные квартиры, средней площадью 50-60 метров и стоимостью 4.5-6.5 млн руб. Подавляющее число квартир стоит до 10 млн руб. При этом существует небольшая прослойка элитных квартир, которые стоят больше. Небольшое число квартир и вовсе стоит более 100 млн руб., и сходу трудно сказать, за счет чего такая высокая стоимость, так как многие из них имеют небольшую площадь, которая является основным фактором, определяющим стоимость квартир. Также на стоимость квартир влияют и другие параметры, такие как этаж или год, когда было опубликовано объявление о продажи. С 2014 года медианная стоимость квартир значительно снизилась преимущественно из-за сокращения медианной площади квартир. Самые дорогой квадратный метр квартир ожидаемо в Санкт-Петербурге, при этом почти такие же цены на квартиры есть и в г. Пушкин, который является пригородом Санкт-Петербурга. Наблюдается явная связь между стоимостью квартир и удалением их от центра Санкт-Петербурга, однако в некоторых диапазонах от городского центра стоимость квадратного метра жилья начинает дорожать."
   ]
  }
 ],
 "metadata": {
  "ExecuteTimeLog": [
   {
    "duration": 701,
    "start_time": "2022-08-09T11:29:31.688Z"
   },
   {
    "duration": 50,
    "start_time": "2022-08-09T11:30:57.568Z"
   },
   {
    "duration": 74,
    "start_time": "2022-08-09T11:32:22.179Z"
   },
   {
    "duration": 85,
    "start_time": "2022-08-09T11:34:19.206Z"
   },
   {
    "duration": 126,
    "start_time": "2022-08-09T11:35:59.294Z"
   },
   {
    "duration": 99,
    "start_time": "2022-08-09T11:36:23.226Z"
   },
   {
    "duration": 14,
    "start_time": "2022-08-09T11:38:17.807Z"
   },
   {
    "duration": 2120,
    "start_time": "2022-08-09T11:39:29.705Z"
   },
   {
    "duration": 5,
    "start_time": "2022-08-09T11:45:45.282Z"
   },
   {
    "duration": 7,
    "start_time": "2022-08-09T11:47:14.479Z"
   },
   {
    "duration": 79,
    "start_time": "2022-08-09T11:47:47.358Z"
   },
   {
    "duration": 5,
    "start_time": "2022-08-09T11:47:56.602Z"
   },
   {
    "duration": 4,
    "start_time": "2022-08-09T11:48:16.982Z"
   },
   {
    "duration": 4,
    "start_time": "2022-08-09T11:48:17.993Z"
   },
   {
    "duration": 5,
    "start_time": "2022-08-09T11:48:45.071Z"
   },
   {
    "duration": 6,
    "start_time": "2022-08-09T12:33:26.398Z"
   },
   {
    "duration": 120,
    "start_time": "2022-08-09T12:33:30.799Z"
   },
   {
    "duration": 6,
    "start_time": "2022-08-09T12:33:34.815Z"
   },
   {
    "duration": 5,
    "start_time": "2022-08-09T12:37:33.625Z"
   },
   {
    "duration": 6,
    "start_time": "2022-08-09T12:39:19.033Z"
   },
   {
    "duration": 5,
    "start_time": "2022-08-09T12:40:05.292Z"
   },
   {
    "duration": 5,
    "start_time": "2022-08-09T12:42:05.031Z"
   },
   {
    "duration": 5,
    "start_time": "2022-08-09T12:48:18.425Z"
   },
   {
    "duration": 2,
    "start_time": "2022-08-09T12:50:08.565Z"
   },
   {
    "duration": 9,
    "start_time": "2022-08-09T12:50:59.615Z"
   },
   {
    "duration": 108,
    "start_time": "2022-08-09T12:51:18.971Z"
   },
   {
    "duration": 13,
    "start_time": "2022-08-09T12:51:19.171Z"
   },
   {
    "duration": 1764,
    "start_time": "2022-08-09T12:51:19.339Z"
   },
   {
    "duration": 8,
    "start_time": "2022-08-09T12:51:21.105Z"
   },
   {
    "duration": 9,
    "start_time": "2022-08-09T12:51:21.115Z"
   },
   {
    "duration": 7,
    "start_time": "2022-08-09T12:51:22.285Z"
   },
   {
    "duration": 6,
    "start_time": "2022-08-09T12:51:23.802Z"
   },
   {
    "duration": 7,
    "start_time": "2022-08-09T12:51:24.111Z"
   },
   {
    "duration": 6,
    "start_time": "2022-08-09T12:51:25.054Z"
   },
   {
    "duration": 63,
    "start_time": "2022-08-10T07:59:30.352Z"
   },
   {
    "duration": 654,
    "start_time": "2022-08-10T07:59:55.898Z"
   },
   {
    "duration": 22,
    "start_time": "2022-08-10T07:59:56.555Z"
   },
   {
    "duration": 2794,
    "start_time": "2022-08-10T07:59:56.580Z"
   },
   {
    "duration": 17,
    "start_time": "2022-08-10T07:59:59.376Z"
   },
   {
    "duration": 20,
    "start_time": "2022-08-10T07:59:59.396Z"
   },
   {
    "duration": 7,
    "start_time": "2022-08-10T07:59:59.418Z"
   },
   {
    "duration": 17,
    "start_time": "2022-08-10T07:59:59.428Z"
   },
   {
    "duration": 15,
    "start_time": "2022-08-10T07:59:59.447Z"
   },
   {
    "duration": 34,
    "start_time": "2022-08-10T07:59:59.463Z"
   },
   {
    "duration": 29,
    "start_time": "2022-08-10T07:59:59.499Z"
   },
   {
    "duration": 96,
    "start_time": "2022-08-10T08:00:34.356Z"
   },
   {
    "duration": 13,
    "start_time": "2022-08-10T08:00:46.327Z"
   },
   {
    "duration": 6,
    "start_time": "2022-08-10T08:00:55.141Z"
   },
   {
    "duration": 9,
    "start_time": "2022-08-10T08:08:06.815Z"
   },
   {
    "duration": 8,
    "start_time": "2022-08-10T08:11:08.630Z"
   },
   {
    "duration": 5,
    "start_time": "2022-08-10T08:11:39.069Z"
   },
   {
    "duration": 7,
    "start_time": "2022-08-10T08:12:18.717Z"
   },
   {
    "duration": 7,
    "start_time": "2022-08-10T08:15:27.643Z"
   },
   {
    "duration": 5,
    "start_time": "2022-08-10T08:15:45.517Z"
   },
   {
    "duration": 7,
    "start_time": "2022-08-10T08:15:55.315Z"
   },
   {
    "duration": 7,
    "start_time": "2022-08-10T08:17:54.427Z"
   },
   {
    "duration": 6,
    "start_time": "2022-08-10T08:18:13.083Z"
   },
   {
    "duration": 106,
    "start_time": "2022-08-10T08:19:26.907Z"
   },
   {
    "duration": 10,
    "start_time": "2022-08-10T08:19:32.958Z"
   },
   {
    "duration": 7,
    "start_time": "2022-08-10T08:21:19.247Z"
   },
   {
    "duration": 6,
    "start_time": "2022-08-10T08:22:14.665Z"
   },
   {
    "duration": 140,
    "start_time": "2022-08-10T08:28:59.844Z"
   },
   {
    "duration": 9,
    "start_time": "2022-08-10T08:30:36.303Z"
   },
   {
    "duration": 5,
    "start_time": "2022-08-10T08:30:40.762Z"
   },
   {
    "duration": 5,
    "start_time": "2022-08-10T08:31:13.582Z"
   },
   {
    "duration": 6,
    "start_time": "2022-08-10T08:33:34.436Z"
   },
   {
    "duration": 5,
    "start_time": "2022-08-10T08:33:58.925Z"
   },
   {
    "duration": 6,
    "start_time": "2022-08-10T08:35:15.208Z"
   },
   {
    "duration": 5,
    "start_time": "2022-08-10T08:35:33.011Z"
   },
   {
    "duration": 81,
    "start_time": "2022-08-10T08:38:10.213Z"
   },
   {
    "duration": 11,
    "start_time": "2022-08-10T08:38:18.867Z"
   },
   {
    "duration": 12,
    "start_time": "2022-08-10T08:38:43.814Z"
   },
   {
    "duration": 13,
    "start_time": "2022-08-10T08:38:47.431Z"
   },
   {
    "duration": 10,
    "start_time": "2022-08-10T08:39:47.544Z"
   },
   {
    "duration": 15,
    "start_time": "2022-08-10T08:40:24.596Z"
   },
   {
    "duration": 12,
    "start_time": "2022-08-10T08:41:13.156Z"
   },
   {
    "duration": 16,
    "start_time": "2022-08-10T08:42:35.681Z"
   },
   {
    "duration": 21,
    "start_time": "2022-08-10T08:55:22.262Z"
   },
   {
    "duration": 1845,
    "start_time": "2022-08-10T08:56:24.299Z"
   },
   {
    "duration": 24,
    "start_time": "2022-08-10T08:56:32.856Z"
   },
   {
    "duration": 17,
    "start_time": "2022-08-10T08:57:01.017Z"
   },
   {
    "duration": 20,
    "start_time": "2022-08-10T08:58:55.128Z"
   },
   {
    "duration": 15,
    "start_time": "2022-08-10T08:59:19.371Z"
   },
   {
    "duration": 11,
    "start_time": "2022-08-10T08:59:23.742Z"
   },
   {
    "duration": 12,
    "start_time": "2022-08-10T08:59:32.071Z"
   },
   {
    "duration": 10,
    "start_time": "2022-08-10T08:59:48.149Z"
   },
   {
    "duration": 17,
    "start_time": "2022-08-10T08:59:57.612Z"
   },
   {
    "duration": 16,
    "start_time": "2022-08-10T09:11:58.031Z"
   },
   {
    "duration": 18,
    "start_time": "2022-08-10T09:12:54.024Z"
   },
   {
    "duration": 32,
    "start_time": "2022-08-10T09:14:28.185Z"
   },
   {
    "duration": 11,
    "start_time": "2022-08-10T09:14:37.443Z"
   },
   {
    "duration": 9,
    "start_time": "2022-08-10T09:25:29.126Z"
   },
   {
    "duration": 1907,
    "start_time": "2022-08-10T09:35:46.011Z"
   },
   {
    "duration": 1884,
    "start_time": "2022-08-10T09:36:06.425Z"
   },
   {
    "duration": 1364,
    "start_time": "2022-08-10T09:36:16.858Z"
   },
   {
    "duration": 23,
    "start_time": "2022-08-10T09:37:17.185Z"
   },
   {
    "duration": 19,
    "start_time": "2022-08-10T09:37:30.791Z"
   },
   {
    "duration": 8,
    "start_time": "2022-08-10T09:37:41.584Z"
   },
   {
    "duration": 291,
    "start_time": "2022-08-10T09:37:52.380Z"
   },
   {
    "duration": 16,
    "start_time": "2022-08-10T09:37:58.920Z"
   },
   {
    "duration": 6,
    "start_time": "2022-08-10T09:38:01.542Z"
   },
   {
    "duration": 14,
    "start_time": "2022-08-10T09:38:06.425Z"
   },
   {
    "duration": 14,
    "start_time": "2022-08-10T09:39:31.635Z"
   },
   {
    "duration": 15,
    "start_time": "2022-08-10T09:39:38.618Z"
   },
   {
    "duration": 2,
    "start_time": "2022-08-10T09:40:17.975Z"
   },
   {
    "duration": 37,
    "start_time": "2022-08-10T09:40:33.884Z"
   },
   {
    "duration": 5,
    "start_time": "2022-08-10T09:41:07.880Z"
   },
   {
    "duration": 6,
    "start_time": "2022-08-10T09:41:21.040Z"
   },
   {
    "duration": 100,
    "start_time": "2022-08-10T09:43:43.118Z"
   },
   {
    "duration": 12,
    "start_time": "2022-08-10T09:43:50.718Z"
   },
   {
    "duration": 15,
    "start_time": "2022-08-10T09:44:04.492Z"
   },
   {
    "duration": 7,
    "start_time": "2022-08-10T09:44:32.081Z"
   },
   {
    "duration": 6,
    "start_time": "2022-08-10T09:45:53.112Z"
   },
   {
    "duration": 6,
    "start_time": "2022-08-10T09:46:16.922Z"
   },
   {
    "duration": 5,
    "start_time": "2022-08-10T09:46:37.853Z"
   },
   {
    "duration": 96,
    "start_time": "2022-08-10T09:49:37.684Z"
   },
   {
    "duration": 8,
    "start_time": "2022-08-10T09:49:46.962Z"
   },
   {
    "duration": 5,
    "start_time": "2022-08-10T09:49:50.615Z"
   },
   {
    "duration": 4,
    "start_time": "2022-08-10T09:54:22.879Z"
   },
   {
    "duration": 6,
    "start_time": "2022-08-10T09:54:28.508Z"
   },
   {
    "duration": 6,
    "start_time": "2022-08-10T10:01:39.616Z"
   },
   {
    "duration": 4,
    "start_time": "2022-08-10T10:57:04.028Z"
   },
   {
    "duration": 8,
    "start_time": "2022-08-10T10:57:13.526Z"
   },
   {
    "duration": 8,
    "start_time": "2022-08-10T10:57:16.591Z"
   },
   {
    "duration": 8,
    "start_time": "2022-08-10T10:57:19.838Z"
   },
   {
    "duration": 31,
    "start_time": "2022-08-10T10:57:25.072Z"
   },
   {
    "duration": 15,
    "start_time": "2022-08-10T10:57:27.702Z"
   },
   {
    "duration": 15,
    "start_time": "2022-08-10T10:58:38.462Z"
   },
   {
    "duration": 116,
    "start_time": "2022-08-10T10:58:42.692Z"
   },
   {
    "duration": 15,
    "start_time": "2022-08-10T10:58:42.861Z"
   },
   {
    "duration": 2085,
    "start_time": "2022-08-10T10:58:43.021Z"
   },
   {
    "duration": 6,
    "start_time": "2022-08-10T10:58:45.108Z"
   },
   {
    "duration": 17,
    "start_time": "2022-08-10T10:58:45.116Z"
   },
   {
    "duration": 7,
    "start_time": "2022-08-10T10:58:45.136Z"
   },
   {
    "duration": 10,
    "start_time": "2022-08-10T10:58:45.145Z"
   },
   {
    "duration": 39,
    "start_time": "2022-08-10T10:58:45.157Z"
   },
   {
    "duration": 7,
    "start_time": "2022-08-10T10:58:45.198Z"
   },
   {
    "duration": 22,
    "start_time": "2022-08-10T10:58:45.207Z"
   },
   {
    "duration": 21,
    "start_time": "2022-08-10T10:58:45.231Z"
   },
   {
    "duration": 9,
    "start_time": "2022-08-10T10:58:45.255Z"
   },
   {
    "duration": 6,
    "start_time": "2022-08-10T10:58:45.305Z"
   },
   {
    "duration": 5,
    "start_time": "2022-08-10T10:58:45.799Z"
   },
   {
    "duration": 8,
    "start_time": "2022-08-10T10:58:46.132Z"
   },
   {
    "duration": 6,
    "start_time": "2022-08-10T10:58:47.422Z"
   },
   {
    "duration": 7,
    "start_time": "2022-08-10T10:58:48.457Z"
   },
   {
    "duration": 6,
    "start_time": "2022-08-10T10:58:48.620Z"
   },
   {
    "duration": 5,
    "start_time": "2022-08-10T10:58:50.606Z"
   },
   {
    "duration": 5,
    "start_time": "2022-08-10T10:58:51.119Z"
   },
   {
    "duration": 5,
    "start_time": "2022-08-10T10:58:51.275Z"
   },
   {
    "duration": 6,
    "start_time": "2022-08-10T10:58:51.436Z"
   },
   {
    "duration": 5,
    "start_time": "2022-08-10T10:58:51.598Z"
   },
   {
    "duration": 7,
    "start_time": "2022-08-10T10:58:51.917Z"
   },
   {
    "duration": 9,
    "start_time": "2022-08-10T10:58:52.331Z"
   },
   {
    "duration": 10,
    "start_time": "2022-08-10T10:58:53.839Z"
   },
   {
    "duration": 9,
    "start_time": "2022-08-10T10:58:53.873Z"
   },
   {
    "duration": 10,
    "start_time": "2022-08-10T10:58:53.907Z"
   },
   {
    "duration": 10,
    "start_time": "2022-08-10T10:58:53.938Z"
   },
   {
    "duration": 12,
    "start_time": "2022-08-10T10:58:54.004Z"
   },
   {
    "duration": 10,
    "start_time": "2022-08-10T10:58:54.037Z"
   },
   {
    "duration": 5,
    "start_time": "2022-08-10T10:58:54.142Z"
   },
   {
    "duration": 6,
    "start_time": "2022-08-10T10:58:54.169Z"
   },
   {
    "duration": 6,
    "start_time": "2022-08-10T10:58:54.237Z"
   },
   {
    "duration": 14,
    "start_time": "2022-08-10T10:58:54.301Z"
   },
   {
    "duration": 12,
    "start_time": "2022-08-10T10:59:09.556Z"
   },
   {
    "duration": 7,
    "start_time": "2022-08-10T11:08:30.190Z"
   },
   {
    "duration": 6,
    "start_time": "2022-08-10T11:08:57.436Z"
   },
   {
    "duration": 44,
    "start_time": "2022-08-10T12:23:42.663Z"
   },
   {
    "duration": 8,
    "start_time": "2022-08-10T12:25:07.562Z"
   },
   {
    "duration": 9,
    "start_time": "2022-08-10T12:47:18.278Z"
   },
   {
    "duration": 7,
    "start_time": "2022-08-10T12:47:30.896Z"
   },
   {
    "duration": 7,
    "start_time": "2022-08-10T12:57:44.916Z"
   },
   {
    "duration": 9,
    "start_time": "2022-08-10T12:58:05.199Z"
   },
   {
    "duration": 9,
    "start_time": "2022-08-10T12:58:17.965Z"
   },
   {
    "duration": 7,
    "start_time": "2022-08-10T12:58:26.035Z"
   },
   {
    "duration": 8,
    "start_time": "2022-08-10T13:00:02.802Z"
   },
   {
    "duration": 5,
    "start_time": "2022-08-10T13:00:22.031Z"
   },
   {
    "duration": 9,
    "start_time": "2022-08-10T13:00:32.924Z"
   },
   {
    "duration": 34,
    "start_time": "2022-08-10T13:43:05.344Z"
   },
   {
    "duration": 33,
    "start_time": "2022-08-10T13:46:30.746Z"
   },
   {
    "duration": 6,
    "start_time": "2022-08-10T13:46:56.944Z"
   },
   {
    "duration": 61,
    "start_time": "2022-08-10T14:38:34.704Z"
   },
   {
    "duration": 7,
    "start_time": "2022-08-10T14:38:37.751Z"
   },
   {
    "duration": 52,
    "start_time": "2022-08-10T14:38:49.430Z"
   },
   {
    "duration": 148,
    "start_time": "2022-08-10T14:39:09.816Z"
   },
   {
    "duration": 19,
    "start_time": "2022-08-10T14:39:09.993Z"
   },
   {
    "duration": 2453,
    "start_time": "2022-08-10T14:39:10.157Z"
   },
   {
    "duration": 5,
    "start_time": "2022-08-10T14:39:12.612Z"
   },
   {
    "duration": 17,
    "start_time": "2022-08-10T14:39:12.619Z"
   },
   {
    "duration": 16,
    "start_time": "2022-08-10T14:39:12.639Z"
   },
   {
    "duration": 7,
    "start_time": "2022-08-10T14:39:12.657Z"
   },
   {
    "duration": 8,
    "start_time": "2022-08-10T14:39:12.691Z"
   },
   {
    "duration": 18,
    "start_time": "2022-08-10T14:39:12.701Z"
   },
   {
    "duration": 9,
    "start_time": "2022-08-10T14:39:12.721Z"
   },
   {
    "duration": 9,
    "start_time": "2022-08-10T14:39:12.732Z"
   },
   {
    "duration": 10,
    "start_time": "2022-08-10T14:39:12.745Z"
   },
   {
    "duration": 38,
    "start_time": "2022-08-10T14:39:12.757Z"
   },
   {
    "duration": 9,
    "start_time": "2022-08-10T14:39:12.797Z"
   },
   {
    "duration": 24,
    "start_time": "2022-08-10T14:39:12.808Z"
   },
   {
    "duration": 8,
    "start_time": "2022-08-10T14:39:12.833Z"
   },
   {
    "duration": 8,
    "start_time": "2022-08-10T14:39:12.843Z"
   },
   {
    "duration": 42,
    "start_time": "2022-08-10T14:39:12.853Z"
   },
   {
    "duration": 9,
    "start_time": "2022-08-10T14:39:12.899Z"
   },
   {
    "duration": 17,
    "start_time": "2022-08-10T14:39:12.911Z"
   },
   {
    "duration": 12,
    "start_time": "2022-08-10T14:39:12.930Z"
   },
   {
    "duration": 12,
    "start_time": "2022-08-10T14:39:12.945Z"
   },
   {
    "duration": 32,
    "start_time": "2022-08-10T14:39:12.959Z"
   },
   {
    "duration": 6,
    "start_time": "2022-08-10T14:39:12.993Z"
   },
   {
    "duration": 16,
    "start_time": "2022-08-10T14:39:13.000Z"
   },
   {
    "duration": 10,
    "start_time": "2022-08-10T14:39:13.018Z"
   },
   {
    "duration": 17,
    "start_time": "2022-08-10T14:39:13.030Z"
   },
   {
    "duration": 11,
    "start_time": "2022-08-10T14:39:13.092Z"
   },
   {
    "duration": 11,
    "start_time": "2022-08-10T14:39:13.105Z"
   },
   {
    "duration": 12,
    "start_time": "2022-08-10T14:39:13.119Z"
   },
   {
    "duration": 66,
    "start_time": "2022-08-10T14:39:13.133Z"
   },
   {
    "duration": 5,
    "start_time": "2022-08-10T14:39:13.526Z"
   },
   {
    "duration": 9,
    "start_time": "2022-08-10T14:39:14.038Z"
   },
   {
    "duration": 9,
    "start_time": "2022-08-10T14:39:14.121Z"
   },
   {
    "duration": 15,
    "start_time": "2022-08-10T14:39:14.176Z"
   },
   {
    "duration": 12,
    "start_time": "2022-08-10T14:39:14.249Z"
   },
   {
    "duration": 6,
    "start_time": "2022-08-10T14:39:14.272Z"
   },
   {
    "duration": 7,
    "start_time": "2022-08-10T14:39:14.339Z"
   },
   {
    "duration": 13,
    "start_time": "2022-08-10T14:39:14.366Z"
   },
   {
    "duration": 49,
    "start_time": "2022-08-10T14:39:14.432Z"
   },
   {
    "duration": 56,
    "start_time": "2022-08-10T14:39:14.510Z"
   },
   {
    "duration": 8,
    "start_time": "2022-08-10T14:39:23.335Z"
   },
   {
    "duration": 129,
    "start_time": "2022-08-10T14:40:44.514Z"
   },
   {
    "duration": 16,
    "start_time": "2022-08-10T14:40:44.644Z"
   },
   {
    "duration": 2319,
    "start_time": "2022-08-10T14:40:44.661Z"
   },
   {
    "duration": 12,
    "start_time": "2022-08-10T14:40:46.982Z"
   },
   {
    "duration": 35,
    "start_time": "2022-08-10T14:40:46.995Z"
   },
   {
    "duration": 7,
    "start_time": "2022-08-10T14:40:47.032Z"
   },
   {
    "duration": 10,
    "start_time": "2022-08-10T14:40:47.041Z"
   },
   {
    "duration": 13,
    "start_time": "2022-08-10T14:40:47.052Z"
   },
   {
    "duration": 9,
    "start_time": "2022-08-10T14:40:47.067Z"
   },
   {
    "duration": 5,
    "start_time": "2022-08-10T14:40:47.079Z"
   },
   {
    "duration": 10,
    "start_time": "2022-08-10T14:40:47.091Z"
   },
   {
    "duration": 27,
    "start_time": "2022-08-10T14:40:47.103Z"
   },
   {
    "duration": 6,
    "start_time": "2022-08-10T14:40:47.133Z"
   },
   {
    "duration": 9,
    "start_time": "2022-08-10T14:40:47.141Z"
   },
   {
    "duration": 10,
    "start_time": "2022-08-10T14:40:47.153Z"
   },
   {
    "duration": 28,
    "start_time": "2022-08-10T14:40:47.165Z"
   },
   {
    "duration": 11,
    "start_time": "2022-08-10T14:40:47.195Z"
   },
   {
    "duration": 13,
    "start_time": "2022-08-10T14:40:47.208Z"
   },
   {
    "duration": 9,
    "start_time": "2022-08-10T14:40:47.223Z"
   },
   {
    "duration": 10,
    "start_time": "2022-08-10T14:40:47.234Z"
   },
   {
    "duration": 7,
    "start_time": "2022-08-10T14:40:47.246Z"
   },
   {
    "duration": 57,
    "start_time": "2022-08-10T14:40:47.255Z"
   },
   {
    "duration": 5,
    "start_time": "2022-08-10T14:40:47.314Z"
   },
   {
    "duration": 7,
    "start_time": "2022-08-10T14:40:47.320Z"
   },
   {
    "duration": 10,
    "start_time": "2022-08-10T14:40:47.329Z"
   },
   {
    "duration": 20,
    "start_time": "2022-08-10T14:40:47.340Z"
   },
   {
    "duration": 42,
    "start_time": "2022-08-10T14:40:47.362Z"
   },
   {
    "duration": 21,
    "start_time": "2022-08-10T14:40:47.409Z"
   },
   {
    "duration": 19,
    "start_time": "2022-08-10T14:40:47.432Z"
   },
   {
    "duration": 48,
    "start_time": "2022-08-10T14:40:47.455Z"
   },
   {
    "duration": 12,
    "start_time": "2022-08-10T14:40:47.509Z"
   },
   {
    "duration": 5,
    "start_time": "2022-08-10T14:40:47.523Z"
   },
   {
    "duration": 11,
    "start_time": "2022-08-10T14:40:47.530Z"
   },
   {
    "duration": 10,
    "start_time": "2022-08-10T14:40:47.545Z"
   },
   {
    "duration": 22,
    "start_time": "2022-08-10T14:40:47.595Z"
   },
   {
    "duration": 13,
    "start_time": "2022-08-10T14:40:47.619Z"
   },
   {
    "duration": 10,
    "start_time": "2022-08-10T14:40:47.633Z"
   },
   {
    "duration": 20,
    "start_time": "2022-08-10T14:40:47.645Z"
   },
   {
    "duration": 13,
    "start_time": "2022-08-10T14:40:47.693Z"
   },
   {
    "duration": 57,
    "start_time": "2022-08-10T14:40:47.709Z"
   },
   {
    "duration": 182,
    "start_time": "2022-08-10T14:40:47.768Z"
   },
   {
    "duration": 16,
    "start_time": "2022-08-10T14:40:47.952Z"
   },
   {
    "duration": 251,
    "start_time": "2022-08-10T14:40:51.136Z"
   },
   {
    "duration": 14,
    "start_time": "2022-08-10T14:40:51.644Z"
   },
   {
    "duration": 2455,
    "start_time": "2022-08-10T14:40:51.677Z"
   },
   {
    "duration": 6,
    "start_time": "2022-08-10T14:40:54.134Z"
   },
   {
    "duration": 12,
    "start_time": "2022-08-10T14:40:54.142Z"
   },
   {
    "duration": 38,
    "start_time": "2022-08-10T14:40:54.157Z"
   },
   {
    "duration": 5,
    "start_time": "2022-08-10T14:40:54.197Z"
   },
   {
    "duration": 10,
    "start_time": "2022-08-10T14:40:54.203Z"
   },
   {
    "duration": 8,
    "start_time": "2022-08-10T14:40:54.792Z"
   },
   {
    "duration": 5,
    "start_time": "2022-08-10T14:40:54.948Z"
   },
   {
    "duration": 6,
    "start_time": "2022-08-10T14:40:55.248Z"
   },
   {
    "duration": 9,
    "start_time": "2022-08-10T14:40:55.378Z"
   },
   {
    "duration": 5,
    "start_time": "2022-08-10T14:40:55.704Z"
   },
   {
    "duration": 7,
    "start_time": "2022-08-10T14:40:56.692Z"
   },
   {
    "duration": 7,
    "start_time": "2022-08-10T14:40:57.236Z"
   },
   {
    "duration": 8,
    "start_time": "2022-08-10T14:40:57.303Z"
   },
   {
    "duration": 14,
    "start_time": "2022-08-10T14:40:57.372Z"
   },
   {
    "duration": 5,
    "start_time": "2022-08-10T14:41:01.252Z"
   },
   {
    "duration": 5,
    "start_time": "2022-08-10T14:41:03.335Z"
   },
   {
    "duration": 21,
    "start_time": "2022-08-10T14:41:03.343Z"
   },
   {
    "duration": 6,
    "start_time": "2022-08-10T14:41:03.492Z"
   },
   {
    "duration": 5,
    "start_time": "2022-08-10T14:41:03.842Z"
   },
   {
    "duration": 7,
    "start_time": "2022-08-10T14:41:04.028Z"
   },
   {
    "duration": 6,
    "start_time": "2022-08-10T14:41:04.410Z"
   },
   {
    "duration": 11,
    "start_time": "2022-08-10T14:41:04.734Z"
   },
   {
    "duration": 11,
    "start_time": "2022-08-10T14:41:05.079Z"
   },
   {
    "duration": 10,
    "start_time": "2022-08-10T14:41:05.252Z"
   },
   {
    "duration": 10,
    "start_time": "2022-08-10T14:41:05.414Z"
   },
   {
    "duration": 10,
    "start_time": "2022-08-10T14:41:05.599Z"
   },
   {
    "duration": 10,
    "start_time": "2022-08-10T14:41:05.981Z"
   },
   {
    "duration": 11,
    "start_time": "2022-08-10T14:41:06.602Z"
   },
   {
    "duration": 4,
    "start_time": "2022-08-10T14:41:07.183Z"
   },
   {
    "duration": 6,
    "start_time": "2022-08-10T14:41:07.783Z"
   },
   {
    "duration": 6,
    "start_time": "2022-08-10T14:41:08.117Z"
   },
   {
    "duration": 16,
    "start_time": "2022-08-10T14:41:09.344Z"
   },
   {
    "duration": 12,
    "start_time": "2022-08-10T14:41:10.019Z"
   },
   {
    "duration": 6,
    "start_time": "2022-08-10T14:41:10.178Z"
   },
   {
    "duration": 8,
    "start_time": "2022-08-10T14:41:10.675Z"
   },
   {
    "duration": 9,
    "start_time": "2022-08-10T14:41:10.998Z"
   },
   {
    "duration": 34,
    "start_time": "2022-08-10T14:41:14.011Z"
   },
   {
    "duration": 138,
    "start_time": "2022-08-10T14:43:57.959Z"
   },
   {
    "duration": 7,
    "start_time": "2022-08-10T14:44:02.551Z"
   },
   {
    "duration": 176,
    "start_time": "2022-08-10T14:44:17.735Z"
   },
   {
    "duration": 9,
    "start_time": "2022-08-10T14:44:19.610Z"
   },
   {
    "duration": 168,
    "start_time": "2022-08-10T14:44:39.450Z"
   },
   {
    "duration": 9,
    "start_time": "2022-08-10T14:44:39.854Z"
   },
   {
    "duration": 163,
    "start_time": "2022-08-10T14:45:28.339Z"
   },
   {
    "duration": 7,
    "start_time": "2022-08-10T14:45:30.762Z"
   },
   {
    "duration": 36,
    "start_time": "2022-08-10T14:47:38.195Z"
   },
   {
    "duration": 13,
    "start_time": "2022-08-10T14:47:41.904Z"
   },
   {
    "duration": 67,
    "start_time": "2022-08-10T14:47:55.696Z"
   },
   {
    "duration": 27,
    "start_time": "2022-08-10T14:48:02.019Z"
   },
   {
    "duration": 56,
    "start_time": "2022-08-10T14:48:09.957Z"
   },
   {
    "duration": 44,
    "start_time": "2022-08-11T10:00:04.173Z"
   },
   {
    "duration": 1119,
    "start_time": "2022-08-11T10:00:16.277Z"
   },
   {
    "duration": 15,
    "start_time": "2022-08-11T10:00:17.398Z"
   },
   {
    "duration": 2156,
    "start_time": "2022-08-11T10:00:17.415Z"
   },
   {
    "duration": 4,
    "start_time": "2022-08-11T10:00:19.573Z"
   },
   {
    "duration": 8,
    "start_time": "2022-08-11T10:00:19.579Z"
   },
   {
    "duration": 8,
    "start_time": "2022-08-11T10:00:19.589Z"
   },
   {
    "duration": 4,
    "start_time": "2022-08-11T10:00:19.598Z"
   },
   {
    "duration": 6,
    "start_time": "2022-08-11T10:00:19.603Z"
   },
   {
    "duration": 5,
    "start_time": "2022-08-11T10:00:19.638Z"
   },
   {
    "duration": 7,
    "start_time": "2022-08-11T10:00:19.645Z"
   },
   {
    "duration": 8,
    "start_time": "2022-08-11T10:00:19.653Z"
   },
   {
    "duration": 10,
    "start_time": "2022-08-11T10:00:19.662Z"
   },
   {
    "duration": 5,
    "start_time": "2022-08-11T10:00:19.673Z"
   },
   {
    "duration": 7,
    "start_time": "2022-08-11T10:00:19.680Z"
   },
   {
    "duration": 50,
    "start_time": "2022-08-11T10:00:19.689Z"
   },
   {
    "duration": 5,
    "start_time": "2022-08-11T10:00:19.741Z"
   },
   {
    "duration": 7,
    "start_time": "2022-08-11T10:00:19.747Z"
   },
   {
    "duration": 7,
    "start_time": "2022-08-11T10:00:19.755Z"
   },
   {
    "duration": 10,
    "start_time": "2022-08-11T10:00:19.763Z"
   },
   {
    "duration": 6,
    "start_time": "2022-08-11T10:00:19.774Z"
   },
   {
    "duration": 6,
    "start_time": "2022-08-11T10:00:19.782Z"
   },
   {
    "duration": 49,
    "start_time": "2022-08-11T10:00:19.790Z"
   },
   {
    "duration": 6,
    "start_time": "2022-08-11T10:00:19.840Z"
   },
   {
    "duration": 6,
    "start_time": "2022-08-11T10:00:19.848Z"
   },
   {
    "duration": 9,
    "start_time": "2022-08-11T10:00:19.856Z"
   },
   {
    "duration": 13,
    "start_time": "2022-08-11T10:00:19.866Z"
   },
   {
    "duration": 7,
    "start_time": "2022-08-11T10:00:19.880Z"
   },
   {
    "duration": 49,
    "start_time": "2022-08-11T10:00:19.890Z"
   },
   {
    "duration": 8,
    "start_time": "2022-08-11T10:00:19.940Z"
   },
   {
    "duration": 10,
    "start_time": "2022-08-11T10:00:19.949Z"
   },
   {
    "duration": 9,
    "start_time": "2022-08-11T10:00:19.960Z"
   },
   {
    "duration": 4,
    "start_time": "2022-08-11T10:00:19.970Z"
   },
   {
    "duration": 16,
    "start_time": "2022-08-11T10:00:19.975Z"
   },
   {
    "duration": 10,
    "start_time": "2022-08-11T10:00:19.993Z"
   },
   {
    "duration": 12,
    "start_time": "2022-08-11T10:00:20.039Z"
   },
   {
    "duration": 10,
    "start_time": "2022-08-11T10:00:20.053Z"
   },
   {
    "duration": 8,
    "start_time": "2022-08-11T10:00:20.065Z"
   },
   {
    "duration": 9,
    "start_time": "2022-08-11T10:00:20.074Z"
   },
   {
    "duration": 9,
    "start_time": "2022-08-11T10:00:20.085Z"
   },
   {
    "duration": 63,
    "start_time": "2022-08-11T10:00:20.096Z"
   },
   {
    "duration": 162,
    "start_time": "2022-08-11T10:00:20.160Z"
   },
   {
    "duration": 6,
    "start_time": "2022-08-11T10:00:20.323Z"
   },
   {
    "duration": 1899,
    "start_time": "2022-08-11T10:00:20.330Z"
   },
   {
    "duration": 6,
    "start_time": "2022-08-11T10:07:50.204Z"
   },
   {
    "duration": 6,
    "start_time": "2022-08-11T10:07:57.205Z"
   },
   {
    "duration": 6,
    "start_time": "2022-08-11T10:08:12.603Z"
   },
   {
    "duration": 8,
    "start_time": "2022-08-11T10:12:33.772Z"
   },
   {
    "duration": 67,
    "start_time": "2022-08-11T10:44:44.415Z"
   },
   {
    "duration": 3,
    "start_time": "2022-08-11T10:45:37.182Z"
   },
   {
    "duration": 138,
    "start_time": "2022-08-11T10:45:41.769Z"
   },
   {
    "duration": 116,
    "start_time": "2022-08-11T10:45:45.609Z"
   },
   {
    "duration": 3,
    "start_time": "2022-08-11T10:46:38.719Z"
   },
   {
    "duration": 105,
    "start_time": "2022-08-11T10:47:26.118Z"
   },
   {
    "duration": 106,
    "start_time": "2022-08-11T10:47:31.090Z"
   },
   {
    "duration": 3,
    "start_time": "2022-08-11T10:47:36.911Z"
   },
   {
    "duration": 135,
    "start_time": "2022-08-11T10:47:39.014Z"
   },
   {
    "duration": 96,
    "start_time": "2022-08-11T10:47:52.329Z"
   },
   {
    "duration": 193,
    "start_time": "2022-08-11T10:49:14.751Z"
   },
   {
    "duration": 107,
    "start_time": "2022-08-11T10:53:52.102Z"
   },
   {
    "duration": 131,
    "start_time": "2022-08-11T10:54:03.724Z"
   },
   {
    "duration": 7,
    "start_time": "2022-08-11T10:58:50.487Z"
   },
   {
    "duration": 44,
    "start_time": "2022-08-11T10:58:55.318Z"
   },
   {
    "duration": 39,
    "start_time": "2022-08-11T10:59:01.814Z"
   },
   {
    "duration": 61,
    "start_time": "2022-08-11T11:19:08.947Z"
   },
   {
    "duration": 42,
    "start_time": "2022-08-11T11:19:26.066Z"
   },
   {
    "duration": 51,
    "start_time": "2022-08-11T11:22:05.678Z"
   },
   {
    "duration": 124,
    "start_time": "2022-08-11T11:28:35.921Z"
   },
   {
    "duration": 7,
    "start_time": "2022-08-11T11:40:10.914Z"
   },
   {
    "duration": 9,
    "start_time": "2022-08-11T11:40:24.112Z"
   },
   {
    "duration": 9,
    "start_time": "2022-08-11T11:41:24.316Z"
   },
   {
    "duration": 6,
    "start_time": "2022-08-11T11:42:38.965Z"
   },
   {
    "duration": 4,
    "start_time": "2022-08-11T11:43:13.033Z"
   },
   {
    "duration": 8,
    "start_time": "2022-08-11T11:44:58.808Z"
   },
   {
    "duration": 102,
    "start_time": "2022-08-11T11:48:13.220Z"
   },
   {
    "duration": 104,
    "start_time": "2022-08-11T11:48:48.014Z"
   },
   {
    "duration": 103,
    "start_time": "2022-08-11T11:48:54.073Z"
   },
   {
    "duration": 100,
    "start_time": "2022-08-11T11:48:57.027Z"
   },
   {
    "duration": 109,
    "start_time": "2022-08-11T11:48:59.800Z"
   },
   {
    "duration": 94,
    "start_time": "2022-08-11T11:49:04.072Z"
   },
   {
    "duration": 105,
    "start_time": "2022-08-11T11:49:23.683Z"
   },
   {
    "duration": 8,
    "start_time": "2022-08-11T11:55:29.075Z"
   },
   {
    "duration": 107,
    "start_time": "2022-08-11T11:57:37.664Z"
   },
   {
    "duration": 32,
    "start_time": "2022-08-11T11:58:58.301Z"
   },
   {
    "duration": 30,
    "start_time": "2022-08-11T11:59:53.120Z"
   },
   {
    "duration": 33,
    "start_time": "2022-08-11T12:00:00.118Z"
   },
   {
    "duration": 18,
    "start_time": "2022-08-11T12:00:41.921Z"
   },
   {
    "duration": 31,
    "start_time": "2022-08-11T12:00:45.483Z"
   },
   {
    "duration": 43,
    "start_time": "2022-08-11T12:01:08.578Z"
   },
   {
    "duration": 4,
    "start_time": "2022-08-11T12:01:49.940Z"
   },
   {
    "duration": 8,
    "start_time": "2022-08-11T12:01:57.872Z"
   },
   {
    "duration": 67,
    "start_time": "2022-08-11T12:02:32.058Z"
   },
   {
    "duration": 86,
    "start_time": "2022-08-11T12:02:36.741Z"
   },
   {
    "duration": 7,
    "start_time": "2022-08-11T12:02:39.127Z"
   },
   {
    "duration": 50,
    "start_time": "2022-08-11T12:03:02.536Z"
   },
   {
    "duration": 9,
    "start_time": "2022-08-11T12:03:04.339Z"
   },
   {
    "duration": 31,
    "start_time": "2022-08-11T12:03:48.431Z"
   },
   {
    "duration": 30,
    "start_time": "2022-08-11T12:04:37.058Z"
   },
   {
    "duration": 98,
    "start_time": "2022-08-11T12:05:28.258Z"
   },
   {
    "duration": 45,
    "start_time": "2022-08-11T12:06:31.853Z"
   },
   {
    "duration": 9,
    "start_time": "2022-08-11T12:08:48.544Z"
   },
   {
    "duration": 52,
    "start_time": "2022-08-11T12:09:13.913Z"
   },
   {
    "duration": 6,
    "start_time": "2022-08-11T12:09:17.358Z"
   },
   {
    "duration": 33,
    "start_time": "2022-08-11T12:09:25.317Z"
   },
   {
    "duration": 93,
    "start_time": "2022-08-11T12:12:26.589Z"
   },
   {
    "duration": 4,
    "start_time": "2022-08-11T12:13:15.822Z"
   },
   {
    "duration": 109,
    "start_time": "2022-08-11T12:13:26.070Z"
   },
   {
    "duration": 100,
    "start_time": "2022-08-11T12:13:48.244Z"
   },
   {
    "duration": 99,
    "start_time": "2022-08-11T12:14:49.545Z"
   },
   {
    "duration": 139,
    "start_time": "2022-08-11T12:16:08.956Z"
   },
   {
    "duration": 103,
    "start_time": "2022-08-11T12:16:30.481Z"
   },
   {
    "duration": 95,
    "start_time": "2022-08-11T12:16:37.620Z"
   },
   {
    "duration": 223,
    "start_time": "2022-08-11T12:16:42.474Z"
   },
   {
    "duration": 100,
    "start_time": "2022-08-11T12:16:47.921Z"
   },
   {
    "duration": 103,
    "start_time": "2022-08-11T12:16:56.717Z"
   },
   {
    "duration": 93,
    "start_time": "2022-08-11T12:17:01.217Z"
   },
   {
    "duration": 99,
    "start_time": "2022-08-11T12:17:06.216Z"
   },
   {
    "duration": 122,
    "start_time": "2022-08-11T12:17:41.613Z"
   },
   {
    "duration": 95,
    "start_time": "2022-08-11T12:17:48.712Z"
   },
   {
    "duration": 43,
    "start_time": "2022-08-11T12:18:08.761Z"
   },
   {
    "duration": 25,
    "start_time": "2022-08-11T12:18:19.566Z"
   },
   {
    "duration": 153,
    "start_time": "2022-08-11T12:35:59.014Z"
   },
   {
    "duration": 8,
    "start_time": "2022-08-11T12:39:00.727Z"
   },
   {
    "duration": 110,
    "start_time": "2022-08-11T12:40:33.825Z"
   },
   {
    "duration": 146,
    "start_time": "2022-08-11T12:40:37.559Z"
   },
   {
    "duration": 8,
    "start_time": "2022-08-11T12:40:52.237Z"
   },
   {
    "duration": 98,
    "start_time": "2022-08-11T12:41:13.968Z"
   },
   {
    "duration": 80,
    "start_time": "2022-08-11T12:42:13.253Z"
   },
   {
    "duration": 93,
    "start_time": "2022-08-11T12:42:20.189Z"
   },
   {
    "duration": 6,
    "start_time": "2022-08-11T12:43:16.851Z"
   },
   {
    "duration": 87,
    "start_time": "2022-08-11T12:43:17.525Z"
   },
   {
    "duration": 568,
    "start_time": "2022-08-11T12:43:35.312Z"
   },
   {
    "duration": 16,
    "start_time": "2022-08-11T12:43:35.882Z"
   },
   {
    "duration": 2125,
    "start_time": "2022-08-11T12:43:35.900Z"
   },
   {
    "duration": 5,
    "start_time": "2022-08-11T12:43:38.026Z"
   },
   {
    "duration": 6,
    "start_time": "2022-08-11T12:43:38.045Z"
   },
   {
    "duration": 14,
    "start_time": "2022-08-11T12:43:38.061Z"
   },
   {
    "duration": 8,
    "start_time": "2022-08-11T12:43:38.077Z"
   },
   {
    "duration": 12,
    "start_time": "2022-08-11T12:43:38.086Z"
   },
   {
    "duration": 9,
    "start_time": "2022-08-11T12:43:38.100Z"
   },
   {
    "duration": 30,
    "start_time": "2022-08-11T12:43:38.111Z"
   },
   {
    "duration": 12,
    "start_time": "2022-08-11T12:43:38.146Z"
   },
   {
    "duration": 11,
    "start_time": "2022-08-11T12:43:38.160Z"
   },
   {
    "duration": 10,
    "start_time": "2022-08-11T12:43:38.172Z"
   },
   {
    "duration": 12,
    "start_time": "2022-08-11T12:43:38.186Z"
   },
   {
    "duration": 10,
    "start_time": "2022-08-11T12:43:38.200Z"
   },
   {
    "duration": 8,
    "start_time": "2022-08-11T12:43:38.212Z"
   },
   {
    "duration": 29,
    "start_time": "2022-08-11T12:43:38.238Z"
   },
   {
    "duration": 9,
    "start_time": "2022-08-11T12:43:38.269Z"
   },
   {
    "duration": 5,
    "start_time": "2022-08-11T12:43:38.279Z"
   },
   {
    "duration": 9,
    "start_time": "2022-08-11T12:43:38.286Z"
   },
   {
    "duration": 11,
    "start_time": "2022-08-11T12:43:38.296Z"
   },
   {
    "duration": 14,
    "start_time": "2022-08-11T12:43:38.309Z"
   },
   {
    "duration": 28,
    "start_time": "2022-08-11T12:43:38.325Z"
   },
   {
    "duration": 9,
    "start_time": "2022-08-11T12:43:38.357Z"
   },
   {
    "duration": 16,
    "start_time": "2022-08-11T12:43:38.368Z"
   },
   {
    "duration": 12,
    "start_time": "2022-08-11T12:43:38.385Z"
   },
   {
    "duration": 15,
    "start_time": "2022-08-11T12:43:38.399Z"
   },
   {
    "duration": 22,
    "start_time": "2022-08-11T12:43:38.417Z"
   },
   {
    "duration": 19,
    "start_time": "2022-08-11T12:43:38.442Z"
   },
   {
    "duration": 19,
    "start_time": "2022-08-11T12:43:38.463Z"
   },
   {
    "duration": 11,
    "start_time": "2022-08-11T12:43:38.484Z"
   },
   {
    "duration": 13,
    "start_time": "2022-08-11T12:43:38.497Z"
   },
   {
    "duration": 9,
    "start_time": "2022-08-11T12:43:38.512Z"
   },
   {
    "duration": 13,
    "start_time": "2022-08-11T12:43:38.537Z"
   },
   {
    "duration": 32,
    "start_time": "2022-08-11T12:43:38.554Z"
   },
   {
    "duration": 11,
    "start_time": "2022-08-11T12:43:38.588Z"
   },
   {
    "duration": 17,
    "start_time": "2022-08-11T12:43:38.600Z"
   },
   {
    "duration": 12,
    "start_time": "2022-08-11T12:43:38.618Z"
   },
   {
    "duration": 30,
    "start_time": "2022-08-11T12:43:38.631Z"
   },
   {
    "duration": 50,
    "start_time": "2022-08-11T12:43:38.664Z"
   },
   {
    "duration": 189,
    "start_time": "2022-08-11T12:43:38.719Z"
   },
   {
    "duration": 6,
    "start_time": "2022-08-11T12:43:38.910Z"
   },
   {
    "duration": 2303,
    "start_time": "2022-08-11T12:43:38.917Z"
   },
   {
    "duration": 20,
    "start_time": "2022-08-11T12:43:41.221Z"
   },
   {
    "duration": 10,
    "start_time": "2022-08-11T12:43:41.247Z"
   },
   {
    "duration": 15,
    "start_time": "2022-08-11T12:43:41.259Z"
   },
   {
    "duration": 125,
    "start_time": "2022-08-11T12:43:41.275Z"
   },
   {
    "duration": 126,
    "start_time": "2022-08-11T12:43:41.402Z"
   },
   {
    "duration": 38,
    "start_time": "2022-08-11T12:43:41.529Z"
   },
   {
    "duration": 8,
    "start_time": "2022-08-11T12:43:41.569Z"
   },
   {
    "duration": 20,
    "start_time": "2022-08-11T12:43:41.579Z"
   },
   {
    "duration": 13,
    "start_time": "2022-08-11T12:43:41.601Z"
   },
   {
    "duration": 137,
    "start_time": "2022-08-11T12:43:41.616Z"
   },
   {
    "duration": 9,
    "start_time": "2022-08-11T12:43:41.755Z"
   },
   {
    "duration": 144,
    "start_time": "2022-08-11T12:43:41.765Z"
   },
   {
    "duration": 54,
    "start_time": "2022-08-11T12:43:41.911Z"
   },
   {
    "duration": 49,
    "start_time": "2022-08-11T12:43:41.967Z"
   },
   {
    "duration": 30,
    "start_time": "2022-08-11T12:43:42.018Z"
   },
   {
    "duration": 32,
    "start_time": "2022-08-11T12:43:42.050Z"
   },
   {
    "duration": 145,
    "start_time": "2022-08-11T12:43:42.083Z"
   },
   {
    "duration": 134,
    "start_time": "2022-08-11T12:43:42.230Z"
   },
   {
    "duration": 9,
    "start_time": "2022-08-11T12:43:42.366Z"
   },
   {
    "duration": 148,
    "start_time": "2022-08-11T12:43:42.377Z"
   },
   {
    "duration": 109,
    "start_time": "2022-08-11T12:44:29.348Z"
   },
   {
    "duration": 209,
    "start_time": "2022-08-11T12:44:37.435Z"
   },
   {
    "duration": 103,
    "start_time": "2022-08-11T12:44:46.361Z"
   },
   {
    "duration": 8,
    "start_time": "2022-08-11T12:45:59.780Z"
   },
   {
    "duration": 8,
    "start_time": "2022-08-11T12:46:44.111Z"
   },
   {
    "duration": 8,
    "start_time": "2022-08-11T12:49:50.009Z"
   },
   {
    "duration": 68,
    "start_time": "2022-08-11T12:52:01.244Z"
   },
   {
    "duration": 47,
    "start_time": "2022-08-11T15:01:40.134Z"
   },
   {
    "duration": 764,
    "start_time": "2022-08-11T15:01:51.357Z"
   },
   {
    "duration": 13,
    "start_time": "2022-08-11T15:01:52.123Z"
   },
   {
    "duration": 2275,
    "start_time": "2022-08-11T15:01:52.140Z"
   },
   {
    "duration": 6,
    "start_time": "2022-08-11T15:01:54.417Z"
   },
   {
    "duration": 11,
    "start_time": "2022-08-11T15:01:54.424Z"
   },
   {
    "duration": 9,
    "start_time": "2022-08-11T15:01:54.436Z"
   },
   {
    "duration": 7,
    "start_time": "2022-08-11T15:01:54.447Z"
   },
   {
    "duration": 8,
    "start_time": "2022-08-11T15:01:54.456Z"
   },
   {
    "duration": 5,
    "start_time": "2022-08-11T15:01:54.468Z"
   },
   {
    "duration": 6,
    "start_time": "2022-08-11T15:01:54.475Z"
   },
   {
    "duration": 6,
    "start_time": "2022-08-11T15:01:54.486Z"
   },
   {
    "duration": 10,
    "start_time": "2022-08-11T15:01:54.494Z"
   },
   {
    "duration": 7,
    "start_time": "2022-08-11T15:01:54.505Z"
   },
   {
    "duration": 7,
    "start_time": "2022-08-11T15:01:54.514Z"
   },
   {
    "duration": 5,
    "start_time": "2022-08-11T15:01:54.523Z"
   },
   {
    "duration": 8,
    "start_time": "2022-08-11T15:01:54.530Z"
   },
   {
    "duration": 10,
    "start_time": "2022-08-11T15:01:54.540Z"
   },
   {
    "duration": 38,
    "start_time": "2022-08-11T15:01:54.551Z"
   },
   {
    "duration": 5,
    "start_time": "2022-08-11T15:01:54.592Z"
   },
   {
    "duration": 7,
    "start_time": "2022-08-11T15:01:54.599Z"
   },
   {
    "duration": 13,
    "start_time": "2022-08-11T15:01:54.608Z"
   },
   {
    "duration": 6,
    "start_time": "2022-08-11T15:01:54.623Z"
   },
   {
    "duration": 9,
    "start_time": "2022-08-11T15:01:54.631Z"
   },
   {
    "duration": 6,
    "start_time": "2022-08-11T15:01:54.642Z"
   },
   {
    "duration": 11,
    "start_time": "2022-08-11T15:01:54.649Z"
   },
   {
    "duration": 32,
    "start_time": "2022-08-11T15:01:54.661Z"
   },
   {
    "duration": 9,
    "start_time": "2022-08-11T15:01:54.696Z"
   },
   {
    "duration": 9,
    "start_time": "2022-08-11T15:01:54.706Z"
   },
   {
    "duration": 8,
    "start_time": "2022-08-11T15:01:54.717Z"
   },
   {
    "duration": 14,
    "start_time": "2022-08-11T15:01:54.727Z"
   },
   {
    "duration": 49,
    "start_time": "2022-08-11T15:01:54.743Z"
   },
   {
    "duration": 4,
    "start_time": "2022-08-11T15:01:54.793Z"
   },
   {
    "duration": 17,
    "start_time": "2022-08-11T15:01:54.799Z"
   },
   {
    "duration": 8,
    "start_time": "2022-08-11T15:01:54.818Z"
   },
   {
    "duration": 14,
    "start_time": "2022-08-11T15:01:54.828Z"
   },
   {
    "duration": 11,
    "start_time": "2022-08-11T15:01:54.844Z"
   },
   {
    "duration": 30,
    "start_time": "2022-08-11T15:01:54.857Z"
   },
   {
    "duration": 7,
    "start_time": "2022-08-11T15:01:54.888Z"
   },
   {
    "duration": 10,
    "start_time": "2022-08-11T15:01:54.897Z"
   },
   {
    "duration": 29,
    "start_time": "2022-08-11T15:01:54.909Z"
   },
   {
    "duration": 187,
    "start_time": "2022-08-11T15:01:54.940Z"
   },
   {
    "duration": 6,
    "start_time": "2022-08-11T15:01:55.129Z"
   },
   {
    "duration": 2240,
    "start_time": "2022-08-11T15:01:55.137Z"
   },
   {
    "duration": 9,
    "start_time": "2022-08-11T15:01:57.379Z"
   },
   {
    "duration": 9,
    "start_time": "2022-08-11T15:01:57.390Z"
   },
   {
    "duration": 3,
    "start_time": "2022-08-11T15:01:57.401Z"
   },
   {
    "duration": 145,
    "start_time": "2022-08-11T15:01:57.405Z"
   },
   {
    "duration": 139,
    "start_time": "2022-08-11T15:01:57.552Z"
   },
   {
    "duration": 33,
    "start_time": "2022-08-11T15:01:57.692Z"
   },
   {
    "duration": 9,
    "start_time": "2022-08-11T15:01:57.727Z"
   },
   {
    "duration": 7,
    "start_time": "2022-08-11T15:01:57.738Z"
   },
   {
    "duration": 14,
    "start_time": "2022-08-11T15:01:57.747Z"
   },
   {
    "duration": 131,
    "start_time": "2022-08-11T15:01:57.762Z"
   },
   {
    "duration": 7,
    "start_time": "2022-08-11T15:01:57.894Z"
   },
   {
    "duration": 139,
    "start_time": "2022-08-11T15:01:57.903Z"
   },
   {
    "duration": 44,
    "start_time": "2022-08-11T15:01:58.043Z"
   },
   {
    "duration": 36,
    "start_time": "2022-08-11T15:01:58.088Z"
   },
   {
    "duration": 8,
    "start_time": "2022-08-11T15:01:58.125Z"
   },
   {
    "duration": 12,
    "start_time": "2022-08-11T15:01:58.134Z"
   },
   {
    "duration": 125,
    "start_time": "2022-08-11T15:01:58.147Z"
   },
   {
    "duration": 123,
    "start_time": "2022-08-11T15:01:58.273Z"
   },
   {
    "duration": 8,
    "start_time": "2022-08-11T15:01:58.398Z"
   },
   {
    "duration": 217,
    "start_time": "2022-08-11T15:01:58.407Z"
   },
   {
    "duration": 8,
    "start_time": "2022-08-11T15:01:58.625Z"
   },
   {
    "duration": 10,
    "start_time": "2022-08-11T15:01:58.634Z"
   },
   {
    "duration": 24,
    "start_time": "2022-08-11T15:01:58.645Z"
   },
   {
    "duration": 4,
    "start_time": "2022-08-11T15:06:07.884Z"
   },
   {
    "duration": 7,
    "start_time": "2022-08-11T15:06:28.643Z"
   },
   {
    "duration": 7,
    "start_time": "2022-08-11T15:06:54.156Z"
   },
   {
    "duration": 8,
    "start_time": "2022-08-11T15:15:23.571Z"
   },
   {
    "duration": 5,
    "start_time": "2022-08-11T15:16:19.088Z"
   },
   {
    "duration": 8,
    "start_time": "2022-08-11T15:16:25.225Z"
   },
   {
    "duration": 10,
    "start_time": "2022-08-11T15:17:21.250Z"
   },
   {
    "duration": 6,
    "start_time": "2022-08-11T15:17:46.857Z"
   },
   {
    "duration": 9,
    "start_time": "2022-08-11T15:17:53.828Z"
   },
   {
    "duration": 8,
    "start_time": "2022-08-11T15:19:24.853Z"
   },
   {
    "duration": 2,
    "start_time": "2022-08-11T15:19:48.727Z"
   },
   {
    "duration": 84,
    "start_time": "2022-08-11T15:27:59.912Z"
   },
   {
    "duration": 4,
    "start_time": "2022-08-11T15:28:16.665Z"
   },
   {
    "duration": 746,
    "start_time": "2022-08-11T15:28:43.329Z"
   },
   {
    "duration": 884,
    "start_time": "2022-08-11T15:30:07.647Z"
   },
   {
    "duration": 7,
    "start_time": "2022-08-11T15:30:11.835Z"
   },
   {
    "duration": 315,
    "start_time": "2022-08-11T15:31:10.754Z"
   },
   {
    "duration": 309,
    "start_time": "2022-08-11T15:31:53.946Z"
   },
   {
    "duration": 299,
    "start_time": "2022-08-11T15:32:19.360Z"
   },
   {
    "duration": 5,
    "start_time": "2022-08-11T15:33:49.779Z"
   },
   {
    "duration": 7,
    "start_time": "2022-08-11T15:35:01.890Z"
   },
   {
    "duration": 4,
    "start_time": "2022-08-11T15:35:45.812Z"
   },
   {
    "duration": 7,
    "start_time": "2022-08-11T15:35:52.201Z"
   },
   {
    "duration": 512,
    "start_time": "2022-08-14T08:21:14.541Z"
   },
   {
    "duration": 14,
    "start_time": "2022-08-14T08:21:15.056Z"
   },
   {
    "duration": 2204,
    "start_time": "2022-08-14T08:21:15.072Z"
   },
   {
    "duration": 4,
    "start_time": "2022-08-14T08:21:17.278Z"
   },
   {
    "duration": 20,
    "start_time": "2022-08-14T08:21:17.284Z"
   },
   {
    "duration": 23,
    "start_time": "2022-08-14T08:21:17.305Z"
   },
   {
    "duration": 24,
    "start_time": "2022-08-14T08:21:17.329Z"
   },
   {
    "duration": 6,
    "start_time": "2022-08-14T08:21:17.354Z"
   },
   {
    "duration": 26,
    "start_time": "2022-08-14T08:21:17.361Z"
   },
   {
    "duration": 14,
    "start_time": "2022-08-14T08:21:17.388Z"
   },
   {
    "duration": 16,
    "start_time": "2022-08-14T08:21:17.404Z"
   },
   {
    "duration": 21,
    "start_time": "2022-08-14T08:21:17.422Z"
   },
   {
    "duration": 24,
    "start_time": "2022-08-14T08:21:17.444Z"
   },
   {
    "duration": 25,
    "start_time": "2022-08-14T08:21:17.471Z"
   },
   {
    "duration": 30,
    "start_time": "2022-08-14T08:21:17.497Z"
   },
   {
    "duration": 35,
    "start_time": "2022-08-14T08:21:17.529Z"
   },
   {
    "duration": 30,
    "start_time": "2022-08-14T08:21:17.566Z"
   },
   {
    "duration": 35,
    "start_time": "2022-08-14T08:21:17.597Z"
   },
   {
    "duration": 32,
    "start_time": "2022-08-14T08:21:17.634Z"
   },
   {
    "duration": 27,
    "start_time": "2022-08-14T08:21:17.667Z"
   },
   {
    "duration": 12,
    "start_time": "2022-08-14T08:21:17.696Z"
   },
   {
    "duration": 13,
    "start_time": "2022-08-14T08:21:17.710Z"
   },
   {
    "duration": 14,
    "start_time": "2022-08-14T08:21:17.724Z"
   },
   {
    "duration": 20,
    "start_time": "2022-08-14T08:21:17.740Z"
   },
   {
    "duration": 18,
    "start_time": "2022-08-14T08:21:17.761Z"
   },
   {
    "duration": 14,
    "start_time": "2022-08-14T08:21:17.780Z"
   },
   {
    "duration": 32,
    "start_time": "2022-08-14T08:21:17.796Z"
   },
   {
    "duration": 34,
    "start_time": "2022-08-14T08:21:17.829Z"
   },
   {
    "duration": 23,
    "start_time": "2022-08-14T08:21:17.864Z"
   },
   {
    "duration": 23,
    "start_time": "2022-08-14T08:21:17.889Z"
   },
   {
    "duration": 24,
    "start_time": "2022-08-14T08:21:17.913Z"
   },
   {
    "duration": 10,
    "start_time": "2022-08-14T08:21:17.938Z"
   },
   {
    "duration": 52,
    "start_time": "2022-08-14T08:21:17.950Z"
   },
   {
    "duration": 49,
    "start_time": "2022-08-14T08:21:18.004Z"
   },
   {
    "duration": 55,
    "start_time": "2022-08-14T08:21:18.055Z"
   },
   {
    "duration": 30,
    "start_time": "2022-08-14T08:21:18.112Z"
   },
   {
    "duration": 30,
    "start_time": "2022-08-14T08:21:18.144Z"
   },
   {
    "duration": 39,
    "start_time": "2022-08-14T08:21:18.176Z"
   },
   {
    "duration": 30,
    "start_time": "2022-08-14T08:21:18.216Z"
   },
   {
    "duration": 44,
    "start_time": "2022-08-14T08:21:18.248Z"
   },
   {
    "duration": 149,
    "start_time": "2022-08-14T08:21:18.296Z"
   },
   {
    "duration": 5,
    "start_time": "2022-08-14T08:21:18.447Z"
   },
   {
    "duration": 1955,
    "start_time": "2022-08-14T08:21:18.453Z"
   },
   {
    "duration": 5,
    "start_time": "2022-08-14T08:21:20.410Z"
   },
   {
    "duration": 8,
    "start_time": "2022-08-14T08:21:20.416Z"
   },
   {
    "duration": 2,
    "start_time": "2022-08-14T08:21:20.425Z"
   },
   {
    "duration": 134,
    "start_time": "2022-08-14T08:21:20.429Z"
   },
   {
    "duration": 115,
    "start_time": "2022-08-14T08:21:20.564Z"
   },
   {
    "duration": 36,
    "start_time": "2022-08-14T08:21:20.680Z"
   },
   {
    "duration": 7,
    "start_time": "2022-08-14T08:21:20.718Z"
   },
   {
    "duration": 6,
    "start_time": "2022-08-14T08:21:20.726Z"
   },
   {
    "duration": 10,
    "start_time": "2022-08-14T08:21:20.733Z"
   },
   {
    "duration": 110,
    "start_time": "2022-08-14T08:21:20.744Z"
   },
   {
    "duration": 7,
    "start_time": "2022-08-14T08:21:20.855Z"
   },
   {
    "duration": 109,
    "start_time": "2022-08-14T08:21:20.864Z"
   },
   {
    "duration": 39,
    "start_time": "2022-08-14T08:21:20.975Z"
   },
   {
    "duration": 32,
    "start_time": "2022-08-14T08:21:21.016Z"
   },
   {
    "duration": 6,
    "start_time": "2022-08-14T08:21:21.049Z"
   },
   {
    "duration": 9,
    "start_time": "2022-08-14T08:21:21.056Z"
   },
   {
    "duration": 111,
    "start_time": "2022-08-14T08:21:21.066Z"
   },
   {
    "duration": 109,
    "start_time": "2022-08-14T08:21:21.179Z"
   },
   {
    "duration": 17,
    "start_time": "2022-08-14T08:21:21.289Z"
   },
   {
    "duration": 199,
    "start_time": "2022-08-14T08:21:21.307Z"
   },
   {
    "duration": 7,
    "start_time": "2022-08-14T08:21:21.507Z"
   },
   {
    "duration": 9,
    "start_time": "2022-08-14T08:21:21.516Z"
   },
   {
    "duration": 3,
    "start_time": "2022-08-14T08:21:21.527Z"
   },
   {
    "duration": 9,
    "start_time": "2022-08-14T08:21:21.531Z"
   },
   {
    "duration": 10,
    "start_time": "2022-08-14T08:21:21.541Z"
   },
   {
    "duration": 7,
    "start_time": "2022-08-14T08:21:21.553Z"
   },
   {
    "duration": 8,
    "start_time": "2022-08-14T08:21:21.561Z"
   },
   {
    "duration": 3,
    "start_time": "2022-08-14T08:21:21.570Z"
   },
   {
    "duration": 345,
    "start_time": "2022-08-14T08:21:21.574Z"
   },
   {
    "duration": 4,
    "start_time": "2022-08-14T08:21:21.921Z"
   },
   {
    "duration": 8,
    "start_time": "2022-08-14T08:21:21.927Z"
   },
   {
    "duration": 5,
    "start_time": "2022-08-14T08:24:30.299Z"
   },
   {
    "duration": 138,
    "start_time": "2022-08-14T08:25:25.591Z"
   },
   {
    "duration": 119,
    "start_time": "2022-08-14T08:25:40.849Z"
   },
   {
    "duration": 135,
    "start_time": "2022-08-14T08:25:44.959Z"
   },
   {
    "duration": 183,
    "start_time": "2022-08-14T08:26:05.506Z"
   },
   {
    "duration": 266,
    "start_time": "2022-08-14T08:29:59.611Z"
   },
   {
    "duration": 218,
    "start_time": "2022-08-14T08:30:05.632Z"
   },
   {
    "duration": 239,
    "start_time": "2022-08-14T08:30:22.642Z"
   },
   {
    "duration": 326,
    "start_time": "2022-08-14T08:36:12.591Z"
   },
   {
    "duration": 204,
    "start_time": "2022-08-14T08:36:26.504Z"
   },
   {
    "duration": 232,
    "start_time": "2022-08-14T08:36:33.437Z"
   },
   {
    "duration": 200,
    "start_time": "2022-08-14T08:36:50.221Z"
   },
   {
    "duration": 325,
    "start_time": "2022-08-14T08:37:14.039Z"
   },
   {
    "duration": 363,
    "start_time": "2022-08-14T08:37:20.156Z"
   },
   {
    "duration": 181,
    "start_time": "2022-08-14T08:37:27.005Z"
   },
   {
    "duration": 164,
    "start_time": "2022-08-14T08:37:33.501Z"
   },
   {
    "duration": 219,
    "start_time": "2022-08-14T08:37:38.287Z"
   },
   {
    "duration": 237,
    "start_time": "2022-08-14T08:37:49.626Z"
   },
   {
    "duration": 305,
    "start_time": "2022-08-14T08:38:20.795Z"
   },
   {
    "duration": 429,
    "start_time": "2022-08-14T08:38:25.917Z"
   },
   {
    "duration": 203,
    "start_time": "2022-08-14T08:38:46.581Z"
   },
   {
    "duration": 206,
    "start_time": "2022-08-14T08:38:53.166Z"
   },
   {
    "duration": 221,
    "start_time": "2022-08-14T08:46:23.921Z"
   },
   {
    "duration": 193,
    "start_time": "2022-08-14T08:46:45.120Z"
   },
   {
    "duration": 205,
    "start_time": "2022-08-14T08:56:30.264Z"
   },
   {
    "duration": 362,
    "start_time": "2022-08-14T08:58:02.278Z"
   },
   {
    "duration": 201,
    "start_time": "2022-08-14T08:58:15.601Z"
   },
   {
    "duration": 185,
    "start_time": "2022-08-14T09:06:52.802Z"
   },
   {
    "duration": 155,
    "start_time": "2022-08-14T09:07:06.351Z"
   },
   {
    "duration": 137,
    "start_time": "2022-08-14T09:07:11.246Z"
   },
   {
    "duration": 150,
    "start_time": "2022-08-14T09:07:18.952Z"
   },
   {
    "duration": 148,
    "start_time": "2022-08-14T09:07:26.512Z"
   },
   {
    "duration": 133,
    "start_time": "2022-08-14T09:07:33.585Z"
   },
   {
    "duration": 131,
    "start_time": "2022-08-14T09:07:52.209Z"
   },
   {
    "duration": 143,
    "start_time": "2022-08-14T09:08:05.084Z"
   },
   {
    "duration": 164,
    "start_time": "2022-08-14T09:08:19.184Z"
   },
   {
    "duration": 161,
    "start_time": "2022-08-14T09:08:24.686Z"
   },
   {
    "duration": 282,
    "start_time": "2022-08-14T09:08:29.012Z"
   },
   {
    "duration": 149,
    "start_time": "2022-08-14T09:08:32.629Z"
   },
   {
    "duration": 145,
    "start_time": "2022-08-14T09:08:39.561Z"
   },
   {
    "duration": 142,
    "start_time": "2022-08-14T09:08:48.670Z"
   },
   {
    "duration": 131,
    "start_time": "2022-08-14T09:19:28.684Z"
   },
   {
    "duration": 124,
    "start_time": "2022-08-14T09:19:54.416Z"
   },
   {
    "duration": 7,
    "start_time": "2022-08-14T09:21:54.395Z"
   },
   {
    "duration": 157,
    "start_time": "2022-08-14T09:22:04.197Z"
   },
   {
    "duration": 152,
    "start_time": "2022-08-14T09:23:24.795Z"
   },
   {
    "duration": 154,
    "start_time": "2022-08-14T09:23:44.245Z"
   },
   {
    "duration": 137,
    "start_time": "2022-08-14T09:23:49.593Z"
   },
   {
    "duration": 140,
    "start_time": "2022-08-14T09:27:06.425Z"
   },
   {
    "duration": 118,
    "start_time": "2022-08-14T09:27:20.570Z"
   },
   {
    "duration": 1292,
    "start_time": "2022-08-14T09:32:08.887Z"
   },
   {
    "duration": 111,
    "start_time": "2022-08-14T09:32:11.010Z"
   },
   {
    "duration": 101,
    "start_time": "2022-08-14T09:32:15.530Z"
   },
   {
    "duration": 105,
    "start_time": "2022-08-14T09:32:33.431Z"
   },
   {
    "duration": 106,
    "start_time": "2022-08-14T09:32:52.691Z"
   },
   {
    "duration": 77,
    "start_time": "2022-08-14T09:33:17.519Z"
   },
   {
    "duration": 101,
    "start_time": "2022-08-14T09:33:21.763Z"
   },
   {
    "duration": 155,
    "start_time": "2022-08-14T10:33:04.210Z"
   },
   {
    "duration": 253,
    "start_time": "2022-08-14T10:40:43.041Z"
   },
   {
    "duration": 1726,
    "start_time": "2022-08-14T10:41:05.748Z"
   },
   {
    "duration": 123,
    "start_time": "2022-08-14T10:41:17.907Z"
   },
   {
    "duration": 124,
    "start_time": "2022-08-14T10:53:23.305Z"
   },
   {
    "duration": 137,
    "start_time": "2022-08-14T10:57:44.201Z"
   },
   {
    "duration": 6,
    "start_time": "2022-08-14T11:00:17.701Z"
   },
   {
    "duration": 128,
    "start_time": "2022-08-14T11:00:57.841Z"
   },
   {
    "duration": 120,
    "start_time": "2022-08-14T11:05:21.467Z"
   },
   {
    "duration": 131,
    "start_time": "2022-08-14T11:11:36.904Z"
   },
   {
    "duration": 105,
    "start_time": "2022-08-14T11:11:43.213Z"
   },
   {
    "duration": 133,
    "start_time": "2022-08-14T11:12:27.984Z"
   },
   {
    "duration": 133,
    "start_time": "2022-08-14T11:12:41.443Z"
   },
   {
    "duration": 109,
    "start_time": "2022-08-14T11:12:45.282Z"
   },
   {
    "duration": 117,
    "start_time": "2022-08-14T11:12:48.860Z"
   },
   {
    "duration": 146,
    "start_time": "2022-08-14T11:12:55.891Z"
   },
   {
    "duration": 125,
    "start_time": "2022-08-14T11:13:06.382Z"
   },
   {
    "duration": 3,
    "start_time": "2022-08-14T11:20:27.415Z"
   },
   {
    "duration": 3,
    "start_time": "2022-08-14T11:21:55.569Z"
   },
   {
    "duration": 8,
    "start_time": "2022-08-14T11:22:16.002Z"
   },
   {
    "duration": 2,
    "start_time": "2022-08-14T11:22:25.022Z"
   },
   {
    "duration": 140,
    "start_time": "2022-08-14T11:22:52.359Z"
   },
   {
    "duration": 151,
    "start_time": "2022-08-14T11:22:57.222Z"
   },
   {
    "duration": 4,
    "start_time": "2022-08-14T11:34:31.924Z"
   },
   {
    "duration": 153,
    "start_time": "2022-08-14T11:34:53.535Z"
   },
   {
    "duration": 152,
    "start_time": "2022-08-14T11:35:53.154Z"
   },
   {
    "duration": 4,
    "start_time": "2022-08-14T11:37:06.320Z"
   },
   {
    "duration": 376,
    "start_time": "2022-08-14T11:38:28.781Z"
   },
   {
    "duration": 202,
    "start_time": "2022-08-14T11:38:34.080Z"
   },
   {
    "duration": 197,
    "start_time": "2022-08-14T11:40:07.227Z"
   },
   {
    "duration": 155,
    "start_time": "2022-08-14T11:40:12.119Z"
   },
   {
    "duration": 880,
    "start_time": "2022-08-15T10:06:25.659Z"
   },
   {
    "duration": 15,
    "start_time": "2022-08-15T10:06:26.541Z"
   },
   {
    "duration": 2568,
    "start_time": "2022-08-15T10:06:26.558Z"
   },
   {
    "duration": 6,
    "start_time": "2022-08-15T10:06:29.130Z"
   },
   {
    "duration": 11,
    "start_time": "2022-08-15T10:06:29.138Z"
   },
   {
    "duration": 7,
    "start_time": "2022-08-15T10:06:29.150Z"
   },
   {
    "duration": 7,
    "start_time": "2022-08-15T10:06:29.158Z"
   },
   {
    "duration": 7,
    "start_time": "2022-08-15T10:06:29.167Z"
   },
   {
    "duration": 7,
    "start_time": "2022-08-15T10:06:29.176Z"
   },
   {
    "duration": 7,
    "start_time": "2022-08-15T10:06:29.185Z"
   },
   {
    "duration": 19,
    "start_time": "2022-08-15T10:06:29.210Z"
   },
   {
    "duration": 14,
    "start_time": "2022-08-15T10:06:29.233Z"
   },
   {
    "duration": 7,
    "start_time": "2022-08-15T10:06:29.249Z"
   },
   {
    "duration": 8,
    "start_time": "2022-08-15T10:06:29.258Z"
   },
   {
    "duration": 7,
    "start_time": "2022-08-15T10:06:29.268Z"
   },
   {
    "duration": 9,
    "start_time": "2022-08-15T10:06:29.276Z"
   },
   {
    "duration": 7,
    "start_time": "2022-08-15T10:06:29.286Z"
   },
   {
    "duration": 19,
    "start_time": "2022-08-15T10:06:29.295Z"
   },
   {
    "duration": 19,
    "start_time": "2022-08-15T10:06:29.315Z"
   },
   {
    "duration": 6,
    "start_time": "2022-08-15T10:06:29.336Z"
   },
   {
    "duration": 5,
    "start_time": "2022-08-15T10:06:29.344Z"
   },
   {
    "duration": 8,
    "start_time": "2022-08-15T10:06:29.351Z"
   },
   {
    "duration": 9,
    "start_time": "2022-08-15T10:06:29.361Z"
   },
   {
    "duration": 6,
    "start_time": "2022-08-15T10:06:29.371Z"
   },
   {
    "duration": 46,
    "start_time": "2022-08-15T10:06:29.378Z"
   },
   {
    "duration": 13,
    "start_time": "2022-08-15T10:06:29.427Z"
   },
   {
    "duration": 10,
    "start_time": "2022-08-15T10:06:29.442Z"
   },
   {
    "duration": 9,
    "start_time": "2022-08-15T10:06:29.456Z"
   },
   {
    "duration": 10,
    "start_time": "2022-08-15T10:06:29.467Z"
   },
   {
    "duration": 37,
    "start_time": "2022-08-15T10:06:29.479Z"
   },
   {
    "duration": 14,
    "start_time": "2022-08-15T10:06:29.518Z"
   },
   {
    "duration": 6,
    "start_time": "2022-08-15T10:06:29.534Z"
   },
   {
    "duration": 13,
    "start_time": "2022-08-15T10:06:29.541Z"
   },
   {
    "duration": 8,
    "start_time": "2022-08-15T10:06:29.557Z"
   },
   {
    "duration": 15,
    "start_time": "2022-08-15T10:06:29.567Z"
   },
   {
    "duration": 29,
    "start_time": "2022-08-15T10:06:29.583Z"
   },
   {
    "duration": 9,
    "start_time": "2022-08-15T10:06:29.616Z"
   },
   {
    "duration": 16,
    "start_time": "2022-08-15T10:06:29.627Z"
   },
   {
    "duration": 14,
    "start_time": "2022-08-15T10:06:29.645Z"
   },
   {
    "duration": 30,
    "start_time": "2022-08-15T10:06:29.661Z"
   },
   {
    "duration": 180,
    "start_time": "2022-08-15T10:06:29.693Z"
   },
   {
    "duration": 6,
    "start_time": "2022-08-15T10:06:29.875Z"
   },
   {
    "duration": 2283,
    "start_time": "2022-08-15T10:06:29.883Z"
   },
   {
    "duration": 7,
    "start_time": "2022-08-15T10:06:32.168Z"
   },
   {
    "duration": 21,
    "start_time": "2022-08-15T10:06:32.176Z"
   },
   {
    "duration": 32,
    "start_time": "2022-08-15T10:06:32.199Z"
   },
   {
    "duration": 183,
    "start_time": "2022-08-15T10:06:32.233Z"
   },
   {
    "duration": 133,
    "start_time": "2022-08-15T10:06:32.424Z"
   },
   {
    "duration": 36,
    "start_time": "2022-08-15T10:06:32.559Z"
   },
   {
    "duration": 31,
    "start_time": "2022-08-15T10:06:32.597Z"
   },
   {
    "duration": 25,
    "start_time": "2022-08-15T10:06:32.632Z"
   },
   {
    "duration": 16,
    "start_time": "2022-08-15T10:06:32.659Z"
   },
   {
    "duration": 122,
    "start_time": "2022-08-15T10:06:32.677Z"
   },
   {
    "duration": 21,
    "start_time": "2022-08-15T10:06:32.800Z"
   },
   {
    "duration": 119,
    "start_time": "2022-08-15T10:06:32.823Z"
   },
   {
    "duration": 41,
    "start_time": "2022-08-15T10:06:32.943Z"
   },
   {
    "duration": 56,
    "start_time": "2022-08-15T10:06:32.985Z"
   },
   {
    "duration": 8,
    "start_time": "2022-08-15T10:06:33.043Z"
   },
   {
    "duration": 10,
    "start_time": "2022-08-15T10:06:33.052Z"
   },
   {
    "duration": 136,
    "start_time": "2022-08-15T10:06:33.064Z"
   },
   {
    "duration": 231,
    "start_time": "2022-08-15T10:06:33.202Z"
   },
   {
    "duration": 9,
    "start_time": "2022-08-15T10:06:33.436Z"
   },
   {
    "duration": 128,
    "start_time": "2022-08-15T10:06:33.447Z"
   },
   {
    "duration": 9,
    "start_time": "2022-08-15T10:06:33.577Z"
   },
   {
    "duration": 27,
    "start_time": "2022-08-15T10:06:33.587Z"
   },
   {
    "duration": 10,
    "start_time": "2022-08-15T10:06:33.620Z"
   },
   {
    "duration": 15,
    "start_time": "2022-08-15T10:06:33.632Z"
   },
   {
    "duration": 10,
    "start_time": "2022-08-15T10:06:33.654Z"
   },
   {
    "duration": 21,
    "start_time": "2022-08-15T10:06:33.666Z"
   },
   {
    "duration": 29,
    "start_time": "2022-08-15T10:06:33.690Z"
   },
   {
    "duration": 41,
    "start_time": "2022-08-15T10:06:33.721Z"
   },
   {
    "duration": 337,
    "start_time": "2022-08-15T10:06:33.764Z"
   },
   {
    "duration": 21,
    "start_time": "2022-08-15T10:06:34.103Z"
   },
   {
    "duration": 7,
    "start_time": "2022-08-15T10:06:34.129Z"
   },
   {
    "duration": 7,
    "start_time": "2022-08-15T10:06:34.138Z"
   },
   {
    "duration": 316,
    "start_time": "2022-08-15T10:06:34.147Z"
   },
   {
    "duration": 267,
    "start_time": "2022-08-15T10:06:34.465Z"
   },
   {
    "duration": 247,
    "start_time": "2022-08-15T10:06:34.734Z"
   },
   {
    "duration": 371,
    "start_time": "2022-08-15T10:06:34.983Z"
   },
   {
    "duration": 173,
    "start_time": "2022-08-15T10:06:35.356Z"
   },
   {
    "duration": 214,
    "start_time": "2022-08-15T10:06:35.533Z"
   },
   {
    "duration": 195,
    "start_time": "2022-08-15T10:06:35.759Z"
   },
   {
    "duration": 143,
    "start_time": "2022-08-15T10:06:35.957Z"
   },
   {
    "duration": 170,
    "start_time": "2022-08-15T10:06:36.109Z"
   },
   {
    "duration": 150,
    "start_time": "2022-08-15T10:06:36.281Z"
   },
   {
    "duration": 141,
    "start_time": "2022-08-15T10:06:36.433Z"
   },
   {
    "duration": 158,
    "start_time": "2022-08-15T10:06:36.576Z"
   },
   {
    "duration": 155,
    "start_time": "2022-08-15T10:06:36.736Z"
   },
   {
    "duration": 142,
    "start_time": "2022-08-15T10:06:36.892Z"
   },
   {
    "duration": 230,
    "start_time": "2022-08-15T10:06:37.036Z"
   },
   {
    "duration": 6,
    "start_time": "2022-08-15T10:06:37.269Z"
   },
   {
    "duration": 18,
    "start_time": "2022-08-15T10:06:37.277Z"
   },
   {
    "duration": 73,
    "start_time": "2022-08-15T10:09:32.767Z"
   },
   {
    "duration": 10,
    "start_time": "2022-08-15T10:09:56.709Z"
   },
   {
    "duration": 4,
    "start_time": "2022-08-15T10:09:58.727Z"
   },
   {
    "duration": 179,
    "start_time": "2022-08-15T10:10:16.620Z"
   },
   {
    "duration": 9,
    "start_time": "2022-08-15T10:13:43.840Z"
   },
   {
    "duration": 218,
    "start_time": "2022-08-15T10:13:52.054Z"
   },
   {
    "duration": 204,
    "start_time": "2022-08-15T10:13:55.440Z"
   },
   {
    "duration": 206,
    "start_time": "2022-08-15T10:13:58.140Z"
   },
   {
    "duration": 365,
    "start_time": "2022-08-15T10:14:00.944Z"
   },
   {
    "duration": 222,
    "start_time": "2022-08-15T10:14:03.661Z"
   },
   {
    "duration": 7,
    "start_time": "2022-08-15T10:15:31.638Z"
   },
   {
    "duration": 185,
    "start_time": "2022-08-15T10:23:00.335Z"
   },
   {
    "duration": 6,
    "start_time": "2022-08-15T10:23:19.246Z"
   },
   {
    "duration": 204,
    "start_time": "2022-08-15T10:26:55.194Z"
   },
   {
    "duration": 7,
    "start_time": "2022-08-15T10:27:24.535Z"
   },
   {
    "duration": 6,
    "start_time": "2022-08-15T10:27:56.130Z"
   },
   {
    "duration": 193,
    "start_time": "2022-08-15T10:28:04.380Z"
   },
   {
    "duration": 201,
    "start_time": "2022-08-15T10:45:14.292Z"
   },
   {
    "duration": 6,
    "start_time": "2022-08-15T10:46:31.675Z"
   },
   {
    "duration": 198,
    "start_time": "2022-08-15T11:21:53.692Z"
   },
   {
    "duration": 211,
    "start_time": "2022-08-15T11:25:02.671Z"
   },
   {
    "duration": 21,
    "start_time": "2022-08-15T11:27:32.643Z"
   },
   {
    "duration": 161,
    "start_time": "2022-08-15T11:30:28.722Z"
   },
   {
    "duration": 213,
    "start_time": "2022-08-15T11:30:37.822Z"
   },
   {
    "duration": 155,
    "start_time": "2022-08-15T11:31:02.693Z"
   },
   {
    "duration": 17,
    "start_time": "2022-08-15T11:31:12.099Z"
   },
   {
    "duration": 26,
    "start_time": "2022-08-15T11:31:37.100Z"
   },
   {
    "duration": 20,
    "start_time": "2022-08-15T11:31:41.677Z"
   },
   {
    "duration": 17,
    "start_time": "2022-08-15T11:31:48.049Z"
   },
   {
    "duration": 128,
    "start_time": "2022-08-15T11:31:53.053Z"
   },
   {
    "duration": 1052,
    "start_time": "2022-08-15T11:31:57.123Z"
   },
   {
    "duration": 15,
    "start_time": "2022-08-15T11:32:13.460Z"
   },
   {
    "duration": 1410,
    "start_time": "2022-08-15T11:32:18.484Z"
   },
   {
    "duration": 196,
    "start_time": "2022-08-15T11:32:26.428Z"
   },
   {
    "duration": 1749,
    "start_time": "2022-08-15T11:34:08.829Z"
   },
   {
    "duration": 6,
    "start_time": "2022-08-15T11:34:20.653Z"
   },
   {
    "duration": 15,
    "start_time": "2022-08-15T11:34:24.537Z"
   },
   {
    "duration": 181,
    "start_time": "2022-08-15T11:34:37.237Z"
   },
   {
    "duration": 17,
    "start_time": "2022-08-15T11:36:35.782Z"
   },
   {
    "duration": 176,
    "start_time": "2022-08-15T11:36:55.428Z"
   },
   {
    "duration": 160,
    "start_time": "2022-08-15T11:38:43.970Z"
   },
   {
    "duration": 8,
    "start_time": "2022-08-15T12:41:19.706Z"
   },
   {
    "duration": 23,
    "start_time": "2022-08-15T12:46:36.049Z"
   },
   {
    "duration": 21,
    "start_time": "2022-08-15T12:48:01.893Z"
   },
   {
    "duration": 21,
    "start_time": "2022-08-15T12:48:14.281Z"
   },
   {
    "duration": 39,
    "start_time": "2022-08-15T12:48:46.704Z"
   },
   {
    "duration": 16,
    "start_time": "2022-08-15T12:48:58.576Z"
   },
   {
    "duration": 14,
    "start_time": "2022-08-15T12:49:18.944Z"
   },
   {
    "duration": 16,
    "start_time": "2022-08-15T12:49:30.238Z"
   },
   {
    "duration": 79,
    "start_time": "2022-08-15T12:50:38.173Z"
   },
   {
    "duration": 19,
    "start_time": "2022-08-15T12:50:46.997Z"
   },
   {
    "duration": 20,
    "start_time": "2022-08-15T12:50:57.070Z"
   },
   {
    "duration": 21,
    "start_time": "2022-08-15T12:51:30.622Z"
   },
   {
    "duration": 25,
    "start_time": "2022-08-15T12:52:01.234Z"
   },
   {
    "duration": 21,
    "start_time": "2022-08-15T12:54:28.155Z"
   },
   {
    "duration": 22,
    "start_time": "2022-08-15T12:54:37.254Z"
   },
   {
    "duration": 181,
    "start_time": "2022-08-15T12:57:48.547Z"
   },
   {
    "duration": 295,
    "start_time": "2022-08-15T12:58:57.285Z"
   },
   {
    "duration": 3,
    "start_time": "2022-08-15T13:20:07.065Z"
   },
   {
    "duration": 56,
    "start_time": "2022-08-15T13:25:20.438Z"
   },
   {
    "duration": 8,
    "start_time": "2022-08-15T13:25:40.746Z"
   },
   {
    "duration": 57,
    "start_time": "2022-08-15T13:26:41.641Z"
   },
   {
    "duration": 22,
    "start_time": "2022-08-15T13:30:21.433Z"
   },
   {
    "duration": 8,
    "start_time": "2022-08-15T13:33:45.843Z"
   },
   {
    "duration": 19,
    "start_time": "2022-08-15T13:35:09.333Z"
   },
   {
    "duration": 191,
    "start_time": "2022-08-15T13:35:14.194Z"
   },
   {
    "duration": 3,
    "start_time": "2022-08-15T13:42:38.059Z"
   },
   {
    "duration": 21,
    "start_time": "2022-08-15T13:43:18.359Z"
   },
   {
    "duration": 5,
    "start_time": "2022-08-15T13:43:34.038Z"
   },
   {
    "duration": 5,
    "start_time": "2022-08-15T13:43:57.493Z"
   },
   {
    "duration": 30,
    "start_time": "2022-08-15T13:44:01.894Z"
   },
   {
    "duration": 22,
    "start_time": "2022-08-15T13:44:09.941Z"
   },
   {
    "duration": 13,
    "start_time": "2022-08-15T13:45:18.356Z"
   },
   {
    "duration": 23,
    "start_time": "2022-08-15T13:45:46.736Z"
   },
   {
    "duration": 20,
    "start_time": "2022-08-15T13:45:56.144Z"
   },
   {
    "duration": 8,
    "start_time": "2022-08-15T13:46:34.852Z"
   },
   {
    "duration": 8,
    "start_time": "2022-08-15T13:46:36.894Z"
   },
   {
    "duration": 20,
    "start_time": "2022-08-15T13:47:06.754Z"
   },
   {
    "duration": 178,
    "start_time": "2022-08-15T13:47:10.713Z"
   },
   {
    "duration": 157,
    "start_time": "2022-08-15T13:47:35.493Z"
   },
   {
    "duration": 4,
    "start_time": "2022-08-15T13:47:54.171Z"
   },
   {
    "duration": 10,
    "start_time": "2022-08-15T13:47:55.938Z"
   },
   {
    "duration": 16,
    "start_time": "2022-08-15T13:48:31.508Z"
   },
   {
    "duration": 7,
    "start_time": "2022-08-15T13:49:05.148Z"
   },
   {
    "duration": 13,
    "start_time": "2022-08-15T13:50:10.849Z"
   },
   {
    "duration": 79,
    "start_time": "2022-08-15T13:50:25.405Z"
   },
   {
    "duration": 6,
    "start_time": "2022-08-15T13:50:27.962Z"
   },
   {
    "duration": 5,
    "start_time": "2022-08-15T13:58:14.438Z"
   },
   {
    "duration": 11,
    "start_time": "2022-08-15T13:59:01.691Z"
   },
   {
    "duration": 4,
    "start_time": "2022-08-15T13:59:11.154Z"
   },
   {
    "duration": 95,
    "start_time": "2022-08-16T10:21:39.481Z"
   },
   {
    "duration": 43,
    "start_time": "2022-08-16T10:49:32.980Z"
   },
   {
    "duration": 50,
    "start_time": "2022-08-16T10:56:02.363Z"
   },
   {
    "duration": 78,
    "start_time": "2022-08-16T12:40:16.932Z"
   },
   {
    "duration": 7,
    "start_time": "2022-08-16T12:46:02.694Z"
   },
   {
    "duration": 8,
    "start_time": "2022-08-16T12:46:10.241Z"
   },
   {
    "duration": 737,
    "start_time": "2022-08-16T12:59:24.562Z"
   },
   {
    "duration": 16,
    "start_time": "2022-08-16T12:59:25.301Z"
   },
   {
    "duration": 2258,
    "start_time": "2022-08-16T12:59:25.318Z"
   },
   {
    "duration": 5,
    "start_time": "2022-08-16T12:59:27.578Z"
   },
   {
    "duration": 33,
    "start_time": "2022-08-16T12:59:27.585Z"
   },
   {
    "duration": 7,
    "start_time": "2022-08-16T12:59:27.619Z"
   },
   {
    "duration": 16,
    "start_time": "2022-08-16T12:59:27.628Z"
   },
   {
    "duration": 8,
    "start_time": "2022-08-16T12:59:27.645Z"
   },
   {
    "duration": 11,
    "start_time": "2022-08-16T12:59:27.655Z"
   },
   {
    "duration": 8,
    "start_time": "2022-08-16T12:59:27.668Z"
   },
   {
    "duration": 21,
    "start_time": "2022-08-16T12:59:27.678Z"
   },
   {
    "duration": 13,
    "start_time": "2022-08-16T12:59:27.701Z"
   },
   {
    "duration": 25,
    "start_time": "2022-08-16T12:59:27.716Z"
   },
   {
    "duration": 8,
    "start_time": "2022-08-16T12:59:27.743Z"
   },
   {
    "duration": 9,
    "start_time": "2022-08-16T12:59:27.753Z"
   },
   {
    "duration": 6,
    "start_time": "2022-08-16T12:59:27.763Z"
   },
   {
    "duration": 9,
    "start_time": "2022-08-16T12:59:27.771Z"
   },
   {
    "duration": 8,
    "start_time": "2022-08-16T12:59:27.782Z"
   },
   {
    "duration": 5,
    "start_time": "2022-08-16T12:59:27.809Z"
   },
   {
    "duration": 9,
    "start_time": "2022-08-16T12:59:27.816Z"
   },
   {
    "duration": 7,
    "start_time": "2022-08-16T12:59:27.826Z"
   },
   {
    "duration": 8,
    "start_time": "2022-08-16T12:59:27.834Z"
   },
   {
    "duration": 5,
    "start_time": "2022-08-16T12:59:27.844Z"
   },
   {
    "duration": 6,
    "start_time": "2022-08-16T12:59:27.850Z"
   },
   {
    "duration": 12,
    "start_time": "2022-08-16T12:59:27.857Z"
   },
   {
    "duration": 9,
    "start_time": "2022-08-16T12:59:27.909Z"
   },
   {
    "duration": 11,
    "start_time": "2022-08-16T12:59:27.920Z"
   },
   {
    "duration": 8,
    "start_time": "2022-08-16T12:59:27.935Z"
   },
   {
    "duration": 8,
    "start_time": "2022-08-16T12:59:27.945Z"
   },
   {
    "duration": 10,
    "start_time": "2022-08-16T12:59:27.954Z"
   },
   {
    "duration": 50,
    "start_time": "2022-08-16T12:59:27.966Z"
   },
   {
    "duration": 4,
    "start_time": "2022-08-16T12:59:28.018Z"
   },
   {
    "duration": 7,
    "start_time": "2022-08-16T12:59:28.024Z"
   },
   {
    "duration": 6,
    "start_time": "2022-08-16T12:59:28.033Z"
   },
   {
    "duration": 14,
    "start_time": "2022-08-16T12:59:28.040Z"
   },
   {
    "duration": 10,
    "start_time": "2022-08-16T12:59:28.056Z"
   },
   {
    "duration": 6,
    "start_time": "2022-08-16T12:59:28.109Z"
   },
   {
    "duration": 8,
    "start_time": "2022-08-16T12:59:28.117Z"
   },
   {
    "duration": 9,
    "start_time": "2022-08-16T12:59:28.127Z"
   },
   {
    "duration": 30,
    "start_time": "2022-08-16T12:59:28.137Z"
   },
   {
    "duration": 180,
    "start_time": "2022-08-16T12:59:28.168Z"
   },
   {
    "duration": 6,
    "start_time": "2022-08-16T12:59:28.349Z"
   },
   {
    "duration": 2010,
    "start_time": "2022-08-16T12:59:28.356Z"
   },
   {
    "duration": 6,
    "start_time": "2022-08-16T12:59:30.368Z"
   },
   {
    "duration": 20,
    "start_time": "2022-08-16T12:59:30.375Z"
   },
   {
    "duration": 14,
    "start_time": "2022-08-16T12:59:30.397Z"
   },
   {
    "duration": 132,
    "start_time": "2022-08-16T12:59:30.413Z"
   },
   {
    "duration": 124,
    "start_time": "2022-08-16T12:59:30.546Z"
   },
   {
    "duration": 44,
    "start_time": "2022-08-16T12:59:30.671Z"
   },
   {
    "duration": 8,
    "start_time": "2022-08-16T12:59:30.716Z"
   },
   {
    "duration": 21,
    "start_time": "2022-08-16T12:59:30.726Z"
   },
   {
    "duration": 17,
    "start_time": "2022-08-16T12:59:30.749Z"
   },
   {
    "duration": 110,
    "start_time": "2022-08-16T12:59:30.768Z"
   },
   {
    "duration": 7,
    "start_time": "2022-08-16T12:59:30.880Z"
   },
   {
    "duration": 125,
    "start_time": "2022-08-16T12:59:30.889Z"
   },
   {
    "duration": 32,
    "start_time": "2022-08-16T12:59:31.016Z"
   },
   {
    "duration": 37,
    "start_time": "2022-08-16T12:59:31.050Z"
   },
   {
    "duration": 25,
    "start_time": "2022-08-16T12:59:31.089Z"
   },
   {
    "duration": 32,
    "start_time": "2022-08-16T12:59:31.116Z"
   },
   {
    "duration": 127,
    "start_time": "2022-08-16T12:59:31.150Z"
   },
   {
    "duration": 215,
    "start_time": "2022-08-16T12:59:31.278Z"
   },
   {
    "duration": 19,
    "start_time": "2022-08-16T12:59:31.495Z"
   },
   {
    "duration": 118,
    "start_time": "2022-08-16T12:59:31.515Z"
   },
   {
    "duration": 8,
    "start_time": "2022-08-16T12:59:31.635Z"
   },
   {
    "duration": 13,
    "start_time": "2022-08-16T12:59:31.644Z"
   },
   {
    "duration": 8,
    "start_time": "2022-08-16T12:59:31.658Z"
   },
   {
    "duration": 12,
    "start_time": "2022-08-16T12:59:31.668Z"
   },
   {
    "duration": 33,
    "start_time": "2022-08-16T12:59:31.682Z"
   },
   {
    "duration": 8,
    "start_time": "2022-08-16T12:59:31.717Z"
   },
   {
    "duration": 8,
    "start_time": "2022-08-16T12:59:31.727Z"
   },
   {
    "duration": 3,
    "start_time": "2022-08-16T12:59:31.736Z"
   },
   {
    "duration": 323,
    "start_time": "2022-08-16T12:59:31.741Z"
   },
   {
    "duration": 4,
    "start_time": "2022-08-16T12:59:32.066Z"
   },
   {
    "duration": 15,
    "start_time": "2022-08-16T12:59:32.071Z"
   },
   {
    "duration": 4,
    "start_time": "2022-08-16T12:59:32.087Z"
   },
   {
    "duration": 240,
    "start_time": "2022-08-16T12:59:32.093Z"
   },
   {
    "duration": 216,
    "start_time": "2022-08-16T12:59:32.334Z"
   },
   {
    "duration": 212,
    "start_time": "2022-08-16T12:59:32.551Z"
   },
   {
    "duration": 317,
    "start_time": "2022-08-16T12:59:32.765Z"
   },
   {
    "duration": 154,
    "start_time": "2022-08-16T12:59:33.083Z"
   },
   {
    "duration": 140,
    "start_time": "2022-08-16T12:59:33.238Z"
   },
   {
    "duration": 136,
    "start_time": "2022-08-16T12:59:33.383Z"
   },
   {
    "duration": 115,
    "start_time": "2022-08-16T12:59:33.521Z"
   },
   {
    "duration": 148,
    "start_time": "2022-08-16T12:59:33.638Z"
   },
   {
    "duration": 131,
    "start_time": "2022-08-16T12:59:33.788Z"
   },
   {
    "duration": 125,
    "start_time": "2022-08-16T12:59:33.920Z"
   },
   {
    "duration": 137,
    "start_time": "2022-08-16T12:59:34.047Z"
   },
   {
    "duration": 136,
    "start_time": "2022-08-16T12:59:34.185Z"
   },
   {
    "duration": 127,
    "start_time": "2022-08-16T12:59:34.323Z"
   },
   {
    "duration": 182,
    "start_time": "2022-08-16T12:59:34.451Z"
   },
   {
    "duration": 5,
    "start_time": "2022-08-16T12:59:34.635Z"
   },
   {
    "duration": 8,
    "start_time": "2022-08-16T12:59:34.642Z"
   },
   {
    "duration": 5,
    "start_time": "2022-08-16T12:59:34.652Z"
   },
   {
    "duration": 203,
    "start_time": "2022-08-16T12:59:34.658Z"
   },
   {
    "duration": 7,
    "start_time": "2022-08-16T12:59:34.863Z"
   },
   {
    "duration": 193,
    "start_time": "2022-08-16T12:59:34.872Z"
   },
   {
    "duration": 6,
    "start_time": "2022-08-16T12:59:35.067Z"
   },
   {
    "duration": 186,
    "start_time": "2022-08-16T12:59:35.075Z"
   },
   {
    "duration": 6,
    "start_time": "2022-08-16T12:59:35.263Z"
   },
   {
    "duration": 192,
    "start_time": "2022-08-16T12:59:35.271Z"
   },
   {
    "duration": 5,
    "start_time": "2022-08-16T12:59:35.465Z"
   },
   {
    "duration": 297,
    "start_time": "2022-08-16T12:59:35.472Z"
   },
   {
    "duration": 127,
    "start_time": "2022-08-16T12:59:35.770Z"
   },
   {
    "duration": 168,
    "start_time": "2022-08-16T12:59:35.899Z"
   },
   {
    "duration": 165,
    "start_time": "2022-08-16T12:59:36.069Z"
   },
   {
    "duration": 142,
    "start_time": "2022-08-16T12:59:36.235Z"
   },
   {
    "duration": 14,
    "start_time": "2022-08-16T12:59:36.379Z"
   },
   {
    "duration": 151,
    "start_time": "2022-08-16T12:59:36.408Z"
   },
   {
    "duration": 51,
    "start_time": "2022-08-16T12:59:36.560Z"
   },
   {
    "duration": 14,
    "start_time": "2022-08-16T12:59:36.613Z"
   },
   {
    "duration": 144,
    "start_time": "2022-08-16T12:59:36.629Z"
   },
   {
    "duration": 5,
    "start_time": "2022-08-16T12:59:36.775Z"
   },
   {
    "duration": 536,
    "start_time": "2022-08-16T13:15:33.945Z"
   },
   {
    "duration": 40,
    "start_time": "2022-08-16T13:15:34.483Z"
   },
   {
    "duration": 2247,
    "start_time": "2022-08-16T13:15:34.525Z"
   },
   {
    "duration": 5,
    "start_time": "2022-08-16T13:15:36.774Z"
   },
   {
    "duration": 19,
    "start_time": "2022-08-16T13:15:36.781Z"
   },
   {
    "duration": 22,
    "start_time": "2022-08-16T13:15:36.802Z"
   },
   {
    "duration": 9,
    "start_time": "2022-08-16T13:15:36.826Z"
   },
   {
    "duration": 8,
    "start_time": "2022-08-16T13:15:36.837Z"
   },
   {
    "duration": 8,
    "start_time": "2022-08-16T13:15:36.847Z"
   },
   {
    "duration": 6,
    "start_time": "2022-08-16T13:15:36.858Z"
   },
   {
    "duration": 15,
    "start_time": "2022-08-16T13:15:36.866Z"
   },
   {
    "duration": 12,
    "start_time": "2022-08-16T13:15:36.882Z"
   },
   {
    "duration": 12,
    "start_time": "2022-08-16T13:15:36.895Z"
   },
   {
    "duration": 24,
    "start_time": "2022-08-16T13:15:36.909Z"
   },
   {
    "duration": 7,
    "start_time": "2022-08-16T13:15:36.935Z"
   },
   {
    "duration": 8,
    "start_time": "2022-08-16T13:15:36.944Z"
   },
   {
    "duration": 13,
    "start_time": "2022-08-16T13:15:36.954Z"
   },
   {
    "duration": 9,
    "start_time": "2022-08-16T13:15:36.969Z"
   },
   {
    "duration": 8,
    "start_time": "2022-08-16T13:15:36.980Z"
   },
   {
    "duration": 8,
    "start_time": "2022-08-16T13:15:36.990Z"
   },
   {
    "duration": 31,
    "start_time": "2022-08-16T13:15:37.000Z"
   },
   {
    "duration": 11,
    "start_time": "2022-08-16T13:15:37.033Z"
   },
   {
    "duration": 11,
    "start_time": "2022-08-16T13:15:37.046Z"
   },
   {
    "duration": 10,
    "start_time": "2022-08-16T13:15:37.059Z"
   },
   {
    "duration": 15,
    "start_time": "2022-08-16T13:15:37.070Z"
   },
   {
    "duration": 22,
    "start_time": "2022-08-16T13:15:37.087Z"
   },
   {
    "duration": 26,
    "start_time": "2022-08-16T13:15:37.110Z"
   },
   {
    "duration": 10,
    "start_time": "2022-08-16T13:15:37.140Z"
   },
   {
    "duration": 11,
    "start_time": "2022-08-16T13:15:37.152Z"
   },
   {
    "duration": 12,
    "start_time": "2022-08-16T13:15:37.164Z"
   },
   {
    "duration": 14,
    "start_time": "2022-08-16T13:15:37.178Z"
   },
   {
    "duration": 18,
    "start_time": "2022-08-16T13:15:37.194Z"
   },
   {
    "duration": 27,
    "start_time": "2022-08-16T13:15:37.213Z"
   },
   {
    "duration": 10,
    "start_time": "2022-08-16T13:15:37.242Z"
   },
   {
    "duration": 23,
    "start_time": "2022-08-16T13:15:37.253Z"
   },
   {
    "duration": 27,
    "start_time": "2022-08-16T13:15:37.277Z"
   },
   {
    "duration": 41,
    "start_time": "2022-08-16T13:15:37.306Z"
   },
   {
    "duration": 28,
    "start_time": "2022-08-16T13:15:37.349Z"
   },
   {
    "duration": 15,
    "start_time": "2022-08-16T13:15:37.379Z"
   },
   {
    "duration": 46,
    "start_time": "2022-08-16T13:15:37.396Z"
   },
   {
    "duration": 243,
    "start_time": "2022-08-16T13:15:37.444Z"
   },
   {
    "duration": 8,
    "start_time": "2022-08-16T13:15:37.689Z"
   },
   {
    "duration": 2287,
    "start_time": "2022-08-16T13:15:37.699Z"
   },
   {
    "duration": 7,
    "start_time": "2022-08-16T13:15:39.987Z"
   },
   {
    "duration": 21,
    "start_time": "2022-08-16T13:15:39.996Z"
   },
   {
    "duration": 13,
    "start_time": "2022-08-16T13:15:40.019Z"
   },
   {
    "duration": 149,
    "start_time": "2022-08-16T13:15:40.033Z"
   },
   {
    "duration": 177,
    "start_time": "2022-08-16T13:15:40.185Z"
   },
   {
    "duration": 33,
    "start_time": "2022-08-16T13:15:40.363Z"
   },
   {
    "duration": 18,
    "start_time": "2022-08-16T13:15:40.398Z"
   },
   {
    "duration": 16,
    "start_time": "2022-08-16T13:15:40.418Z"
   },
   {
    "duration": 12,
    "start_time": "2022-08-16T13:15:40.435Z"
   },
   {
    "duration": 119,
    "start_time": "2022-08-16T13:15:40.449Z"
   },
   {
    "duration": 9,
    "start_time": "2022-08-16T13:15:40.570Z"
   },
   {
    "duration": 141,
    "start_time": "2022-08-16T13:15:40.580Z"
   },
   {
    "duration": 42,
    "start_time": "2022-08-16T13:15:40.723Z"
   },
   {
    "duration": 57,
    "start_time": "2022-08-16T13:15:40.767Z"
   },
   {
    "duration": 8,
    "start_time": "2022-08-16T13:15:40.825Z"
   },
   {
    "duration": 12,
    "start_time": "2022-08-16T13:15:40.834Z"
   },
   {
    "duration": 123,
    "start_time": "2022-08-16T13:15:40.848Z"
   },
   {
    "duration": 125,
    "start_time": "2022-08-16T13:15:40.972Z"
   },
   {
    "duration": 18,
    "start_time": "2022-08-16T13:15:41.098Z"
   },
   {
    "duration": 267,
    "start_time": "2022-08-16T13:15:41.118Z"
   },
   {
    "duration": 9,
    "start_time": "2022-08-16T13:15:41.387Z"
   },
   {
    "duration": 20,
    "start_time": "2022-08-16T13:15:41.398Z"
   },
   {
    "duration": 11,
    "start_time": "2022-08-16T13:15:41.420Z"
   },
   {
    "duration": 8,
    "start_time": "2022-08-16T13:15:41.433Z"
   },
   {
    "duration": 9,
    "start_time": "2022-08-16T13:15:41.443Z"
   },
   {
    "duration": 7,
    "start_time": "2022-08-16T13:15:41.453Z"
   },
   {
    "duration": 8,
    "start_time": "2022-08-16T13:15:41.461Z"
   },
   {
    "duration": 3,
    "start_time": "2022-08-16T13:15:41.470Z"
   },
   {
    "duration": 377,
    "start_time": "2022-08-16T13:15:41.474Z"
   },
   {
    "duration": 5,
    "start_time": "2022-08-16T13:15:41.853Z"
   },
   {
    "duration": 13,
    "start_time": "2022-08-16T13:15:41.859Z"
   },
   {
    "duration": 5,
    "start_time": "2022-08-16T13:15:41.874Z"
   },
   {
    "duration": 272,
    "start_time": "2022-08-16T13:15:41.880Z"
   },
   {
    "duration": 235,
    "start_time": "2022-08-16T13:15:42.154Z"
   },
   {
    "duration": 239,
    "start_time": "2022-08-16T13:15:42.391Z"
   },
   {
    "duration": 369,
    "start_time": "2022-08-16T13:15:42.632Z"
   },
   {
    "duration": 176,
    "start_time": "2022-08-16T13:15:43.003Z"
   },
   {
    "duration": 162,
    "start_time": "2022-08-16T13:15:43.181Z"
   },
   {
    "duration": 149,
    "start_time": "2022-08-16T13:15:43.349Z"
   },
   {
    "duration": 131,
    "start_time": "2022-08-16T13:15:43.500Z"
   },
   {
    "duration": 200,
    "start_time": "2022-08-16T13:15:43.633Z"
   },
   {
    "duration": 153,
    "start_time": "2022-08-16T13:15:43.834Z"
   },
   {
    "duration": 149,
    "start_time": "2022-08-16T13:15:43.989Z"
   },
   {
    "duration": 145,
    "start_time": "2022-08-16T13:15:44.140Z"
   },
   {
    "duration": 153,
    "start_time": "2022-08-16T13:15:44.287Z"
   },
   {
    "duration": 133,
    "start_time": "2022-08-16T13:15:44.442Z"
   },
   {
    "duration": 193,
    "start_time": "2022-08-16T13:15:44.577Z"
   },
   {
    "duration": 4,
    "start_time": "2022-08-16T13:15:44.772Z"
   },
   {
    "duration": 10,
    "start_time": "2022-08-16T13:15:44.777Z"
   },
   {
    "duration": 12,
    "start_time": "2022-08-16T13:15:44.788Z"
   },
   {
    "duration": 204,
    "start_time": "2022-08-16T13:15:44.808Z"
   },
   {
    "duration": 8,
    "start_time": "2022-08-16T13:15:45.014Z"
   },
   {
    "duration": 216,
    "start_time": "2022-08-16T13:15:45.024Z"
   },
   {
    "duration": 5,
    "start_time": "2022-08-16T13:15:45.241Z"
   },
   {
    "duration": 205,
    "start_time": "2022-08-16T13:15:45.248Z"
   },
   {
    "duration": 9,
    "start_time": "2022-08-16T13:15:45.455Z"
   },
   {
    "duration": 213,
    "start_time": "2022-08-16T13:15:45.466Z"
   },
   {
    "duration": 5,
    "start_time": "2022-08-16T13:15:45.681Z"
   },
   {
    "duration": 357,
    "start_time": "2022-08-16T13:15:45.688Z"
   },
   {
    "duration": 139,
    "start_time": "2022-08-16T13:15:46.047Z"
   },
   {
    "duration": 161,
    "start_time": "2022-08-16T13:15:46.187Z"
   },
   {
    "duration": 181,
    "start_time": "2022-08-16T13:15:46.350Z"
   },
   {
    "duration": 156,
    "start_time": "2022-08-16T13:15:46.533Z"
   },
   {
    "duration": 28,
    "start_time": "2022-08-16T13:15:46.691Z"
   },
   {
    "duration": 191,
    "start_time": "2022-08-16T13:15:46.721Z"
   },
   {
    "duration": 49,
    "start_time": "2022-08-16T13:15:46.914Z"
   },
   {
    "duration": 16,
    "start_time": "2022-08-16T13:15:46.965Z"
   },
   {
    "duration": 174,
    "start_time": "2022-08-16T13:15:46.982Z"
   },
   {
    "duration": 6,
    "start_time": "2022-08-16T13:15:47.157Z"
   },
   {
    "duration": 15,
    "start_time": "2022-08-16T13:20:06.043Z"
   },
   {
    "duration": 154,
    "start_time": "2022-08-16T13:29:27.640Z"
   },
   {
    "duration": 592,
    "start_time": "2022-08-18T09:08:23.769Z"
   },
   {
    "duration": 22,
    "start_time": "2022-08-18T09:08:24.374Z"
   },
   {
    "duration": 2658,
    "start_time": "2022-08-18T09:08:25.711Z"
   },
   {
    "duration": 5,
    "start_time": "2022-08-18T09:08:32.853Z"
   },
   {
    "duration": 7,
    "start_time": "2022-08-18T09:08:33.270Z"
   },
   {
    "duration": 6,
    "start_time": "2022-08-18T09:08:33.656Z"
   },
   {
    "duration": 4,
    "start_time": "2022-08-18T09:08:34.146Z"
   },
   {
    "duration": 6,
    "start_time": "2022-08-18T09:08:34.504Z"
   },
   {
    "duration": 7,
    "start_time": "2022-08-18T09:08:34.827Z"
   },
   {
    "duration": 6,
    "start_time": "2022-08-18T09:08:35.063Z"
   },
   {
    "duration": 5,
    "start_time": "2022-08-18T09:08:36.090Z"
   },
   {
    "duration": 8,
    "start_time": "2022-08-18T09:08:36.263Z"
   },
   {
    "duration": 5,
    "start_time": "2022-08-18T09:08:36.759Z"
   },
   {
    "duration": 5,
    "start_time": "2022-08-18T09:08:36.918Z"
   },
   {
    "duration": 6,
    "start_time": "2022-08-18T09:08:37.199Z"
   },
   {
    "duration": 7,
    "start_time": "2022-08-18T09:08:37.833Z"
   },
   {
    "duration": 8,
    "start_time": "2022-08-18T09:08:38.317Z"
   },
   {
    "duration": 6,
    "start_time": "2022-08-18T09:08:38.478Z"
   },
   {
    "duration": 5,
    "start_time": "2022-08-18T09:08:39.165Z"
   },
   {
    "duration": 4,
    "start_time": "2022-08-18T09:08:39.332Z"
   },
   {
    "duration": 5,
    "start_time": "2022-08-18T09:08:39.510Z"
   },
   {
    "duration": 4,
    "start_time": "2022-08-18T09:08:39.668Z"
   },
   {
    "duration": 5,
    "start_time": "2022-08-18T09:08:39.850Z"
   },
   {
    "duration": 5,
    "start_time": "2022-08-18T09:08:40.015Z"
   },
   {
    "duration": 8,
    "start_time": "2022-08-18T09:08:40.376Z"
   },
   {
    "duration": 10,
    "start_time": "2022-08-18T09:08:40.741Z"
   },
   {
    "duration": 10,
    "start_time": "2022-08-18T09:08:40.900Z"
   },
   {
    "duration": 10,
    "start_time": "2022-08-18T09:08:41.085Z"
   },
   {
    "duration": 10,
    "start_time": "2022-08-18T09:08:41.269Z"
   },
   {
    "duration": 11,
    "start_time": "2022-08-18T09:08:41.776Z"
   },
   {
    "duration": 9,
    "start_time": "2022-08-18T09:08:42.083Z"
   },
   {
    "duration": 5,
    "start_time": "2022-08-18T09:08:42.647Z"
   },
   {
    "duration": 5,
    "start_time": "2022-08-18T09:08:42.838Z"
   },
   {
    "duration": 6,
    "start_time": "2022-08-18T09:08:43.209Z"
   },
   {
    "duration": 13,
    "start_time": "2022-08-18T09:08:43.960Z"
   },
   {
    "duration": 10,
    "start_time": "2022-08-18T09:08:44.342Z"
   },
   {
    "duration": 5,
    "start_time": "2022-08-18T09:08:44.564Z"
   },
   {
    "duration": 7,
    "start_time": "2022-08-18T09:09:21.363Z"
   },
   {
    "duration": 73,
    "start_time": "2022-08-18T09:17:27.390Z"
   },
   {
    "duration": 25,
    "start_time": "2022-08-18T09:17:39.899Z"
   },
   {
    "duration": 20,
    "start_time": "2022-08-18T09:17:46.414Z"
   },
   {
    "duration": 27,
    "start_time": "2022-08-18T09:18:37.129Z"
   },
   {
    "duration": 145,
    "start_time": "2022-08-18T09:20:43.912Z"
   },
   {
    "duration": 21,
    "start_time": "2022-08-18T09:21:16.229Z"
   },
   {
    "duration": 75,
    "start_time": "2022-08-18T09:27:59.230Z"
   },
   {
    "duration": 186,
    "start_time": "2022-08-18T09:32:07.798Z"
   },
   {
    "duration": 185,
    "start_time": "2022-08-18T09:32:48.695Z"
   },
   {
    "duration": 193,
    "start_time": "2022-08-18T09:32:51.877Z"
   },
   {
    "duration": 2300,
    "start_time": "2022-08-18T09:33:14.278Z"
   },
   {
    "duration": 8,
    "start_time": "2022-08-18T09:33:16.580Z"
   },
   {
    "duration": 8,
    "start_time": "2022-08-18T09:33:23.219Z"
   },
   {
    "duration": 10,
    "start_time": "2022-08-18T09:33:24.090Z"
   },
   {
    "duration": 2,
    "start_time": "2022-08-18T09:33:26.007Z"
   },
   {
    "duration": 126,
    "start_time": "2022-08-18T09:33:26.305Z"
   },
   {
    "duration": 168,
    "start_time": "2022-08-18T09:33:26.620Z"
   },
   {
    "duration": 35,
    "start_time": "2022-08-18T09:33:28.564Z"
   },
   {
    "duration": 21,
    "start_time": "2022-08-18T09:33:36.397Z"
   },
   {
    "duration": 281,
    "start_time": "2022-08-18T09:33:45.830Z"
   },
   {
    "duration": 174,
    "start_time": "2022-08-18T09:34:55.995Z"
   },
   {
    "duration": 180,
    "start_time": "2022-08-18T09:35:11.094Z"
   },
   {
    "duration": 210,
    "start_time": "2022-08-18T09:35:48.702Z"
   },
   {
    "duration": 188,
    "start_time": "2022-08-18T09:36:34.946Z"
   },
   {
    "duration": 59,
    "start_time": "2022-08-18T16:39:58.660Z"
   },
   {
    "duration": 824,
    "start_time": "2022-08-18T16:40:05.393Z"
   },
   {
    "duration": 16,
    "start_time": "2022-08-18T16:40:06.219Z"
   },
   {
    "duration": 2538,
    "start_time": "2022-08-18T16:40:06.237Z"
   },
   {
    "duration": 6,
    "start_time": "2022-08-18T16:40:08.777Z"
   },
   {
    "duration": 8,
    "start_time": "2022-08-18T16:40:08.785Z"
   },
   {
    "duration": 7,
    "start_time": "2022-08-18T16:40:08.795Z"
   },
   {
    "duration": 5,
    "start_time": "2022-08-18T16:40:08.804Z"
   },
   {
    "duration": 7,
    "start_time": "2022-08-18T16:40:08.811Z"
   },
   {
    "duration": 8,
    "start_time": "2022-08-18T16:40:08.820Z"
   },
   {
    "duration": 33,
    "start_time": "2022-08-18T16:40:08.829Z"
   },
   {
    "duration": 36,
    "start_time": "2022-08-18T16:40:08.865Z"
   },
   {
    "duration": 19,
    "start_time": "2022-08-18T16:40:08.904Z"
   },
   {
    "duration": 14,
    "start_time": "2022-08-18T16:40:08.925Z"
   },
   {
    "duration": 35,
    "start_time": "2022-08-18T16:40:08.943Z"
   },
   {
    "duration": 7,
    "start_time": "2022-08-18T16:40:08.980Z"
   },
   {
    "duration": 8,
    "start_time": "2022-08-18T16:40:08.988Z"
   },
   {
    "duration": 16,
    "start_time": "2022-08-18T16:40:08.998Z"
   },
   {
    "duration": 11,
    "start_time": "2022-08-18T16:40:09.016Z"
   },
   {
    "duration": 15,
    "start_time": "2022-08-18T16:40:09.029Z"
   },
   {
    "duration": 6,
    "start_time": "2022-08-18T16:40:09.046Z"
   },
   {
    "duration": 30,
    "start_time": "2022-08-18T16:40:09.054Z"
   },
   {
    "duration": 9,
    "start_time": "2022-08-18T16:40:09.086Z"
   },
   {
    "duration": 17,
    "start_time": "2022-08-18T16:40:09.097Z"
   },
   {
    "duration": 11,
    "start_time": "2022-08-18T16:40:09.116Z"
   },
   {
    "duration": 18,
    "start_time": "2022-08-18T16:40:09.128Z"
   },
   {
    "duration": 22,
    "start_time": "2022-08-18T16:40:09.148Z"
   },
   {
    "duration": 13,
    "start_time": "2022-08-18T16:40:09.172Z"
   },
   {
    "duration": 19,
    "start_time": "2022-08-18T16:40:09.186Z"
   },
   {
    "duration": 9,
    "start_time": "2022-08-18T16:40:09.206Z"
   },
   {
    "duration": 14,
    "start_time": "2022-08-18T16:40:09.217Z"
   },
   {
    "duration": 23,
    "start_time": "2022-08-18T16:40:09.233Z"
   },
   {
    "duration": 19,
    "start_time": "2022-08-18T16:40:09.267Z"
   },
   {
    "duration": 9,
    "start_time": "2022-08-18T16:40:09.288Z"
   },
   {
    "duration": 8,
    "start_time": "2022-08-18T16:40:09.298Z"
   },
   {
    "duration": 17,
    "start_time": "2022-08-18T16:40:09.308Z"
   },
   {
    "duration": 11,
    "start_time": "2022-08-18T16:40:09.326Z"
   },
   {
    "duration": 23,
    "start_time": "2022-08-18T16:40:09.339Z"
   },
   {
    "duration": 12,
    "start_time": "2022-08-18T16:40:09.364Z"
   },
   {
    "duration": 19,
    "start_time": "2022-08-18T16:40:09.378Z"
   },
   {
    "duration": 17,
    "start_time": "2022-08-18T16:40:09.399Z"
   },
   {
    "duration": 51,
    "start_time": "2022-08-18T16:40:09.424Z"
   },
   {
    "duration": 162,
    "start_time": "2022-08-18T16:40:09.477Z"
   },
   {
    "duration": 6,
    "start_time": "2022-08-18T16:40:09.641Z"
   },
   {
    "duration": 30,
    "start_time": "2022-08-18T16:40:09.648Z"
   },
   {
    "duration": 2389,
    "start_time": "2022-08-18T16:40:09.681Z"
   },
   {
    "duration": 11,
    "start_time": "2022-08-18T16:40:12.072Z"
   },
   {
    "duration": 22,
    "start_time": "2022-08-18T16:40:12.085Z"
   },
   {
    "duration": 2,
    "start_time": "2022-08-18T16:40:12.109Z"
   },
   {
    "duration": 139,
    "start_time": "2022-08-18T16:40:12.114Z"
   },
   {
    "duration": 148,
    "start_time": "2022-08-18T16:40:12.260Z"
   },
   {
    "duration": 56,
    "start_time": "2022-08-18T16:40:12.410Z"
   },
   {
    "duration": 10,
    "start_time": "2022-08-18T16:40:12.472Z"
   },
   {
    "duration": 7,
    "start_time": "2022-08-18T16:40:12.483Z"
   },
   {
    "duration": 26,
    "start_time": "2022-08-18T16:40:12.493Z"
   },
   {
    "duration": 148,
    "start_time": "2022-08-18T16:40:12.521Z"
   },
   {
    "duration": 12,
    "start_time": "2022-08-18T16:40:12.673Z"
   },
   {
    "duration": 138,
    "start_time": "2022-08-18T16:40:12.687Z"
   },
   {
    "duration": 50,
    "start_time": "2022-08-18T16:40:12.827Z"
   },
   {
    "duration": 50,
    "start_time": "2022-08-18T16:40:12.878Z"
   },
   {
    "duration": 26,
    "start_time": "2022-08-18T16:40:12.931Z"
   },
   {
    "duration": 32,
    "start_time": "2022-08-18T16:40:12.959Z"
   },
   {
    "duration": 126,
    "start_time": "2022-08-18T16:40:12.994Z"
   },
   {
    "duration": 257,
    "start_time": "2022-08-18T16:40:13.122Z"
   },
   {
    "duration": 9,
    "start_time": "2022-08-18T16:40:13.382Z"
   },
   {
    "duration": 142,
    "start_time": "2022-08-18T16:40:13.392Z"
   },
   {
    "duration": 10,
    "start_time": "2022-08-18T16:40:13.535Z"
   },
   {
    "duration": 31,
    "start_time": "2022-08-18T16:40:13.546Z"
   },
   {
    "duration": 34,
    "start_time": "2022-08-18T16:40:13.579Z"
   },
   {
    "duration": 4,
    "start_time": "2022-08-18T16:40:13.615Z"
   },
   {
    "duration": 21,
    "start_time": "2022-08-18T16:40:13.620Z"
   },
   {
    "duration": 12,
    "start_time": "2022-08-18T16:40:13.643Z"
   },
   {
    "duration": 14,
    "start_time": "2022-08-18T16:40:13.657Z"
   },
   {
    "duration": 23,
    "start_time": "2022-08-18T16:40:13.674Z"
   },
   {
    "duration": 4,
    "start_time": "2022-08-18T16:40:13.699Z"
   },
   {
    "duration": 398,
    "start_time": "2022-08-18T16:40:13.705Z"
   },
   {
    "duration": 5,
    "start_time": "2022-08-18T16:40:14.105Z"
   },
   {
    "duration": 12,
    "start_time": "2022-08-18T16:40:14.112Z"
   },
   {
    "duration": 13,
    "start_time": "2022-08-18T16:40:14.125Z"
   },
   {
    "duration": 293,
    "start_time": "2022-08-18T16:40:14.141Z"
   },
   {
    "duration": 260,
    "start_time": "2022-08-18T16:40:14.436Z"
   },
   {
    "duration": 283,
    "start_time": "2022-08-18T16:40:14.698Z"
   },
   {
    "duration": 432,
    "start_time": "2022-08-18T16:40:14.983Z"
   },
   {
    "duration": 227,
    "start_time": "2022-08-18T16:40:15.417Z"
   },
   {
    "duration": 241,
    "start_time": "2022-08-18T16:40:15.646Z"
   },
   {
    "duration": 152,
    "start_time": "2022-08-18T16:40:15.888Z"
   },
   {
    "duration": 136,
    "start_time": "2022-08-18T16:40:16.042Z"
   },
   {
    "duration": 386,
    "start_time": "2022-08-18T16:40:16.180Z"
   },
   {
    "duration": 218,
    "start_time": "2022-08-18T16:40:16.574Z"
   },
   {
    "duration": 145,
    "start_time": "2022-08-18T16:40:16.794Z"
   },
   {
    "duration": 169,
    "start_time": "2022-08-18T16:40:16.941Z"
   },
   {
    "duration": 175,
    "start_time": "2022-08-18T16:40:17.112Z"
   },
   {
    "duration": 157,
    "start_time": "2022-08-18T16:40:17.289Z"
   },
   {
    "duration": 223,
    "start_time": "2022-08-18T16:40:17.448Z"
   },
   {
    "duration": 198,
    "start_time": "2022-08-18T16:40:17.674Z"
   },
   {
    "duration": 5,
    "start_time": "2022-08-18T16:40:17.874Z"
   },
   {
    "duration": 8,
    "start_time": "2022-08-18T16:40:17.881Z"
   },
   {
    "duration": 5,
    "start_time": "2022-08-18T16:40:17.891Z"
   },
   {
    "duration": 218,
    "start_time": "2022-08-18T16:40:17.897Z"
   },
   {
    "duration": 7,
    "start_time": "2022-08-18T16:40:18.118Z"
   },
   {
    "duration": 210,
    "start_time": "2022-08-18T16:40:18.126Z"
   },
   {
    "duration": 6,
    "start_time": "2022-08-18T16:40:18.337Z"
   },
   {
    "duration": 355,
    "start_time": "2022-08-18T16:40:18.344Z"
   },
   {
    "duration": 8,
    "start_time": "2022-08-18T16:40:18.701Z"
   },
   {
    "duration": 216,
    "start_time": "2022-08-18T16:40:18.710Z"
   },
   {
    "duration": 5,
    "start_time": "2022-08-18T16:40:18.928Z"
   },
   {
    "duration": 185,
    "start_time": "2022-08-18T16:40:18.934Z"
   },
   {
    "duration": 160,
    "start_time": "2022-08-18T16:40:19.121Z"
   },
   {
    "duration": 186,
    "start_time": "2022-08-18T16:40:19.283Z"
   },
   {
    "duration": 189,
    "start_time": "2022-08-18T16:40:19.474Z"
   },
   {
    "duration": 156,
    "start_time": "2022-08-18T16:40:19.670Z"
   },
   {
    "duration": 1263,
    "start_time": "2022-08-18T16:40:19.828Z"
   },
   {
    "duration": 0,
    "start_time": "2022-08-18T16:40:21.093Z"
   },
   {
    "duration": 0,
    "start_time": "2022-08-18T16:40:21.095Z"
   },
   {
    "duration": 0,
    "start_time": "2022-08-18T16:40:21.096Z"
   },
   {
    "duration": 0,
    "start_time": "2022-08-18T16:40:21.098Z"
   },
   {
    "duration": 0,
    "start_time": "2022-08-18T16:40:21.099Z"
   },
   {
    "duration": 0,
    "start_time": "2022-08-18T16:40:21.100Z"
   },
   {
    "duration": 181,
    "start_time": "2022-08-18T16:42:10.150Z"
   },
   {
    "duration": 154,
    "start_time": "2022-08-18T16:44:23.956Z"
   },
   {
    "duration": 16,
    "start_time": "2022-08-18T16:51:44.447Z"
   },
   {
    "duration": 170,
    "start_time": "2022-08-18T16:51:46.443Z"
   },
   {
    "duration": 46,
    "start_time": "2022-08-18T16:51:49.950Z"
   },
   {
    "duration": 17,
    "start_time": "2022-08-18T16:51:51.334Z"
   },
   {
    "duration": 136,
    "start_time": "2022-08-18T16:51:53.851Z"
   },
   {
    "duration": 6,
    "start_time": "2022-08-18T16:51:56.426Z"
   },
   {
    "duration": 532,
    "start_time": "2022-08-18T18:51:56.881Z"
   },
   {
    "duration": 13,
    "start_time": "2022-08-18T18:51:57.415Z"
   },
   {
    "duration": 2003,
    "start_time": "2022-08-18T18:51:57.429Z"
   },
   {
    "duration": 4,
    "start_time": "2022-08-18T18:51:59.434Z"
   },
   {
    "duration": 15,
    "start_time": "2022-08-18T18:51:59.440Z"
   },
   {
    "duration": 14,
    "start_time": "2022-08-18T18:51:59.456Z"
   },
   {
    "duration": 16,
    "start_time": "2022-08-18T18:51:59.472Z"
   },
   {
    "duration": 13,
    "start_time": "2022-08-18T18:51:59.490Z"
   },
   {
    "duration": 18,
    "start_time": "2022-08-18T18:51:59.504Z"
   },
   {
    "duration": 15,
    "start_time": "2022-08-18T18:51:59.524Z"
   },
   {
    "duration": 8,
    "start_time": "2022-08-18T18:51:59.541Z"
   },
   {
    "duration": 19,
    "start_time": "2022-08-18T18:51:59.550Z"
   },
   {
    "duration": 7,
    "start_time": "2022-08-18T18:51:59.570Z"
   },
   {
    "duration": 7,
    "start_time": "2022-08-18T18:51:59.579Z"
   },
   {
    "duration": 7,
    "start_time": "2022-08-18T18:51:59.587Z"
   },
   {
    "duration": 4,
    "start_time": "2022-08-18T18:51:59.596Z"
   },
   {
    "duration": 16,
    "start_time": "2022-08-18T18:51:59.601Z"
   },
   {
    "duration": 22,
    "start_time": "2022-08-18T18:51:59.619Z"
   },
   {
    "duration": 7,
    "start_time": "2022-08-18T18:51:59.642Z"
   },
   {
    "duration": 10,
    "start_time": "2022-08-18T18:51:59.650Z"
   },
   {
    "duration": 11,
    "start_time": "2022-08-18T18:51:59.661Z"
   },
   {
    "duration": 15,
    "start_time": "2022-08-18T18:51:59.673Z"
   },
   {
    "duration": 11,
    "start_time": "2022-08-18T18:51:59.689Z"
   },
   {
    "duration": 13,
    "start_time": "2022-08-18T18:51:59.701Z"
   },
   {
    "duration": 21,
    "start_time": "2022-08-18T18:51:59.716Z"
   },
   {
    "duration": 16,
    "start_time": "2022-08-18T18:51:59.739Z"
   },
   {
    "duration": 8,
    "start_time": "2022-08-18T18:51:59.756Z"
   },
   {
    "duration": 12,
    "start_time": "2022-08-18T18:51:59.768Z"
   },
   {
    "duration": 13,
    "start_time": "2022-08-18T18:51:59.781Z"
   },
   {
    "duration": 13,
    "start_time": "2022-08-18T18:51:59.796Z"
   },
   {
    "duration": 12,
    "start_time": "2022-08-18T18:51:59.810Z"
   },
   {
    "duration": 6,
    "start_time": "2022-08-18T18:51:59.824Z"
   },
   {
    "duration": 9,
    "start_time": "2022-08-18T18:51:59.831Z"
   },
   {
    "duration": 5,
    "start_time": "2022-08-18T18:51:59.842Z"
   },
   {
    "duration": 15,
    "start_time": "2022-08-18T18:51:59.848Z"
   },
   {
    "duration": 24,
    "start_time": "2022-08-18T18:51:59.864Z"
   },
   {
    "duration": 15,
    "start_time": "2022-08-18T18:51:59.889Z"
   },
   {
    "duration": 11,
    "start_time": "2022-08-18T18:51:59.905Z"
   },
   {
    "duration": 14,
    "start_time": "2022-08-18T18:51:59.917Z"
   },
   {
    "duration": 10,
    "start_time": "2022-08-18T18:51:59.932Z"
   },
   {
    "duration": 28,
    "start_time": "2022-08-18T18:51:59.943Z"
   },
   {
    "duration": 155,
    "start_time": "2022-08-18T18:51:59.973Z"
   },
   {
    "duration": 8,
    "start_time": "2022-08-18T18:52:00.130Z"
   },
   {
    "duration": 19,
    "start_time": "2022-08-18T18:52:00.139Z"
   },
   {
    "duration": 2049,
    "start_time": "2022-08-18T18:52:00.159Z"
   },
   {
    "duration": 6,
    "start_time": "2022-08-18T18:52:02.209Z"
   },
   {
    "duration": 16,
    "start_time": "2022-08-18T18:52:02.216Z"
   },
   {
    "duration": 9,
    "start_time": "2022-08-18T18:52:02.234Z"
   },
   {
    "duration": 123,
    "start_time": "2022-08-18T18:52:02.244Z"
   },
   {
    "duration": 120,
    "start_time": "2022-08-18T18:52:02.368Z"
   },
   {
    "duration": 40,
    "start_time": "2022-08-18T18:52:02.490Z"
   },
   {
    "duration": 8,
    "start_time": "2022-08-18T18:52:02.531Z"
   },
   {
    "duration": 5,
    "start_time": "2022-08-18T18:52:02.540Z"
   },
   {
    "duration": 10,
    "start_time": "2022-08-18T18:52:02.547Z"
   },
   {
    "duration": 130,
    "start_time": "2022-08-18T18:52:02.558Z"
   },
   {
    "duration": 15,
    "start_time": "2022-08-18T18:52:02.689Z"
   },
   {
    "duration": 113,
    "start_time": "2022-08-18T18:52:02.705Z"
   },
   {
    "duration": 34,
    "start_time": "2022-08-18T18:52:02.819Z"
   },
   {
    "duration": 47,
    "start_time": "2022-08-18T18:52:02.854Z"
   },
   {
    "duration": 7,
    "start_time": "2022-08-18T18:52:02.903Z"
   },
   {
    "duration": 20,
    "start_time": "2022-08-18T18:52:02.911Z"
   },
   {
    "duration": 126,
    "start_time": "2022-08-18T18:52:02.933Z"
   },
   {
    "duration": 115,
    "start_time": "2022-08-18T18:52:03.060Z"
   },
   {
    "duration": 8,
    "start_time": "2022-08-18T18:52:03.176Z"
   },
   {
    "duration": 227,
    "start_time": "2022-08-18T18:52:03.185Z"
   },
   {
    "duration": 7,
    "start_time": "2022-08-18T18:52:03.414Z"
   },
   {
    "duration": 15,
    "start_time": "2022-08-18T18:52:03.423Z"
   },
   {
    "duration": 21,
    "start_time": "2022-08-18T18:52:03.439Z"
   },
   {
    "duration": 3,
    "start_time": "2022-08-18T18:52:03.462Z"
   },
   {
    "duration": 11,
    "start_time": "2022-08-18T18:52:03.466Z"
   },
   {
    "duration": 25,
    "start_time": "2022-08-18T18:52:03.478Z"
   },
   {
    "duration": 7,
    "start_time": "2022-08-18T18:52:03.504Z"
   },
   {
    "duration": 16,
    "start_time": "2022-08-18T18:52:03.513Z"
   },
   {
    "duration": 7,
    "start_time": "2022-08-18T18:52:03.530Z"
   },
   {
    "duration": 300,
    "start_time": "2022-08-18T18:52:03.538Z"
   },
   {
    "duration": 5,
    "start_time": "2022-08-18T18:52:03.839Z"
   },
   {
    "duration": 15,
    "start_time": "2022-08-18T18:52:03.846Z"
   },
   {
    "duration": 5,
    "start_time": "2022-08-18T18:52:03.863Z"
   },
   {
    "duration": 238,
    "start_time": "2022-08-18T18:52:03.869Z"
   },
   {
    "duration": 223,
    "start_time": "2022-08-18T18:52:04.108Z"
   },
   {
    "duration": 214,
    "start_time": "2022-08-18T18:52:04.333Z"
   },
   {
    "duration": 330,
    "start_time": "2022-08-18T18:52:04.552Z"
   },
   {
    "duration": 155,
    "start_time": "2022-08-18T18:52:04.883Z"
   },
   {
    "duration": 164,
    "start_time": "2022-08-18T18:52:05.040Z"
   },
   {
    "duration": 170,
    "start_time": "2022-08-18T18:52:05.205Z"
   },
   {
    "duration": 129,
    "start_time": "2022-08-18T18:52:05.377Z"
   },
   {
    "duration": 152,
    "start_time": "2022-08-18T18:52:05.508Z"
   },
   {
    "duration": 154,
    "start_time": "2022-08-18T18:52:05.662Z"
   },
   {
    "duration": 140,
    "start_time": "2022-08-18T18:52:05.818Z"
   },
   {
    "duration": 150,
    "start_time": "2022-08-18T18:52:05.959Z"
   },
   {
    "duration": 136,
    "start_time": "2022-08-18T18:52:06.111Z"
   },
   {
    "duration": 133,
    "start_time": "2022-08-18T18:52:06.249Z"
   },
   {
    "duration": 191,
    "start_time": "2022-08-18T18:52:06.384Z"
   },
   {
    "duration": 175,
    "start_time": "2022-08-18T18:52:06.577Z"
   },
   {
    "duration": 5,
    "start_time": "2022-08-18T18:52:06.754Z"
   },
   {
    "duration": 14,
    "start_time": "2022-08-18T18:52:06.760Z"
   },
   {
    "duration": 8,
    "start_time": "2022-08-18T18:52:06.775Z"
   },
   {
    "duration": 179,
    "start_time": "2022-08-18T18:52:06.784Z"
   },
   {
    "duration": 5,
    "start_time": "2022-08-18T18:52:06.965Z"
   },
   {
    "duration": 216,
    "start_time": "2022-08-18T18:52:06.972Z"
   },
   {
    "duration": 11,
    "start_time": "2022-08-18T18:52:07.190Z"
   },
   {
    "duration": 315,
    "start_time": "2022-08-18T18:52:07.202Z"
   },
   {
    "duration": 5,
    "start_time": "2022-08-18T18:52:07.518Z"
   },
   {
    "duration": 181,
    "start_time": "2022-08-18T18:52:07.524Z"
   },
   {
    "duration": 5,
    "start_time": "2022-08-18T18:52:07.706Z"
   },
   {
    "duration": 159,
    "start_time": "2022-08-18T18:52:07.712Z"
   },
   {
    "duration": 128,
    "start_time": "2022-08-18T18:52:07.872Z"
   },
   {
    "duration": 130,
    "start_time": "2022-08-18T18:52:08.001Z"
   },
   {
    "duration": 157,
    "start_time": "2022-08-18T18:52:08.132Z"
   },
   {
    "duration": 147,
    "start_time": "2022-08-18T18:52:08.291Z"
   },
   {
    "duration": 141,
    "start_time": "2022-08-18T18:52:08.440Z"
   },
   {
    "duration": 130,
    "start_time": "2022-08-18T18:52:08.582Z"
   },
   {
    "duration": 16,
    "start_time": "2022-08-18T18:52:08.713Z"
   },
   {
    "duration": 161,
    "start_time": "2022-08-18T18:52:08.730Z"
   },
   {
    "duration": 45,
    "start_time": "2022-08-18T18:52:08.892Z"
   },
   {
    "duration": 18,
    "start_time": "2022-08-18T18:52:08.939Z"
   },
   {
    "duration": 144,
    "start_time": "2022-08-18T18:52:08.959Z"
   },
   {
    "duration": 5,
    "start_time": "2022-08-18T18:52:09.105Z"
   },
   {
    "duration": 212,
    "start_time": "2022-08-18T18:55:01.664Z"
   },
   {
    "duration": 229,
    "start_time": "2022-08-18T18:55:39.289Z"
   },
   {
    "duration": 242,
    "start_time": "2022-08-18T18:55:45.411Z"
   },
   {
    "duration": 361,
    "start_time": "2022-08-18T18:55:53.646Z"
   }
  ],
  "kernelspec": {
   "display_name": "Python 3 (ipykernel)",
   "language": "python",
   "name": "python3"
  },
  "language_info": {
   "codemirror_mode": {
    "name": "ipython",
    "version": 3
   },
   "file_extension": ".py",
   "mimetype": "text/x-python",
   "name": "python",
   "nbconvert_exporter": "python",
   "pygments_lexer": "ipython3",
   "version": "3.9.7"
  },
  "toc": {
   "base_numbering": 1,
   "nav_menu": {},
   "number_sections": true,
   "sideBar": true,
   "skip_h1_title": true,
   "title_cell": "Table of Contents",
   "title_sidebar": "Contents",
   "toc_cell": false,
   "toc_position": {},
   "toc_section_display": true,
   "toc_window_display": true
  }
 },
 "nbformat": 4,
 "nbformat_minor": 2
}
