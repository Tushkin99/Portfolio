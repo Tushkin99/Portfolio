{
 "cells": [
  {
   "cell_type": "markdown",
   "id": "c81daeeb",
   "metadata": {
    "deletable": false,
    "id": "c81daeeb"
   },
   "source": [
    "# Исследование надежности заемщиков\n"
   ]
  },
  {
   "cell_type": "markdown",
   "id": "827c20bf",
   "metadata": {
    "id": "827c20bf"
   },
   "source": [
    "**Описание проекта и задачи:** заказчик — кредитный отдел банка. Нужно разобраться, влияет ли семейное положение и количество детей клиента на факт погашения кредита в срок. Входные данные от банка — статистика о платёжеспособности клиентов.\n",
    "Результаты исследования будут учтены при построении модели кредитного скоринга — специальной системы, которая оценивает способность потенциального заёмщика вернуть кредит банку.\n",
    "\n",
    "**Описание данных:**\n",
    "- children — количество детей в семье\n",
    "- days_employed — общий трудовой стаж в днях\n",
    "- dob_years — возраст клиента в годах\n",
    "- education — уровень образования клиента\n",
    "- education_id — идентификатор уровня образования\n",
    "- family_status — семейное положение\n",
    "- family_status_id — идентификатор семейного положения\n",
    "- gender — пол клиента\n",
    "- income_type — тип занятости\n",
    "- debt — имел ли задолженность по возврату кредитов\n",
    "- total_income — ежемесячный доход\n",
    "- purpose — цель получения кредита\n"
   ]
  },
  {
   "cell_type": "markdown",
   "id": "744d7639",
   "metadata": {
    "deletable": false,
    "id": "744d7639"
   },
   "source": [
    "## Загрузка данных"
   ]
  },
  {
   "cell_type": "markdown",
   "id": "e7a14c31",
   "metadata": {
    "deletable": false,
    "id": "e7a14c31"
   },
   "source": [
    "Импортируем библиотеку пандас и загрузим данные"
   ]
  },
  {
   "cell_type": "code",
   "execution_count": 1,
   "id": "7bcf75c9",
   "metadata": {
    "deletable": false,
    "id": "7bcf75c9"
   },
   "outputs": [],
   "source": [
    "import pandas as pd\n",
    "data = pd.read_csv('/.../data.csv')"
   ]
  },
  {
   "cell_type": "markdown",
   "id": "b8038fe3",
   "metadata": {
    "deletable": false,
    "id": "b8038fe3"
   },
   "source": [
    "Выведем первые 20 строчек данных на экран."
   ]
  },
  {
   "cell_type": "code",
   "execution_count": 2,
   "id": "2a7cab99",
   "metadata": {
    "deletable": false,
    "id": "2a7cab99",
    "outputId": "1a8f3ef2-d323-4ec2-ddf7-89670b5944c4"
   },
   "outputs": [
    {
     "data": {
      "text/html": [
       "<div>\n",
       "<style scoped>\n",
       "    .dataframe tbody tr th:only-of-type {\n",
       "        vertical-align: middle;\n",
       "    }\n",
       "\n",
       "    .dataframe tbody tr th {\n",
       "        vertical-align: top;\n",
       "    }\n",
       "\n",
       "    .dataframe thead th {\n",
       "        text-align: right;\n",
       "    }\n",
       "</style>\n",
       "<table border=\"1\" class=\"dataframe\">\n",
       "  <thead>\n",
       "    <tr style=\"text-align: right;\">\n",
       "      <th></th>\n",
       "      <th>children</th>\n",
       "      <th>days_employed</th>\n",
       "      <th>dob_years</th>\n",
       "      <th>education</th>\n",
       "      <th>education_id</th>\n",
       "      <th>family_status</th>\n",
       "      <th>family_status_id</th>\n",
       "      <th>gender</th>\n",
       "      <th>income_type</th>\n",
       "      <th>debt</th>\n",
       "      <th>total_income</th>\n",
       "      <th>purpose</th>\n",
       "    </tr>\n",
       "  </thead>\n",
       "  <tbody>\n",
       "    <tr>\n",
       "      <th>0</th>\n",
       "      <td>1</td>\n",
       "      <td>-8437.673028</td>\n",
       "      <td>42</td>\n",
       "      <td>высшее</td>\n",
       "      <td>0</td>\n",
       "      <td>женат / замужем</td>\n",
       "      <td>0</td>\n",
       "      <td>F</td>\n",
       "      <td>сотрудник</td>\n",
       "      <td>0</td>\n",
       "      <td>253875.639453</td>\n",
       "      <td>покупка жилья</td>\n",
       "    </tr>\n",
       "    <tr>\n",
       "      <th>1</th>\n",
       "      <td>1</td>\n",
       "      <td>-4024.803754</td>\n",
       "      <td>36</td>\n",
       "      <td>среднее</td>\n",
       "      <td>1</td>\n",
       "      <td>женат / замужем</td>\n",
       "      <td>0</td>\n",
       "      <td>F</td>\n",
       "      <td>сотрудник</td>\n",
       "      <td>0</td>\n",
       "      <td>112080.014102</td>\n",
       "      <td>приобретение автомобиля</td>\n",
       "    </tr>\n",
       "    <tr>\n",
       "      <th>2</th>\n",
       "      <td>0</td>\n",
       "      <td>-5623.422610</td>\n",
       "      <td>33</td>\n",
       "      <td>Среднее</td>\n",
       "      <td>1</td>\n",
       "      <td>женат / замужем</td>\n",
       "      <td>0</td>\n",
       "      <td>M</td>\n",
       "      <td>сотрудник</td>\n",
       "      <td>0</td>\n",
       "      <td>145885.952297</td>\n",
       "      <td>покупка жилья</td>\n",
       "    </tr>\n",
       "    <tr>\n",
       "      <th>3</th>\n",
       "      <td>3</td>\n",
       "      <td>-4124.747207</td>\n",
       "      <td>32</td>\n",
       "      <td>среднее</td>\n",
       "      <td>1</td>\n",
       "      <td>женат / замужем</td>\n",
       "      <td>0</td>\n",
       "      <td>M</td>\n",
       "      <td>сотрудник</td>\n",
       "      <td>0</td>\n",
       "      <td>267628.550329</td>\n",
       "      <td>дополнительное образование</td>\n",
       "    </tr>\n",
       "    <tr>\n",
       "      <th>4</th>\n",
       "      <td>0</td>\n",
       "      <td>340266.072047</td>\n",
       "      <td>53</td>\n",
       "      <td>среднее</td>\n",
       "      <td>1</td>\n",
       "      <td>гражданский брак</td>\n",
       "      <td>1</td>\n",
       "      <td>F</td>\n",
       "      <td>пенсионер</td>\n",
       "      <td>0</td>\n",
       "      <td>158616.077870</td>\n",
       "      <td>сыграть свадьбу</td>\n",
       "    </tr>\n",
       "    <tr>\n",
       "      <th>5</th>\n",
       "      <td>0</td>\n",
       "      <td>-926.185831</td>\n",
       "      <td>27</td>\n",
       "      <td>высшее</td>\n",
       "      <td>0</td>\n",
       "      <td>гражданский брак</td>\n",
       "      <td>1</td>\n",
       "      <td>M</td>\n",
       "      <td>компаньон</td>\n",
       "      <td>0</td>\n",
       "      <td>255763.565419</td>\n",
       "      <td>покупка жилья</td>\n",
       "    </tr>\n",
       "    <tr>\n",
       "      <th>6</th>\n",
       "      <td>0</td>\n",
       "      <td>-2879.202052</td>\n",
       "      <td>43</td>\n",
       "      <td>высшее</td>\n",
       "      <td>0</td>\n",
       "      <td>женат / замужем</td>\n",
       "      <td>0</td>\n",
       "      <td>F</td>\n",
       "      <td>компаньон</td>\n",
       "      <td>0</td>\n",
       "      <td>240525.971920</td>\n",
       "      <td>операции с жильем</td>\n",
       "    </tr>\n",
       "    <tr>\n",
       "      <th>7</th>\n",
       "      <td>0</td>\n",
       "      <td>-152.779569</td>\n",
       "      <td>50</td>\n",
       "      <td>СРЕДНЕЕ</td>\n",
       "      <td>1</td>\n",
       "      <td>женат / замужем</td>\n",
       "      <td>0</td>\n",
       "      <td>M</td>\n",
       "      <td>сотрудник</td>\n",
       "      <td>0</td>\n",
       "      <td>135823.934197</td>\n",
       "      <td>образование</td>\n",
       "    </tr>\n",
       "    <tr>\n",
       "      <th>8</th>\n",
       "      <td>2</td>\n",
       "      <td>-6929.865299</td>\n",
       "      <td>35</td>\n",
       "      <td>ВЫСШЕЕ</td>\n",
       "      <td>0</td>\n",
       "      <td>гражданский брак</td>\n",
       "      <td>1</td>\n",
       "      <td>F</td>\n",
       "      <td>сотрудник</td>\n",
       "      <td>0</td>\n",
       "      <td>95856.832424</td>\n",
       "      <td>на проведение свадьбы</td>\n",
       "    </tr>\n",
       "    <tr>\n",
       "      <th>9</th>\n",
       "      <td>0</td>\n",
       "      <td>-2188.756445</td>\n",
       "      <td>41</td>\n",
       "      <td>среднее</td>\n",
       "      <td>1</td>\n",
       "      <td>женат / замужем</td>\n",
       "      <td>0</td>\n",
       "      <td>M</td>\n",
       "      <td>сотрудник</td>\n",
       "      <td>0</td>\n",
       "      <td>144425.938277</td>\n",
       "      <td>покупка жилья для семьи</td>\n",
       "    </tr>\n",
       "    <tr>\n",
       "      <th>10</th>\n",
       "      <td>2</td>\n",
       "      <td>-4171.483647</td>\n",
       "      <td>36</td>\n",
       "      <td>высшее</td>\n",
       "      <td>0</td>\n",
       "      <td>женат / замужем</td>\n",
       "      <td>0</td>\n",
       "      <td>M</td>\n",
       "      <td>компаньон</td>\n",
       "      <td>0</td>\n",
       "      <td>113943.491460</td>\n",
       "      <td>покупка недвижимости</td>\n",
       "    </tr>\n",
       "    <tr>\n",
       "      <th>11</th>\n",
       "      <td>0</td>\n",
       "      <td>-792.701887</td>\n",
       "      <td>40</td>\n",
       "      <td>среднее</td>\n",
       "      <td>1</td>\n",
       "      <td>женат / замужем</td>\n",
       "      <td>0</td>\n",
       "      <td>F</td>\n",
       "      <td>сотрудник</td>\n",
       "      <td>0</td>\n",
       "      <td>77069.234271</td>\n",
       "      <td>покупка коммерческой недвижимости</td>\n",
       "    </tr>\n",
       "    <tr>\n",
       "      <th>12</th>\n",
       "      <td>0</td>\n",
       "      <td>NaN</td>\n",
       "      <td>65</td>\n",
       "      <td>среднее</td>\n",
       "      <td>1</td>\n",
       "      <td>гражданский брак</td>\n",
       "      <td>1</td>\n",
       "      <td>M</td>\n",
       "      <td>пенсионер</td>\n",
       "      <td>0</td>\n",
       "      <td>NaN</td>\n",
       "      <td>сыграть свадьбу</td>\n",
       "    </tr>\n",
       "    <tr>\n",
       "      <th>13</th>\n",
       "      <td>0</td>\n",
       "      <td>-1846.641941</td>\n",
       "      <td>54</td>\n",
       "      <td>неоконченное высшее</td>\n",
       "      <td>2</td>\n",
       "      <td>женат / замужем</td>\n",
       "      <td>0</td>\n",
       "      <td>F</td>\n",
       "      <td>сотрудник</td>\n",
       "      <td>0</td>\n",
       "      <td>130458.228857</td>\n",
       "      <td>приобретение автомобиля</td>\n",
       "    </tr>\n",
       "    <tr>\n",
       "      <th>14</th>\n",
       "      <td>0</td>\n",
       "      <td>-1844.956182</td>\n",
       "      <td>56</td>\n",
       "      <td>высшее</td>\n",
       "      <td>0</td>\n",
       "      <td>гражданский брак</td>\n",
       "      <td>1</td>\n",
       "      <td>F</td>\n",
       "      <td>компаньон</td>\n",
       "      <td>1</td>\n",
       "      <td>165127.911772</td>\n",
       "      <td>покупка жилой недвижимости</td>\n",
       "    </tr>\n",
       "    <tr>\n",
       "      <th>15</th>\n",
       "      <td>1</td>\n",
       "      <td>-972.364419</td>\n",
       "      <td>26</td>\n",
       "      <td>среднее</td>\n",
       "      <td>1</td>\n",
       "      <td>женат / замужем</td>\n",
       "      <td>0</td>\n",
       "      <td>F</td>\n",
       "      <td>сотрудник</td>\n",
       "      <td>0</td>\n",
       "      <td>116820.904450</td>\n",
       "      <td>строительство собственной недвижимости</td>\n",
       "    </tr>\n",
       "    <tr>\n",
       "      <th>16</th>\n",
       "      <td>0</td>\n",
       "      <td>-1719.934226</td>\n",
       "      <td>35</td>\n",
       "      <td>среднее</td>\n",
       "      <td>1</td>\n",
       "      <td>женат / замужем</td>\n",
       "      <td>0</td>\n",
       "      <td>F</td>\n",
       "      <td>сотрудник</td>\n",
       "      <td>0</td>\n",
       "      <td>289202.704229</td>\n",
       "      <td>недвижимость</td>\n",
       "    </tr>\n",
       "    <tr>\n",
       "      <th>17</th>\n",
       "      <td>0</td>\n",
       "      <td>-2369.999720</td>\n",
       "      <td>33</td>\n",
       "      <td>высшее</td>\n",
       "      <td>0</td>\n",
       "      <td>гражданский брак</td>\n",
       "      <td>1</td>\n",
       "      <td>M</td>\n",
       "      <td>сотрудник</td>\n",
       "      <td>0</td>\n",
       "      <td>90410.586745</td>\n",
       "      <td>строительство недвижимости</td>\n",
       "    </tr>\n",
       "    <tr>\n",
       "      <th>18</th>\n",
       "      <td>0</td>\n",
       "      <td>400281.136913</td>\n",
       "      <td>53</td>\n",
       "      <td>среднее</td>\n",
       "      <td>1</td>\n",
       "      <td>вдовец / вдова</td>\n",
       "      <td>2</td>\n",
       "      <td>F</td>\n",
       "      <td>пенсионер</td>\n",
       "      <td>0</td>\n",
       "      <td>56823.777243</td>\n",
       "      <td>на покупку подержанного автомобиля</td>\n",
       "    </tr>\n",
       "    <tr>\n",
       "      <th>19</th>\n",
       "      <td>0</td>\n",
       "      <td>-10038.818549</td>\n",
       "      <td>48</td>\n",
       "      <td>СРЕДНЕЕ</td>\n",
       "      <td>1</td>\n",
       "      <td>в разводе</td>\n",
       "      <td>3</td>\n",
       "      <td>F</td>\n",
       "      <td>сотрудник</td>\n",
       "      <td>0</td>\n",
       "      <td>242831.107982</td>\n",
       "      <td>на покупку своего автомобиля</td>\n",
       "    </tr>\n",
       "  </tbody>\n",
       "</table>\n",
       "</div>"
      ],
      "text/plain": [
       "    children  days_employed  dob_years            education  education_id  \\\n",
       "0          1   -8437.673028         42               высшее             0   \n",
       "1          1   -4024.803754         36              среднее             1   \n",
       "2          0   -5623.422610         33              Среднее             1   \n",
       "3          3   -4124.747207         32              среднее             1   \n",
       "4          0  340266.072047         53              среднее             1   \n",
       "5          0    -926.185831         27               высшее             0   \n",
       "6          0   -2879.202052         43               высшее             0   \n",
       "7          0    -152.779569         50              СРЕДНЕЕ             1   \n",
       "8          2   -6929.865299         35               ВЫСШЕЕ             0   \n",
       "9          0   -2188.756445         41              среднее             1   \n",
       "10         2   -4171.483647         36               высшее             0   \n",
       "11         0    -792.701887         40              среднее             1   \n",
       "12         0            NaN         65              среднее             1   \n",
       "13         0   -1846.641941         54  неоконченное высшее             2   \n",
       "14         0   -1844.956182         56               высшее             0   \n",
       "15         1    -972.364419         26              среднее             1   \n",
       "16         0   -1719.934226         35              среднее             1   \n",
       "17         0   -2369.999720         33               высшее             0   \n",
       "18         0  400281.136913         53              среднее             1   \n",
       "19         0  -10038.818549         48              СРЕДНЕЕ             1   \n",
       "\n",
       "       family_status  family_status_id gender income_type  debt  \\\n",
       "0    женат / замужем                 0      F   сотрудник     0   \n",
       "1    женат / замужем                 0      F   сотрудник     0   \n",
       "2    женат / замужем                 0      M   сотрудник     0   \n",
       "3    женат / замужем                 0      M   сотрудник     0   \n",
       "4   гражданский брак                 1      F   пенсионер     0   \n",
       "5   гражданский брак                 1      M   компаньон     0   \n",
       "6    женат / замужем                 0      F   компаньон     0   \n",
       "7    женат / замужем                 0      M   сотрудник     0   \n",
       "8   гражданский брак                 1      F   сотрудник     0   \n",
       "9    женат / замужем                 0      M   сотрудник     0   \n",
       "10   женат / замужем                 0      M   компаньон     0   \n",
       "11   женат / замужем                 0      F   сотрудник     0   \n",
       "12  гражданский брак                 1      M   пенсионер     0   \n",
       "13   женат / замужем                 0      F   сотрудник     0   \n",
       "14  гражданский брак                 1      F   компаньон     1   \n",
       "15   женат / замужем                 0      F   сотрудник     0   \n",
       "16   женат / замужем                 0      F   сотрудник     0   \n",
       "17  гражданский брак                 1      M   сотрудник     0   \n",
       "18    вдовец / вдова                 2      F   пенсионер     0   \n",
       "19         в разводе                 3      F   сотрудник     0   \n",
       "\n",
       "     total_income                                 purpose  \n",
       "0   253875.639453                           покупка жилья  \n",
       "1   112080.014102                 приобретение автомобиля  \n",
       "2   145885.952297                           покупка жилья  \n",
       "3   267628.550329              дополнительное образование  \n",
       "4   158616.077870                         сыграть свадьбу  \n",
       "5   255763.565419                           покупка жилья  \n",
       "6   240525.971920                       операции с жильем  \n",
       "7   135823.934197                             образование  \n",
       "8    95856.832424                   на проведение свадьбы  \n",
       "9   144425.938277                 покупка жилья для семьи  \n",
       "10  113943.491460                    покупка недвижимости  \n",
       "11   77069.234271       покупка коммерческой недвижимости  \n",
       "12            NaN                         сыграть свадьбу  \n",
       "13  130458.228857                 приобретение автомобиля  \n",
       "14  165127.911772              покупка жилой недвижимости  \n",
       "15  116820.904450  строительство собственной недвижимости  \n",
       "16  289202.704229                            недвижимость  \n",
       "17   90410.586745              строительство недвижимости  \n",
       "18   56823.777243      на покупку подержанного автомобиля  \n",
       "19  242831.107982            на покупку своего автомобиля  "
      ]
     },
     "execution_count": 2,
     "metadata": {},
     "output_type": "execute_result"
    }
   ],
   "source": [
    "data.head(20)"
   ]
  },
  {
   "cell_type": "markdown",
   "id": "1c12e233",
   "metadata": {
    "deletable": false,
    "id": "1c12e233"
   },
   "source": [
    " Выведем основную информацию о данных."
   ]
  },
  {
   "cell_type": "code",
   "execution_count": 3,
   "id": "2b757bca",
   "metadata": {
    "deletable": false,
    "id": "2b757bca",
    "outputId": "15376089-8dad-46c9-b520-c05248d43158"
   },
   "outputs": [
    {
     "name": "stdout",
     "output_type": "stream",
     "text": [
      "<class 'pandas.core.frame.DataFrame'>\n",
      "RangeIndex: 21525 entries, 0 to 21524\n",
      "Data columns (total 12 columns):\n",
      " #   Column            Non-Null Count  Dtype  \n",
      "---  ------            --------------  -----  \n",
      " 0   children          21525 non-null  int64  \n",
      " 1   days_employed     19351 non-null  float64\n",
      " 2   dob_years         21525 non-null  int64  \n",
      " 3   education         21525 non-null  object \n",
      " 4   education_id      21525 non-null  int64  \n",
      " 5   family_status     21525 non-null  object \n",
      " 6   family_status_id  21525 non-null  int64  \n",
      " 7   gender            21525 non-null  object \n",
      " 8   income_type       21525 non-null  object \n",
      " 9   debt              21525 non-null  int64  \n",
      " 10  total_income      19351 non-null  float64\n",
      " 11  purpose           21525 non-null  object \n",
      "dtypes: float64(2), int64(5), object(5)\n",
      "memory usage: 2.0+ MB\n"
     ]
    }
   ],
   "source": [
    "data.info()"
   ]
  },
  {
   "cell_type": "markdown",
   "id": "333ec665",
   "metadata": {
    "deletable": false,
    "id": "333ec665"
   },
   "source": [
    "## Предобработка данных"
   ]
  },
  {
   "cell_type": "markdown",
   "id": "02d92d53",
   "metadata": {
    "deletable": false,
    "id": "02d92d53"
   },
   "source": [
    "### Удаление пропусков"
   ]
  },
  {
   "cell_type": "markdown",
   "id": "cd84967c",
   "metadata": {
    "deletable": false,
    "id": "cd84967c"
   },
   "source": [
    "Выведем количество пропущенных значений для каждого столбца."
   ]
  },
  {
   "cell_type": "code",
   "execution_count": 4,
   "id": "7f9b2309",
   "metadata": {
    "deletable": false,
    "id": "7f9b2309",
    "outputId": "81f4d817-781c-465c-ed15-91ce4446810d"
   },
   "outputs": [
    {
     "data": {
      "text/plain": [
       "children               0\n",
       "days_employed       2174\n",
       "dob_years              0\n",
       "education              0\n",
       "education_id           0\n",
       "family_status          0\n",
       "family_status_id       0\n",
       "gender                 0\n",
       "income_type            0\n",
       "debt                   0\n",
       "total_income        2174\n",
       "purpose                0\n",
       "dtype: int64"
      ]
     },
     "execution_count": 4,
     "metadata": {},
     "output_type": "execute_result"
    }
   ],
   "source": [
    "data.isna().sum()"
   ]
  },
  {
   "cell_type": "markdown",
   "id": "db86e27b",
   "metadata": {
    "deletable": false,
    "id": "db86e27b"
   },
   "source": [
    "В двух столбцах есть пропущенные значения. Один из них — days_employed. Пропуски в этом столбце мы обработаем чуть позже. Другой столбец с пропущенными значениями — total_income — хранит данные о доходах. На сумму дохода сильнее всего влияет тип занятости, поэтому заполнить пропуски в этом столбце лучше медианным значением по каждому типу из столбца income_type."
   ]
  },
  {
   "cell_type": "code",
   "execution_count": 5,
   "id": "42006a93",
   "metadata": {
    "deletable": false,
    "id": "42006a93"
   },
   "outputs": [],
   "source": [
    "for t in data['income_type'].unique():\n",
    "    data.loc[(data['income_type'] == t) & (data['total_income'].isna()), 'total_income'] = \\\n",
    "    data.loc[(data['income_type'] == t), 'total_income'].median()"
   ]
  },
  {
   "cell_type": "markdown",
   "id": "89da5ece",
   "metadata": {
    "deletable": false,
    "id": "89da5ece"
   },
   "source": [
    "### Обработка аномальных значений"
   ]
  },
  {
   "cell_type": "markdown",
   "id": "57964554",
   "metadata": {
    "deletable": false,
    "id": "57964554"
   },
   "source": [
    "В данных могут встречаться артефакты (аномалии) — значения, которые не отражают действительность и появились по какой-то ошибке. Таким артефактом будет отрицательное количество дней трудового стажа в столбце `days_employed`. Обработаем значения в этом столбце: заменим все отрицательные значения положительными."
   ]
  },
  {
   "cell_type": "code",
   "execution_count": 6,
   "id": "f6f055bf",
   "metadata": {
    "deletable": false,
    "id": "f6f055bf"
   },
   "outputs": [],
   "source": [
    "data['days_employed'] = data['days_employed'].abs()"
   ]
  },
  {
   "cell_type": "markdown",
   "id": "6107dd2f",
   "metadata": {
    "deletable": false,
    "id": "6107dd2f"
   },
   "source": [
    "Для каждого типа занятости выведим медианное значение трудового стажа `days_employed` в днях."
   ]
  },
  {
   "cell_type": "code",
   "execution_count": 7,
   "id": "85a5faf6",
   "metadata": {
    "deletable": false,
    "id": "85a5faf6",
    "outputId": "801ef80e-522b-4668-f34e-565af7432bcf"
   },
   "outputs": [
    {
     "data": {
      "text/plain": [
       "income_type\n",
       "безработный        366413.652744\n",
       "в декрете            3296.759962\n",
       "госслужащий          2689.368353\n",
       "компаньон            1547.382223\n",
       "пенсионер          365213.306266\n",
       "предприниматель       520.848083\n",
       "сотрудник            1574.202821\n",
       "студент               578.751554\n",
       "Name: days_employed, dtype: float64"
      ]
     },
     "execution_count": 7,
     "metadata": {},
     "output_type": "execute_result"
    }
   ],
   "source": [
    "data.groupby('income_type')['days_employed'].agg('median')"
   ]
  },
  {
   "cell_type": "markdown",
   "id": "38d1a030",
   "metadata": {
    "deletable": false,
    "id": "38d1a030"
   },
   "source": [
    "У двух типов (безработные и пенсионеры) получились аномально большие значения. Исправить такие значения сложно, поэтому оставим их как есть. Тем более этот столбец не понадобится для исследования."
   ]
  },
  {
   "cell_type": "markdown",
   "id": "d8a9f147",
   "metadata": {
    "deletable": false,
    "id": "d8a9f147"
   },
   "source": [
    "Выведем перечень уникальных значений столбца `children`."
   ]
  },
  {
   "cell_type": "code",
   "execution_count": 8,
   "id": "ef5056eb",
   "metadata": {
    "deletable": false,
    "id": "ef5056eb",
    "outputId": "6975b15c-7f95-4697-d16d-a0c79b657b03"
   },
   "outputs": [
    {
     "data": {
      "text/plain": [
       "array([ 1,  0,  3,  2, -1,  4, 20,  5])"
      ]
     },
     "execution_count": 8,
     "metadata": {},
     "output_type": "execute_result"
    }
   ],
   "source": [
    "data['children'].unique()"
   ]
  },
  {
   "cell_type": "markdown",
   "id": "40b9ebf2",
   "metadata": {
    "deletable": false,
    "id": "40b9ebf2"
   },
   "source": [
    "В столбце `children` есть два аномальных значения. Удалим строки, в которых встречаются такие аномальные значения из датафрейма `data`."
   ]
  },
  {
   "cell_type": "code",
   "execution_count": 9,
   "id": "3ff9801d",
   "metadata": {
    "deletable": false,
    "id": "3ff9801d"
   },
   "outputs": [],
   "source": [
    "data = data[(data['children'] != -1) & (data['children'] != 20)]"
   ]
  },
  {
   "cell_type": "markdown",
   "id": "bbc4d0ce",
   "metadata": {
    "deletable": false,
    "id": "bbc4d0ce"
   },
   "source": [
    "Ещё раз выведем перечень уникальных значений столбца `children`, чтобы убедиться, что артефакты удалены."
   ]
  },
  {
   "cell_type": "code",
   "execution_count": 10,
   "id": "ad4fa8b7",
   "metadata": {
    "deletable": false,
    "id": "ad4fa8b7",
    "outputId": "b2097101-d49d-44d9-901b-32a65c9463d1"
   },
   "outputs": [
    {
     "data": {
      "text/plain": [
       "array([1, 0, 3, 2, 4, 5])"
      ]
     },
     "execution_count": 10,
     "metadata": {},
     "output_type": "execute_result"
    }
   ],
   "source": [
    "data['children'].unique()"
   ]
  },
  {
   "cell_type": "markdown",
   "id": "f4ea573f",
   "metadata": {
    "deletable": false,
    "id": "f4ea573f"
   },
   "source": [
    "Заполним пропуски в столбце `days_employed` медианными значениями по каждому типу занятости `income_type`."
   ]
  },
  {
   "cell_type": "code",
   "execution_count": 11,
   "id": "af6b1a7e",
   "metadata": {
    "deletable": false,
    "id": "af6b1a7e"
   },
   "outputs": [],
   "source": [
    "for t in data['income_type'].unique():\n",
    "    data.loc[(data['income_type'] == t) & (data['days_employed'].isna()), 'days_employed'] = \\\n",
    "    data.loc[(data['income_type'] == t), 'days_employed'].median()"
   ]
  },
  {
   "cell_type": "markdown",
   "id": "2753f40d",
   "metadata": {
    "deletable": false,
    "id": "2753f40d"
   },
   "source": [
    "Убедимся, что все пропуски заполнены."
   ]
  },
  {
   "cell_type": "code",
   "execution_count": 12,
   "id": "55f78bc2",
   "metadata": {
    "deletable": false,
    "id": "55f78bc2",
    "outputId": "8da1e4e1-358e-4e87-98c9-f261bce0a7b2"
   },
   "outputs": [
    {
     "data": {
      "text/plain": [
       "children            0\n",
       "days_employed       0\n",
       "dob_years           0\n",
       "education           0\n",
       "education_id        0\n",
       "family_status       0\n",
       "family_status_id    0\n",
       "gender              0\n",
       "income_type         0\n",
       "debt                0\n",
       "total_income        0\n",
       "purpose             0\n",
       "dtype: int64"
      ]
     },
     "execution_count": 12,
     "metadata": {},
     "output_type": "execute_result"
    }
   ],
   "source": [
    "data.isna().sum()"
   ]
  },
  {
   "cell_type": "markdown",
   "id": "ddc81e43",
   "metadata": {
    "deletable": false,
    "id": "ddc81e43"
   },
   "source": [
    "### Изменение типов данных"
   ]
  },
  {
   "cell_type": "markdown",
   "id": "42d19d24",
   "metadata": {
    "deletable": false,
    "id": "42d19d24"
   },
   "source": [
    "Заменим вещественный тип данных в столбце total_income на целочисленный с помощью метода astype()."
   ]
  },
  {
   "cell_type": "code",
   "execution_count": 13,
   "id": "920b65ad",
   "metadata": {
    "deletable": false,
    "id": "920b65ad"
   },
   "outputs": [],
   "source": [
    "data['total_income'] = data['total_income'].astype(int)"
   ]
  },
  {
   "cell_type": "markdown",
   "id": "80c420ba",
   "metadata": {
    "deletable": false,
    "id": "80c420ba"
   },
   "source": [
    "### Обработка дубликатов"
   ]
  },
  {
   "cell_type": "markdown",
   "id": "dc587695",
   "metadata": {
    "deletable": false,
    "id": "dc587695"
   },
   "source": [
    "Выведем на экран количество строк-дубликатов в данных."
   ]
  },
  {
   "cell_type": "code",
   "execution_count": 14,
   "id": "3ee445e4",
   "metadata": {
    "deletable": false,
    "id": "3ee445e4",
    "outputId": "9684deba-1934-42d1-99e1-cda61740f822"
   },
   "outputs": [
    {
     "data": {
      "text/plain": [
       "54"
      ]
     },
     "execution_count": 14,
     "metadata": {},
     "output_type": "execute_result"
    }
   ],
   "source": [
    "data.duplicated().sum()"
   ]
  },
  {
   "cell_type": "code",
   "execution_count": 15,
   "id": "8575fe05",
   "metadata": {
    "deletable": false,
    "id": "8575fe05"
   },
   "outputs": [],
   "source": [
    "# удалим дубликаты\n",
    "data = data.drop_duplicates()"
   ]
  },
  {
   "cell_type": "markdown",
   "id": "9771a76c",
   "metadata": {
    "deletable": false,
    "id": "9771a76c"
   },
   "source": [
    "Обработаем неявные дубликаты в столбце `education`. В этом столбце есть одни и те же значения, но записанные по-разному: с использованием заглавных и строчных букв. Приведем их к нижнему регистру."
   ]
  },
  {
   "cell_type": "code",
   "execution_count": 16,
   "id": "a9f8e2bf",
   "metadata": {
    "deletable": false,
    "id": "a9f8e2bf"
   },
   "outputs": [],
   "source": [
    "data['education'] = data['education'].str.lower()"
   ]
  },
  {
   "cell_type": "markdown",
   "id": "9904cf55",
   "metadata": {
    "deletable": false,
    "id": "9904cf55"
   },
   "source": [
    "### Категоризация данных"
   ]
  },
  {
   "cell_type": "markdown",
   "id": "72fcc8a2",
   "metadata": {
    "deletable": false,
    "id": "72fcc8a2"
   },
   "source": [
    "Категорезируем заемщиков в зависимости от их доходов, на основании следующих диапазонов:\n",
    "- 0–30000 — `'E'`;\n",
    "- 30001–50000 — `'D'`;\n",
    "- 50001–200000 — `'C'`;\n",
    "- 200001–1000000 — `'B'`;\n",
    "- 1000001 и выше — `'A'`."
   ]
  },
  {
   "cell_type": "code",
   "execution_count": 17,
   "id": "e1771346",
   "metadata": {
    "deletable": false,
    "id": "e1771346"
   },
   "outputs": [],
   "source": [
    "# создаем функцию categorize_income()\n",
    "def categorize_income(income):\n",
    "    try:\n",
    "        if 0 <= income <= 30000:\n",
    "            return 'E'\n",
    "        elif 30001 <= income <= 50000:\n",
    "            return 'D'\n",
    "        elif 50001 <= income <= 200000:\n",
    "            return 'C'\n",
    "        \n",
    "        elif 200001 <= income <= 1000000:\n",
    "            return 'B'\n",
    "        elif income >= 1000001:\n",
    "            return 'A'\n",
    "    except:\n",
    "        pass"
   ]
  },
  {
   "cell_type": "code",
   "execution_count": 18,
   "id": "d5f3586d",
   "metadata": {
    "deletable": false,
    "id": "d5f3586d"
   },
   "outputs": [],
   "source": [
    "# применим функцию методом apply()\n",
    "data['total_income_category'] = data['total_income'].apply(categorize_income)"
   ]
  },
  {
   "cell_type": "markdown",
   "id": "dde49b5c",
   "metadata": {
    "deletable": false,
    "id": "dde49b5c"
   },
   "source": [
    "Выведем на экран перечень уникальных целей взятия кредита из столбца `purpose`."
   ]
  },
  {
   "cell_type": "code",
   "execution_count": 19,
   "id": "f67ce9b3",
   "metadata": {
    "deletable": false,
    "id": "f67ce9b3",
    "outputId": "673c12d9-7d7e-4ae0-9812-c622c89dd244"
   },
   "outputs": [
    {
     "data": {
      "text/plain": [
       "array(['покупка жилья', 'приобретение автомобиля',\n",
       "       'дополнительное образование', 'сыграть свадьбу',\n",
       "       'операции с жильем', 'образование', 'на проведение свадьбы',\n",
       "       'покупка жилья для семьи', 'покупка недвижимости',\n",
       "       'покупка коммерческой недвижимости', 'покупка жилой недвижимости',\n",
       "       'строительство собственной недвижимости', 'недвижимость',\n",
       "       'строительство недвижимости', 'на покупку подержанного автомобиля',\n",
       "       'на покупку своего автомобиля',\n",
       "       'операции с коммерческой недвижимостью',\n",
       "       'строительство жилой недвижимости', 'жилье',\n",
       "       'операции со своей недвижимостью', 'автомобили',\n",
       "       'заняться образованием', 'сделка с подержанным автомобилем',\n",
       "       'получение образования', 'автомобиль', 'свадьба',\n",
       "       'получение дополнительного образования', 'покупка своего жилья',\n",
       "       'операции с недвижимостью', 'получение высшего образования',\n",
       "       'свой автомобиль', 'сделка с автомобилем',\n",
       "       'профильное образование', 'высшее образование',\n",
       "       'покупка жилья для сдачи', 'на покупку автомобиля', 'ремонт жилью',\n",
       "       'заняться высшим образованием'], dtype=object)"
      ]
     },
     "execution_count": 19,
     "metadata": {},
     "output_type": "execute_result"
    }
   ],
   "source": [
    "data['purpose'].unique()"
   ]
  },
  {
   "cell_type": "markdown",
   "id": "85d0aef0",
   "metadata": {
    "deletable": false,
    "id": "85d0aef0"
   },
   "source": [
    "Создадим функцию, которая на основании данных из столбца `purpose` сформирует новый столбец `purpose_category`, в который войдут следующие категории:\n",
    "\n",
    "- `'операции с автомобилем'`,\n",
    "- `'операции с недвижимостью'`,\n",
    "- `'проведение свадьбы'`,\n",
    "- `'получение образования'`.\n",
    "\n",
    "Например, если в столбце `purpose` находится подстрока `'на покупку автомобиля'`, то в столбце `purpose_category` появится строка `'операции с автомобилем'`."
   ]
  },
  {
   "cell_type": "code",
   "execution_count": 20,
   "id": "e149fab4",
   "metadata": {
    "deletable": false,
    "id": "e149fab4"
   },
   "outputs": [],
   "source": [
    "# создадим функцию categorize_purpose()\n",
    "def categorize_purpose(row):\n",
    "    try:\n",
    "        if 'автом' in row:\n",
    "            return 'операции с автомобилем'\n",
    "        elif 'жил' in row or 'недвиж' in row:\n",
    "            return 'операции с недвижимостью'\n",
    "        elif 'свад' in row:\n",
    "            return 'проведение свадьбы'\n",
    "        elif 'образов' in row:\n",
    "            return 'получение образования'\n",
    "    except:\n",
    "        return 'нет категории'"
   ]
  },
  {
   "cell_type": "code",
   "execution_count": 21,
   "id": "bf36e69b",
   "metadata": {
    "deletable": false,
    "id": "bf36e69b"
   },
   "outputs": [],
   "source": [
    "# применим функцию методом apply()\n",
    "data['purpose_category'] = data['purpose'].apply(categorize_purpose)"
   ]
  },
  {
   "cell_type": "markdown",
   "id": "09b242bf",
   "metadata": {
    "deletable": false,
    "editable": false,
    "id": "09b242bf"
   },
   "source": [
    "## Исследуйте данные и ответьте на вопросы"
   ]
  },
  {
   "cell_type": "markdown",
   "id": "c5d66278",
   "metadata": {
    "id": "c5d66278"
   },
   "source": [
    "Сперва посмотрим, есть ли зависимость между количеством детей и возвратом кредита в срок."
   ]
  },
  {
   "cell_type": "code",
   "execution_count": 22,
   "id": "2cacfc4a",
   "metadata": {
    "id": "2cacfc4a"
   },
   "outputs": [
    {
     "data": {
      "text/html": [
       "<div>\n",
       "<style scoped>\n",
       "    .dataframe tbody tr th:only-of-type {\n",
       "        vertical-align: middle;\n",
       "    }\n",
       "\n",
       "    .dataframe tbody tr th {\n",
       "        vertical-align: top;\n",
       "    }\n",
       "\n",
       "    .dataframe thead th {\n",
       "        text-align: right;\n",
       "    }\n",
       "</style>\n",
       "<table border=\"1\" class=\"dataframe\">\n",
       "  <thead>\n",
       "    <tr style=\"text-align: right;\">\n",
       "      <th></th>\n",
       "      <th>amount</th>\n",
       "      <th>debt</th>\n",
       "      <th>debt_chidren_percent</th>\n",
       "    </tr>\n",
       "    <tr>\n",
       "      <th>children</th>\n",
       "      <th></th>\n",
       "      <th></th>\n",
       "      <th></th>\n",
       "    </tr>\n",
       "  </thead>\n",
       "  <tbody>\n",
       "    <tr>\n",
       "      <th>0</th>\n",
       "      <td>14107</td>\n",
       "      <td>1063</td>\n",
       "      <td>7.535266</td>\n",
       "    </tr>\n",
       "    <tr>\n",
       "      <th>1</th>\n",
       "      <td>4809</td>\n",
       "      <td>444</td>\n",
       "      <td>9.232689</td>\n",
       "    </tr>\n",
       "    <tr>\n",
       "      <th>2</th>\n",
       "      <td>2052</td>\n",
       "      <td>194</td>\n",
       "      <td>9.454191</td>\n",
       "    </tr>\n",
       "    <tr>\n",
       "      <th>3</th>\n",
       "      <td>330</td>\n",
       "      <td>27</td>\n",
       "      <td>8.181818</td>\n",
       "    </tr>\n",
       "    <tr>\n",
       "      <th>4</th>\n",
       "      <td>41</td>\n",
       "      <td>4</td>\n",
       "      <td>9.756098</td>\n",
       "    </tr>\n",
       "    <tr>\n",
       "      <th>5</th>\n",
       "      <td>9</td>\n",
       "      <td>0</td>\n",
       "      <td>0.000000</td>\n",
       "    </tr>\n",
       "  </tbody>\n",
       "</table>\n",
       "</div>"
      ],
      "text/plain": [
       "          amount  debt  debt_chidren_percent\n",
       "children                                    \n",
       "0          14107  1063              7.535266\n",
       "1           4809   444              9.232689\n",
       "2           2052   194              9.454191\n",
       "3            330    27              8.181818\n",
       "4             41     4              9.756098\n",
       "5              9     0              0.000000"
      ]
     },
     "execution_count": 22,
     "metadata": {},
     "output_type": "execute_result"
    }
   ],
   "source": [
    "#Создадим таблицу, сгруппированною по количеству детей у заемщика \n",
    "#в столбце amount указано общее количество заемщиков \n",
    "#в столбце bebt указано, у скольких заемщиков есть задолженность\n",
    "#в столбце debt_children_percent указан процент заемщиков, у которых есть задолженность по сравнению с их общим числом\n",
    "grouped_children = data.groupby('children').agg({'children': 'count', 'debt': 'sum'})\n",
    "grouped_children['debt_chidren_percent'] = grouped_children['debt'] / grouped_children['children'] * 100\n",
    "grouped_children = grouped_children.rename(columns={'children': 'amount'})\n",
    "grouped_children"
   ]
  },
  {
   "cell_type": "markdown",
   "id": "3a6b99ec",
   "metadata": {
    "deletable": false,
    "id": "3a6b99ec"
   },
   "source": [
    "**Выводы:** \n",
    "1. По заемщикам с 3-5 детьми трудно сделать однозначные выводы из-за небольшой выборки. Заемщиков с 5 детьми всего 9, и даже, если у одного из них появится долг, то это сильно изменит статистику. У заемщиков с 3-4 детьми ситуация лучше, но измнение числа должников хотя бы на несколько человек, тоже может существенно повлиять на уровень задолженности. Поэтому я считаю, что выводы делать лучше на основе групп людей, у которых число детей от 0 до 2.\n",
    "2. Процент должников среди тех, у кого нет детей, ниже, чем у заемщиков с детьми. Разница не такая большая (менее 2%), однако для целей построения скорринговой модели этот параметр можно учитывать при решении о выдачи кредита.\n",
    "3. Разница между должниками с 1 или 2 детьми составляет всего ~0,2% и это может вполне быть статистической погрешностью, поэтому я бы не делал однозначные выводы о том, что эти группы существенно отличаются."
   ]
  },
  {
   "cell_type": "markdown",
   "id": "97be82ca",
   "metadata": {
    "id": "97be82ca"
   },
   "source": [
    "Посмотрим, есть ли зависимость между семейным положением и возвратом кредита в срок."
   ]
  },
  {
   "cell_type": "code",
   "execution_count": 23,
   "id": "dc3f7ee8",
   "metadata": {
    "id": "dc3f7ee8"
   },
   "outputs": [
    {
     "data": {
      "text/html": [
       "<div>\n",
       "<style scoped>\n",
       "    .dataframe tbody tr th:only-of-type {\n",
       "        vertical-align: middle;\n",
       "    }\n",
       "\n",
       "    .dataframe tbody tr th {\n",
       "        vertical-align: top;\n",
       "    }\n",
       "\n",
       "    .dataframe thead th {\n",
       "        text-align: right;\n",
       "    }\n",
       "</style>\n",
       "<table border=\"1\" class=\"dataframe\">\n",
       "  <thead>\n",
       "    <tr style=\"text-align: right;\">\n",
       "      <th></th>\n",
       "      <th>amount</th>\n",
       "      <th>debt</th>\n",
       "      <th>debt_family_percent</th>\n",
       "    </tr>\n",
       "    <tr>\n",
       "      <th>family_status</th>\n",
       "      <th></th>\n",
       "      <th></th>\n",
       "      <th></th>\n",
       "    </tr>\n",
       "  </thead>\n",
       "  <tbody>\n",
       "    <tr>\n",
       "      <th>Не женат / не замужем</th>\n",
       "      <td>2796</td>\n",
       "      <td>273</td>\n",
       "      <td>9.763948</td>\n",
       "    </tr>\n",
       "    <tr>\n",
       "      <th>гражданский брак</th>\n",
       "      <td>4146</td>\n",
       "      <td>385</td>\n",
       "      <td>9.286059</td>\n",
       "    </tr>\n",
       "    <tr>\n",
       "      <th>женат / замужем</th>\n",
       "      <td>12266</td>\n",
       "      <td>927</td>\n",
       "      <td>7.557476</td>\n",
       "    </tr>\n",
       "    <tr>\n",
       "      <th>в разводе</th>\n",
       "      <td>1189</td>\n",
       "      <td>84</td>\n",
       "      <td>7.064760</td>\n",
       "    </tr>\n",
       "    <tr>\n",
       "      <th>вдовец / вдова</th>\n",
       "      <td>951</td>\n",
       "      <td>63</td>\n",
       "      <td>6.624606</td>\n",
       "    </tr>\n",
       "  </tbody>\n",
       "</table>\n",
       "</div>"
      ],
      "text/plain": [
       "                       amount  debt  debt_family_percent\n",
       "family_status                                           \n",
       "Не женат / не замужем    2796   273             9.763948\n",
       "гражданский брак         4146   385             9.286059\n",
       "женат / замужем         12266   927             7.557476\n",
       "в разводе                1189    84             7.064760\n",
       "вдовец / вдова            951    63             6.624606"
      ]
     },
     "execution_count": 23,
     "metadata": {},
     "output_type": "execute_result"
    }
   ],
   "source": [
    "#создадим таблицу, сгруппированною по семейному статусу заемщика \n",
    "#в столбце amount указано общее количество заемщиков \n",
    "#в столбце bebt указано, у скольких заемщиков есть задолженность\n",
    "#в столбце debt_family_percent указан процент заемщиков, у которых есть задолженность по сравнению с их общим числом\n",
    "grouped_family = data.groupby('family_status').agg({'family_status': 'count', 'debt': 'sum'})\n",
    "grouped_family['debt_family_percent'] = grouped_family['debt'] / grouped_family['family_status'] * 100\n",
    "grouped_family = grouped_family.rename(columns={'family_status': 'amount'}).sort_values('debt_family_percent', ascending=False)\n",
    "grouped_family"
   ]
  },
  {
   "cell_type": "markdown",
   "id": "1cef7837",
   "metadata": {
    "deletable": false,
    "id": "1cef7837"
   },
   "source": [
    "**Вывод:** наблюдается явная связь между уровнем задолженности от семейного статуса должников. Основная гипотеза, что ключевой параметр - это возраст. Самая большая доля долгов - у неженатых/незамужних. На втором месте у тех, кто в гражданском браке, третье место у замужних. Наименьшая доля задолженности - у разведенных или у тех, кто потерял супруга. Наблюдается явная тенденция: люди с семейным статусом, который ассоциируется с молодым возрастом, имеют большую долю задолженности, а у разведенных/вдовцов, то есть у наиболее зрелых людей, у которых предположительно есть финансовые накопления и большая финансовая грамотность/осознанность, доля задолженности ниже. На самом деле, здесь лучше провести дополнительное исследование по возрасту, так как, возможно, этот параметр лучше впишется в скоринговую модель, а параметр \"семейный статус\" будет его понапрасну дублировать."
   ]
  },
  {
   "cell_type": "markdown",
   "id": "84833e41",
   "metadata": {},
   "source": [
    "**Дополнительное исследование по возрасту для проверки гипотезы о семейном статусе**"
   ]
  },
  {
   "cell_type": "code",
   "execution_count": 24,
   "id": "a869182e",
   "metadata": {},
   "outputs": [],
   "source": [
    "#создадим функцию age_group, которая разделяет заемщиков на 4 крупных когорты в зависимости от возраста\n",
    "def age_group(age):\n",
    "    if age <= 29:\n",
    "        return 'молодой'\n",
    "    elif 30 <= age <= 44:\n",
    "        return 'взрослый'\n",
    "    elif 45 <= age <= 59:\n",
    "        return 'зрелый'\n",
    "    elif 60 <= age:\n",
    "        return 'пожилой'\n",
    "        "
   ]
  },
  {
   "cell_type": "code",
   "execution_count": 25,
   "id": "47f258a2",
   "metadata": {
    "scrolled": true
   },
   "outputs": [
    {
     "data": {
      "text/plain": [
       "0        взрослый\n",
       "1        взрослый\n",
       "2        взрослый\n",
       "3        взрослый\n",
       "4          зрелый\n",
       "           ...   \n",
       "21520    взрослый\n",
       "21521     пожилой\n",
       "21522    взрослый\n",
       "21523    взрослый\n",
       "21524    взрослый\n",
       "Name: age_group, Length: 21348, dtype: object"
      ]
     },
     "execution_count": 25,
     "metadata": {},
     "output_type": "execute_result"
    }
   ],
   "source": [
    "#применим функцию age_group\n",
    "data['age_group'] = data['dob_years'].apply(age_group)\n",
    "data['age_group']"
   ]
  },
  {
   "cell_type": "code",
   "execution_count": 26,
   "id": "a6789269",
   "metadata": {
    "scrolled": true
   },
   "outputs": [
    {
     "data": {
      "text/html": [
       "<div>\n",
       "<style scoped>\n",
       "    .dataframe tbody tr th:only-of-type {\n",
       "        vertical-align: middle;\n",
       "    }\n",
       "\n",
       "    .dataframe tbody tr th {\n",
       "        vertical-align: top;\n",
       "    }\n",
       "\n",
       "    .dataframe thead th {\n",
       "        text-align: right;\n",
       "    }\n",
       "</style>\n",
       "<table border=\"1\" class=\"dataframe\">\n",
       "  <thead>\n",
       "    <tr style=\"text-align: right;\">\n",
       "      <th></th>\n",
       "      <th>amount</th>\n",
       "      <th>debt</th>\n",
       "      <th>debt_age_percent</th>\n",
       "    </tr>\n",
       "    <tr>\n",
       "      <th>age_group</th>\n",
       "      <th></th>\n",
       "      <th></th>\n",
       "      <th></th>\n",
       "    </tr>\n",
       "  </thead>\n",
       "  <tbody>\n",
       "    <tr>\n",
       "      <th>молодой</th>\n",
       "      <td>3267</td>\n",
       "      <td>357</td>\n",
       "      <td>10.927456</td>\n",
       "    </tr>\n",
       "    <tr>\n",
       "      <th>взрослый</th>\n",
       "      <td>8470</td>\n",
       "      <td>771</td>\n",
       "      <td>9.102715</td>\n",
       "    </tr>\n",
       "    <tr>\n",
       "      <th>зрелый</th>\n",
       "      <td>7114</td>\n",
       "      <td>481</td>\n",
       "      <td>6.761316</td>\n",
       "    </tr>\n",
       "    <tr>\n",
       "      <th>пожилой</th>\n",
       "      <td>2497</td>\n",
       "      <td>123</td>\n",
       "      <td>4.925911</td>\n",
       "    </tr>\n",
       "  </tbody>\n",
       "</table>\n",
       "</div>"
      ],
      "text/plain": [
       "           amount  debt  debt_age_percent\n",
       "age_group                                \n",
       "молодой      3267   357         10.927456\n",
       "взрослый     8470   771          9.102715\n",
       "зрелый       7114   481          6.761316\n",
       "пожилой      2497   123          4.925911"
      ]
     },
     "execution_count": 26,
     "metadata": {},
     "output_type": "execute_result"
    }
   ],
   "source": [
    "#создадим таблицу, сгруппированною по возрастной когорты заемщика \n",
    "#в столбце amount указано общее количество заемщиков \n",
    "#в столбце bebt указано, у скольких заемщиков есть задолженность\n",
    "#в столбце debt_age_percent указан процент заемщиков, у которых есть задолженность по сравнению с их общим числом\n",
    "grouped_age = data.groupby('age_group').agg({'age_group': 'count', 'debt': 'sum'})\n",
    "grouped_age['debt_age_percent'] = grouped_age['debt'] / grouped_age['age_group'] * 100\n",
    "grouped_age = grouped_age.rename(columns={'age_group': 'amount'}).sort_values('debt_age_percent', ascending=False)\n",
    "grouped_age"
   ]
  },
  {
   "cell_type": "markdown",
   "id": "ef3d45be",
   "metadata": {},
   "source": [
    "**Вывод**: действительно, если провести аналогичное исследование, но вместо семейного статуса подставить возрастную когорту, то зависимость является еще более явной. Чем старше люди, тем в среднем меньшая доля среди них должников. Возможно, возраст тоже не окончательный параметр и меньшая доля долгов связана не напрямую с возрастом, а с тем, что в среднем зрелые и пожилые люди имеют больший доход в силу своего опыта и сбережений. Это следует проверить в следующих этапах. "
   ]
  },
  {
   "cell_type": "markdown",
   "id": "1e8b2fca",
   "metadata": {
    "id": "1e8b2fca"
   },
   "source": [
    "Посмотрим, есть ли зависимость между уровнем дохода и возвратом кредита в срок."
   ]
  },
  {
   "cell_type": "code",
   "execution_count": 27,
   "id": "75161746",
   "metadata": {
    "scrolled": false
   },
   "outputs": [
    {
     "data": {
      "text/html": [
       "<div>\n",
       "<style scoped>\n",
       "    .dataframe tbody tr th:only-of-type {\n",
       "        vertical-align: middle;\n",
       "    }\n",
       "\n",
       "    .dataframe tbody tr th {\n",
       "        vertical-align: top;\n",
       "    }\n",
       "\n",
       "    .dataframe thead th {\n",
       "        text-align: right;\n",
       "    }\n",
       "</style>\n",
       "<table border=\"1\" class=\"dataframe\">\n",
       "  <thead>\n",
       "    <tr style=\"text-align: right;\">\n",
       "      <th></th>\n",
       "      <th>amount</th>\n",
       "      <th>debt</th>\n",
       "      <th>group_income_percent</th>\n",
       "    </tr>\n",
       "    <tr>\n",
       "      <th>total_income_category</th>\n",
       "      <th></th>\n",
       "      <th></th>\n",
       "      <th></th>\n",
       "    </tr>\n",
       "  </thead>\n",
       "  <tbody>\n",
       "    <tr>\n",
       "      <th>E</th>\n",
       "      <td>22</td>\n",
       "      <td>2</td>\n",
       "      <td>9.090909</td>\n",
       "    </tr>\n",
       "    <tr>\n",
       "      <th>C</th>\n",
       "      <td>15938</td>\n",
       "      <td>1353</td>\n",
       "      <td>8.489145</td>\n",
       "    </tr>\n",
       "    <tr>\n",
       "      <th>A</th>\n",
       "      <td>25</td>\n",
       "      <td>2</td>\n",
       "      <td>8.000000</td>\n",
       "    </tr>\n",
       "    <tr>\n",
       "      <th>B</th>\n",
       "      <td>5014</td>\n",
       "      <td>354</td>\n",
       "      <td>7.060231</td>\n",
       "    </tr>\n",
       "    <tr>\n",
       "      <th>D</th>\n",
       "      <td>349</td>\n",
       "      <td>21</td>\n",
       "      <td>6.017192</td>\n",
       "    </tr>\n",
       "  </tbody>\n",
       "</table>\n",
       "</div>"
      ],
      "text/plain": [
       "                       amount  debt  group_income_percent\n",
       "total_income_category                                    \n",
       "E                          22     2              9.090909\n",
       "C                       15938  1353              8.489145\n",
       "A                          25     2              8.000000\n",
       "B                        5014   354              7.060231\n",
       "D                         349    21              6.017192"
      ]
     },
     "execution_count": 27,
     "metadata": {},
     "output_type": "execute_result"
    }
   ],
   "source": [
    "#Создадим таблицу, сгруппированною по категориям доходов, которые были выделены в первой части проекта\n",
    "#в столбце amount указано общее количество заемщиков \n",
    "#в столбце bebt указано, у скольких заемщиков есть задолженность\n",
    "#в столбце debt_age_percent указан процент заемщиков, у которых есть задолженность по сравнению с их общим числом\n",
    "grouped_income = data.groupby('total_income_category').agg({'total_income_category': 'count', 'debt': 'sum'})\n",
    "grouped_income['group_income_percent'] = grouped_income['debt'] / grouped_income['total_income_category'] * 100\n",
    "grouped_income = grouped_income.rename(columns={'total_income_category': 'amount'}).sort_values('group_income_percent',\n",
    "                                                                                                ascending=False)\n",
    "grouped_income"
   ]
  },
  {
   "cell_type": "markdown",
   "id": "8302825c",
   "metadata": {},
   "source": [
    "Из данной таблицы вряд ли можно сделать какие-то выводы, так как группы заемщиков распределены крайне неравномерно. Группы E и A слишком малы и нерепрезентативны, а группа C включает в себя более двух третей выборки. Поэтому более рациональным вариантом является содание новой категоризации с 4 группами на основе квартилей распределения: 1 группа (\"низкий доход\") будет включать в себя заемщиков, у которых доход меньше 1 квартиля доходов (25%) всей выборки, 2 группа (\"доход ниже среднего\") включает в себя всех заемщиков, у которых доходы больше или равны 1 квартилю и меньше медианы (2 квартиль). 3 группа (\"доход выше среднего\") и 4 группа (\"высокий доход\") объединены по аналогичной логике. "
   ]
  },
  {
   "cell_type": "code",
   "execution_count": 28,
   "id": "40df7ca7",
   "metadata": {},
   "outputs": [],
   "source": [
    "#Создадим новую функцию, которая будет разбивать заемщиков на 4 группы в зависимости от дохода\n",
    "def income_4_group(income):\n",
    "    if income < data['total_income'].quantile(0.25):\n",
    "        return 'низкий доход'\n",
    "    elif data['total_income'].quantile(0.25) <= income < data['total_income'].quantile(0.5):\n",
    "        return 'доход ниже среднего'\n",
    "    elif data['total_income'].quantile(0.5) <= income < data['total_income'].quantile(0.75):\n",
    "        return 'доход выше среднего'\n",
    "    elif income >= data['total_income'].quantile(0.75):\n",
    "        return 'высокий доход'"
   ]
  },
  {
   "cell_type": "code",
   "execution_count": 29,
   "id": "be71dae6",
   "metadata": {},
   "outputs": [],
   "source": [
    "#Применяем новую функцию\n",
    "data['income_4_group'] = data['total_income'].apply(income_4_group)"
   ]
  },
  {
   "cell_type": "code",
   "execution_count": 30,
   "id": "cf0c6386",
   "metadata": {
    "scrolled": true
   },
   "outputs": [
    {
     "data": {
      "text/html": [
       "<div>\n",
       "<style scoped>\n",
       "    .dataframe tbody tr th:only-of-type {\n",
       "        vertical-align: middle;\n",
       "    }\n",
       "\n",
       "    .dataframe tbody tr th {\n",
       "        vertical-align: top;\n",
       "    }\n",
       "\n",
       "    .dataframe thead th {\n",
       "        text-align: right;\n",
       "    }\n",
       "</style>\n",
       "<table border=\"1\" class=\"dataframe\">\n",
       "  <thead>\n",
       "    <tr style=\"text-align: right;\">\n",
       "      <th></th>\n",
       "      <th>amount</th>\n",
       "      <th>debt</th>\n",
       "      <th>group_income_percent</th>\n",
       "    </tr>\n",
       "    <tr>\n",
       "      <th>income_4_group</th>\n",
       "      <th></th>\n",
       "      <th></th>\n",
       "      <th></th>\n",
       "    </tr>\n",
       "  </thead>\n",
       "  <tbody>\n",
       "    <tr>\n",
       "      <th>доход ниже среднего</th>\n",
       "      <td>4388</td>\n",
       "      <td>382</td>\n",
       "      <td>8.705561</td>\n",
       "    </tr>\n",
       "    <tr>\n",
       "      <th>доход выше среднего</th>\n",
       "      <td>6286</td>\n",
       "      <td>542</td>\n",
       "      <td>8.622335</td>\n",
       "    </tr>\n",
       "    <tr>\n",
       "      <th>низкий доход</th>\n",
       "      <td>5337</td>\n",
       "      <td>427</td>\n",
       "      <td>8.000749</td>\n",
       "    </tr>\n",
       "    <tr>\n",
       "      <th>высокий доход</th>\n",
       "      <td>5337</td>\n",
       "      <td>381</td>\n",
       "      <td>7.138842</td>\n",
       "    </tr>\n",
       "  </tbody>\n",
       "</table>\n",
       "</div>"
      ],
      "text/plain": [
       "                     amount  debt  group_income_percent\n",
       "income_4_group                                         \n",
       "доход ниже среднего    4388   382              8.705561\n",
       "доход выше среднего    6286   542              8.622335\n",
       "низкий доход           5337   427              8.000749\n",
       "высокий доход          5337   381              7.138842"
      ]
     },
     "execution_count": 30,
     "metadata": {},
     "output_type": "execute_result"
    }
   ],
   "source": [
    "#создадим таблицу, сгруппированною по новой категоризации доходов с 4 группами\n",
    "#в столбце amount указано общее количество заемщиков \n",
    "#в столбце bebt указано, у скольких заемщиков есть задолженность\n",
    "#в столбце debt_age_percent указан процент заемщиков, у которых есть задолженность по сравнению с их общим числом\n",
    "grouped_4_income = data.groupby('income_4_group').agg({'income_4_group': 'count', 'debt': 'sum'})\n",
    "grouped_4_income['group_income_percent'] = grouped_4_income['debt'] / grouped_4_income['income_4_group'] * 100\n",
    "grouped_4_income = grouped_4_income.rename(columns={'income_4_group': 'amount'}).sort_values('group_income_percent', ascending=False)\n",
    "grouped_4_income"
   ]
  },
  {
   "cell_type": "markdown",
   "id": "157067c3",
   "metadata": {},
   "source": [
    " Новая категоризация оказалось более сбалансированной и разделяет пайщиков на сопоставимые по размеру группы. Результаты исследования оказались неожиданными. Интуитивно можно сделать вывод, чем больше доходов у заемщика, чем меньше вероятность того, что у него будет задолженность. Однако это предположение оказалось верным только частично. Действительно, заемщики с самыми высокими доходами имеют наиболее низкий процент задолженнности (7,1%), но следом за ними идет не заемщики с доходами выше среднего, а те, у которых низкие доходы (уровень задолженности - 8%). Группа \"доход ниже среднего\" и \"доход выше среднего\" показали примерно одинаковый уровень задолженности - 8,7% и 8,6%. Таким образом, на данный момент связь между доходами воспринимается нелинейно. Чтобы подвердить данный вывод можно провести дополнительное исследование, разбив заемщиков на 3 группы, чтобы выделить в отдельую группу заемщиков, с доходами, близкими к средним."
   ]
  },
  {
   "cell_type": "code",
   "execution_count": 31,
   "id": "7e08cba1",
   "metadata": {},
   "outputs": [],
   "source": [
    "#создадим новую функцию, аналогичную предыдущей, но с разбивкой на три группы, используя 33 и 67 персентили\n",
    "# (делим выборку на 3 приблизительно равные части)\n",
    "def income_3_group(income):\n",
    "    if income < data['total_income'].quantile(0.33):\n",
    "        return 'низкий доход'\n",
    "    elif data['total_income'].quantile(0.33) <= income < data['total_income'].quantile(0.67):\n",
    "        return 'средний доход'\n",
    "    elif income >= data['total_income'].quantile(0.67):\n",
    "        return 'высокий доход'"
   ]
  },
  {
   "cell_type": "code",
   "execution_count": 32,
   "id": "61d3fb97",
   "metadata": {},
   "outputs": [],
   "source": [
    "#применяем новую функцию\n",
    "data['income_3_group'] = data['total_income'].apply(income_3_group)"
   ]
  },
  {
   "cell_type": "code",
   "execution_count": 33,
   "id": "ddc0251d",
   "metadata": {
    "scrolled": false
   },
   "outputs": [
    {
     "data": {
      "text/html": [
       "<div>\n",
       "<style scoped>\n",
       "    .dataframe tbody tr th:only-of-type {\n",
       "        vertical-align: middle;\n",
       "    }\n",
       "\n",
       "    .dataframe tbody tr th {\n",
       "        vertical-align: top;\n",
       "    }\n",
       "\n",
       "    .dataframe thead th {\n",
       "        text-align: right;\n",
       "    }\n",
       "</style>\n",
       "<table border=\"1\" class=\"dataframe\">\n",
       "  <thead>\n",
       "    <tr style=\"text-align: right;\">\n",
       "      <th></th>\n",
       "      <th>amount</th>\n",
       "      <th>debt</th>\n",
       "      <th>group_income_percent</th>\n",
       "    </tr>\n",
       "    <tr>\n",
       "      <th>income_3_group</th>\n",
       "      <th></th>\n",
       "      <th></th>\n",
       "      <th></th>\n",
       "    </tr>\n",
       "  </thead>\n",
       "  <tbody>\n",
       "    <tr>\n",
       "      <th>средний доход</th>\n",
       "      <td>7189</td>\n",
       "      <td>634</td>\n",
       "      <td>8.819029</td>\n",
       "    </tr>\n",
       "    <tr>\n",
       "      <th>низкий доход</th>\n",
       "      <td>6677</td>\n",
       "      <td>543</td>\n",
       "      <td>8.132395</td>\n",
       "    </tr>\n",
       "    <tr>\n",
       "      <th>высокий доход</th>\n",
       "      <td>7482</td>\n",
       "      <td>555</td>\n",
       "      <td>7.417803</td>\n",
       "    </tr>\n",
       "  </tbody>\n",
       "</table>\n",
       "</div>"
      ],
      "text/plain": [
       "                amount  debt  group_income_percent\n",
       "income_3_group                                    \n",
       "средний доход     7189   634              8.819029\n",
       "низкий доход      6677   543              8.132395\n",
       "высокий доход     7482   555              7.417803"
      ]
     },
     "execution_count": 33,
     "metadata": {},
     "output_type": "execute_result"
    }
   ],
   "source": [
    "#создадим таблицу, сгруппированною по новой категоризации доходов с 3 группами\n",
    "#в столбце amount указано общее количество заемщиков \n",
    "#в столбце bebt указано, у скольких заемщиков есть задолженность\n",
    "#в столбце debt_age_percent указан процент заемщиков, у которых есть задолженность по сравнению с их общим числом\n",
    "grouped_3_income = data.groupby('income_3_group').agg({'income_3_group': 'count', 'debt': 'sum'})\n",
    "grouped_3_income['group_income_percent'] = grouped_3_income['debt'] / grouped_3_income['income_3_group'] * 100\n",
    "grouped_3_income = grouped_3_income.rename(columns={'income_3_group': 'amount'}).sort_values('group_income_percent', ascending=False)\n",
    "grouped_3_income"
   ]
  },
  {
   "cell_type": "markdown",
   "id": "72309182",
   "metadata": {},
   "source": [
    "Категоризация с тремя группами также показала нелинейную связь между доходами и уровнем возврата кредита в срок. Наибольший уровень задолженности у группы \"средний доход\". Первая гипотеза, которая находится на поверхности, что это как-то связано с тем, что мы заполнили медианным значением пропуски в данных. Таких значений было 2174, и они могли существенно исказить группу со средним доходом. Причины появления этих пропусков неизвестны. Они могли быть связаны с тем, что заемщики не хотят указывать уровень своих доходов, который либо очень низкий, либо и вовсе отстутсвует. Если это так, уровень задолженности среди таких заемщиков должна быть выше. Эту гипотезу необходимо проверить."
   ]
  },
  {
   "cell_type": "code",
   "execution_count": 34,
   "id": "0bfaf4cb",
   "metadata": {},
   "outputs": [],
   "source": [
    "#загружаем новый датасет, где пропуски еще не были заменены\n",
    "data1 = pd.read_csv('/datasets/data.csv')"
   ]
  },
  {
   "cell_type": "code",
   "execution_count": 35,
   "id": "fe9affdc",
   "metadata": {
    "scrolled": false
   },
   "outputs": [
    {
     "data": {
      "text/plain": [
       "income_type     2174.000000\n",
       "debt             170.000000\n",
       "debt_percent       7.819687\n",
       "dtype: float64"
      ]
     },
     "execution_count": 35,
     "metadata": {},
     "output_type": "execute_result"
    }
   ],
   "source": [
    "#выделяем датасет только с заемщиками с пропусками и смотрим, какая среди них доля должников\n",
    "data_null = data1[data1['total_income'].isnull()]\n",
    "data_null_agg = data_null.agg({'income_type': 'count', 'debt': 'sum',})\n",
    "data_null_agg['debt_percent'] = data_null_agg[1]/ data_null_agg[0] * 100\n",
    "data_null_agg\n"
   ]
  },
  {
   "cell_type": "markdown",
   "id": "c9b25d93",
   "metadata": {},
   "source": [
    "Пока кажется, что гипотеза себя не оправдала: уровень задолженности среди заемщиков, у которых не был указан доход, составляет всего 7.8%, что не выбивается из общего тренда. Но на всякий случай следует проверить выборку, очищенную от заемщиков, у которых не указан доход."
   ]
  },
  {
   "cell_type": "code",
   "execution_count": 36,
   "id": "79e926a4",
   "metadata": {},
   "outputs": [
    {
     "data": {
      "text/plain": [
       "children            0\n",
       "days_employed       0\n",
       "dob_years           0\n",
       "education           0\n",
       "education_id        0\n",
       "family_status       0\n",
       "family_status_id    0\n",
       "gender              0\n",
       "income_type         0\n",
       "debt                0\n",
       "total_income        0\n",
       "purpose             0\n",
       "dtype: int64"
      ]
     },
     "execution_count": 36,
     "metadata": {},
     "output_type": "execute_result"
    }
   ],
   "source": [
    "#создаем датафрейм, где бы не было заемщиков с пустыми значениями и проверяем, действительно ли они были удалены\n",
    "data_not_null = data1[data1['total_income'].isnull() == False]\n",
    "data_not_null.isnull().sum()"
   ]
  },
  {
   "cell_type": "code",
   "execution_count": 37,
   "id": "125f4661",
   "metadata": {},
   "outputs": [],
   "source": [
    "#создаем новую функцию для категоризации заемщиков на 3 группы по доходам, но для заемщиков, у которых не было пустных значений\n",
    "def income_3_group_not_null(income):\n",
    "    if income < data_not_null['total_income'].quantile(0.33):\n",
    "        return 'низкий доход'\n",
    "    elif data_not_null['total_income'].quantile(0.33) <= income < data_not_null['total_income'].quantile(0.67):\n",
    "        return 'средний доход'\n",
    "    elif income >= data_not_null['total_income'].quantile(0.67):\n",
    "        return 'высокий доход'"
   ]
  },
  {
   "cell_type": "code",
   "execution_count": 38,
   "id": "f5fd8d65",
   "metadata": {},
   "outputs": [
    {
     "name": "stderr",
     "output_type": "stream",
     "text": [
      "/tmp/ipykernel_63/2298932778.py:2: SettingWithCopyWarning: \n",
      "A value is trying to be set on a copy of a slice from a DataFrame.\n",
      "Try using .loc[row_indexer,col_indexer] = value instead\n",
      "\n",
      "See the caveats in the documentation: https://pandas.pydata.org/pandas-docs/stable/user_guide/indexing.html#returning-a-view-versus-a-copy\n",
      "  data_not_null['income_3_group'] = data_not_null['total_income'].apply(income_3_group_not_null)\n"
     ]
    }
   ],
   "source": [
    "#применяем новую функцию\n",
    "data_not_null['income_3_group'] = data_not_null['total_income'].apply(income_3_group_not_null)"
   ]
  },
  {
   "cell_type": "code",
   "execution_count": 39,
   "id": "1c039994",
   "metadata": {},
   "outputs": [
    {
     "data": {
      "text/html": [
       "<div>\n",
       "<style scoped>\n",
       "    .dataframe tbody tr th:only-of-type {\n",
       "        vertical-align: middle;\n",
       "    }\n",
       "\n",
       "    .dataframe tbody tr th {\n",
       "        vertical-align: top;\n",
       "    }\n",
       "\n",
       "    .dataframe thead th {\n",
       "        text-align: right;\n",
       "    }\n",
       "</style>\n",
       "<table border=\"1\" class=\"dataframe\">\n",
       "  <thead>\n",
       "    <tr style=\"text-align: right;\">\n",
       "      <th></th>\n",
       "      <th>amount</th>\n",
       "      <th>debt</th>\n",
       "      <th>group_income_percent</th>\n",
       "    </tr>\n",
       "    <tr>\n",
       "      <th>income_3_group</th>\n",
       "      <th></th>\n",
       "      <th></th>\n",
       "      <th></th>\n",
       "    </tr>\n",
       "  </thead>\n",
       "  <tbody>\n",
       "    <tr>\n",
       "      <th>средний доход</th>\n",
       "      <td>6579</td>\n",
       "      <td>575</td>\n",
       "      <td>8.739930</td>\n",
       "    </tr>\n",
       "    <tr>\n",
       "      <th>низкий доход</th>\n",
       "      <td>6386</td>\n",
       "      <td>519</td>\n",
       "      <td>8.127153</td>\n",
       "    </tr>\n",
       "    <tr>\n",
       "      <th>высокий доход</th>\n",
       "      <td>6386</td>\n",
       "      <td>477</td>\n",
       "      <td>7.469464</td>\n",
       "    </tr>\n",
       "  </tbody>\n",
       "</table>\n",
       "</div>"
      ],
      "text/plain": [
       "                amount  debt  group_income_percent\n",
       "income_3_group                                    \n",
       "средний доход     6579   575              8.739930\n",
       "низкий доход      6386   519              8.127153\n",
       "высокий доход     6386   477              7.469464"
      ]
     },
     "execution_count": 39,
     "metadata": {},
     "output_type": "execute_result"
    }
   ],
   "source": [
    "#создадим таблицу, сгруппированною по новой категоризации доходов с 3 группами для заемщиков, у которых не было пустных значений\n",
    "#в столбце amount указано общее количество заемщиков \n",
    "#в столбце bebt указано, у скольких заемщиков есть задолженность\n",
    "#в столбце debt_age_percent указан процент заемщиков, у которых есть задолженность по сравнению с их общим числом\n",
    "grouped_3_income_not_null = data_not_null.groupby('income_3_group').agg({'income_3_group': 'count', 'debt': 'sum'})\n",
    "grouped_3_income_not_null['group_income_percent'] = grouped_3_income_not_null['debt'] / grouped_3_income_not_null['income_3_group'] * 100\n",
    "grouped_3_income_not_null = grouped_3_income_not_null.rename(columns={'income_3_group': 'amount'}).sort_values('group_income_percent', ascending=False)\n",
    "grouped_3_income_not_null"
   ]
  },
  {
   "cell_type": "markdown",
   "id": "7a92bbfb",
   "metadata": {},
   "source": [
    "Гипотиза оказалась неверной. Пропущенные значения практически никак не искажали выборку. Все также сохранилась нелинейная зависимость между доходами и уровнем возврата кредита: больше всего заемщиков, имеющих наибольшую долю задолженности по возврату кредитов, находятся в группе со средними доходами относительно других групп. При этом группы с низким и высоким доходом вновь показали себя лучше, чем группа со средними доходами. Из-за этого вывода становится еще более интересным выявленный факт линейной зависимости между возрастом и возвратом кредита. Предполагалось, что уровень задолженности среди старшего поколения меньше в основном из-за того, что у них уровень доходов выше, чем у более молодых. Однако выявленная нелинейная связь между уровнем доходов и возвратом кредита побуждает провести дополнительное исследование и посмотреть, какой уровень задолженности в разрезе как возраста, так и дохода."
   ]
  },
  {
   "cell_type": "code",
   "execution_count": 40,
   "id": "6c91cf3d",
   "metadata": {
    "scrolled": false
   },
   "outputs": [
    {
     "data": {
      "text/html": [
       "<div>\n",
       "<style scoped>\n",
       "    .dataframe tbody tr th:only-of-type {\n",
       "        vertical-align: middle;\n",
       "    }\n",
       "\n",
       "    .dataframe tbody tr th {\n",
       "        vertical-align: top;\n",
       "    }\n",
       "\n",
       "    .dataframe thead th {\n",
       "        text-align: right;\n",
       "    }\n",
       "</style>\n",
       "<table border=\"1\" class=\"dataframe\">\n",
       "  <thead>\n",
       "    <tr style=\"text-align: right;\">\n",
       "      <th></th>\n",
       "      <th></th>\n",
       "      <th>amount</th>\n",
       "      <th>debt</th>\n",
       "      <th>group_income_percent</th>\n",
       "    </tr>\n",
       "    <tr>\n",
       "      <th>age_group</th>\n",
       "      <th>income_3_group</th>\n",
       "      <th></th>\n",
       "      <th></th>\n",
       "      <th></th>\n",
       "    </tr>\n",
       "  </thead>\n",
       "  <tbody>\n",
       "    <tr>\n",
       "      <th rowspan=\"3\" valign=\"top\">взрослый</th>\n",
       "      <th>высокий доход</th>\n",
       "      <td>3331</td>\n",
       "      <td>254</td>\n",
       "      <td>7.625338</td>\n",
       "    </tr>\n",
       "    <tr>\n",
       "      <th>низкий доход</th>\n",
       "      <td>2301</td>\n",
       "      <td>234</td>\n",
       "      <td>10.169492</td>\n",
       "    </tr>\n",
       "    <tr>\n",
       "      <th>средний доход</th>\n",
       "      <td>2838</td>\n",
       "      <td>283</td>\n",
       "      <td>9.971811</td>\n",
       "    </tr>\n",
       "    <tr>\n",
       "      <th rowspan=\"3\" valign=\"top\">зрелый</th>\n",
       "      <th>высокий доход</th>\n",
       "      <td>2483</td>\n",
       "      <td>177</td>\n",
       "      <td>7.128474</td>\n",
       "    </tr>\n",
       "    <tr>\n",
       "      <th>низкий доход</th>\n",
       "      <td>2262</td>\n",
       "      <td>139</td>\n",
       "      <td>6.145004</td>\n",
       "    </tr>\n",
       "    <tr>\n",
       "      <th>средний доход</th>\n",
       "      <td>2369</td>\n",
       "      <td>165</td>\n",
       "      <td>6.964964</td>\n",
       "    </tr>\n",
       "    <tr>\n",
       "      <th rowspan=\"3\" valign=\"top\">молодой</th>\n",
       "      <th>высокий доход</th>\n",
       "      <td>1067</td>\n",
       "      <td>100</td>\n",
       "      <td>9.372071</td>\n",
       "    </tr>\n",
       "    <tr>\n",
       "      <th>низкий доход</th>\n",
       "      <td>1065</td>\n",
       "      <td>121</td>\n",
       "      <td>11.361502</td>\n",
       "    </tr>\n",
       "    <tr>\n",
       "      <th>средний доход</th>\n",
       "      <td>1135</td>\n",
       "      <td>136</td>\n",
       "      <td>11.982379</td>\n",
       "    </tr>\n",
       "    <tr>\n",
       "      <th rowspan=\"3\" valign=\"top\">пожилой</th>\n",
       "      <th>высокий доход</th>\n",
       "      <td>601</td>\n",
       "      <td>24</td>\n",
       "      <td>3.993344</td>\n",
       "    </tr>\n",
       "    <tr>\n",
       "      <th>низкий доход</th>\n",
       "      <td>1049</td>\n",
       "      <td>49</td>\n",
       "      <td>4.671115</td>\n",
       "    </tr>\n",
       "    <tr>\n",
       "      <th>средний доход</th>\n",
       "      <td>847</td>\n",
       "      <td>50</td>\n",
       "      <td>5.903188</td>\n",
       "    </tr>\n",
       "  </tbody>\n",
       "</table>\n",
       "</div>"
      ],
      "text/plain": [
       "                          amount  debt  group_income_percent\n",
       "age_group income_3_group                                    \n",
       "взрослый  высокий доход     3331   254              7.625338\n",
       "          низкий доход      2301   234             10.169492\n",
       "          средний доход     2838   283              9.971811\n",
       "зрелый    высокий доход     2483   177              7.128474\n",
       "          низкий доход      2262   139              6.145004\n",
       "          средний доход     2369   165              6.964964\n",
       "молодой   высокий доход     1067   100              9.372071\n",
       "          низкий доход      1065   121             11.361502\n",
       "          средний доход     1135   136             11.982379\n",
       "пожилой   высокий доход      601    24              3.993344\n",
       "          низкий доход      1049    49              4.671115\n",
       "          средний доход      847    50              5.903188"
      ]
     },
     "execution_count": 40,
     "metadata": {},
     "output_type": "execute_result"
    }
   ],
   "source": [
    "#Для этого создаем таблицу, сгрупированную как по возрасту, так и по доходу. \n",
    "#в столбце amount указано общее количество заемщиков \n",
    "#в столбце bebt указано, у скольких заемщиков есть задолженность\n",
    "#в столбце debt_age_percent указан процент заемщиков, у которых есть задолженность по сравнению с их общим числом\n",
    "grouped_income_age = data.groupby(['age_group', 'income_3_group']).agg({'income_3_group': 'count', 'debt': 'sum'})\n",
    "grouped_income_age['group_income_percent'] = grouped_income_age['debt'] / grouped_income_age['income_3_group'] * 100\n",
    "grouped_income_age = grouped_income_age.rename(columns={'income_3_group': 'amount'})\n",
    "grouped_income_age"
   ]
  },
  {
   "cell_type": "markdown",
   "id": "9b74c3a4",
   "metadata": {},
   "source": [
    "Результатом являются данные совершенно разного характера. Среди группы \"взрослые\" (30-44 года) зависимость между доходами и уровнем задолженности распределяется линейно: наибольший уровень задолженности - у заемщиков с низким уровнем дохода, наименьший - у заемщиков в высоким уровнем дохода. У \"молодых\" (меньше 30 лет) и \"пожилых\" (от 60 лет и больше) зависимость между уровнем дохода и задолженностью полностью совпадает с той, которая была обнаружена у всей выборки в целом. При этом уровень задолженности значительно различается между данными возрастными группами. Наиболее контринтуитивный вариант наблюдается у группы \"зрелые\" (45-59 лет), у которых чем больше доход, тем больший уровень задолженности."
   ]
  },
  {
   "cell_type": "markdown",
   "id": "e8593def",
   "metadata": {
    "deletable": false,
    "id": "e8593def"
   },
   "source": [
    "**Вывод:** результат данного исследования оказался наиболее неоднозначным. Если рассматривать всю выборку целиком, то обнаруживается нелинейная зависимость между уровне дохода и задолженности. Наибольший уровень задолженности оказался у тех людей, у которых уровень дохода близок к медианному по выборке. При этом, если рассматривать различные возрастные группы, то наблюдаются совершенно разные паттерны того, как доход влияет на уровень задолженности. Поэтому использовать для скоринговой модели показатель уровня дохода необходимо крайне аккуратно, учитывая другие характеристики заемщика и то, как они могут взаимодействовать между собой."
   ]
  },
  {
   "cell_type": "markdown",
   "id": "99ecbd1f",
   "metadata": {
    "id": "99ecbd1f"
   },
   "source": [
    "Посмотрим, как разные цели кредита влияют на его возврат в срок."
   ]
  },
  {
   "cell_type": "code",
   "execution_count": 41,
   "id": "2b687290",
   "metadata": {
    "id": "2b687290"
   },
   "outputs": [
    {
     "data": {
      "text/html": [
       "<div>\n",
       "<style scoped>\n",
       "    .dataframe tbody tr th:only-of-type {\n",
       "        vertical-align: middle;\n",
       "    }\n",
       "\n",
       "    .dataframe tbody tr th {\n",
       "        vertical-align: top;\n",
       "    }\n",
       "\n",
       "    .dataframe thead th {\n",
       "        text-align: right;\n",
       "    }\n",
       "</style>\n",
       "<table border=\"1\" class=\"dataframe\">\n",
       "  <thead>\n",
       "    <tr style=\"text-align: right;\">\n",
       "      <th></th>\n",
       "      <th>amount</th>\n",
       "      <th>debt</th>\n",
       "      <th>group_income_percent</th>\n",
       "    </tr>\n",
       "    <tr>\n",
       "      <th>purpose_category</th>\n",
       "      <th></th>\n",
       "      <th></th>\n",
       "      <th></th>\n",
       "    </tr>\n",
       "  </thead>\n",
       "  <tbody>\n",
       "    <tr>\n",
       "      <th>операции с автомобилем</th>\n",
       "      <td>4281</td>\n",
       "      <td>400</td>\n",
       "      <td>9.343611</td>\n",
       "    </tr>\n",
       "    <tr>\n",
       "      <th>операции с недвижимостью</th>\n",
       "      <td>10754</td>\n",
       "      <td>780</td>\n",
       "      <td>7.253115</td>\n",
       "    </tr>\n",
       "    <tr>\n",
       "      <th>получение образования</th>\n",
       "      <td>3989</td>\n",
       "      <td>369</td>\n",
       "      <td>9.250439</td>\n",
       "    </tr>\n",
       "    <tr>\n",
       "      <th>проведение свадьбы</th>\n",
       "      <td>2324</td>\n",
       "      <td>183</td>\n",
       "      <td>7.874355</td>\n",
       "    </tr>\n",
       "  </tbody>\n",
       "</table>\n",
       "</div>"
      ],
      "text/plain": [
       "                          amount  debt  group_income_percent\n",
       "purpose_category                                            \n",
       "операции с автомобилем      4281   400              9.343611\n",
       "операции с недвижимостью   10754   780              7.253115\n",
       "получение образования       3989   369              9.250439\n",
       "проведение свадьбы          2324   183              7.874355"
      ]
     },
     "execution_count": 41,
     "metadata": {},
     "output_type": "execute_result"
    }
   ],
   "source": [
    "#Создадим таблицу, сгрупированную как по целям кредита. \n",
    "#в столбце amount указано общее количество заемщиков \n",
    "#в столбце bebt указано, у скольких заемщиков есть задолженность\n",
    "#в столбце debt_age_percent указан процент заемщиков, у которых есть задолженность по сравнению с их общим числом\n",
    "grouped_purpose = data.groupby('purpose_category').agg({'purpose_category': 'count', 'debt': 'sum'})\n",
    "grouped_purpose['group_income_percent'] = grouped_purpose['debt'] / grouped_purpose['purpose_category'] * 100\n",
    "grouped_purpose = grouped_purpose.rename(columns={'purpose_category': 'amount'})\n",
    "grouped_purpose"
   ]
  },
  {
   "cell_type": "markdown",
   "id": "b4bb2ce6",
   "metadata": {
    "deletable": false,
    "id": "b4bb2ce6"
   },
   "source": [
    "**Вывод:** наименьший уровень задолженности наблюдается в группе кредитов, взятых для целей операции с недвижимостью. Возможно, это связано с большей ответственностью заемщиков, так как в качестве санкций за невозврат долга, они могут лишиться недвижимого имущества. На втором месте находятся кредиты, связанные с проведением свадьбы. Наибольший же уровень задолженности у заемщиков, которые берут кредит для получения образования и операций с автомобилем."
   ]
  },
  {
   "cell_type": "markdown",
   "id": "6db5255a",
   "metadata": {
    "deletable": false,
    "editable": false,
    "id": "6db5255a"
   },
   "source": [
    "## Общий вывод."
   ]
  },
  {
   "cell_type": "markdown",
   "id": "bad65432",
   "metadata": {
    "id": "bad65432"
   },
   "source": [
    "1. На уровень возврата кредита явно влияет сам факт наличия детей или их отсутствия. У тех, у кого они есть, уровень задолженности выше, чем у тех, у которых нет детей. При этом существенной разницы между заемщиками с 1 или 2 детьми обнаружить не удалось, а для анализа должников с 3 детьми и более необходима бОльшая выборка, так как текущие данные могут быть не репрезентативны. \n",
    "2. Влияние семейного статуса на уровень возврата кредита обнаружить удалось, однако, по моему мнению, связь наблюдается опосредованная. Уровень задолженности ниже у тех заемщиков, у которых семейных статус ассоциируется со старшим возрастом: разведен/разведена или вдова/вдовец. Для того, чтобы это подтвердить, было проведено дополнительное исследования зависимости возраста и уровеня возрата кредитов, и была обнаружена еще более явная связь. Поэтому лучше при создании скоринговой модели использовать возраст клиента, а не его семейный статус.\n",
    "3. Влияние дохода на уровень задолженности оказалось более неоднозначным. Обнаружилась нелинейная связь: высокий уровень задолженности относительно других групп в рамках всей выборки обнаружился у заемщиков со средним уровнем дохода. При этом если рассматривать различные возрастные группы, то уровень дохода по-разному влияет на уровень задолженности в рамках данных групп. Данный параметр необходимо изучить более внимательно, возможно, проверить на других выборках, чтобы понять причины нелинейной связи.\n",
    "4. Кредиты, которые берутся для операций с недвижимостью, а также для проведения свадьбы, имеют меньший уровень задолженности в отличие от кредитов для получения образования или для приобретения автомобиля, что можно учесть при создании скоринговой модели."
   ]
  }
 ],
 "metadata": {
  "ExecuteTimeLog": [
   {
    "duration": 468,
    "start_time": "2022-07-21T18:54:48.704Z"
   },
   {
    "duration": 22,
    "start_time": "2022-07-21T18:54:50.811Z"
   },
   {
    "duration": 22,
    "start_time": "2022-07-21T18:54:56.576Z"
   },
   {
    "duration": 9,
    "start_time": "2022-07-21T18:55:00.180Z"
   },
   {
    "duration": 32,
    "start_time": "2022-07-21T18:55:57.464Z"
   },
   {
    "duration": 3,
    "start_time": "2022-07-21T18:55:59.199Z"
   },
   {
    "duration": 7,
    "start_time": "2022-07-21T18:56:00.092Z"
   },
   {
    "duration": 5,
    "start_time": "2022-07-21T18:56:06.972Z"
   },
   {
    "duration": 6,
    "start_time": "2022-07-21T18:56:07.261Z"
   },
   {
    "duration": 5,
    "start_time": "2022-07-21T18:56:07.589Z"
   },
   {
    "duration": 39,
    "start_time": "2022-07-21T18:56:08.843Z"
   },
   {
    "duration": 10,
    "start_time": "2022-07-21T18:56:09.753Z"
   },
   {
    "duration": 4,
    "start_time": "2022-07-21T18:56:10.857Z"
   },
   {
    "duration": 18,
    "start_time": "2022-07-21T18:56:11.370Z"
   },
   {
    "duration": 17,
    "start_time": "2022-07-21T18:56:11.577Z"
   },
   {
    "duration": 11,
    "start_time": "2022-07-21T18:56:12.520Z"
   },
   {
    "duration": 4,
    "start_time": "2022-07-21T18:56:15.421Z"
   },
   {
    "duration": 9,
    "start_time": "2022-07-21T18:56:16.500Z"
   },
   {
    "duration": 7,
    "start_time": "2022-07-21T18:56:17.106Z"
   },
   {
    "duration": 4,
    "start_time": "2022-07-21T18:56:18.522Z"
   },
   {
    "duration": 8,
    "start_time": "2022-07-21T18:56:20.109Z"
   },
   {
    "duration": 12,
    "start_time": "2022-07-21T19:07:26.981Z"
   },
   {
    "duration": 8,
    "start_time": "2022-07-21T19:09:16.352Z"
   },
   {
    "duration": 11,
    "start_time": "2022-07-21T19:09:23.343Z"
   },
   {
    "duration": 12,
    "start_time": "2022-07-21T19:10:52.703Z"
   },
   {
    "duration": 16,
    "start_time": "2022-07-21T19:11:01.494Z"
   },
   {
    "duration": 51,
    "start_time": "2022-07-22T08:02:57.956Z"
   },
   {
    "duration": 576,
    "start_time": "2022-07-22T08:03:01.185Z"
   },
   {
    "duration": 24,
    "start_time": "2022-07-22T08:03:01.763Z"
   },
   {
    "duration": 58,
    "start_time": "2022-07-22T08:03:01.788Z"
   },
   {
    "duration": 28,
    "start_time": "2022-07-22T08:03:01.848Z"
   },
   {
    "duration": 63,
    "start_time": "2022-07-22T08:03:01.877Z"
   },
   {
    "duration": 4,
    "start_time": "2022-07-22T08:03:01.942Z"
   },
   {
    "duration": 24,
    "start_time": "2022-07-22T08:03:01.947Z"
   },
   {
    "duration": 22,
    "start_time": "2022-07-22T08:03:01.973Z"
   },
   {
    "duration": 85,
    "start_time": "2022-07-22T08:03:01.996Z"
   },
   {
    "duration": 10,
    "start_time": "2022-07-22T08:03:02.084Z"
   },
   {
    "duration": 73,
    "start_time": "2022-07-22T08:03:02.096Z"
   },
   {
    "duration": 10,
    "start_time": "2022-07-22T08:03:02.171Z"
   },
   {
    "duration": 34,
    "start_time": "2022-07-22T08:03:02.183Z"
   },
   {
    "duration": 50,
    "start_time": "2022-07-22T08:03:02.220Z"
   },
   {
    "duration": 21,
    "start_time": "2022-07-22T08:03:02.271Z"
   },
   {
    "duration": 12,
    "start_time": "2022-07-22T08:03:02.294Z"
   },
   {
    "duration": 37,
    "start_time": "2022-07-22T08:03:02.308Z"
   },
   {
    "duration": 16,
    "start_time": "2022-07-22T08:03:02.347Z"
   },
   {
    "duration": 19,
    "start_time": "2022-07-22T08:03:02.365Z"
   },
   {
    "duration": 11,
    "start_time": "2022-07-22T08:03:02.386Z"
   },
   {
    "duration": 27,
    "start_time": "2022-07-22T08:03:02.399Z"
   },
   {
    "duration": 20,
    "start_time": "2022-07-22T08:03:02.428Z"
   },
   {
    "duration": 590,
    "start_time": "2022-07-22T08:03:02.450Z"
   },
   {
    "duration": 2,
    "start_time": "2022-07-22T08:03:03.043Z"
   },
   {
    "duration": 7,
    "start_time": "2022-07-22T08:03:03.049Z"
   },
   {
    "duration": 2,
    "start_time": "2022-07-22T08:03:03.441Z"
   },
   {
    "duration": 121,
    "start_time": "2022-07-22T08:03:28.845Z"
   },
   {
    "duration": 12,
    "start_time": "2022-07-22T08:11:56.915Z"
   },
   {
    "duration": 13,
    "start_time": "2022-07-22T08:12:18.354Z"
   },
   {
    "duration": 13,
    "start_time": "2022-07-22T08:12:56.734Z"
   },
   {
    "duration": 13,
    "start_time": "2022-07-22T08:13:08.791Z"
   },
   {
    "duration": 13,
    "start_time": "2022-07-22T08:14:53.651Z"
   },
   {
    "duration": 8,
    "start_time": "2022-07-22T08:15:03.090Z"
   },
   {
    "duration": 13,
    "start_time": "2022-07-22T08:15:11.341Z"
   },
   {
    "duration": 15,
    "start_time": "2022-07-22T08:49:02.365Z"
   },
   {
    "duration": 17,
    "start_time": "2022-07-22T09:00:10.865Z"
   },
   {
    "duration": 18,
    "start_time": "2022-07-22T09:00:27.025Z"
   },
   {
    "duration": 5,
    "start_time": "2022-07-22T09:09:35.904Z"
   },
   {
    "duration": 98,
    "start_time": "2022-07-22T09:18:38.830Z"
   },
   {
    "duration": 76,
    "start_time": "2022-07-22T09:18:43.004Z"
   },
   {
    "duration": 5,
    "start_time": "2022-07-22T09:18:47.960Z"
   },
   {
    "duration": 39,
    "start_time": "2022-07-22T09:19:29.377Z"
   },
   {
    "duration": 8,
    "start_time": "2022-07-22T09:19:38.745Z"
   },
   {
    "duration": 11,
    "start_time": "2022-07-22T09:19:44.735Z"
   },
   {
    "duration": 15,
    "start_time": "2022-07-22T09:21:41.555Z"
   },
   {
    "duration": 3,
    "start_time": "2022-07-22T09:22:48.105Z"
   },
   {
    "duration": 11,
    "start_time": "2022-07-22T09:22:48.849Z"
   },
   {
    "duration": 15,
    "start_time": "2022-07-22T09:22:52.057Z"
   },
   {
    "duration": 4,
    "start_time": "2022-07-22T09:57:28.536Z"
   },
   {
    "duration": 15,
    "start_time": "2022-07-22T09:57:52.268Z"
   },
   {
    "duration": 5,
    "start_time": "2022-07-22T09:57:59.839Z"
   },
   {
    "duration": 74,
    "start_time": "2022-07-22T09:59:02.513Z"
   },
   {
    "duration": 7,
    "start_time": "2022-07-22T09:59:08.195Z"
   },
   {
    "duration": 14,
    "start_time": "2022-07-22T09:59:48.122Z"
   },
   {
    "duration": 16,
    "start_time": "2022-07-22T09:59:51.907Z"
   },
   {
    "duration": 6,
    "start_time": "2022-07-22T10:00:16.114Z"
   },
   {
    "duration": 6,
    "start_time": "2022-07-22T10:03:58.999Z"
   },
   {
    "duration": 6,
    "start_time": "2022-07-22T10:04:01.926Z"
   },
   {
    "duration": 53,
    "start_time": "2022-07-23T16:07:06.746Z"
   },
   {
    "duration": 44,
    "start_time": "2022-07-23T16:07:51.360Z"
   },
   {
    "duration": 645,
    "start_time": "2022-07-23T16:08:06.653Z"
   },
   {
    "duration": 27,
    "start_time": "2022-07-23T16:08:07.344Z"
   },
   {
    "duration": 20,
    "start_time": "2022-07-23T16:08:07.405Z"
   },
   {
    "duration": 11,
    "start_time": "2022-07-23T16:08:07.542Z"
   },
   {
    "duration": 34,
    "start_time": "2022-07-23T16:08:07.603Z"
   },
   {
    "duration": 4,
    "start_time": "2022-07-23T16:08:07.738Z"
   },
   {
    "duration": 7,
    "start_time": "2022-07-23T16:08:07.764Z"
   },
   {
    "duration": 4,
    "start_time": "2022-07-23T16:08:07.861Z"
   },
   {
    "duration": 7,
    "start_time": "2022-07-23T16:08:07.945Z"
   },
   {
    "duration": 4,
    "start_time": "2022-07-23T16:08:08.240Z"
   },
   {
    "duration": 35,
    "start_time": "2022-07-23T16:08:08.790Z"
   },
   {
    "duration": 11,
    "start_time": "2022-07-23T16:08:08.866Z"
   },
   {
    "duration": 4,
    "start_time": "2022-07-23T16:08:08.967Z"
   },
   {
    "duration": 18,
    "start_time": "2022-07-23T16:08:09.062Z"
   },
   {
    "duration": 15,
    "start_time": "2022-07-23T16:08:09.089Z"
   },
   {
    "duration": 11,
    "start_time": "2022-07-23T16:08:09.154Z"
   },
   {
    "duration": 3,
    "start_time": "2022-07-23T16:08:09.259Z"
   },
   {
    "duration": 9,
    "start_time": "2022-07-23T16:08:09.288Z"
   },
   {
    "duration": 6,
    "start_time": "2022-07-23T16:08:09.355Z"
   },
   {
    "duration": 3,
    "start_time": "2022-07-23T16:08:09.450Z"
   },
   {
    "duration": 21,
    "start_time": "2022-07-23T16:08:09.455Z"
   },
   {
    "duration": 14,
    "start_time": "2022-07-23T16:08:09.551Z"
   },
   {
    "duration": 14,
    "start_time": "2022-07-23T16:08:10.484Z"
   },
   {
    "duration": 3,
    "start_time": "2022-07-23T16:08:11.275Z"
   },
   {
    "duration": 11,
    "start_time": "2022-07-23T16:08:12.446Z"
   },
   {
    "duration": 15,
    "start_time": "2022-07-23T16:08:12.608Z"
   },
   {
    "duration": 6,
    "start_time": "2022-07-23T16:08:14.001Z"
   },
   {
    "duration": 4,
    "start_time": "2022-07-23T16:08:14.251Z"
   },
   {
    "duration": 282,
    "start_time": "2022-07-23T16:13:39.043Z"
   },
   {
    "duration": 4,
    "start_time": "2022-07-23T16:14:30.391Z"
   },
   {
    "duration": 52755,
    "start_time": "2022-07-23T16:14:31.405Z"
   },
   {
    "duration": 52579,
    "start_time": "2022-07-23T16:15:36.945Z"
   },
   {
    "duration": 5,
    "start_time": "2022-07-23T16:19:49.810Z"
   },
   {
    "duration": 6,
    "start_time": "2022-07-23T16:21:22.407Z"
   },
   {
    "duration": 63070,
    "start_time": "2022-07-23T16:21:25.542Z"
   },
   {
    "duration": 6,
    "start_time": "2022-07-23T16:24:32.573Z"
   },
   {
    "duration": 17,
    "start_time": "2022-07-23T16:31:20.917Z"
   },
   {
    "duration": 622,
    "start_time": "2022-07-24T07:02:40.077Z"
   },
   {
    "duration": 30,
    "start_time": "2022-07-24T07:02:41.772Z"
   },
   {
    "duration": 24,
    "start_time": "2022-07-24T07:02:42.211Z"
   },
   {
    "duration": 12,
    "start_time": "2022-07-24T07:02:44.085Z"
   },
   {
    "duration": 41,
    "start_time": "2022-07-24T07:02:45.453Z"
   },
   {
    "duration": 5,
    "start_time": "2022-07-24T07:02:46.056Z"
   },
   {
    "duration": 8,
    "start_time": "2022-07-24T07:02:46.433Z"
   },
   {
    "duration": 4,
    "start_time": "2022-07-24T07:02:47.719Z"
   },
   {
    "duration": 8,
    "start_time": "2022-07-24T07:02:48.065Z"
   },
   {
    "duration": 5,
    "start_time": "2022-07-24T07:02:49.492Z"
   },
   {
    "duration": 38,
    "start_time": "2022-07-24T07:02:49.589Z"
   },
   {
    "duration": 12,
    "start_time": "2022-07-24T07:02:49.655Z"
   },
   {
    "duration": 4,
    "start_time": "2022-07-24T07:02:49.754Z"
   },
   {
    "duration": 21,
    "start_time": "2022-07-24T07:02:49.850Z"
   },
   {
    "duration": 27,
    "start_time": "2022-07-24T07:02:49.882Z"
   },
   {
    "duration": 13,
    "start_time": "2022-07-24T07:02:49.948Z"
   },
   {
    "duration": 4,
    "start_time": "2022-07-24T07:02:50.069Z"
   },
   {
    "duration": 40,
    "start_time": "2022-07-24T07:02:50.078Z"
   },
   {
    "duration": 26,
    "start_time": "2022-07-24T07:02:50.148Z"
   },
   {
    "duration": 15,
    "start_time": "2022-07-24T07:02:50.216Z"
   },
   {
    "duration": 48,
    "start_time": "2022-07-24T07:02:50.243Z"
   },
   {
    "duration": 16,
    "start_time": "2022-07-24T07:02:50.341Z"
   },
   {
    "duration": 18,
    "start_time": "2022-07-24T07:02:50.436Z"
   },
   {
    "duration": 3,
    "start_time": "2022-07-24T07:02:50.537Z"
   },
   {
    "duration": 12,
    "start_time": "2022-07-24T07:02:50.568Z"
   },
   {
    "duration": 17,
    "start_time": "2022-07-24T07:02:50.600Z"
   },
   {
    "duration": 6,
    "start_time": "2022-07-24T07:02:50.697Z"
   },
   {
    "duration": 4,
    "start_time": "2022-07-24T07:02:50.733Z"
   },
   {
    "duration": 70988,
    "start_time": "2022-07-24T07:02:50.762Z"
   },
   {
    "duration": 18,
    "start_time": "2022-07-24T07:04:01.752Z"
   },
   {
    "duration": 40,
    "start_time": "2022-07-24T07:04:01.772Z"
   },
   {
    "duration": 8,
    "start_time": "2022-07-24T07:24:06.519Z"
   },
   {
    "duration": 81,
    "start_time": "2022-07-24T07:27:40.571Z"
   },
   {
    "duration": 80,
    "start_time": "2022-07-24T07:27:49.249Z"
   },
   {
    "duration": 5,
    "start_time": "2022-07-24T07:28:04.892Z"
   },
   {
    "duration": 50310,
    "start_time": "2022-07-24T07:28:07.503Z"
   },
   {
    "duration": 52837,
    "start_time": "2022-07-24T07:30:38.730Z"
   },
   {
    "duration": 24,
    "start_time": "2022-07-24T07:31:41.835Z"
   },
   {
    "duration": 88,
    "start_time": "2022-07-24T07:33:39.263Z"
   },
   {
    "duration": 34,
    "start_time": "2022-07-24T07:33:45.889Z"
   },
   {
    "duration": 111,
    "start_time": "2022-07-24T07:35:31.467Z"
   },
   {
    "duration": 22,
    "start_time": "2022-07-24T07:35:54.987Z"
   },
   {
    "duration": 6,
    "start_time": "2022-07-24T07:37:17.934Z"
   },
   {
    "duration": 20,
    "start_time": "2022-07-24T07:38:15.312Z"
   },
   {
    "duration": 22,
    "start_time": "2022-07-24T07:39:06.061Z"
   },
   {
    "duration": 9,
    "start_time": "2022-07-24T07:39:36.445Z"
   },
   {
    "duration": 5,
    "start_time": "2022-07-24T07:41:05.173Z"
   },
   {
    "duration": 9,
    "start_time": "2022-07-24T07:41:12.568Z"
   },
   {
    "duration": 13,
    "start_time": "2022-07-24T07:41:17.693Z"
   },
   {
    "duration": 8,
    "start_time": "2022-07-24T07:41:22.654Z"
   },
   {
    "duration": 21,
    "start_time": "2022-07-24T07:41:25.310Z"
   },
   {
    "duration": 8,
    "start_time": "2022-07-24T07:51:11.333Z"
   },
   {
    "duration": 14,
    "start_time": "2022-07-24T07:51:18.168Z"
   },
   {
    "duration": 9,
    "start_time": "2022-07-24T07:51:30.055Z"
   },
   {
    "duration": 8,
    "start_time": "2022-07-24T08:00:52.211Z"
   },
   {
    "duration": 4,
    "start_time": "2022-07-24T08:01:44.452Z"
   },
   {
    "duration": 4,
    "start_time": "2022-07-24T08:01:44.790Z"
   },
   {
    "duration": 30,
    "start_time": "2022-07-24T08:03:14.282Z"
   },
   {
    "duration": 9,
    "start_time": "2022-07-24T08:03:19.738Z"
   },
   {
    "duration": 5,
    "start_time": "2022-07-24T08:03:32.317Z"
   },
   {
    "duration": 19,
    "start_time": "2022-07-24T08:03:36.934Z"
   },
   {
    "duration": 5,
    "start_time": "2022-07-24T08:05:11.491Z"
   },
   {
    "duration": 20,
    "start_time": "2022-07-24T08:05:12.596Z"
   },
   {
    "duration": 22,
    "start_time": "2022-07-24T08:05:25.986Z"
   },
   {
    "duration": 64396,
    "start_time": "2022-07-24T08:07:07.170Z"
   },
   {
    "duration": 18,
    "start_time": "2022-07-24T08:11:05.077Z"
   },
   {
    "duration": 89,
    "start_time": "2022-07-24T08:11:49.039Z"
   },
   {
    "duration": 19,
    "start_time": "2022-07-24T08:12:04.798Z"
   },
   {
    "duration": 6,
    "start_time": "2022-07-24T08:13:28.536Z"
   },
   {
    "duration": 15,
    "start_time": "2022-07-24T08:13:45.473Z"
   },
   {
    "duration": 7,
    "start_time": "2022-07-24T08:15:58.327Z"
   },
   {
    "duration": 66675,
    "start_time": "2022-07-24T08:17:53.038Z"
   },
   {
    "duration": 24,
    "start_time": "2022-07-24T08:19:06.994Z"
   },
   {
    "duration": 88,
    "start_time": "2022-07-24T08:22:47.097Z"
   },
   {
    "duration": 17,
    "start_time": "2022-07-24T08:22:47.440Z"
   },
   {
    "duration": 27,
    "start_time": "2022-07-24T08:22:47.799Z"
   },
   {
    "duration": 12,
    "start_time": "2022-07-24T08:22:48.457Z"
   },
   {
    "duration": 50,
    "start_time": "2022-07-24T08:22:48.789Z"
   },
   {
    "duration": 4,
    "start_time": "2022-07-24T08:22:49.998Z"
   },
   {
    "duration": 10,
    "start_time": "2022-07-24T08:22:50.355Z"
   },
   {
    "duration": 8,
    "start_time": "2022-07-24T08:22:52.002Z"
   },
   {
    "duration": 13,
    "start_time": "2022-07-24T08:22:52.417Z"
   },
   {
    "duration": 6,
    "start_time": "2022-07-24T08:22:52.832Z"
   },
   {
    "duration": 51,
    "start_time": "2022-07-24T08:22:54.074Z"
   },
   {
    "duration": 12,
    "start_time": "2022-07-24T08:22:54.445Z"
   },
   {
    "duration": 7,
    "start_time": "2022-07-24T08:22:55.707Z"
   },
   {
    "duration": 20,
    "start_time": "2022-07-24T08:22:56.241Z"
   },
   {
    "duration": 20,
    "start_time": "2022-07-24T08:22:58.053Z"
   },
   {
    "duration": 15,
    "start_time": "2022-07-24T08:22:58.371Z"
   },
   {
    "duration": 5,
    "start_time": "2022-07-24T08:22:59.473Z"
   },
   {
    "duration": 12,
    "start_time": "2022-07-24T08:23:26.483Z"
   },
   {
    "duration": 7,
    "start_time": "2022-07-24T08:23:27.479Z"
   },
   {
    "duration": 6,
    "start_time": "2022-07-24T08:23:30.414Z"
   },
   {
    "duration": 9,
    "start_time": "2022-07-24T08:23:30.723Z"
   },
   {
    "duration": 17,
    "start_time": "2022-07-24T08:23:34.923Z"
   },
   {
    "duration": 22,
    "start_time": "2022-07-24T08:23:40.361Z"
   },
   {
    "duration": 4,
    "start_time": "2022-07-24T08:23:42.183Z"
   },
   {
    "duration": 13,
    "start_time": "2022-07-24T08:23:44.086Z"
   },
   {
    "duration": 23,
    "start_time": "2022-07-24T08:23:46.854Z"
   },
   {
    "duration": 6,
    "start_time": "2022-07-24T08:23:54.894Z"
   },
   {
    "duration": 24,
    "start_time": "2022-07-24T08:24:03.273Z"
   },
   {
    "duration": 16,
    "start_time": "2022-07-24T08:25:23.756Z"
   },
   {
    "duration": 73291,
    "start_time": "2022-07-24T08:27:05.945Z"
   },
   {
    "duration": 73145,
    "start_time": "2022-07-24T08:29:59.326Z"
   },
   {
    "duration": 100,
    "start_time": "2022-07-24T08:32:45.828Z"
   },
   {
    "duration": 1247,
    "start_time": "2022-07-24T08:33:01.076Z"
   },
   {
    "duration": 17,
    "start_time": "2022-07-24T08:33:36.645Z"
   },
   {
    "duration": 31,
    "start_time": "2022-07-24T08:34:27.225Z"
   },
   {
    "duration": 24,
    "start_time": "2022-07-24T08:34:47.572Z"
   },
   {
    "duration": 16,
    "start_time": "2022-07-24T08:35:35.193Z"
   },
   {
    "duration": 23,
    "start_time": "2022-07-24T08:35:37.787Z"
   },
   {
    "duration": 27,
    "start_time": "2022-07-24T08:36:23.846Z"
   },
   {
    "duration": 24,
    "start_time": "2022-07-24T08:36:40.593Z"
   },
   {
    "duration": 73,
    "start_time": "2022-07-24T08:37:50.060Z"
   },
   {
    "duration": 25,
    "start_time": "2022-07-24T08:37:50.445Z"
   },
   {
    "duration": 25,
    "start_time": "2022-07-24T08:37:50.780Z"
   },
   {
    "duration": 18,
    "start_time": "2022-07-24T08:37:51.666Z"
   },
   {
    "duration": 47,
    "start_time": "2022-07-24T08:37:53.412Z"
   },
   {
    "duration": 4,
    "start_time": "2022-07-24T08:37:53.897Z"
   },
   {
    "duration": 8,
    "start_time": "2022-07-24T08:37:54.800Z"
   },
   {
    "duration": 5,
    "start_time": "2022-07-24T08:37:55.261Z"
   },
   {
    "duration": 7,
    "start_time": "2022-07-24T08:37:55.591Z"
   },
   {
    "duration": 4,
    "start_time": "2022-07-24T08:37:56.461Z"
   },
   {
    "duration": 39,
    "start_time": "2022-07-24T08:37:57.163Z"
   },
   {
    "duration": 12,
    "start_time": "2022-07-24T08:37:58.945Z"
   },
   {
    "duration": 4,
    "start_time": "2022-07-24T08:37:59.458Z"
   },
   {
    "duration": 21,
    "start_time": "2022-07-24T08:38:01.038Z"
   },
   {
    "duration": 19,
    "start_time": "2022-07-24T08:38:01.204Z"
   },
   {
    "duration": 12,
    "start_time": "2022-07-24T08:38:02.415Z"
   },
   {
    "duration": 6,
    "start_time": "2022-07-24T08:38:08.225Z"
   },
   {
    "duration": 4,
    "start_time": "2022-07-24T08:38:19.664Z"
   },
   {
    "duration": 12,
    "start_time": "2022-07-24T08:38:23.918Z"
   },
   {
    "duration": 9,
    "start_time": "2022-07-24T08:38:24.396Z"
   },
   {
    "duration": 4,
    "start_time": "2022-07-24T08:38:27.487Z"
   },
   {
    "duration": 11,
    "start_time": "2022-07-24T08:38:27.855Z"
   },
   {
    "duration": 14,
    "start_time": "2022-07-24T08:38:29.092Z"
   },
   {
    "duration": 17,
    "start_time": "2022-07-24T08:38:31.419Z"
   },
   {
    "duration": 5,
    "start_time": "2022-07-24T08:38:31.863Z"
   },
   {
    "duration": 12,
    "start_time": "2022-07-24T08:38:32.483Z"
   },
   {
    "duration": 17,
    "start_time": "2022-07-24T08:38:32.646Z"
   },
   {
    "duration": 16,
    "start_time": "2022-07-24T08:38:33.848Z"
   },
   {
    "duration": 4,
    "start_time": "2022-07-24T08:38:35.554Z"
   },
   {
    "duration": 69870,
    "start_time": "2022-07-24T08:38:35.814Z"
   },
   {
    "duration": 25,
    "start_time": "2022-07-24T08:39:45.686Z"
   },
   {
    "duration": 4,
    "start_time": "2022-07-24T08:39:45.713Z"
   },
   {
    "duration": 84,
    "start_time": "2022-07-24T08:41:40.758Z"
   },
   {
    "duration": 25,
    "start_time": "2022-07-24T08:41:41.207Z"
   },
   {
    "duration": 16,
    "start_time": "2022-07-24T08:41:41.572Z"
   },
   {
    "duration": 11,
    "start_time": "2022-07-24T08:41:42.320Z"
   },
   {
    "duration": 38,
    "start_time": "2022-07-24T08:41:42.649Z"
   },
   {
    "duration": 4,
    "start_time": "2022-07-24T08:41:43.162Z"
   },
   {
    "duration": 8,
    "start_time": "2022-07-24T08:41:43.551Z"
   },
   {
    "duration": 5,
    "start_time": "2022-07-24T08:41:44.246Z"
   },
   {
    "duration": 5,
    "start_time": "2022-07-24T08:41:44.700Z"
   },
   {
    "duration": 5,
    "start_time": "2022-07-24T08:41:45.119Z"
   },
   {
    "duration": 44,
    "start_time": "2022-07-24T08:41:45.774Z"
   },
   {
    "duration": 12,
    "start_time": "2022-07-24T08:41:46.157Z"
   },
   {
    "duration": 5,
    "start_time": "2022-07-24T08:41:46.770Z"
   },
   {
    "duration": 21,
    "start_time": "2022-07-24T08:41:47.352Z"
   },
   {
    "duration": 22,
    "start_time": "2022-07-24T08:41:47.553Z"
   },
   {
    "duration": 13,
    "start_time": "2022-07-24T08:41:47.942Z"
   },
   {
    "duration": 4,
    "start_time": "2022-07-24T08:41:48.784Z"
   },
   {
    "duration": 13,
    "start_time": "2022-07-24T08:41:48.791Z"
   },
   {
    "duration": 6,
    "start_time": "2022-07-24T08:41:49.875Z"
   },
   {
    "duration": 3,
    "start_time": "2022-07-24T08:41:52.540Z"
   },
   {
    "duration": 10,
    "start_time": "2022-07-24T08:41:52.905Z"
   },
   {
    "duration": 14,
    "start_time": "2022-07-24T08:41:53.918Z"
   },
   {
    "duration": 19,
    "start_time": "2022-07-24T08:41:56.402Z"
   },
   {
    "duration": 4,
    "start_time": "2022-07-24T08:41:58.641Z"
   },
   {
    "duration": 14,
    "start_time": "2022-07-24T08:42:00.392Z"
   },
   {
    "duration": 18,
    "start_time": "2022-07-24T08:42:04.027Z"
   },
   {
    "duration": 4,
    "start_time": "2022-07-24T08:42:18.210Z"
   },
   {
    "duration": 71265,
    "start_time": "2022-07-24T08:42:23.997Z"
   },
   {
    "duration": 20,
    "start_time": "2022-07-24T08:43:35.264Z"
   },
   {
    "duration": 18,
    "start_time": "2022-07-24T08:45:26.425Z"
   },
   {
    "duration": 4,
    "start_time": "2022-07-24T08:45:51.006Z"
   },
   {
    "duration": 51298,
    "start_time": "2022-07-24T08:45:54.185Z"
   },
   {
    "duration": 27,
    "start_time": "2022-07-24T08:46:53.938Z"
   },
   {
    "duration": 88,
    "start_time": "2022-07-24T08:47:09.241Z"
   },
   {
    "duration": 14,
    "start_time": "2022-07-24T08:47:09.882Z"
   },
   {
    "duration": 22,
    "start_time": "2022-07-24T08:47:11.441Z"
   },
   {
    "duration": 4,
    "start_time": "2022-07-24T08:47:20.616Z"
   },
   {
    "duration": 66916,
    "start_time": "2022-07-24T08:47:21.484Z"
   },
   {
    "duration": 26,
    "start_time": "2022-07-24T08:48:28.403Z"
   },
   {
    "duration": 17,
    "start_time": "2022-07-24T08:48:47.598Z"
   },
   {
    "duration": 3,
    "start_time": "2022-07-24T08:50:20.429Z"
   },
   {
    "duration": 49457,
    "start_time": "2022-07-24T08:51:03.719Z"
   },
   {
    "duration": 1304,
    "start_time": "2022-07-24T08:52:00.009Z"
   },
   {
    "duration": 24,
    "start_time": "2022-07-24T08:52:26.223Z"
   },
   {
    "duration": 24,
    "start_time": "2022-07-24T08:53:23.293Z"
   },
   {
    "duration": 17,
    "start_time": "2022-07-24T08:53:47.943Z"
   },
   {
    "duration": 11,
    "start_time": "2022-07-24T09:01:33.176Z"
   },
   {
    "duration": 74,
    "start_time": "2022-07-24T12:37:12.845Z"
   },
   {
    "duration": 6,
    "start_time": "2022-07-24T12:37:16.448Z"
   },
   {
    "duration": 14,
    "start_time": "2022-07-24T12:37:32.230Z"
   },
   {
    "duration": 13,
    "start_time": "2022-07-24T12:49:31.955Z"
   },
   {
    "duration": 24,
    "start_time": "2022-07-24T12:50:18.407Z"
   },
   {
    "duration": 12,
    "start_time": "2022-07-24T12:52:14.971Z"
   },
   {
    "duration": 12,
    "start_time": "2022-07-24T12:52:31.672Z"
   },
   {
    "duration": 10,
    "start_time": "2022-07-24T12:52:57.994Z"
   },
   {
    "duration": 26,
    "start_time": "2022-07-24T12:53:20.664Z"
   },
   {
    "duration": 11,
    "start_time": "2022-07-24T12:53:39.369Z"
   },
   {
    "duration": 5,
    "start_time": "2022-07-24T12:54:16.645Z"
   },
   {
    "duration": 22,
    "start_time": "2022-07-24T12:54:24.501Z"
   },
   {
    "duration": 28,
    "start_time": "2022-07-24T13:01:00.593Z"
   },
   {
    "duration": 892,
    "start_time": "2022-07-24T13:01:04.875Z"
   },
   {
    "duration": 388,
    "start_time": "2022-07-24T13:01:26.050Z"
   },
   {
    "duration": 14,
    "start_time": "2022-07-24T13:01:31.266Z"
   },
   {
    "duration": 34,
    "start_time": "2022-07-24T13:01:38.052Z"
   },
   {
    "duration": 1344,
    "start_time": "2022-07-24T13:23:18.906Z"
   },
   {
    "duration": 26,
    "start_time": "2022-07-24T13:23:42.659Z"
   },
   {
    "duration": 1420,
    "start_time": "2022-07-24T13:23:53.522Z"
   },
   {
    "duration": 22,
    "start_time": "2022-07-24T13:24:20.047Z"
   },
   {
    "duration": 21,
    "start_time": "2022-07-24T13:24:57.695Z"
   },
   {
    "duration": 515,
    "start_time": "2022-07-24T15:27:10.540Z"
   },
   {
    "duration": 19,
    "start_time": "2022-07-24T15:27:11.056Z"
   },
   {
    "duration": 13,
    "start_time": "2022-07-24T15:27:11.076Z"
   },
   {
    "duration": 7,
    "start_time": "2022-07-24T15:27:11.091Z"
   },
   {
    "duration": 28,
    "start_time": "2022-07-24T15:27:11.100Z"
   },
   {
    "duration": 23,
    "start_time": "2022-07-24T15:27:11.130Z"
   },
   {
    "duration": 12,
    "start_time": "2022-07-24T15:27:11.155Z"
   },
   {
    "duration": 4,
    "start_time": "2022-07-24T15:27:11.168Z"
   },
   {
    "duration": 7,
    "start_time": "2022-07-24T15:27:11.174Z"
   },
   {
    "duration": 4,
    "start_time": "2022-07-24T15:27:11.184Z"
   },
   {
    "duration": 31,
    "start_time": "2022-07-24T15:27:11.190Z"
   },
   {
    "duration": 35,
    "start_time": "2022-07-24T15:27:11.222Z"
   },
   {
    "duration": 3,
    "start_time": "2022-07-24T15:27:11.259Z"
   },
   {
    "duration": 22,
    "start_time": "2022-07-24T15:27:11.263Z"
   },
   {
    "duration": 15,
    "start_time": "2022-07-24T15:27:11.287Z"
   },
   {
    "duration": 10,
    "start_time": "2022-07-24T15:27:11.304Z"
   },
   {
    "duration": 5,
    "start_time": "2022-07-24T15:27:11.315Z"
   },
   {
    "duration": 34,
    "start_time": "2022-07-24T15:27:11.321Z"
   },
   {
    "duration": 7,
    "start_time": "2022-07-24T15:27:11.356Z"
   },
   {
    "duration": 4,
    "start_time": "2022-07-24T15:27:11.364Z"
   },
   {
    "duration": 12,
    "start_time": "2022-07-24T15:27:11.369Z"
   },
   {
    "duration": 13,
    "start_time": "2022-07-24T15:27:11.382Z"
   },
   {
    "duration": 12,
    "start_time": "2022-07-24T15:27:11.396Z"
   },
   {
    "duration": 3,
    "start_time": "2022-07-24T15:27:11.409Z"
   },
   {
    "duration": 11,
    "start_time": "2022-07-24T15:27:11.413Z"
   },
   {
    "duration": 38,
    "start_time": "2022-07-24T15:27:11.425Z"
   },
   {
    "duration": 14,
    "start_time": "2022-07-24T15:27:11.464Z"
   },
   {
    "duration": 4,
    "start_time": "2022-07-24T15:27:11.480Z"
   },
   {
    "duration": 56915,
    "start_time": "2022-07-24T15:27:11.485Z"
   },
   {
    "duration": 14,
    "start_time": "2022-07-24T15:28:08.402Z"
   },
   {
    "duration": 3,
    "start_time": "2022-07-24T15:28:08.418Z"
   },
   {
    "duration": 40636,
    "start_time": "2022-07-24T15:28:08.423Z"
   },
   {
    "duration": 13,
    "start_time": "2022-07-24T15:28:49.060Z"
   },
   {
    "duration": 65,
    "start_time": "2022-07-24T15:28:49.074Z"
   },
   {
    "duration": 7,
    "start_time": "2022-07-24T15:28:49.141Z"
   },
   {
    "duration": 22,
    "start_time": "2022-07-24T15:28:49.150Z"
   },
   {
    "duration": 2,
    "start_time": "2022-07-24T15:28:49.174Z"
   },
   {
    "duration": 38094,
    "start_time": "2022-07-24T15:28:49.178Z"
   },
   {
    "duration": 14,
    "start_time": "2022-07-24T15:29:27.274Z"
   },
   {
    "duration": 18,
    "start_time": "2022-07-24T15:29:27.290Z"
   },
   {
    "duration": 14,
    "start_time": "2022-07-24T15:29:27.310Z"
   }
  ],
  "celltoolbar": "Edit Metadata",
  "colab": {
   "name": "dpp_template_part2.ipynb",
   "provenance": []
  },
  "kernelspec": {
   "display_name": "Python 3 (ipykernel)",
   "language": "python",
   "name": "python3"
  },
  "language_info": {
   "codemirror_mode": {
    "name": "ipython",
    "version": 3
   },
   "file_extension": ".py",
   "mimetype": "text/x-python",
   "name": "python",
   "nbconvert_exporter": "python",
   "pygments_lexer": "ipython3",
   "version": "3.9.7"
  },
  "toc": {
   "base_numbering": 1,
   "nav_menu": {},
   "number_sections": true,
   "sideBar": true,
   "skip_h1_title": true,
   "title_cell": "Table of Contents",
   "title_sidebar": "Contents",
   "toc_cell": false,
   "toc_position": {},
   "toc_section_display": true,
   "toc_window_display": true
  }
 },
 "nbformat": 4,
 "nbformat_minor": 5
}
