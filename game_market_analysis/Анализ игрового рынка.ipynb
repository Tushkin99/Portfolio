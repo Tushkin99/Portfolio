{
 "cells": [
  {
   "cell_type": "markdown",
   "metadata": {},
   "source": [
    "# Анализ игрового рынка"
   ]
  },
  {
   "cell_type": "markdown",
   "metadata": {},
   "source": [
    "Я работаю в интернет-магазине «Стримчик», который продаёт по всему миру компьютерные игры. Из открытых источников доступны исторические данные о продажах игр, оценки пользователей и экспертов, жанры и платформы (например, Xbox или PlayStation). Мне нужно выявить определяющие успешность игры закономерности. Это позволит сделать ставку на потенциально популярный продукт и спланировать рекламные кампании."
   ]
  },
  {
   "cell_type": "markdown",
   "metadata": {},
   "source": [
    "**Описание данных**:\n",
    "- Name — название игры\n",
    "- Platform — платформа\n",
    "- Year_of_Release — год выпуска\n",
    "- Genre — жанр игры\n",
    "- NA_sales — продажи в Северной Америке (миллионы проданных копий)\n",
    "- EU_sales — продажи в Европе (миллионы проданных копий)\n",
    "- JP_sales — продажи в Японии (миллионы проданных копий)\n",
    "- Other_sales — продажи в других странах (миллионы проданных копий)\n",
    "- Critic_Score — оценка критиков (максимум 100)\n",
    "- User_Score — оценка пользователей (максимум 10)\n",
    "- Rating — рейтинг от организации ESRB (англ. Entertainment Software Rating Board). Эта ассоциация определяет рейтинг компьютерных игр и присваивает им подходящую возрастную категорию."
   ]
  },
  {
   "cell_type": "markdown",
   "metadata": {},
   "source": [
    "## Изучение общей информации "
   ]
  },
  {
   "cell_type": "code",
   "execution_count": 1,
   "metadata": {},
   "outputs": [],
   "source": [
    "import pandas as pd\n",
    "import warnings\n",
    "warnings.filterwarnings('ignore')\n",
    "import matplotlib.pyplot as plt\n",
    "import seaborn as sns\n",
    "import scipy.stats as stats"
   ]
  },
  {
   "cell_type": "code",
   "execution_count": 2,
   "metadata": {},
   "outputs": [],
   "source": [
    "df = pd.read_csv('/.../games.csv')"
   ]
  },
  {
   "cell_type": "code",
   "execution_count": 3,
   "metadata": {},
   "outputs": [
    {
     "data": {
      "text/html": [
       "<div>\n",
       "<style scoped>\n",
       "    .dataframe tbody tr th:only-of-type {\n",
       "        vertical-align: middle;\n",
       "    }\n",
       "\n",
       "    .dataframe tbody tr th {\n",
       "        vertical-align: top;\n",
       "    }\n",
       "\n",
       "    .dataframe thead th {\n",
       "        text-align: right;\n",
       "    }\n",
       "</style>\n",
       "<table border=\"1\" class=\"dataframe\">\n",
       "  <thead>\n",
       "    <tr style=\"text-align: right;\">\n",
       "      <th></th>\n",
       "      <th>Name</th>\n",
       "      <th>Platform</th>\n",
       "      <th>Year_of_Release</th>\n",
       "      <th>Genre</th>\n",
       "      <th>NA_sales</th>\n",
       "      <th>EU_sales</th>\n",
       "      <th>JP_sales</th>\n",
       "      <th>Other_sales</th>\n",
       "      <th>Critic_Score</th>\n",
       "      <th>User_Score</th>\n",
       "      <th>Rating</th>\n",
       "    </tr>\n",
       "  </thead>\n",
       "  <tbody>\n",
       "    <tr>\n",
       "      <th>0</th>\n",
       "      <td>Wii Sports</td>\n",
       "      <td>Wii</td>\n",
       "      <td>2006.0</td>\n",
       "      <td>Sports</td>\n",
       "      <td>41.36</td>\n",
       "      <td>28.96</td>\n",
       "      <td>3.77</td>\n",
       "      <td>8.45</td>\n",
       "      <td>76.0</td>\n",
       "      <td>8</td>\n",
       "      <td>E</td>\n",
       "    </tr>\n",
       "    <tr>\n",
       "      <th>1</th>\n",
       "      <td>Super Mario Bros.</td>\n",
       "      <td>NES</td>\n",
       "      <td>1985.0</td>\n",
       "      <td>Platform</td>\n",
       "      <td>29.08</td>\n",
       "      <td>3.58</td>\n",
       "      <td>6.81</td>\n",
       "      <td>0.77</td>\n",
       "      <td>NaN</td>\n",
       "      <td>NaN</td>\n",
       "      <td>NaN</td>\n",
       "    </tr>\n",
       "    <tr>\n",
       "      <th>2</th>\n",
       "      <td>Mario Kart Wii</td>\n",
       "      <td>Wii</td>\n",
       "      <td>2008.0</td>\n",
       "      <td>Racing</td>\n",
       "      <td>15.68</td>\n",
       "      <td>12.76</td>\n",
       "      <td>3.79</td>\n",
       "      <td>3.29</td>\n",
       "      <td>82.0</td>\n",
       "      <td>8.3</td>\n",
       "      <td>E</td>\n",
       "    </tr>\n",
       "    <tr>\n",
       "      <th>3</th>\n",
       "      <td>Wii Sports Resort</td>\n",
       "      <td>Wii</td>\n",
       "      <td>2009.0</td>\n",
       "      <td>Sports</td>\n",
       "      <td>15.61</td>\n",
       "      <td>10.93</td>\n",
       "      <td>3.28</td>\n",
       "      <td>2.95</td>\n",
       "      <td>80.0</td>\n",
       "      <td>8</td>\n",
       "      <td>E</td>\n",
       "    </tr>\n",
       "    <tr>\n",
       "      <th>4</th>\n",
       "      <td>Pokemon Red/Pokemon Blue</td>\n",
       "      <td>GB</td>\n",
       "      <td>1996.0</td>\n",
       "      <td>Role-Playing</td>\n",
       "      <td>11.27</td>\n",
       "      <td>8.89</td>\n",
       "      <td>10.22</td>\n",
       "      <td>1.00</td>\n",
       "      <td>NaN</td>\n",
       "      <td>NaN</td>\n",
       "      <td>NaN</td>\n",
       "    </tr>\n",
       "  </tbody>\n",
       "</table>\n",
       "</div>"
      ],
      "text/plain": [
       "                       Name Platform  Year_of_Release         Genre  NA_sales  \\\n",
       "0                Wii Sports      Wii           2006.0        Sports     41.36   \n",
       "1         Super Mario Bros.      NES           1985.0      Platform     29.08   \n",
       "2            Mario Kart Wii      Wii           2008.0        Racing     15.68   \n",
       "3         Wii Sports Resort      Wii           2009.0        Sports     15.61   \n",
       "4  Pokemon Red/Pokemon Blue       GB           1996.0  Role-Playing     11.27   \n",
       "\n",
       "   EU_sales  JP_sales  Other_sales  Critic_Score User_Score Rating  \n",
       "0     28.96      3.77         8.45          76.0          8      E  \n",
       "1      3.58      6.81         0.77           NaN        NaN    NaN  \n",
       "2     12.76      3.79         3.29          82.0        8.3      E  \n",
       "3     10.93      3.28         2.95          80.0          8      E  \n",
       "4      8.89     10.22         1.00           NaN        NaN    NaN  "
      ]
     },
     "execution_count": 3,
     "metadata": {},
     "output_type": "execute_result"
    }
   ],
   "source": [
    "df.head()"
   ]
  },
  {
   "cell_type": "code",
   "execution_count": 4,
   "metadata": {
    "scrolled": true
   },
   "outputs": [
    {
     "data": {
      "text/plain": [
       "(16715, 11)"
      ]
     },
     "execution_count": 4,
     "metadata": {},
     "output_type": "execute_result"
    }
   ],
   "source": [
    "df.shape"
   ]
  },
  {
   "cell_type": "markdown",
   "metadata": {},
   "source": [
    "В датасете присутствует более 16 тысяч игр и 11 признаков."
   ]
  },
  {
   "cell_type": "code",
   "execution_count": 5,
   "metadata": {
    "scrolled": true
   },
   "outputs": [
    {
     "name": "stdout",
     "output_type": "stream",
     "text": [
      "<class 'pandas.core.frame.DataFrame'>\n",
      "RangeIndex: 16715 entries, 0 to 16714\n",
      "Data columns (total 11 columns):\n",
      " #   Column           Non-Null Count  Dtype  \n",
      "---  ------           --------------  -----  \n",
      " 0   Name             16713 non-null  object \n",
      " 1   Platform         16715 non-null  object \n",
      " 2   Year_of_Release  16446 non-null  float64\n",
      " 3   Genre            16713 non-null  object \n",
      " 4   NA_sales         16715 non-null  float64\n",
      " 5   EU_sales         16715 non-null  float64\n",
      " 6   JP_sales         16715 non-null  float64\n",
      " 7   Other_sales      16715 non-null  float64\n",
      " 8   Critic_Score     8137 non-null   float64\n",
      " 9   User_Score       10014 non-null  object \n",
      " 10  Rating           9949 non-null   object \n",
      "dtypes: float64(6), object(5)\n",
      "memory usage: 1.4+ MB\n"
     ]
    }
   ],
   "source": [
    "df.info()"
   ]
  },
  {
   "cell_type": "markdown",
   "metadata": {},
   "source": [
    "В большинстве полей нет пропусков, однако в последних 3 полях пропусков достаточно много - почти половина."
   ]
  },
  {
   "cell_type": "code",
   "execution_count": 6,
   "metadata": {},
   "outputs": [
    {
     "data": {
      "text/html": [
       "<div>\n",
       "<style scoped>\n",
       "    .dataframe tbody tr th:only-of-type {\n",
       "        vertical-align: middle;\n",
       "    }\n",
       "\n",
       "    .dataframe tbody tr th {\n",
       "        vertical-align: top;\n",
       "    }\n",
       "\n",
       "    .dataframe thead th {\n",
       "        text-align: right;\n",
       "    }\n",
       "</style>\n",
       "<table border=\"1\" class=\"dataframe\">\n",
       "  <thead>\n",
       "    <tr style=\"text-align: right;\">\n",
       "      <th></th>\n",
       "      <th>Year_of_Release</th>\n",
       "      <th>NA_sales</th>\n",
       "      <th>EU_sales</th>\n",
       "      <th>JP_sales</th>\n",
       "      <th>Other_sales</th>\n",
       "      <th>Critic_Score</th>\n",
       "    </tr>\n",
       "  </thead>\n",
       "  <tbody>\n",
       "    <tr>\n",
       "      <th>count</th>\n",
       "      <td>16446.000000</td>\n",
       "      <td>16715.000000</td>\n",
       "      <td>16715.000000</td>\n",
       "      <td>16715.000000</td>\n",
       "      <td>16715.000000</td>\n",
       "      <td>8137.000000</td>\n",
       "    </tr>\n",
       "    <tr>\n",
       "      <th>mean</th>\n",
       "      <td>2006.484616</td>\n",
       "      <td>0.263377</td>\n",
       "      <td>0.145060</td>\n",
       "      <td>0.077617</td>\n",
       "      <td>0.047342</td>\n",
       "      <td>68.967679</td>\n",
       "    </tr>\n",
       "    <tr>\n",
       "      <th>std</th>\n",
       "      <td>5.877050</td>\n",
       "      <td>0.813604</td>\n",
       "      <td>0.503339</td>\n",
       "      <td>0.308853</td>\n",
       "      <td>0.186731</td>\n",
       "      <td>13.938165</td>\n",
       "    </tr>\n",
       "    <tr>\n",
       "      <th>min</th>\n",
       "      <td>1980.000000</td>\n",
       "      <td>0.000000</td>\n",
       "      <td>0.000000</td>\n",
       "      <td>0.000000</td>\n",
       "      <td>0.000000</td>\n",
       "      <td>13.000000</td>\n",
       "    </tr>\n",
       "    <tr>\n",
       "      <th>25%</th>\n",
       "      <td>2003.000000</td>\n",
       "      <td>0.000000</td>\n",
       "      <td>0.000000</td>\n",
       "      <td>0.000000</td>\n",
       "      <td>0.000000</td>\n",
       "      <td>60.000000</td>\n",
       "    </tr>\n",
       "    <tr>\n",
       "      <th>50%</th>\n",
       "      <td>2007.000000</td>\n",
       "      <td>0.080000</td>\n",
       "      <td>0.020000</td>\n",
       "      <td>0.000000</td>\n",
       "      <td>0.010000</td>\n",
       "      <td>71.000000</td>\n",
       "    </tr>\n",
       "    <tr>\n",
       "      <th>75%</th>\n",
       "      <td>2010.000000</td>\n",
       "      <td>0.240000</td>\n",
       "      <td>0.110000</td>\n",
       "      <td>0.040000</td>\n",
       "      <td>0.030000</td>\n",
       "      <td>79.000000</td>\n",
       "    </tr>\n",
       "    <tr>\n",
       "      <th>max</th>\n",
       "      <td>2016.000000</td>\n",
       "      <td>41.360000</td>\n",
       "      <td>28.960000</td>\n",
       "      <td>10.220000</td>\n",
       "      <td>10.570000</td>\n",
       "      <td>98.000000</td>\n",
       "    </tr>\n",
       "  </tbody>\n",
       "</table>\n",
       "</div>"
      ],
      "text/plain": [
       "       Year_of_Release      NA_sales      EU_sales      JP_sales  \\\n",
       "count     16446.000000  16715.000000  16715.000000  16715.000000   \n",
       "mean       2006.484616      0.263377      0.145060      0.077617   \n",
       "std           5.877050      0.813604      0.503339      0.308853   \n",
       "min        1980.000000      0.000000      0.000000      0.000000   \n",
       "25%        2003.000000      0.000000      0.000000      0.000000   \n",
       "50%        2007.000000      0.080000      0.020000      0.000000   \n",
       "75%        2010.000000      0.240000      0.110000      0.040000   \n",
       "max        2016.000000     41.360000     28.960000     10.220000   \n",
       "\n",
       "        Other_sales  Critic_Score  \n",
       "count  16715.000000   8137.000000  \n",
       "mean       0.047342     68.967679  \n",
       "std        0.186731     13.938165  \n",
       "min        0.000000     13.000000  \n",
       "25%        0.000000     60.000000  \n",
       "50%        0.010000     71.000000  \n",
       "75%        0.030000     79.000000  \n",
       "max       10.570000     98.000000  "
      ]
     },
     "execution_count": 6,
     "metadata": {},
     "output_type": "execute_result"
    }
   ],
   "source": [
    "df.describe()"
   ]
  },
  {
   "cell_type": "markdown",
   "metadata": {},
   "source": [
    "В данных представлены игры с 1980 по 2016 года. Важно отметить, что у большого количества игр были нулевые продажи в различных регионов, ну или данных по ним нет, а в полях указаны нули."
   ]
  },
  {
   "cell_type": "markdown",
   "metadata": {},
   "source": [
    "##  Подготовка данных"
   ]
  },
  {
   "cell_type": "markdown",
   "metadata": {},
   "source": [
    "### Замена названий столбцов"
   ]
  },
  {
   "cell_type": "code",
   "execution_count": 7,
   "metadata": {},
   "outputs": [],
   "source": [
    "#напишем функцию, которая уменьшает регистр всех колонок в датафрейме\n",
    "def lowercase_columns(df):\n",
    "    renamed_columns = {col: col.lower() for col in df.columns}\n",
    "    df = df.rename(columns=renamed_columns)\n",
    "    return df"
   ]
  },
  {
   "cell_type": "code",
   "execution_count": 8,
   "metadata": {},
   "outputs": [
    {
     "data": {
      "text/html": [
       "<div>\n",
       "<style scoped>\n",
       "    .dataframe tbody tr th:only-of-type {\n",
       "        vertical-align: middle;\n",
       "    }\n",
       "\n",
       "    .dataframe tbody tr th {\n",
       "        vertical-align: top;\n",
       "    }\n",
       "\n",
       "    .dataframe thead th {\n",
       "        text-align: right;\n",
       "    }\n",
       "</style>\n",
       "<table border=\"1\" class=\"dataframe\">\n",
       "  <thead>\n",
       "    <tr style=\"text-align: right;\">\n",
       "      <th></th>\n",
       "      <th>name</th>\n",
       "      <th>platform</th>\n",
       "      <th>year_of_release</th>\n",
       "      <th>genre</th>\n",
       "      <th>na_sales</th>\n",
       "      <th>eu_sales</th>\n",
       "      <th>jp_sales</th>\n",
       "      <th>other_sales</th>\n",
       "      <th>critic_score</th>\n",
       "      <th>user_score</th>\n",
       "      <th>rating</th>\n",
       "    </tr>\n",
       "  </thead>\n",
       "  <tbody>\n",
       "    <tr>\n",
       "      <th>0</th>\n",
       "      <td>Wii Sports</td>\n",
       "      <td>Wii</td>\n",
       "      <td>2006.0</td>\n",
       "      <td>Sports</td>\n",
       "      <td>41.36</td>\n",
       "      <td>28.96</td>\n",
       "      <td>3.77</td>\n",
       "      <td>8.45</td>\n",
       "      <td>76.0</td>\n",
       "      <td>8</td>\n",
       "      <td>E</td>\n",
       "    </tr>\n",
       "    <tr>\n",
       "      <th>1</th>\n",
       "      <td>Super Mario Bros.</td>\n",
       "      <td>NES</td>\n",
       "      <td>1985.0</td>\n",
       "      <td>Platform</td>\n",
       "      <td>29.08</td>\n",
       "      <td>3.58</td>\n",
       "      <td>6.81</td>\n",
       "      <td>0.77</td>\n",
       "      <td>NaN</td>\n",
       "      <td>NaN</td>\n",
       "      <td>NaN</td>\n",
       "    </tr>\n",
       "    <tr>\n",
       "      <th>2</th>\n",
       "      <td>Mario Kart Wii</td>\n",
       "      <td>Wii</td>\n",
       "      <td>2008.0</td>\n",
       "      <td>Racing</td>\n",
       "      <td>15.68</td>\n",
       "      <td>12.76</td>\n",
       "      <td>3.79</td>\n",
       "      <td>3.29</td>\n",
       "      <td>82.0</td>\n",
       "      <td>8.3</td>\n",
       "      <td>E</td>\n",
       "    </tr>\n",
       "    <tr>\n",
       "      <th>3</th>\n",
       "      <td>Wii Sports Resort</td>\n",
       "      <td>Wii</td>\n",
       "      <td>2009.0</td>\n",
       "      <td>Sports</td>\n",
       "      <td>15.61</td>\n",
       "      <td>10.93</td>\n",
       "      <td>3.28</td>\n",
       "      <td>2.95</td>\n",
       "      <td>80.0</td>\n",
       "      <td>8</td>\n",
       "      <td>E</td>\n",
       "    </tr>\n",
       "    <tr>\n",
       "      <th>4</th>\n",
       "      <td>Pokemon Red/Pokemon Blue</td>\n",
       "      <td>GB</td>\n",
       "      <td>1996.0</td>\n",
       "      <td>Role-Playing</td>\n",
       "      <td>11.27</td>\n",
       "      <td>8.89</td>\n",
       "      <td>10.22</td>\n",
       "      <td>1.00</td>\n",
       "      <td>NaN</td>\n",
       "      <td>NaN</td>\n",
       "      <td>NaN</td>\n",
       "    </tr>\n",
       "  </tbody>\n",
       "</table>\n",
       "</div>"
      ],
      "text/plain": [
       "                       name platform  year_of_release         genre  na_sales  \\\n",
       "0                Wii Sports      Wii           2006.0        Sports     41.36   \n",
       "1         Super Mario Bros.      NES           1985.0      Platform     29.08   \n",
       "2            Mario Kart Wii      Wii           2008.0        Racing     15.68   \n",
       "3         Wii Sports Resort      Wii           2009.0        Sports     15.61   \n",
       "4  Pokemon Red/Pokemon Blue       GB           1996.0  Role-Playing     11.27   \n",
       "\n",
       "   eu_sales  jp_sales  other_sales  critic_score user_score rating  \n",
       "0     28.96      3.77         8.45          76.0          8      E  \n",
       "1      3.58      6.81         0.77           NaN        NaN    NaN  \n",
       "2     12.76      3.79         3.29          82.0        8.3      E  \n",
       "3     10.93      3.28         2.95          80.0          8      E  \n",
       "4      8.89     10.22         1.00           NaN        NaN    NaN  "
      ]
     },
     "execution_count": 8,
     "metadata": {},
     "output_type": "execute_result"
    }
   ],
   "source": [
    "#применяем функцию\n",
    "df = lowercase_columns(df)\n",
    "df.head()"
   ]
  },
  {
   "cell_type": "markdown",
   "metadata": {},
   "source": [
    "### Преобразование данных в нужные типы"
   ]
  },
  {
   "cell_type": "code",
   "execution_count": 9,
   "metadata": {},
   "outputs": [
    {
     "data": {
      "text/plain": [
       "name                object\n",
       "platform            object\n",
       "year_of_release    float64\n",
       "genre               object\n",
       "na_sales           float64\n",
       "eu_sales           float64\n",
       "jp_sales           float64\n",
       "other_sales        float64\n",
       "critic_score       float64\n",
       "user_score          object\n",
       "rating              object\n",
       "dtype: object"
      ]
     },
     "execution_count": 9,
     "metadata": {},
     "output_type": "execute_result"
    }
   ],
   "source": [
    "#посмтотрим, данные какого типа находятся в датафрейме\n",
    "df.dtypes"
   ]
  },
  {
   "cell_type": "code",
   "execution_count": 10,
   "metadata": {},
   "outputs": [],
   "source": [
    "#изменим тип данных столбца с годом релиза с числового с плавающей точкой на object, чтобы не было ситуации, что год дробтится\n",
    "df['year_of_release'] = df['year_of_release'].astype('object')"
   ]
  },
  {
   "cell_type": "code",
   "execution_count": 11,
   "metadata": {},
   "outputs": [
    {
     "data": {
      "text/plain": [
       "array(['8', nan, '8.3', '8.5', '6.6', '8.4', '8.6', '7.7', '6.3', '7.4',\n",
       "       '8.2', '9', '7.9', '8.1', '8.7', '7.1', '3.4', '5.3', '4.8', '3.2',\n",
       "       '8.9', '6.4', '7.8', '7.5', '2.6', '7.2', '9.2', '7', '7.3', '4.3',\n",
       "       '7.6', '5.7', '5', '9.1', '6.5', 'tbd', '8.8', '6.9', '9.4', '6.8',\n",
       "       '6.1', '6.7', '5.4', '4', '4.9', '4.5', '9.3', '6.2', '4.2', '6',\n",
       "       '3.7', '4.1', '5.8', '5.6', '5.5', '4.4', '4.6', '5.9', '3.9',\n",
       "       '3.1', '2.9', '5.2', '3.3', '4.7', '5.1', '3.5', '2.5', '1.9', '3',\n",
       "       '2.7', '2.2', '2', '9.5', '2.1', '3.6', '2.8', '1.8', '3.8', '0',\n",
       "       '1.6', '9.6', '2.4', '1.7', '1.1', '0.3', '1.5', '0.7', '1.2',\n",
       "       '2.3', '0.5', '1.3', '0.2', '0.6', '1.4', '0.9', '1', '9.7'],\n",
       "      dtype=object)"
      ]
     },
     "execution_count": 11,
     "metadata": {},
     "output_type": "execute_result"
    }
   ],
   "source": [
    "#необходимо заменить тип данных столбца user_score с object на float64\n",
    "df['user_score'].unique()"
   ]
  },
  {
   "cell_type": "markdown",
   "metadata": {},
   "source": [
    "Мы видим, что в одном из юникальных значений присутствует строка 'tbd' (\"To Be Determined\"), поэтому при конвертации типа данных заменим ее на отстутсвующее значение. "
   ]
  },
  {
   "cell_type": "code",
   "execution_count": 12,
   "metadata": {},
   "outputs": [],
   "source": [
    "df['user_score'] = pd.to_numeric(df['user_score'], errors='coerce')"
   ]
  },
  {
   "cell_type": "code",
   "execution_count": 13,
   "metadata": {},
   "outputs": [
    {
     "data": {
      "text/plain": [
       "name                object\n",
       "platform            object\n",
       "year_of_release     object\n",
       "genre               object\n",
       "na_sales           float64\n",
       "eu_sales           float64\n",
       "jp_sales           float64\n",
       "other_sales        float64\n",
       "critic_score       float64\n",
       "user_score         float64\n",
       "rating              object\n",
       "dtype: object"
      ]
     },
     "execution_count": 13,
     "metadata": {},
     "output_type": "execute_result"
    }
   ],
   "source": [
    "df.dtypes"
   ]
  },
  {
   "cell_type": "markdown",
   "metadata": {},
   "source": [
    "**Вывод**: типы данных заменены в ряде полей."
   ]
  },
  {
   "cell_type": "markdown",
   "metadata": {},
   "source": [
    "### Обработка пропусков. "
   ]
  },
  {
   "cell_type": "code",
   "execution_count": 14,
   "metadata": {},
   "outputs": [
    {
     "name": "stdout",
     "output_type": "stream",
     "text": [
      "<class 'pandas.core.frame.DataFrame'>\n",
      "RangeIndex: 16715 entries, 0 to 16714\n",
      "Data columns (total 11 columns):\n",
      " #   Column           Non-Null Count  Dtype  \n",
      "---  ------           --------------  -----  \n",
      " 0   name             16713 non-null  object \n",
      " 1   platform         16715 non-null  object \n",
      " 2   year_of_release  16446 non-null  object \n",
      " 3   genre            16713 non-null  object \n",
      " 4   na_sales         16715 non-null  float64\n",
      " 5   eu_sales         16715 non-null  float64\n",
      " 6   jp_sales         16715 non-null  float64\n",
      " 7   other_sales      16715 non-null  float64\n",
      " 8   critic_score     8137 non-null   float64\n",
      " 9   user_score       7590 non-null   float64\n",
      " 10  rating           9949 non-null   object \n",
      "dtypes: float64(6), object(5)\n",
      "memory usage: 1.4+ MB\n"
     ]
    }
   ],
   "source": [
    "#еще раз посмотрим, в каких столбцах присутствуют пропуски\n",
    "df.info()"
   ]
  },
  {
   "cell_type": "code",
   "execution_count": 15,
   "metadata": {},
   "outputs": [
    {
     "data": {
      "text/html": [
       "<div>\n",
       "<style scoped>\n",
       "    .dataframe tbody tr th:only-of-type {\n",
       "        vertical-align: middle;\n",
       "    }\n",
       "\n",
       "    .dataframe tbody tr th {\n",
       "        vertical-align: top;\n",
       "    }\n",
       "\n",
       "    .dataframe thead th {\n",
       "        text-align: right;\n",
       "    }\n",
       "</style>\n",
       "<table border=\"1\" class=\"dataframe\">\n",
       "  <thead>\n",
       "    <tr style=\"text-align: right;\">\n",
       "      <th></th>\n",
       "      <th>name</th>\n",
       "      <th>platform</th>\n",
       "      <th>year_of_release</th>\n",
       "      <th>genre</th>\n",
       "      <th>na_sales</th>\n",
       "      <th>eu_sales</th>\n",
       "      <th>jp_sales</th>\n",
       "      <th>other_sales</th>\n",
       "      <th>critic_score</th>\n",
       "      <th>user_score</th>\n",
       "      <th>rating</th>\n",
       "    </tr>\n",
       "  </thead>\n",
       "  <tbody>\n",
       "    <tr>\n",
       "      <th>659</th>\n",
       "      <td>NaN</td>\n",
       "      <td>GEN</td>\n",
       "      <td>1993.0</td>\n",
       "      <td>NaN</td>\n",
       "      <td>1.78</td>\n",
       "      <td>0.53</td>\n",
       "      <td>0.00</td>\n",
       "      <td>0.08</td>\n",
       "      <td>NaN</td>\n",
       "      <td>NaN</td>\n",
       "      <td>NaN</td>\n",
       "    </tr>\n",
       "    <tr>\n",
       "      <th>14244</th>\n",
       "      <td>NaN</td>\n",
       "      <td>GEN</td>\n",
       "      <td>1993.0</td>\n",
       "      <td>NaN</td>\n",
       "      <td>0.00</td>\n",
       "      <td>0.00</td>\n",
       "      <td>0.03</td>\n",
       "      <td>0.00</td>\n",
       "      <td>NaN</td>\n",
       "      <td>NaN</td>\n",
       "      <td>NaN</td>\n",
       "    </tr>\n",
       "  </tbody>\n",
       "</table>\n",
       "</div>"
      ],
      "text/plain": [
       "      name platform year_of_release genre  na_sales  eu_sales  jp_sales  \\\n",
       "659    NaN      GEN          1993.0   NaN      1.78      0.53      0.00   \n",
       "14244  NaN      GEN          1993.0   NaN      0.00      0.00      0.03   \n",
       "\n",
       "       other_sales  critic_score  user_score rating  \n",
       "659           0.08           NaN         NaN    NaN  \n",
       "14244         0.00           NaN         NaN    NaN  "
      ]
     },
     "execution_count": 15,
     "metadata": {},
     "output_type": "execute_result"
    }
   ],
   "source": [
    "#посмотрим, что за строки, где в играх отсутствуют названия\n",
    "df[df['name'].isna()]"
   ]
  },
  {
   "cell_type": "code",
   "execution_count": 16,
   "metadata": {},
   "outputs": [],
   "source": [
    "#удалим эти строки, так как они не несут никакой полезной информации\n",
    "df = df.dropna(subset=['name'])"
   ]
  },
  {
   "cell_type": "markdown",
   "metadata": {},
   "source": [
    "Есть ряд игр, где не отображен год релиза, однако их незначительное количетсво. Можно оставить как есть. Значительно большая проблема наблюдается в последних трех столбцах, где почти половина значений отсутствует. С последним столбцом мы точно ничего не сможем сделать, так как там категориальные данные. Мы могли бы в столбцах с critic_score и user_score указать медианные значения всей выборки, но тогда бы мы сильно ее исказили, так как в таком случае распределение было бы сильно искажено в центре. Поэтому оставим так, как есть, но будем иметь в виду, что в данных столбцах данные неполные."
   ]
  },
  {
   "cell_type": "markdown",
   "metadata": {},
   "source": [
    "**Вывод**: удалили пропуски там, где могли."
   ]
  },
  {
   "cell_type": "markdown",
   "metadata": {},
   "source": [
    "### Создание новых столбцов"
   ]
  },
  {
   "cell_type": "code",
   "execution_count": 17,
   "metadata": {},
   "outputs": [],
   "source": [
    "#создадим новый столбец, где бы указывалась суммарные объемы продажи игры по всем регионам"
   ]
  },
  {
   "cell_type": "code",
   "execution_count": 18,
   "metadata": {
    "scrolled": true
   },
   "outputs": [],
   "source": [
    "df['amount_sales'] = df['na_sales'] + df['eu_sales'] + df['jp_sales'] + df['other_sales']"
   ]
  },
  {
   "cell_type": "code",
   "execution_count": 19,
   "metadata": {
    "scrolled": true
   },
   "outputs": [
    {
     "data": {
      "text/html": [
       "<div>\n",
       "<style scoped>\n",
       "    .dataframe tbody tr th:only-of-type {\n",
       "        vertical-align: middle;\n",
       "    }\n",
       "\n",
       "    .dataframe tbody tr th {\n",
       "        vertical-align: top;\n",
       "    }\n",
       "\n",
       "    .dataframe thead th {\n",
       "        text-align: right;\n",
       "    }\n",
       "</style>\n",
       "<table border=\"1\" class=\"dataframe\">\n",
       "  <thead>\n",
       "    <tr style=\"text-align: right;\">\n",
       "      <th></th>\n",
       "      <th>name</th>\n",
       "      <th>platform</th>\n",
       "      <th>year_of_release</th>\n",
       "      <th>genre</th>\n",
       "      <th>na_sales</th>\n",
       "      <th>eu_sales</th>\n",
       "      <th>jp_sales</th>\n",
       "      <th>other_sales</th>\n",
       "      <th>critic_score</th>\n",
       "      <th>user_score</th>\n",
       "      <th>rating</th>\n",
       "      <th>amount_sales</th>\n",
       "    </tr>\n",
       "  </thead>\n",
       "  <tbody>\n",
       "    <tr>\n",
       "      <th>0</th>\n",
       "      <td>Wii Sports</td>\n",
       "      <td>Wii</td>\n",
       "      <td>2006.0</td>\n",
       "      <td>Sports</td>\n",
       "      <td>41.36</td>\n",
       "      <td>28.96</td>\n",
       "      <td>3.77</td>\n",
       "      <td>8.45</td>\n",
       "      <td>76.0</td>\n",
       "      <td>8.0</td>\n",
       "      <td>E</td>\n",
       "      <td>82.54</td>\n",
       "    </tr>\n",
       "    <tr>\n",
       "      <th>1</th>\n",
       "      <td>Super Mario Bros.</td>\n",
       "      <td>NES</td>\n",
       "      <td>1985.0</td>\n",
       "      <td>Platform</td>\n",
       "      <td>29.08</td>\n",
       "      <td>3.58</td>\n",
       "      <td>6.81</td>\n",
       "      <td>0.77</td>\n",
       "      <td>NaN</td>\n",
       "      <td>NaN</td>\n",
       "      <td>NaN</td>\n",
       "      <td>40.24</td>\n",
       "    </tr>\n",
       "    <tr>\n",
       "      <th>2</th>\n",
       "      <td>Mario Kart Wii</td>\n",
       "      <td>Wii</td>\n",
       "      <td>2008.0</td>\n",
       "      <td>Racing</td>\n",
       "      <td>15.68</td>\n",
       "      <td>12.76</td>\n",
       "      <td>3.79</td>\n",
       "      <td>3.29</td>\n",
       "      <td>82.0</td>\n",
       "      <td>8.3</td>\n",
       "      <td>E</td>\n",
       "      <td>35.52</td>\n",
       "    </tr>\n",
       "    <tr>\n",
       "      <th>3</th>\n",
       "      <td>Wii Sports Resort</td>\n",
       "      <td>Wii</td>\n",
       "      <td>2009.0</td>\n",
       "      <td>Sports</td>\n",
       "      <td>15.61</td>\n",
       "      <td>10.93</td>\n",
       "      <td>3.28</td>\n",
       "      <td>2.95</td>\n",
       "      <td>80.0</td>\n",
       "      <td>8.0</td>\n",
       "      <td>E</td>\n",
       "      <td>32.77</td>\n",
       "    </tr>\n",
       "    <tr>\n",
       "      <th>4</th>\n",
       "      <td>Pokemon Red/Pokemon Blue</td>\n",
       "      <td>GB</td>\n",
       "      <td>1996.0</td>\n",
       "      <td>Role-Playing</td>\n",
       "      <td>11.27</td>\n",
       "      <td>8.89</td>\n",
       "      <td>10.22</td>\n",
       "      <td>1.00</td>\n",
       "      <td>NaN</td>\n",
       "      <td>NaN</td>\n",
       "      <td>NaN</td>\n",
       "      <td>31.38</td>\n",
       "    </tr>\n",
       "  </tbody>\n",
       "</table>\n",
       "</div>"
      ],
      "text/plain": [
       "                       name platform year_of_release         genre  na_sales  \\\n",
       "0                Wii Sports      Wii          2006.0        Sports     41.36   \n",
       "1         Super Mario Bros.      NES          1985.0      Platform     29.08   \n",
       "2            Mario Kart Wii      Wii          2008.0        Racing     15.68   \n",
       "3         Wii Sports Resort      Wii          2009.0        Sports     15.61   \n",
       "4  Pokemon Red/Pokemon Blue       GB          1996.0  Role-Playing     11.27   \n",
       "\n",
       "   eu_sales  jp_sales  other_sales  critic_score  user_score rating  \\\n",
       "0     28.96      3.77         8.45          76.0         8.0      E   \n",
       "1      3.58      6.81         0.77           NaN         NaN    NaN   \n",
       "2     12.76      3.79         3.29          82.0         8.3      E   \n",
       "3     10.93      3.28         2.95          80.0         8.0      E   \n",
       "4      8.89     10.22         1.00           NaN         NaN    NaN   \n",
       "\n",
       "   amount_sales  \n",
       "0         82.54  \n",
       "1         40.24  \n",
       "2         35.52  \n",
       "3         32.77  \n",
       "4         31.38  "
      ]
     },
     "execution_count": 19,
     "metadata": {},
     "output_type": "execute_result"
    }
   ],
   "source": [
    "df.head()"
   ]
  },
  {
   "cell_type": "markdown",
   "metadata": {},
   "source": [
    "**Вывод**: создали необходимый столбец с суммой всех продаж"
   ]
  },
  {
   "cell_type": "markdown",
   "metadata": {},
   "source": [
    "### Проверка на дубликаты"
   ]
  },
  {
   "cell_type": "code",
   "execution_count": 20,
   "metadata": {},
   "outputs": [
    {
     "data": {
      "text/html": [
       "<div>\n",
       "<style scoped>\n",
       "    .dataframe tbody tr th:only-of-type {\n",
       "        vertical-align: middle;\n",
       "    }\n",
       "\n",
       "    .dataframe tbody tr th {\n",
       "        vertical-align: top;\n",
       "    }\n",
       "\n",
       "    .dataframe thead th {\n",
       "        text-align: right;\n",
       "    }\n",
       "</style>\n",
       "<table border=\"1\" class=\"dataframe\">\n",
       "  <thead>\n",
       "    <tr style=\"text-align: right;\">\n",
       "      <th></th>\n",
       "      <th>name</th>\n",
       "      <th>platform</th>\n",
       "      <th>year_of_release</th>\n",
       "      <th>genre</th>\n",
       "      <th>na_sales</th>\n",
       "      <th>eu_sales</th>\n",
       "      <th>jp_sales</th>\n",
       "      <th>other_sales</th>\n",
       "      <th>critic_score</th>\n",
       "      <th>user_score</th>\n",
       "      <th>rating</th>\n",
       "      <th>amount_sales</th>\n",
       "    </tr>\n",
       "  </thead>\n",
       "  <tbody>\n",
       "  </tbody>\n",
       "</table>\n",
       "</div>"
      ],
      "text/plain": [
       "Empty DataFrame\n",
       "Columns: [name, platform, year_of_release, genre, na_sales, eu_sales, jp_sales, other_sales, critic_score, user_score, rating, amount_sales]\n",
       "Index: []"
      ]
     },
     "execution_count": 20,
     "metadata": {},
     "output_type": "execute_result"
    }
   ],
   "source": [
    "#проверим датафрейм на налиличие явных дубликатов\n",
    "df[df.duplicated() == True]"
   ]
  },
  {
   "cell_type": "markdown",
   "metadata": {},
   "source": [
    "Явных дубликатов в датафрейме нет."
   ]
  },
  {
   "cell_type": "code",
   "execution_count": 21,
   "metadata": {
    "scrolled": true
   },
   "outputs": [
    {
     "data": {
      "text/html": [
       "<div>\n",
       "<style scoped>\n",
       "    .dataframe tbody tr th:only-of-type {\n",
       "        vertical-align: middle;\n",
       "    }\n",
       "\n",
       "    .dataframe tbody tr th {\n",
       "        vertical-align: top;\n",
       "    }\n",
       "\n",
       "    .dataframe thead th {\n",
       "        text-align: right;\n",
       "    }\n",
       "</style>\n",
       "<table border=\"1\" class=\"dataframe\">\n",
       "  <thead>\n",
       "    <tr style=\"text-align: right;\">\n",
       "      <th></th>\n",
       "      <th>name</th>\n",
       "      <th>platform</th>\n",
       "      <th>year_of_release</th>\n",
       "      <th>genre</th>\n",
       "      <th>na_sales</th>\n",
       "      <th>eu_sales</th>\n",
       "      <th>jp_sales</th>\n",
       "      <th>other_sales</th>\n",
       "      <th>critic_score</th>\n",
       "      <th>user_score</th>\n",
       "      <th>rating</th>\n",
       "      <th>amount_sales</th>\n",
       "    </tr>\n",
       "  </thead>\n",
       "  <tbody>\n",
       "    <tr>\n",
       "      <th>604</th>\n",
       "      <td>Madden NFL 13</td>\n",
       "      <td>PS3</td>\n",
       "      <td>2012.0</td>\n",
       "      <td>Sports</td>\n",
       "      <td>2.11</td>\n",
       "      <td>0.22</td>\n",
       "      <td>0.0</td>\n",
       "      <td>0.23</td>\n",
       "      <td>83.0</td>\n",
       "      <td>5.5</td>\n",
       "      <td>E</td>\n",
       "      <td>2.56</td>\n",
       "    </tr>\n",
       "    <tr>\n",
       "      <th>16230</th>\n",
       "      <td>Madden NFL 13</td>\n",
       "      <td>PS3</td>\n",
       "      <td>2012.0</td>\n",
       "      <td>Sports</td>\n",
       "      <td>0.00</td>\n",
       "      <td>0.01</td>\n",
       "      <td>0.0</td>\n",
       "      <td>0.00</td>\n",
       "      <td>83.0</td>\n",
       "      <td>5.5</td>\n",
       "      <td>E</td>\n",
       "      <td>0.01</td>\n",
       "    </tr>\n",
       "  </tbody>\n",
       "</table>\n",
       "</div>"
      ],
      "text/plain": [
       "                name platform year_of_release   genre  na_sales  eu_sales  \\\n",
       "604    Madden NFL 13      PS3          2012.0  Sports      2.11      0.22   \n",
       "16230  Madden NFL 13      PS3          2012.0  Sports      0.00      0.01   \n",
       "\n",
       "       jp_sales  other_sales  critic_score  user_score rating  amount_sales  \n",
       "604         0.0         0.23          83.0         5.5      E          2.56  \n",
       "16230       0.0         0.00          83.0         5.5      E          0.01  "
      ]
     },
     "execution_count": 21,
     "metadata": {},
     "output_type": "execute_result"
    }
   ],
   "source": [
    "#проверим датафрейм на наличие неявных дубликатов\n",
    "df[df[['name', 'platform','year_of_release']].duplicated(keep=False)]"
   ]
  },
  {
   "cell_type": "markdown",
   "metadata": {},
   "source": [
    "Был обнаружим один неявный дубликат. Удалим его и проверим, остались ли дубликаты."
   ]
  },
  {
   "cell_type": "code",
   "execution_count": 22,
   "metadata": {
    "scrolled": true
   },
   "outputs": [],
   "source": [
    "df = df.drop_duplicates(subset=['name', 'platform','year_of_release'])"
   ]
  },
  {
   "cell_type": "code",
   "execution_count": 23,
   "metadata": {
    "scrolled": true
   },
   "outputs": [
    {
     "data": {
      "text/html": [
       "<div>\n",
       "<style scoped>\n",
       "    .dataframe tbody tr th:only-of-type {\n",
       "        vertical-align: middle;\n",
       "    }\n",
       "\n",
       "    .dataframe tbody tr th {\n",
       "        vertical-align: top;\n",
       "    }\n",
       "\n",
       "    .dataframe thead th {\n",
       "        text-align: right;\n",
       "    }\n",
       "</style>\n",
       "<table border=\"1\" class=\"dataframe\">\n",
       "  <thead>\n",
       "    <tr style=\"text-align: right;\">\n",
       "      <th></th>\n",
       "      <th>name</th>\n",
       "      <th>platform</th>\n",
       "      <th>year_of_release</th>\n",
       "      <th>genre</th>\n",
       "      <th>na_sales</th>\n",
       "      <th>eu_sales</th>\n",
       "      <th>jp_sales</th>\n",
       "      <th>other_sales</th>\n",
       "      <th>critic_score</th>\n",
       "      <th>user_score</th>\n",
       "      <th>rating</th>\n",
       "      <th>amount_sales</th>\n",
       "    </tr>\n",
       "  </thead>\n",
       "  <tbody>\n",
       "  </tbody>\n",
       "</table>\n",
       "</div>"
      ],
      "text/plain": [
       "Empty DataFrame\n",
       "Columns: [name, platform, year_of_release, genre, na_sales, eu_sales, jp_sales, other_sales, critic_score, user_score, rating, amount_sales]\n",
       "Index: []"
      ]
     },
     "execution_count": 23,
     "metadata": {},
     "output_type": "execute_result"
    }
   ],
   "source": [
    "df[df[['name', 'platform','year_of_release']].duplicated(keep=False)]"
   ]
  },
  {
   "cell_type": "markdown",
   "metadata": {},
   "source": [
    "**Вывод:** были, там где это нужно, изменены типы данных полей. Изучены столбцы с пропусками, удалены дубликаты, а также создан новый столбец с совокупными продажами."
   ]
  },
  {
   "cell_type": "markdown",
   "metadata": {},
   "source": [
    "## Исследовательский анализ данных"
   ]
  },
  {
   "cell_type": "code",
   "execution_count": 28,
   "metadata": {},
   "outputs": [
    {
     "data": {
      "image/png": "[encoded data removed]",
      "text/plain": [
       "<Figure size 1080x720 with 1 Axes>"
      ]
     },
     "metadata": {
      "needs_background": "light"
     },
     "output_type": "display_data"
    }
   ],
   "source": [
    "fig, ax = plt.subplots(figsize=(15, 10))\n",
    "df.groupby('year_of_release')['name'].count().plot()\n",
    "plt.title('Число выпущенных игр по годам')\n",
    "ax.set_xlabel('Годы', fontsize=12)  \n",
    "ax.set_ylabel('Количество выпущенных игр', fontsize=12)\n",
    "plt.show()"
   ]
  },
  {
   "cell_type": "markdown",
   "metadata": {},
   "source": [
    "До примерно 1993 среднее количество выпускаемых игр было совсем небольшим. С середины 1990-ых их выпуск резко начал расти до 1400 штук в год к 2010. Однако в дальнейшим число выпущенных игр резко упало до в среднем 600 в год. При этом в рамках исследования нам не так важны данные за наиболее старые периоды."
   ]
  },
  {
   "cell_type": "markdown",
   "metadata": {},
   "source": [
    "Дальше попробуем посмотреть, динамику выпуска популярных игр по платформам."
   ]
  },
  {
   "cell_type": "code",
   "execution_count": 25,
   "metadata": {},
   "outputs": [
    {
     "data": {
      "text/plain": [
       "Index(['PS2', 'DS', 'PS3', 'Wii', 'X360', 'PSP', 'PS', 'PC', 'XB', 'GBA', 'GC',\n",
       "       '3DS', 'PSV', 'PS4', 'N64', 'XOne', 'SNES', 'SAT', 'WiiU', '2600'],\n",
       "      dtype='object', name='platform')"
      ]
     },
     "execution_count": 25,
     "metadata": {},
     "output_type": "execute_result"
    }
   ],
   "source": [
    "#найдем топ 20 самых популярных платформ\n",
    "popular_platform = df.groupby('platform')['name'].count().sort_values(ascending=False).head(20).index\n",
    "popular_platform"
   ]
  },
  {
   "cell_type": "code",
   "execution_count": 26,
   "metadata": {
    "scrolled": true
   },
   "outputs": [
    {
     "data": {
      "text/html": [
       "<div>\n",
       "<style scoped>\n",
       "    .dataframe tbody tr th:only-of-type {\n",
       "        vertical-align: middle;\n",
       "    }\n",
       "\n",
       "    .dataframe tbody tr th {\n",
       "        vertical-align: top;\n",
       "    }\n",
       "\n",
       "    .dataframe thead th {\n",
       "        text-align: right;\n",
       "    }\n",
       "</style>\n",
       "<table border=\"1\" class=\"dataframe\">\n",
       "  <thead>\n",
       "    <tr style=\"text-align: right;\">\n",
       "      <th></th>\n",
       "      <th>year_of_release</th>\n",
       "      <th>platform</th>\n",
       "      <th>amount</th>\n",
       "    </tr>\n",
       "  </thead>\n",
       "  <tbody>\n",
       "    <tr>\n",
       "      <th>0</th>\n",
       "      <td>1980.0</td>\n",
       "      <td>2600</td>\n",
       "      <td>9</td>\n",
       "    </tr>\n",
       "    <tr>\n",
       "      <th>1</th>\n",
       "      <td>1981.0</td>\n",
       "      <td>2600</td>\n",
       "      <td>46</td>\n",
       "    </tr>\n",
       "    <tr>\n",
       "      <th>2</th>\n",
       "      <td>1982.0</td>\n",
       "      <td>2600</td>\n",
       "      <td>36</td>\n",
       "    </tr>\n",
       "    <tr>\n",
       "      <th>3</th>\n",
       "      <td>1983.0</td>\n",
       "      <td>2600</td>\n",
       "      <td>11</td>\n",
       "    </tr>\n",
       "    <tr>\n",
       "      <th>4</th>\n",
       "      <td>1984.0</td>\n",
       "      <td>2600</td>\n",
       "      <td>1</td>\n",
       "    </tr>\n",
       "    <tr>\n",
       "      <th>...</th>\n",
       "      <td>...</td>\n",
       "      <td>...</td>\n",
       "      <td>...</td>\n",
       "    </tr>\n",
       "    <tr>\n",
       "      <th>182</th>\n",
       "      <td>2016.0</td>\n",
       "      <td>PSV</td>\n",
       "      <td>85</td>\n",
       "    </tr>\n",
       "    <tr>\n",
       "      <th>183</th>\n",
       "      <td>2016.0</td>\n",
       "      <td>Wii</td>\n",
       "      <td>1</td>\n",
       "    </tr>\n",
       "    <tr>\n",
       "      <th>184</th>\n",
       "      <td>2016.0</td>\n",
       "      <td>WiiU</td>\n",
       "      <td>14</td>\n",
       "    </tr>\n",
       "    <tr>\n",
       "      <th>185</th>\n",
       "      <td>2016.0</td>\n",
       "      <td>X360</td>\n",
       "      <td>13</td>\n",
       "    </tr>\n",
       "    <tr>\n",
       "      <th>186</th>\n",
       "      <td>2016.0</td>\n",
       "      <td>XOne</td>\n",
       "      <td>87</td>\n",
       "    </tr>\n",
       "  </tbody>\n",
       "</table>\n",
       "<p>187 rows × 3 columns</p>\n",
       "</div>"
      ],
      "text/plain": [
       "     year_of_release platform  amount\n",
       "0             1980.0     2600       9\n",
       "1             1981.0     2600      46\n",
       "2             1982.0     2600      36\n",
       "3             1983.0     2600      11\n",
       "4             1984.0     2600       1\n",
       "..               ...      ...     ...\n",
       "182           2016.0      PSV      85\n",
       "183           2016.0      Wii       1\n",
       "184           2016.0     WiiU      14\n",
       "185           2016.0     X360      13\n",
       "186           2016.0     XOne      87\n",
       "\n",
       "[187 rows x 3 columns]"
      ]
     },
     "execution_count": 26,
     "metadata": {},
     "output_type": "execute_result"
    }
   ],
   "source": [
    "#сгруппируем датафрейм по годам и платформам \n",
    "grouped_by_platform = df[df['platform'].isin(popular_platform)].groupby(['year_of_release', 'platform'], as_index=False)['name'].count(). \\\n",
    "    rename(columns={'name':'amount'})\n",
    "grouped_by_platform"
   ]
  },
  {
   "cell_type": "code",
   "execution_count": 27,
   "metadata": {},
   "outputs": [
    {
     "data": {
      "image/png": "[encoded data removed]",
      "text/plain": [
       "<Figure size 1080x720 with 1 Axes>"
      ]
     },
     "metadata": {
      "needs_background": "light"
     },
     "output_type": "display_data"
    }
   ],
   "source": [
    "#из таблицы плохо можно увидеть динамику, поэтому визуализируем данные\n",
    "fig, ax = plt.subplots(figsize=(15, 10))\n",
    "grouped = grouped_by_platform.groupby('platform')\n",
    "for platform, data in grouped:\n",
    "    ax.plot(data['year_of_release'], data['amount'], label=platform)\n",
    "\n",
    "ax.legend()  \n",
    "ax.set_xlabel('Годы', fontsize=12)  \n",
    "ax.set_ylabel('Количество выпущенных игр', fontsize=12)  \n",
    "ax.set_title('Статистика выпуска игр по платформам', fontsize=14)  \n",
    "\n",
    "plt.show()"
   ]
  },
  {
   "cell_type": "markdown",
   "metadata": {},
   "source": [
    "Видно, что большая часть платформ уже давно не актуальна. Детальнее посмотрим на последние 10 лет."
   ]
  },
  {
   "cell_type": "code",
   "execution_count": 28,
   "metadata": {},
   "outputs": [
    {
     "data": {
      "image/png": "[encoded data removed]",
      "text/plain": [
       "<Figure size 1080x720 with 1 Axes>"
      ]
     },
     "metadata": {
      "needs_background": "light"
     },
     "output_type": "display_data"
    }
   ],
   "source": [
    "#из таблицы плохо можно увидеть динамику, поэтому визуализируем данные\n",
    "fig, ax = plt.subplots(figsize=(15, 10))\n",
    "grouped = grouped_by_platform.groupby('platform')\n",
    "for platform, data in grouped:\n",
    "    ax.plot(data['year_of_release'], data['amount'], label=platform)\n",
    "\n",
    "ax.legend()  \n",
    "ax.set_xlabel('Годы', fontsize=12)  \n",
    "ax.set_ylabel('Количество выпущенных игр', fontsize=12)  \n",
    "ax.set_title('Статистика выпуска игр по платформам', fontsize=14)  \n",
    "ax.set_xlim(2006)\n",
    "plt.show()"
   ]
  },
  {
   "cell_type": "markdown",
   "metadata": {},
   "source": [
    "Видно, что игровая индустрия начала чильно меняться в диапазоне 2011-2013 годов. За эти годы появились сразу 4 новых платформы, а популярность старых платформ со временем падает. Ряд старых платформ совсем исчезает. Поэтому Я думаю, что в качестве актуального периода лучше взять данные с 2013 года, так как более ранние года с устаревшими платформами скорее всего будут не актуальными к 2017 году."
   ]
  },
  {
   "cell_type": "code",
   "execution_count": 29,
   "metadata": {},
   "outputs": [
    {
     "data": {
      "text/html": [
       "<div>\n",
       "<style scoped>\n",
       "    .dataframe tbody tr th:only-of-type {\n",
       "        vertical-align: middle;\n",
       "    }\n",
       "\n",
       "    .dataframe tbody tr th {\n",
       "        vertical-align: top;\n",
       "    }\n",
       "\n",
       "    .dataframe thead th {\n",
       "        text-align: right;\n",
       "    }\n",
       "</style>\n",
       "<table border=\"1\" class=\"dataframe\">\n",
       "  <thead>\n",
       "    <tr style=\"text-align: right;\">\n",
       "      <th></th>\n",
       "      <th>name</th>\n",
       "      <th>platform</th>\n",
       "      <th>year_of_release</th>\n",
       "      <th>genre</th>\n",
       "      <th>na_sales</th>\n",
       "      <th>eu_sales</th>\n",
       "      <th>jp_sales</th>\n",
       "      <th>other_sales</th>\n",
       "      <th>critic_score</th>\n",
       "      <th>user_score</th>\n",
       "      <th>rating</th>\n",
       "      <th>amount_sales</th>\n",
       "    </tr>\n",
       "  </thead>\n",
       "  <tbody>\n",
       "    <tr>\n",
       "      <th>16</th>\n",
       "      <td>Grand Theft Auto V</td>\n",
       "      <td>PS3</td>\n",
       "      <td>2013.0</td>\n",
       "      <td>Action</td>\n",
       "      <td>7.02</td>\n",
       "      <td>9.09</td>\n",
       "      <td>0.98</td>\n",
       "      <td>3.96</td>\n",
       "      <td>97.0</td>\n",
       "      <td>8.2</td>\n",
       "      <td>M</td>\n",
       "      <td>21.05</td>\n",
       "    </tr>\n",
       "    <tr>\n",
       "      <th>23</th>\n",
       "      <td>Grand Theft Auto V</td>\n",
       "      <td>X360</td>\n",
       "      <td>2013.0</td>\n",
       "      <td>Action</td>\n",
       "      <td>9.66</td>\n",
       "      <td>5.14</td>\n",
       "      <td>0.06</td>\n",
       "      <td>1.41</td>\n",
       "      <td>97.0</td>\n",
       "      <td>8.1</td>\n",
       "      <td>M</td>\n",
       "      <td>16.27</td>\n",
       "    </tr>\n",
       "    <tr>\n",
       "      <th>31</th>\n",
       "      <td>Call of Duty: Black Ops 3</td>\n",
       "      <td>PS4</td>\n",
       "      <td>2015.0</td>\n",
       "      <td>Shooter</td>\n",
       "      <td>6.03</td>\n",
       "      <td>5.86</td>\n",
       "      <td>0.36</td>\n",
       "      <td>2.38</td>\n",
       "      <td>NaN</td>\n",
       "      <td>NaN</td>\n",
       "      <td>NaN</td>\n",
       "      <td>14.63</td>\n",
       "    </tr>\n",
       "    <tr>\n",
       "      <th>33</th>\n",
       "      <td>Pokemon X/Pokemon Y</td>\n",
       "      <td>3DS</td>\n",
       "      <td>2013.0</td>\n",
       "      <td>Role-Playing</td>\n",
       "      <td>5.28</td>\n",
       "      <td>4.19</td>\n",
       "      <td>4.35</td>\n",
       "      <td>0.78</td>\n",
       "      <td>NaN</td>\n",
       "      <td>NaN</td>\n",
       "      <td>NaN</td>\n",
       "      <td>14.60</td>\n",
       "    </tr>\n",
       "    <tr>\n",
       "      <th>42</th>\n",
       "      <td>Grand Theft Auto V</td>\n",
       "      <td>PS4</td>\n",
       "      <td>2014.0</td>\n",
       "      <td>Action</td>\n",
       "      <td>3.96</td>\n",
       "      <td>6.31</td>\n",
       "      <td>0.38</td>\n",
       "      <td>1.97</td>\n",
       "      <td>97.0</td>\n",
       "      <td>8.3</td>\n",
       "      <td>M</td>\n",
       "      <td>12.62</td>\n",
       "    </tr>\n",
       "  </tbody>\n",
       "</table>\n",
       "</div>"
      ],
      "text/plain": [
       "                         name platform year_of_release         genre  \\\n",
       "16         Grand Theft Auto V      PS3          2013.0        Action   \n",
       "23         Grand Theft Auto V     X360          2013.0        Action   \n",
       "31  Call of Duty: Black Ops 3      PS4          2015.0       Shooter   \n",
       "33        Pokemon X/Pokemon Y      3DS          2013.0  Role-Playing   \n",
       "42         Grand Theft Auto V      PS4          2014.0        Action   \n",
       "\n",
       "    na_sales  eu_sales  jp_sales  other_sales  critic_score  user_score  \\\n",
       "16      7.02      9.09      0.98         3.96          97.0         8.2   \n",
       "23      9.66      5.14      0.06         1.41          97.0         8.1   \n",
       "31      6.03      5.86      0.36         2.38           NaN         NaN   \n",
       "33      5.28      4.19      4.35         0.78           NaN         NaN   \n",
       "42      3.96      6.31      0.38         1.97          97.0         8.3   \n",
       "\n",
       "   rating  amount_sales  \n",
       "16      M         21.05  \n",
       "23      M         16.27  \n",
       "31    NaN         14.63  \n",
       "33    NaN         14.60  \n",
       "42      M         12.62  "
      ]
     },
     "execution_count": 29,
     "metadata": {},
     "output_type": "execute_result"
    }
   ],
   "source": [
    "#обрежем датафрейм до актуальных дат\n",
    "new_df = df[df['year_of_release'] >= 2013]\n",
    "new_df.head()"
   ]
  },
  {
   "cell_type": "code",
   "execution_count": 30,
   "metadata": {
    "scrolled": false
   },
   "outputs": [],
   "source": [
    "#посмотрим, какую выручку приносили игры различных платформ в зависимости от года\n",
    "sales_platform = new_df.groupby(['year_of_release', 'platform'], as_index=False)['amount_sales'].sum()"
   ]
  },
  {
   "cell_type": "code",
   "execution_count": 31,
   "metadata": {
    "scrolled": false
   },
   "outputs": [
    {
     "data": {
      "image/png": "[encoded data removed]",
      "text/plain": [
       "<Figure size 1080x576 with 1 Axes>"
      ]
     },
     "metadata": {
      "needs_background": "light"
     },
     "output_type": "display_data"
    }
   ],
   "source": [
    "#\n",
    "fig, ax = plt.subplots(figsize=(15, 8))\n",
    "grouped = sales_platform.groupby('platform')\n",
    "for platform, data in grouped:\n",
    "    ax.plot(data['year_of_release'].astype(int), data['amount_sales'], label=platform)\n",
    "\n",
    "ax.legend()  \n",
    "ax.set_xlabel('Годы', fontsize=12)  \n",
    "ax.set_ylabel('Выручка', fontsize=12)  \n",
    "ax.set_title('Выручка от продажи игр по годам', fontsize=14) \n",
    "years = sales_platform['year_of_release'].unique().astype(int)\n",
    "ax.set_xticks(years)\n",
    "plt.show()"
   ]
  },
  {
   "cell_type": "markdown",
   "metadata": {},
   "source": [
    "Как видно из графика в 2016 году было явное падение продаж игр по всем платформам. При этом наиболее перспективными все еще выглядели XOne и PS4, так как продажи по ним в 2014 и 2015 году росли. Платформа, которая к 2016 году была на 3 месте - 3DS, с 2013 года ежегодно теряла свою популярность. Поэтому на нее полагаться не стоит."
   ]
  },
  {
   "cell_type": "code",
   "execution_count": 32,
   "metadata": {},
   "outputs": [
    {
     "data": {
      "text/plain": [
       "<function matplotlib.pyplot.show(close=None, block=None)>"
      ]
     },
     "execution_count": 32,
     "metadata": {},
     "output_type": "execute_result"
    },
    {
     "data": {
      "image/png": "[encoded data removed]",
      "text/plain": [
       "<Figure size 1080x576 with 1 Axes>"
      ]
     },
     "metadata": {
      "needs_background": "light"
     },
     "output_type": "display_data"
    }
   ],
   "source": [
    "#посмотрим, как распределена выручка на игру по каждой платформе с помощью ящика с усами\n",
    "fig, ax = plt.subplots(figsize=(15, 8))\n",
    "sns.boxplot(x='platform', y='amount_sales', data=new_df)\n",
    "ax.set_xlabel('Платформа', fontsize=12)  \n",
    "ax.set_ylabel('Выручка в млн. шт.', fontsize=12)  \n",
    "plt.show"
   ]
  },
  {
   "cell_type": "markdown",
   "metadata": {},
   "source": [
    "Мы видим, что игровой рынок крайне ассиметричен. Большинство игр не собирают и миллиона копий, в то время как есть несколько выбросов с более чем 10 млн проданных копий."
   ]
  },
  {
   "cell_type": "markdown",
   "metadata": {},
   "source": [
    "Из-за большого количества выбросов, плохо видны медиана и квартили распределения. Ограничим отображения графика по оси y, чтобы лучше разглядеть данные показатели в различных платформах."
   ]
  },
  {
   "cell_type": "code",
   "execution_count": 33,
   "metadata": {
    "scrolled": false
   },
   "outputs": [
    {
     "data": {
      "text/plain": [
       "<function matplotlib.pyplot.show(close=None, block=None)>"
      ]
     },
     "execution_count": 33,
     "metadata": {},
     "output_type": "execute_result"
    },
    {
     "data": {
      "image/png": "[encoded data removed]",
      "text/plain": [
       "<Figure size 1080x576 with 1 Axes>"
      ]
     },
     "metadata": {
      "needs_background": "light"
     },
     "output_type": "display_data"
    }
   ],
   "source": [
    "#посмотрим, как распределена выручка на игру по каждой платформе с помощью ящика с усами\n",
    "fig, ax = plt.subplots(figsize=(15, 8))\n",
    "sns.boxplot(x='platform', y='amount_sales', data=new_df)\n",
    "plt.ylim(0, 2)\n",
    "ax.set_xlabel('Платформа', fontsize=12)  \n",
    "ax.set_ylabel('Выручка в млн. шт.', fontsize=12)  \n",
    "plt.show"
   ]
  },
  {
   "cell_type": "markdown",
   "metadata": {},
   "source": [
    "Даже приблизив график, мы видим что ассиметрия выручки очень большая. Медиана в большинстве групп находится ниже 250 тыс. проданных копий. Самые низкие показатели у PSP, PSV, PC и DS. Самые высокие - у наиболее популярных консолей из серий XBOX и PS."
   ]
  },
  {
   "cell_type": "markdown",
   "metadata": {},
   "source": [
    "Посмотрим, связаны ли продажи с отзывами критиков и пользователей на самой популярной платформе - PS4."
   ]
  },
  {
   "cell_type": "code",
   "execution_count": 34,
   "metadata": {},
   "outputs": [],
   "source": [
    "ps4 = new_df[new_df['platform'] == 'PS4']"
   ]
  },
  {
   "cell_type": "code",
   "execution_count": 35,
   "metadata": {},
   "outputs": [
    {
     "data": {
      "image/png": "[encoded data removed]",
      "text/plain": [
       "<Figure size 1080x576 with 1 Axes>"
      ]
     },
     "metadata": {
      "needs_background": "light"
     },
     "output_type": "display_data"
    }
   ],
   "source": [
    "#построим график рассеивания между объемом продаж и рейтингом критиков\n",
    "fig, ax = plt.subplots(figsize=(15, 8))\n",
    "plt.scatter(ps4['critic_score'], ps4['amount_sales'])\n",
    "\n",
    "# Настройка осей и названий\n",
    "plt.xlabel(plt.xlabel('Рейтинг пользователей'))\n",
    "plt.ylabel(plt.ylabel('Продажи'))\n",
    "plt.title('Диаграмма рассеивания рейтинга критиков и продаж')\n",
    "\n",
    "# Отображение диаграммы\n",
    "plt.show()"
   ]
  },
  {
   "cell_type": "code",
   "execution_count": 36,
   "metadata": {},
   "outputs": [
    {
     "data": {
      "text/plain": [
       "0.40656790206178095"
      ]
     },
     "execution_count": 36,
     "metadata": {},
     "output_type": "execute_result"
    }
   ],
   "source": [
    "#узнаем корреляцию\n",
    "ps4['critic_score'].corr(ps4['amount_sales'])"
   ]
  },
  {
   "cell_type": "code",
   "execution_count": 37,
   "metadata": {},
   "outputs": [
    {
     "data": {
      "image/png": "[encoded data removed]",
      "text/plain": [
       "<Figure size 1080x576 with 1 Axes>"
      ]
     },
     "metadata": {
      "needs_background": "light"
     },
     "output_type": "display_data"
    }
   ],
   "source": [
    "#построим график рассеивания между объемом продаж и рейтингом пользователей\n",
    "fig, ax = plt.subplots(figsize=(15, 8))\n",
    "plt.scatter(ps4['user_score'], ps4['amount_sales'])\n",
    "\n",
    "# Настройка осей и названий\n",
    "plt.xlabel(plt.xlabel('Рейтинг пользователей'))\n",
    "plt.ylabel(plt.ylabel('Продажи'))\n",
    "plt.title('Диаграмма рассеивания рейтинга пользователей и продаж')\n",
    "\n",
    "# Отображение диаграммы\n",
    "plt.show()"
   ]
  },
  {
   "cell_type": "code",
   "execution_count": 38,
   "metadata": {},
   "outputs": [
    {
     "data": {
      "text/plain": [
       "-0.031957110204556376"
      ]
     },
     "execution_count": 38,
     "metadata": {},
     "output_type": "execute_result"
    }
   ],
   "source": [
    "#узнаем корреляцию\n",
    "ps4['user_score'].corr(ps4['amount_sales'])"
   ]
  },
  {
   "cell_type": "markdown",
   "metadata": {},
   "source": [
    "Интересно, что между рейтингом критиков и продажами игр наблюдается явная корреляция, в то время как между оценками пользователей и продажами корреляция не прослеживается. Посмотрим, является ли это явление уникальным для этой платформы, или оно имеет общий характер."
   ]
  },
  {
   "cell_type": "code",
   "execution_count": 39,
   "metadata": {},
   "outputs": [
    {
     "data": {
      "image/png": "[encoded data removed]",
      "text/plain": [
       "<Figure size 1080x576 with 1 Axes>"
      ]
     },
     "metadata": {
      "needs_background": "light"
     },
     "output_type": "display_data"
    }
   ],
   "source": [
    "#построим график рассеивания между объемом продаж и рейтингом критиков\n",
    "fig, ax = plt.subplots(figsize=(15, 8))\n",
    "plt.scatter(new_df['critic_score'], new_df['amount_sales'])\n",
    "\n",
    "# Настройка осей и названий\n",
    "plt.xlabel(plt.xlabel('Рейтинг пользователей'))\n",
    "plt.ylabel(plt.ylabel('Продажи'))\n",
    "plt.title('Диаграмма рассеивания рейтинга критиков и продаж')\n",
    "\n",
    "# Отображение диаграммы\n",
    "plt.show()"
   ]
  },
  {
   "cell_type": "code",
   "execution_count": 40,
   "metadata": {},
   "outputs": [
    {
     "data": {
      "text/plain": [
       "0.3136995151027371"
      ]
     },
     "execution_count": 40,
     "metadata": {},
     "output_type": "execute_result"
    }
   ],
   "source": [
    "#узнаем корреляцию\n",
    "new_df['critic_score'].corr(new_df['amount_sales'])"
   ]
  },
  {
   "cell_type": "code",
   "execution_count": 41,
   "metadata": {},
   "outputs": [
    {
     "data": {
      "image/png": "[encoded data removed]",
      "text/plain": [
       "<Figure size 1080x576 with 1 Axes>"
      ]
     },
     "metadata": {
      "needs_background": "light"
     },
     "output_type": "display_data"
    }
   ],
   "source": [
    "#построим график рассеивания между объемом продаж и рейтингом пользователей\n",
    "fig, ax = plt.subplots(figsize=(15, 8))\n",
    "plt.scatter(new_df['user_score'], new_df['amount_sales'])\n",
    "\n",
    "# Настройка осей и названий\n",
    "plt.xlabel(plt.xlabel('Рейтинг пользователей'))\n",
    "plt.ylabel(plt.ylabel('Продажи'))\n",
    "plt.title('Диаграмма рассеивания рейтинга пользователей и продаж')\n",
    "\n",
    "# Отображение диаграммы\n",
    "plt.show()"
   ]
  },
  {
   "cell_type": "code",
   "execution_count": 42,
   "metadata": {},
   "outputs": [
    {
     "data": {
      "text/plain": [
       "-0.0026078133545982744"
      ]
     },
     "execution_count": 42,
     "metadata": {},
     "output_type": "execute_result"
    }
   ],
   "source": [
    "new_df['user_score'].corr(new_df['amount_sales'])"
   ]
  },
  {
   "cell_type": "markdown",
   "metadata": {},
   "source": [
    "На общих данных выводы сопоставимые. Немного меньше корреляция между рейтингом критиков и продажами, но она все еще есть. А корреляция между рейтингом пользователей все еще нулевая."
   ]
  },
  {
   "cell_type": "code",
   "execution_count": 43,
   "metadata": {},
   "outputs": [
    {
     "data": {
      "text/html": [
       "<div>\n",
       "<style scoped>\n",
       "    .dataframe tbody tr th:only-of-type {\n",
       "        vertical-align: middle;\n",
       "    }\n",
       "\n",
       "    .dataframe tbody tr th {\n",
       "        vertical-align: top;\n",
       "    }\n",
       "\n",
       "    .dataframe thead th {\n",
       "        text-align: right;\n",
       "    }\n",
       "</style>\n",
       "<table border=\"1\" class=\"dataframe\">\n",
       "  <thead>\n",
       "    <tr style=\"text-align: right;\">\n",
       "      <th></th>\n",
       "      <th>name</th>\n",
       "      <th>platform</th>\n",
       "      <th>year_of_release</th>\n",
       "      <th>genre</th>\n",
       "      <th>na_sales</th>\n",
       "      <th>eu_sales</th>\n",
       "      <th>jp_sales</th>\n",
       "      <th>other_sales</th>\n",
       "      <th>critic_score</th>\n",
       "      <th>user_score</th>\n",
       "      <th>rating</th>\n",
       "      <th>amount_sales</th>\n",
       "    </tr>\n",
       "  </thead>\n",
       "  <tbody>\n",
       "    <tr>\n",
       "      <th>16</th>\n",
       "      <td>Grand Theft Auto V</td>\n",
       "      <td>PS3</td>\n",
       "      <td>2013.0</td>\n",
       "      <td>Action</td>\n",
       "      <td>7.02</td>\n",
       "      <td>9.09</td>\n",
       "      <td>0.98</td>\n",
       "      <td>3.96</td>\n",
       "      <td>97.0</td>\n",
       "      <td>8.2</td>\n",
       "      <td>M</td>\n",
       "      <td>21.05</td>\n",
       "    </tr>\n",
       "    <tr>\n",
       "      <th>23</th>\n",
       "      <td>Grand Theft Auto V</td>\n",
       "      <td>X360</td>\n",
       "      <td>2013.0</td>\n",
       "      <td>Action</td>\n",
       "      <td>9.66</td>\n",
       "      <td>5.14</td>\n",
       "      <td>0.06</td>\n",
       "      <td>1.41</td>\n",
       "      <td>97.0</td>\n",
       "      <td>8.1</td>\n",
       "      <td>M</td>\n",
       "      <td>16.27</td>\n",
       "    </tr>\n",
       "    <tr>\n",
       "      <th>31</th>\n",
       "      <td>Call of Duty: Black Ops 3</td>\n",
       "      <td>PS4</td>\n",
       "      <td>2015.0</td>\n",
       "      <td>Shooter</td>\n",
       "      <td>6.03</td>\n",
       "      <td>5.86</td>\n",
       "      <td>0.36</td>\n",
       "      <td>2.38</td>\n",
       "      <td>NaN</td>\n",
       "      <td>NaN</td>\n",
       "      <td>NaN</td>\n",
       "      <td>14.63</td>\n",
       "    </tr>\n",
       "    <tr>\n",
       "      <th>33</th>\n",
       "      <td>Pokemon X/Pokemon Y</td>\n",
       "      <td>3DS</td>\n",
       "      <td>2013.0</td>\n",
       "      <td>Role-Playing</td>\n",
       "      <td>5.28</td>\n",
       "      <td>4.19</td>\n",
       "      <td>4.35</td>\n",
       "      <td>0.78</td>\n",
       "      <td>NaN</td>\n",
       "      <td>NaN</td>\n",
       "      <td>NaN</td>\n",
       "      <td>14.60</td>\n",
       "    </tr>\n",
       "    <tr>\n",
       "      <th>42</th>\n",
       "      <td>Grand Theft Auto V</td>\n",
       "      <td>PS4</td>\n",
       "      <td>2014.0</td>\n",
       "      <td>Action</td>\n",
       "      <td>3.96</td>\n",
       "      <td>6.31</td>\n",
       "      <td>0.38</td>\n",
       "      <td>1.97</td>\n",
       "      <td>97.0</td>\n",
       "      <td>8.3</td>\n",
       "      <td>M</td>\n",
       "      <td>12.62</td>\n",
       "    </tr>\n",
       "    <tr>\n",
       "      <th>...</th>\n",
       "      <td>...</td>\n",
       "      <td>...</td>\n",
       "      <td>...</td>\n",
       "      <td>...</td>\n",
       "      <td>...</td>\n",
       "      <td>...</td>\n",
       "      <td>...</td>\n",
       "      <td>...</td>\n",
       "      <td>...</td>\n",
       "      <td>...</td>\n",
       "      <td>...</td>\n",
       "      <td>...</td>\n",
       "    </tr>\n",
       "    <tr>\n",
       "      <th>16703</th>\n",
       "      <td>Strawberry Nauts</td>\n",
       "      <td>PSV</td>\n",
       "      <td>2016.0</td>\n",
       "      <td>Adventure</td>\n",
       "      <td>0.00</td>\n",
       "      <td>0.00</td>\n",
       "      <td>0.01</td>\n",
       "      <td>0.00</td>\n",
       "      <td>NaN</td>\n",
       "      <td>NaN</td>\n",
       "      <td>NaN</td>\n",
       "      <td>0.01</td>\n",
       "    </tr>\n",
       "    <tr>\n",
       "      <th>16707</th>\n",
       "      <td>Aiyoku no Eustia</td>\n",
       "      <td>PSV</td>\n",
       "      <td>2014.0</td>\n",
       "      <td>Misc</td>\n",
       "      <td>0.00</td>\n",
       "      <td>0.00</td>\n",
       "      <td>0.01</td>\n",
       "      <td>0.00</td>\n",
       "      <td>NaN</td>\n",
       "      <td>NaN</td>\n",
       "      <td>NaN</td>\n",
       "      <td>0.01</td>\n",
       "    </tr>\n",
       "    <tr>\n",
       "      <th>16710</th>\n",
       "      <td>Samurai Warriors: Sanada Maru</td>\n",
       "      <td>PS3</td>\n",
       "      <td>2016.0</td>\n",
       "      <td>Action</td>\n",
       "      <td>0.00</td>\n",
       "      <td>0.00</td>\n",
       "      <td>0.01</td>\n",
       "      <td>0.00</td>\n",
       "      <td>NaN</td>\n",
       "      <td>NaN</td>\n",
       "      <td>NaN</td>\n",
       "      <td>0.01</td>\n",
       "    </tr>\n",
       "    <tr>\n",
       "      <th>16712</th>\n",
       "      <td>Haitaka no Psychedelica</td>\n",
       "      <td>PSV</td>\n",
       "      <td>2016.0</td>\n",
       "      <td>Adventure</td>\n",
       "      <td>0.00</td>\n",
       "      <td>0.00</td>\n",
       "      <td>0.01</td>\n",
       "      <td>0.00</td>\n",
       "      <td>NaN</td>\n",
       "      <td>NaN</td>\n",
       "      <td>NaN</td>\n",
       "      <td>0.01</td>\n",
       "    </tr>\n",
       "    <tr>\n",
       "      <th>16714</th>\n",
       "      <td>Winning Post 8 2016</td>\n",
       "      <td>PSV</td>\n",
       "      <td>2016.0</td>\n",
       "      <td>Simulation</td>\n",
       "      <td>0.00</td>\n",
       "      <td>0.00</td>\n",
       "      <td>0.01</td>\n",
       "      <td>0.00</td>\n",
       "      <td>NaN</td>\n",
       "      <td>NaN</td>\n",
       "      <td>NaN</td>\n",
       "      <td>0.01</td>\n",
       "    </tr>\n",
       "  </tbody>\n",
       "</table>\n",
       "<p>2233 rows × 12 columns</p>\n",
       "</div>"
      ],
      "text/plain": [
       "                                name platform year_of_release         genre  \\\n",
       "16                Grand Theft Auto V      PS3          2013.0        Action   \n",
       "23                Grand Theft Auto V     X360          2013.0        Action   \n",
       "31         Call of Duty: Black Ops 3      PS4          2015.0       Shooter   \n",
       "33               Pokemon X/Pokemon Y      3DS          2013.0  Role-Playing   \n",
       "42                Grand Theft Auto V      PS4          2014.0        Action   \n",
       "...                              ...      ...             ...           ...   \n",
       "16703               Strawberry Nauts      PSV          2016.0     Adventure   \n",
       "16707               Aiyoku no Eustia      PSV          2014.0          Misc   \n",
       "16710  Samurai Warriors: Sanada Maru      PS3          2016.0        Action   \n",
       "16712        Haitaka no Psychedelica      PSV          2016.0     Adventure   \n",
       "16714            Winning Post 8 2016      PSV          2016.0    Simulation   \n",
       "\n",
       "       na_sales  eu_sales  jp_sales  other_sales  critic_score  user_score  \\\n",
       "16         7.02      9.09      0.98         3.96          97.0         8.2   \n",
       "23         9.66      5.14      0.06         1.41          97.0         8.1   \n",
       "31         6.03      5.86      0.36         2.38           NaN         NaN   \n",
       "33         5.28      4.19      4.35         0.78           NaN         NaN   \n",
       "42         3.96      6.31      0.38         1.97          97.0         8.3   \n",
       "...         ...       ...       ...          ...           ...         ...   \n",
       "16703      0.00      0.00      0.01         0.00           NaN         NaN   \n",
       "16707      0.00      0.00      0.01         0.00           NaN         NaN   \n",
       "16710      0.00      0.00      0.01         0.00           NaN         NaN   \n",
       "16712      0.00      0.00      0.01         0.00           NaN         NaN   \n",
       "16714      0.00      0.00      0.01         0.00           NaN         NaN   \n",
       "\n",
       "      rating  amount_sales  \n",
       "16         M         21.05  \n",
       "23         M         16.27  \n",
       "31       NaN         14.63  \n",
       "33       NaN         14.60  \n",
       "42         M         12.62  \n",
       "...      ...           ...  \n",
       "16703    NaN          0.01  \n",
       "16707    NaN          0.01  \n",
       "16710    NaN          0.01  \n",
       "16712    NaN          0.01  \n",
       "16714    NaN          0.01  \n",
       "\n",
       "[2233 rows x 12 columns]"
      ]
     },
     "execution_count": 43,
     "metadata": {},
     "output_type": "execute_result"
    }
   ],
   "source": [
    "new_df"
   ]
  },
  {
   "cell_type": "code",
   "execution_count": 44,
   "metadata": {
    "scrolled": false
   },
   "outputs": [
    {
     "data": {
      "image/png": "[encoded data removed]",
      "text/plain": [
       "<Figure size 1080x576 with 1 Axes>"
      ]
     },
     "metadata": {
      "needs_background": "light"
     },
     "output_type": "display_data"
    }
   ],
   "source": [
    "\n",
    "#рассмотрим распределение выручки по жанрам\n",
    "genre_revenue = new_df.groupby('genre')['amount_sales'].sum().sort_values(ascending=False)\n",
    "#построим столбчатую диаграмму\n",
    "fig, ax = plt.subplots(figsize=(15, 8))\n",
    "plt.bar(genre_revenue.index, genre_revenue.values)\n",
    "\n",
    "# Настройка осей и названий\n",
    "plt.xlabel('Жанры')\n",
    "plt.ylabel('Суммарная выручка')\n",
    "plt.title('Столбчатая диаграмма суммарной выручки по жанрам')\n",
    "\n",
    "# Отображение диаграммы\n",
    "plt.show()"
   ]
  },
  {
   "cell_type": "markdown",
   "metadata": {},
   "source": [
    "Жанрами, приносящими наибольший доход, являются экшн, шутеры, спортивные игры и РПГ. Пазлы и стратегии привлекают не так много людей."
   ]
  },
  {
   "cell_type": "markdown",
   "metadata": {},
   "source": [
    "Посмотрим, как собирают игры различных жанров \"в среднем\" в с помощью боксплота."
   ]
  },
  {
   "cell_type": "code",
   "execution_count": 45,
   "metadata": {},
   "outputs": [
    {
     "data": {
      "image/png": "[encoded data removed]",
      "text/plain": [
       "<Figure size 1080x576 with 1 Axes>"
      ]
     },
     "metadata": {
      "needs_background": "light"
     },
     "output_type": "display_data"
    }
   ],
   "source": [
    "#рассмотрим распределение выручки по жанрам\n",
    "genre_revenue = new_df.groupby('genre')['amount_sales'].sum().sort_values(ascending=False)\n",
    "#построим столбчатую диаграмму\n",
    "fig, ax = plt.subplots(figsize=(15, 8))\n",
    "sns.boxplot(x='genre', y='amount_sales', data=new_df)\n",
    "\n",
    "# Настройка осей и названий\n",
    "plt.xlabel('Жанры')\n",
    "plt.ylabel('Суммарная выручка')\n",
    "plt.title('Боксплот суммарной выручки по жанрам')\n",
    "\n",
    "# Отображение диаграммы\n",
    "plt.show()"
   ]
  },
  {
   "cell_type": "markdown",
   "metadata": {},
   "source": [
    "Как в случае с первым боксполотом, мы видим, что существует огромное количество выбросов - те игры, которые стали хитами и имели огромные сборы. Посмотрим на распределение, не учитывая эти выбросы."
   ]
  },
  {
   "cell_type": "code",
   "execution_count": 46,
   "metadata": {},
   "outputs": [
    {
     "data": {
      "image/png": "[encoded data removed]",
      "text/plain": [
       "<Figure size 1080x576 with 1 Axes>"
      ]
     },
     "metadata": {
      "needs_background": "light"
     },
     "output_type": "display_data"
    }
   ],
   "source": [
    "#рассмотрим распределение выручки по жанрам\n",
    "genre_revenue = new_df.groupby('genre')['amount_sales'].sum().sort_values(ascending=False)\n",
    "#построим столбчатую диаграмму\n",
    "fig, ax = plt.subplots(figsize=(15, 8))\n",
    "sns.boxplot(x='genre', y='amount_sales', data=new_df)\n",
    "\n",
    "# Настройка осей и названий\n",
    "plt.xlabel('Жанры')\n",
    "plt.ylabel('Суммарная выручка')\n",
    "plt.title('Боксплот суммарной выручки по жанрам')\n",
    "plt.ylim(0, 2)\n",
    "# Отображение диаграммы\n",
    "plt.show()"
   ]
  },
  {
   "cell_type": "markdown",
   "metadata": {},
   "source": [
    "Какие же в среднем доходные шутеры! Отрыв от других жанров просто колоссальный. На втором месте - спортивные игры, на третьей - платформеры. А вот игры из жанра приключений самые низкодоходные."
   ]
  },
  {
   "cell_type": "markdown",
   "metadata": {},
   "source": [
    "**Вывод:** исследовательский анализ данных показал, что актуальным для исследования периодом является диапазон с 2013 года, когда начали набирать популярность консоли нового поколения. Две наиболее популярные платформы: PS4 и XOne. Выручка от продажи конкретной игры имеет распределение с большими выбросами: лишь небольшое количество игр добивается больших продаж. Обнаружена корреляция между объемом продаж и рейтингом критиков, при этом такой зависимости не обнаружено по отношению к рейтингу пользователей. Двумя самыми популярными жанрами являются экшн и шутер. При этом в среднем самыми доходными играми являются именно шутеры, оставляющие другие жанры далеко сзади."
   ]
  },
  {
   "cell_type": "markdown",
   "metadata": {},
   "source": [
    "## Портрет пользователя по регионам"
   ]
  },
  {
   "cell_type": "markdown",
   "metadata": {},
   "source": [
    "Определим топ 5 самых популярных платформ в различных регионах."
   ]
  },
  {
   "cell_type": "code",
   "execution_count": 47,
   "metadata": {},
   "outputs": [
    {
     "data": {
      "image/png": "[encoded data removed]",
      "text/plain": [
       "<Figure size 1080x1440 with 4 Axes>"
      ]
     },
     "metadata": {
      "needs_background": "light"
     },
     "output_type": "display_data"
    }
   ],
   "source": [
    "#составим столбчатую диаграмму с топ 5 самых популярных платформ по регионам\n",
    "fig, axes = plt.subplots(nrows=4, ncols=1, figsize=(15, 20))\n",
    "fig.subplots_adjust(hspace=0.3)\n",
    "for i, feature in enumerate(new_df[['na_sales', 'eu_sales', 'jp_sales', 'other_sales']]):\n",
    "    ax1 = axes[i]\n",
    "    ax1.bar(new_df.groupby('platform')[feature].sum().sort_values(ascending=False).head(5).index,\n",
    "            new_df.groupby('platform')[feature].sum().sort_values(ascending=False).head(5).values)\n",
    "    ax1.set_xlabel('platform')\n",
    "    ax1.set_ylabel('sales_amount')\n",
    "    ax1.set_title(feature)\n",
    "plt.show()"
   ]
  },
  {
   "cell_type": "markdown",
   "metadata": {},
   "source": [
    "Почти во всех регионах, не считая Японии, самой популярной консолью является PS4. В США при этом на втором месте находится XOne, который лишь немногим уступает PS4. В Европе и остальных странах ситуация примерно сопоставимая, и там на втором месте находится более старая PS3, а XOne только на третьем месте. В Японии совершенно особенная ситуация - явное доминирования 3DS, которая в остальных регионах занимает 5 место. А игры на консолях нового поколения не являются популярными в Японии: популярность игр на PS3 выше, чем на PS4."
   ]
  },
  {
   "cell_type": "markdown",
   "metadata": {},
   "source": [
    "Посмотрим на распределение топ 5 жанров игр по регионам."
   ]
  },
  {
   "cell_type": "code",
   "execution_count": 48,
   "metadata": {},
   "outputs": [
    {
     "data": {
      "image/png": "[encoded data removed]",
      "text/plain": [
       "<Figure size 1080x1440 with 4 Axes>"
      ]
     },
     "metadata": {
      "needs_background": "light"
     },
     "output_type": "display_data"
    }
   ],
   "source": [
    "#составим столбчатую диаграмму с топ 5 самых популярных жанров по регионам\n",
    "fig, axes = plt.subplots(nrows=4, ncols=1, figsize=(15, 20))\n",
    "fig.subplots_adjust(hspace=0.3)\n",
    "for i, feature in enumerate(new_df[['na_sales', 'eu_sales', 'jp_sales', 'other_sales']]):\n",
    "    ax1 = axes[i]\n",
    "    ax1.bar(new_df.groupby('genre')[feature].sum().sort_values(ascending=False).head(5).index,\n",
    "            new_df.groupby('genre')[feature].sum().sort_values(ascending=False).head(5).values)\n",
    "    ax1.set_xlabel('genre')\n",
    "    ax1.set_ylabel('sales_amount')\n",
    "    ax1.set_title(feature)\n",
    "plt.show()"
   ]
  },
  {
   "cell_type": "markdown",
   "metadata": {},
   "source": [
    "Что касается распределения продаж игр по жанрам, то в этом разрезе опять выделяется Япония. Во всех дркугих регионах первые три по популярности жанра: Action, Shooter, Sports Genre. А вот в Японии на первом месте РПГ, на втором - полпулярный во всем мире Action, а вот остальные жанры в разы уступают по популярности первым двум."
   ]
  },
  {
   "cell_type": "markdown",
   "metadata": {},
   "source": [
    "Посмотрим, влияет ли рейтинг ESRB на продажи по регионам."
   ]
  },
  {
   "cell_type": "code",
   "execution_count": 49,
   "metadata": {},
   "outputs": [
    {
     "data": {
      "image/png": "[encoded data removed]",
      "text/plain": [
       "<Figure size 1080x1440 with 4 Axes>"
      ]
     },
     "metadata": {
      "needs_background": "light"
     },
     "output_type": "display_data"
    }
   ],
   "source": [
    "#составим столбчатую диаграмму с продажами игр разного рейтинга по регионам\n",
    "fig, axes = plt.subplots(nrows=4, ncols=1, figsize=(15, 20))\n",
    "fig.subplots_adjust(hspace=0.3)\n",
    "for i, feature in enumerate(new_df[['na_sales', 'eu_sales', 'jp_sales', 'other_sales']]):\n",
    "    ax1 = axes[i]\n",
    "    ax1.bar(new_df.groupby('rating')[feature].sum().sort_values(ascending=False).head(5).index,\n",
    "            new_df.groupby('rating')[feature].sum().sort_values(ascending=False).head(5).values)\n",
    "    ax1.set_xlabel('rating')\n",
    "    ax1.set_ylabel('sales_amount')\n",
    "    ax1.set_title(feature)\n",
    "plt.show()"
   ]
  },
  {
   "cell_type": "markdown",
   "metadata": {},
   "source": [
    "В разрезе рейтингов опять выделяется Япония. Если во всех остальных регионах самые популярные игры имеют рейтинг M (только для взрослых), то в Японии - T (c 13 лет), в то время как игры для взрослых занимают 3 место."
   ]
  },
  {
   "cell_type": "markdown",
   "metadata": {},
   "source": [
    "**Вывод**: портрет пользователей во всех регионах кроме Японии очень схож. Единственное существенное отличие - в США достаточно популярны X боксы, в то время как в Европе и остальном мире доминирование явное у PS. В Японии же отличается практически все: самая популярная платформа - Нинтендо, самые популярный жанр - не экшн, а РПГ, самый популярный возрастной рейтинг не Mature, а Teen."
   ]
  },
  {
   "cell_type": "markdown",
   "metadata": {},
   "source": [
    "## Проверка гипотез"
   ]
  },
  {
   "cell_type": "markdown",
   "metadata": {},
   "source": [
    "Сначала проверим, имеется ли существенное различие между средними пользовательскими рейтингами платформ XOne и PC. \\\n",
    "В этом случае нулевая гипотеза - средний рейтинг игр на XOne и PC одинаков, альтернативная - они отличаются."
   ]
  },
  {
   "cell_type": "markdown",
   "metadata": {},
   "source": [
    "При проверке статистически значимого уровня различия между выборками нам необходимо избавиться от отсутствующих значений. "
   ]
  },
  {
   "cell_type": "code",
   "execution_count": 50,
   "metadata": {
    "scrolled": true
   },
   "outputs": [],
   "source": [
    "#cоздадим датафрейм только с данными о пользовательских рейтингах для игр на XOne и PC без отсутствующих значений.\n",
    "df_XOne_PC = new_df.query(\"platform == 'XOne' | platform == 'PC'\")[['platform', 'user_score']].dropna()"
   ]
  },
  {
   "cell_type": "markdown",
   "metadata": {},
   "source": [
    "Посмотрим, как распределены данные в двух выборках."
   ]
  },
  {
   "cell_type": "code",
   "execution_count": 51,
   "metadata": {},
   "outputs": [
    {
     "data": {
      "text/plain": [
       "<AxesSubplot:>"
      ]
     },
     "execution_count": 51,
     "metadata": {},
     "output_type": "execute_result"
    },
    {
     "data": {
      "image/png": "[encoded data removed]",
      "text/plain": [
       "<Figure size 432x288 with 1 Axes>"
      ]
     },
     "metadata": {
      "needs_background": "light"
     },
     "output_type": "display_data"
    }
   ],
   "source": [
    "df_XOne_PC[df_XOne_PC['platform']=='XOne']['user_score'].hist()"
   ]
  },
  {
   "cell_type": "code",
   "execution_count": 52,
   "metadata": {
    "scrolled": false
   },
   "outputs": [
    {
     "data": {
      "text/plain": [
       "<AxesSubplot:>"
      ]
     },
     "execution_count": 52,
     "metadata": {},
     "output_type": "execute_result"
    },
    {
     "data": {
      "image/png": "[encoded data removed]",
      "text/plain": [
       "<Figure size 432x288 with 1 Axes>"
      ]
     },
     "metadata": {
      "needs_background": "light"
     },
     "output_type": "display_data"
    }
   ],
   "source": [
    "df_XOne_PC[df_XOne_PC['platform']=='PC']['user_score'].hist()"
   ]
  },
  {
   "cell_type": "markdown",
   "metadata": {},
   "source": [
    "Данные имеют явно скошенный характер в правую сторону: большинство пользователей ставят оценки на уровне 7. С учетом того, что распределение не носит явно нормальный характер, а также с учетом небольшого размера выборки, лучше использовать при проверке гипотез Тест Манна-Уитни, а не классический T-тест."
   ]
  },
  {
   "cell_type": "code",
   "execution_count": 53,
   "metadata": {
    "scrolled": false
   },
   "outputs": [
    {
     "name": "stdout",
     "output_type": "stream",
     "text": [
      "P-Value: 0.501\n",
      "Относительное различие выборок: 0.040\n"
     ]
    }
   ],
   "source": [
    "# узнаем p_value\n",
    "print('P-Value: {0:.3f}'.format(stats.mannwhitneyu(df_XOne_PC[df_XOne_PC['platform']=='XOne']['user_score'], df_XOne_PC[df_XOne_PC['platform']=='PC']['user_score'])[1]))\n",
    "# узнаем относительное различие средних двух выборок \n",
    "print('Относительное различие выборок: {0:.3f}'.format(df_XOne_PC[df_XOne_PC['platform']=='XOne']['user_score'].mean() / df_XOne_PC[df_XOne_PC['platform']=='PC']['user_score'].mean()-1))"
   ]
  },
  {
   "cell_type": "markdown",
   "metadata": {},
   "source": [
    "Определим порог статистической значимости на уровне 0.05 (значение alpha). P-value значительно выше этого значения. Значит, мы не можем отвергнуть нулевую гипотезу о равенстве двух выборок. При этом средние значения двух выборок отличаются всего на 4%."
   ]
  },
  {
   "cell_type": "markdown",
   "metadata": {},
   "source": [
    "Проверим гипотезу, имеется ли существенное различие между средними пользовательскими рейтингами в жанрах Action и Sports."
   ]
  },
  {
   "cell_type": "markdown",
   "metadata": {},
   "source": [
    "При проверке статистически значимого уровня различия между выборками нам необходимо избавиться от отсутствующих значений. "
   ]
  },
  {
   "cell_type": "code",
   "execution_count": 54,
   "metadata": {},
   "outputs": [
    {
     "data": {
      "text/plain": [
       "array(['Action', 'Shooter', 'Role-Playing', 'Misc', 'Sports', 'Fighting',\n",
       "       'Racing', 'Simulation', 'Platform', 'Strategy', 'Adventure',\n",
       "       'Puzzle'], dtype=object)"
      ]
     },
     "execution_count": 54,
     "metadata": {},
     "output_type": "execute_result"
    }
   ],
   "source": [
    "new_df['genre'].unique()\n"
   ]
  },
  {
   "cell_type": "code",
   "execution_count": 55,
   "metadata": {},
   "outputs": [],
   "source": [
    "#cоздадим датафрейм только с данными о пользовательских рейтингах для игр жанров Action и Sports без отсутствующих значений.\n",
    "df_action_sports = new_df.query(\"genre == 'Action' | genre == 'Sports'\")[['genre', 'user_score']].dropna()"
   ]
  },
  {
   "cell_type": "markdown",
   "metadata": {},
   "source": [
    "Посмотрим распределение данных."
   ]
  },
  {
   "cell_type": "code",
   "execution_count": 56,
   "metadata": {
    "scrolled": false
   },
   "outputs": [
    {
     "data": {
      "text/plain": [
       "<AxesSubplot:>"
      ]
     },
     "execution_count": 56,
     "metadata": {},
     "output_type": "execute_result"
    },
    {
     "data": {
      "image/png": "[encoded data removed]",
      "text/plain": [
       "<Figure size 432x288 with 1 Axes>"
      ]
     },
     "metadata": {
      "needs_background": "light"
     },
     "output_type": "display_data"
    }
   ],
   "source": [
    "df_action_sports[df_action_sports['genre']=='Action']['user_score'].hist()"
   ]
  },
  {
   "cell_type": "code",
   "execution_count": 57,
   "metadata": {
    "scrolled": true
   },
   "outputs": [
    {
     "data": {
      "text/plain": [
       "<AxesSubplot:>"
      ]
     },
     "execution_count": 57,
     "metadata": {},
     "output_type": "execute_result"
    },
    {
     "data": {
      "image/png": "[encoded data removed]",
      "text/plain": [
       "<Figure size 432x288 with 1 Axes>"
      ]
     },
     "metadata": {
      "needs_background": "light"
     },
     "output_type": "display_data"
    }
   ],
   "source": [
    "df_action_sports[df_action_sports['genre']=='Sports']['user_score'].hist()"
   ]
  },
  {
   "cell_type": "markdown",
   "metadata": {},
   "source": [
    "Оценки пользователей жанра экшн скошенны сильно вправо. А оценки игр жанра спорт и вовсе имеют 2 вершины. В обоих случаеях распределение далеко от нормального. Также воспользуемся тестом Манна Уитни."
   ]
  },
  {
   "cell_type": "code",
   "execution_count": 58,
   "metadata": {},
   "outputs": [
    {
     "name": "stdout",
     "output_type": "stream",
     "text": [
      "P-Value: 0.000000000000000000000015189171\n",
      "Относительное различие выборок: 0.305\n"
     ]
    }
   ],
   "source": [
    "# узнаем p_value\n",
    "print('P-Value: {0:.30f}'.format(stats.mannwhitneyu(df_action_sports[df_action_sports['genre']=='Action']['user_score'], df_action_sports[df_action_sports['genre']=='Sports']['user_score'])[1]))\n",
    "# узнаем относительное различие средних двух выборок \n",
    "print('Относительное различие выборок: {0:.3f}'.format(df_action_sports[df_action_sports['genre']=='Action']['user_score'].mean() / df_action_sports[df_action_sports['genre']=='Sports']['user_score'].mean()-1))"
   ]
  },
  {
   "cell_type": "markdown",
   "metadata": {},
   "source": [
    "P-Value оказался очень маленьким, значительно меньше порога статистической значимости. Таким образом, мы можем с уверенностью отклонить нулевую гипотезу о равенстве средних двух выборок."
   ]
  },
  {
   "cell_type": "markdown",
   "metadata": {},
   "source": [
    "**Вывод**: первый тест показал, что средние пользовательские рейтинги платформ XOne и PС одинаковые. Результат второго теста: средние пользовательские рейтинги игр жанров Action и Sports отличаются."
   ]
  },
  {
   "cell_type": "markdown",
   "metadata": {},
   "source": [
    "# Выводы"
   ]
  },
  {
   "cell_type": "markdown",
   "metadata": {},
   "source": [
    "1. В результате исследовательского анализа данных было выявлено, что наиболее перспективными и популярными платформами к 2016 году были PS4 и XOne. Практически везде доминирует PS4. В США она обгоняет XOne незначительно, в то время как в Европе у нее бесуловное первенство. В отдельном регионе - Японии, самой популярной платформой является 3DS, что делает данный рынок уникальным.\n",
    "2. Самые прибыльные жанры почти по всему миру - экшн, шутер и спорт. В Японии ключевым жанром является РПГ.\n",
    "3. Наблюдается явная корреляция между рейтингом критиков игр и выручкой с их продажи. Причем такая корреляция не была обнаружена в случае с пользовательским рейтингом.\n",
    "4. Выручка с продаж игр распределена крайне неравномерно. Лишь небольшое количество игр имеют значительную выручку, в то время как другие собирают не так много денег.\n",
    "5. Наиболее популярный почти по всему возрастной рейтинг игр - Mature. В Японии самым популярным является рейтинг - Teen."
   ]
  }
 ],
 "metadata": {
  "ExecuteTimeLog": [
   {
    "duration": 443,
    "start_time": "2023-06-20T06:32:59.461Z"
   },
   {
    "duration": 178,
    "start_time": "2023-06-20T06:33:24.612Z"
   },
   {
    "duration": 28,
    "start_time": "2023-06-20T06:33:26.580Z"
   },
   {
    "duration": 12,
    "start_time": "2023-06-20T06:34:08.918Z"
   },
   {
    "duration": 14,
    "start_time": "2023-06-20T06:34:12.602Z"
   },
   {
    "duration": 12,
    "start_time": "2023-06-20T06:34:20.701Z"
   },
   {
    "duration": 18,
    "start_time": "2023-06-20T06:34:24.205Z"
   },
   {
    "duration": 61,
    "start_time": "2023-06-20T06:34:46.104Z"
   },
   {
    "duration": 4,
    "start_time": "2023-06-20T06:34:49.299Z"
   },
   {
    "duration": 11,
    "start_time": "2023-06-20T07:14:29.602Z"
   },
   {
    "duration": 44,
    "start_time": "2023-06-20T07:14:33.154Z"
   },
   {
    "duration": 3,
    "start_time": "2023-06-20T07:20:29.641Z"
   },
   {
    "duration": 3,
    "start_time": "2023-06-20T07:21:11.016Z"
   },
   {
    "duration": 23,
    "start_time": "2023-06-20T07:21:46.912Z"
   },
   {
    "duration": 21,
    "start_time": "2023-06-20T07:22:00.019Z"
   },
   {
    "duration": 10,
    "start_time": "2023-06-20T07:24:20.110Z"
   },
   {
    "duration": 7,
    "start_time": "2023-06-20T07:24:23.908Z"
   },
   {
    "duration": 10,
    "start_time": "2023-06-20T07:24:28.998Z"
   },
   {
    "duration": 7,
    "start_time": "2023-06-20T07:25:13.877Z"
   },
   {
    "duration": 3,
    "start_time": "2023-06-20T07:34:10.764Z"
   },
   {
    "duration": 18,
    "start_time": "2023-06-20T07:37:13.299Z"
   },
   {
    "duration": 14,
    "start_time": "2023-06-20T07:38:35.841Z"
   },
   {
    "duration": 5,
    "start_time": "2023-06-20T07:38:54.643Z"
   },
   {
    "duration": 29,
    "start_time": "2023-06-20T07:40:59.841Z"
   },
   {
    "duration": 14,
    "start_time": "2023-06-20T07:41:51.798Z"
   },
   {
    "duration": 7,
    "start_time": "2023-06-20T07:42:02.539Z"
   },
   {
    "duration": 6,
    "start_time": "2023-06-20T07:42:09.907Z"
   },
   {
    "duration": 9,
    "start_time": "2023-06-20T07:42:13.580Z"
   },
   {
    "duration": 7,
    "start_time": "2023-06-20T07:45:36.842Z"
   },
   {
    "duration": 16,
    "start_time": "2023-06-20T07:46:28.872Z"
   },
   {
    "duration": 7,
    "start_time": "2023-06-20T07:46:38.892Z"
   },
   {
    "duration": 7,
    "start_time": "2023-06-20T07:46:41.389Z"
   },
   {
    "duration": 13,
    "start_time": "2023-06-20T07:51:04.905Z"
   },
   {
    "duration": 17,
    "start_time": "2023-06-20T07:51:08.484Z"
   },
   {
    "duration": 7,
    "start_time": "2023-06-20T07:51:55.118Z"
   },
   {
    "duration": 8,
    "start_time": "2023-06-20T07:52:01.673Z"
   },
   {
    "duration": 15,
    "start_time": "2023-06-20T07:52:05.086Z"
   },
   {
    "duration": 40,
    "start_time": "2023-06-20T07:59:11.246Z"
   },
   {
    "duration": 10,
    "start_time": "2023-06-20T08:04:33.314Z"
   },
   {
    "duration": 89,
    "start_time": "2023-06-20T08:08:26.386Z"
   },
   {
    "duration": 113,
    "start_time": "2023-06-20T08:08:30.607Z"
   },
   {
    "duration": 4,
    "start_time": "2023-06-20T08:24:00.887Z"
   },
   {
    "duration": 8,
    "start_time": "2023-06-20T08:25:16.376Z"
   },
   {
    "duration": 4,
    "start_time": "2023-06-20T08:26:31.083Z"
   },
   {
    "duration": 5,
    "start_time": "2023-06-20T08:26:34.992Z"
   },
   {
    "duration": 38,
    "start_time": "2023-06-20T08:26:49.774Z"
   },
   {
    "duration": 8,
    "start_time": "2023-06-20T09:03:51.593Z"
   },
   {
    "duration": 617,
    "start_time": "2023-06-20T09:04:17.067Z"
   },
   {
    "duration": 23,
    "start_time": "2023-06-20T09:05:12.496Z"
   },
   {
    "duration": 10,
    "start_time": "2023-06-20T09:05:17.773Z"
   },
   {
    "duration": 175,
    "start_time": "2023-06-20T09:05:27.302Z"
   },
   {
    "duration": 23,
    "start_time": "2023-06-20T09:58:20.969Z"
   },
   {
    "duration": 9,
    "start_time": "2023-06-20T10:01:09.025Z"
   },
   {
    "duration": 13,
    "start_time": "2023-06-20T10:01:23.775Z"
   },
   {
    "duration": 9,
    "start_time": "2023-06-20T10:01:32.276Z"
   },
   {
    "duration": 13,
    "start_time": "2023-06-20T10:03:41.162Z"
   },
   {
    "duration": 7,
    "start_time": "2023-06-20T10:04:11.732Z"
   },
   {
    "duration": 8,
    "start_time": "2023-06-20T10:04:18.893Z"
   },
   {
    "duration": 34,
    "start_time": "2023-06-20T10:05:08.642Z"
   },
   {
    "duration": 6,
    "start_time": "2023-06-20T10:05:13.955Z"
   },
   {
    "duration": 45,
    "start_time": "2023-06-20T10:05:18.205Z"
   },
   {
    "duration": 19,
    "start_time": "2023-06-20T10:05:40.071Z"
   },
   {
    "duration": 27,
    "start_time": "2023-06-20T10:06:39.503Z"
   },
   {
    "duration": 103,
    "start_time": "2023-06-20T10:07:50.003Z"
   },
   {
    "duration": 125,
    "start_time": "2023-06-20T10:07:59.185Z"
   },
   {
    "duration": 24,
    "start_time": "2023-06-20T10:08:14.173Z"
   },
   {
    "duration": 3,
    "start_time": "2023-06-20T10:12:30.767Z"
   },
   {
    "duration": 14,
    "start_time": "2023-06-20T10:13:59.499Z"
   },
   {
    "duration": 14,
    "start_time": "2023-06-20T10:14:07.565Z"
   },
   {
    "duration": 1335,
    "start_time": "2023-06-20T10:14:36.250Z"
   },
   {
    "duration": 1492,
    "start_time": "2023-06-20T10:14:52.202Z"
   },
   {
    "duration": 1836,
    "start_time": "2023-06-20T10:15:04.203Z"
   },
   {
    "duration": 15,
    "start_time": "2023-06-20T10:15:53.515Z"
   },
   {
    "duration": 22,
    "start_time": "2023-06-20T10:15:59.486Z"
   },
   {
    "duration": 5,
    "start_time": "2023-06-20T10:16:04.926Z"
   },
   {
    "duration": 4,
    "start_time": "2023-06-20T10:16:12.904Z"
   },
   {
    "duration": 117,
    "start_time": "2023-06-20T10:16:28.817Z"
   },
   {
    "duration": 401,
    "start_time": "2023-06-20T10:16:43.560Z"
   },
   {
    "duration": 7,
    "start_time": "2023-06-20T10:18:31.501Z"
   },
   {
    "duration": 464,
    "start_time": "2023-06-20T10:18:34.889Z"
   },
   {
    "duration": 432,
    "start_time": "2023-06-20T10:19:13.278Z"
   },
   {
    "duration": 399,
    "start_time": "2023-06-20T10:23:35.520Z"
   },
   {
    "duration": 412,
    "start_time": "2023-06-20T10:25:37.395Z"
   },
   {
    "duration": 96,
    "start_time": "2023-06-20T10:37:21.441Z"
   },
   {
    "duration": 1300,
    "start_time": "2023-06-20T10:37:30.388Z"
   },
   {
    "duration": 9,
    "start_time": "2023-06-20T10:37:55.373Z"
   },
   {
    "duration": 5,
    "start_time": "2023-06-20T10:38:15.254Z"
   },
   {
    "duration": 22,
    "start_time": "2023-06-20T10:41:10.750Z"
   },
   {
    "duration": 14,
    "start_time": "2023-06-20T10:44:06.089Z"
   },
   {
    "duration": 6,
    "start_time": "2023-06-20T10:44:34.909Z"
   },
   {
    "duration": 17,
    "start_time": "2023-06-20T10:57:02.329Z"
   },
   {
    "duration": 20,
    "start_time": "2023-06-20T10:57:20.120Z"
   },
   {
    "duration": 21,
    "start_time": "2023-06-20T10:57:28.610Z"
   },
   {
    "duration": 1306,
    "start_time": "2023-06-20T11:21:24.014Z"
   },
   {
    "duration": 306,
    "start_time": "2023-06-20T11:21:38.503Z"
   },
   {
    "duration": 5,
    "start_time": "2023-06-20T11:22:23.319Z"
   },
   {
    "duration": 5,
    "start_time": "2023-06-20T11:22:34.431Z"
   },
   {
    "duration": 4,
    "start_time": "2023-06-20T11:22:34.964Z"
   },
   {
    "duration": 6,
    "start_time": "2023-06-20T11:22:35.001Z"
   },
   {
    "duration": 24,
    "start_time": "2023-06-20T11:22:35.102Z"
   },
   {
    "duration": 16,
    "start_time": "2023-06-20T11:22:35.132Z"
   },
   {
    "duration": 24,
    "start_time": "2023-06-20T11:22:35.158Z"
   },
   {
    "duration": 3,
    "start_time": "2023-06-20T11:22:35.305Z"
   },
   {
    "duration": 6,
    "start_time": "2023-06-20T11:22:35.324Z"
   },
   {
    "duration": 25,
    "start_time": "2023-06-20T11:22:35.355Z"
   },
   {
    "duration": 130,
    "start_time": "2023-06-20T11:22:35.501Z"
   },
   {
    "duration": 9,
    "start_time": "2023-06-20T11:22:35.634Z"
   },
   {
    "duration": 21,
    "start_time": "2023-06-20T11:22:35.658Z"
   },
   {
    "duration": 368,
    "start_time": "2023-06-20T11:22:35.681Z"
   },
   {
    "duration": 346,
    "start_time": "2023-06-20T11:22:36.051Z"
   },
   {
    "duration": 18,
    "start_time": "2023-06-20T11:22:36.399Z"
   },
   {
    "duration": 14,
    "start_time": "2023-06-20T11:22:36.420Z"
   },
   {
    "duration": 299,
    "start_time": "2023-06-20T11:22:36.435Z"
   },
   {
    "duration": 300,
    "start_time": "2023-06-20T11:22:43.829Z"
   },
   {
    "duration": 3,
    "start_time": "2023-06-20T11:22:49.938Z"
   },
   {
    "duration": 56,
    "start_time": "2023-06-20T11:22:50.121Z"
   },
   {
    "duration": 15,
    "start_time": "2023-06-20T11:22:50.300Z"
   },
   {
    "duration": 4,
    "start_time": "2023-06-20T11:22:50.459Z"
   },
   {
    "duration": 13,
    "start_time": "2023-06-20T11:22:50.825Z"
   },
   {
    "duration": 32,
    "start_time": "2023-06-20T11:22:52.089Z"
   },
   {
    "duration": 3,
    "start_time": "2023-06-20T11:22:53.730Z"
   },
   {
    "duration": 21,
    "start_time": "2023-06-20T11:22:54.157Z"
   },
   {
    "duration": 7,
    "start_time": "2023-06-20T11:22:55.058Z"
   },
   {
    "duration": 7,
    "start_time": "2023-06-20T11:22:55.835Z"
   },
   {
    "duration": 6,
    "start_time": "2023-06-20T11:22:56.595Z"
   },
   {
    "duration": 10,
    "start_time": "2023-06-20T11:22:59.901Z"
   },
   {
    "duration": 6,
    "start_time": "2023-06-20T11:23:01.839Z"
   },
   {
    "duration": 15,
    "start_time": "2023-06-20T11:23:04.843Z"
   },
   {
    "duration": 17,
    "start_time": "2023-06-20T11:23:04.893Z"
   },
   {
    "duration": 7,
    "start_time": "2023-06-20T11:23:04.912Z"
   },
   {
    "duration": 2,
    "start_time": "2023-06-20T11:23:05.041Z"
   },
   {
    "duration": 5,
    "start_time": "2023-06-20T11:23:05.098Z"
   },
   {
    "duration": 17,
    "start_time": "2023-06-20T11:23:05.112Z"
   },
   {
    "duration": 168,
    "start_time": "2023-06-20T11:23:05.621Z"
   },
   {
    "duration": 7,
    "start_time": "2023-06-20T11:23:06.366Z"
   },
   {
    "duration": 21,
    "start_time": "2023-06-20T11:23:06.395Z"
   },
   {
    "duration": 393,
    "start_time": "2023-06-20T11:23:06.431Z"
   },
   {
    "duration": 436,
    "start_time": "2023-06-20T11:23:06.826Z"
   },
   {
    "duration": 18,
    "start_time": "2023-06-20T11:23:07.264Z"
   },
   {
    "duration": 29,
    "start_time": "2023-06-20T11:23:07.285Z"
   },
   {
    "duration": 301,
    "start_time": "2023-06-20T11:23:07.315Z"
   },
   {
    "duration": 7,
    "start_time": "2023-06-20T11:23:36.372Z"
   },
   {
    "duration": 5,
    "start_time": "2023-06-20T11:23:41.526Z"
   },
   {
    "duration": 13,
    "start_time": "2023-06-20T11:24:29.297Z"
   },
   {
    "duration": 5,
    "start_time": "2023-06-20T11:24:31.120Z"
   },
   {
    "duration": 285,
    "start_time": "2023-06-20T11:24:31.594Z"
   },
   {
    "duration": 142,
    "start_time": "2023-06-20T11:25:10.498Z"
   },
   {
    "duration": 276,
    "start_time": "2023-06-20T11:25:19.528Z"
   },
   {
    "duration": 301,
    "start_time": "2023-06-20T11:43:12.640Z"
   },
   {
    "duration": 340,
    "start_time": "2023-06-20T11:43:23.516Z"
   },
   {
    "duration": 329,
    "start_time": "2023-06-20T11:43:35.730Z"
   },
   {
    "duration": 343,
    "start_time": "2023-06-20T11:46:06.886Z"
   },
   {
    "duration": 6,
    "start_time": "2023-06-20T11:46:20.458Z"
   },
   {
    "duration": 334,
    "start_time": "2023-06-20T11:46:23.010Z"
   },
   {
    "duration": 415,
    "start_time": "2023-06-20T11:49:40.138Z"
   },
   {
    "duration": 353,
    "start_time": "2023-06-20T11:51:03.937Z"
   },
   {
    "duration": 456,
    "start_time": "2023-06-20T12:08:51.456Z"
   },
   {
    "duration": 64,
    "start_time": "2023-06-20T12:11:18.138Z"
   },
   {
    "duration": 18,
    "start_time": "2023-06-20T12:12:29.264Z"
   },
   {
    "duration": 15,
    "start_time": "2023-06-20T12:15:20.610Z"
   },
   {
    "duration": 280,
    "start_time": "2023-06-20T12:15:25.501Z"
   },
   {
    "duration": 389,
    "start_time": "2023-06-20T12:15:37.144Z"
   },
   {
    "duration": 289,
    "start_time": "2023-06-20T12:15:45.601Z"
   },
   {
    "duration": 260,
    "start_time": "2023-06-20T12:17:29.637Z"
   },
   {
    "duration": 296,
    "start_time": "2023-06-20T12:18:18.472Z"
   },
   {
    "duration": 111,
    "start_time": "2023-06-20T12:39:05.091Z"
   },
   {
    "duration": 3,
    "start_time": "2023-06-20T12:44:04.695Z"
   },
   {
    "duration": 4,
    "start_time": "2023-06-20T12:44:11.810Z"
   },
   {
    "duration": 9,
    "start_time": "2023-06-20T12:45:17.625Z"
   },
   {
    "duration": 5,
    "start_time": "2023-06-20T12:46:01.934Z"
   },
   {
    "duration": 179,
    "start_time": "2023-06-20T12:46:07.896Z"
   },
   {
    "duration": 228,
    "start_time": "2023-06-20T12:46:26.699Z"
   },
   {
    "duration": 6,
    "start_time": "2023-06-20T12:47:19.942Z"
   },
   {
    "duration": 181,
    "start_time": "2023-06-20T12:48:24.430Z"
   },
   {
    "duration": 6,
    "start_time": "2023-06-20T12:48:37.099Z"
   },
   {
    "duration": 269,
    "start_time": "2023-06-20T12:49:36.544Z"
   },
   {
    "duration": 181,
    "start_time": "2023-06-20T12:50:00.323Z"
   },
   {
    "duration": 174,
    "start_time": "2023-06-20T12:50:32.567Z"
   },
   {
    "duration": 175,
    "start_time": "2023-06-20T12:50:44.986Z"
   },
   {
    "duration": 6,
    "start_time": "2023-06-20T12:50:58.086Z"
   },
   {
    "duration": 5,
    "start_time": "2023-06-20T12:51:09.048Z"
   },
   {
    "duration": 158,
    "start_time": "2023-06-20T13:04:31.573Z"
   },
   {
    "duration": 5,
    "start_time": "2023-06-20T13:04:41.226Z"
   },
   {
    "duration": 5,
    "start_time": "2023-06-20T13:05:01.323Z"
   },
   {
    "duration": 236,
    "start_time": "2023-06-20T13:05:18.361Z"
   },
   {
    "duration": 6,
    "start_time": "2023-06-20T13:05:54.363Z"
   },
   {
    "duration": 33,
    "start_time": "2023-06-20T13:08:12.648Z"
   },
   {
    "duration": 36,
    "start_time": "2023-06-20T13:12:57.444Z"
   },
   {
    "duration": 8,
    "start_time": "2023-06-20T13:13:20.201Z"
   },
   {
    "duration": 9,
    "start_time": "2023-06-20T13:13:41.697Z"
   },
   {
    "duration": 8,
    "start_time": "2023-06-20T13:13:59.676Z"
   },
   {
    "duration": 180,
    "start_time": "2023-06-20T13:14:07.721Z"
   },
   {
    "duration": 6,
    "start_time": "2023-06-20T13:15:32.254Z"
   },
   {
    "duration": 14,
    "start_time": "2023-06-20T13:16:02.248Z"
   },
   {
    "duration": 164,
    "start_time": "2023-06-20T13:16:06.393Z"
   },
   {
    "duration": 290,
    "start_time": "2023-06-20T13:16:24.300Z"
   },
   {
    "duration": 6,
    "start_time": "2023-06-20T13:20:15.150Z"
   },
   {
    "duration": 15,
    "start_time": "2023-06-20T13:20:21.956Z"
   },
   {
    "duration": 26,
    "start_time": "2023-06-20T13:20:53.585Z"
   },
   {
    "duration": 8,
    "start_time": "2023-06-20T13:21:17.936Z"
   },
   {
    "duration": 47,
    "start_time": "2023-06-21T05:52:09.889Z"
   },
   {
    "duration": 1341,
    "start_time": "2023-06-21T05:52:17.347Z"
   },
   {
    "duration": 195,
    "start_time": "2023-06-21T05:52:18.690Z"
   },
   {
    "duration": 18,
    "start_time": "2023-06-21T05:52:18.887Z"
   },
   {
    "duration": 4,
    "start_time": "2023-06-21T05:52:18.907Z"
   },
   {
    "duration": 25,
    "start_time": "2023-06-21T05:52:18.912Z"
   },
   {
    "duration": 32,
    "start_time": "2023-06-21T05:52:18.939Z"
   },
   {
    "duration": 3,
    "start_time": "2023-06-21T05:52:18.973Z"
   },
   {
    "duration": 18,
    "start_time": "2023-06-21T05:52:18.977Z"
   },
   {
    "duration": 4,
    "start_time": "2023-06-21T05:52:18.997Z"
   },
   {
    "duration": 9,
    "start_time": "2023-06-21T05:52:19.004Z"
   },
   {
    "duration": 14,
    "start_time": "2023-06-21T05:52:19.014Z"
   },
   {
    "duration": 23,
    "start_time": "2023-06-21T05:52:19.029Z"
   },
   {
    "duration": 27,
    "start_time": "2023-06-21T05:52:19.053Z"
   },
   {
    "duration": 16,
    "start_time": "2023-06-21T05:52:19.081Z"
   },
   {
    "duration": 16,
    "start_time": "2023-06-21T05:52:19.098Z"
   },
   {
    "duration": 9,
    "start_time": "2023-06-21T05:52:19.116Z"
   },
   {
    "duration": 3,
    "start_time": "2023-06-21T05:52:19.126Z"
   },
   {
    "duration": 13,
    "start_time": "2023-06-21T05:52:19.130Z"
   },
   {
    "duration": 38,
    "start_time": "2023-06-21T05:52:19.144Z"
   },
   {
    "duration": 150,
    "start_time": "2023-06-21T05:52:19.184Z"
   },
   {
    "duration": 8,
    "start_time": "2023-06-21T05:52:19.337Z"
   },
   {
    "duration": 35,
    "start_time": "2023-06-21T05:52:19.347Z"
   },
   {
    "duration": 392,
    "start_time": "2023-06-21T05:52:19.385Z"
   },
   {
    "duration": 346,
    "start_time": "2023-06-21T05:52:19.779Z"
   },
   {
    "duration": 17,
    "start_time": "2023-06-21T05:52:20.127Z"
   },
   {
    "duration": 21,
    "start_time": "2023-06-21T05:52:20.146Z"
   },
   {
    "duration": 275,
    "start_time": "2023-06-21T05:52:20.168Z"
   },
   {
    "duration": 267,
    "start_time": "2023-06-21T05:52:20.447Z"
   },
   {
    "duration": 4,
    "start_time": "2023-06-21T05:52:20.715Z"
   },
   {
    "duration": 269,
    "start_time": "2023-06-21T05:52:20.720Z"
   },
   {
    "duration": 4,
    "start_time": "2023-06-21T05:52:20.991Z"
   },
   {
    "duration": 210,
    "start_time": "2023-06-21T05:52:20.997Z"
   },
   {
    "duration": 4,
    "start_time": "2023-06-21T05:52:21.209Z"
   },
   {
    "duration": 168,
    "start_time": "2023-06-21T05:52:21.214Z"
   },
   {
    "duration": 5,
    "start_time": "2023-06-21T05:52:21.384Z"
   },
   {
    "duration": 175,
    "start_time": "2023-06-21T05:52:21.390Z"
   },
   {
    "duration": 5,
    "start_time": "2023-06-21T05:52:21.567Z"
   },
   {
    "duration": 38,
    "start_time": "2023-06-21T05:52:21.574Z"
   },
   {
    "duration": 210,
    "start_time": "2023-06-21T05:52:21.614Z"
   },
   {
    "duration": 23,
    "start_time": "2023-06-21T05:52:21.826Z"
   },
   {
    "duration": 64,
    "start_time": "2023-06-21T05:53:31.581Z"
   },
   {
    "duration": 7,
    "start_time": "2023-06-21T05:56:56.187Z"
   },
   {
    "duration": 65,
    "start_time": "2023-06-21T05:57:09.322Z"
   },
   {
    "duration": 11,
    "start_time": "2023-06-21T05:57:26.826Z"
   },
   {
    "duration": 108,
    "start_time": "2023-06-21T05:57:57.103Z"
   },
   {
    "duration": 12,
    "start_time": "2023-06-21T05:58:16.824Z"
   },
   {
    "duration": 13,
    "start_time": "2023-06-21T05:58:24.503Z"
   },
   {
    "duration": 16,
    "start_time": "2023-06-21T05:58:43.738Z"
   },
   {
    "duration": 14,
    "start_time": "2023-06-21T05:58:47.342Z"
   },
   {
    "duration": 8,
    "start_time": "2023-06-21T05:59:08.333Z"
   },
   {
    "duration": 163,
    "start_time": "2023-06-21T06:00:37.800Z"
   },
   {
    "duration": 156,
    "start_time": "2023-06-21T06:01:50.945Z"
   },
   {
    "duration": 337,
    "start_time": "2023-06-21T06:16:04.354Z"
   },
   {
    "duration": 328,
    "start_time": "2023-06-21T06:16:10.616Z"
   },
   {
    "duration": 516,
    "start_time": "2023-06-21T06:16:16.635Z"
   },
   {
    "duration": 381,
    "start_time": "2023-06-21T06:16:21.816Z"
   },
   {
    "duration": 63,
    "start_time": "2023-06-21T06:23:59.291Z"
   },
   {
    "duration": 437,
    "start_time": "2023-06-21T06:24:08.762Z"
   },
   {
    "duration": 431,
    "start_time": "2023-06-21T06:24:24.708Z"
   },
   {
    "duration": 80,
    "start_time": "2023-06-21T06:26:26.303Z"
   },
   {
    "duration": 436,
    "start_time": "2023-06-21T06:26:32.478Z"
   },
   {
    "duration": 540,
    "start_time": "2023-06-21T06:26:39.799Z"
   },
   {
    "duration": 452,
    "start_time": "2023-06-21T06:26:45.506Z"
   },
   {
    "duration": 476,
    "start_time": "2023-06-21T06:26:49.938Z"
   },
   {
    "duration": 493,
    "start_time": "2023-06-21T06:27:57.865Z"
   },
   {
    "duration": 577,
    "start_time": "2023-06-21T06:28:12.699Z"
   },
   {
    "duration": 477,
    "start_time": "2023-06-21T06:28:20.833Z"
   },
   {
    "duration": 604,
    "start_time": "2023-06-21T06:28:25.437Z"
   },
   {
    "duration": 498,
    "start_time": "2023-06-21T06:47:41.610Z"
   },
   {
    "duration": 557,
    "start_time": "2023-06-21T07:33:12.801Z"
   },
   {
    "duration": 10,
    "start_time": "2023-06-21T07:34:55.472Z"
   },
   {
    "duration": 37,
    "start_time": "2023-06-21T07:35:00.722Z"
   },
   {
    "duration": 578,
    "start_time": "2023-06-21T07:35:32.221Z"
   },
   {
    "duration": 496,
    "start_time": "2023-06-21T07:36:26.677Z"
   },
   {
    "duration": 80,
    "start_time": "2023-06-21T07:57:11.713Z"
   },
   {
    "duration": 30,
    "start_time": "2023-06-21T08:05:55.119Z"
   },
   {
    "duration": 5,
    "start_time": "2023-06-21T08:07:26.944Z"
   },
   {
    "duration": 25,
    "start_time": "2023-06-21T08:08:47.498Z"
   },
   {
    "duration": 23,
    "start_time": "2023-06-21T08:10:02.852Z"
   },
   {
    "duration": 4,
    "start_time": "2023-06-21T08:10:57.143Z"
   },
   {
    "duration": 26,
    "start_time": "2023-06-21T08:11:11.404Z"
   },
   {
    "duration": 24,
    "start_time": "2023-06-21T08:13:42.712Z"
   },
   {
    "duration": 9,
    "start_time": "2023-06-21T08:16:25.657Z"
   },
   {
    "duration": 10,
    "start_time": "2023-06-21T08:27:57.725Z"
   },
   {
    "duration": 28,
    "start_time": "2023-06-21T08:28:02.452Z"
   },
   {
    "duration": 19,
    "start_time": "2023-06-21T08:29:14.326Z"
   },
   {
    "duration": 15,
    "start_time": "2023-06-21T08:30:10.238Z"
   },
   {
    "duration": 24,
    "start_time": "2023-06-21T08:30:48.399Z"
   },
   {
    "duration": 13,
    "start_time": "2023-06-21T08:30:51.609Z"
   },
   {
    "duration": 13,
    "start_time": "2023-06-21T08:32:00.602Z"
   },
   {
    "duration": 12,
    "start_time": "2023-06-21T08:32:05.466Z"
   },
   {
    "duration": 12,
    "start_time": "2023-06-21T08:32:45.105Z"
   },
   {
    "duration": 12,
    "start_time": "2023-06-21T08:32:55.669Z"
   },
   {
    "duration": 12,
    "start_time": "2023-06-21T08:33:06.411Z"
   },
   {
    "duration": 118,
    "start_time": "2023-06-21T08:58:39.064Z"
   },
   {
    "duration": 17,
    "start_time": "2023-06-21T08:59:50.176Z"
   },
   {
    "duration": 18,
    "start_time": "2023-06-21T08:59:55.248Z"
   },
   {
    "duration": 11,
    "start_time": "2023-06-21T09:00:03.121Z"
   },
   {
    "duration": 9,
    "start_time": "2023-06-21T09:00:27.010Z"
   },
   {
    "duration": 24,
    "start_time": "2023-06-21T09:02:39.817Z"
   },
   {
    "duration": 17,
    "start_time": "2023-06-21T09:03:07.209Z"
   },
   {
    "duration": 24,
    "start_time": "2023-06-21T09:03:32.220Z"
   },
   {
    "duration": 4,
    "start_time": "2023-06-21T09:03:48.235Z"
   },
   {
    "duration": 9,
    "start_time": "2023-06-21T09:04:04.517Z"
   },
   {
    "duration": 16,
    "start_time": "2023-06-21T09:05:02.518Z"
   },
   {
    "duration": 7,
    "start_time": "2023-06-21T09:05:12.657Z"
   },
   {
    "duration": 11,
    "start_time": "2023-06-21T09:05:21.330Z"
   },
   {
    "duration": 6,
    "start_time": "2023-06-21T09:05:22.203Z"
   },
   {
    "duration": 12,
    "start_time": "2023-06-21T09:05:26.205Z"
   },
   {
    "duration": 16,
    "start_time": "2023-06-21T09:05:40.722Z"
   },
   {
    "duration": 25,
    "start_time": "2023-06-21T09:05:44.930Z"
   },
   {
    "duration": 20,
    "start_time": "2023-06-21T09:05:49.978Z"
   },
   {
    "duration": 16,
    "start_time": "2023-06-21T09:06:04.619Z"
   },
   {
    "duration": 77,
    "start_time": "2023-06-21T10:28:34.928Z"
   },
   {
    "duration": 1474,
    "start_time": "2023-06-21T11:00:50.421Z"
   },
   {
    "duration": 200,
    "start_time": "2023-06-21T11:00:51.897Z"
   },
   {
    "duration": 20,
    "start_time": "2023-06-21T11:00:52.099Z"
   },
   {
    "duration": 3,
    "start_time": "2023-06-21T11:00:52.122Z"
   },
   {
    "duration": 28,
    "start_time": "2023-06-21T11:00:52.127Z"
   },
   {
    "duration": 42,
    "start_time": "2023-06-21T11:00:52.157Z"
   },
   {
    "duration": 3,
    "start_time": "2023-06-21T11:00:52.201Z"
   },
   {
    "duration": 21,
    "start_time": "2023-06-21T11:00:52.205Z"
   },
   {
    "duration": 5,
    "start_time": "2023-06-21T11:00:52.228Z"
   },
   {
    "duration": 23,
    "start_time": "2023-06-21T11:00:52.235Z"
   },
   {
    "duration": 39,
    "start_time": "2023-06-21T11:00:52.260Z"
   },
   {
    "duration": 73,
    "start_time": "2023-06-21T11:00:52.301Z"
   },
   {
    "duration": 41,
    "start_time": "2023-06-21T11:00:52.376Z"
   },
   {
    "duration": 26,
    "start_time": "2023-06-21T11:00:52.420Z"
   },
   {
    "duration": 45,
    "start_time": "2023-06-21T11:00:52.448Z"
   },
   {
    "duration": 17,
    "start_time": "2023-06-21T11:00:52.494Z"
   },
   {
    "duration": 5,
    "start_time": "2023-06-21T11:00:52.513Z"
   },
   {
    "duration": 29,
    "start_time": "2023-06-21T11:00:52.520Z"
   },
   {
    "duration": 33,
    "start_time": "2023-06-21T11:00:52.551Z"
   },
   {
    "duration": 191,
    "start_time": "2023-06-21T11:00:52.585Z"
   },
   {
    "duration": 8,
    "start_time": "2023-06-21T11:00:52.778Z"
   },
   {
    "duration": 44,
    "start_time": "2023-06-21T11:00:52.788Z"
   },
   {
    "duration": 431,
    "start_time": "2023-06-21T11:00:52.834Z"
   },
   {
    "duration": 369,
    "start_time": "2023-06-21T11:00:53.274Z"
   },
   {
    "duration": 27,
    "start_time": "2023-06-21T11:00:53.645Z"
   },
   {
    "duration": 9,
    "start_time": "2023-06-21T11:00:53.673Z"
   },
   {
    "duration": 332,
    "start_time": "2023-06-21T11:00:53.684Z"
   },
   {
    "duration": 306,
    "start_time": "2023-06-21T11:00:54.019Z"
   },
   {
    "duration": 4,
    "start_time": "2023-06-21T11:00:54.327Z"
   },
   {
    "duration": 283,
    "start_time": "2023-06-21T11:00:54.333Z"
   },
   {
    "duration": 5,
    "start_time": "2023-06-21T11:00:54.618Z"
   },
   {
    "duration": 196,
    "start_time": "2023-06-21T11:00:54.625Z"
   },
   {
    "duration": 5,
    "start_time": "2023-06-21T11:00:54.823Z"
   },
   {
    "duration": 185,
    "start_time": "2023-06-21T11:00:54.830Z"
   },
   {
    "duration": 5,
    "start_time": "2023-06-21T11:00:55.017Z"
   },
   {
    "duration": 198,
    "start_time": "2023-06-21T11:00:55.024Z"
   },
   {
    "duration": 6,
    "start_time": "2023-06-21T11:00:55.224Z"
   },
   {
    "duration": 36,
    "start_time": "2023-06-21T11:00:55.232Z"
   },
   {
    "duration": 226,
    "start_time": "2023-06-21T11:00:55.270Z"
   },
   {
    "duration": 501,
    "start_time": "2023-06-21T11:00:55.497Z"
   },
   {
    "duration": 524,
    "start_time": "2023-06-21T11:00:56.000Z"
   },
   {
    "duration": 483,
    "start_time": "2023-06-21T11:00:56.526Z"
   },
   {
    "duration": 10,
    "start_time": "2023-06-21T11:00:57.012Z"
   },
   {
    "duration": 127,
    "start_time": "2023-06-21T11:00:57.023Z"
   },
   {
    "duration": 5,
    "start_time": "2023-06-21T11:00:57.156Z"
   },
   {
    "duration": 21,
    "start_time": "2023-06-21T11:00:57.163Z"
   },
   {
    "duration": 24,
    "start_time": "2023-06-21T11:00:57.186Z"
   },
   {
    "duration": 1438,
    "start_time": "2023-06-23T11:02:58.856Z"
   },
   {
    "duration": 182,
    "start_time": "2023-06-23T11:03:00.296Z"
   },
   {
    "duration": 20,
    "start_time": "2023-06-23T11:03:00.480Z"
   },
   {
    "duration": 33,
    "start_time": "2023-06-23T11:03:00.502Z"
   },
   {
    "duration": 70,
    "start_time": "2023-06-23T11:03:00.537Z"
   },
   {
    "duration": 68,
    "start_time": "2023-06-23T11:03:00.609Z"
   },
   {
    "duration": 3,
    "start_time": "2023-06-23T11:03:01.622Z"
   },
   {
    "duration": 19,
    "start_time": "2023-06-23T11:03:02.214Z"
   },
   {
    "duration": 5,
    "start_time": "2023-06-23T11:03:02.750Z"
   },
   {
    "duration": 5,
    "start_time": "2023-06-23T11:03:02.934Z"
   },
   {
    "duration": 6,
    "start_time": "2023-06-23T11:03:03.759Z"
   },
   {
    "duration": 9,
    "start_time": "2023-06-23T11:03:04.440Z"
   },
   {
    "duration": 5,
    "start_time": "2023-06-23T11:03:04.654Z"
   },
   {
    "duration": 12,
    "start_time": "2023-06-23T11:03:06.426Z"
   },
   {
    "duration": 17,
    "start_time": "2023-06-23T11:03:06.606Z"
   },
   {
    "duration": 9,
    "start_time": "2023-06-23T11:03:07.262Z"
   },
   {
    "duration": 4,
    "start_time": "2023-06-23T11:03:12.442Z"
   },
   {
    "duration": 6,
    "start_time": "2023-06-23T11:03:12.855Z"
   },
   {
    "duration": 15,
    "start_time": "2023-06-23T11:03:13.718Z"
   },
   {
    "duration": 2,
    "start_time": "2023-06-23T11:03:39.430Z"
   },
   {
    "duration": 18,
    "start_time": "2023-06-23T11:11:42.272Z"
   },
   {
    "duration": 21,
    "start_time": "2023-06-23T11:11:58.828Z"
   },
   {
    "duration": 99,
    "start_time": "2023-06-23T11:16:11.228Z"
   },
   {
    "duration": 22,
    "start_time": "2023-06-23T11:16:59.707Z"
   },
   {
    "duration": 28,
    "start_time": "2023-06-23T11:26:05.131Z"
   },
   {
    "duration": 24,
    "start_time": "2023-06-23T11:26:13.956Z"
   },
   {
    "duration": 11,
    "start_time": "2023-06-23T11:26:23.223Z"
   },
   {
    "duration": 18,
    "start_time": "2023-06-23T11:26:24.659Z"
   },
   {
    "duration": 157,
    "start_time": "2023-06-23T12:04:07.860Z"
   },
   {
    "duration": 140,
    "start_time": "2023-06-23T12:04:17.529Z"
   },
   {
    "duration": 8,
    "start_time": "2023-06-23T12:04:18.326Z"
   },
   {
    "duration": 21,
    "start_time": "2023-06-23T12:04:18.482Z"
   },
   {
    "duration": 381,
    "start_time": "2023-06-23T12:04:18.644Z"
   },
   {
    "duration": 367,
    "start_time": "2023-06-23T12:04:19.027Z"
   },
   {
    "duration": 17,
    "start_time": "2023-06-23T12:04:19.396Z"
   },
   {
    "duration": 8,
    "start_time": "2023-06-23T12:04:19.744Z"
   },
   {
    "duration": 280,
    "start_time": "2023-06-23T12:04:19.922Z"
   },
   {
    "duration": 349,
    "start_time": "2023-06-23T12:04:20.722Z"
   },
   {
    "duration": 279,
    "start_time": "2023-06-23T12:04:22.632Z"
   },
   {
    "duration": 306,
    "start_time": "2023-06-23T12:23:13.822Z"
   },
   {
    "duration": 286,
    "start_time": "2023-06-23T12:26:22.118Z"
   },
   {
    "duration": 323,
    "start_time": "2023-06-23T12:26:43.126Z"
   },
   {
    "duration": 300,
    "start_time": "2023-06-23T12:27:10.442Z"
   },
   {
    "duration": 442,
    "start_time": "2023-06-23T12:27:21.238Z"
   },
   {
    "duration": 139,
    "start_time": "2023-06-23T12:42:01.610Z"
   },
   {
    "duration": 10,
    "start_time": "2023-06-23T12:53:37.119Z"
   },
   {
    "duration": 14,
    "start_time": "2023-06-23T12:53:41.213Z"
   },
   {
    "duration": 139,
    "start_time": "2023-06-23T12:53:41.801Z"
   },
   {
    "duration": 4,
    "start_time": "2023-06-23T12:54:25.156Z"
   },
   {
    "duration": 7,
    "start_time": "2023-06-23T12:54:44.838Z"
   },
   {
    "duration": 153,
    "start_time": "2023-06-23T12:54:52.956Z"
   },
   {
    "duration": 115,
    "start_time": "2023-06-23T12:59:21.823Z"
   },
   {
    "duration": 9,
    "start_time": "2023-06-23T13:02:04.261Z"
   },
   {
    "duration": 126,
    "start_time": "2023-06-23T13:02:19.505Z"
   },
   {
    "duration": 7,
    "start_time": "2023-06-23T13:02:36.659Z"
   },
   {
    "duration": 164,
    "start_time": "2023-06-23T13:02:44.164Z"
   },
   {
    "duration": 112,
    "start_time": "2023-06-23T13:03:02.838Z"
   },
   {
    "duration": 1181,
    "start_time": "2023-06-23T13:54:56.098Z"
   },
   {
    "duration": 55,
    "start_time": "2023-06-23T13:54:57.281Z"
   },
   {
    "duration": 19,
    "start_time": "2023-06-23T13:54:57.338Z"
   },
   {
    "duration": 5,
    "start_time": "2023-06-23T13:54:57.359Z"
   },
   {
    "duration": 22,
    "start_time": "2023-06-23T13:54:57.366Z"
   },
   {
    "duration": 33,
    "start_time": "2023-06-23T13:54:57.390Z"
   },
   {
    "duration": 3,
    "start_time": "2023-06-23T13:54:57.424Z"
   },
   {
    "duration": 39,
    "start_time": "2023-06-23T13:54:57.429Z"
   },
   {
    "duration": 5,
    "start_time": "2023-06-23T13:54:57.469Z"
   },
   {
    "duration": 16,
    "start_time": "2023-06-23T13:54:57.476Z"
   },
   {
    "duration": 7,
    "start_time": "2023-06-23T13:54:57.494Z"
   },
   {
    "duration": 28,
    "start_time": "2023-06-23T13:54:57.502Z"
   },
   {
    "duration": 23,
    "start_time": "2023-06-23T13:54:57.532Z"
   },
   {
    "duration": 25,
    "start_time": "2023-06-23T13:54:57.559Z"
   },
   {
    "duration": 21,
    "start_time": "2023-06-23T13:54:57.586Z"
   },
   {
    "duration": 8,
    "start_time": "2023-06-23T13:54:57.608Z"
   },
   {
    "duration": 15,
    "start_time": "2023-06-23T13:54:57.618Z"
   },
   {
    "duration": 17,
    "start_time": "2023-06-23T13:54:57.634Z"
   },
   {
    "duration": 24,
    "start_time": "2023-06-23T13:54:57.653Z"
   },
   {
    "duration": 54,
    "start_time": "2023-06-23T13:54:57.679Z"
   },
   {
    "duration": 21,
    "start_time": "2023-06-23T13:54:57.735Z"
   },
   {
    "duration": 10,
    "start_time": "2023-06-23T13:54:57.758Z"
   },
   {
    "duration": 19,
    "start_time": "2023-06-23T13:54:57.770Z"
   },
   {
    "duration": 160,
    "start_time": "2023-06-23T13:54:57.791Z"
   },
   {
    "duration": 8,
    "start_time": "2023-06-23T13:54:57.956Z"
   },
   {
    "duration": 24,
    "start_time": "2023-06-23T13:54:57.966Z"
   },
   {
    "duration": 421,
    "start_time": "2023-06-23T13:54:57.992Z"
   },
   {
    "duration": 359,
    "start_time": "2023-06-23T13:54:58.416Z"
   },
   {
    "duration": 18,
    "start_time": "2023-06-23T13:54:58.777Z"
   },
   {
    "duration": 12,
    "start_time": "2023-06-23T13:54:58.800Z"
   },
   {
    "duration": 366,
    "start_time": "2023-06-23T13:54:58.814Z"
   },
   {
    "duration": 284,
    "start_time": "2023-06-23T13:54:59.182Z"
   },
   {
    "duration": 365,
    "start_time": "2023-06-23T13:54:59.467Z"
   },
   {
    "duration": 4,
    "start_time": "2023-06-23T13:54:59.834Z"
   },
   {
    "duration": 197,
    "start_time": "2023-06-23T13:54:59.839Z"
   },
   {
    "duration": 5,
    "start_time": "2023-06-23T13:55:00.038Z"
   },
   {
    "duration": 184,
    "start_time": "2023-06-23T13:55:00.056Z"
   },
   {
    "duration": 5,
    "start_time": "2023-06-23T13:55:00.242Z"
   },
   {
    "duration": 174,
    "start_time": "2023-06-23T13:55:00.256Z"
   },
   {
    "duration": 5,
    "start_time": "2023-06-23T13:55:00.432Z"
   },
   {
    "duration": 188,
    "start_time": "2023-06-23T13:55:00.441Z"
   },
   {
    "duration": 6,
    "start_time": "2023-06-23T13:55:00.630Z"
   },
   {
    "duration": 81,
    "start_time": "2023-06-23T13:55:00.638Z"
   },
   {
    "duration": 282,
    "start_time": "2023-06-23T13:55:00.721Z"
   },
   {
    "duration": 340,
    "start_time": "2023-06-23T13:55:01.005Z"
   },
   {
    "duration": 333,
    "start_time": "2023-06-23T13:55:01.347Z"
   },
   {
    "duration": 596,
    "start_time": "2023-06-23T13:55:01.682Z"
   },
   {
    "duration": 489,
    "start_time": "2023-06-23T13:55:02.280Z"
   },
   {
    "duration": 452,
    "start_time": "2023-06-23T13:55:02.772Z"
   },
   {
    "duration": 10,
    "start_time": "2023-06-23T13:55:03.226Z"
   },
   {
    "duration": 117,
    "start_time": "2023-06-23T13:55:03.237Z"
   },
   {
    "duration": 0,
    "start_time": "2023-06-23T13:55:03.355Z"
   },
   {
    "duration": 0,
    "start_time": "2023-06-23T13:55:03.357Z"
   },
   {
    "duration": 0,
    "start_time": "2023-06-23T13:55:03.358Z"
   },
   {
    "duration": 0,
    "start_time": "2023-06-23T13:55:03.359Z"
   },
   {
    "duration": 0,
    "start_time": "2023-06-23T13:55:03.360Z"
   },
   {
    "duration": 0,
    "start_time": "2023-06-23T13:55:03.361Z"
   },
   {
    "duration": 0,
    "start_time": "2023-06-23T13:55:03.362Z"
   },
   {
    "duration": 1,
    "start_time": "2023-06-23T13:55:03.363Z"
   },
   {
    "duration": 1190,
    "start_time": "2023-06-23T13:56:12.687Z"
   },
   {
    "duration": 51,
    "start_time": "2023-06-23T13:56:13.879Z"
   },
   {
    "duration": 20,
    "start_time": "2023-06-23T13:56:13.932Z"
   },
   {
    "duration": 4,
    "start_time": "2023-06-23T13:56:13.954Z"
   },
   {
    "duration": 16,
    "start_time": "2023-06-23T13:56:13.959Z"
   },
   {
    "duration": 27,
    "start_time": "2023-06-23T13:56:13.977Z"
   },
   {
    "duration": 3,
    "start_time": "2023-06-23T13:56:14.006Z"
   },
   {
    "duration": 18,
    "start_time": "2023-06-23T13:56:14.011Z"
   },
   {
    "duration": 28,
    "start_time": "2023-06-23T13:56:14.031Z"
   },
   {
    "duration": 7,
    "start_time": "2023-06-23T13:56:14.062Z"
   },
   {
    "duration": 17,
    "start_time": "2023-06-23T13:56:14.070Z"
   },
   {
    "duration": 17,
    "start_time": "2023-06-23T13:56:14.089Z"
   },
   {
    "duration": 20,
    "start_time": "2023-06-23T13:56:14.108Z"
   },
   {
    "duration": 160,
    "start_time": "2023-06-23T13:56:14.130Z"
   },
   {
    "duration": 47,
    "start_time": "2023-06-23T13:56:14.292Z"
   },
   {
    "duration": 9,
    "start_time": "2023-06-23T13:56:14.342Z"
   },
   {
    "duration": 4,
    "start_time": "2023-06-23T13:56:14.353Z"
   },
   {
    "duration": 24,
    "start_time": "2023-06-23T13:56:14.359Z"
   },
   {
    "duration": 22,
    "start_time": "2023-06-23T13:56:14.385Z"
   },
   {
    "duration": 35,
    "start_time": "2023-06-23T13:56:14.409Z"
   },
   {
    "duration": 22,
    "start_time": "2023-06-23T13:56:14.446Z"
   },
   {
    "duration": 30,
    "start_time": "2023-06-23T13:56:14.471Z"
   },
   {
    "duration": 29,
    "start_time": "2023-06-23T13:56:14.503Z"
   },
   {
    "duration": 160,
    "start_time": "2023-06-23T13:56:14.534Z"
   },
   {
    "duration": 8,
    "start_time": "2023-06-23T13:56:14.696Z"
   },
   {
    "duration": 35,
    "start_time": "2023-06-23T13:56:14.706Z"
   },
   {
    "duration": 383,
    "start_time": "2023-06-23T13:56:14.742Z"
   },
   {
    "duration": 369,
    "start_time": "2023-06-23T13:56:15.131Z"
   },
   {
    "duration": 19,
    "start_time": "2023-06-23T13:56:15.502Z"
   },
   {
    "duration": 35,
    "start_time": "2023-06-23T13:56:15.522Z"
   },
   {
    "duration": 287,
    "start_time": "2023-06-23T13:56:15.559Z"
   },
   {
    "duration": 283,
    "start_time": "2023-06-23T13:56:15.848Z"
   },
   {
    "duration": 373,
    "start_time": "2023-06-23T13:56:16.133Z"
   },
   {
    "duration": 4,
    "start_time": "2023-06-23T13:56:16.507Z"
   },
   {
    "duration": 181,
    "start_time": "2023-06-23T13:56:16.512Z"
   },
   {
    "duration": 5,
    "start_time": "2023-06-23T13:56:16.694Z"
   },
   {
    "duration": 190,
    "start_time": "2023-06-23T13:56:16.700Z"
   },
   {
    "duration": 4,
    "start_time": "2023-06-23T13:56:16.892Z"
   },
   {
    "duration": 167,
    "start_time": "2023-06-23T13:56:16.898Z"
   },
   {
    "duration": 5,
    "start_time": "2023-06-23T13:56:17.066Z"
   },
   {
    "duration": 177,
    "start_time": "2023-06-23T13:56:17.073Z"
   },
   {
    "duration": 5,
    "start_time": "2023-06-23T13:56:17.256Z"
   },
   {
    "duration": 25,
    "start_time": "2023-06-23T13:56:17.262Z"
   },
   {
    "duration": 223,
    "start_time": "2023-06-23T13:56:17.289Z"
   },
   {
    "duration": 298,
    "start_time": "2023-06-23T13:56:17.514Z"
   },
   {
    "duration": 320,
    "start_time": "2023-06-23T13:56:17.814Z"
   },
   {
    "duration": 574,
    "start_time": "2023-06-23T13:56:18.135Z"
   },
   {
    "duration": 556,
    "start_time": "2023-06-23T13:56:18.711Z"
   },
   {
    "duration": 474,
    "start_time": "2023-06-23T13:56:19.269Z"
   },
   {
    "duration": 15,
    "start_time": "2023-06-23T13:56:19.745Z"
   },
   {
    "duration": 156,
    "start_time": "2023-06-23T13:56:19.762Z"
   },
   {
    "duration": 157,
    "start_time": "2023-06-23T13:56:19.920Z"
   },
   {
    "duration": 10,
    "start_time": "2023-06-23T13:56:20.079Z"
   },
   {
    "duration": 18,
    "start_time": "2023-06-23T13:56:20.091Z"
   },
   {
    "duration": 14,
    "start_time": "2023-06-23T13:56:20.111Z"
   },
   {
    "duration": 137,
    "start_time": "2023-06-23T13:56:20.126Z"
   },
   {
    "duration": 133,
    "start_time": "2023-06-23T13:56:20.265Z"
   },
   {
    "duration": 10,
    "start_time": "2023-06-23T13:56:20.400Z"
   },
   {
    "duration": 1450,
    "start_time": "2023-09-05T13:20:30.555Z"
   },
   {
    "duration": 212,
    "start_time": "2023-09-05T13:20:32.007Z"
   },
   {
    "duration": 20,
    "start_time": "2023-09-05T13:20:32.222Z"
   },
   {
    "duration": 29,
    "start_time": "2023-09-05T13:20:32.246Z"
   },
   {
    "duration": 27,
    "start_time": "2023-09-05T13:20:32.277Z"
   },
   {
    "duration": 66,
    "start_time": "2023-09-05T13:20:32.306Z"
   },
   {
    "duration": 2,
    "start_time": "2023-09-05T13:20:32.588Z"
   },
   {
    "duration": 28,
    "start_time": "2023-09-05T13:20:32.738Z"
   },
   {
    "duration": 4,
    "start_time": "2023-09-05T13:20:33.180Z"
   },
   {
    "duration": 4,
    "start_time": "2023-09-05T13:20:33.321Z"
   },
   {
    "duration": 6,
    "start_time": "2023-09-05T13:20:33.719Z"
   },
   {
    "duration": 10,
    "start_time": "2023-09-05T13:20:34.096Z"
   },
   {
    "duration": 7,
    "start_time": "2023-09-05T13:20:34.271Z"
   },
   {
    "duration": 15,
    "start_time": "2023-09-05T13:20:35.018Z"
   },
   {
    "duration": 15,
    "start_time": "2023-09-05T13:20:35.179Z"
   },
   {
    "duration": 13,
    "start_time": "2023-09-05T13:20:35.554Z"
   },
   {
    "duration": 2,
    "start_time": "2023-09-05T13:20:36.661Z"
   },
   {
    "duration": 5,
    "start_time": "2023-09-05T13:20:36.828Z"
   },
   {
    "duration": 14,
    "start_time": "2023-09-05T13:20:37.176Z"
   },
   {
    "duration": 24,
    "start_time": "2023-09-05T13:20:38.658Z"
   },
   {
    "duration": 20,
    "start_time": "2023-09-05T13:20:38.966Z"
   },
   {
    "duration": 11,
    "start_time": "2023-09-05T13:20:39.318Z"
   },
   {
    "duration": 15,
    "start_time": "2023-09-05T13:20:39.495Z"
   },
   {
    "duration": 153,
    "start_time": "2023-09-05T13:20:40.253Z"
   },
   {
    "duration": 167,
    "start_time": "2023-09-05T13:21:45.993Z"
   },
   {
    "duration": 137,
    "start_time": "2023-09-05T13:21:57.594Z"
   },
   {
    "duration": 201,
    "start_time": "2023-09-05T13:22:14.591Z"
   },
   {
    "duration": 187,
    "start_time": "2023-09-05T13:23:41.033Z"
   }
  ],
  "kernelspec": {
   "display_name": "Python 3 (ipykernel)",
   "language": "python",
   "name": "python3"
  },
  "language_info": {
   "codemirror_mode": {
    "name": "ipython",
    "version": 3
   },
   "file_extension": ".py",
   "mimetype": "text/x-python",
   "name": "python",
   "nbconvert_exporter": "python",
   "pygments_lexer": "ipython3",
   "version": "3.9.7"
  },
  "toc": {
   "base_numbering": 1,
   "nav_menu": {},
   "number_sections": true,
   "sideBar": true,
   "skip_h1_title": true,
   "title_cell": "Table of Contents",
   "title_sidebar": "Contents",
   "toc_cell": false,
   "toc_position": {},
   "toc_section_display": true,
   "toc_window_display": false
  }
 },
 "nbformat": 4,
 "nbformat_minor": 2
}
